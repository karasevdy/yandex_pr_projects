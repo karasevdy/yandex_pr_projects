{
 "cells": [
  {
   "cell_type": "markdown",
   "metadata": {
    "toc": true
   },
   "source": [
    "<h1>Содержание<span class=\"tocSkip\"></span></h1>\n",
    "<div class=\"toc\"><ul class=\"toc-item\"><li><span><a href=\"#Подготовка-данных\" data-toc-modified-id=\"Подготовка-данных-1\"><span class=\"toc-item-num\">1&nbsp;&nbsp;</span>Подготовка данных</a></span></li><li><span><a href=\"#Исследование-задачи\" data-toc-modified-id=\"Исследование-задачи-2\"><span class=\"toc-item-num\">2&nbsp;&nbsp;</span>Исследование задачи</a></span></li><li><span><a href=\"#Борьба-с-дисбалансом\" data-toc-modified-id=\"Борьба-с-дисбалансом-3\"><span class=\"toc-item-num\">3&nbsp;&nbsp;</span>Борьба с дисбалансом</a></span><ul class=\"toc-item\"><li><span><a href=\"#Борьба-с-дисбалансом-путем-взвешивания-классов\" data-toc-modified-id=\"Борьба-с-дисбалансом-путем-взвешивания-классов-3.1\"><span class=\"toc-item-num\">3.1&nbsp;&nbsp;</span>Борьба с дисбалансом путем взвешивания классов</a></span></li><li><span><a href=\"#Борьба-с-дисбалансом-путем-upsampling-а\" data-toc-modified-id=\"Борьба-с-дисбалансом-путем-upsampling-а-3.2\"><span class=\"toc-item-num\">3.2&nbsp;&nbsp;</span>Борьба с дисбалансом путем upsampling-а</a></span></li><li><span><a href=\"#Выбор-лучшей-модели\" data-toc-modified-id=\"Выбор-лучшей-модели-3.3\"><span class=\"toc-item-num\">3.3&nbsp;&nbsp;</span>Выбор лучшей модели</a></span></li><li><span><a href=\"#ROC-AUC\" data-toc-modified-id=\"ROC-AUC-3.4\"><span class=\"toc-item-num\">3.4&nbsp;&nbsp;</span>ROC-AUC</a></span></li></ul></li><li><span><a href=\"#Тестирование-модели\" data-toc-modified-id=\"Тестирование-модели-4\"><span class=\"toc-item-num\">4&nbsp;&nbsp;</span>Тестирование модели</a></span></li><li><span><a href=\"#Чек-лист-готовности-проекта\" data-toc-modified-id=\"Чек-лист-готовности-проекта-5\"><span class=\"toc-item-num\">5&nbsp;&nbsp;</span>Чек-лист готовности проекта</a></span></li></ul></div>"
   ]
  },
  {
   "cell_type": "markdown",
   "metadata": {},
   "source": [
    "# Отток клиентов"
   ]
  },
  {
   "cell_type": "markdown",
   "metadata": {},
   "source": [
    "Из «Бета-Банка» стали уходить клиенты. Каждый месяц. Немного, но заметно. Банковские маркетологи посчитали: сохранять текущих клиентов дешевле, чем привлекать новых.\n",
    "\n",
    "Нужно спрогнозировать, уйдёт клиент из банка в ближайшее время или нет. Вам предоставлены исторические данные о поведении клиентов и расторжении договоров с банком. \n",
    "\n",
    "Постройте модель с предельно большим значением *F1*-меры. Чтобы сдать проект успешно, нужно довести метрику до 0.59. Проверьте *F1*-меру на тестовой выборке самостоятельно.\n",
    "\n",
    "Дополнительно измеряйте *AUC-ROC*, сравнивайте её значение с *F1*-мерой.\n",
    "\n",
    "Источник данных: [https://www.kaggle.com/barelydedicated/bank-customer-churn-modeling](https://www.kaggle.com/barelydedicated/bank-customer-churn-modeling)"
   ]
  },
  {
   "cell_type": "markdown",
   "metadata": {},
   "source": [
    "## Подготовка данных"
   ]
  },
  {
   "cell_type": "code",
   "execution_count": 297,
   "metadata": {},
   "outputs": [],
   "source": [
    "# скачивание пакетов\n",
    "import pandas as pd\n",
    "import numpy as np\n",
    "import matplotlib.pyplot as plt\n",
    "import seaborn as sns\n",
    "\n",
    "from sklearn.model_selection import train_test_split # разбивка выборки на обучающую и валидационную\n",
    "from sklearn.preprocessing import StandardScaler # масштабирование\n",
    "from sklearn.utils import shuffle # смешиватель для upsamplera \n",
    "from sklearn.metrics import f1_score # метрика f1\n",
    "from sklearn.metrics import roc_auc_score # метрика ROC-AUC\n",
    "# В отличие от других метрик, на вход она принимает не предсказания, а вероятности класса «1».\n",
    "# roc_auc_score(target_valid, probabilities_one_valid)\n",
    "from sklearn.linear_model import LogisticRegression # логистическая регрессия\n",
    "from sklearn.tree import DecisionTreeClassifier # решающее дерево\n",
    "from sklearn.ensemble import RandomForestClassifier # случайный лес"
   ]
  },
  {
   "cell_type": "code",
   "execution_count": 298,
   "metadata": {},
   "outputs": [],
   "source": [
    "# скачивание данных\n",
    "df = pd.read_csv('/datasets/Churn.csv')"
   ]
  },
  {
   "cell_type": "code",
   "execution_count": 299,
   "metadata": {
    "scrolled": false
   },
   "outputs": [
    {
     "data": {
      "text/html": [
       "<div>\n",
       "<style scoped>\n",
       "    .dataframe tbody tr th:only-of-type {\n",
       "        vertical-align: middle;\n",
       "    }\n",
       "\n",
       "    .dataframe tbody tr th {\n",
       "        vertical-align: top;\n",
       "    }\n",
       "\n",
       "    .dataframe thead th {\n",
       "        text-align: right;\n",
       "    }\n",
       "</style>\n",
       "<table border=\"1\" class=\"dataframe\">\n",
       "  <thead>\n",
       "    <tr style=\"text-align: right;\">\n",
       "      <th></th>\n",
       "      <th>RowNumber</th>\n",
       "      <th>CustomerId</th>\n",
       "      <th>Surname</th>\n",
       "      <th>CreditScore</th>\n",
       "      <th>Geography</th>\n",
       "      <th>Gender</th>\n",
       "      <th>Age</th>\n",
       "      <th>Tenure</th>\n",
       "      <th>Balance</th>\n",
       "      <th>NumOfProducts</th>\n",
       "      <th>HasCrCard</th>\n",
       "      <th>IsActiveMember</th>\n",
       "      <th>EstimatedSalary</th>\n",
       "      <th>Exited</th>\n",
       "    </tr>\n",
       "  </thead>\n",
       "  <tbody>\n",
       "    <tr>\n",
       "      <th>4318</th>\n",
       "      <td>4319</td>\n",
       "      <td>15803685</td>\n",
       "      <td>Greco</td>\n",
       "      <td>673</td>\n",
       "      <td>Germany</td>\n",
       "      <td>Female</td>\n",
       "      <td>77</td>\n",
       "      <td>10.0</td>\n",
       "      <td>76510.52</td>\n",
       "      <td>2</td>\n",
       "      <td>0</td>\n",
       "      <td>1</td>\n",
       "      <td>59595.66</td>\n",
       "      <td>0</td>\n",
       "    </tr>\n",
       "    <tr>\n",
       "      <th>1087</th>\n",
       "      <td>1088</td>\n",
       "      <td>15696098</td>\n",
       "      <td>Palermo</td>\n",
       "      <td>498</td>\n",
       "      <td>France</td>\n",
       "      <td>Female</td>\n",
       "      <td>31</td>\n",
       "      <td>10.0</td>\n",
       "      <td>0.00</td>\n",
       "      <td>2</td>\n",
       "      <td>1</td>\n",
       "      <td>0</td>\n",
       "      <td>13892.57</td>\n",
       "      <td>0</td>\n",
       "    </tr>\n",
       "    <tr>\n",
       "      <th>9214</th>\n",
       "      <td>9215</td>\n",
       "      <td>15812893</td>\n",
       "      <td>Costa</td>\n",
       "      <td>629</td>\n",
       "      <td>France</td>\n",
       "      <td>Female</td>\n",
       "      <td>39</td>\n",
       "      <td>NaN</td>\n",
       "      <td>0.00</td>\n",
       "      <td>2</td>\n",
       "      <td>1</td>\n",
       "      <td>1</td>\n",
       "      <td>43174.49</td>\n",
       "      <td>1</td>\n",
       "    </tr>\n",
       "    <tr>\n",
       "      <th>5120</th>\n",
       "      <td>5121</td>\n",
       "      <td>15701176</td>\n",
       "      <td>Brown</td>\n",
       "      <td>663</td>\n",
       "      <td>France</td>\n",
       "      <td>Male</td>\n",
       "      <td>26</td>\n",
       "      <td>NaN</td>\n",
       "      <td>141462.13</td>\n",
       "      <td>1</td>\n",
       "      <td>1</td>\n",
       "      <td>0</td>\n",
       "      <td>440.20</td>\n",
       "      <td>0</td>\n",
       "    </tr>\n",
       "    <tr>\n",
       "      <th>64</th>\n",
       "      <td>65</td>\n",
       "      <td>15592461</td>\n",
       "      <td>Jackson</td>\n",
       "      <td>603</td>\n",
       "      <td>Germany</td>\n",
       "      <td>Male</td>\n",
       "      <td>26</td>\n",
       "      <td>4.0</td>\n",
       "      <td>109166.37</td>\n",
       "      <td>1</td>\n",
       "      <td>1</td>\n",
       "      <td>1</td>\n",
       "      <td>92840.67</td>\n",
       "      <td>0</td>\n",
       "    </tr>\n",
       "    <tr>\n",
       "      <th>2838</th>\n",
       "      <td>2839</td>\n",
       "      <td>15646196</td>\n",
       "      <td>Yeh</td>\n",
       "      <td>850</td>\n",
       "      <td>Spain</td>\n",
       "      <td>Female</td>\n",
       "      <td>36</td>\n",
       "      <td>2.0</td>\n",
       "      <td>155180.56</td>\n",
       "      <td>2</td>\n",
       "      <td>0</td>\n",
       "      <td>0</td>\n",
       "      <td>169415.54</td>\n",
       "      <td>0</td>\n",
       "    </tr>\n",
       "    <tr>\n",
       "      <th>4391</th>\n",
       "      <td>4392</td>\n",
       "      <td>15742404</td>\n",
       "      <td>McGregor</td>\n",
       "      <td>718</td>\n",
       "      <td>France</td>\n",
       "      <td>Male</td>\n",
       "      <td>38</td>\n",
       "      <td>7.0</td>\n",
       "      <td>0.00</td>\n",
       "      <td>2</td>\n",
       "      <td>1</td>\n",
       "      <td>0</td>\n",
       "      <td>38308.34</td>\n",
       "      <td>0</td>\n",
       "    </tr>\n",
       "    <tr>\n",
       "      <th>7373</th>\n",
       "      <td>7374</td>\n",
       "      <td>15716347</td>\n",
       "      <td>Griffin</td>\n",
       "      <td>663</td>\n",
       "      <td>Germany</td>\n",
       "      <td>Male</td>\n",
       "      <td>37</td>\n",
       "      <td>NaN</td>\n",
       "      <td>143625.83</td>\n",
       "      <td>2</td>\n",
       "      <td>0</td>\n",
       "      <td>1</td>\n",
       "      <td>176487.05</td>\n",
       "      <td>0</td>\n",
       "    </tr>\n",
       "    <tr>\n",
       "      <th>4063</th>\n",
       "      <td>4064</td>\n",
       "      <td>15575691</td>\n",
       "      <td>Palerma</td>\n",
       "      <td>689</td>\n",
       "      <td>France</td>\n",
       "      <td>Female</td>\n",
       "      <td>58</td>\n",
       "      <td>5.0</td>\n",
       "      <td>0.00</td>\n",
       "      <td>2</td>\n",
       "      <td>0</td>\n",
       "      <td>1</td>\n",
       "      <td>49848.86</td>\n",
       "      <td>0</td>\n",
       "    </tr>\n",
       "    <tr>\n",
       "      <th>1462</th>\n",
       "      <td>1463</td>\n",
       "      <td>15566211</td>\n",
       "      <td>Hsu</td>\n",
       "      <td>616</td>\n",
       "      <td>Germany</td>\n",
       "      <td>Female</td>\n",
       "      <td>41</td>\n",
       "      <td>1.0</td>\n",
       "      <td>103560.57</td>\n",
       "      <td>1</td>\n",
       "      <td>1</td>\n",
       "      <td>0</td>\n",
       "      <td>236.45</td>\n",
       "      <td>1</td>\n",
       "    </tr>\n",
       "  </tbody>\n",
       "</table>\n",
       "</div>"
      ],
      "text/plain": [
       "      RowNumber  CustomerId   Surname  CreditScore Geography  Gender  Age  \\\n",
       "4318       4319    15803685     Greco          673   Germany  Female   77   \n",
       "1087       1088    15696098   Palermo          498    France  Female   31   \n",
       "9214       9215    15812893     Costa          629    France  Female   39   \n",
       "5120       5121    15701176     Brown          663    France    Male   26   \n",
       "64           65    15592461   Jackson          603   Germany    Male   26   \n",
       "2838       2839    15646196       Yeh          850     Spain  Female   36   \n",
       "4391       4392    15742404  McGregor          718    France    Male   38   \n",
       "7373       7374    15716347   Griffin          663   Germany    Male   37   \n",
       "4063       4064    15575691   Palerma          689    France  Female   58   \n",
       "1462       1463    15566211       Hsu          616   Germany  Female   41   \n",
       "\n",
       "      Tenure    Balance  NumOfProducts  HasCrCard  IsActiveMember  \\\n",
       "4318    10.0   76510.52              2          0               1   \n",
       "1087    10.0       0.00              2          1               0   \n",
       "9214     NaN       0.00              2          1               1   \n",
       "5120     NaN  141462.13              1          1               0   \n",
       "64       4.0  109166.37              1          1               1   \n",
       "2838     2.0  155180.56              2          0               0   \n",
       "4391     7.0       0.00              2          1               0   \n",
       "7373     NaN  143625.83              2          0               1   \n",
       "4063     5.0       0.00              2          0               1   \n",
       "1462     1.0  103560.57              1          1               0   \n",
       "\n",
       "      EstimatedSalary  Exited  \n",
       "4318         59595.66       0  \n",
       "1087         13892.57       0  \n",
       "9214         43174.49       1  \n",
       "5120           440.20       0  \n",
       "64           92840.67       0  \n",
       "2838        169415.54       0  \n",
       "4391         38308.34       0  \n",
       "7373        176487.05       0  \n",
       "4063         49848.86       0  \n",
       "1462           236.45       1  "
      ]
     },
     "metadata": {},
     "output_type": "display_data"
    }
   ],
   "source": [
    "#посмотрим\n",
    "display(df.sample(10))"
   ]
  },
  {
   "cell_type": "code",
   "execution_count": 300,
   "metadata": {},
   "outputs": [],
   "source": [
    "# заголовки к нижнему регистру\n",
    "df.columns = df.columns.str.lower() "
   ]
  },
  {
   "cell_type": "code",
   "execution_count": 301,
   "metadata": {
    "scrolled": true
   },
   "outputs": [
    {
     "name": "stdout",
     "output_type": "stream",
     "text": [
      "2037 клиентов, которые ушли, в датафрейме\n",
      "7963 клиентов, которые остались, в датафрейме\n"
     ]
    }
   ],
   "source": [
    "print(df[df['exited'] == 1]['customerid'].shape[0], 'клиентов, которые ушли, в датафрейме')\n",
    "print(df[df['exited'] == 0]['customerid'].shape[0], 'клиентов, которые остались, в датафрейме')"
   ]
  },
  {
   "cell_type": "markdown",
   "metadata": {},
   "source": [
    "Клиентов, которые ушли, в датафрейме в 4 раза меньше, чем тех, которые остались. Понадобится балансировка."
   ]
  },
  {
   "cell_type": "code",
   "execution_count": 302,
   "metadata": {
    "scrolled": true
   },
   "outputs": [
    {
     "name": "stdout",
     "output_type": "stream",
     "text": [
      "<class 'pandas.core.frame.DataFrame'>\n",
      "RangeIndex: 10000 entries, 0 to 9999\n",
      "Data columns (total 14 columns):\n",
      " #   Column           Non-Null Count  Dtype  \n",
      "---  ------           --------------  -----  \n",
      " 0   rownumber        10000 non-null  int64  \n",
      " 1   customerid       10000 non-null  int64  \n",
      " 2   surname          10000 non-null  object \n",
      " 3   creditscore      10000 non-null  int64  \n",
      " 4   geography        10000 non-null  object \n",
      " 5   gender           10000 non-null  object \n",
      " 6   age              10000 non-null  int64  \n",
      " 7   tenure           9091 non-null   float64\n",
      " 8   balance          10000 non-null  float64\n",
      " 9   numofproducts    10000 non-null  int64  \n",
      " 10  hascrcard        10000 non-null  int64  \n",
      " 11  isactivemember   10000 non-null  int64  \n",
      " 12  estimatedsalary  10000 non-null  float64\n",
      " 13  exited           10000 non-null  int64  \n",
      "dtypes: float64(3), int64(8), object(3)\n",
      "memory usage: 1.1+ MB\n"
     ]
    }
   ],
   "source": [
    "# проверим нет ли пропусков\n",
    "df.info()"
   ]
  },
  {
   "cell_type": "markdown",
   "metadata": {},
   "source": []
  },
  {
   "cell_type": "code",
   "execution_count": 303,
   "metadata": {},
   "outputs": [
    {
     "data": {
      "text/html": [
       "<div>\n",
       "<style scoped>\n",
       "    .dataframe tbody tr th:only-of-type {\n",
       "        vertical-align: middle;\n",
       "    }\n",
       "\n",
       "    .dataframe tbody tr th {\n",
       "        vertical-align: top;\n",
       "    }\n",
       "\n",
       "    .dataframe thead th {\n",
       "        text-align: right;\n",
       "    }\n",
       "</style>\n",
       "<table border=\"1\" class=\"dataframe\">\n",
       "  <thead>\n",
       "    <tr style=\"text-align: right;\">\n",
       "      <th></th>\n",
       "      <th>rownumber</th>\n",
       "      <th>customerid</th>\n",
       "      <th>creditscore</th>\n",
       "      <th>age</th>\n",
       "      <th>tenure</th>\n",
       "      <th>balance</th>\n",
       "      <th>numofproducts</th>\n",
       "      <th>hascrcard</th>\n",
       "      <th>isactivemember</th>\n",
       "      <th>estimatedsalary</th>\n",
       "      <th>exited</th>\n",
       "    </tr>\n",
       "  </thead>\n",
       "  <tbody>\n",
       "    <tr>\n",
       "      <th>count</th>\n",
       "      <td>10000.00000</td>\n",
       "      <td>1.000000e+04</td>\n",
       "      <td>10000.000000</td>\n",
       "      <td>10000.000000</td>\n",
       "      <td>9091.000000</td>\n",
       "      <td>10000.000000</td>\n",
       "      <td>10000.000000</td>\n",
       "      <td>10000.00000</td>\n",
       "      <td>10000.000000</td>\n",
       "      <td>10000.000000</td>\n",
       "      <td>10000.000000</td>\n",
       "    </tr>\n",
       "    <tr>\n",
       "      <th>mean</th>\n",
       "      <td>5000.50000</td>\n",
       "      <td>1.569094e+07</td>\n",
       "      <td>650.528800</td>\n",
       "      <td>38.921800</td>\n",
       "      <td>4.997690</td>\n",
       "      <td>76485.889288</td>\n",
       "      <td>1.530200</td>\n",
       "      <td>0.70550</td>\n",
       "      <td>0.515100</td>\n",
       "      <td>100090.239881</td>\n",
       "      <td>0.203700</td>\n",
       "    </tr>\n",
       "    <tr>\n",
       "      <th>std</th>\n",
       "      <td>2886.89568</td>\n",
       "      <td>7.193619e+04</td>\n",
       "      <td>96.653299</td>\n",
       "      <td>10.487806</td>\n",
       "      <td>2.894723</td>\n",
       "      <td>62397.405202</td>\n",
       "      <td>0.581654</td>\n",
       "      <td>0.45584</td>\n",
       "      <td>0.499797</td>\n",
       "      <td>57510.492818</td>\n",
       "      <td>0.402769</td>\n",
       "    </tr>\n",
       "    <tr>\n",
       "      <th>min</th>\n",
       "      <td>1.00000</td>\n",
       "      <td>1.556570e+07</td>\n",
       "      <td>350.000000</td>\n",
       "      <td>18.000000</td>\n",
       "      <td>0.000000</td>\n",
       "      <td>0.000000</td>\n",
       "      <td>1.000000</td>\n",
       "      <td>0.00000</td>\n",
       "      <td>0.000000</td>\n",
       "      <td>11.580000</td>\n",
       "      <td>0.000000</td>\n",
       "    </tr>\n",
       "    <tr>\n",
       "      <th>25%</th>\n",
       "      <td>2500.75000</td>\n",
       "      <td>1.562853e+07</td>\n",
       "      <td>584.000000</td>\n",
       "      <td>32.000000</td>\n",
       "      <td>2.000000</td>\n",
       "      <td>0.000000</td>\n",
       "      <td>1.000000</td>\n",
       "      <td>0.00000</td>\n",
       "      <td>0.000000</td>\n",
       "      <td>51002.110000</td>\n",
       "      <td>0.000000</td>\n",
       "    </tr>\n",
       "    <tr>\n",
       "      <th>50%</th>\n",
       "      <td>5000.50000</td>\n",
       "      <td>1.569074e+07</td>\n",
       "      <td>652.000000</td>\n",
       "      <td>37.000000</td>\n",
       "      <td>5.000000</td>\n",
       "      <td>97198.540000</td>\n",
       "      <td>1.000000</td>\n",
       "      <td>1.00000</td>\n",
       "      <td>1.000000</td>\n",
       "      <td>100193.915000</td>\n",
       "      <td>0.000000</td>\n",
       "    </tr>\n",
       "    <tr>\n",
       "      <th>75%</th>\n",
       "      <td>7500.25000</td>\n",
       "      <td>1.575323e+07</td>\n",
       "      <td>718.000000</td>\n",
       "      <td>44.000000</td>\n",
       "      <td>7.000000</td>\n",
       "      <td>127644.240000</td>\n",
       "      <td>2.000000</td>\n",
       "      <td>1.00000</td>\n",
       "      <td>1.000000</td>\n",
       "      <td>149388.247500</td>\n",
       "      <td>0.000000</td>\n",
       "    </tr>\n",
       "    <tr>\n",
       "      <th>max</th>\n",
       "      <td>10000.00000</td>\n",
       "      <td>1.581569e+07</td>\n",
       "      <td>850.000000</td>\n",
       "      <td>92.000000</td>\n",
       "      <td>10.000000</td>\n",
       "      <td>250898.090000</td>\n",
       "      <td>4.000000</td>\n",
       "      <td>1.00000</td>\n",
       "      <td>1.000000</td>\n",
       "      <td>199992.480000</td>\n",
       "      <td>1.000000</td>\n",
       "    </tr>\n",
       "  </tbody>\n",
       "</table>\n",
       "</div>"
      ],
      "text/plain": [
       "         rownumber    customerid   creditscore           age       tenure  \\\n",
       "count  10000.00000  1.000000e+04  10000.000000  10000.000000  9091.000000   \n",
       "mean    5000.50000  1.569094e+07    650.528800     38.921800     4.997690   \n",
       "std     2886.89568  7.193619e+04     96.653299     10.487806     2.894723   \n",
       "min        1.00000  1.556570e+07    350.000000     18.000000     0.000000   \n",
       "25%     2500.75000  1.562853e+07    584.000000     32.000000     2.000000   \n",
       "50%     5000.50000  1.569074e+07    652.000000     37.000000     5.000000   \n",
       "75%     7500.25000  1.575323e+07    718.000000     44.000000     7.000000   \n",
       "max    10000.00000  1.581569e+07    850.000000     92.000000    10.000000   \n",
       "\n",
       "             balance  numofproducts    hascrcard  isactivemember  \\\n",
       "count   10000.000000   10000.000000  10000.00000    10000.000000   \n",
       "mean    76485.889288       1.530200      0.70550        0.515100   \n",
       "std     62397.405202       0.581654      0.45584        0.499797   \n",
       "min         0.000000       1.000000      0.00000        0.000000   \n",
       "25%         0.000000       1.000000      0.00000        0.000000   \n",
       "50%     97198.540000       1.000000      1.00000        1.000000   \n",
       "75%    127644.240000       2.000000      1.00000        1.000000   \n",
       "max    250898.090000       4.000000      1.00000        1.000000   \n",
       "\n",
       "       estimatedsalary        exited  \n",
       "count     10000.000000  10000.000000  \n",
       "mean     100090.239881      0.203700  \n",
       "std       57510.492818      0.402769  \n",
       "min          11.580000      0.000000  \n",
       "25%       51002.110000      0.000000  \n",
       "50%      100193.915000      0.000000  \n",
       "75%      149388.247500      0.000000  \n",
       "max      199992.480000      1.000000  "
      ]
     },
     "execution_count": 303,
     "metadata": {},
     "output_type": "execute_result"
    }
   ],
   "source": [
    "# проверим нет ли отрицательных значений\n",
    "df.describe()"
   ]
  },
  {
   "cell_type": "code",
   "execution_count": 304,
   "metadata": {},
   "outputs": [
    {
     "data": {
      "text/plain": [
       "array(['Abazu', 'Abbie', 'Abbott', ..., 'Zuev', 'Zuyev', 'Zuyeva'],\n",
       "      dtype=object)"
      ]
     },
     "execution_count": 304,
     "metadata": {},
     "output_type": "execute_result"
    }
   ],
   "source": [
    "# есть ли дубликаты в фамилиях\n",
    "df['surname'].sort_values().unique()\n",
    "# есть и дубликаты и пропуски типа \"H?\", но этот столбец не важен"
   ]
  },
  {
   "cell_type": "markdown",
   "metadata": {},
   "source": [
    "Есть 1000 пропусков tenure. Их можно заполнить средними (или медианой, т.к. совпадают). Или удалить строки с пропусками в tenure. Первый вариант предпочтительнее, т.к. это 10% от df. Необходимо посмотреть как они распределены. \n",
    "<br><br>\n",
    "Отрицательных значений нет. \n",
    "<br><br>\n",
    "Переменные \"rownumber\", \"customerid\", \"surname\" никак не помогут в создании модели классификатора. Их можно удалить из df.  "
   ]
  },
  {
   "cell_type": "code",
   "execution_count": 305,
   "metadata": {
    "scrolled": true
   },
   "outputs": [],
   "source": [
    "# pip install pandas-profiling"
   ]
  },
  {
   "cell_type": "code",
   "execution_count": 306,
   "metadata": {
    "scrolled": false
   },
   "outputs": [],
   "source": [
    "# import pandas_profiling\n",
    "# df.profile_report()"
   ]
  },
  {
   "cell_type": "code",
   "execution_count": 307,
   "metadata": {},
   "outputs": [
    {
     "data": {
      "image/png": "[encoded data removed]",
      "text/plain": [
       "<Figure size 1080x1440 with 12 Axes>"
      ]
     },
     "metadata": {},
     "output_type": "display_data"
    }
   ],
   "source": [
    "df.hist(figsize=(15, 20));"
   ]
  },
  {
   "cell_type": "code",
   "execution_count": 308,
   "metadata": {},
   "outputs": [],
   "source": [
    "# заполним пропуски в tenure медианой \n",
    "# df['tenure'] = df['tenure'].fillna(value=5.0)"
   ]
  },
  {
   "cell_type": "code",
   "execution_count": 309,
   "metadata": {},
   "outputs": [],
   "source": [
    "import random\n",
    "# df['tenure'].fillna(lambda x: random.choice(df[df['tenure'] != np.nan]['tenure']), inplace =True)\n",
    "# df['tenure'].fillna(random.choice(df['tenure'][df['tenure'].notna()]), inplace=True\n",
    "# df['tenure'].fillna(random.choice(df['tenure'][df['tenure'].notna()]), inplace=True)"
   ]
  },
  {
   "cell_type": "code",
   "execution_count": 310,
   "metadata": {},
   "outputs": [],
   "source": [
    "# заполним пропуски случайным значением в диапазоне \n",
    "df['tenure'] = df['tenure'].fillna(pd.Series(np.random.randint(1, 11, size=len(df['tenure'].isna()))))"
   ]
  },
  {
   "cell_type": "code",
   "execution_count": 312,
   "metadata": {},
   "outputs": [
    {
     "data": {
      "image/png": "[encoded data removed]",
      "text/plain": [
       "<Figure size 432x288 with 1 Axes>"
      ]
     },
     "metadata": {},
     "output_type": "display_data"
    }
   ],
   "source": [
    "df.plot(kind='hist', y='tenure', bins=10, grid=True, legend=True);"
   ]
  },
  {
   "cell_type": "code",
   "execution_count": 313,
   "metadata": {},
   "outputs": [],
   "source": [
    "# tenure к целочисленному типу, т.к. видно, что дробных значений не принимает\n",
    "# (вероятно округлен до года)\n",
    "df['tenure'] = df['tenure'].astype('int')"
   ]
  },
  {
   "cell_type": "code",
   "execution_count": 314,
   "metadata": {},
   "outputs": [
    {
     "name": "stdout",
     "output_type": "stream",
     "text": [
      "0\n"
     ]
    }
   ],
   "source": [
    "# проверим, что все пропуски заполнены\n",
    "print(df['tenure'].isna().sum())"
   ]
  },
  {
   "cell_type": "code",
   "execution_count": 315,
   "metadata": {},
   "outputs": [],
   "source": [
    "# удалим бесполезные для модели столбцы \n",
    "df = df.drop(columns=['rownumber', 'customerid', 'surname']) "
   ]
  },
  {
   "cell_type": "code",
   "execution_count": 316,
   "metadata": {
    "scrolled": true
   },
   "outputs": [
    {
     "data": {
      "text/html": [
       "<div>\n",
       "<style scoped>\n",
       "    .dataframe tbody tr th:only-of-type {\n",
       "        vertical-align: middle;\n",
       "    }\n",
       "\n",
       "    .dataframe tbody tr th {\n",
       "        vertical-align: top;\n",
       "    }\n",
       "\n",
       "    .dataframe thead th {\n",
       "        text-align: right;\n",
       "    }\n",
       "</style>\n",
       "<table border=\"1\" class=\"dataframe\">\n",
       "  <thead>\n",
       "    <tr style=\"text-align: right;\">\n",
       "      <th></th>\n",
       "      <th>creditscore</th>\n",
       "      <th>geography</th>\n",
       "      <th>gender</th>\n",
       "      <th>age</th>\n",
       "      <th>tenure</th>\n",
       "      <th>balance</th>\n",
       "      <th>numofproducts</th>\n",
       "      <th>hascrcard</th>\n",
       "      <th>isactivemember</th>\n",
       "      <th>estimatedsalary</th>\n",
       "      <th>exited</th>\n",
       "    </tr>\n",
       "  </thead>\n",
       "  <tbody>\n",
       "    <tr>\n",
       "      <th>6186</th>\n",
       "      <td>618</td>\n",
       "      <td>France</td>\n",
       "      <td>Male</td>\n",
       "      <td>37</td>\n",
       "      <td>5</td>\n",
       "      <td>0.00</td>\n",
       "      <td>1</td>\n",
       "      <td>0</td>\n",
       "      <td>1</td>\n",
       "      <td>178705.45</td>\n",
       "      <td>1</td>\n",
       "    </tr>\n",
       "    <tr>\n",
       "      <th>1290</th>\n",
       "      <td>653</td>\n",
       "      <td>Germany</td>\n",
       "      <td>Male</td>\n",
       "      <td>31</td>\n",
       "      <td>9</td>\n",
       "      <td>143321.97</td>\n",
       "      <td>1</td>\n",
       "      <td>1</td>\n",
       "      <td>0</td>\n",
       "      <td>83679.46</td>\n",
       "      <td>0</td>\n",
       "    </tr>\n",
       "    <tr>\n",
       "      <th>1468</th>\n",
       "      <td>691</td>\n",
       "      <td>France</td>\n",
       "      <td>Male</td>\n",
       "      <td>52</td>\n",
       "      <td>3</td>\n",
       "      <td>0.00</td>\n",
       "      <td>1</td>\n",
       "      <td>1</td>\n",
       "      <td>0</td>\n",
       "      <td>175843.68</td>\n",
       "      <td>1</td>\n",
       "    </tr>\n",
       "    <tr>\n",
       "      <th>3722</th>\n",
       "      <td>619</td>\n",
       "      <td>France</td>\n",
       "      <td>Male</td>\n",
       "      <td>25</td>\n",
       "      <td>4</td>\n",
       "      <td>0.00</td>\n",
       "      <td>1</td>\n",
       "      <td>1</td>\n",
       "      <td>0</td>\n",
       "      <td>145524.36</td>\n",
       "      <td>0</td>\n",
       "    </tr>\n",
       "    <tr>\n",
       "      <th>4239</th>\n",
       "      <td>636</td>\n",
       "      <td>France</td>\n",
       "      <td>Female</td>\n",
       "      <td>39</td>\n",
       "      <td>3</td>\n",
       "      <td>118336.14</td>\n",
       "      <td>1</td>\n",
       "      <td>1</td>\n",
       "      <td>0</td>\n",
       "      <td>184691.77</td>\n",
       "      <td>0</td>\n",
       "    </tr>\n",
       "    <tr>\n",
       "      <th>2622</th>\n",
       "      <td>627</td>\n",
       "      <td>Germany</td>\n",
       "      <td>Male</td>\n",
       "      <td>27</td>\n",
       "      <td>0</td>\n",
       "      <td>185267.45</td>\n",
       "      <td>2</td>\n",
       "      <td>1</td>\n",
       "      <td>1</td>\n",
       "      <td>77027.34</td>\n",
       "      <td>0</td>\n",
       "    </tr>\n",
       "    <tr>\n",
       "      <th>8473</th>\n",
       "      <td>770</td>\n",
       "      <td>France</td>\n",
       "      <td>Female</td>\n",
       "      <td>33</td>\n",
       "      <td>6</td>\n",
       "      <td>0.00</td>\n",
       "      <td>2</td>\n",
       "      <td>1</td>\n",
       "      <td>1</td>\n",
       "      <td>126131.90</td>\n",
       "      <td>0</td>\n",
       "    </tr>\n",
       "    <tr>\n",
       "      <th>3513</th>\n",
       "      <td>790</td>\n",
       "      <td>France</td>\n",
       "      <td>Female</td>\n",
       "      <td>33</td>\n",
       "      <td>10</td>\n",
       "      <td>135120.72</td>\n",
       "      <td>1</td>\n",
       "      <td>0</td>\n",
       "      <td>0</td>\n",
       "      <td>195204.99</td>\n",
       "      <td>0</td>\n",
       "    </tr>\n",
       "    <tr>\n",
       "      <th>5918</th>\n",
       "      <td>600</td>\n",
       "      <td>Germany</td>\n",
       "      <td>Male</td>\n",
       "      <td>28</td>\n",
       "      <td>2</td>\n",
       "      <td>116623.31</td>\n",
       "      <td>1</td>\n",
       "      <td>0</td>\n",
       "      <td>1</td>\n",
       "      <td>59905.29</td>\n",
       "      <td>0</td>\n",
       "    </tr>\n",
       "    <tr>\n",
       "      <th>980</th>\n",
       "      <td>594</td>\n",
       "      <td>France</td>\n",
       "      <td>Male</td>\n",
       "      <td>27</td>\n",
       "      <td>0</td>\n",
       "      <td>197041.80</td>\n",
       "      <td>1</td>\n",
       "      <td>0</td>\n",
       "      <td>0</td>\n",
       "      <td>151912.49</td>\n",
       "      <td>0</td>\n",
       "    </tr>\n",
       "  </tbody>\n",
       "</table>\n",
       "</div>"
      ],
      "text/plain": [
       "      creditscore geography  gender  age  tenure    balance  numofproducts  \\\n",
       "6186          618    France    Male   37       5       0.00              1   \n",
       "1290          653   Germany    Male   31       9  143321.97              1   \n",
       "1468          691    France    Male   52       3       0.00              1   \n",
       "3722          619    France    Male   25       4       0.00              1   \n",
       "4239          636    France  Female   39       3  118336.14              1   \n",
       "2622          627   Germany    Male   27       0  185267.45              2   \n",
       "8473          770    France  Female   33       6       0.00              2   \n",
       "3513          790    France  Female   33      10  135120.72              1   \n",
       "5918          600   Germany    Male   28       2  116623.31              1   \n",
       "980           594    France    Male   27       0  197041.80              1   \n",
       "\n",
       "      hascrcard  isactivemember  estimatedsalary  exited  \n",
       "6186          0               1        178705.45       1  \n",
       "1290          1               0         83679.46       0  \n",
       "1468          1               0        175843.68       1  \n",
       "3722          1               0        145524.36       0  \n",
       "4239          1               0        184691.77       0  \n",
       "2622          1               1         77027.34       0  \n",
       "8473          1               1        126131.90       0  \n",
       "3513          0               0        195204.99       0  \n",
       "5918          0               1         59905.29       0  \n",
       "980           0               0        151912.49       0  "
      ]
     },
     "metadata": {},
     "output_type": "display_data"
    }
   ],
   "source": [
    "display(df.sample(10))"
   ]
  },
  {
   "cell_type": "code",
   "execution_count": 317,
   "metadata": {
    "scrolled": true
   },
   "outputs": [
    {
     "data": {
      "text/plain": [
       "<AxesSubplot:>"
      ]
     },
     "execution_count": 317,
     "metadata": {},
     "output_type": "execute_result"
    },
    {
     "data": {
      "image/png": "[encoded data removed]",
      "text/plain": [
       "<Figure size 720x360 with 2 Axes>"
      ]
     },
     "metadata": {},
     "output_type": "display_data"
    }
   ],
   "source": [
    "# проверим нет ли корреляций между параметрами\n",
    "sns.set(font_scale=1.15)\n",
    "plt.figure(figsize=(10,5))\n",
    "sns.heatmap(\n",
    "    df.corr(),        \n",
    "    cmap='RdBu', \n",
    "    annot=True, \n",
    "    vmin=-1, vmax=1)"
   ]
  },
  {
   "cell_type": "markdown",
   "metadata": {},
   "source": [
    "Слабая отрицательная корреляция м-ду balance и numofproduct: -0.3, чем больше денег, тем меньше продуктов исопльзуется (вероятно, отпадают кредитные продукты). У 36% клиентов на балансе 0, а продукты какие-то могут быть, по всей очевидности это вносит большой вклад в отрицательную корреляцияю.\n",
    "<br><br>\n",
    "Слабая положительная м-ду age и exited: 0.29, чем дольше живещь, тем больше банков попробуешь. Это не проблема т.к. это целевой параметр и параметр."
   ]
  },
  {
   "cell_type": "markdown",
   "metadata": {},
   "source": [
    "## Исследование задачи"
   ]
  },
  {
   "cell_type": "code",
   "execution_count": 318,
   "metadata": {
    "scrolled": true
   },
   "outputs": [
    {
     "name": "stdout",
     "output_type": "stream",
     "text": [
      "<class 'pandas.core.frame.DataFrame'>\n",
      "RangeIndex: 10000 entries, 0 to 9999\n",
      "Data columns (total 11 columns):\n",
      " #   Column           Non-Null Count  Dtype  \n",
      "---  ------           --------------  -----  \n",
      " 0   creditscore      10000 non-null  int64  \n",
      " 1   geography        10000 non-null  object \n",
      " 2   gender           10000 non-null  object \n",
      " 3   age              10000 non-null  int64  \n",
      " 4   tenure           10000 non-null  int64  \n",
      " 5   balance          10000 non-null  float64\n",
      " 6   numofproducts    10000 non-null  int64  \n",
      " 7   hascrcard        10000 non-null  int64  \n",
      " 8   isactivemember   10000 non-null  int64  \n",
      " 9   estimatedsalary  10000 non-null  float64\n",
      " 10  exited           10000 non-null  int64  \n",
      "dtypes: float64(2), int64(7), object(2)\n",
      "memory usage: 859.5+ KB\n"
     ]
    }
   ],
   "source": [
    "df.info()"
   ]
  },
  {
   "cell_type": "markdown",
   "metadata": {},
   "source": [
    "Чтобы не было утечки данных, масштабирование необходимо делать после разделения df на обучающую, валидационную и тестовую выборки. Функцию масштабирования обучать на обучающих признаках и применять к остальным. \n",
    "<br><br> "
   ]
  },
  {
   "cell_type": "code",
   "execution_count": 319,
   "metadata": {
    "scrolled": true
   },
   "outputs": [],
   "source": [
    "# перекодирование данных методом OHE, избегая ловушки дамми-переменных\n",
    "\n",
    "df_ohe = pd.get_dummies(df, drop_first=True)\n",
    "target = df_ohe['exited']\n",
    "features = df_ohe.drop('exited', axis=1)\n"
   ]
  },
  {
   "cell_type": "code",
   "execution_count": 320,
   "metadata": {},
   "outputs": [
    {
     "name": "stdout",
     "output_type": "stream",
     "text": [
      "(6000, 11)\n",
      "(2000, 11)\n",
      "(2000, 11)\n"
     ]
    }
   ],
   "source": [
    "# разобьем df на обучающую выборку и временную, которую затем разобъем на валидационную и тестовую\n",
    "# в пропорции (60%, 20% и 20%, соответственно)\n",
    "features_train, features_split, target_train, target_split = train_test_split(features, target, test_size=0.4, random_state=12345, stratify=target)\n",
    "\n",
    "features_valid, features_test, target_valid, target_test = train_test_split(features_split, target_split, test_size=0.5, random_state=12345, stratify=target_split)\n",
    "\n",
    "print(features_train.shape)\n",
    "print(features_valid.shape)\n",
    "print(features_test.shape)"
   ]
  },
  {
   "cell_type": "code",
   "execution_count": 321,
   "metadata": {
    "scrolled": true
   },
   "outputs": [
    {
     "name": "stderr",
     "output_type": "stream",
     "text": [
      "/tmp/ipykernel_31/1077688093.py:5: SettingWithCopyWarning: \n",
      "A value is trying to be set on a copy of a slice from a DataFrame.\n",
      "Try using .loc[row_indexer,col_indexer] = value instead\n",
      "\n",
      "See the caveats in the documentation: https://pandas.pydata.org/pandas-docs/stable/user_guide/indexing.html#returning-a-view-versus-a-copy\n",
      "  features_train[numeric] = scaler.transform(features_train[numeric])\n",
      "/opt/conda/lib/python3.9/site-packages/pandas/core/indexing.py:1738: SettingWithCopyWarning: \n",
      "A value is trying to be set on a copy of a slice from a DataFrame.\n",
      "Try using .loc[row_indexer,col_indexer] = value instead\n",
      "\n",
      "See the caveats in the documentation: https://pandas.pydata.org/pandas-docs/stable/user_guide/indexing.html#returning-a-view-versus-a-copy\n",
      "  self._setitem_single_column(loc, value[:, i].tolist(), pi)\n",
      "/tmp/ipykernel_31/1077688093.py:6: SettingWithCopyWarning: \n",
      "A value is trying to be set on a copy of a slice from a DataFrame.\n",
      "Try using .loc[row_indexer,col_indexer] = value instead\n",
      "\n",
      "See the caveats in the documentation: https://pandas.pydata.org/pandas-docs/stable/user_guide/indexing.html#returning-a-view-versus-a-copy\n",
      "  features_valid[numeric] = scaler.transform(features_valid[numeric])\n",
      "/opt/conda/lib/python3.9/site-packages/pandas/core/indexing.py:1738: SettingWithCopyWarning: \n",
      "A value is trying to be set on a copy of a slice from a DataFrame.\n",
      "Try using .loc[row_indexer,col_indexer] = value instead\n",
      "\n",
      "See the caveats in the documentation: https://pandas.pydata.org/pandas-docs/stable/user_guide/indexing.html#returning-a-view-versus-a-copy\n",
      "  self._setitem_single_column(loc, value[:, i].tolist(), pi)\n",
      "/tmp/ipykernel_31/1077688093.py:7: SettingWithCopyWarning: \n",
      "A value is trying to be set on a copy of a slice from a DataFrame.\n",
      "Try using .loc[row_indexer,col_indexer] = value instead\n",
      "\n",
      "See the caveats in the documentation: https://pandas.pydata.org/pandas-docs/stable/user_guide/indexing.html#returning-a-view-versus-a-copy\n",
      "  features_test[numeric] = scaler.transform(features_test[numeric])\n",
      "/opt/conda/lib/python3.9/site-packages/pandas/core/indexing.py:1738: SettingWithCopyWarning: \n",
      "A value is trying to be set on a copy of a slice from a DataFrame.\n",
      "Try using .loc[row_indexer,col_indexer] = value instead\n",
      "\n",
      "See the caveats in the documentation: https://pandas.pydata.org/pandas-docs/stable/user_guide/indexing.html#returning-a-view-versus-a-copy\n",
      "  self._setitem_single_column(loc, value[:, i].tolist(), pi)\n"
     ]
    },
    {
     "data": {
      "text/html": [
       "<div>\n",
       "<style scoped>\n",
       "    .dataframe tbody tr th:only-of-type {\n",
       "        vertical-align: middle;\n",
       "    }\n",
       "\n",
       "    .dataframe tbody tr th {\n",
       "        vertical-align: top;\n",
       "    }\n",
       "\n",
       "    .dataframe thead th {\n",
       "        text-align: right;\n",
       "    }\n",
       "</style>\n",
       "<table border=\"1\" class=\"dataframe\">\n",
       "  <thead>\n",
       "    <tr style=\"text-align: right;\">\n",
       "      <th></th>\n",
       "      <th>creditscore</th>\n",
       "      <th>age</th>\n",
       "      <th>tenure</th>\n",
       "      <th>balance</th>\n",
       "      <th>numofproducts</th>\n",
       "      <th>hascrcard</th>\n",
       "      <th>isactivemember</th>\n",
       "      <th>estimatedsalary</th>\n",
       "      <th>geography_Germany</th>\n",
       "      <th>geography_Spain</th>\n",
       "      <th>gender_Male</th>\n",
       "    </tr>\n",
       "  </thead>\n",
       "  <tbody>\n",
       "    <tr>\n",
       "      <th>6612</th>\n",
       "      <td>-1.524838</td>\n",
       "      <td>2.383160</td>\n",
       "      <td>-0.708733</td>\n",
       "      <td>1.011655</td>\n",
       "      <td>-0.914708</td>\n",
       "      <td>0</td>\n",
       "      <td>1</td>\n",
       "      <td>0.010275</td>\n",
       "      <td>0</td>\n",
       "      <td>0</td>\n",
       "      <td>0</td>\n",
       "    </tr>\n",
       "    <tr>\n",
       "      <th>519</th>\n",
       "      <td>0.587990</td>\n",
       "      <td>1.811221</td>\n",
       "      <td>0.328690</td>\n",
       "      <td>0.213192</td>\n",
       "      <td>-0.914708</td>\n",
       "      <td>0</td>\n",
       "      <td>1</td>\n",
       "      <td>0.453089</td>\n",
       "      <td>0</td>\n",
       "      <td>0</td>\n",
       "      <td>1</td>\n",
       "    </tr>\n",
       "    <tr>\n",
       "      <th>1609</th>\n",
       "      <td>-0.318980</td>\n",
       "      <td>-0.381213</td>\n",
       "      <td>1.020306</td>\n",
       "      <td>0.893896</td>\n",
       "      <td>-0.914708</td>\n",
       "      <td>1</td>\n",
       "      <td>0</td>\n",
       "      <td>-0.603508</td>\n",
       "      <td>0</td>\n",
       "      <td>0</td>\n",
       "      <td>0</td>\n",
       "    </tr>\n",
       "    <tr>\n",
       "      <th>3475</th>\n",
       "      <td>1.226991</td>\n",
       "      <td>-0.762506</td>\n",
       "      <td>-0.362925</td>\n",
       "      <td>-0.240363</td>\n",
       "      <td>0.820981</td>\n",
       "      <td>1</td>\n",
       "      <td>1</td>\n",
       "      <td>-1.621460</td>\n",
       "      <td>0</td>\n",
       "      <td>0</td>\n",
       "      <td>1</td>\n",
       "    </tr>\n",
       "    <tr>\n",
       "      <th>2707</th>\n",
       "      <td>-0.133464</td>\n",
       "      <td>-0.095244</td>\n",
       "      <td>-0.708733</td>\n",
       "      <td>0.447305</td>\n",
       "      <td>-0.914708</td>\n",
       "      <td>0</td>\n",
       "      <td>0</td>\n",
       "      <td>0.338574</td>\n",
       "      <td>0</td>\n",
       "      <td>0</td>\n",
       "      <td>0</td>\n",
       "    </tr>\n",
       "  </tbody>\n",
       "</table>\n",
       "</div>"
      ],
      "text/plain": [
       "      creditscore       age    tenure   balance  numofproducts  hascrcard  \\\n",
       "6612    -1.524838  2.383160 -0.708733  1.011655      -0.914708          0   \n",
       "519      0.587990  1.811221  0.328690  0.213192      -0.914708          0   \n",
       "1609    -0.318980 -0.381213  1.020306  0.893896      -0.914708          1   \n",
       "3475     1.226991 -0.762506 -0.362925 -0.240363       0.820981          1   \n",
       "2707    -0.133464 -0.095244 -0.708733  0.447305      -0.914708          0   \n",
       "\n",
       "      isactivemember  estimatedsalary  geography_Germany  geography_Spain  \\\n",
       "6612               1         0.010275                  0                0   \n",
       "519                1         0.453089                  0                0   \n",
       "1609               0        -0.603508                  0                0   \n",
       "3475               1        -1.621460                  0                0   \n",
       "2707               0         0.338574                  0                0   \n",
       "\n",
       "      gender_Male  \n",
       "6612            0  \n",
       "519             1  \n",
       "1609            0  \n",
       "3475            1  \n",
       "2707            0  "
      ]
     },
     "metadata": {},
     "output_type": "display_data"
    }
   ],
   "source": [
    "# масштабирование\n",
    "numeric = ['creditscore', 'age', 'tenure', 'balance', 'numofproducts', 'estimatedsalary']\n",
    "scaler = StandardScaler()\n",
    "scaler.fit(features_train[numeric])\n",
    "features_train[numeric] = scaler.transform(features_train[numeric])\n",
    "features_valid[numeric] = scaler.transform(features_valid[numeric])\n",
    "features_test[numeric] = scaler.transform(features_test[numeric])\n",
    "\n",
    "display(features_valid.head())"
   ]
  },
  {
   "cell_type": "code",
   "execution_count": 322,
   "metadata": {
    "scrolled": true
   },
   "outputs": [
    {
     "data": {
      "text/plain": [
       "<AxesSubplot:>"
      ]
     },
     "execution_count": 322,
     "metadata": {},
     "output_type": "execute_result"
    },
    {
     "data": {
      "image/png": "[encoded data removed]",
      "text/plain": [
       "<Figure size 432x288 with 1 Axes>"
      ]
     },
     "metadata": {},
     "output_type": "display_data"
    }
   ],
   "source": [
    "# посмотрим какая доля ушедших клиентов в итоге осталась в обучающей выборке\n",
    "# в четыре раза меньше тех кто остался\n",
    "class_frequency = target_train.value_counts(normalize=True)\n",
    "class_frequency.plot(kind='bar')"
   ]
  },
  {
   "cell_type": "code",
   "execution_count": 323,
   "metadata": {
    "scrolled": true
   },
   "outputs": [
    {
     "data": {
      "text/plain": [
       "<AxesSubplot:>"
      ]
     },
     "execution_count": 323,
     "metadata": {},
     "output_type": "execute_result"
    },
    {
     "data": {
      "image/png": "[encoded data removed]",
      "text/plain": [
       "<Figure size 432x288 with 1 Axes>"
      ]
     },
     "metadata": {},
     "output_type": "display_data"
    }
   ],
   "source": [
    "class_frequency = target_valid.value_counts()\n",
    "class_frequency.plot(kind='bar')"
   ]
  },
  {
   "cell_type": "code",
   "execution_count": 324,
   "metadata": {},
   "outputs": [
    {
     "name": "stdout",
     "output_type": "stream",
     "text": [
      "F1 логистической регрессии без учеты баланса классов: 0.3076923076923077\n"
     ]
    }
   ],
   "source": [
    "# Посмотрим на F1 логистической модели без учеты баланса классов\n",
    "\n",
    "model = LogisticRegression(random_state=12345, solver='liblinear')\n",
    "model.fit(features_train, target_train)\n",
    "predicted_valid = model.predict(features_valid)\n",
    "print(\"F1 логистической регрессии без учеты баланса классов:\", f1_score(target_valid, predicted_valid))"
   ]
  },
  {
   "cell_type": "code",
   "execution_count": 325,
   "metadata": {},
   "outputs": [
    {
     "name": "stdout",
     "output_type": "stream",
     "text": [
      "ROC-AUC логистической регрессии без учеты баланса классов на валидационной выборке: 0.7874205586757316\n"
     ]
    }
   ],
   "source": [
    "# Посмотрим на ROC_AUC логистической модели без учеты баланса классов \n",
    "\n",
    "probabilities_valid = model.predict_proba(features_valid)\n",
    "probabilities_one_valid = probabilities_valid[:, 1]\n",
    "\n",
    "auc_roc = roc_auc_score(target_valid, probabilities_one_valid)\n",
    "print(\"ROC-AUC логистической регрессии без учеты баланса классов на валидационной выборке:\", auc_roc)"
   ]
  },
  {
   "cell_type": "markdown",
   "metadata": {},
   "source": [
    "## Борьба с дисбалансом"
   ]
  },
  {
   "cell_type": "markdown",
   "metadata": {},
   "source": [
    "Выясним какой метод борьбы с дисбалансом классов, взвешивание классов или upsampling, лучше подходит, проверив результаты того и другого с помощью сравнение метрик F1 логистической регрессии в первом и во втором случае."
   ]
  },
  {
   "cell_type": "markdown",
   "metadata": {},
   "source": [
    "### Борьба с дисбалансом путем взвешивания классов "
   ]
  },
  {
   "cell_type": "code",
   "execution_count": 326,
   "metadata": {},
   "outputs": [
    {
     "name": "stdout",
     "output_type": "stream",
     "text": [
      "F1: 0.5285338015803336\n"
     ]
    }
   ],
   "source": [
    "model = LogisticRegression(random_state=12345, solver='liblinear', class_weight='balanced')\n",
    "model.fit(features_train, target_train)\n",
    "predicted_valid = model.predict(features_valid)\n",
    "print(\"F1:\", f1_score(target_valid, predicted_valid))"
   ]
  },
  {
   "cell_type": "markdown",
   "metadata": {},
   "source": [
    "### Борьба с дисбалансом путем upsampling-а "
   ]
  },
  {
   "cell_type": "code",
   "execution_count": 327,
   "metadata": {},
   "outputs": [
    {
     "name": "stdout",
     "output_type": "stream",
     "text": [
      "F1: 0.5246753246753246\n"
     ]
    }
   ],
   "source": [
    "# функция upsampler\n",
    "\n",
    "def upsample(features, target, repeat):    \n",
    "    features_zeros = features[target == 0]\n",
    "    features_ones = features[target == 1]\n",
    "    target_zeros = target[target == 0]\n",
    "    target_ones = target[target == 1]\n",
    "    repeat = repeat\n",
    "    features_upsampled = pd.concat([features_zeros] + [features_ones] * repeat) # соединение таблиц\n",
    "    target_upsampled = pd.concat([target_zeros] + [target_ones] * repeat) # соединение таблиц\n",
    "    return shuffle(features_upsampled, target_upsampled, random_state = 12345) # перемешали\n",
    "    \n",
    "\n",
    "features_upsampled, target_upsampled = upsample(features_train, target_train, 4)# в 4 раза необходимо увеличить\n",
    "\n",
    "model = LogisticRegression(random_state=12345, solver='liblinear')\n",
    "model.fit(features_upsampled, target_upsampled)\n",
    "predicted_valid = model.predict(features_valid)\n",
    "\n",
    "print(\"F1:\", f1_score(target_valid, predicted_valid))"
   ]
  },
  {
   "cell_type": "code",
   "execution_count": 328,
   "metadata": {},
   "outputs": [
    {
     "name": "stdout",
     "output_type": "stream",
     "text": [
      "F1: 0.3076923076923077\n"
     ]
    }
   ],
   "source": [
    "# Посмотрим на F1 логистической модели без учеты баланса классов\n",
    "\n",
    "model = LogisticRegression(random_state=12345, solver='liblinear')\n",
    "model.fit(features_train, target_train)\n",
    "predicted_valid = model.predict(features_valid)\n",
    "print(\"F1:\", f1_score(target_valid, predicted_valid))"
   ]
  },
  {
   "cell_type": "markdown",
   "metadata": {},
   "source": [
    "В качестве средства борьбы с дисбалансом взвешивание классов показывает более высокий результат (f1 логистической регрессии на валидационной выборке - 0.529), чем upsampling (при увеличении редкого класса в 4 раза f1 логистической регрессии на валидационной выборке - 0.525).\n",
    "<br><br>\n",
    "Без учета баланса классов f1 логистической регрессии на валидационной выборке - 0.308. Т.е. балансировка классов очень важна и существенно сказывается на величине максимизируемой метрики качества модели. "
   ]
  },
  {
   "cell_type": "markdown",
   "metadata": {},
   "source": [
    "### Выбор лучшей модели"
   ]
  },
  {
   "cell_type": "code",
   "execution_count": 329,
   "metadata": {},
   "outputs": [
    {
     "name": "stdout",
     "output_type": "stream",
     "text": [
      "F1 на валидационной выборке: 0.6509009009009008 Количество деревьев: 60 Максимальная глубина: 10\n"
     ]
    }
   ],
   "source": [
    "# Модель случайного леса\n",
    "\n",
    "best_model = None\n",
    "best_result = 0.5\n",
    "best_est = 0\n",
    "best_depth = 0\n",
    "#модель будет с количеством деревьев: от 10 до 100 с шагом 10\n",
    "for est in range(10, 101, 10):\n",
    "    # деревья будут с максимальной глубиной от 1 до 10\n",
    "    for depth in range (1, 11):\n",
    "        # инициализируйте модель RandomForestClassifier с параметрами random_state=12345, n_estimators=est и max_depth=depth\n",
    "        model = RandomForestClassifier(random_state=12345, n_estimators=est, max_depth=depth, class_weight='balanced') \n",
    "        model.fit(features_train, target_train) # обучите модель на обучающей выборке\n",
    "        predictions_valid = model.predict(features_valid) # получите предсказания модели на валидационной выборке\n",
    "        # Для каждой модели посчитаk RMSE на валидационной выборке\n",
    "        result = f1_score(target_valid, predictions_valid)# посчитайте значение метрики rmse на валидационной выборке\n",
    "        # Лучшая модель с максимальной accuracy\n",
    "        if result > best_result:\n",
    "            best_model = model\n",
    "            best_result = result\n",
    "            best_est = est\n",
    "            best_depth = depth\n",
    "\n",
    "print(\"F1 на валидационной выборке:\", best_result, \"Количество деревьев:\", best_est, \"Максимальная глубина:\", depth)"
   ]
  },
  {
   "cell_type": "code",
   "execution_count": 330,
   "metadata": {},
   "outputs": [
    {
     "name": "stdout",
     "output_type": "stream",
     "text": [
      "F1 на валидационной выборке: 0.5748613678373382 Максимальная глубина: 10\n"
     ]
    }
   ],
   "source": [
    "best_model = None\n",
    "best_result = 0.5\n",
    "best_depth = 0\n",
    "\n",
    "    # максимальная глубина от 1 до 10\n",
    "for depth in range (1, 11):\n",
    "    # инициализируйте модель RandomForestClassifier с параметрами random_state=12345, n_estimators=est и max_depth=depth\n",
    "    model = DecisionTreeClassifier(random_state=12345, max_depth=depth, class_weight='balanced') \n",
    "    model.fit(features_train, target_train) # обучите модель на обучающей выборке\n",
    "    predictions_valid = model.predict(features_valid) # получите предсказания модели на валидационной выборке\n",
    "    # Для каждой модели посчитаk RMSE на валидационной выборке\n",
    "    result = f1_score(target_valid, predictions_valid)# посчитайте значение метрики rmse на валидационной выборке\n",
    "    # Лучшая модель с максимальной accuracy\n",
    "    if result > best_result:\n",
    "        best_model = model\n",
    "        best_result = result\n",
    "        best_depth = depth\n",
    "\n",
    "print(\"F1 на валидационной выборке:\", best_result, \"Максимальная глубина:\", depth)"
   ]
  },
  {
   "cell_type": "markdown",
   "metadata": {},
   "source": [
    "Наиболее высокую f1 на валидационной выборке (0.65) дает модель случайного леса с количеством деревьев: 30 и максимальной глубиной: 10, а также повышением веса редкого класса. "
   ]
  },
  {
   "cell_type": "markdown",
   "metadata": {},
   "source": [
    "### ROC-AUC"
   ]
  },
  {
   "cell_type": "code",
   "execution_count": 331,
   "metadata": {
    "scrolled": true
   },
   "outputs": [
    {
     "data": {
      "image/png": "[encoded data removed]",
      "text/plain": [
       "<Figure size 432x288 with 1 Axes>"
      ]
     },
     "metadata": {},
     "output_type": "display_data"
    }
   ],
   "source": [
    "# построим ROC-кривую\n",
    "from sklearn.metrics import roc_curve\n",
    "\n",
    "model = RandomForestClassifier(random_state=12345, n_estimators=30, max_depth=10)\n",
    "model.fit(features_train, target_train)\n",
    "\n",
    "probabilities_valid = model.predict_proba(features_valid)\n",
    "probabilities_one_valid = probabilities_valid[:, 1]\n",
    "\n",
    "fpr, tpr, thresholds = roc_curve(target_valid, probabilities_one_valid)# < напишите код здесь >\n",
    "\n",
    "plt.figure()\n",
    "\n",
    "# < постройте график >\n",
    "plt.plot(fpr, tpr)\n",
    "# ROC-кривая случайной модели (выглядит как прямая) - диагональ\n",
    "plt.plot([0, 1], [0, 1], linestyle='--')\n",
    "\n",
    "# < примените функции plt.xlim() и plt.ylim(), чтобы\n",
    "#   установить границы осей от 0 до 1 >\n",
    "plt.xlim(0, 1)\n",
    "plt.ylim(0, 1)\n",
    "\n",
    "# < примените функции plt.xlabel() и plt.ylabel(), чтобы\n",
    "#   подписать оси \"False Positive Rate\" и \"True Positive Rate\" >\n",
    "plt.xlabel('False Positive Rate')\n",
    "plt.ylabel('True Positive Rate')\n",
    "\n",
    "# < добавьте к графику заголовок \"ROC-кривая\" функцией plt.title() >\n",
    "plt.title('ROC-кривая на валидационной выборке')\n",
    "plt.show()"
   ]
  },
  {
   "cell_type": "code",
   "execution_count": 332,
   "metadata": {},
   "outputs": [
    {
     "name": "stdout",
     "output_type": "stream",
     "text": [
      "ROC-AUC лучшей модели на валидационной выборке: 0.8728030470982363\n"
     ]
    }
   ],
   "source": [
    "auc_roc = roc_auc_score(target_valid, probabilities_one_valid)\n",
    "print(\"ROC-AUC лучшей модели на валидационной выборке:\", auc_roc)"
   ]
  },
  {
   "cell_type": "markdown",
   "metadata": {},
   "source": [
    "ROC-AUC лучшей модели на валидационной выборке (0.87) заметно выше f1 лучшей модели на валидационной выборке (0.65). "
   ]
  },
  {
   "cell_type": "markdown",
   "metadata": {},
   "source": [
    "В чате советовали не использовать кроссвалидацию и GridSearchCV вместе с балансировкой классов. Можно попробовать с uppsampling-ом. (Не работает, может, scorer для f1 неверно пишу?)"
   ]
  },
  {
   "cell_type": "markdown",
   "metadata": {},
   "source": [
    "## Тестирование модели"
   ]
  },
  {
   "cell_type": "code",
   "execution_count": 336,
   "metadata": {},
   "outputs": [
    {
     "name": "stdout",
     "output_type": "stream",
     "text": [
      "F1 лучшей модели на тестовой выборке: 0.5885225885225884\n",
      "F1 лучшей модели на обучающей выборке: 0.8060174188440221\n"
     ]
    }
   ],
   "source": [
    "model = RandomForestClassifier(random_state=12345, n_estimators=30, max_depth=10, class_weight='balanced')\n",
    "model.fit(features_train, target_train)\n",
    "test_predictions = model.predict(features_test)\n",
    "f1_test = f1_score(target_test, test_predictions)\n",
    "f1_train = f1_score(target_train, model.predict(features_train))\n",
    "\n",
    "print(\"F1 лучшей модели на тестовой выборке:\", f1_test)\n",
    "print(\"F1 лучшей модели на обучающей выборке:\", f1_train)\n",
    "\n"
   ]
  },
  {
   "cell_type": "markdown",
   "metadata": {},
   "source": [
    "Модель переобучена, т.к. f1 на обучающей выборке заметно выше, чем на тестовой."
   ]
  },
  {
   "cell_type": "code",
   "execution_count": 337,
   "metadata": {},
   "outputs": [
    {
     "name": "stdout",
     "output_type": "stream",
     "text": [
      "ROC-AUC лучшей модели на тестовой выборке: 0.8467327111394908\n"
     ]
    }
   ],
   "source": [
    "# посмотрим на ROC-AUC модели на тестовой выборке\n",
    "\n",
    "probabilities_test = model.predict_proba(features_test)\n",
    "probabilities_one_test = probabilities_test[:, 1]\n",
    "\n",
    "auc_roc_test = roc_auc_score(target_test, probabilities_one_test)\n",
    "print(\"ROC-AUC лучшей модели на тестовой выборке:\", auc_roc_test)"
   ]
  },
  {
   "cell_type": "markdown",
   "metadata": {},
   "source": [
    "ROC-AUC лучшей модели на тестовой выборке (0.86) не намного ниже, чем на валидационной (0.87)"
   ]
  },
  {
   "cell_type": "code",
   "execution_count": 339,
   "metadata": {},
   "outputs": [
    {
     "data": {
      "image/png": "[encoded data removed]",
      "text/plain": [
       "<Figure size 1152x1008 with 1 Axes>"
      ]
     },
     "metadata": {},
     "output_type": "display_data"
    }
   ],
   "source": [
    "f_imp = pd.Series(model.feature_importances_, features.columns)\n",
    "\n",
    "fig, ax = plt.subplots(figsize=(16,14))\n",
    "f_imp.plot.bar(ax=ax)\n",
    "ax.set_title(\"Важность признаков\")\n",
    "ax.set_ylabel('Важность')\n",
    "fig.tight_layout()"
   ]
  },
  {
   "cell_type": "code",
   "execution_count": null,
   "metadata": {},
   "outputs": [],
   "source": []
  }
 ],
 "metadata": {
  "ExecuteTimeLog": [
   {
    "duration": 1975,
    "start_time": "2022-12-20T12:32:36.063Z"
   },
   {
    "duration": 112,
    "start_time": "2022-12-20T12:32:40.458Z"
   },
   {
    "duration": 41,
    "start_time": "2022-12-20T12:32:43.799Z"
   },
   {
    "duration": 4,
    "start_time": "2022-12-20T12:39:51.943Z"
   },
   {
    "duration": 18,
    "start_time": "2022-12-20T12:39:55.866Z"
   },
   {
    "duration": 12,
    "start_time": "2022-12-20T12:41:58.859Z"
   },
   {
    "duration": 18,
    "start_time": "2022-12-20T12:50:53.776Z"
   },
   {
    "duration": 28,
    "start_time": "2022-12-20T12:56:44.298Z"
   },
   {
    "duration": 78,
    "start_time": "2022-12-20T12:58:03.467Z"
   },
   {
    "duration": 13,
    "start_time": "2022-12-20T13:10:53.097Z"
   },
   {
    "duration": 15240,
    "start_time": "2022-12-20T13:21:41.615Z"
   },
   {
    "duration": 22608,
    "start_time": "2022-12-20T13:22:34.449Z"
   },
   {
    "duration": 22270,
    "start_time": "2022-12-20T13:23:49.297Z"
   },
   {
    "duration": 22772,
    "start_time": "2022-12-20T13:27:48.409Z"
   },
   {
    "duration": 5,
    "start_time": "2022-12-20T13:39:42.539Z"
   },
   {
    "duration": 4,
    "start_time": "2022-12-20T13:41:49.659Z"
   },
   {
    "duration": 4,
    "start_time": "2022-12-20T13:46:05.569Z"
   },
   {
    "duration": 16,
    "start_time": "2022-12-20T13:46:46.329Z"
   },
   {
    "duration": 7,
    "start_time": "2022-12-20T13:48:46.981Z"
   },
   {
    "duration": 912,
    "start_time": "2022-12-20T13:49:44.941Z"
   },
   {
    "duration": 24,
    "start_time": "2022-12-20T14:35:37.123Z"
   },
   {
    "duration": 4,
    "start_time": "2022-12-20T14:40:59.500Z"
   },
   {
    "duration": 23,
    "start_time": "2022-12-20T14:41:10.347Z"
   },
   {
    "duration": 266,
    "start_time": "2022-12-20T14:50:05.352Z"
   },
   {
    "duration": 5,
    "start_time": "2022-12-20T14:50:26.674Z"
   },
   {
    "duration": 55,
    "start_time": "2022-12-20T14:50:38.642Z"
   },
   {
    "duration": 18,
    "start_time": "2022-12-20T15:05:24.207Z"
   },
   {
    "duration": 26,
    "start_time": "2022-12-20T15:07:04.566Z"
   },
   {
    "duration": 12,
    "start_time": "2022-12-20T15:07:50.499Z"
   },
   {
    "duration": 115,
    "start_time": "2022-12-20T15:16:34.393Z"
   },
   {
    "duration": 138,
    "start_time": "2022-12-20T15:17:06.666Z"
   },
   {
    "duration": 146,
    "start_time": "2022-12-20T15:17:42.255Z"
   },
   {
    "duration": 14,
    "start_time": "2022-12-20T15:22:27.179Z"
   },
   {
    "duration": 4,
    "start_time": "2022-12-20T15:23:24.954Z"
   },
   {
    "duration": 28,
    "start_time": "2022-12-20T15:23:34.367Z"
   },
   {
    "duration": 32,
    "start_time": "2022-12-20T15:25:47.518Z"
   },
   {
    "duration": 31,
    "start_time": "2022-12-20T15:30:29.882Z"
   },
   {
    "duration": 5,
    "start_time": "2022-12-20T15:30:40.779Z"
   },
   {
    "duration": 33,
    "start_time": "2022-12-20T15:30:50.438Z"
   },
   {
    "duration": 26,
    "start_time": "2022-12-20T15:31:20.637Z"
   },
   {
    "duration": 25,
    "start_time": "2022-12-20T15:31:26.376Z"
   },
   {
    "duration": 38,
    "start_time": "2022-12-20T15:31:33.152Z"
   },
   {
    "duration": 73,
    "start_time": "2022-12-20T15:36:50.740Z"
   },
   {
    "duration": 62,
    "start_time": "2022-12-20T15:52:51.263Z"
   },
   {
    "duration": 74,
    "start_time": "2022-12-20T15:54:40.143Z"
   },
   {
    "duration": 47973,
    "start_time": "2022-12-20T15:55:03.182Z"
   },
   {
    "duration": 47752,
    "start_time": "2022-12-20T15:59:46.524Z"
   },
   {
    "duration": 42792,
    "start_time": "2022-12-20T16:01:50.245Z"
   },
   {
    "duration": 17,
    "start_time": "2022-12-20T16:03:02.345Z"
   },
   {
    "duration": 57533,
    "start_time": "2022-12-20T16:09:42.404Z"
   },
   {
    "duration": 13,
    "start_time": "2022-12-20T16:17:55.450Z"
   },
   {
    "duration": 128,
    "start_time": "2022-12-20T16:18:04.135Z"
   },
   {
    "duration": 15,
    "start_time": "2022-12-20T16:20:01.556Z"
   },
   {
    "duration": 3,
    "start_time": "2022-12-20T16:24:02.458Z"
   },
   {
    "duration": 257101,
    "start_time": "2022-12-20T16:25:23.669Z"
   },
   {
    "duration": 5,
    "start_time": "2022-12-20T16:30:08.980Z"
   },
   {
    "duration": 1363,
    "start_time": "2022-12-20T16:36:21.139Z"
   },
   {
    "duration": 1404,
    "start_time": "2022-12-20T16:37:24.625Z"
   },
   {
    "duration": 1596,
    "start_time": "2022-12-21T09:06:38.726Z"
   },
   {
    "duration": 80,
    "start_time": "2022-12-21T09:06:40.324Z"
   },
   {
    "duration": 20,
    "start_time": "2022-12-21T09:06:40.405Z"
   },
   {
    "duration": 3,
    "start_time": "2022-12-21T09:06:40.427Z"
   },
   {
    "duration": 9,
    "start_time": "2022-12-21T09:06:40.432Z"
   },
   {
    "duration": 14,
    "start_time": "2022-12-21T09:06:40.443Z"
   },
   {
    "duration": 58,
    "start_time": "2022-12-21T09:06:40.459Z"
   },
   {
    "duration": 10,
    "start_time": "2022-12-21T09:06:40.518Z"
   },
   {
    "duration": 128,
    "start_time": "2022-12-21T09:06:40.529Z"
   },
   {
    "duration": 0,
    "start_time": "2022-12-21T09:06:40.659Z"
   },
   {
    "duration": 0,
    "start_time": "2022-12-21T09:06:40.660Z"
   },
   {
    "duration": 0,
    "start_time": "2022-12-21T09:06:40.661Z"
   },
   {
    "duration": 0,
    "start_time": "2022-12-21T09:06:40.662Z"
   },
   {
    "duration": 0,
    "start_time": "2022-12-21T09:06:40.663Z"
   },
   {
    "duration": 0,
    "start_time": "2022-12-21T09:06:40.664Z"
   },
   {
    "duration": 0,
    "start_time": "2022-12-21T09:06:40.665Z"
   },
   {
    "duration": 0,
    "start_time": "2022-12-21T09:06:40.665Z"
   },
   {
    "duration": 0,
    "start_time": "2022-12-21T09:06:40.666Z"
   },
   {
    "duration": 4,
    "start_time": "2022-12-21T09:30:39.759Z"
   },
   {
    "duration": 46,
    "start_time": "2022-12-21T09:30:39.765Z"
   },
   {
    "duration": 15,
    "start_time": "2022-12-21T09:30:39.813Z"
   },
   {
    "duration": 22,
    "start_time": "2022-12-21T09:30:39.830Z"
   },
   {
    "duration": 13,
    "start_time": "2022-12-21T09:30:39.854Z"
   },
   {
    "duration": 13,
    "start_time": "2022-12-21T09:30:39.869Z"
   },
   {
    "duration": 54,
    "start_time": "2022-12-21T09:30:39.884Z"
   },
   {
    "duration": 11,
    "start_time": "2022-12-21T09:30:39.940Z"
   },
   {
    "duration": 13815,
    "start_time": "2022-12-21T09:30:39.953Z"
   },
   {
    "duration": 21280,
    "start_time": "2022-12-21T09:30:53.771Z"
   },
   {
    "duration": 5,
    "start_time": "2022-12-21T09:31:15.053Z"
   },
   {
    "duration": 31,
    "start_time": "2022-12-21T09:31:15.059Z"
   },
   {
    "duration": 17,
    "start_time": "2022-12-21T09:31:15.092Z"
   },
   {
    "duration": 8,
    "start_time": "2022-12-21T09:31:15.111Z"
   },
   {
    "duration": 17,
    "start_time": "2022-12-21T09:31:15.121Z"
   },
   {
    "duration": 926,
    "start_time": "2022-12-21T09:31:15.140Z"
   },
   {
    "duration": 16,
    "start_time": "2022-12-21T09:31:16.068Z"
   },
   {
    "duration": 13,
    "start_time": "2022-12-21T09:31:16.097Z"
   },
   {
    "duration": 14,
    "start_time": "2022-12-21T09:32:17.152Z"
   },
   {
    "duration": 4,
    "start_time": "2022-12-21T09:35:00.004Z"
   },
   {
    "duration": 38,
    "start_time": "2022-12-21T09:35:10.069Z"
   },
   {
    "duration": 105,
    "start_time": "2022-12-21T09:44:05.365Z"
   },
   {
    "duration": 106,
    "start_time": "2022-12-21T09:44:18.969Z"
   },
   {
    "duration": 24,
    "start_time": "2022-12-21T09:45:14.608Z"
   },
   {
    "duration": 33,
    "start_time": "2022-12-21T09:45:20.650Z"
   },
   {
    "duration": 22,
    "start_time": "2022-12-21T09:46:14.744Z"
   },
   {
    "duration": 5,
    "start_time": "2022-12-21T09:48:29.185Z"
   },
   {
    "duration": 18816,
    "start_time": "2022-12-21T09:51:18.473Z"
   },
   {
    "duration": 4,
    "start_time": "2022-12-21T10:00:16.699Z"
   },
   {
    "duration": 49,
    "start_time": "2022-12-21T10:00:16.704Z"
   },
   {
    "duration": 16,
    "start_time": "2022-12-21T10:00:16.755Z"
   },
   {
    "duration": 3,
    "start_time": "2022-12-21T10:00:17.221Z"
   },
   {
    "duration": 23,
    "start_time": "2022-12-21T10:00:17.226Z"
   },
   {
    "duration": 17,
    "start_time": "2022-12-21T10:00:17.250Z"
   },
   {
    "duration": 39,
    "start_time": "2022-12-21T10:00:17.269Z"
   },
   {
    "duration": 11,
    "start_time": "2022-12-21T10:00:17.310Z"
   },
   {
    "duration": 2232,
    "start_time": "2022-12-21T10:00:17.323Z"
   },
   {
    "duration": 19455,
    "start_time": "2022-12-21T10:00:19.557Z"
   },
   {
    "duration": 3,
    "start_time": "2022-12-21T10:00:39.014Z"
   },
   {
    "duration": 6,
    "start_time": "2022-12-21T10:00:39.019Z"
   },
   {
    "duration": 12,
    "start_time": "2022-12-21T10:00:39.027Z"
   },
   {
    "duration": 7,
    "start_time": "2022-12-21T10:00:39.041Z"
   },
   {
    "duration": 57,
    "start_time": "2022-12-21T10:00:39.050Z"
   },
   {
    "duration": 918,
    "start_time": "2022-12-21T10:00:39.108Z"
   },
   {
    "duration": 13,
    "start_time": "2022-12-21T10:00:40.028Z"
   },
   {
    "duration": 12,
    "start_time": "2022-12-21T10:00:40.042Z"
   },
   {
    "duration": 10,
    "start_time": "2022-12-21T10:01:13.613Z"
   },
   {
    "duration": 42,
    "start_time": "2022-12-21T10:01:27.723Z"
   },
   {
    "duration": 106,
    "start_time": "2022-12-21T10:01:38.221Z"
   },
   {
    "duration": 108,
    "start_time": "2022-12-21T10:01:41.325Z"
   },
   {
    "duration": 28,
    "start_time": "2022-12-21T10:01:52.055Z"
   },
   {
    "duration": 38,
    "start_time": "2022-12-21T10:01:58.043Z"
   },
   {
    "duration": 22668,
    "start_time": "2022-12-21T10:02:28.113Z"
   },
   {
    "duration": 4,
    "start_time": "2022-12-21T10:10:20.257Z"
   },
   {
    "duration": 40,
    "start_time": "2022-12-21T10:10:20.294Z"
   },
   {
    "duration": 19,
    "start_time": "2022-12-21T10:10:20.336Z"
   },
   {
    "duration": 3,
    "start_time": "2022-12-21T10:10:20.468Z"
   },
   {
    "duration": 10,
    "start_time": "2022-12-21T10:10:20.473Z"
   },
   {
    "duration": 21,
    "start_time": "2022-12-21T10:10:20.484Z"
   },
   {
    "duration": 45,
    "start_time": "2022-12-21T10:10:20.507Z"
   },
   {
    "duration": 12,
    "start_time": "2022-12-21T10:10:20.554Z"
   },
   {
    "duration": 2261,
    "start_time": "2022-12-21T10:10:20.568Z"
   },
   {
    "duration": 20114,
    "start_time": "2022-12-21T10:10:22.831Z"
   },
   {
    "duration": 4,
    "start_time": "2022-12-21T10:10:42.947Z"
   },
   {
    "duration": 44,
    "start_time": "2022-12-21T10:10:42.953Z"
   },
   {
    "duration": 4,
    "start_time": "2022-12-21T10:10:42.999Z"
   },
   {
    "duration": 8,
    "start_time": "2022-12-21T10:10:43.005Z"
   },
   {
    "duration": 14,
    "start_time": "2022-12-21T10:10:43.015Z"
   },
   {
    "duration": 944,
    "start_time": "2022-12-21T10:10:43.031Z"
   },
   {
    "duration": 20,
    "start_time": "2022-12-21T10:10:43.978Z"
   },
   {
    "duration": 13,
    "start_time": "2022-12-21T10:10:44.000Z"
   },
   {
    "duration": 12,
    "start_time": "2022-12-21T10:10:44.015Z"
   },
   {
    "duration": 37,
    "start_time": "2022-12-21T10:10:44.029Z"
   },
   {
    "duration": 146,
    "start_time": "2022-12-21T10:10:44.068Z"
   },
   {
    "duration": 131,
    "start_time": "2022-12-21T10:10:44.216Z"
   },
   {
    "duration": 27,
    "start_time": "2022-12-21T10:10:51.699Z"
   },
   {
    "duration": 2611,
    "start_time": "2022-12-21T10:18:12.878Z"
   },
   {
    "duration": 23290,
    "start_time": "2022-12-21T10:21:25.773Z"
   },
   {
    "duration": 187,
    "start_time": "2022-12-21T12:35:18.269Z"
   },
   {
    "duration": 4,
    "start_time": "2022-12-21T12:53:04.043Z"
   },
   {
    "duration": 3,
    "start_time": "2022-12-21T12:53:42.514Z"
   },
   {
    "duration": 4,
    "start_time": "2022-12-21T12:55:09.288Z"
   },
   {
    "duration": 81,
    "start_time": "2022-12-21T12:55:11.913Z"
   },
   {
    "duration": 814228,
    "start_time": "2022-12-21T12:56:04.502Z"
   },
   {
    "duration": 136176,
    "start_time": "2022-12-21T13:10:19.275Z"
   },
   {
    "duration": 349200,
    "start_time": "2022-12-21T13:12:56.730Z"
   },
   {
    "duration": 3,
    "start_time": "2022-12-21T14:12:41.859Z"
   },
   {
    "duration": 219,
    "start_time": "2022-12-21T14:13:28.270Z"
   },
   {
    "duration": 203,
    "start_time": "2022-12-21T14:22:03.119Z"
   },
   {
    "duration": 393,
    "start_time": "2022-12-21T14:22:42.822Z"
   },
   {
    "duration": 10,
    "start_time": "2022-12-21T14:29:17.668Z"
   },
   {
    "duration": 23,
    "start_time": "2022-12-21T14:41:01.976Z"
   },
   {
    "duration": 236,
    "start_time": "2022-12-21T14:44:00.679Z"
   },
   {
    "duration": 925,
    "start_time": "2022-12-21T14:53:15.731Z"
   },
   {
    "duration": 39,
    "start_time": "2022-12-21T14:58:34.209Z"
   },
   {
    "duration": 581,
    "start_time": "2022-12-21T15:08:38.082Z"
   },
   {
    "duration": 76,
    "start_time": "2022-12-23T10:23:50.229Z"
   },
   {
    "duration": 65,
    "start_time": "2022-12-23T10:23:57.849Z"
   },
   {
    "duration": 77,
    "start_time": "2022-12-23T10:24:31.283Z"
   },
   {
    "duration": 68,
    "start_time": "2022-12-23T10:24:38.229Z"
   },
   {
    "duration": 1628,
    "start_time": "2022-12-23T10:32:22.437Z"
   },
   {
    "duration": 159,
    "start_time": "2022-12-23T10:32:24.068Z"
   },
   {
    "duration": 20,
    "start_time": "2022-12-23T10:32:24.229Z"
   },
   {
    "duration": 3,
    "start_time": "2022-12-23T10:32:24.251Z"
   },
   {
    "duration": 43,
    "start_time": "2022-12-23T10:32:24.256Z"
   },
   {
    "duration": 50,
    "start_time": "2022-12-23T10:32:24.301Z"
   },
   {
    "duration": 61,
    "start_time": "2022-12-23T10:32:24.353Z"
   },
   {
    "duration": 13,
    "start_time": "2022-12-23T10:32:24.415Z"
   },
   {
    "duration": 14814,
    "start_time": "2022-12-23T10:32:24.430Z"
   },
   {
    "duration": 19026,
    "start_time": "2022-12-23T10:32:39.247Z"
   },
   {
    "duration": 1224,
    "start_time": "2022-12-23T10:38:12.548Z"
   },
   {
    "duration": 1544,
    "start_time": "2022-12-23T10:40:15.502Z"
   },
   {
    "duration": 108,
    "start_time": "2022-12-23T11:10:01.605Z"
   },
   {
    "duration": 6,
    "start_time": "2022-12-23T11:12:37.048Z"
   },
   {
    "duration": 624,
    "start_time": "2022-12-23T11:14:02.498Z"
   },
   {
    "duration": 21,
    "start_time": "2022-12-23T11:15:32.669Z"
   },
   {
    "duration": 28,
    "start_time": "2022-12-23T11:15:45.167Z"
   },
   {
    "duration": 4,
    "start_time": "2022-12-23T11:16:31.125Z"
   },
   {
    "duration": 1854,
    "start_time": "2022-12-23T11:16:39.793Z"
   },
   {
    "duration": 5,
    "start_time": "2022-12-23T11:20:46.351Z"
   },
   {
    "duration": 125,
    "start_time": "2022-12-23T11:20:46.358Z"
   },
   {
    "duration": 20,
    "start_time": "2022-12-23T11:20:46.485Z"
   },
   {
    "duration": 11,
    "start_time": "2022-12-23T11:20:46.507Z"
   },
   {
    "duration": 10,
    "start_time": "2022-12-23T11:20:46.520Z"
   },
   {
    "duration": 20,
    "start_time": "2022-12-23T11:20:46.532Z"
   },
   {
    "duration": 46,
    "start_time": "2022-12-23T11:20:46.554Z"
   },
   {
    "duration": 12,
    "start_time": "2022-12-23T11:20:46.602Z"
   },
   {
    "duration": 2738,
    "start_time": "2022-12-23T11:20:46.617Z"
   },
   {
    "duration": 19395,
    "start_time": "2022-12-23T11:20:49.358Z"
   },
   {
    "duration": 2203,
    "start_time": "2022-12-23T11:21:08.755Z"
   },
   {
    "duration": 3,
    "start_time": "2022-12-23T11:21:10.961Z"
   },
   {
    "duration": 1146,
    "start_time": "2022-12-23T11:21:21.992Z"
   },
   {
    "duration": 6,
    "start_time": "2022-12-23T11:33:03.083Z"
   },
   {
    "duration": 1702,
    "start_time": "2022-12-23T11:33:09.086Z"
   },
   {
    "duration": 192,
    "start_time": "2022-12-23T11:35:47.609Z"
   },
   {
    "duration": 5,
    "start_time": "2022-12-23T11:38:47.827Z"
   },
   {
    "duration": 4,
    "start_time": "2022-12-23T11:38:50.736Z"
   },
   {
    "duration": 5,
    "start_time": "2022-12-23T11:38:57.915Z"
   },
   {
    "duration": 14,
    "start_time": "2022-12-23T11:40:36.988Z"
   },
   {
    "duration": 965,
    "start_time": "2022-12-23T11:40:44.960Z"
   },
   {
    "duration": 13,
    "start_time": "2022-12-23T11:42:33.273Z"
   },
   {
    "duration": 6,
    "start_time": "2022-12-23T11:59:43.436Z"
   },
   {
    "duration": 60,
    "start_time": "2022-12-23T11:59:43.445Z"
   },
   {
    "duration": 16,
    "start_time": "2022-12-23T11:59:43.507Z"
   },
   {
    "duration": 6,
    "start_time": "2022-12-23T11:59:43.526Z"
   },
   {
    "duration": 13,
    "start_time": "2022-12-23T11:59:43.534Z"
   },
   {
    "duration": 21,
    "start_time": "2022-12-23T11:59:43.549Z"
   },
   {
    "duration": 48,
    "start_time": "2022-12-23T11:59:43.572Z"
   },
   {
    "duration": 36,
    "start_time": "2022-12-23T11:59:43.622Z"
   },
   {
    "duration": 2794,
    "start_time": "2022-12-23T11:59:43.660Z"
   },
   {
    "duration": 20723,
    "start_time": "2022-12-23T11:59:46.457Z"
   },
   {
    "duration": 3545,
    "start_time": "2022-12-23T12:00:07.182Z"
   },
   {
    "duration": 3,
    "start_time": "2022-12-23T12:00:10.729Z"
   },
   {
    "duration": 57,
    "start_time": "2022-12-23T12:00:10.734Z"
   },
   {
    "duration": 236,
    "start_time": "2022-12-23T12:00:10.794Z"
   },
   {
    "duration": 4,
    "start_time": "2022-12-23T12:00:11.034Z"
   },
   {
    "duration": 38,
    "start_time": "2022-12-23T12:00:11.040Z"
   },
   {
    "duration": 29,
    "start_time": "2022-12-23T12:00:11.079Z"
   },
   {
    "duration": 38,
    "start_time": "2022-12-23T12:00:11.110Z"
   },
   {
    "duration": 1048,
    "start_time": "2022-12-23T12:00:11.150Z"
   },
   {
    "duration": 16,
    "start_time": "2022-12-23T12:00:12.201Z"
   },
   {
    "duration": 40,
    "start_time": "2022-12-23T12:00:12.219Z"
   },
   {
    "duration": 16,
    "start_time": "2022-12-23T12:00:12.262Z"
   },
   {
    "duration": 85,
    "start_time": "2022-12-23T12:00:12.280Z"
   },
   {
    "duration": 118,
    "start_time": "2022-12-23T12:00:12.367Z"
   },
   {
    "duration": 148,
    "start_time": "2022-12-23T12:00:12.487Z"
   },
   {
    "duration": 5,
    "start_time": "2022-12-23T12:08:29.327Z"
   },
   {
    "duration": 102,
    "start_time": "2022-12-23T12:10:24.941Z"
   },
   {
    "duration": 17,
    "start_time": "2022-12-23T12:11:03.746Z"
   },
   {
    "duration": 7,
    "start_time": "2022-12-23T12:12:52.661Z"
   },
   {
    "duration": 64,
    "start_time": "2022-12-23T12:12:52.670Z"
   },
   {
    "duration": 33,
    "start_time": "2022-12-23T12:12:52.737Z"
   },
   {
    "duration": 13,
    "start_time": "2022-12-23T12:12:52.773Z"
   },
   {
    "duration": 10,
    "start_time": "2022-12-23T12:12:52.790Z"
   },
   {
    "duration": 13,
    "start_time": "2022-12-23T12:12:52.803Z"
   },
   {
    "duration": 67,
    "start_time": "2022-12-23T12:12:52.818Z"
   },
   {
    "duration": 19,
    "start_time": "2022-12-23T12:12:52.887Z"
   },
   {
    "duration": 3,
    "start_time": "2022-12-23T12:12:52.908Z"
   },
   {
    "duration": 3,
    "start_time": "2022-12-23T12:12:53.044Z"
   },
   {
    "duration": 2051,
    "start_time": "2022-12-23T12:12:53.049Z"
   },
   {
    "duration": 2,
    "start_time": "2022-12-23T12:12:55.102Z"
   },
   {
    "duration": 14,
    "start_time": "2022-12-23T12:12:55.106Z"
   },
   {
    "duration": 223,
    "start_time": "2022-12-23T12:12:55.122Z"
   },
   {
    "duration": 8,
    "start_time": "2022-12-23T12:12:55.347Z"
   },
   {
    "duration": 19,
    "start_time": "2022-12-23T12:12:55.357Z"
   },
   {
    "duration": 6,
    "start_time": "2022-12-23T12:12:55.378Z"
   },
   {
    "duration": 14,
    "start_time": "2022-12-23T12:12:55.386Z"
   },
   {
    "duration": 1004,
    "start_time": "2022-12-23T12:12:55.402Z"
   },
   {
    "duration": 12,
    "start_time": "2022-12-23T12:12:56.408Z"
   },
   {
    "duration": 16,
    "start_time": "2022-12-23T12:12:56.422Z"
   },
   {
    "duration": 36,
    "start_time": "2022-12-23T12:12:56.456Z"
   },
   {
    "duration": 41,
    "start_time": "2022-12-23T12:12:56.494Z"
   },
   {
    "duration": 125,
    "start_time": "2022-12-23T12:12:56.536Z"
   },
   {
    "duration": 147,
    "start_time": "2022-12-23T12:12:56.663Z"
   },
   {
    "duration": 35,
    "start_time": "2022-12-23T12:13:06.939Z"
   },
   {
    "duration": 13,
    "start_time": "2022-12-23T12:13:11.432Z"
   },
   {
    "duration": 4,
    "start_time": "2022-12-23T12:14:30.973Z"
   },
   {
    "duration": 70,
    "start_time": "2022-12-23T12:14:30.979Z"
   },
   {
    "duration": 26,
    "start_time": "2022-12-23T12:14:31.051Z"
   },
   {
    "duration": 16,
    "start_time": "2022-12-23T12:14:31.079Z"
   },
   {
    "duration": 50,
    "start_time": "2022-12-23T12:14:31.098Z"
   },
   {
    "duration": 78,
    "start_time": "2022-12-23T12:14:31.150Z"
   },
   {
    "duration": 93,
    "start_time": "2022-12-23T12:14:31.231Z"
   },
   {
    "duration": 13,
    "start_time": "2022-12-23T12:14:31.325Z"
   },
   {
    "duration": 55,
    "start_time": "2022-12-23T12:14:31.340Z"
   },
   {
    "duration": 14,
    "start_time": "2022-12-23T12:14:31.397Z"
   },
   {
    "duration": 2507,
    "start_time": "2022-12-23T12:14:31.412Z"
   },
   {
    "duration": 2,
    "start_time": "2022-12-23T12:14:33.921Z"
   },
   {
    "duration": 14,
    "start_time": "2022-12-23T12:14:33.925Z"
   },
   {
    "duration": 243,
    "start_time": "2022-12-23T12:14:33.942Z"
   },
   {
    "duration": 6,
    "start_time": "2022-12-23T12:14:34.188Z"
   },
   {
    "duration": 9,
    "start_time": "2022-12-23T12:14:34.196Z"
   },
   {
    "duration": 8,
    "start_time": "2022-12-23T12:14:34.207Z"
   },
   {
    "duration": 15,
    "start_time": "2022-12-23T12:14:34.217Z"
   },
   {
    "duration": 950,
    "start_time": "2022-12-23T12:14:34.234Z"
   },
   {
    "duration": 18,
    "start_time": "2022-12-23T12:14:35.186Z"
   },
   {
    "duration": 25,
    "start_time": "2022-12-23T12:14:35.207Z"
   },
   {
    "duration": 29,
    "start_time": "2022-12-23T12:14:35.234Z"
   },
   {
    "duration": 58,
    "start_time": "2022-12-23T12:14:35.265Z"
   },
   {
    "duration": 159,
    "start_time": "2022-12-23T12:14:35.324Z"
   },
   {
    "duration": 146,
    "start_time": "2022-12-23T12:14:35.485Z"
   },
   {
    "duration": 143,
    "start_time": "2022-12-23T12:14:35.633Z"
   },
   {
    "duration": 66,
    "start_time": "2022-12-23T12:14:35.792Z"
   },
   {
    "duration": 135,
    "start_time": "2022-12-23T12:14:35.860Z"
   },
   {
    "duration": 192,
    "start_time": "2022-12-23T12:14:35.997Z"
   },
   {
    "duration": 186,
    "start_time": "2022-12-23T12:14:36.192Z"
   },
   {
    "duration": 27112,
    "start_time": "2022-12-23T12:14:36.381Z"
   },
   {
    "duration": 218,
    "start_time": "2022-12-23T12:15:03.495Z"
   },
   {
    "duration": 397,
    "start_time": "2022-12-23T12:15:03.715Z"
   },
   {
    "duration": 6,
    "start_time": "2022-12-23T12:15:04.114Z"
   },
   {
    "duration": 6,
    "start_time": "2022-12-23T12:15:04.122Z"
   },
   {
    "duration": 6,
    "start_time": "2022-12-23T12:15:04.130Z"
   },
   {
    "duration": 36,
    "start_time": "2022-12-23T12:15:04.138Z"
   },
   {
    "duration": 262,
    "start_time": "2022-12-23T12:15:04.176Z"
   },
   {
    "duration": 28,
    "start_time": "2022-12-23T12:15:04.440Z"
   },
   {
    "duration": 6,
    "start_time": "2022-12-23T12:38:26.883Z"
   },
   {
    "duration": 74,
    "start_time": "2022-12-23T12:38:26.892Z"
   },
   {
    "duration": 21,
    "start_time": "2022-12-23T12:38:26.968Z"
   },
   {
    "duration": 26,
    "start_time": "2022-12-23T12:38:26.992Z"
   },
   {
    "duration": 39,
    "start_time": "2022-12-23T12:38:27.021Z"
   },
   {
    "duration": 31,
    "start_time": "2022-12-23T12:38:27.065Z"
   },
   {
    "duration": 65,
    "start_time": "2022-12-23T12:38:27.098Z"
   },
   {
    "duration": 14,
    "start_time": "2022-12-23T12:38:27.165Z"
   },
   {
    "duration": 21,
    "start_time": "2022-12-23T12:38:27.181Z"
   },
   {
    "duration": 24,
    "start_time": "2022-12-23T12:38:27.204Z"
   },
   {
    "duration": 1887,
    "start_time": "2022-12-23T12:38:27.230Z"
   },
   {
    "duration": 3,
    "start_time": "2022-12-23T12:38:29.119Z"
   },
   {
    "duration": 58,
    "start_time": "2022-12-23T12:38:29.123Z"
   },
   {
    "duration": 12,
    "start_time": "2022-12-23T12:38:40.463Z"
   },
   {
    "duration": 7,
    "start_time": "2022-12-23T12:39:19.406Z"
   },
   {
    "duration": 233,
    "start_time": "2022-12-23T12:39:30.443Z"
   },
   {
    "duration": 27,
    "start_time": "2022-12-23T12:39:43.065Z"
   },
   {
    "duration": 8,
    "start_time": "2022-12-23T12:58:31.010Z"
   },
   {
    "duration": 7,
    "start_time": "2022-12-23T12:58:35.577Z"
   },
   {
    "duration": 64,
    "start_time": "2022-12-23T12:58:35.587Z"
   },
   {
    "duration": 24,
    "start_time": "2022-12-23T12:58:35.654Z"
   },
   {
    "duration": 14,
    "start_time": "2022-12-23T12:58:35.680Z"
   },
   {
    "duration": 35,
    "start_time": "2022-12-23T12:58:35.697Z"
   },
   {
    "duration": 50,
    "start_time": "2022-12-23T12:58:35.734Z"
   },
   {
    "duration": 84,
    "start_time": "2022-12-23T12:58:35.786Z"
   },
   {
    "duration": 18,
    "start_time": "2022-12-23T12:58:35.874Z"
   },
   {
    "duration": 31,
    "start_time": "2022-12-23T12:58:35.894Z"
   },
   {
    "duration": 34,
    "start_time": "2022-12-23T12:58:35.927Z"
   },
   {
    "duration": 2292,
    "start_time": "2022-12-23T12:58:35.964Z"
   },
   {
    "duration": 3,
    "start_time": "2022-12-23T12:58:38.259Z"
   },
   {
    "duration": 59,
    "start_time": "2022-12-23T12:58:38.265Z"
   },
   {
    "duration": 11,
    "start_time": "2022-12-23T12:58:42.353Z"
   },
   {
    "duration": 228,
    "start_time": "2022-12-23T12:59:00.376Z"
   },
   {
    "duration": 5,
    "start_time": "2022-12-23T12:59:13.434Z"
   },
   {
    "duration": 4,
    "start_time": "2022-12-23T12:59:33.413Z"
   },
   {
    "duration": 223,
    "start_time": "2022-12-23T12:59:38.615Z"
   },
   {
    "duration": 5,
    "start_time": "2022-12-23T12:59:53.918Z"
   },
   {
    "duration": 5,
    "start_time": "2022-12-23T12:59:56.441Z"
   },
   {
    "duration": 7,
    "start_time": "2022-12-23T13:22:19.684Z"
   },
   {
    "duration": 86,
    "start_time": "2022-12-23T13:22:19.699Z"
   },
   {
    "duration": 19,
    "start_time": "2022-12-23T13:22:19.789Z"
   },
   {
    "duration": 19,
    "start_time": "2022-12-23T13:22:19.810Z"
   },
   {
    "duration": 58,
    "start_time": "2022-12-23T13:22:19.832Z"
   },
   {
    "duration": 19,
    "start_time": "2022-12-23T13:22:19.894Z"
   },
   {
    "duration": 75,
    "start_time": "2022-12-23T13:22:19.916Z"
   },
   {
    "duration": 18,
    "start_time": "2022-12-23T13:22:19.993Z"
   },
   {
    "duration": 15,
    "start_time": "2022-12-23T13:22:20.014Z"
   },
   {
    "duration": 21,
    "start_time": "2022-12-23T13:22:20.032Z"
   },
   {
    "duration": 2034,
    "start_time": "2022-12-23T13:22:20.055Z"
   },
   {
    "duration": 4,
    "start_time": "2022-12-23T13:22:22.091Z"
   },
   {
    "duration": 48,
    "start_time": "2022-12-23T13:22:22.097Z"
   },
   {
    "duration": 20,
    "start_time": "2022-12-23T13:22:37.012Z"
   },
   {
    "duration": 5,
    "start_time": "2022-12-23T13:22:56.244Z"
   },
   {
    "duration": 228,
    "start_time": "2022-12-23T13:23:00.808Z"
   },
   {
    "duration": 5,
    "start_time": "2022-12-23T13:35:00.421Z"
   },
   {
    "duration": 56,
    "start_time": "2022-12-23T13:35:00.431Z"
   },
   {
    "duration": 23,
    "start_time": "2022-12-23T13:35:00.490Z"
   },
   {
    "duration": 21,
    "start_time": "2022-12-23T13:35:00.516Z"
   },
   {
    "duration": 28,
    "start_time": "2022-12-23T13:35:00.539Z"
   },
   {
    "duration": 35,
    "start_time": "2022-12-23T13:35:00.570Z"
   },
   {
    "duration": 79,
    "start_time": "2022-12-23T13:35:00.608Z"
   },
   {
    "duration": 36,
    "start_time": "2022-12-23T13:35:00.689Z"
   },
   {
    "duration": 12,
    "start_time": "2022-12-23T13:35:00.727Z"
   },
   {
    "duration": 19,
    "start_time": "2022-12-23T13:35:00.741Z"
   },
   {
    "duration": 2036,
    "start_time": "2022-12-23T13:35:00.762Z"
   },
   {
    "duration": 3,
    "start_time": "2022-12-23T13:35:02.800Z"
   },
   {
    "duration": 7,
    "start_time": "2022-12-23T13:35:02.805Z"
   },
   {
    "duration": 601,
    "start_time": "2022-12-23T13:35:05.628Z"
   },
   {
    "duration": 18,
    "start_time": "2022-12-23T13:35:21.740Z"
   },
   {
    "duration": 18,
    "start_time": "2022-12-23T13:35:33.547Z"
   },
   {
    "duration": 18,
    "start_time": "2022-12-23T13:36:12.540Z"
   },
   {
    "duration": 18,
    "start_time": "2022-12-23T13:36:23.155Z"
   },
   {
    "duration": 21,
    "start_time": "2022-12-23T13:36:59.016Z"
   },
   {
    "duration": 19,
    "start_time": "2022-12-23T13:39:38.733Z"
   },
   {
    "duration": 351,
    "start_time": "2022-12-23T13:44:11.271Z"
   },
   {
    "duration": 18,
    "start_time": "2022-12-23T13:44:24.566Z"
   },
   {
    "duration": 356,
    "start_time": "2022-12-23T13:44:31.199Z"
   },
   {
    "duration": 21,
    "start_time": "2022-12-23T13:44:39.333Z"
   },
   {
    "duration": 8,
    "start_time": "2022-12-23T14:10:40.009Z"
   },
   {
    "duration": 3,
    "start_time": "2022-12-23T14:10:43.409Z"
   },
   {
    "duration": 31,
    "start_time": "2022-12-23T14:10:46.089Z"
   },
   {
    "duration": 5,
    "start_time": "2022-12-23T14:11:24.521Z"
   },
   {
    "duration": 604,
    "start_time": "2022-12-23T14:11:30.059Z"
   },
   {
    "duration": 5,
    "start_time": "2022-12-23T14:11:55.518Z"
   },
   {
    "duration": 69,
    "start_time": "2022-12-23T14:11:55.526Z"
   },
   {
    "duration": 19,
    "start_time": "2022-12-23T14:11:55.597Z"
   },
   {
    "duration": 28,
    "start_time": "2022-12-23T14:11:55.618Z"
   },
   {
    "duration": 21,
    "start_time": "2022-12-23T14:11:55.649Z"
   },
   {
    "duration": 61,
    "start_time": "2022-12-23T14:11:55.672Z"
   },
   {
    "duration": 65,
    "start_time": "2022-12-23T14:11:55.735Z"
   },
   {
    "duration": 18,
    "start_time": "2022-12-23T14:11:55.802Z"
   },
   {
    "duration": 10,
    "start_time": "2022-12-23T14:11:55.821Z"
   },
   {
    "duration": 21,
    "start_time": "2022-12-23T14:11:55.833Z"
   },
   {
    "duration": 2019,
    "start_time": "2022-12-23T14:11:55.857Z"
   },
   {
    "duration": 7,
    "start_time": "2022-12-23T14:12:07.052Z"
   },
   {
    "duration": 249,
    "start_time": "2022-12-23T14:12:11.561Z"
   },
   {
    "duration": 6,
    "start_time": "2022-12-23T14:12:57.902Z"
   },
   {
    "duration": 49,
    "start_time": "2022-12-23T14:12:57.910Z"
   },
   {
    "duration": 22,
    "start_time": "2022-12-23T14:12:57.961Z"
   },
   {
    "duration": 4,
    "start_time": "2022-12-23T14:12:57.985Z"
   },
   {
    "duration": 11,
    "start_time": "2022-12-23T14:12:57.992Z"
   },
   {
    "duration": 55,
    "start_time": "2022-12-23T14:12:58.005Z"
   },
   {
    "duration": 54,
    "start_time": "2022-12-23T14:12:58.064Z"
   },
   {
    "duration": 56,
    "start_time": "2022-12-23T14:12:58.120Z"
   },
   {
    "duration": 7,
    "start_time": "2022-12-23T14:12:58.184Z"
   },
   {
    "duration": 9,
    "start_time": "2022-12-23T14:12:58.193Z"
   },
   {
    "duration": 2151,
    "start_time": "2022-12-23T14:12:58.204Z"
   },
   {
    "duration": 6,
    "start_time": "2022-12-23T14:13:00.361Z"
   },
   {
    "duration": 26,
    "start_time": "2022-12-23T14:13:00.372Z"
   },
   {
    "duration": 10,
    "start_time": "2022-12-23T14:13:00.402Z"
   },
   {
    "duration": 247,
    "start_time": "2022-12-23T14:13:00.414Z"
   },
   {
    "duration": 7,
    "start_time": "2022-12-23T14:13:00.663Z"
   },
   {
    "duration": 33,
    "start_time": "2022-12-23T14:13:00.672Z"
   },
   {
    "duration": 19,
    "start_time": "2022-12-23T14:13:00.707Z"
   },
   {
    "duration": 51,
    "start_time": "2022-12-23T14:13:00.728Z"
   },
   {
    "duration": 1090,
    "start_time": "2022-12-23T14:13:00.781Z"
   },
   {
    "duration": 22,
    "start_time": "2022-12-23T14:13:01.873Z"
   },
   {
    "duration": 23,
    "start_time": "2022-12-23T14:13:01.897Z"
   },
   {
    "duration": 38,
    "start_time": "2022-12-23T14:13:01.923Z"
   },
   {
    "duration": 84,
    "start_time": "2022-12-23T14:13:01.963Z"
   },
   {
    "duration": 156,
    "start_time": "2022-12-23T14:13:02.049Z"
   },
   {
    "duration": 427,
    "start_time": "2022-12-23T14:13:02.207Z"
   },
   {
    "duration": 131,
    "start_time": "2022-12-23T14:13:02.636Z"
   },
   {
    "duration": 100,
    "start_time": "2022-12-23T14:13:02.769Z"
   },
   {
    "duration": 209,
    "start_time": "2022-12-23T14:13:02.873Z"
   },
   {
    "duration": 204,
    "start_time": "2022-12-23T14:13:03.089Z"
   },
   {
    "duration": 125,
    "start_time": "2022-12-23T14:13:03.354Z"
   },
   {
    "duration": 28293,
    "start_time": "2022-12-23T14:13:03.487Z"
   },
   {
    "duration": 245,
    "start_time": "2022-12-23T14:13:31.783Z"
   },
   {
    "duration": 474,
    "start_time": "2022-12-23T14:13:32.031Z"
   },
   {
    "duration": 8,
    "start_time": "2022-12-23T14:13:32.508Z"
   },
   {
    "duration": 8,
    "start_time": "2022-12-23T14:13:32.519Z"
   },
   {
    "duration": 22,
    "start_time": "2022-12-23T14:13:32.529Z"
   },
   {
    "duration": 17,
    "start_time": "2022-12-23T14:13:32.553Z"
   },
   {
    "duration": 278,
    "start_time": "2022-12-23T14:13:32.572Z"
   },
   {
    "duration": 26,
    "start_time": "2022-12-23T14:13:32.853Z"
   },
   {
    "duration": 6,
    "start_time": "2022-12-23T14:45:05.510Z"
   },
   {
    "duration": 76,
    "start_time": "2022-12-23T14:45:05.520Z"
   },
   {
    "duration": 27,
    "start_time": "2022-12-23T14:45:05.599Z"
   },
   {
    "duration": 21,
    "start_time": "2022-12-23T14:45:05.628Z"
   },
   {
    "duration": 52,
    "start_time": "2022-12-23T14:45:05.653Z"
   },
   {
    "duration": 36,
    "start_time": "2022-12-23T14:45:05.707Z"
   },
   {
    "duration": 61,
    "start_time": "2022-12-23T14:45:05.745Z"
   },
   {
    "duration": 18,
    "start_time": "2022-12-23T14:45:05.809Z"
   },
   {
    "duration": 14,
    "start_time": "2022-12-23T14:45:05.829Z"
   },
   {
    "duration": 21,
    "start_time": "2022-12-23T14:45:05.846Z"
   },
   {
    "duration": 1955,
    "start_time": "2022-12-23T14:45:05.869Z"
   },
   {
    "duration": 3,
    "start_time": "2022-12-23T14:45:07.827Z"
   },
   {
    "duration": 20,
    "start_time": "2022-12-23T14:45:07.833Z"
   },
   {
    "duration": 19,
    "start_time": "2022-12-23T14:45:13.107Z"
   },
   {
    "duration": 6,
    "start_time": "2022-12-23T14:48:44.401Z"
   },
   {
    "duration": 233,
    "start_time": "2022-12-23T14:48:55.943Z"
   },
   {
    "duration": 5,
    "start_time": "2022-12-23T14:49:04.691Z"
   },
   {
    "duration": 93,
    "start_time": "2022-12-23T14:55:25.313Z"
   },
   {
    "duration": 18,
    "start_time": "2022-12-23T14:56:02.047Z"
   },
   {
    "duration": 239,
    "start_time": "2022-12-23T14:56:05.134Z"
   },
   {
    "duration": 5,
    "start_time": "2022-12-23T14:56:14.135Z"
   },
   {
    "duration": 6,
    "start_time": "2022-12-23T14:59:27.498Z"
   },
   {
    "duration": 77,
    "start_time": "2022-12-23T14:59:27.506Z"
   },
   {
    "duration": 23,
    "start_time": "2022-12-23T14:59:27.588Z"
   },
   {
    "duration": 7,
    "start_time": "2022-12-23T14:59:27.613Z"
   },
   {
    "duration": 12,
    "start_time": "2022-12-23T14:59:27.622Z"
   },
   {
    "duration": 29,
    "start_time": "2022-12-23T14:59:27.636Z"
   },
   {
    "duration": 73,
    "start_time": "2022-12-23T14:59:27.667Z"
   },
   {
    "duration": 35,
    "start_time": "2022-12-23T14:59:27.743Z"
   },
   {
    "duration": 26,
    "start_time": "2022-12-23T14:59:27.780Z"
   },
   {
    "duration": 5,
    "start_time": "2022-12-23T14:59:27.809Z"
   },
   {
    "duration": 2275,
    "start_time": "2022-12-23T14:59:27.817Z"
   },
   {
    "duration": 3,
    "start_time": "2022-12-23T14:59:30.097Z"
   },
   {
    "duration": 50,
    "start_time": "2022-12-23T14:59:30.102Z"
   },
   {
    "duration": 6,
    "start_time": "2022-12-23T14:59:33.418Z"
   },
   {
    "duration": 271,
    "start_time": "2022-12-23T14:59:49.507Z"
   },
   {
    "duration": 257,
    "start_time": "2022-12-23T15:00:21.226Z"
   },
   {
    "duration": 5,
    "start_time": "2022-12-23T15:00:21.486Z"
   },
   {
    "duration": 26,
    "start_time": "2022-12-23T15:00:21.493Z"
   },
   {
    "duration": 17,
    "start_time": "2022-12-23T15:00:21.522Z"
   },
   {
    "duration": 85,
    "start_time": "2022-12-23T15:00:21.541Z"
   },
   {
    "duration": 1423,
    "start_time": "2022-12-23T15:00:21.629Z"
   },
   {
    "duration": 27,
    "start_time": "2022-12-23T15:00:23.054Z"
   },
   {
    "duration": 36,
    "start_time": "2022-12-23T15:00:23.083Z"
   },
   {
    "duration": 36,
    "start_time": "2022-12-23T15:00:23.121Z"
   },
   {
    "duration": 96,
    "start_time": "2022-12-23T15:00:23.167Z"
   },
   {
    "duration": 157,
    "start_time": "2022-12-23T15:00:23.269Z"
   },
   {
    "duration": 145,
    "start_time": "2022-12-23T15:00:23.428Z"
   },
   {
    "duration": 86,
    "start_time": "2022-12-23T15:00:23.575Z"
   },
   {
    "duration": 16,
    "start_time": "2022-12-23T15:00:23.663Z"
   },
   {
    "duration": 238,
    "start_time": "2022-12-23T15:00:23.683Z"
   },
   {
    "duration": 133,
    "start_time": "2022-12-23T15:00:23.965Z"
   },
   {
    "duration": 140,
    "start_time": "2022-12-23T15:00:24.150Z"
   },
   {
    "duration": 30553,
    "start_time": "2022-12-23T15:00:24.353Z"
   },
   {
    "duration": 257,
    "start_time": "2022-12-23T15:00:54.908Z"
   },
   {
    "duration": 444,
    "start_time": "2022-12-23T15:00:55.166Z"
   },
   {
    "duration": 9,
    "start_time": "2022-12-23T15:00:55.612Z"
   },
   {
    "duration": 52,
    "start_time": "2022-12-23T15:00:55.623Z"
   },
   {
    "duration": 55,
    "start_time": "2022-12-23T15:00:55.677Z"
   },
   {
    "duration": 61,
    "start_time": "2022-12-23T15:00:55.735Z"
   },
   {
    "duration": 391,
    "start_time": "2022-12-23T15:00:55.800Z"
   },
   {
    "duration": 29,
    "start_time": "2022-12-23T15:00:56.196Z"
   },
   {
    "duration": 6,
    "start_time": "2022-12-23T15:19:54.316Z"
   },
   {
    "duration": 519,
    "start_time": "2022-12-23T15:21:32.708Z"
   }
  ],
  "kernelspec": {
   "display_name": "Python 3",
   "language": "python",
   "name": "python3"
  },
  "language_info": {
   "codemirror_mode": {
    "name": "ipython",
    "version": 3
   },
   "file_extension": ".py",
   "mimetype": "text/x-python",
   "name": "python",
   "nbconvert_exporter": "python",
   "pygments_lexer": "ipython3",
   "version": "3.8.5"
  },
  "toc": {
   "base_numbering": 1,
   "nav_menu": {},
   "number_sections": true,
   "sideBar": true,
   "skip_h1_title": true,
   "title_cell": "Содержание",
   "title_sidebar": "Contents",
   "toc_cell": true,
   "toc_position": {},
   "toc_section_display": true,
   "toc_window_display": true
  }
 },
 "nbformat": 4,
 "nbformat_minor": 2
}
