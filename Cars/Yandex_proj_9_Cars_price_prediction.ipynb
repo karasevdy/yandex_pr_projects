{
 "cells": [
  {
   "cell_type": "markdown",
   "metadata": {},
   "source": [
    "# Определение стоимости автомобилей"
   ]
  },
  {
   "cell_type": "markdown",
   "metadata": {},
   "source": [
    "Сервис по продаже автомобилей с пробегом «Не бит, не крашен» разрабатывает приложение для привлечения новых клиентов. В нём можно быстро узнать рыночную стоимость своего автомобиля. В вашем распоряжении исторические данные: технические характеристики, комплектации и цены автомобилей. Вам нужно построить модель для определения стоимости. \n",
    "\n",
    "Заказчику важны:\n",
    "\n",
    "- качество предсказания;\n",
    "- скорость предсказания;\n",
    "- время обучения."
   ]
  },
  {
   "cell_type": "markdown",
   "metadata": {},
   "source": [
    "## Подготовка данных"
   ]
  },
  {
   "cell_type": "code",
   "execution_count": 1,
   "metadata": {},
   "outputs": [],
   "source": [
    "# импорт библиотек\n",
    "import numpy as np\n",
    "import pandas as pd\n",
    "import seaborn as sns\n",
    "import matplotlib.pyplot as plt\n",
    "\n",
    "from sklearn.model_selection import train_test_split # разбивка выборки на обучающую и валидационную\n",
    "from sklearn.metrics import mean_squared_error # средняя квадратичная ошибка (MSE)\n",
    "# rmse = mse**0.5 - корень из средней квадратичной ошибки \n",
    "from sklearn.linear_model import LinearRegression # линейная регрессиия\n",
    "from sklearn.feature_selection import SelectKBest # отбор лучших фичей\n",
    "from sklearn.feature_selection import VarianceThreshold # удаление фичей с минимальной вариацией\n",
    "from sklearn.impute import KNNImputer # заполнение пропусков метоом к ближайших соседей\n",
    "from sklearn.preprocessing import OneHotEncoder\n",
    "from sklearn.preprocessing import StandardScaler\n",
    "from sklearn.compose import make_column_transformer\n",
    "from sklearn.model_selection import RandomizedSearchCV # поиск оптимальных параметров\n",
    "import time # измерение времени выполнения кода\n",
    "from sklearn.preprocessing import StandardScaler # шкалирование"
   ]
  },
  {
   "cell_type": "code",
   "execution_count": 2,
   "metadata": {},
   "outputs": [],
   "source": [
    "# убрать предупреждения\n",
    "import warnings\n",
    "warnings.filterwarnings(\"ignore\")"
   ]
  },
  {
   "cell_type": "code",
   "execution_count": 3,
   "metadata": {},
   "outputs": [],
   "source": [
    "# загрузка данных\n",
    "# столбцы с данными в правильный формат\n",
    "\n",
    "\n",
    "df = pd.read_csv('/datasets/autos.csv', parse_dates=['DateCrawled', 'DateCreated', 'LastSeen'], index_col=['DateCrawled'])"
   ]
  },
  {
   "cell_type": "code",
   "execution_count": 4,
   "metadata": {},
   "outputs": [],
   "source": [
    "# функция для описания df\n",
    "def get_data_info(data):\n",
    "    display(data.sample(5))\n",
    "    display(data.info())\n",
    "    display(data.describe(include='all'))"
   ]
  },
  {
   "cell_type": "code",
   "execution_count": 5,
   "metadata": {},
   "outputs": [
    {
     "data": {
      "text/html": [
       "<div>\n",
       "<style scoped>\n",
       "    .dataframe tbody tr th:only-of-type {\n",
       "        vertical-align: middle;\n",
       "    }\n",
       "\n",
       "    .dataframe tbody tr th {\n",
       "        vertical-align: top;\n",
       "    }\n",
       "\n",
       "    .dataframe thead th {\n",
       "        text-align: right;\n",
       "    }\n",
       "</style>\n",
       "<table border=\"1\" class=\"dataframe\">\n",
       "  <thead>\n",
       "    <tr style=\"text-align: right;\">\n",
       "      <th></th>\n",
       "      <th>Price</th>\n",
       "      <th>VehicleType</th>\n",
       "      <th>RegistrationYear</th>\n",
       "      <th>Gearbox</th>\n",
       "      <th>Power</th>\n",
       "      <th>Model</th>\n",
       "      <th>Kilometer</th>\n",
       "      <th>RegistrationMonth</th>\n",
       "      <th>FuelType</th>\n",
       "      <th>Brand</th>\n",
       "      <th>Repaired</th>\n",
       "      <th>DateCreated</th>\n",
       "      <th>NumberOfPictures</th>\n",
       "      <th>PostalCode</th>\n",
       "      <th>LastSeen</th>\n",
       "    </tr>\n",
       "    <tr>\n",
       "      <th>DateCrawled</th>\n",
       "      <th></th>\n",
       "      <th></th>\n",
       "      <th></th>\n",
       "      <th></th>\n",
       "      <th></th>\n",
       "      <th></th>\n",
       "      <th></th>\n",
       "      <th></th>\n",
       "      <th></th>\n",
       "      <th></th>\n",
       "      <th></th>\n",
       "      <th></th>\n",
       "      <th></th>\n",
       "      <th></th>\n",
       "      <th></th>\n",
       "    </tr>\n",
       "  </thead>\n",
       "  <tbody>\n",
       "    <tr>\n",
       "      <th>2016-03-12 12:50:35</th>\n",
       "      <td>5700</td>\n",
       "      <td>wagon</td>\n",
       "      <td>2002</td>\n",
       "      <td>manual</td>\n",
       "      <td>155</td>\n",
       "      <td>a4</td>\n",
       "      <td>125000</td>\n",
       "      <td>3</td>\n",
       "      <td>gasoline</td>\n",
       "      <td>audi</td>\n",
       "      <td>no</td>\n",
       "      <td>2016-03-12</td>\n",
       "      <td>0</td>\n",
       "      <td>91058</td>\n",
       "      <td>2016-03-16 13:45:14</td>\n",
       "    </tr>\n",
       "    <tr>\n",
       "      <th>2016-03-08 03:02:24</th>\n",
       "      <td>9700</td>\n",
       "      <td>sedan</td>\n",
       "      <td>2009</td>\n",
       "      <td>manual</td>\n",
       "      <td>122</td>\n",
       "      <td>golf</td>\n",
       "      <td>90000</td>\n",
       "      <td>1</td>\n",
       "      <td>petrol</td>\n",
       "      <td>volkswagen</td>\n",
       "      <td>no</td>\n",
       "      <td>2016-03-08</td>\n",
       "      <td>0</td>\n",
       "      <td>52428</td>\n",
       "      <td>2016-04-05 23:18:03</td>\n",
       "    </tr>\n",
       "    <tr>\n",
       "      <th>2016-04-02 21:38:29</th>\n",
       "      <td>590</td>\n",
       "      <td>small</td>\n",
       "      <td>1998</td>\n",
       "      <td>manual</td>\n",
       "      <td>0</td>\n",
       "      <td>arosa</td>\n",
       "      <td>150000</td>\n",
       "      <td>8</td>\n",
       "      <td>petrol</td>\n",
       "      <td>seat</td>\n",
       "      <td>NaN</td>\n",
       "      <td>2016-04-02</td>\n",
       "      <td>0</td>\n",
       "      <td>7551</td>\n",
       "      <td>2016-04-06 22:16:15</td>\n",
       "    </tr>\n",
       "    <tr>\n",
       "      <th>2016-03-31 00:37:03</th>\n",
       "      <td>11950</td>\n",
       "      <td>sedan</td>\n",
       "      <td>2008</td>\n",
       "      <td>manual</td>\n",
       "      <td>170</td>\n",
       "      <td>c_klasse</td>\n",
       "      <td>150000</td>\n",
       "      <td>5</td>\n",
       "      <td>gasoline</td>\n",
       "      <td>mercedes_benz</td>\n",
       "      <td>no</td>\n",
       "      <td>2016-03-31</td>\n",
       "      <td>0</td>\n",
       "      <td>64807</td>\n",
       "      <td>2016-04-06 01:16:42</td>\n",
       "    </tr>\n",
       "    <tr>\n",
       "      <th>2016-04-05 00:55:42</th>\n",
       "      <td>2550</td>\n",
       "      <td>bus</td>\n",
       "      <td>2006</td>\n",
       "      <td>manual</td>\n",
       "      <td>75</td>\n",
       "      <td>berlingo</td>\n",
       "      <td>150000</td>\n",
       "      <td>5</td>\n",
       "      <td>petrol</td>\n",
       "      <td>citroen</td>\n",
       "      <td>no</td>\n",
       "      <td>2016-04-05</td>\n",
       "      <td>0</td>\n",
       "      <td>47259</td>\n",
       "      <td>2016-04-05 08:45:01</td>\n",
       "    </tr>\n",
       "  </tbody>\n",
       "</table>\n",
       "</div>"
      ],
      "text/plain": [
       "                     Price VehicleType  RegistrationYear Gearbox  Power  \\\n",
       "DateCrawled                                                               \n",
       "2016-03-12 12:50:35   5700       wagon              2002  manual    155   \n",
       "2016-03-08 03:02:24   9700       sedan              2009  manual    122   \n",
       "2016-04-02 21:38:29    590       small              1998  manual      0   \n",
       "2016-03-31 00:37:03  11950       sedan              2008  manual    170   \n",
       "2016-04-05 00:55:42   2550         bus              2006  manual     75   \n",
       "\n",
       "                        Model  Kilometer  RegistrationMonth  FuelType  \\\n",
       "DateCrawled                                                             \n",
       "2016-03-12 12:50:35        a4     125000                  3  gasoline   \n",
       "2016-03-08 03:02:24      golf      90000                  1    petrol   \n",
       "2016-04-02 21:38:29     arosa     150000                  8    petrol   \n",
       "2016-03-31 00:37:03  c_klasse     150000                  5  gasoline   \n",
       "2016-04-05 00:55:42  berlingo     150000                  5    petrol   \n",
       "\n",
       "                             Brand Repaired DateCreated  NumberOfPictures  \\\n",
       "DateCrawled                                                                 \n",
       "2016-03-12 12:50:35           audi       no  2016-03-12                 0   \n",
       "2016-03-08 03:02:24     volkswagen       no  2016-03-08                 0   \n",
       "2016-04-02 21:38:29           seat      NaN  2016-04-02                 0   \n",
       "2016-03-31 00:37:03  mercedes_benz       no  2016-03-31                 0   \n",
       "2016-04-05 00:55:42        citroen       no  2016-04-05                 0   \n",
       "\n",
       "                     PostalCode            LastSeen  \n",
       "DateCrawled                                          \n",
       "2016-03-12 12:50:35       91058 2016-03-16 13:45:14  \n",
       "2016-03-08 03:02:24       52428 2016-04-05 23:18:03  \n",
       "2016-04-02 21:38:29        7551 2016-04-06 22:16:15  \n",
       "2016-03-31 00:37:03       64807 2016-04-06 01:16:42  \n",
       "2016-04-05 00:55:42       47259 2016-04-05 08:45:01  "
      ]
     },
     "metadata": {},
     "output_type": "display_data"
    },
    {
     "name": "stdout",
     "output_type": "stream",
     "text": [
      "<class 'pandas.core.frame.DataFrame'>\n",
      "DatetimeIndex: 354369 entries, 2016-03-24 11:52:17 to 2016-03-20 19:41:08\n",
      "Data columns (total 15 columns):\n",
      " #   Column             Non-Null Count   Dtype         \n",
      "---  ------             --------------   -----         \n",
      " 0   Price              354369 non-null  int64         \n",
      " 1   VehicleType        316879 non-null  object        \n",
      " 2   RegistrationYear   354369 non-null  int64         \n",
      " 3   Gearbox            334536 non-null  object        \n",
      " 4   Power              354369 non-null  int64         \n",
      " 5   Model              334664 non-null  object        \n",
      " 6   Kilometer          354369 non-null  int64         \n",
      " 7   RegistrationMonth  354369 non-null  int64         \n",
      " 8   FuelType           321474 non-null  object        \n",
      " 9   Brand              354369 non-null  object        \n",
      " 10  Repaired           283215 non-null  object        \n",
      " 11  DateCreated        354369 non-null  datetime64[ns]\n",
      " 12  NumberOfPictures   354369 non-null  int64         \n",
      " 13  PostalCode         354369 non-null  int64         \n",
      " 14  LastSeen           354369 non-null  datetime64[ns]\n",
      "dtypes: datetime64[ns](2), int64(7), object(6)\n",
      "memory usage: 43.3+ MB\n"
     ]
    },
    {
     "data": {
      "text/plain": [
       "None"
      ]
     },
     "metadata": {},
     "output_type": "display_data"
    },
    {
     "data": {
      "text/html": [
       "<div>\n",
       "<style scoped>\n",
       "    .dataframe tbody tr th:only-of-type {\n",
       "        vertical-align: middle;\n",
       "    }\n",
       "\n",
       "    .dataframe tbody tr th {\n",
       "        vertical-align: top;\n",
       "    }\n",
       "\n",
       "    .dataframe thead th {\n",
       "        text-align: right;\n",
       "    }\n",
       "</style>\n",
       "<table border=\"1\" class=\"dataframe\">\n",
       "  <thead>\n",
       "    <tr style=\"text-align: right;\">\n",
       "      <th></th>\n",
       "      <th>Price</th>\n",
       "      <th>VehicleType</th>\n",
       "      <th>RegistrationYear</th>\n",
       "      <th>Gearbox</th>\n",
       "      <th>Power</th>\n",
       "      <th>Model</th>\n",
       "      <th>Kilometer</th>\n",
       "      <th>RegistrationMonth</th>\n",
       "      <th>FuelType</th>\n",
       "      <th>Brand</th>\n",
       "      <th>Repaired</th>\n",
       "      <th>DateCreated</th>\n",
       "      <th>NumberOfPictures</th>\n",
       "      <th>PostalCode</th>\n",
       "      <th>LastSeen</th>\n",
       "    </tr>\n",
       "  </thead>\n",
       "  <tbody>\n",
       "    <tr>\n",
       "      <th>count</th>\n",
       "      <td>354369.000000</td>\n",
       "      <td>316879</td>\n",
       "      <td>354369.000000</td>\n",
       "      <td>334536</td>\n",
       "      <td>354369.000000</td>\n",
       "      <td>334664</td>\n",
       "      <td>354369.000000</td>\n",
       "      <td>354369.000000</td>\n",
       "      <td>321474</td>\n",
       "      <td>354369</td>\n",
       "      <td>283215</td>\n",
       "      <td>354369</td>\n",
       "      <td>354369.0</td>\n",
       "      <td>354369.000000</td>\n",
       "      <td>354369</td>\n",
       "    </tr>\n",
       "    <tr>\n",
       "      <th>unique</th>\n",
       "      <td>NaN</td>\n",
       "      <td>8</td>\n",
       "      <td>NaN</td>\n",
       "      <td>2</td>\n",
       "      <td>NaN</td>\n",
       "      <td>250</td>\n",
       "      <td>NaN</td>\n",
       "      <td>NaN</td>\n",
       "      <td>7</td>\n",
       "      <td>40</td>\n",
       "      <td>2</td>\n",
       "      <td>109</td>\n",
       "      <td>NaN</td>\n",
       "      <td>NaN</td>\n",
       "      <td>179150</td>\n",
       "    </tr>\n",
       "    <tr>\n",
       "      <th>top</th>\n",
       "      <td>NaN</td>\n",
       "      <td>sedan</td>\n",
       "      <td>NaN</td>\n",
       "      <td>manual</td>\n",
       "      <td>NaN</td>\n",
       "      <td>golf</td>\n",
       "      <td>NaN</td>\n",
       "      <td>NaN</td>\n",
       "      <td>petrol</td>\n",
       "      <td>volkswagen</td>\n",
       "      <td>no</td>\n",
       "      <td>2016-04-03 00:00:00</td>\n",
       "      <td>NaN</td>\n",
       "      <td>NaN</td>\n",
       "      <td>2016-04-06 13:45:54</td>\n",
       "    </tr>\n",
       "    <tr>\n",
       "      <th>freq</th>\n",
       "      <td>NaN</td>\n",
       "      <td>91457</td>\n",
       "      <td>NaN</td>\n",
       "      <td>268251</td>\n",
       "      <td>NaN</td>\n",
       "      <td>29232</td>\n",
       "      <td>NaN</td>\n",
       "      <td>NaN</td>\n",
       "      <td>216352</td>\n",
       "      <td>77013</td>\n",
       "      <td>247161</td>\n",
       "      <td>13719</td>\n",
       "      <td>NaN</td>\n",
       "      <td>NaN</td>\n",
       "      <td>17</td>\n",
       "    </tr>\n",
       "    <tr>\n",
       "      <th>first</th>\n",
       "      <td>NaN</td>\n",
       "      <td>NaN</td>\n",
       "      <td>NaN</td>\n",
       "      <td>NaN</td>\n",
       "      <td>NaN</td>\n",
       "      <td>NaN</td>\n",
       "      <td>NaN</td>\n",
       "      <td>NaN</td>\n",
       "      <td>NaN</td>\n",
       "      <td>NaN</td>\n",
       "      <td>NaN</td>\n",
       "      <td>2014-03-10 00:00:00</td>\n",
       "      <td>NaN</td>\n",
       "      <td>NaN</td>\n",
       "      <td>2016-03-05 14:15:08</td>\n",
       "    </tr>\n",
       "    <tr>\n",
       "      <th>last</th>\n",
       "      <td>NaN</td>\n",
       "      <td>NaN</td>\n",
       "      <td>NaN</td>\n",
       "      <td>NaN</td>\n",
       "      <td>NaN</td>\n",
       "      <td>NaN</td>\n",
       "      <td>NaN</td>\n",
       "      <td>NaN</td>\n",
       "      <td>NaN</td>\n",
       "      <td>NaN</td>\n",
       "      <td>NaN</td>\n",
       "      <td>2016-04-07 00:00:00</td>\n",
       "      <td>NaN</td>\n",
       "      <td>NaN</td>\n",
       "      <td>2016-04-07 14:58:51</td>\n",
       "    </tr>\n",
       "    <tr>\n",
       "      <th>mean</th>\n",
       "      <td>4416.656776</td>\n",
       "      <td>NaN</td>\n",
       "      <td>2004.234448</td>\n",
       "      <td>NaN</td>\n",
       "      <td>110.094337</td>\n",
       "      <td>NaN</td>\n",
       "      <td>128211.172535</td>\n",
       "      <td>5.714645</td>\n",
       "      <td>NaN</td>\n",
       "      <td>NaN</td>\n",
       "      <td>NaN</td>\n",
       "      <td>NaN</td>\n",
       "      <td>0.0</td>\n",
       "      <td>50508.689087</td>\n",
       "      <td>NaN</td>\n",
       "    </tr>\n",
       "    <tr>\n",
       "      <th>std</th>\n",
       "      <td>4514.158514</td>\n",
       "      <td>NaN</td>\n",
       "      <td>90.227958</td>\n",
       "      <td>NaN</td>\n",
       "      <td>189.850405</td>\n",
       "      <td>NaN</td>\n",
       "      <td>37905.341530</td>\n",
       "      <td>3.726421</td>\n",
       "      <td>NaN</td>\n",
       "      <td>NaN</td>\n",
       "      <td>NaN</td>\n",
       "      <td>NaN</td>\n",
       "      <td>0.0</td>\n",
       "      <td>25783.096248</td>\n",
       "      <td>NaN</td>\n",
       "    </tr>\n",
       "    <tr>\n",
       "      <th>min</th>\n",
       "      <td>0.000000</td>\n",
       "      <td>NaN</td>\n",
       "      <td>1000.000000</td>\n",
       "      <td>NaN</td>\n",
       "      <td>0.000000</td>\n",
       "      <td>NaN</td>\n",
       "      <td>5000.000000</td>\n",
       "      <td>0.000000</td>\n",
       "      <td>NaN</td>\n",
       "      <td>NaN</td>\n",
       "      <td>NaN</td>\n",
       "      <td>NaN</td>\n",
       "      <td>0.0</td>\n",
       "      <td>1067.000000</td>\n",
       "      <td>NaN</td>\n",
       "    </tr>\n",
       "    <tr>\n",
       "      <th>25%</th>\n",
       "      <td>1050.000000</td>\n",
       "      <td>NaN</td>\n",
       "      <td>1999.000000</td>\n",
       "      <td>NaN</td>\n",
       "      <td>69.000000</td>\n",
       "      <td>NaN</td>\n",
       "      <td>125000.000000</td>\n",
       "      <td>3.000000</td>\n",
       "      <td>NaN</td>\n",
       "      <td>NaN</td>\n",
       "      <td>NaN</td>\n",
       "      <td>NaN</td>\n",
       "      <td>0.0</td>\n",
       "      <td>30165.000000</td>\n",
       "      <td>NaN</td>\n",
       "    </tr>\n",
       "    <tr>\n",
       "      <th>50%</th>\n",
       "      <td>2700.000000</td>\n",
       "      <td>NaN</td>\n",
       "      <td>2003.000000</td>\n",
       "      <td>NaN</td>\n",
       "      <td>105.000000</td>\n",
       "      <td>NaN</td>\n",
       "      <td>150000.000000</td>\n",
       "      <td>6.000000</td>\n",
       "      <td>NaN</td>\n",
       "      <td>NaN</td>\n",
       "      <td>NaN</td>\n",
       "      <td>NaN</td>\n",
       "      <td>0.0</td>\n",
       "      <td>49413.000000</td>\n",
       "      <td>NaN</td>\n",
       "    </tr>\n",
       "    <tr>\n",
       "      <th>75%</th>\n",
       "      <td>6400.000000</td>\n",
       "      <td>NaN</td>\n",
       "      <td>2008.000000</td>\n",
       "      <td>NaN</td>\n",
       "      <td>143.000000</td>\n",
       "      <td>NaN</td>\n",
       "      <td>150000.000000</td>\n",
       "      <td>9.000000</td>\n",
       "      <td>NaN</td>\n",
       "      <td>NaN</td>\n",
       "      <td>NaN</td>\n",
       "      <td>NaN</td>\n",
       "      <td>0.0</td>\n",
       "      <td>71083.000000</td>\n",
       "      <td>NaN</td>\n",
       "    </tr>\n",
       "    <tr>\n",
       "      <th>max</th>\n",
       "      <td>20000.000000</td>\n",
       "      <td>NaN</td>\n",
       "      <td>9999.000000</td>\n",
       "      <td>NaN</td>\n",
       "      <td>20000.000000</td>\n",
       "      <td>NaN</td>\n",
       "      <td>150000.000000</td>\n",
       "      <td>12.000000</td>\n",
       "      <td>NaN</td>\n",
       "      <td>NaN</td>\n",
       "      <td>NaN</td>\n",
       "      <td>NaN</td>\n",
       "      <td>0.0</td>\n",
       "      <td>99998.000000</td>\n",
       "      <td>NaN</td>\n",
       "    </tr>\n",
       "  </tbody>\n",
       "</table>\n",
       "</div>"
      ],
      "text/plain": [
       "                Price VehicleType  RegistrationYear Gearbox          Power  \\\n",
       "count   354369.000000      316879     354369.000000  334536  354369.000000   \n",
       "unique            NaN           8               NaN       2            NaN   \n",
       "top               NaN       sedan               NaN  manual            NaN   \n",
       "freq              NaN       91457               NaN  268251            NaN   \n",
       "first             NaN         NaN               NaN     NaN            NaN   \n",
       "last              NaN         NaN               NaN     NaN            NaN   \n",
       "mean      4416.656776         NaN       2004.234448     NaN     110.094337   \n",
       "std       4514.158514         NaN         90.227958     NaN     189.850405   \n",
       "min          0.000000         NaN       1000.000000     NaN       0.000000   \n",
       "25%       1050.000000         NaN       1999.000000     NaN      69.000000   \n",
       "50%       2700.000000         NaN       2003.000000     NaN     105.000000   \n",
       "75%       6400.000000         NaN       2008.000000     NaN     143.000000   \n",
       "max      20000.000000         NaN       9999.000000     NaN   20000.000000   \n",
       "\n",
       "         Model      Kilometer  RegistrationMonth FuelType       Brand  \\\n",
       "count   334664  354369.000000      354369.000000   321474      354369   \n",
       "unique     250            NaN                NaN        7          40   \n",
       "top       golf            NaN                NaN   petrol  volkswagen   \n",
       "freq     29232            NaN                NaN   216352       77013   \n",
       "first      NaN            NaN                NaN      NaN         NaN   \n",
       "last       NaN            NaN                NaN      NaN         NaN   \n",
       "mean       NaN  128211.172535           5.714645      NaN         NaN   \n",
       "std        NaN   37905.341530           3.726421      NaN         NaN   \n",
       "min        NaN    5000.000000           0.000000      NaN         NaN   \n",
       "25%        NaN  125000.000000           3.000000      NaN         NaN   \n",
       "50%        NaN  150000.000000           6.000000      NaN         NaN   \n",
       "75%        NaN  150000.000000           9.000000      NaN         NaN   \n",
       "max        NaN  150000.000000          12.000000      NaN         NaN   \n",
       "\n",
       "       Repaired          DateCreated  NumberOfPictures     PostalCode  \\\n",
       "count    283215               354369          354369.0  354369.000000   \n",
       "unique        2                  109               NaN            NaN   \n",
       "top          no  2016-04-03 00:00:00               NaN            NaN   \n",
       "freq     247161                13719               NaN            NaN   \n",
       "first       NaN  2014-03-10 00:00:00               NaN            NaN   \n",
       "last        NaN  2016-04-07 00:00:00               NaN            NaN   \n",
       "mean        NaN                  NaN               0.0   50508.689087   \n",
       "std         NaN                  NaN               0.0   25783.096248   \n",
       "min         NaN                  NaN               0.0    1067.000000   \n",
       "25%         NaN                  NaN               0.0   30165.000000   \n",
       "50%         NaN                  NaN               0.0   49413.000000   \n",
       "75%         NaN                  NaN               0.0   71083.000000   \n",
       "max         NaN                  NaN               0.0   99998.000000   \n",
       "\n",
       "                   LastSeen  \n",
       "count                354369  \n",
       "unique               179150  \n",
       "top     2016-04-06 13:45:54  \n",
       "freq                     17  \n",
       "first   2016-03-05 14:15:08  \n",
       "last    2016-04-07 14:58:51  \n",
       "mean                    NaN  \n",
       "std                     NaN  \n",
       "min                     NaN  \n",
       "25%                     NaN  \n",
       "50%                     NaN  \n",
       "75%                     NaN  \n",
       "max                     NaN  "
      ]
     },
     "metadata": {},
     "output_type": "display_data"
    }
   ],
   "source": [
    "get_data_info(df)"
   ]
  },
  {
   "cell_type": "code",
   "execution_count": 6,
   "metadata": {},
   "outputs": [],
   "source": [
    "# заголовки к нижнему регистру\n",
    "df.columns = df.columns.str.lower() "
   ]
  },
  {
   "cell_type": "markdown",
   "metadata": {},
   "source": [
    "Пропуски:\n",
    "- [] vehicletype кузов \n",
    "- [] gearbox коробка передач\n",
    "- [] model модель автомобиля\n",
    "- [] fueltype тип топлива\n",
    "- [] repaired битая (больше всего здесь)\n",
    "<br><br>\n",
    "Пропусков нет по следующим количественным переменным, которые можно использовать для KNNImputer:<br><br>\n",
    "- price цена (**но это target**)\n",
    "- registrationyear год регистрации авто\n",
    "- power\n",
    "- kilometer пробег\n",
    "- brand марка (но она категориальная, надо будет перекодировать - обучение перекодировщика может привести к утечки данных)\n",
    "<br><br>\n",
    "Не слишком полезные для предсказания цены переменные:<br><br>\n",
    "- numberofpictures количество фотографий (там низкая вариация, как правило фотографий 0)\n",
    "- postalcode почтовый индекс владельца это категориальная переменная на самом деле (в городах-дороже?)\n",
    "- последний просмотр (можно сделать переменную - сколько дней висит объявление с момента скачивания базы? но для всех дата)"
   ]
  },
  {
   "cell_type": "code",
   "execution_count": 7,
   "metadata": {},
   "outputs": [],
   "source": [
    "# numberofpictures удаляем, т.к. во всех объявлениях нет фотографий\n",
    "# postalcode удаляем, т.к. это то же самое, что категориальная переменная закодированная\n",
    "# LabelEncoding - для линейной модели не подходит\n",
    "# registrationmonth - также неинформативная переменная, года достаточно\n",
    "\n",
    "df = df.drop(['numberofpictures', 'postalcode', 'registrationmonth'], axis=1)"
   ]
  },
  {
   "cell_type": "code",
   "execution_count": 8,
   "metadata": {},
   "outputs": [],
   "source": [
    "# разделим данные на обучающую и тестовую выборки не разделяя на фичи и таргет\n",
    "# константа RANDOM_STATE \n",
    "RANDOM_STATE = 12345\n",
    "\n",
    "# features = df.drop(['price'], axis=1)\n",
    "# target = df['price']\n",
    "\n",
    "df_train, df_test = train_test_split(df, test_size=0.25, random_state=RANDOM_STATE)\n",
    "\n",
    "# работаем только с train, чтобы не было утечка данных\n"
   ]
  },
  {
   "cell_type": "markdown",
   "metadata": {},
   "source": [
    "### Удаление аномалий на df_train"
   ]
  },
  {
   "cell_type": "code",
   "execution_count": 9,
   "metadata": {
    "scrolled": true
   },
   "outputs": [
    {
     "data": {
      "text/html": [
       "<div>\n",
       "<style scoped>\n",
       "    .dataframe tbody tr th:only-of-type {\n",
       "        vertical-align: middle;\n",
       "    }\n",
       "\n",
       "    .dataframe tbody tr th {\n",
       "        vertical-align: top;\n",
       "    }\n",
       "\n",
       "    .dataframe thead th {\n",
       "        text-align: right;\n",
       "    }\n",
       "</style>\n",
       "<table border=\"1\" class=\"dataframe\">\n",
       "  <thead>\n",
       "    <tr style=\"text-align: right;\">\n",
       "      <th></th>\n",
       "      <th>price</th>\n",
       "      <th>vehicletype</th>\n",
       "      <th>registrationyear</th>\n",
       "      <th>gearbox</th>\n",
       "      <th>power</th>\n",
       "      <th>model</th>\n",
       "      <th>kilometer</th>\n",
       "      <th>fueltype</th>\n",
       "      <th>brand</th>\n",
       "      <th>repaired</th>\n",
       "      <th>datecreated</th>\n",
       "      <th>lastseen</th>\n",
       "    </tr>\n",
       "    <tr>\n",
       "      <th>DateCrawled</th>\n",
       "      <th></th>\n",
       "      <th></th>\n",
       "      <th></th>\n",
       "      <th></th>\n",
       "      <th></th>\n",
       "      <th></th>\n",
       "      <th></th>\n",
       "      <th></th>\n",
       "      <th></th>\n",
       "      <th></th>\n",
       "      <th></th>\n",
       "      <th></th>\n",
       "    </tr>\n",
       "  </thead>\n",
       "  <tbody>\n",
       "    <tr>\n",
       "      <th>2016-03-27 13:50:02</th>\n",
       "      <td>1299</td>\n",
       "      <td>small</td>\n",
       "      <td>2002</td>\n",
       "      <td>manual</td>\n",
       "      <td>60</td>\n",
       "      <td>punto</td>\n",
       "      <td>80000</td>\n",
       "      <td>petrol</td>\n",
       "      <td>fiat</td>\n",
       "      <td>no</td>\n",
       "      <td>2016-03-27</td>\n",
       "      <td>2016-04-07 09:46:14</td>\n",
       "    </tr>\n",
       "    <tr>\n",
       "      <th>2016-03-30 20:36:23</th>\n",
       "      <td>15500</td>\n",
       "      <td>NaN</td>\n",
       "      <td>2005</td>\n",
       "      <td>auto</td>\n",
       "      <td>476</td>\n",
       "      <td>e_klasse</td>\n",
       "      <td>150000</td>\n",
       "      <td>NaN</td>\n",
       "      <td>mercedes_benz</td>\n",
       "      <td>no</td>\n",
       "      <td>2016-03-30</td>\n",
       "      <td>2016-04-01 16:44:35</td>\n",
       "    </tr>\n",
       "    <tr>\n",
       "      <th>2016-03-16 17:42:49</th>\n",
       "      <td>16750</td>\n",
       "      <td>small</td>\n",
       "      <td>2014</td>\n",
       "      <td>manual</td>\n",
       "      <td>90</td>\n",
       "      <td>a1</td>\n",
       "      <td>50000</td>\n",
       "      <td>gasoline</td>\n",
       "      <td>audi</td>\n",
       "      <td>no</td>\n",
       "      <td>2016-03-16</td>\n",
       "      <td>2016-04-02 22:21:54</td>\n",
       "    </tr>\n",
       "    <tr>\n",
       "      <th>2016-03-16 21:45:05</th>\n",
       "      <td>1350</td>\n",
       "      <td>NaN</td>\n",
       "      <td>2016</td>\n",
       "      <td>manual</td>\n",
       "      <td>0</td>\n",
       "      <td>seicento</td>\n",
       "      <td>60000</td>\n",
       "      <td>NaN</td>\n",
       "      <td>fiat</td>\n",
       "      <td>no</td>\n",
       "      <td>2016-03-16</td>\n",
       "      <td>2016-04-07 09:16:45</td>\n",
       "    </tr>\n",
       "    <tr>\n",
       "      <th>2016-03-05 22:40:09</th>\n",
       "      <td>3650</td>\n",
       "      <td>convertible</td>\n",
       "      <td>2004</td>\n",
       "      <td>manual</td>\n",
       "      <td>95</td>\n",
       "      <td>other</td>\n",
       "      <td>70000</td>\n",
       "      <td>petrol</td>\n",
       "      <td>ford</td>\n",
       "      <td>no</td>\n",
       "      <td>2016-03-05</td>\n",
       "      <td>2016-03-07 19:18:12</td>\n",
       "    </tr>\n",
       "  </tbody>\n",
       "</table>\n",
       "</div>"
      ],
      "text/plain": [
       "                     price  vehicletype  registrationyear gearbox  power  \\\n",
       "DateCrawled                                                                \n",
       "2016-03-27 13:50:02   1299        small              2002  manual     60   \n",
       "2016-03-30 20:36:23  15500          NaN              2005    auto    476   \n",
       "2016-03-16 17:42:49  16750        small              2014  manual     90   \n",
       "2016-03-16 21:45:05   1350          NaN              2016  manual      0   \n",
       "2016-03-05 22:40:09   3650  convertible              2004  manual     95   \n",
       "\n",
       "                        model  kilometer  fueltype          brand repaired  \\\n",
       "DateCrawled                                                                  \n",
       "2016-03-27 13:50:02     punto      80000    petrol           fiat       no   \n",
       "2016-03-30 20:36:23  e_klasse     150000       NaN  mercedes_benz       no   \n",
       "2016-03-16 17:42:49        a1      50000  gasoline           audi       no   \n",
       "2016-03-16 21:45:05  seicento      60000       NaN           fiat       no   \n",
       "2016-03-05 22:40:09     other      70000    petrol           ford       no   \n",
       "\n",
       "                    datecreated            lastseen  \n",
       "DateCrawled                                          \n",
       "2016-03-27 13:50:02  2016-03-27 2016-04-07 09:46:14  \n",
       "2016-03-30 20:36:23  2016-03-30 2016-04-01 16:44:35  \n",
       "2016-03-16 17:42:49  2016-03-16 2016-04-02 22:21:54  \n",
       "2016-03-16 21:45:05  2016-03-16 2016-04-07 09:16:45  \n",
       "2016-03-05 22:40:09  2016-03-05 2016-03-07 19:18:12  "
      ]
     },
     "metadata": {},
     "output_type": "display_data"
    },
    {
     "name": "stdout",
     "output_type": "stream",
     "text": [
      "<class 'pandas.core.frame.DataFrame'>\n",
      "DatetimeIndex: 265776 entries, 2016-03-17 18:37:00 to 2016-04-03 15:36:25\n",
      "Data columns (total 12 columns):\n",
      " #   Column            Non-Null Count   Dtype         \n",
      "---  ------            --------------   -----         \n",
      " 0   price             265776 non-null  int64         \n",
      " 1   vehicletype       237696 non-null  object        \n",
      " 2   registrationyear  265776 non-null  int64         \n",
      " 3   gearbox           250916 non-null  object        \n",
      " 4   power             265776 non-null  int64         \n",
      " 5   model             251032 non-null  object        \n",
      " 6   kilometer         265776 non-null  int64         \n",
      " 7   fueltype          241133 non-null  object        \n",
      " 8   brand             265776 non-null  object        \n",
      " 9   repaired          212400 non-null  object        \n",
      " 10  datecreated       265776 non-null  datetime64[ns]\n",
      " 11  lastseen          265776 non-null  datetime64[ns]\n",
      "dtypes: datetime64[ns](2), int64(4), object(6)\n",
      "memory usage: 26.4+ MB\n"
     ]
    },
    {
     "data": {
      "text/plain": [
       "None"
      ]
     },
     "metadata": {},
     "output_type": "display_data"
    },
    {
     "data": {
      "text/html": [
       "<div>\n",
       "<style scoped>\n",
       "    .dataframe tbody tr th:only-of-type {\n",
       "        vertical-align: middle;\n",
       "    }\n",
       "\n",
       "    .dataframe tbody tr th {\n",
       "        vertical-align: top;\n",
       "    }\n",
       "\n",
       "    .dataframe thead th {\n",
       "        text-align: right;\n",
       "    }\n",
       "</style>\n",
       "<table border=\"1\" class=\"dataframe\">\n",
       "  <thead>\n",
       "    <tr style=\"text-align: right;\">\n",
       "      <th></th>\n",
       "      <th>price</th>\n",
       "      <th>vehicletype</th>\n",
       "      <th>registrationyear</th>\n",
       "      <th>gearbox</th>\n",
       "      <th>power</th>\n",
       "      <th>model</th>\n",
       "      <th>kilometer</th>\n",
       "      <th>fueltype</th>\n",
       "      <th>brand</th>\n",
       "      <th>repaired</th>\n",
       "      <th>datecreated</th>\n",
       "      <th>lastseen</th>\n",
       "    </tr>\n",
       "  </thead>\n",
       "  <tbody>\n",
       "    <tr>\n",
       "      <th>count</th>\n",
       "      <td>265776.000000</td>\n",
       "      <td>237696</td>\n",
       "      <td>265776.000000</td>\n",
       "      <td>250916</td>\n",
       "      <td>265776.000000</td>\n",
       "      <td>251032</td>\n",
       "      <td>265776.000000</td>\n",
       "      <td>241133</td>\n",
       "      <td>265776</td>\n",
       "      <td>212400</td>\n",
       "      <td>265776</td>\n",
       "      <td>265776</td>\n",
       "    </tr>\n",
       "    <tr>\n",
       "      <th>unique</th>\n",
       "      <td>NaN</td>\n",
       "      <td>8</td>\n",
       "      <td>NaN</td>\n",
       "      <td>2</td>\n",
       "      <td>NaN</td>\n",
       "      <td>250</td>\n",
       "      <td>NaN</td>\n",
       "      <td>7</td>\n",
       "      <td>40</td>\n",
       "      <td>2</td>\n",
       "      <td>105</td>\n",
       "      <td>145270</td>\n",
       "    </tr>\n",
       "    <tr>\n",
       "      <th>top</th>\n",
       "      <td>NaN</td>\n",
       "      <td>sedan</td>\n",
       "      <td>NaN</td>\n",
       "      <td>manual</td>\n",
       "      <td>NaN</td>\n",
       "      <td>golf</td>\n",
       "      <td>NaN</td>\n",
       "      <td>petrol</td>\n",
       "      <td>volkswagen</td>\n",
       "      <td>no</td>\n",
       "      <td>2016-04-03 00:00:00</td>\n",
       "      <td>2016-04-06 13:44:31</td>\n",
       "    </tr>\n",
       "    <tr>\n",
       "      <th>freq</th>\n",
       "      <td>NaN</td>\n",
       "      <td>68829</td>\n",
       "      <td>NaN</td>\n",
       "      <td>201214</td>\n",
       "      <td>NaN</td>\n",
       "      <td>21865</td>\n",
       "      <td>NaN</td>\n",
       "      <td>162307</td>\n",
       "      <td>57831</td>\n",
       "      <td>185347</td>\n",
       "      <td>10212</td>\n",
       "      <td>14</td>\n",
       "    </tr>\n",
       "    <tr>\n",
       "      <th>first</th>\n",
       "      <td>NaN</td>\n",
       "      <td>NaN</td>\n",
       "      <td>NaN</td>\n",
       "      <td>NaN</td>\n",
       "      <td>NaN</td>\n",
       "      <td>NaN</td>\n",
       "      <td>NaN</td>\n",
       "      <td>NaN</td>\n",
       "      <td>NaN</td>\n",
       "      <td>NaN</td>\n",
       "      <td>2014-03-10 00:00:00</td>\n",
       "      <td>2016-03-05 14:15:08</td>\n",
       "    </tr>\n",
       "    <tr>\n",
       "      <th>last</th>\n",
       "      <td>NaN</td>\n",
       "      <td>NaN</td>\n",
       "      <td>NaN</td>\n",
       "      <td>NaN</td>\n",
       "      <td>NaN</td>\n",
       "      <td>NaN</td>\n",
       "      <td>NaN</td>\n",
       "      <td>NaN</td>\n",
       "      <td>NaN</td>\n",
       "      <td>NaN</td>\n",
       "      <td>2016-04-07 00:00:00</td>\n",
       "      <td>2016-04-07 14:58:50</td>\n",
       "    </tr>\n",
       "    <tr>\n",
       "      <th>mean</th>\n",
       "      <td>4413.365319</td>\n",
       "      <td>NaN</td>\n",
       "      <td>2004.118923</td>\n",
       "      <td>NaN</td>\n",
       "      <td>110.205545</td>\n",
       "      <td>NaN</td>\n",
       "      <td>128223.409939</td>\n",
       "      <td>NaN</td>\n",
       "      <td>NaN</td>\n",
       "      <td>NaN</td>\n",
       "      <td>NaN</td>\n",
       "      <td>NaN</td>\n",
       "    </tr>\n",
       "    <tr>\n",
       "      <th>std</th>\n",
       "      <td>4511.068821</td>\n",
       "      <td>NaN</td>\n",
       "      <td>85.004061</td>\n",
       "      <td>NaN</td>\n",
       "      <td>195.100040</td>\n",
       "      <td>NaN</td>\n",
       "      <td>37888.556444</td>\n",
       "      <td>NaN</td>\n",
       "      <td>NaN</td>\n",
       "      <td>NaN</td>\n",
       "      <td>NaN</td>\n",
       "      <td>NaN</td>\n",
       "    </tr>\n",
       "    <tr>\n",
       "      <th>min</th>\n",
       "      <td>0.000000</td>\n",
       "      <td>NaN</td>\n",
       "      <td>1000.000000</td>\n",
       "      <td>NaN</td>\n",
       "      <td>0.000000</td>\n",
       "      <td>NaN</td>\n",
       "      <td>5000.000000</td>\n",
       "      <td>NaN</td>\n",
       "      <td>NaN</td>\n",
       "      <td>NaN</td>\n",
       "      <td>NaN</td>\n",
       "      <td>NaN</td>\n",
       "    </tr>\n",
       "    <tr>\n",
       "      <th>25%</th>\n",
       "      <td>1090.000000</td>\n",
       "      <td>NaN</td>\n",
       "      <td>1999.000000</td>\n",
       "      <td>NaN</td>\n",
       "      <td>69.000000</td>\n",
       "      <td>NaN</td>\n",
       "      <td>125000.000000</td>\n",
       "      <td>NaN</td>\n",
       "      <td>NaN</td>\n",
       "      <td>NaN</td>\n",
       "      <td>NaN</td>\n",
       "      <td>NaN</td>\n",
       "    </tr>\n",
       "    <tr>\n",
       "      <th>50%</th>\n",
       "      <td>2700.000000</td>\n",
       "      <td>NaN</td>\n",
       "      <td>2003.000000</td>\n",
       "      <td>NaN</td>\n",
       "      <td>105.000000</td>\n",
       "      <td>NaN</td>\n",
       "      <td>150000.000000</td>\n",
       "      <td>NaN</td>\n",
       "      <td>NaN</td>\n",
       "      <td>NaN</td>\n",
       "      <td>NaN</td>\n",
       "      <td>NaN</td>\n",
       "    </tr>\n",
       "    <tr>\n",
       "      <th>75%</th>\n",
       "      <td>6399.000000</td>\n",
       "      <td>NaN</td>\n",
       "      <td>2008.000000</td>\n",
       "      <td>NaN</td>\n",
       "      <td>141.000000</td>\n",
       "      <td>NaN</td>\n",
       "      <td>150000.000000</td>\n",
       "      <td>NaN</td>\n",
       "      <td>NaN</td>\n",
       "      <td>NaN</td>\n",
       "      <td>NaN</td>\n",
       "      <td>NaN</td>\n",
       "    </tr>\n",
       "    <tr>\n",
       "      <th>max</th>\n",
       "      <td>20000.000000</td>\n",
       "      <td>NaN</td>\n",
       "      <td>9999.000000</td>\n",
       "      <td>NaN</td>\n",
       "      <td>20000.000000</td>\n",
       "      <td>NaN</td>\n",
       "      <td>150000.000000</td>\n",
       "      <td>NaN</td>\n",
       "      <td>NaN</td>\n",
       "      <td>NaN</td>\n",
       "      <td>NaN</td>\n",
       "      <td>NaN</td>\n",
       "    </tr>\n",
       "  </tbody>\n",
       "</table>\n",
       "</div>"
      ],
      "text/plain": [
       "                price vehicletype  registrationyear gearbox          power  \\\n",
       "count   265776.000000      237696     265776.000000  250916  265776.000000   \n",
       "unique            NaN           8               NaN       2            NaN   \n",
       "top               NaN       sedan               NaN  manual            NaN   \n",
       "freq              NaN       68829               NaN  201214            NaN   \n",
       "first             NaN         NaN               NaN     NaN            NaN   \n",
       "last              NaN         NaN               NaN     NaN            NaN   \n",
       "mean      4413.365319         NaN       2004.118923     NaN     110.205545   \n",
       "std       4511.068821         NaN         85.004061     NaN     195.100040   \n",
       "min          0.000000         NaN       1000.000000     NaN       0.000000   \n",
       "25%       1090.000000         NaN       1999.000000     NaN      69.000000   \n",
       "50%       2700.000000         NaN       2003.000000     NaN     105.000000   \n",
       "75%       6399.000000         NaN       2008.000000     NaN     141.000000   \n",
       "max      20000.000000         NaN       9999.000000     NaN   20000.000000   \n",
       "\n",
       "         model      kilometer fueltype       brand repaired  \\\n",
       "count   251032  265776.000000   241133      265776   212400   \n",
       "unique     250            NaN        7          40        2   \n",
       "top       golf            NaN   petrol  volkswagen       no   \n",
       "freq     21865            NaN   162307       57831   185347   \n",
       "first      NaN            NaN      NaN         NaN      NaN   \n",
       "last       NaN            NaN      NaN         NaN      NaN   \n",
       "mean       NaN  128223.409939      NaN         NaN      NaN   \n",
       "std        NaN   37888.556444      NaN         NaN      NaN   \n",
       "min        NaN    5000.000000      NaN         NaN      NaN   \n",
       "25%        NaN  125000.000000      NaN         NaN      NaN   \n",
       "50%        NaN  150000.000000      NaN         NaN      NaN   \n",
       "75%        NaN  150000.000000      NaN         NaN      NaN   \n",
       "max        NaN  150000.000000      NaN         NaN      NaN   \n",
       "\n",
       "                datecreated             lastseen  \n",
       "count                265776               265776  \n",
       "unique                  105               145270  \n",
       "top     2016-04-03 00:00:00  2016-04-06 13:44:31  \n",
       "freq                  10212                   14  \n",
       "first   2014-03-10 00:00:00  2016-03-05 14:15:08  \n",
       "last    2016-04-07 00:00:00  2016-04-07 14:58:50  \n",
       "mean                    NaN                  NaN  \n",
       "std                     NaN                  NaN  \n",
       "min                     NaN                  NaN  \n",
       "25%                     NaN                  NaN  \n",
       "50%                     NaN                  NaN  \n",
       "75%                     NaN                  NaN  \n",
       "max                     NaN                  NaN  "
      ]
     },
     "metadata": {},
     "output_type": "display_data"
    }
   ],
   "source": [
    "get_data_info(df_train)"
   ]
  },
  {
   "cell_type": "code",
   "execution_count": 10,
   "metadata": {},
   "outputs": [
    {
     "data": {
      "image/png": "[encoded data removed]",
      "text/plain": [
       "<Figure size 1080x1440 with 6 Axes>"
      ]
     },
     "metadata": {
      "needs_background": "light"
     },
     "output_type": "display_data"
    },
    {
     "data": {
      "image/png": "[encoded data removed]",
      "text/plain": [
       "<Figure size 1080x1440 with 6 Axes>"
      ]
     },
     "metadata": {
      "needs_background": "light"
     },
     "output_type": "display_data"
    }
   ],
   "source": [
    "# посмотрим на гистограммы\n",
    "df_train.hist(figsize=(15, 20));\n",
    "# plt.xticks (Rotation = -15);\n",
    "df_train.hist(figsize=(15, 20), xrot = 25);"
   ]
  },
  {
   "cell_type": "markdown",
   "metadata": {},
   "source": [
    "Отрицательных значений нет. Аномалии по min и max есть во всех количественных переменных. Удалим аномалии. "
   ]
  },
  {
   "cell_type": "code",
   "execution_count": 11,
   "metadata": {},
   "outputs": [
    {
     "data": {
      "image/png": "[encoded data removed]",
      "text/plain": [
       "<Figure size 1152x1080 with 4 Axes>"
      ]
     },
     "metadata": {
      "needs_background": "light"
     },
     "output_type": "display_data"
    }
   ],
   "source": [
    "# цикл для проверки данных на выбросы: \n",
    "# построит для всех признаков формата int и float ящики с усами:\n",
    "\n",
    "i = 1\n",
    "plt.figure(figsize=(16,15))\n",
    "for col_name in list(df_train.columns):\n",
    "    if((df_train[col_name].dtypes=='int64' or df_train[col_name].dtypes=='float64') and col_name != 'charges'):\n",
    "        plt.subplot(3,3, i)\n",
    "        plt.boxplot(df_train[col_name])\n",
    "        plt.xlabel(col_name)\n",
    "        plt.ylabel('count')\n",
    "        plt.title(f\"Box plot for {col_name}\")\n",
    "        i += 1\n",
    "plt.show()"
   ]
  },
  {
   "cell_type": "code",
   "execution_count": 12,
   "metadata": {},
   "outputs": [
    {
     "name": "stdout",
     "output_type": "stream",
     "text": [
      "удалили 14300 строк в переменной price  с аномалиями\n",
      "удалили 4605 строк в переменной registrationyear  с аномалиями\n",
      "удалили 4280 строк в переменной power  с аномалиями\n"
     ]
    }
   ],
   "source": [
    "# удаление аномалий через цикл и IQR\n",
    "\n",
    "outliers_features = ['price', 'registrationyear', 'power']\n",
    "for col_name in outliers_features:\n",
    "    Q3 = df_train[col_name].quantile(0.75)\n",
    "    Q1 = df_train[col_name].quantile(0.25)\n",
    "    IQR = Q3 - Q1\n",
    "    upper_limit = Q3 + 1.5*IQR\n",
    "    lower_limit = Q1 - 1.5*IQR\n",
    "    prev_size = len(df_train)\n",
    "    df_train = df_train[(df_train[col_name] >= lower_limit) & (df_train[col_name] <= upper_limit)]\n",
    "    cur_size = len(df_train)\n",
    "    print(f\"удалили {prev_size - cur_size} строк в переменной {col_name}  с аномалиями\")"
   ]
  },
  {
   "cell_type": "code",
   "execution_count": 13,
   "metadata": {
    "scrolled": true
   },
   "outputs": [
    {
     "name": "stdout",
     "output_type": "stream",
     "text": [
      "<class 'pandas.core.frame.DataFrame'>\n",
      "DatetimeIndex: 242591 entries, 2016-03-17 18:37:00 to 2016-04-03 15:36:25\n",
      "Data columns (total 12 columns):\n",
      " #   Column            Non-Null Count   Dtype         \n",
      "---  ------            --------------   -----         \n",
      " 0   price             242591 non-null  int64         \n",
      " 1   vehicletype       216048 non-null  object        \n",
      " 2   registrationyear  242591 non-null  int64         \n",
      " 3   gearbox           228995 non-null  object        \n",
      " 4   power             242591 non-null  int64         \n",
      " 5   model             229596 non-null  object        \n",
      " 6   kilometer         242591 non-null  int64         \n",
      " 7   fueltype          219711 non-null  object        \n",
      " 8   brand             242591 non-null  object        \n",
      " 9   repaired          192589 non-null  object        \n",
      " 10  datecreated       242591 non-null  datetime64[ns]\n",
      " 11  lastseen          242591 non-null  datetime64[ns]\n",
      "dtypes: datetime64[ns](2), int64(4), object(6)\n",
      "memory usage: 24.1+ MB\n"
     ]
    }
   ],
   "source": [
    "df_train.info()"
   ]
  },
  {
   "cell_type": "code",
   "execution_count": 14,
   "metadata": {
    "scrolled": true
   },
   "outputs": [
    {
     "data": {
      "text/html": [
       "<div>\n",
       "<style scoped>\n",
       "    .dataframe tbody tr th:only-of-type {\n",
       "        vertical-align: middle;\n",
       "    }\n",
       "\n",
       "    .dataframe tbody tr th {\n",
       "        vertical-align: top;\n",
       "    }\n",
       "\n",
       "    .dataframe thead th {\n",
       "        text-align: right;\n",
       "    }\n",
       "</style>\n",
       "<table border=\"1\" class=\"dataframe\">\n",
       "  <thead>\n",
       "    <tr style=\"text-align: right;\">\n",
       "      <th></th>\n",
       "      <th>price</th>\n",
       "      <th>registrationyear</th>\n",
       "      <th>power</th>\n",
       "      <th>kilometer</th>\n",
       "    </tr>\n",
       "  </thead>\n",
       "  <tbody>\n",
       "    <tr>\n",
       "      <th>count</th>\n",
       "      <td>242591.000000</td>\n",
       "      <td>242591.000000</td>\n",
       "      <td>242591.000000</td>\n",
       "      <td>242591.000000</td>\n",
       "    </tr>\n",
       "    <tr>\n",
       "      <th>mean</th>\n",
       "      <td>3624.899996</td>\n",
       "      <td>2003.272409</td>\n",
       "      <td>99.850749</td>\n",
       "      <td>130711.691695</td>\n",
       "    </tr>\n",
       "    <tr>\n",
       "      <th>std</th>\n",
       "      <td>3407.647374</td>\n",
       "      <td>6.285462</td>\n",
       "      <td>54.792852</td>\n",
       "      <td>35712.219965</td>\n",
       "    </tr>\n",
       "    <tr>\n",
       "      <th>min</th>\n",
       "      <td>0.000000</td>\n",
       "      <td>1987.000000</td>\n",
       "      <td>0.000000</td>\n",
       "      <td>5000.000000</td>\n",
       "    </tr>\n",
       "    <tr>\n",
       "      <th>25%</th>\n",
       "      <td>999.000000</td>\n",
       "      <td>1999.000000</td>\n",
       "      <td>65.000000</td>\n",
       "      <td>125000.000000</td>\n",
       "    </tr>\n",
       "    <tr>\n",
       "      <th>50%</th>\n",
       "      <td>2450.000000</td>\n",
       "      <td>2003.000000</td>\n",
       "      <td>101.000000</td>\n",
       "      <td>150000.000000</td>\n",
       "    </tr>\n",
       "    <tr>\n",
       "      <th>75%</th>\n",
       "      <td>5390.000000</td>\n",
       "      <td>2007.000000</td>\n",
       "      <td>140.000000</td>\n",
       "      <td>150000.000000</td>\n",
       "    </tr>\n",
       "    <tr>\n",
       "      <th>max</th>\n",
       "      <td>14350.000000</td>\n",
       "      <td>2019.000000</td>\n",
       "      <td>248.000000</td>\n",
       "      <td>150000.000000</td>\n",
       "    </tr>\n",
       "  </tbody>\n",
       "</table>\n",
       "</div>"
      ],
      "text/plain": [
       "               price  registrationyear          power      kilometer\n",
       "count  242591.000000     242591.000000  242591.000000  242591.000000\n",
       "mean     3624.899996       2003.272409      99.850749  130711.691695\n",
       "std      3407.647374          6.285462      54.792852   35712.219965\n",
       "min         0.000000       1987.000000       0.000000    5000.000000\n",
       "25%       999.000000       1999.000000      65.000000  125000.000000\n",
       "50%      2450.000000       2003.000000     101.000000  150000.000000\n",
       "75%      5390.000000       2007.000000     140.000000  150000.000000\n",
       "max     14350.000000       2019.000000     248.000000  150000.000000"
      ]
     },
     "execution_count": 14,
     "metadata": {},
     "output_type": "execute_result"
    }
   ],
   "source": [
    "df_train.describe()"
   ]
  },
  {
   "cell_type": "markdown",
   "metadata": {},
   "source": [
    "Нулевая и слишком маленькая цена и объем двигателя в лошадиных силах - это аномалии, их нужно удалить."
   ]
  },
  {
   "cell_type": "code",
   "execution_count": 15,
   "metadata": {},
   "outputs": [],
   "source": [
    "# удаляем нули\n",
    "df_train = df_train[(df_train['price'] != 0)]\n",
    "df_train = df_train[(df_train['power'] != 0)]"
   ]
  },
  {
   "cell_type": "code",
   "execution_count": 16,
   "metadata": {
    "scrolled": false
   },
   "outputs": [
    {
     "data": {
      "text/html": [
       "<div>\n",
       "<style scoped>\n",
       "    .dataframe tbody tr th:only-of-type {\n",
       "        vertical-align: middle;\n",
       "    }\n",
       "\n",
       "    .dataframe tbody tr th {\n",
       "        vertical-align: top;\n",
       "    }\n",
       "\n",
       "    .dataframe thead th {\n",
       "        text-align: right;\n",
       "    }\n",
       "</style>\n",
       "<table border=\"1\" class=\"dataframe\">\n",
       "  <thead>\n",
       "    <tr style=\"text-align: right;\">\n",
       "      <th></th>\n",
       "      <th>price</th>\n",
       "      <th>registrationyear</th>\n",
       "      <th>power</th>\n",
       "      <th>kilometer</th>\n",
       "    </tr>\n",
       "  </thead>\n",
       "  <tbody>\n",
       "    <tr>\n",
       "      <th>count</th>\n",
       "      <td>209420.000000</td>\n",
       "      <td>209420.000000</td>\n",
       "      <td>209420.000000</td>\n",
       "      <td>209420.000000</td>\n",
       "    </tr>\n",
       "    <tr>\n",
       "      <th>mean</th>\n",
       "      <td>3940.630670</td>\n",
       "      <td>2003.314793</td>\n",
       "      <td>113.099570</td>\n",
       "      <td>130894.756948</td>\n",
       "    </tr>\n",
       "    <tr>\n",
       "      <th>std</th>\n",
       "      <td>3445.464176</td>\n",
       "      <td>6.053246</td>\n",
       "      <td>43.654617</td>\n",
       "      <td>34553.721529</td>\n",
       "    </tr>\n",
       "    <tr>\n",
       "      <th>min</th>\n",
       "      <td>1.000000</td>\n",
       "      <td>1987.000000</td>\n",
       "      <td>1.000000</td>\n",
       "      <td>5000.000000</td>\n",
       "    </tr>\n",
       "    <tr>\n",
       "      <th>25%</th>\n",
       "      <td>1200.000000</td>\n",
       "      <td>1999.000000</td>\n",
       "      <td>75.000000</td>\n",
       "      <td>125000.000000</td>\n",
       "    </tr>\n",
       "    <tr>\n",
       "      <th>50%</th>\n",
       "      <td>2799.000000</td>\n",
       "      <td>2003.000000</td>\n",
       "      <td>106.000000</td>\n",
       "      <td>150000.000000</td>\n",
       "    </tr>\n",
       "    <tr>\n",
       "      <th>75%</th>\n",
       "      <td>5899.000000</td>\n",
       "      <td>2007.000000</td>\n",
       "      <td>140.000000</td>\n",
       "      <td>150000.000000</td>\n",
       "    </tr>\n",
       "    <tr>\n",
       "      <th>max</th>\n",
       "      <td>14350.000000</td>\n",
       "      <td>2019.000000</td>\n",
       "      <td>248.000000</td>\n",
       "      <td>150000.000000</td>\n",
       "    </tr>\n",
       "  </tbody>\n",
       "</table>\n",
       "</div>"
      ],
      "text/plain": [
       "               price  registrationyear          power      kilometer\n",
       "count  209420.000000     209420.000000  209420.000000  209420.000000\n",
       "mean     3940.630670       2003.314793     113.099570  130894.756948\n",
       "std      3445.464176          6.053246      43.654617   34553.721529\n",
       "min         1.000000       1987.000000       1.000000    5000.000000\n",
       "25%      1200.000000       1999.000000      75.000000  125000.000000\n",
       "50%      2799.000000       2003.000000     106.000000  150000.000000\n",
       "75%      5899.000000       2007.000000     140.000000  150000.000000\n",
       "max     14350.000000       2019.000000     248.000000  150000.000000"
      ]
     },
     "execution_count": 16,
     "metadata": {},
     "output_type": "execute_result"
    }
   ],
   "source": [
    "df_train.describe()"
   ]
  },
  {
   "cell_type": "markdown",
   "metadata": {},
   "source": [
    "Минимальный объем двигателя малолитражки за изучаемый период ок. 50 л.с."
   ]
  },
  {
   "cell_type": "code",
   "execution_count": 17,
   "metadata": {},
   "outputs": [
    {
     "data": {
      "text/plain": [
       "45.0"
      ]
     },
     "execution_count": 17,
     "metadata": {},
     "output_type": "execute_result"
    }
   ],
   "source": [
    "df_train['power'].quantile(0.01)"
   ]
  },
  {
   "cell_type": "code",
   "execution_count": 18,
   "metadata": {},
   "outputs": [
    {
     "data": {
      "text/plain": [
       "<AxesSubplot:ylabel='Frequency'>"
      ]
     },
     "execution_count": 18,
     "metadata": {},
     "output_type": "execute_result"
    },
    {
     "data": {
      "image/png": "[encoded data removed]",
      "text/plain": [
       "<Figure size 432x288 with 1 Axes>"
      ]
     },
     "metadata": {
      "needs_background": "light"
     },
     "output_type": "display_data"
    }
   ],
   "source": [
    "df_train.plot(kind='hist', y='power', bins=15, grid=True, legend=True)"
   ]
  },
  {
   "cell_type": "code",
   "execution_count": 19,
   "metadata": {},
   "outputs": [],
   "source": [
    "df_train = df_train.loc[df_train['power'] >= 50]"
   ]
  },
  {
   "cell_type": "code",
   "execution_count": 20,
   "metadata": {},
   "outputs": [
    {
     "data": {
      "text/plain": [
       "<AxesSubplot:ylabel='Frequency'>"
      ]
     },
     "execution_count": 20,
     "metadata": {},
     "output_type": "execute_result"
    },
    {
     "data": {
      "image/png": "[encoded data removed]",
      "text/plain": [
       "<Figure size 432x288 with 1 Axes>"
      ]
     },
     "metadata": {
      "needs_background": "light"
     },
     "output_type": "display_data"
    }
   ],
   "source": [
    "df_train.plot(kind='hist', y='power', bins=15, grid=True, legend=True)"
   ]
  },
  {
   "cell_type": "code",
   "execution_count": 21,
   "metadata": {},
   "outputs": [
    {
     "data": {
      "text/plain": [
       "150.0"
      ]
     },
     "execution_count": 21,
     "metadata": {},
     "output_type": "execute_result"
    }
   ],
   "source": [
    "df_train['price'].quantile(0.01)"
   ]
  },
  {
   "cell_type": "code",
   "execution_count": 22,
   "metadata": {},
   "outputs": [
    {
     "data": {
      "text/plain": [
       "<AxesSubplot:ylabel='Frequency'>"
      ]
     },
     "execution_count": 22,
     "metadata": {},
     "output_type": "execute_result"
    },
    {
     "data": {
      "image/png": "[encoded data removed]",
      "text/plain": [
       "<Figure size 432x288 with 1 Axes>"
      ]
     },
     "metadata": {
      "needs_background": "light"
     },
     "output_type": "display_data"
    }
   ],
   "source": [
    "df_train.plot(kind='hist', y='price', bins=15, grid=True, legend=True)"
   ]
  },
  {
   "cell_type": "code",
   "execution_count": 23,
   "metadata": {},
   "outputs": [],
   "source": [
    "df_train = df_train.loc[df_train['price'] >= 150]"
   ]
  },
  {
   "cell_type": "code",
   "execution_count": 24,
   "metadata": {},
   "outputs": [
    {
     "data": {
      "text/plain": [
       "<AxesSubplot:ylabel='Frequency'>"
      ]
     },
     "execution_count": 24,
     "metadata": {},
     "output_type": "execute_result"
    },
    {
     "data": {
      "image/png": "[encoded data removed]",
      "text/plain": [
       "<Figure size 432x288 with 1 Axes>"
      ]
     },
     "metadata": {
      "needs_background": "light"
     },
     "output_type": "display_data"
    }
   ],
   "source": [
    "df_train.plot(kind='hist', y='price', bins=10, grid=True, legend=True)"
   ]
  },
  {
   "cell_type": "code",
   "execution_count": 25,
   "metadata": {},
   "outputs": [
    {
     "data": {
      "image/png": "[encoded data removed]",
      "text/plain": [
       "<Figure size 1080x1440 with 6 Axes>"
      ]
     },
     "metadata": {
      "needs_background": "light"
     },
     "output_type": "display_data"
    }
   ],
   "source": [
    "df_train.hist(figsize=(15, 20));\n",
    "plt.xticks (Rotation = -20);"
   ]
  },
  {
   "cell_type": "code",
   "execution_count": null,
   "metadata": {},
   "outputs": [],
   "source": []
  },
  {
   "cell_type": "markdown",
   "metadata": {},
   "source": [
    "**Слишком долго зависшие на сайте объявления тоже аномалии**. (какие-то показатели не адекватны)<br><br>  \n",
    "Рассчитать срок жизни объявления с адекватной ценой по разнице между датой публикации и датой последнего обращения к нему владельца"
   ]
  },
  {
   "cell_type": "code",
   "execution_count": 26,
   "metadata": {
    "scrolled": false
   },
   "outputs": [
    {
     "data": {
      "text/html": [
       "<div>\n",
       "<style scoped>\n",
       "    .dataframe tbody tr th:only-of-type {\n",
       "        vertical-align: middle;\n",
       "    }\n",
       "\n",
       "    .dataframe tbody tr th {\n",
       "        vertical-align: top;\n",
       "    }\n",
       "\n",
       "    .dataframe thead th {\n",
       "        text-align: right;\n",
       "    }\n",
       "</style>\n",
       "<table border=\"1\" class=\"dataframe\">\n",
       "  <thead>\n",
       "    <tr style=\"text-align: right;\">\n",
       "      <th></th>\n",
       "      <th>price</th>\n",
       "      <th>vehicletype</th>\n",
       "      <th>registrationyear</th>\n",
       "      <th>gearbox</th>\n",
       "      <th>power</th>\n",
       "      <th>model</th>\n",
       "      <th>kilometer</th>\n",
       "      <th>fueltype</th>\n",
       "      <th>brand</th>\n",
       "      <th>repaired</th>\n",
       "      <th>datecreated</th>\n",
       "      <th>lastseen</th>\n",
       "    </tr>\n",
       "    <tr>\n",
       "      <th>DateCrawled</th>\n",
       "      <th></th>\n",
       "      <th></th>\n",
       "      <th></th>\n",
       "      <th></th>\n",
       "      <th></th>\n",
       "      <th></th>\n",
       "      <th></th>\n",
       "      <th></th>\n",
       "      <th></th>\n",
       "      <th></th>\n",
       "      <th></th>\n",
       "      <th></th>\n",
       "    </tr>\n",
       "  </thead>\n",
       "  <tbody>\n",
       "    <tr>\n",
       "      <th>2016-04-04 10:55:26</th>\n",
       "      <td>650</td>\n",
       "      <td>NaN</td>\n",
       "      <td>1995</td>\n",
       "      <td>NaN</td>\n",
       "      <td>101</td>\n",
       "      <td>NaN</td>\n",
       "      <td>150000</td>\n",
       "      <td>petrol</td>\n",
       "      <td>bmw</td>\n",
       "      <td>no</td>\n",
       "      <td>2016-04-04</td>\n",
       "      <td>2016-04-04 10:55:26</td>\n",
       "    </tr>\n",
       "    <tr>\n",
       "      <th>2016-03-31 02:32:44</th>\n",
       "      <td>3299</td>\n",
       "      <td>wagon</td>\n",
       "      <td>2003</td>\n",
       "      <td>manual</td>\n",
       "      <td>101</td>\n",
       "      <td>astra</td>\n",
       "      <td>125000</td>\n",
       "      <td>gasoline</td>\n",
       "      <td>opel</td>\n",
       "      <td>no</td>\n",
       "      <td>2016-03-31</td>\n",
       "      <td>2016-04-05 17:26:12</td>\n",
       "    </tr>\n",
       "    <tr>\n",
       "      <th>2016-04-01 15:58:09</th>\n",
       "      <td>2700</td>\n",
       "      <td>sedan</td>\n",
       "      <td>2005</td>\n",
       "      <td>auto</td>\n",
       "      <td>150</td>\n",
       "      <td>vectra</td>\n",
       "      <td>150000</td>\n",
       "      <td>gasoline</td>\n",
       "      <td>opel</td>\n",
       "      <td>no</td>\n",
       "      <td>2016-04-01</td>\n",
       "      <td>2016-04-07 13:50:36</td>\n",
       "    </tr>\n",
       "    <tr>\n",
       "      <th>2016-03-23 18:45:47</th>\n",
       "      <td>9999</td>\n",
       "      <td>suv</td>\n",
       "      <td>2004</td>\n",
       "      <td>auto</td>\n",
       "      <td>177</td>\n",
       "      <td>range_rover</td>\n",
       "      <td>150000</td>\n",
       "      <td>gasoline</td>\n",
       "      <td>land_rover</td>\n",
       "      <td>no</td>\n",
       "      <td>2016-03-23</td>\n",
       "      <td>2016-04-03 22:18:01</td>\n",
       "    </tr>\n",
       "    <tr>\n",
       "      <th>2016-04-03 09:37:21</th>\n",
       "      <td>4990</td>\n",
       "      <td>bus</td>\n",
       "      <td>2009</td>\n",
       "      <td>manual</td>\n",
       "      <td>80</td>\n",
       "      <td>caddy</td>\n",
       "      <td>150000</td>\n",
       "      <td>petrol</td>\n",
       "      <td>volkswagen</td>\n",
       "      <td>no</td>\n",
       "      <td>2016-04-03</td>\n",
       "      <td>2016-04-07 11:17:19</td>\n",
       "    </tr>\n",
       "  </tbody>\n",
       "</table>\n",
       "</div>"
      ],
      "text/plain": [
       "                     price vehicletype  registrationyear gearbox  power  \\\n",
       "DateCrawled                                                               \n",
       "2016-04-04 10:55:26    650         NaN              1995     NaN    101   \n",
       "2016-03-31 02:32:44   3299       wagon              2003  manual    101   \n",
       "2016-04-01 15:58:09   2700       sedan              2005    auto    150   \n",
       "2016-03-23 18:45:47   9999         suv              2004    auto    177   \n",
       "2016-04-03 09:37:21   4990         bus              2009  manual     80   \n",
       "\n",
       "                           model  kilometer  fueltype       brand repaired  \\\n",
       "DateCrawled                                                                  \n",
       "2016-04-04 10:55:26          NaN     150000    petrol         bmw       no   \n",
       "2016-03-31 02:32:44        astra     125000  gasoline        opel       no   \n",
       "2016-04-01 15:58:09       vectra     150000  gasoline        opel       no   \n",
       "2016-03-23 18:45:47  range_rover     150000  gasoline  land_rover       no   \n",
       "2016-04-03 09:37:21        caddy     150000    petrol  volkswagen       no   \n",
       "\n",
       "                    datecreated            lastseen  \n",
       "DateCrawled                                          \n",
       "2016-04-04 10:55:26  2016-04-04 2016-04-04 10:55:26  \n",
       "2016-03-31 02:32:44  2016-03-31 2016-04-05 17:26:12  \n",
       "2016-04-01 15:58:09  2016-04-01 2016-04-07 13:50:36  \n",
       "2016-03-23 18:45:47  2016-03-23 2016-04-03 22:18:01  \n",
       "2016-04-03 09:37:21  2016-04-03 2016-04-07 11:17:19  "
      ]
     },
     "metadata": {},
     "output_type": "display_data"
    },
    {
     "name": "stdout",
     "output_type": "stream",
     "text": [
      "<class 'pandas.core.frame.DataFrame'>\n",
      "DatetimeIndex: 204331 entries, 2016-03-17 18:37:00 to 2016-04-03 15:36:25\n",
      "Data columns (total 12 columns):\n",
      " #   Column            Non-Null Count   Dtype         \n",
      "---  ------            --------------   -----         \n",
      " 0   price             204331 non-null  int64         \n",
      " 1   vehicletype       189745 non-null  object        \n",
      " 2   registrationyear  204331 non-null  int64         \n",
      " 3   gearbox           200414 non-null  object        \n",
      " 4   power             204331 non-null  int64         \n",
      " 5   model             196598 non-null  object        \n",
      " 6   kilometer         204331 non-null  int64         \n",
      " 7   fueltype          191039 non-null  object        \n",
      " 8   brand             204331 non-null  object        \n",
      " 9   repaired          172526 non-null  object        \n",
      " 10  datecreated       204331 non-null  datetime64[ns]\n",
      " 11  lastseen          204331 non-null  datetime64[ns]\n",
      "dtypes: datetime64[ns](2), int64(4), object(6)\n",
      "memory usage: 20.3+ MB\n"
     ]
    },
    {
     "data": {
      "text/plain": [
       "None"
      ]
     },
     "metadata": {},
     "output_type": "display_data"
    },
    {
     "data": {
      "text/html": [
       "<div>\n",
       "<style scoped>\n",
       "    .dataframe tbody tr th:only-of-type {\n",
       "        vertical-align: middle;\n",
       "    }\n",
       "\n",
       "    .dataframe tbody tr th {\n",
       "        vertical-align: top;\n",
       "    }\n",
       "\n",
       "    .dataframe thead th {\n",
       "        text-align: right;\n",
       "    }\n",
       "</style>\n",
       "<table border=\"1\" class=\"dataframe\">\n",
       "  <thead>\n",
       "    <tr style=\"text-align: right;\">\n",
       "      <th></th>\n",
       "      <th>price</th>\n",
       "      <th>vehicletype</th>\n",
       "      <th>registrationyear</th>\n",
       "      <th>gearbox</th>\n",
       "      <th>power</th>\n",
       "      <th>model</th>\n",
       "      <th>kilometer</th>\n",
       "      <th>fueltype</th>\n",
       "      <th>brand</th>\n",
       "      <th>repaired</th>\n",
       "      <th>datecreated</th>\n",
       "      <th>lastseen</th>\n",
       "    </tr>\n",
       "  </thead>\n",
       "  <tbody>\n",
       "    <tr>\n",
       "      <th>count</th>\n",
       "      <td>204331.000000</td>\n",
       "      <td>189745</td>\n",
       "      <td>204331.000000</td>\n",
       "      <td>200414</td>\n",
       "      <td>204331.000000</td>\n",
       "      <td>196598</td>\n",
       "      <td>204331.000000</td>\n",
       "      <td>191039</td>\n",
       "      <td>204331</td>\n",
       "      <td>172526</td>\n",
       "      <td>204331</td>\n",
       "      <td>204331</td>\n",
       "    </tr>\n",
       "    <tr>\n",
       "      <th>unique</th>\n",
       "      <td>NaN</td>\n",
       "      <td>8</td>\n",
       "      <td>NaN</td>\n",
       "      <td>2</td>\n",
       "      <td>NaN</td>\n",
       "      <td>245</td>\n",
       "      <td>NaN</td>\n",
       "      <td>7</td>\n",
       "      <td>40</td>\n",
       "      <td>2</td>\n",
       "      <td>99</td>\n",
       "      <td>119661</td>\n",
       "    </tr>\n",
       "    <tr>\n",
       "      <th>top</th>\n",
       "      <td>NaN</td>\n",
       "      <td>sedan</td>\n",
       "      <td>NaN</td>\n",
       "      <td>manual</td>\n",
       "      <td>NaN</td>\n",
       "      <td>golf</td>\n",
       "      <td>NaN</td>\n",
       "      <td>petrol</td>\n",
       "      <td>volkswagen</td>\n",
       "      <td>no</td>\n",
       "      <td>2016-04-03 00:00:00</td>\n",
       "      <td>2016-04-06 17:45:15</td>\n",
       "    </tr>\n",
       "    <tr>\n",
       "      <th>freq</th>\n",
       "      <td>NaN</td>\n",
       "      <td>55342</td>\n",
       "      <td>NaN</td>\n",
       "      <td>165724</td>\n",
       "      <td>NaN</td>\n",
       "      <td>17939</td>\n",
       "      <td>NaN</td>\n",
       "      <td>129061</td>\n",
       "      <td>45293</td>\n",
       "      <td>152246</td>\n",
       "      <td>7972</td>\n",
       "      <td>13</td>\n",
       "    </tr>\n",
       "    <tr>\n",
       "      <th>first</th>\n",
       "      <td>NaN</td>\n",
       "      <td>NaN</td>\n",
       "      <td>NaN</td>\n",
       "      <td>NaN</td>\n",
       "      <td>NaN</td>\n",
       "      <td>NaN</td>\n",
       "      <td>NaN</td>\n",
       "      <td>NaN</td>\n",
       "      <td>NaN</td>\n",
       "      <td>NaN</td>\n",
       "      <td>2015-03-20 00:00:00</td>\n",
       "      <td>2016-03-05 14:15:08</td>\n",
       "    </tr>\n",
       "    <tr>\n",
       "      <th>last</th>\n",
       "      <td>NaN</td>\n",
       "      <td>NaN</td>\n",
       "      <td>NaN</td>\n",
       "      <td>NaN</td>\n",
       "      <td>NaN</td>\n",
       "      <td>NaN</td>\n",
       "      <td>NaN</td>\n",
       "      <td>NaN</td>\n",
       "      <td>NaN</td>\n",
       "      <td>NaN</td>\n",
       "      <td>2016-04-07 00:00:00</td>\n",
       "      <td>2016-04-07 14:58:50</td>\n",
       "    </tr>\n",
       "    <tr>\n",
       "      <th>mean</th>\n",
       "      <td>4015.010096</td>\n",
       "      <td>NaN</td>\n",
       "      <td>2003.411612</td>\n",
       "      <td>NaN</td>\n",
       "      <td>114.553817</td>\n",
       "      <td>NaN</td>\n",
       "      <td>130999.676995</td>\n",
       "      <td>NaN</td>\n",
       "      <td>NaN</td>\n",
       "      <td>NaN</td>\n",
       "      <td>NaN</td>\n",
       "      <td>NaN</td>\n",
       "    </tr>\n",
       "    <tr>\n",
       "      <th>std</th>\n",
       "      <td>3447.185692</td>\n",
       "      <td>NaN</td>\n",
       "      <td>5.995702</td>\n",
       "      <td>NaN</td>\n",
       "      <td>42.903183</td>\n",
       "      <td>NaN</td>\n",
       "      <td>34368.254247</td>\n",
       "      <td>NaN</td>\n",
       "      <td>NaN</td>\n",
       "      <td>NaN</td>\n",
       "      <td>NaN</td>\n",
       "      <td>NaN</td>\n",
       "    </tr>\n",
       "    <tr>\n",
       "      <th>min</th>\n",
       "      <td>150.000000</td>\n",
       "      <td>NaN</td>\n",
       "      <td>1987.000000</td>\n",
       "      <td>NaN</td>\n",
       "      <td>50.000000</td>\n",
       "      <td>NaN</td>\n",
       "      <td>5000.000000</td>\n",
       "      <td>NaN</td>\n",
       "      <td>NaN</td>\n",
       "      <td>NaN</td>\n",
       "      <td>NaN</td>\n",
       "      <td>NaN</td>\n",
       "    </tr>\n",
       "    <tr>\n",
       "      <th>25%</th>\n",
       "      <td>1299.000000</td>\n",
       "      <td>NaN</td>\n",
       "      <td>1999.000000</td>\n",
       "      <td>NaN</td>\n",
       "      <td>75.000000</td>\n",
       "      <td>NaN</td>\n",
       "      <td>125000.000000</td>\n",
       "      <td>NaN</td>\n",
       "      <td>NaN</td>\n",
       "      <td>NaN</td>\n",
       "      <td>NaN</td>\n",
       "      <td>NaN</td>\n",
       "    </tr>\n",
       "    <tr>\n",
       "      <th>50%</th>\n",
       "      <td>2850.000000</td>\n",
       "      <td>NaN</td>\n",
       "      <td>2003.000000</td>\n",
       "      <td>NaN</td>\n",
       "      <td>109.000000</td>\n",
       "      <td>NaN</td>\n",
       "      <td>150000.000000</td>\n",
       "      <td>NaN</td>\n",
       "      <td>NaN</td>\n",
       "      <td>NaN</td>\n",
       "      <td>NaN</td>\n",
       "      <td>NaN</td>\n",
       "    </tr>\n",
       "    <tr>\n",
       "      <th>75%</th>\n",
       "      <td>5950.000000</td>\n",
       "      <td>NaN</td>\n",
       "      <td>2007.000000</td>\n",
       "      <td>NaN</td>\n",
       "      <td>140.000000</td>\n",
       "      <td>NaN</td>\n",
       "      <td>150000.000000</td>\n",
       "      <td>NaN</td>\n",
       "      <td>NaN</td>\n",
       "      <td>NaN</td>\n",
       "      <td>NaN</td>\n",
       "      <td>NaN</td>\n",
       "    </tr>\n",
       "    <tr>\n",
       "      <th>max</th>\n",
       "      <td>14350.000000</td>\n",
       "      <td>NaN</td>\n",
       "      <td>2019.000000</td>\n",
       "      <td>NaN</td>\n",
       "      <td>248.000000</td>\n",
       "      <td>NaN</td>\n",
       "      <td>150000.000000</td>\n",
       "      <td>NaN</td>\n",
       "      <td>NaN</td>\n",
       "      <td>NaN</td>\n",
       "      <td>NaN</td>\n",
       "      <td>NaN</td>\n",
       "    </tr>\n",
       "  </tbody>\n",
       "</table>\n",
       "</div>"
      ],
      "text/plain": [
       "                price vehicletype  registrationyear gearbox          power  \\\n",
       "count   204331.000000      189745     204331.000000  200414  204331.000000   \n",
       "unique            NaN           8               NaN       2            NaN   \n",
       "top               NaN       sedan               NaN  manual            NaN   \n",
       "freq              NaN       55342               NaN  165724            NaN   \n",
       "first             NaN         NaN               NaN     NaN            NaN   \n",
       "last              NaN         NaN               NaN     NaN            NaN   \n",
       "mean      4015.010096         NaN       2003.411612     NaN     114.553817   \n",
       "std       3447.185692         NaN          5.995702     NaN      42.903183   \n",
       "min        150.000000         NaN       1987.000000     NaN      50.000000   \n",
       "25%       1299.000000         NaN       1999.000000     NaN      75.000000   \n",
       "50%       2850.000000         NaN       2003.000000     NaN     109.000000   \n",
       "75%       5950.000000         NaN       2007.000000     NaN     140.000000   \n",
       "max      14350.000000         NaN       2019.000000     NaN     248.000000   \n",
       "\n",
       "         model      kilometer fueltype       brand repaired  \\\n",
       "count   196598  204331.000000   191039      204331   172526   \n",
       "unique     245            NaN        7          40        2   \n",
       "top       golf            NaN   petrol  volkswagen       no   \n",
       "freq     17939            NaN   129061       45293   152246   \n",
       "first      NaN            NaN      NaN         NaN      NaN   \n",
       "last       NaN            NaN      NaN         NaN      NaN   \n",
       "mean       NaN  130999.676995      NaN         NaN      NaN   \n",
       "std        NaN   34368.254247      NaN         NaN      NaN   \n",
       "min        NaN    5000.000000      NaN         NaN      NaN   \n",
       "25%        NaN  125000.000000      NaN         NaN      NaN   \n",
       "50%        NaN  150000.000000      NaN         NaN      NaN   \n",
       "75%        NaN  150000.000000      NaN         NaN      NaN   \n",
       "max        NaN  150000.000000      NaN         NaN      NaN   \n",
       "\n",
       "                datecreated             lastseen  \n",
       "count                204331               204331  \n",
       "unique                   99               119661  \n",
       "top     2016-04-03 00:00:00  2016-04-06 17:45:15  \n",
       "freq                   7972                   13  \n",
       "first   2015-03-20 00:00:00  2016-03-05 14:15:08  \n",
       "last    2016-04-07 00:00:00  2016-04-07 14:58:50  \n",
       "mean                    NaN                  NaN  \n",
       "std                     NaN                  NaN  \n",
       "min                     NaN                  NaN  \n",
       "25%                     NaN                  NaN  \n",
       "50%                     NaN                  NaN  \n",
       "75%                     NaN                  NaN  \n",
       "max                     NaN                  NaN  "
      ]
     },
     "metadata": {},
     "output_type": "display_data"
    }
   ],
   "source": [
    "get_data_info(df_train)"
   ]
  },
  {
   "cell_type": "code",
   "execution_count": 27,
   "metadata": {
    "scrolled": false
   },
   "outputs": [],
   "source": [
    "# вычли даты\n",
    "df_train['time'] = (df_train['lastseen'] - df_train['datecreated']) / np.timedelta64 ( 1 , 'D')"
   ]
  },
  {
   "cell_type": "code",
   "execution_count": 28,
   "metadata": {
    "scrolled": false
   },
   "outputs": [],
   "source": [
    "# округлили\n",
    "df_train['time'] = round(df_train['time'])"
   ]
  },
  {
   "cell_type": "code",
   "execution_count": 29,
   "metadata": {},
   "outputs": [
    {
     "data": {
      "text/html": [
       "<div>\n",
       "<style scoped>\n",
       "    .dataframe tbody tr th:only-of-type {\n",
       "        vertical-align: middle;\n",
       "    }\n",
       "\n",
       "    .dataframe tbody tr th {\n",
       "        vertical-align: top;\n",
       "    }\n",
       "\n",
       "    .dataframe thead th {\n",
       "        text-align: right;\n",
       "    }\n",
       "</style>\n",
       "<table border=\"1\" class=\"dataframe\">\n",
       "  <thead>\n",
       "    <tr style=\"text-align: right;\">\n",
       "      <th></th>\n",
       "      <th>price</th>\n",
       "      <th>registrationyear</th>\n",
       "      <th>power</th>\n",
       "      <th>kilometer</th>\n",
       "      <th>time</th>\n",
       "    </tr>\n",
       "  </thead>\n",
       "  <tbody>\n",
       "    <tr>\n",
       "      <th>count</th>\n",
       "      <td>204331.000000</td>\n",
       "      <td>204331.000000</td>\n",
       "      <td>204331.000000</td>\n",
       "      <td>204331.000000</td>\n",
       "      <td>204331.000000</td>\n",
       "    </tr>\n",
       "    <tr>\n",
       "      <th>mean</th>\n",
       "      <td>4015.010096</td>\n",
       "      <td>2003.411612</td>\n",
       "      <td>114.553817</td>\n",
       "      <td>130999.676995</td>\n",
       "      <td>9.203743</td>\n",
       "    </tr>\n",
       "    <tr>\n",
       "      <th>std</th>\n",
       "      <td>3447.185692</td>\n",
       "      <td>5.995702</td>\n",
       "      <td>42.903183</td>\n",
       "      <td>34368.254247</td>\n",
       "      <td>8.470415</td>\n",
       "    </tr>\n",
       "    <tr>\n",
       "      <th>min</th>\n",
       "      <td>150.000000</td>\n",
       "      <td>1987.000000</td>\n",
       "      <td>50.000000</td>\n",
       "      <td>5000.000000</td>\n",
       "      <td>0.000000</td>\n",
       "    </tr>\n",
       "    <tr>\n",
       "      <th>25%</th>\n",
       "      <td>1299.000000</td>\n",
       "      <td>1999.000000</td>\n",
       "      <td>75.000000</td>\n",
       "      <td>125000.000000</td>\n",
       "      <td>3.000000</td>\n",
       "    </tr>\n",
       "    <tr>\n",
       "      <th>50%</th>\n",
       "      <td>2850.000000</td>\n",
       "      <td>2003.000000</td>\n",
       "      <td>109.000000</td>\n",
       "      <td>150000.000000</td>\n",
       "      <td>6.000000</td>\n",
       "    </tr>\n",
       "    <tr>\n",
       "      <th>75%</th>\n",
       "      <td>5950.000000</td>\n",
       "      <td>2007.000000</td>\n",
       "      <td>140.000000</td>\n",
       "      <td>150000.000000</td>\n",
       "      <td>14.000000</td>\n",
       "    </tr>\n",
       "    <tr>\n",
       "      <th>max</th>\n",
       "      <td>14350.000000</td>\n",
       "      <td>2019.000000</td>\n",
       "      <td>248.000000</td>\n",
       "      <td>150000.000000</td>\n",
       "      <td>384.000000</td>\n",
       "    </tr>\n",
       "  </tbody>\n",
       "</table>\n",
       "</div>"
      ],
      "text/plain": [
       "               price  registrationyear          power      kilometer  \\\n",
       "count  204331.000000     204331.000000  204331.000000  204331.000000   \n",
       "mean     4015.010096       2003.411612     114.553817  130999.676995   \n",
       "std      3447.185692          5.995702      42.903183   34368.254247   \n",
       "min       150.000000       1987.000000      50.000000    5000.000000   \n",
       "25%      1299.000000       1999.000000      75.000000  125000.000000   \n",
       "50%      2850.000000       2003.000000     109.000000  150000.000000   \n",
       "75%      5950.000000       2007.000000     140.000000  150000.000000   \n",
       "max     14350.000000       2019.000000     248.000000  150000.000000   \n",
       "\n",
       "                time  \n",
       "count  204331.000000  \n",
       "mean        9.203743  \n",
       "std         8.470415  \n",
       "min         0.000000  \n",
       "25%         3.000000  \n",
       "50%         6.000000  \n",
       "75%        14.000000  \n",
       "max       384.000000  "
      ]
     },
     "execution_count": 29,
     "metadata": {},
     "output_type": "execute_result"
    }
   ],
   "source": [
    "df_train.describe()"
   ]
  },
  {
   "cell_type": "code",
   "execution_count": null,
   "metadata": {},
   "outputs": [],
   "source": []
  },
  {
   "cell_type": "code",
   "execution_count": 30,
   "metadata": {},
   "outputs": [
    {
     "data": {
      "text/plain": [
       "31.0"
      ]
     },
     "execution_count": 30,
     "metadata": {},
     "output_type": "execute_result"
    }
   ],
   "source": [
    "df_train['time'].quantile(0.99)"
   ]
  },
  {
   "cell_type": "code",
   "execution_count": 31,
   "metadata": {},
   "outputs": [],
   "source": [
    "df_train = df_train.loc[df_train['time'] <= 35]"
   ]
  },
  {
   "cell_type": "code",
   "execution_count": 32,
   "metadata": {},
   "outputs": [
    {
     "data": {
      "text/html": [
       "<div>\n",
       "<style scoped>\n",
       "    .dataframe tbody tr th:only-of-type {\n",
       "        vertical-align: middle;\n",
       "    }\n",
       "\n",
       "    .dataframe tbody tr th {\n",
       "        vertical-align: top;\n",
       "    }\n",
       "\n",
       "    .dataframe thead th {\n",
       "        text-align: right;\n",
       "    }\n",
       "</style>\n",
       "<table border=\"1\" class=\"dataframe\">\n",
       "  <thead>\n",
       "    <tr style=\"text-align: right;\">\n",
       "      <th></th>\n",
       "      <th>price</th>\n",
       "      <th>registrationyear</th>\n",
       "      <th>power</th>\n",
       "      <th>kilometer</th>\n",
       "      <th>time</th>\n",
       "    </tr>\n",
       "  </thead>\n",
       "  <tbody>\n",
       "    <tr>\n",
       "      <th>count</th>\n",
       "      <td>204118.000000</td>\n",
       "      <td>204118.000000</td>\n",
       "      <td>204118.000000</td>\n",
       "      <td>204118.000000</td>\n",
       "      <td>204118.000000</td>\n",
       "    </tr>\n",
       "    <tr>\n",
       "      <th>mean</th>\n",
       "      <td>4012.571424</td>\n",
       "      <td>2003.409753</td>\n",
       "      <td>114.541554</td>\n",
       "      <td>131011.522747</td>\n",
       "      <td>9.153637</td>\n",
       "    </tr>\n",
       "    <tr>\n",
       "      <th>std</th>\n",
       "      <td>3445.836506</td>\n",
       "      <td>5.995762</td>\n",
       "      <td>42.902480</td>\n",
       "      <td>34359.145288</td>\n",
       "      <td>8.240719</td>\n",
       "    </tr>\n",
       "    <tr>\n",
       "      <th>min</th>\n",
       "      <td>150.000000</td>\n",
       "      <td>1987.000000</td>\n",
       "      <td>50.000000</td>\n",
       "      <td>5000.000000</td>\n",
       "      <td>0.000000</td>\n",
       "    </tr>\n",
       "    <tr>\n",
       "      <th>25%</th>\n",
       "      <td>1299.000000</td>\n",
       "      <td>1999.000000</td>\n",
       "      <td>75.000000</td>\n",
       "      <td>125000.000000</td>\n",
       "      <td>3.000000</td>\n",
       "    </tr>\n",
       "    <tr>\n",
       "      <th>50%</th>\n",
       "      <td>2850.000000</td>\n",
       "      <td>2003.000000</td>\n",
       "      <td>109.000000</td>\n",
       "      <td>150000.000000</td>\n",
       "      <td>6.000000</td>\n",
       "    </tr>\n",
       "    <tr>\n",
       "      <th>75%</th>\n",
       "      <td>5950.000000</td>\n",
       "      <td>2007.000000</td>\n",
       "      <td>140.000000</td>\n",
       "      <td>150000.000000</td>\n",
       "      <td>14.000000</td>\n",
       "    </tr>\n",
       "    <tr>\n",
       "      <th>max</th>\n",
       "      <td>14350.000000</td>\n",
       "      <td>2019.000000</td>\n",
       "      <td>248.000000</td>\n",
       "      <td>150000.000000</td>\n",
       "      <td>35.000000</td>\n",
       "    </tr>\n",
       "  </tbody>\n",
       "</table>\n",
       "</div>"
      ],
      "text/plain": [
       "               price  registrationyear          power      kilometer  \\\n",
       "count  204118.000000     204118.000000  204118.000000  204118.000000   \n",
       "mean     4012.571424       2003.409753     114.541554  131011.522747   \n",
       "std      3445.836506          5.995762      42.902480   34359.145288   \n",
       "min       150.000000       1987.000000      50.000000    5000.000000   \n",
       "25%      1299.000000       1999.000000      75.000000  125000.000000   \n",
       "50%      2850.000000       2003.000000     109.000000  150000.000000   \n",
       "75%      5950.000000       2007.000000     140.000000  150000.000000   \n",
       "max     14350.000000       2019.000000     248.000000  150000.000000   \n",
       "\n",
       "                time  \n",
       "count  204118.000000  \n",
       "mean        9.153637  \n",
       "std         8.240719  \n",
       "min         0.000000  \n",
       "25%         3.000000  \n",
       "50%         6.000000  \n",
       "75%        14.000000  \n",
       "max        35.000000  "
      ]
     },
     "execution_count": 32,
     "metadata": {},
     "output_type": "execute_result"
    }
   ],
   "source": [
    "df_train.describe()"
   ]
  },
  {
   "cell_type": "code",
   "execution_count": null,
   "metadata": {},
   "outputs": [],
   "source": []
  },
  {
   "cell_type": "code",
   "execution_count": 33,
   "metadata": {
    "scrolled": true
   },
   "outputs": [
    {
     "data": {
      "text/plain": [
       "<AxesSubplot:ylabel='Frequency'>"
      ]
     },
     "execution_count": 33,
     "metadata": {},
     "output_type": "execute_result"
    },
    {
     "data": {
      "image/png": "[encoded data removed]",
      "text/plain": [
       "<Figure size 432x288 with 1 Axes>"
      ]
     },
     "metadata": {
      "needs_background": "light"
     },
     "output_type": "display_data"
    }
   ],
   "source": [
    "df_train.plot(kind='hist', y='time', bins=30, grid=True, legend=True)"
   ]
  },
  {
   "cell_type": "markdown",
   "metadata": {},
   "source": [
    "Созданную переменную time, т.е. время, которое объявление висит на сайте, можно использовать для заполнения пропусков, но не для предсказания, т.к. для новых данных она не известна. "
   ]
  },
  {
   "cell_type": "markdown",
   "metadata": {},
   "source": [
    "### Заполнение пропусков df_train "
   ]
  },
  {
   "cell_type": "markdown",
   "metadata": {},
   "source": [
    "Заполним пропуски в категориальных переменных модой (в случае наличия) для для другой важной категориальной переменной."
   ]
  },
  {
   "cell_type": "code",
   "execution_count": 34,
   "metadata": {},
   "outputs": [],
   "source": [
    "# заполним пропуски в model модой для brand, если она есть, если нет unknown \n",
    "\n",
    "df_train['model'] = df_train['model'].fillna(df_train.groupby('brand')['model'].transform(\n",
    "    lambda x:x.value_counts().idxmax() if x.count()!=0 else 'unknown')) "
   ]
  },
  {
   "cell_type": "code",
   "execution_count": 35,
   "metadata": {},
   "outputs": [],
   "source": [
    "# заполним пропуски в vehicletype модой для model, если она есть, если нет unknown\n",
    "\n",
    "df_train['vehicletype'] = df_train['vehicletype'].fillna(df_train.groupby('model')['vehicletype'].transform(\n",
    "    lambda x:x.value_counts().idxmax() if x.count()!=0 else 'unknown')) "
   ]
  },
  {
   "cell_type": "code",
   "execution_count": 36,
   "metadata": {},
   "outputs": [],
   "source": [
    "# заполним пропуски в gearbox модой для model, если она есть, если нет по умолчанию 'manual' (ручная)\n",
    "\n",
    "df_train['gearbox'] = df_train['gearbox'].fillna(df_train.groupby('model')['gearbox'].transform(\n",
    "    lambda x:x.value_counts().idxmax() if x.count()!=0 else 'manual'))"
   ]
  },
  {
   "cell_type": "code",
   "execution_count": 37,
   "metadata": {},
   "outputs": [],
   "source": [
    "# заполним пропуски в fueltype модой для model, если она есть, если нет по умолчанию бензин 'petrol'\n",
    "\n",
    "df_train['fueltype'] = df_train['fueltype'].fillna(df_train.groupby('model')['fueltype'].transform(\n",
    "    lambda x:x.value_counts().idxmax() if x.count()!=0 else 'petrol'))"
   ]
  },
  {
   "cell_type": "code",
   "execution_count": 38,
   "metadata": {},
   "outputs": [],
   "source": [
    "# заполним пропуски в repaired модой для model, если она есть, если нет по умолчанию 'no'\n",
    "\n",
    "df_train['repaired'] = df_train['repaired'].fillna(df_train.groupby('model')['repaired'].transform(\n",
    "    lambda x:x.value_counts().idxmax() if x.count()!=0 else 'no'))\n"
   ]
  },
  {
   "cell_type": "code",
   "execution_count": 39,
   "metadata": {
    "scrolled": true
   },
   "outputs": [
    {
     "name": "stdout",
     "output_type": "stream",
     "text": [
      "<class 'pandas.core.frame.DataFrame'>\n",
      "DatetimeIndex: 204118 entries, 2016-03-17 18:37:00 to 2016-04-03 15:36:25\n",
      "Data columns (total 13 columns):\n",
      " #   Column            Non-Null Count   Dtype         \n",
      "---  ------            --------------   -----         \n",
      " 0   price             204118 non-null  int64         \n",
      " 1   vehicletype       204118 non-null  object        \n",
      " 2   registrationyear  204118 non-null  int64         \n",
      " 3   gearbox           204118 non-null  object        \n",
      " 4   power             204118 non-null  int64         \n",
      " 5   model             204118 non-null  object        \n",
      " 6   kilometer         204118 non-null  int64         \n",
      " 7   fueltype          204118 non-null  object        \n",
      " 8   brand             204118 non-null  object        \n",
      " 9   repaired          204118 non-null  object        \n",
      " 10  datecreated       204118 non-null  datetime64[ns]\n",
      " 11  lastseen          204118 non-null  datetime64[ns]\n",
      " 12  time              204118 non-null  float64       \n",
      "dtypes: datetime64[ns](2), float64(1), int64(4), object(6)\n",
      "memory usage: 21.8+ MB\n"
     ]
    }
   ],
   "source": [
    "df_train.info()"
   ]
  },
  {
   "cell_type": "code",
   "execution_count": 40,
   "metadata": {},
   "outputs": [
    {
     "data": {
      "text/html": [
       "<div>\n",
       "<style scoped>\n",
       "    .dataframe tbody tr th:only-of-type {\n",
       "        vertical-align: middle;\n",
       "    }\n",
       "\n",
       "    .dataframe tbody tr th {\n",
       "        vertical-align: top;\n",
       "    }\n",
       "\n",
       "    .dataframe thead th {\n",
       "        text-align: right;\n",
       "    }\n",
       "</style>\n",
       "<table border=\"1\" class=\"dataframe\">\n",
       "  <thead>\n",
       "    <tr style=\"text-align: right;\">\n",
       "      <th></th>\n",
       "      <th>price</th>\n",
       "      <th>vehicletype</th>\n",
       "      <th>registrationyear</th>\n",
       "      <th>gearbox</th>\n",
       "      <th>power</th>\n",
       "      <th>model</th>\n",
       "      <th>kilometer</th>\n",
       "      <th>fueltype</th>\n",
       "      <th>brand</th>\n",
       "      <th>repaired</th>\n",
       "      <th>datecreated</th>\n",
       "      <th>lastseen</th>\n",
       "      <th>time</th>\n",
       "    </tr>\n",
       "    <tr>\n",
       "      <th>DateCrawled</th>\n",
       "      <th></th>\n",
       "      <th></th>\n",
       "      <th></th>\n",
       "      <th></th>\n",
       "      <th></th>\n",
       "      <th></th>\n",
       "      <th></th>\n",
       "      <th></th>\n",
       "      <th></th>\n",
       "      <th></th>\n",
       "      <th></th>\n",
       "      <th></th>\n",
       "      <th></th>\n",
       "    </tr>\n",
       "  </thead>\n",
       "  <tbody>\n",
       "    <tr>\n",
       "      <th>2016-03-28 11:51:35</th>\n",
       "      <td>500</td>\n",
       "      <td>sedan</td>\n",
       "      <td>1996</td>\n",
       "      <td>auto</td>\n",
       "      <td>75</td>\n",
       "      <td>golf</td>\n",
       "      <td>125000</td>\n",
       "      <td>petrol</td>\n",
       "      <td>volkswagen</td>\n",
       "      <td>no</td>\n",
       "      <td>2016-03-28</td>\n",
       "      <td>2016-04-02 15:45:13</td>\n",
       "      <td>6.0</td>\n",
       "    </tr>\n",
       "    <tr>\n",
       "      <th>2016-03-12 12:36:22</th>\n",
       "      <td>6490</td>\n",
       "      <td>wagon</td>\n",
       "      <td>2009</td>\n",
       "      <td>manual</td>\n",
       "      <td>109</td>\n",
       "      <td>caddy</td>\n",
       "      <td>125000</td>\n",
       "      <td>cng</td>\n",
       "      <td>volkswagen</td>\n",
       "      <td>no</td>\n",
       "      <td>2016-03-12</td>\n",
       "      <td>2016-04-06 13:17:03</td>\n",
       "      <td>26.0</td>\n",
       "    </tr>\n",
       "    <tr>\n",
       "      <th>2016-03-23 08:55:33</th>\n",
       "      <td>8700</td>\n",
       "      <td>wagon</td>\n",
       "      <td>2010</td>\n",
       "      <td>auto</td>\n",
       "      <td>105</td>\n",
       "      <td>golf</td>\n",
       "      <td>150000</td>\n",
       "      <td>gasoline</td>\n",
       "      <td>volkswagen</td>\n",
       "      <td>no</td>\n",
       "      <td>2016-03-23</td>\n",
       "      <td>2016-03-23 09:39:15</td>\n",
       "      <td>0.0</td>\n",
       "    </tr>\n",
       "    <tr>\n",
       "      <th>2016-03-26 22:54:08</th>\n",
       "      <td>6200</td>\n",
       "      <td>wagon</td>\n",
       "      <td>2010</td>\n",
       "      <td>manual</td>\n",
       "      <td>110</td>\n",
       "      <td>laguna</td>\n",
       "      <td>150000</td>\n",
       "      <td>gasoline</td>\n",
       "      <td>renault</td>\n",
       "      <td>no</td>\n",
       "      <td>2016-03-26</td>\n",
       "      <td>2016-04-03 00:21:09</td>\n",
       "      <td>8.0</td>\n",
       "    </tr>\n",
       "    <tr>\n",
       "      <th>2016-03-12 14:58:17</th>\n",
       "      <td>5900</td>\n",
       "      <td>coupe</td>\n",
       "      <td>2003</td>\n",
       "      <td>manual</td>\n",
       "      <td>180</td>\n",
       "      <td>tt</td>\n",
       "      <td>150000</td>\n",
       "      <td>petrol</td>\n",
       "      <td>audi</td>\n",
       "      <td>no</td>\n",
       "      <td>2016-03-12</td>\n",
       "      <td>2016-04-07 01:17:36</td>\n",
       "      <td>26.0</td>\n",
       "    </tr>\n",
       "  </tbody>\n",
       "</table>\n",
       "</div>"
      ],
      "text/plain": [
       "                     price vehicletype  registrationyear gearbox  power  \\\n",
       "DateCrawled                                                               \n",
       "2016-03-28 11:51:35    500       sedan              1996    auto     75   \n",
       "2016-03-12 12:36:22   6490       wagon              2009  manual    109   \n",
       "2016-03-23 08:55:33   8700       wagon              2010    auto    105   \n",
       "2016-03-26 22:54:08   6200       wagon              2010  manual    110   \n",
       "2016-03-12 14:58:17   5900       coupe              2003  manual    180   \n",
       "\n",
       "                      model  kilometer  fueltype       brand repaired  \\\n",
       "DateCrawled                                                             \n",
       "2016-03-28 11:51:35    golf     125000    petrol  volkswagen       no   \n",
       "2016-03-12 12:36:22   caddy     125000       cng  volkswagen       no   \n",
       "2016-03-23 08:55:33    golf     150000  gasoline  volkswagen       no   \n",
       "2016-03-26 22:54:08  laguna     150000  gasoline     renault       no   \n",
       "2016-03-12 14:58:17      tt     150000    petrol        audi       no   \n",
       "\n",
       "                    datecreated            lastseen  time  \n",
       "DateCrawled                                                \n",
       "2016-03-28 11:51:35  2016-03-28 2016-04-02 15:45:13   6.0  \n",
       "2016-03-12 12:36:22  2016-03-12 2016-04-06 13:17:03  26.0  \n",
       "2016-03-23 08:55:33  2016-03-23 2016-03-23 09:39:15   0.0  \n",
       "2016-03-26 22:54:08  2016-03-26 2016-04-03 00:21:09   8.0  \n",
       "2016-03-12 14:58:17  2016-03-12 2016-04-07 01:17:36  26.0  "
      ]
     },
     "metadata": {},
     "output_type": "display_data"
    },
    {
     "name": "stdout",
     "output_type": "stream",
     "text": [
      "<class 'pandas.core.frame.DataFrame'>\n",
      "DatetimeIndex: 204118 entries, 2016-03-17 18:37:00 to 2016-04-03 15:36:25\n",
      "Data columns (total 13 columns):\n",
      " #   Column            Non-Null Count   Dtype         \n",
      "---  ------            --------------   -----         \n",
      " 0   price             204118 non-null  int64         \n",
      " 1   vehicletype       204118 non-null  object        \n",
      " 2   registrationyear  204118 non-null  int64         \n",
      " 3   gearbox           204118 non-null  object        \n",
      " 4   power             204118 non-null  int64         \n",
      " 5   model             204118 non-null  object        \n",
      " 6   kilometer         204118 non-null  int64         \n",
      " 7   fueltype          204118 non-null  object        \n",
      " 8   brand             204118 non-null  object        \n",
      " 9   repaired          204118 non-null  object        \n",
      " 10  datecreated       204118 non-null  datetime64[ns]\n",
      " 11  lastseen          204118 non-null  datetime64[ns]\n",
      " 12  time              204118 non-null  float64       \n",
      "dtypes: datetime64[ns](2), float64(1), int64(4), object(6)\n",
      "memory usage: 21.8+ MB\n"
     ]
    },
    {
     "data": {
      "text/plain": [
       "None"
      ]
     },
     "metadata": {},
     "output_type": "display_data"
    },
    {
     "data": {
      "text/html": [
       "<div>\n",
       "<style scoped>\n",
       "    .dataframe tbody tr th:only-of-type {\n",
       "        vertical-align: middle;\n",
       "    }\n",
       "\n",
       "    .dataframe tbody tr th {\n",
       "        vertical-align: top;\n",
       "    }\n",
       "\n",
       "    .dataframe thead th {\n",
       "        text-align: right;\n",
       "    }\n",
       "</style>\n",
       "<table border=\"1\" class=\"dataframe\">\n",
       "  <thead>\n",
       "    <tr style=\"text-align: right;\">\n",
       "      <th></th>\n",
       "      <th>price</th>\n",
       "      <th>vehicletype</th>\n",
       "      <th>registrationyear</th>\n",
       "      <th>gearbox</th>\n",
       "      <th>power</th>\n",
       "      <th>model</th>\n",
       "      <th>kilometer</th>\n",
       "      <th>fueltype</th>\n",
       "      <th>brand</th>\n",
       "      <th>repaired</th>\n",
       "      <th>datecreated</th>\n",
       "      <th>lastseen</th>\n",
       "      <th>time</th>\n",
       "    </tr>\n",
       "  </thead>\n",
       "  <tbody>\n",
       "    <tr>\n",
       "      <th>count</th>\n",
       "      <td>204118.000000</td>\n",
       "      <td>204118</td>\n",
       "      <td>204118.000000</td>\n",
       "      <td>204118</td>\n",
       "      <td>204118.000000</td>\n",
       "      <td>204118</td>\n",
       "      <td>204118.000000</td>\n",
       "      <td>204118</td>\n",
       "      <td>204118</td>\n",
       "      <td>204118</td>\n",
       "      <td>204118</td>\n",
       "      <td>204118</td>\n",
       "      <td>204118.000000</td>\n",
       "    </tr>\n",
       "    <tr>\n",
       "      <th>unique</th>\n",
       "      <td>NaN</td>\n",
       "      <td>8</td>\n",
       "      <td>NaN</td>\n",
       "      <td>2</td>\n",
       "      <td>NaN</td>\n",
       "      <td>246</td>\n",
       "      <td>NaN</td>\n",
       "      <td>7</td>\n",
       "      <td>40</td>\n",
       "      <td>2</td>\n",
       "      <td>59</td>\n",
       "      <td>119582</td>\n",
       "      <td>NaN</td>\n",
       "    </tr>\n",
       "    <tr>\n",
       "      <th>top</th>\n",
       "      <td>NaN</td>\n",
       "      <td>sedan</td>\n",
       "      <td>NaN</td>\n",
       "      <td>manual</td>\n",
       "      <td>NaN</td>\n",
       "      <td>golf</td>\n",
       "      <td>NaN</td>\n",
       "      <td>petrol</td>\n",
       "      <td>volkswagen</td>\n",
       "      <td>no</td>\n",
       "      <td>2016-04-03 00:00:00</td>\n",
       "      <td>2016-04-07 07:45:20</td>\n",
       "      <td>NaN</td>\n",
       "    </tr>\n",
       "    <tr>\n",
       "      <th>freq</th>\n",
       "      <td>NaN</td>\n",
       "      <td>62326</td>\n",
       "      <td>NaN</td>\n",
       "      <td>168948</td>\n",
       "      <td>NaN</td>\n",
       "      <td>19521</td>\n",
       "      <td>NaN</td>\n",
       "      <td>140033</td>\n",
       "      <td>45252</td>\n",
       "      <td>183844</td>\n",
       "      <td>7972</td>\n",
       "      <td>13</td>\n",
       "      <td>NaN</td>\n",
       "    </tr>\n",
       "    <tr>\n",
       "      <th>first</th>\n",
       "      <td>NaN</td>\n",
       "      <td>NaN</td>\n",
       "      <td>NaN</td>\n",
       "      <td>NaN</td>\n",
       "      <td>NaN</td>\n",
       "      <td>NaN</td>\n",
       "      <td>NaN</td>\n",
       "      <td>NaN</td>\n",
       "      <td>NaN</td>\n",
       "      <td>NaN</td>\n",
       "      <td>2016-02-01 00:00:00</td>\n",
       "      <td>2016-03-05 14:15:08</td>\n",
       "      <td>NaN</td>\n",
       "    </tr>\n",
       "    <tr>\n",
       "      <th>last</th>\n",
       "      <td>NaN</td>\n",
       "      <td>NaN</td>\n",
       "      <td>NaN</td>\n",
       "      <td>NaN</td>\n",
       "      <td>NaN</td>\n",
       "      <td>NaN</td>\n",
       "      <td>NaN</td>\n",
       "      <td>NaN</td>\n",
       "      <td>NaN</td>\n",
       "      <td>NaN</td>\n",
       "      <td>2016-04-07 00:00:00</td>\n",
       "      <td>2016-04-07 14:58:50</td>\n",
       "      <td>NaN</td>\n",
       "    </tr>\n",
       "    <tr>\n",
       "      <th>mean</th>\n",
       "      <td>4012.571424</td>\n",
       "      <td>NaN</td>\n",
       "      <td>2003.409753</td>\n",
       "      <td>NaN</td>\n",
       "      <td>114.541554</td>\n",
       "      <td>NaN</td>\n",
       "      <td>131011.522747</td>\n",
       "      <td>NaN</td>\n",
       "      <td>NaN</td>\n",
       "      <td>NaN</td>\n",
       "      <td>NaN</td>\n",
       "      <td>NaN</td>\n",
       "      <td>9.153637</td>\n",
       "    </tr>\n",
       "    <tr>\n",
       "      <th>std</th>\n",
       "      <td>3445.836506</td>\n",
       "      <td>NaN</td>\n",
       "      <td>5.995762</td>\n",
       "      <td>NaN</td>\n",
       "      <td>42.902480</td>\n",
       "      <td>NaN</td>\n",
       "      <td>34359.145288</td>\n",
       "      <td>NaN</td>\n",
       "      <td>NaN</td>\n",
       "      <td>NaN</td>\n",
       "      <td>NaN</td>\n",
       "      <td>NaN</td>\n",
       "      <td>8.240719</td>\n",
       "    </tr>\n",
       "    <tr>\n",
       "      <th>min</th>\n",
       "      <td>150.000000</td>\n",
       "      <td>NaN</td>\n",
       "      <td>1987.000000</td>\n",
       "      <td>NaN</td>\n",
       "      <td>50.000000</td>\n",
       "      <td>NaN</td>\n",
       "      <td>5000.000000</td>\n",
       "      <td>NaN</td>\n",
       "      <td>NaN</td>\n",
       "      <td>NaN</td>\n",
       "      <td>NaN</td>\n",
       "      <td>NaN</td>\n",
       "      <td>0.000000</td>\n",
       "    </tr>\n",
       "    <tr>\n",
       "      <th>25%</th>\n",
       "      <td>1299.000000</td>\n",
       "      <td>NaN</td>\n",
       "      <td>1999.000000</td>\n",
       "      <td>NaN</td>\n",
       "      <td>75.000000</td>\n",
       "      <td>NaN</td>\n",
       "      <td>125000.000000</td>\n",
       "      <td>NaN</td>\n",
       "      <td>NaN</td>\n",
       "      <td>NaN</td>\n",
       "      <td>NaN</td>\n",
       "      <td>NaN</td>\n",
       "      <td>3.000000</td>\n",
       "    </tr>\n",
       "    <tr>\n",
       "      <th>50%</th>\n",
       "      <td>2850.000000</td>\n",
       "      <td>NaN</td>\n",
       "      <td>2003.000000</td>\n",
       "      <td>NaN</td>\n",
       "      <td>109.000000</td>\n",
       "      <td>NaN</td>\n",
       "      <td>150000.000000</td>\n",
       "      <td>NaN</td>\n",
       "      <td>NaN</td>\n",
       "      <td>NaN</td>\n",
       "      <td>NaN</td>\n",
       "      <td>NaN</td>\n",
       "      <td>6.000000</td>\n",
       "    </tr>\n",
       "    <tr>\n",
       "      <th>75%</th>\n",
       "      <td>5950.000000</td>\n",
       "      <td>NaN</td>\n",
       "      <td>2007.000000</td>\n",
       "      <td>NaN</td>\n",
       "      <td>140.000000</td>\n",
       "      <td>NaN</td>\n",
       "      <td>150000.000000</td>\n",
       "      <td>NaN</td>\n",
       "      <td>NaN</td>\n",
       "      <td>NaN</td>\n",
       "      <td>NaN</td>\n",
       "      <td>NaN</td>\n",
       "      <td>14.000000</td>\n",
       "    </tr>\n",
       "    <tr>\n",
       "      <th>max</th>\n",
       "      <td>14350.000000</td>\n",
       "      <td>NaN</td>\n",
       "      <td>2019.000000</td>\n",
       "      <td>NaN</td>\n",
       "      <td>248.000000</td>\n",
       "      <td>NaN</td>\n",
       "      <td>150000.000000</td>\n",
       "      <td>NaN</td>\n",
       "      <td>NaN</td>\n",
       "      <td>NaN</td>\n",
       "      <td>NaN</td>\n",
       "      <td>NaN</td>\n",
       "      <td>35.000000</td>\n",
       "    </tr>\n",
       "  </tbody>\n",
       "</table>\n",
       "</div>"
      ],
      "text/plain": [
       "                price vehicletype  registrationyear gearbox          power  \\\n",
       "count   204118.000000      204118     204118.000000  204118  204118.000000   \n",
       "unique            NaN           8               NaN       2            NaN   \n",
       "top               NaN       sedan               NaN  manual            NaN   \n",
       "freq              NaN       62326               NaN  168948            NaN   \n",
       "first             NaN         NaN               NaN     NaN            NaN   \n",
       "last              NaN         NaN               NaN     NaN            NaN   \n",
       "mean      4012.571424         NaN       2003.409753     NaN     114.541554   \n",
       "std       3445.836506         NaN          5.995762     NaN      42.902480   \n",
       "min        150.000000         NaN       1987.000000     NaN      50.000000   \n",
       "25%       1299.000000         NaN       1999.000000     NaN      75.000000   \n",
       "50%       2850.000000         NaN       2003.000000     NaN     109.000000   \n",
       "75%       5950.000000         NaN       2007.000000     NaN     140.000000   \n",
       "max      14350.000000         NaN       2019.000000     NaN     248.000000   \n",
       "\n",
       "         model      kilometer fueltype       brand repaired  \\\n",
       "count   204118  204118.000000   204118      204118   204118   \n",
       "unique     246            NaN        7          40        2   \n",
       "top       golf            NaN   petrol  volkswagen       no   \n",
       "freq     19521            NaN   140033       45252   183844   \n",
       "first      NaN            NaN      NaN         NaN      NaN   \n",
       "last       NaN            NaN      NaN         NaN      NaN   \n",
       "mean       NaN  131011.522747      NaN         NaN      NaN   \n",
       "std        NaN   34359.145288      NaN         NaN      NaN   \n",
       "min        NaN    5000.000000      NaN         NaN      NaN   \n",
       "25%        NaN  125000.000000      NaN         NaN      NaN   \n",
       "50%        NaN  150000.000000      NaN         NaN      NaN   \n",
       "75%        NaN  150000.000000      NaN         NaN      NaN   \n",
       "max        NaN  150000.000000      NaN         NaN      NaN   \n",
       "\n",
       "                datecreated             lastseen           time  \n",
       "count                204118               204118  204118.000000  \n",
       "unique                   59               119582            NaN  \n",
       "top     2016-04-03 00:00:00  2016-04-07 07:45:20            NaN  \n",
       "freq                   7972                   13            NaN  \n",
       "first   2016-02-01 00:00:00  2016-03-05 14:15:08            NaN  \n",
       "last    2016-04-07 00:00:00  2016-04-07 14:58:50            NaN  \n",
       "mean                    NaN                  NaN       9.153637  \n",
       "std                     NaN                  NaN       8.240719  \n",
       "min                     NaN                  NaN       0.000000  \n",
       "25%                     NaN                  NaN       3.000000  \n",
       "50%                     NaN                  NaN       6.000000  \n",
       "75%                     NaN                  NaN      14.000000  \n",
       "max                     NaN                  NaN      35.000000  "
      ]
     },
     "metadata": {},
     "output_type": "display_data"
    }
   ],
   "source": [
    "get_data_info(df_train)"
   ]
  },
  {
   "cell_type": "markdown",
   "metadata": {},
   "source": [
    "Пропусков не осталось. petrol это то же самое, что gasoline. Необходимо проверить неявные дубликаты в номинальных переменных. (надо было это делать до заполнения пропусков)."
   ]
  },
  {
   "cell_type": "code",
   "execution_count": 41,
   "metadata": {},
   "outputs": [
    {
     "name": "stdout",
     "output_type": "stream",
     "text": [
      "['petrol' 'gasoline' 'lpg' 'cng' 'hybrid' 'other' 'electric']\n"
     ]
    }
   ],
   "source": [
    "print(df_train['fueltype'].unique())"
   ]
  },
  {
   "cell_type": "code",
   "execution_count": 42,
   "metadata": {},
   "outputs": [],
   "source": [
    "df_train['fueltype'] = df_train['fueltype'].replace('petrol', 'gasoline');"
   ]
  },
  {
   "cell_type": "code",
   "execution_count": 43,
   "metadata": {},
   "outputs": [
    {
     "name": "stdout",
     "output_type": "stream",
     "text": [
      "['gasoline' 'lpg' 'cng' 'hybrid' 'other' 'electric']\n"
     ]
    }
   ],
   "source": [
    "print(df_train['fueltype'].unique())"
   ]
  },
  {
   "cell_type": "code",
   "execution_count": 44,
   "metadata": {},
   "outputs": [
    {
     "name": "stdout",
     "output_type": "stream",
     "text": [
      "['ford' 'renault' 'opel' 'citroen' 'smart' 'fiat' 'seat' 'audi' 'honda'\n",
      " 'volkswagen' 'chrysler' 'mini' 'mercedes_benz' 'bmw' 'mitsubishi' 'skoda'\n",
      " 'alfa_romeo' 'mazda' 'peugeot' 'jaguar' 'toyota' 'sonstige_autos' 'kia'\n",
      " 'daewoo' 'hyundai' 'lancia' 'dacia' 'nissan' 'volvo' 'suzuki' 'rover'\n",
      " 'subaru' 'saab' 'daihatsu' 'chevrolet' 'land_rover' 'lada' 'jeep'\n",
      " 'porsche' 'trabant']\n"
     ]
    }
   ],
   "source": [
    "print(df_train['brand'].unique())"
   ]
  },
  {
   "cell_type": "code",
   "execution_count": 45,
   "metadata": {},
   "outputs": [
    {
     "name": "stdout",
     "output_type": "stream",
     "text": [
      "['manual' 'auto']\n"
     ]
    }
   ],
   "source": [
    "print(df_train['gearbox'].unique())"
   ]
  },
  {
   "cell_type": "code",
   "execution_count": 46,
   "metadata": {},
   "outputs": [
    {
     "name": "stdout",
     "output_type": "stream",
     "text": [
      "['sedan' 'small' 'wagon' 'coupe' 'bus' 'convertible' 'other' 'suv']\n"
     ]
    }
   ],
   "source": [
    "print(df_train['vehicletype'].unique())"
   ]
  },
  {
   "cell_type": "code",
   "execution_count": 47,
   "metadata": {},
   "outputs": [
    {
     "name": "stdout",
     "output_type": "stream",
     "text": [
      "['no' 'yes']\n"
     ]
    }
   ],
   "source": [
    "print(df_train['repaired'].unique())"
   ]
  },
  {
   "cell_type": "code",
   "execution_count": 48,
   "metadata": {},
   "outputs": [
    {
     "name": "stdout",
     "output_type": "stream",
     "text": [
      "['escort' 'twingo' 'astra' 'c4' 'fortwo' 'punto' 'leon' 'fiesta' 'a4'\n",
      " 'civic' 'transporter' 'jazz' 'ibiza' 'ptcruiser' 'polo' 'fox' '80'\n",
      " 'cooper' 'c_klasse' 'a6' 'other' 'golf' 'passat' '5er' 'octavia' '147'\n",
      " 'vectra' 'ka' '3er' '6_reihe' '2_reihe' 'corsa' 'e_klasse' 'a_klasse'\n",
      " '1_reihe' 'bora' 'x_type' 'megane' 'clio' 'c3' 'b_klasse' 'clk' 'yaris'\n",
      " 'unknown' 'mondeo' 'sharan' 'carnival' '3_reihe' 'caddy' 'matiz' 'colt'\n",
      " 'focus' 'a3' 'scenic' 'touran' 'i_reihe' 'lybra' 'aygo' 'arosa' 'tt'\n",
      " 'lupo' 'fabia' 'lancer' 'zafira' 'combo' 'galaxy' 'c1' 'meriva' 'sandero'\n",
      " 'rx_reihe' 'rav' 'up' 'forfour' 'laguna' 'micra' 'c_max' 'a2' 'insignia'\n",
      " 'omega' 'slk' 'beetle' 'seicento' 'agila' 'xc_reihe' 's_klasse' 'z_reihe'\n",
      " 'note' 'spider' 'm_klasse' 'ducato' 'modus' 'scirocco' '1er' 'eos'\n",
      " 'carisma' 'vito' 'tigra' 'swift' 'mii' 'altea' 'picanto' '7er' 'cordoba'\n",
      " 'grand' 'viano' '500' 'justy' 'c5' 'primera' 'fusion' 'espace' 'mx_reihe'\n",
      " 'citigo' 'avensis' 'jimny' 'doblo' 'c2' 'cuore' 'one' 'almera' 's_max'\n",
      " '100' 'rio' 'auris' 'sorento' 'berlingo' 'a5' 'corolla' 'alhambra' 'q5'\n",
      " 'x_reihe' 'superb' 'a1' 'sprinter' 'tucson' 'qashqai' 'v70' 'aveo'\n",
      " 'freelander' 'clubman' 'jetta' 'transit' 'touareg' 'kadett' 'niva' 'ceed'\n",
      " 'panda' 'sirion' 'outlander' 'c_reihe' 'vivaro' '300c' '900' 'signum'\n",
      " '145' 'stilo' 'v40' 'v50' 'logan' 'kangoo' 'forester' 's_type' 'santa'\n",
      " 'defender' '156' '5_reihe' 'getz' 'duster' 'bravo' 'galant' 'tiguan'\n",
      " 'range_rover' 'roomster' 'legacy' 'pajero' 'voyager' 'x_trail'\n",
      " 'discovery' 'wrangler' 'nubira' 'roadster' 'yeti' 'captiva' 'a8' 'cc'\n",
      " 'kuga' 'navara' 'accord' '200' 'toledo' 'phaeton' 'cr_reihe' 'q7' 'verso'\n",
      " '4_reihe' 'kappa' 'impreza' 's60' 'cherokee' 'r19' 'juke' '159' 'exeo'\n",
      " '850' 'antara' 'i3' 'cl' 'sportage' 'ypsilon' 'range_rover_sport'\n",
      " 'calibra' 'spark' 'b_max' 'crossfire' 'terios' 'mustang' 'boxster'\n",
      " 'lanos' '90' 'sl' 'cx_reihe' 'materia' 'charade' 'croma' 'kaefer'\n",
      " 'amarok' 'kalos' 'v_klasse' 'move' 'g_klasse' 'm_reihe' 'delta' 'musa'\n",
      " '6er' 'elefantino' 'lodgy' 'v60' 'gl' '9000' 'kalina' 'q3' 'glk'\n",
      " 'cayenne' 'samara' 'rangerover' '911']\n"
     ]
    }
   ],
   "source": [
    "print(df_train['model'].unique())"
   ]
  },
  {
   "cell_type": "code",
   "execution_count": 49,
   "metadata": {},
   "outputs": [
    {
     "name": "stdout",
     "output_type": "stream",
     "text": [
      "объявлений, для которых модель неизветсна 633\n"
     ]
    }
   ],
   "source": [
    "print('объявлений, для которых модель неизветсна',  df_train.query('model == \"unknown\"').shape[0])"
   ]
  },
  {
   "cell_type": "markdown",
   "metadata": {},
   "source": [
    "Есть еще 'other' в модели. Можно объединить c 'unknown', искуственно созданным при заполнении пропусков.  "
   ]
  },
  {
   "cell_type": "code",
   "execution_count": 50,
   "metadata": {},
   "outputs": [],
   "source": [
    "df_train['model'] = df_train['model'].replace('unknown', 'other')"
   ]
  },
  {
   "cell_type": "markdown",
   "metadata": {},
   "source": [
    "Проверим на дубликаты"
   ]
  },
  {
   "cell_type": "code",
   "execution_count": 51,
   "metadata": {},
   "outputs": [
    {
     "data": {
      "text/plain": [
       "57"
      ]
     },
     "execution_count": 51,
     "metadata": {},
     "output_type": "execute_result"
    }
   ],
   "source": [
    "df_train.duplicated().sum()"
   ]
  },
  {
   "cell_type": "code",
   "execution_count": 52,
   "metadata": {},
   "outputs": [
    {
     "data": {
      "text/plain": [
       "0"
      ]
     },
     "execution_count": 52,
     "metadata": {},
     "output_type": "execute_result"
    }
   ],
   "source": [
    "# удалим дубликаты \n",
    "df_train = df_train.drop_duplicates()\n",
    "df_train.duplicated().sum()"
   ]
  },
  {
   "cell_type": "code",
   "execution_count": 53,
   "metadata": {
    "scrolled": true
   },
   "outputs": [
    {
     "name": "stdout",
     "output_type": "stream",
     "text": [
      "<class 'pandas.core.frame.DataFrame'>\n",
      "DatetimeIndex: 204061 entries, 2016-03-17 18:37:00 to 2016-04-03 15:36:25\n",
      "Data columns (total 13 columns):\n",
      " #   Column            Non-Null Count   Dtype         \n",
      "---  ------            --------------   -----         \n",
      " 0   price             204061 non-null  int64         \n",
      " 1   vehicletype       204061 non-null  object        \n",
      " 2   registrationyear  204061 non-null  int64         \n",
      " 3   gearbox           204061 non-null  object        \n",
      " 4   power             204061 non-null  int64         \n",
      " 5   model             204061 non-null  object        \n",
      " 6   kilometer         204061 non-null  int64         \n",
      " 7   fueltype          204061 non-null  object        \n",
      " 8   brand             204061 non-null  object        \n",
      " 9   repaired          204061 non-null  object        \n",
      " 10  datecreated       204061 non-null  datetime64[ns]\n",
      " 11  lastseen          204061 non-null  datetime64[ns]\n",
      " 12  time              204061 non-null  float64       \n",
      "dtypes: datetime64[ns](2), float64(1), int64(4), object(6)\n",
      "memory usage: 21.8+ MB\n"
     ]
    }
   ],
   "source": [
    "df_train.info()"
   ]
  },
  {
   "cell_type": "markdown",
   "metadata": {},
   "source": [
    "Последняя дата просмотра (LastSeen) 2016-04-07. Не должно быть автомобилей зарегистрированных после 2016 г."
   ]
  },
  {
   "cell_type": "code",
   "execution_count": 54,
   "metadata": {},
   "outputs": [],
   "source": [
    "df_train = df_train.loc[df_train['registrationyear'] <= 2016]"
   ]
  },
  {
   "cell_type": "markdown",
   "metadata": {},
   "source": [
    "Удалим переменные, которые не нужны для модели"
   ]
  },
  {
   "cell_type": "code",
   "execution_count": 55,
   "metadata": {},
   "outputs": [],
   "source": [
    "df_train = df_train.drop(['datecreated', 'lastseen', 'time'], axis=1)"
   ]
  },
  {
   "cell_type": "code",
   "execution_count": 56,
   "metadata": {},
   "outputs": [
    {
     "name": "stdout",
     "output_type": "stream",
     "text": [
      "<class 'pandas.core.frame.DataFrame'>\n",
      "DatetimeIndex: 196846 entries, 2016-03-17 18:37:00 to 2016-04-03 15:36:25\n",
      "Data columns (total 10 columns):\n",
      " #   Column            Non-Null Count   Dtype \n",
      "---  ------            --------------   ----- \n",
      " 0   price             196846 non-null  int64 \n",
      " 1   vehicletype       196846 non-null  object\n",
      " 2   registrationyear  196846 non-null  int64 \n",
      " 3   gearbox           196846 non-null  object\n",
      " 4   power             196846 non-null  int64 \n",
      " 5   model             196846 non-null  object\n",
      " 6   kilometer         196846 non-null  int64 \n",
      " 7   fueltype          196846 non-null  object\n",
      " 8   brand             196846 non-null  object\n",
      " 9   repaired          196846 non-null  object\n",
      "dtypes: int64(4), object(6)\n",
      "memory usage: 16.5+ MB\n"
     ]
    }
   ],
   "source": [
    "df_train.info()"
   ]
  },
  {
   "cell_type": "markdown",
   "metadata": {},
   "source": [
    "### Аномалии и пропуски df_test"
   ]
  },
  {
   "cell_type": "code",
   "execution_count": 57,
   "metadata": {},
   "outputs": [
    {
     "name": "stdout",
     "output_type": "stream",
     "text": [
      "<class 'pandas.core.frame.DataFrame'>\n",
      "DatetimeIndex: 88593 entries, 2016-04-04 13:36:58 to 2016-03-05 16:44:01\n",
      "Data columns (total 12 columns):\n",
      " #   Column            Non-Null Count  Dtype         \n",
      "---  ------            --------------  -----         \n",
      " 0   price             88593 non-null  int64         \n",
      " 1   vehicletype       79183 non-null  object        \n",
      " 2   registrationyear  88593 non-null  int64         \n",
      " 3   gearbox           83620 non-null  object        \n",
      " 4   power             88593 non-null  int64         \n",
      " 5   model             83632 non-null  object        \n",
      " 6   kilometer         88593 non-null  int64         \n",
      " 7   fueltype          80341 non-null  object        \n",
      " 8   brand             88593 non-null  object        \n",
      " 9   repaired          70815 non-null  object        \n",
      " 10  datecreated       88593 non-null  datetime64[ns]\n",
      " 11  lastseen          88593 non-null  datetime64[ns]\n",
      "dtypes: datetime64[ns](2), int64(4), object(6)\n",
      "memory usage: 8.8+ MB\n"
     ]
    }
   ],
   "source": [
    "df_test.info()"
   ]
  },
  {
   "cell_type": "code",
   "execution_count": 58,
   "metadata": {},
   "outputs": [],
   "source": [
    "# удалим аномалии в количественных переменных df_test, исходя из знаний об аномалиях df_train\n",
    "\n",
    "df_test = df_test.loc[(df_test['registrationyear'] <= 2019) &\n",
    "                      (df_test['registrationyear'] >= 1987)]\n",
    "\n",
    "df_test = df_test.loc[(df_test['power'] <= 250) &\n",
    "                      (df_test['power'] >= 50)]\n",
    "\n",
    "df_test = df_test.loc[df_test['kilometer'] <= 150000]\n",
    "\n",
    "df_test = df_test.loc[(df_test['price'] <= 150000) &\n",
    "                      (df_test['price'] >= 150)]\n"
   ]
  },
  {
   "cell_type": "code",
   "execution_count": 59,
   "metadata": {},
   "outputs": [],
   "source": [
    "# удалим аномалии по времени, которое висит объявление (верхний предел - 35 дней)\n",
    "\n",
    "df_test['time'] = round((df_test['lastseen'] - df_test['datecreated']) / np.timedelta64 ( 1 , 'D'))\n",
    "df_test = df_test.loc[df_test['time'] <= 35]\n"
   ]
  },
  {
   "cell_type": "code",
   "execution_count": 60,
   "metadata": {},
   "outputs": [],
   "source": [
    "# сбросили индексы, чтобы заполнение ниже сработало\n",
    "df_test = df_test.reset_index(drop=True)"
   ]
  },
  {
   "cell_type": "code",
   "execution_count": 61,
   "metadata": {
    "scrolled": true
   },
   "outputs": [],
   "source": [
    "# сбросили индексы, чтобы заполнение ниже сработало\n",
    "df_train = df_train.reset_index(drop=True)"
   ]
  },
  {
   "cell_type": "code",
   "execution_count": null,
   "metadata": {},
   "outputs": [],
   "source": []
  },
  {
   "cell_type": "code",
   "execution_count": 62,
   "metadata": {},
   "outputs": [],
   "source": [
    "# заполним пропуски в model в df_test модой для brand из df_train, если она есть, если нет other \n",
    "\n",
    "df_test['model'] = df_test['model'].fillna(df_train.groupby('brand')['model'].transform(\n",
    "    lambda x:x.value_counts().idxmax() if x.count()!=0 else 'other'))"
   ]
  },
  {
   "cell_type": "code",
   "execution_count": 63,
   "metadata": {},
   "outputs": [],
   "source": [
    "# заполним пропуски в vehicletype в df_test модой для model из df_train, если она есть, если нет other\n",
    "\n",
    "df_test['vehicletype'] = df_test['vehicletype'].fillna(df_train.groupby('model')['vehicletype'].transform(\n",
    "    lambda x:x.value_counts().idxmax() if x.count()!=0 else 'other'))"
   ]
  },
  {
   "cell_type": "code",
   "execution_count": 64,
   "metadata": {},
   "outputs": [],
   "source": [
    "# заполним пропуски в gearbox модой для model, если она есть, если нет по умолчанию 'manual' (ручная)\n",
    "\n",
    "df_test['gearbox'] = df_test['gearbox'].fillna(df_train.groupby('model')['gearbox'].transform(\n",
    "    lambda x:x.value_counts().idxmax() if x.count()!=0 else 'manual'))"
   ]
  },
  {
   "cell_type": "code",
   "execution_count": 65,
   "metadata": {},
   "outputs": [],
   "source": [
    "# заполним пропуски в fueltype модой для model, если она есть, если нет по умолчанию бензин 'petrol'\n",
    "\n",
    "df_test['fueltype'] = df_test['fueltype'].fillna(df_train.groupby('model')['fueltype'].transform(\n",
    "    lambda x:x.value_counts().idxmax() if x.count()!=0 else 'petrol'))\n",
    "\n",
    "# объединим gasoline и petrol\n",
    "df_test['fueltype'] = df_test['fueltype'].replace('petrol', 'gasoline')"
   ]
  },
  {
   "cell_type": "code",
   "execution_count": 66,
   "metadata": {},
   "outputs": [],
   "source": [
    "# заполним пропуски в repaired модой для model, если она есть, если нет по умолчанию 'no'\n",
    "\n",
    "df_test['repaired'] = df_test['repaired'].fillna(df_train.groupby('model')['repaired'].transform(\n",
    "    lambda x:x.value_counts().idxmax() if x.count()!=0 else 'no'))"
   ]
  },
  {
   "cell_type": "code",
   "execution_count": 67,
   "metadata": {
    "scrolled": true
   },
   "outputs": [
    {
     "name": "stdout",
     "output_type": "stream",
     "text": [
      "<class 'pandas.core.frame.DataFrame'>\n",
      "RangeIndex: 72090 entries, 0 to 72089\n",
      "Data columns (total 13 columns):\n",
      " #   Column            Non-Null Count  Dtype         \n",
      "---  ------            --------------  -----         \n",
      " 0   price             72090 non-null  int64         \n",
      " 1   vehicletype       72090 non-null  object        \n",
      " 2   registrationyear  72090 non-null  int64         \n",
      " 3   gearbox           72090 non-null  object        \n",
      " 4   power             72090 non-null  int64         \n",
      " 5   model             72090 non-null  object        \n",
      " 6   kilometer         72090 non-null  int64         \n",
      " 7   fueltype          72090 non-null  object        \n",
      " 8   brand             72090 non-null  object        \n",
      " 9   repaired          72090 non-null  object        \n",
      " 10  datecreated       72090 non-null  datetime64[ns]\n",
      " 11  lastseen          72090 non-null  datetime64[ns]\n",
      " 12  time              72090 non-null  float64       \n",
      "dtypes: datetime64[ns](2), float64(1), int64(4), object(6)\n",
      "memory usage: 7.2+ MB\n"
     ]
    }
   ],
   "source": [
    "df_test.info()"
   ]
  },
  {
   "cell_type": "code",
   "execution_count": 68,
   "metadata": {},
   "outputs": [],
   "source": [
    "# удалим ненужные переменные \n",
    "df_test = df_test.drop(['datecreated', 'lastseen', 'time'], axis=1)\n"
   ]
  },
  {
   "cell_type": "code",
   "execution_count": 69,
   "metadata": {},
   "outputs": [],
   "source": [
    "# объединим gasoline и petrol\n",
    "df_test['fueltype'] = df_test['fueltype'].replace('petrol', 'gasoline')"
   ]
  },
  {
   "cell_type": "code",
   "execution_count": 70,
   "metadata": {},
   "outputs": [],
   "source": [
    "# # объединим значения 'unknown' и 'other' в модели  \n",
    "\n",
    "df_test['model'] = df_test['model'].replace('unknown', 'other')"
   ]
  },
  {
   "cell_type": "markdown",
   "metadata": {},
   "source": [
    "### Перекодирование категориальных признаков df_train и df_test"
   ]
  },
  {
   "cell_type": "markdown",
   "metadata": {},
   "source": [
    "OHE подходит для всех моделей, но для деревянных это расточительно по времени и памяти. При параллельной обработке с OHE с разнообразными категориями может и зависнуть. Деревянные модели справятся и с порядковым кодированием."
   ]
  },
  {
   "cell_type": "markdown",
   "metadata": {},
   "source": [
    "Разделим признаки на фичи и таргет. Укажем категориальные."
   ]
  },
  {
   "cell_type": "code",
   "execution_count": 80,
   "metadata": {},
   "outputs": [],
   "source": [
    "features_train = df_train.drop(['price'], axis=1)\n",
    "target_train = df_train['price']\n",
    "\n",
    "features_test = df_test.drop(['price'], axis=1)\n",
    "target_test = df_test['price']\n",
    "\n",
    "# список категориальных переменных\n",
    "cat_features = features_train.select_dtypes(include='object').columns.to_list()\n",
    "# список количественных переменных\n",
    "num_features = features_train.select_dtypes(exclude='object').columns.to_list()"
   ]
  },
  {
   "cell_type": "code",
   "execution_count": 81,
   "metadata": {},
   "outputs": [
    {
     "name": "stdout",
     "output_type": "stream",
     "text": [
      "Requirement already satisfied: category-encoders in /opt/conda/lib/python3.9/site-packages (2.6.0)\n",
      "Requirement already satisfied: numpy>=1.14.0 in /opt/conda/lib/python3.9/site-packages (from category-encoders) (1.21.1)\n",
      "Requirement already satisfied: scipy>=1.0.0 in /opt/conda/lib/python3.9/site-packages (from category-encoders) (1.9.1)\n",
      "Requirement already satisfied: statsmodels>=0.9.0 in /opt/conda/lib/python3.9/site-packages (from category-encoders) (0.13.2)\n",
      "Requirement already satisfied: scikit-learn>=0.20.0 in /opt/conda/lib/python3.9/site-packages (from category-encoders) (0.24.1)\n",
      "Requirement already satisfied: pandas>=1.0.5 in /opt/conda/lib/python3.9/site-packages (from category-encoders) (1.2.4)\n",
      "Requirement already satisfied: patsy>=0.5.1 in /opt/conda/lib/python3.9/site-packages (from category-encoders) (0.5.2)\n",
      "Requirement already satisfied: python-dateutil>=2.7.3 in /opt/conda/lib/python3.9/site-packages (from pandas>=1.0.5->category-encoders) (2.8.1)\n",
      "Requirement already satisfied: pytz>=2017.3 in /opt/conda/lib/python3.9/site-packages (from pandas>=1.0.5->category-encoders) (2021.1)\n",
      "Requirement already satisfied: six in /opt/conda/lib/python3.9/site-packages (from patsy>=0.5.1->category-encoders) (1.16.0)\n",
      "Requirement already satisfied: threadpoolctl>=2.0.0 in /opt/conda/lib/python3.9/site-packages (from scikit-learn>=0.20.0->category-encoders) (3.1.0)\n",
      "Requirement already satisfied: joblib>=0.11 in /opt/conda/lib/python3.9/site-packages (from scikit-learn>=0.20.0->category-encoders) (1.1.0)\n",
      "Requirement already satisfied: packaging>=21.3 in /opt/conda/lib/python3.9/site-packages (from statsmodels>=0.9.0->category-encoders) (21.3)\n",
      "Requirement already satisfied: pyparsing!=3.0.5,>=2.0.2 in /opt/conda/lib/python3.9/site-packages (from packaging>=21.3->statsmodels>=0.9.0->category-encoders) (2.4.7)\n"
     ]
    }
   ],
   "source": [
    "# установили category-encoders\n",
    "!pip install category-encoders"
   ]
  },
  {
   "cell_type": "code",
   "execution_count": 82,
   "metadata": {},
   "outputs": [],
   "source": [
    "# установили CatBoostEncoder\n",
    "from category_encoders.cat_boost import CatBoostEncoder"
   ]
  },
  {
   "cell_type": "code",
   "execution_count": 83,
   "metadata": {},
   "outputs": [],
   "source": [
    "# скопировали фичи в которых перекодируем категориальные\n",
    "features_train_enc = features_train.copy()\n",
    "features_test_enc = features_test.copy()"
   ]
  },
  {
   "cell_type": "code",
   "execution_count": 84,
   "metadata": {},
   "outputs": [],
   "source": [
    "# создали CatBoostEncoder с правильными параметра\n",
    "\n",
    "encoder = CatBoostEncoder(cols=cat_features, # какие категориальные фичи перекодировать \n",
    "                          handle_unknown='value', # как поступать с зн, которых нет в train\n",
    "                          handle_missing='value', # как с пропускам в категориальных пер \n",
    "                          random_state=RANDOM_STATE, \n",
    "                          sigma=0.1) # добавление шума (от 0.05 до 0.6) защита от утечки данных "
   ]
  },
  {
   "cell_type": "markdown",
   "metadata": {},
   "source": [
    "По идее, созданный encoder с правильными параметрами можно запускать и для перекодирования категориальных переменных с пропусками и для перекодирования в случае несовпадения значений в категориальных переменных train и test, главное, чтобы набор этих категориальных переменных совпадал. "
   ]
  },
  {
   "cell_type": "code",
   "execution_count": 85,
   "metadata": {},
   "outputs": [
    {
     "data": {
      "text/plain": [
       "CatBoostEncoder(cols=['vehicletype', 'gearbox', 'model', 'fueltype', 'brand',\n",
       "                      'repaired'],\n",
       "                random_state=12345, sigma=0.1)"
      ]
     },
     "execution_count": 85,
     "metadata": {},
     "output_type": "execute_result"
    }
   ],
   "source": [
    "# обучили encoder на train\n",
    "encoder.fit(features_train_enc, target_train)"
   ]
  },
  {
   "cell_type": "code",
   "execution_count": 86,
   "metadata": {},
   "outputs": [],
   "source": [
    "# перекодировали features_train\n",
    "features_train_enc = encoder.transform(features_train_enc)"
   ]
  },
  {
   "cell_type": "code",
   "execution_count": 87,
   "metadata": {
    "scrolled": true
   },
   "outputs": [
    {
     "data": {
      "text/html": [
       "<div>\n",
       "<style scoped>\n",
       "    .dataframe tbody tr th:only-of-type {\n",
       "        vertical-align: middle;\n",
       "    }\n",
       "\n",
       "    .dataframe tbody tr th {\n",
       "        vertical-align: top;\n",
       "    }\n",
       "\n",
       "    .dataframe thead th {\n",
       "        text-align: right;\n",
       "    }\n",
       "</style>\n",
       "<table border=\"1\" class=\"dataframe\">\n",
       "  <thead>\n",
       "    <tr style=\"text-align: right;\">\n",
       "      <th></th>\n",
       "      <th>vehicletype</th>\n",
       "      <th>registrationyear</th>\n",
       "      <th>gearbox</th>\n",
       "      <th>power</th>\n",
       "      <th>model</th>\n",
       "      <th>kilometer</th>\n",
       "      <th>fueltype</th>\n",
       "      <th>brand</th>\n",
       "      <th>repaired</th>\n",
       "    </tr>\n",
       "  </thead>\n",
       "  <tbody>\n",
       "    <tr>\n",
       "      <th>112308</th>\n",
       "      <td>2808.745452</td>\n",
       "      <td>2000</td>\n",
       "      <td>3740.240224</td>\n",
       "      <td>50</td>\n",
       "      <td>1166.406283</td>\n",
       "      <td>125000</td>\n",
       "      <td>4045.62405</td>\n",
       "      <td>3881.295522</td>\n",
       "      <td>4266.779495</td>\n",
       "    </tr>\n",
       "    <tr>\n",
       "      <th>129071</th>\n",
       "      <td>4940.104246</td>\n",
       "      <td>2003</td>\n",
       "      <td>3740.240224</td>\n",
       "      <td>101</td>\n",
       "      <td>3594.257413</td>\n",
       "      <td>150000</td>\n",
       "      <td>4045.62405</td>\n",
       "      <td>2431.982628</td>\n",
       "      <td>4266.779495</td>\n",
       "    </tr>\n",
       "    <tr>\n",
       "      <th>160553</th>\n",
       "      <td>4315.076655</td>\n",
       "      <td>2009</td>\n",
       "      <td>3740.240224</td>\n",
       "      <td>105</td>\n",
       "      <td>3726.242100</td>\n",
       "      <td>100000</td>\n",
       "      <td>4045.62405</td>\n",
       "      <td>4116.002701</td>\n",
       "      <td>4266.779495</td>\n",
       "    </tr>\n",
       "    <tr>\n",
       "      <th>173034</th>\n",
       "      <td>4315.076655</td>\n",
       "      <td>2009</td>\n",
       "      <td>3740.240224</td>\n",
       "      <td>136</td>\n",
       "      <td>4396.877867</td>\n",
       "      <td>150000</td>\n",
       "      <td>4045.62405</td>\n",
       "      <td>4864.129818</td>\n",
       "      <td>4266.779495</td>\n",
       "    </tr>\n",
       "    <tr>\n",
       "      <th>90172</th>\n",
       "      <td>2808.745452</td>\n",
       "      <td>1997</td>\n",
       "      <td>3740.240224</td>\n",
       "      <td>50</td>\n",
       "      <td>2854.614736</td>\n",
       "      <td>150000</td>\n",
       "      <td>4045.62405</td>\n",
       "      <td>3041.727578</td>\n",
       "      <td>4266.779495</td>\n",
       "    </tr>\n",
       "  </tbody>\n",
       "</table>\n",
       "</div>"
      ],
      "text/plain": [
       "        vehicletype  registrationyear      gearbox  power        model  \\\n",
       "112308  2808.745452              2000  3740.240224     50  1166.406283   \n",
       "129071  4940.104246              2003  3740.240224    101  3594.257413   \n",
       "160553  4315.076655              2009  3740.240224    105  3726.242100   \n",
       "173034  4315.076655              2009  3740.240224    136  4396.877867   \n",
       "90172   2808.745452              1997  3740.240224     50  2854.614736   \n",
       "\n",
       "        kilometer    fueltype        brand     repaired  \n",
       "112308     125000  4045.62405  3881.295522  4266.779495  \n",
       "129071     150000  4045.62405  2431.982628  4266.779495  \n",
       "160553     100000  4045.62405  4116.002701  4266.779495  \n",
       "173034     150000  4045.62405  4864.129818  4266.779495  \n",
       "90172      150000  4045.62405  3041.727578  4266.779495  "
      ]
     },
     "metadata": {},
     "output_type": "display_data"
    }
   ],
   "source": [
    "# посмотрим как отработал перекодировщик\n",
    "display(features_train_enc.sample(5))"
   ]
  },
  {
   "cell_type": "code",
   "execution_count": 88,
   "metadata": {},
   "outputs": [
    {
     "data": {
      "text/html": [
       "<div>\n",
       "<style scoped>\n",
       "    .dataframe tbody tr th:only-of-type {\n",
       "        vertical-align: middle;\n",
       "    }\n",
       "\n",
       "    .dataframe tbody tr th {\n",
       "        vertical-align: top;\n",
       "    }\n",
       "\n",
       "    .dataframe thead th {\n",
       "        text-align: right;\n",
       "    }\n",
       "</style>\n",
       "<table border=\"1\" class=\"dataframe\">\n",
       "  <thead>\n",
       "    <tr style=\"text-align: right;\">\n",
       "      <th></th>\n",
       "      <th>vehicletype</th>\n",
       "      <th>registrationyear</th>\n",
       "      <th>gearbox</th>\n",
       "      <th>power</th>\n",
       "      <th>model</th>\n",
       "      <th>kilometer</th>\n",
       "      <th>fueltype</th>\n",
       "      <th>brand</th>\n",
       "      <th>repaired</th>\n",
       "    </tr>\n",
       "  </thead>\n",
       "  <tbody>\n",
       "    <tr>\n",
       "      <th>0</th>\n",
       "      <td>3991.111540</td>\n",
       "      <td>1988</td>\n",
       "      <td>3740.240224</td>\n",
       "      <td>132</td>\n",
       "      <td>894.038436</td>\n",
       "      <td>150000</td>\n",
       "      <td>4045.62405</td>\n",
       "      <td>3041.727578</td>\n",
       "      <td>4266.779495</td>\n",
       "    </tr>\n",
       "    <tr>\n",
       "      <th>1</th>\n",
       "      <td>2808.745452</td>\n",
       "      <td>2005</td>\n",
       "      <td>3740.240224</td>\n",
       "      <td>75</td>\n",
       "      <td>1628.126949</td>\n",
       "      <td>150000</td>\n",
       "      <td>4045.62405</td>\n",
       "      <td>2431.982628</td>\n",
       "      <td>4266.779495</td>\n",
       "    </tr>\n",
       "    <tr>\n",
       "      <th>2</th>\n",
       "      <td>4315.076655</td>\n",
       "      <td>2013</td>\n",
       "      <td>3740.240224</td>\n",
       "      <td>110</td>\n",
       "      <td>3143.474351</td>\n",
       "      <td>60000</td>\n",
       "      <td>4045.62405</td>\n",
       "      <td>2897.736214</td>\n",
       "      <td>4266.779495</td>\n",
       "    </tr>\n",
       "    <tr>\n",
       "      <th>3</th>\n",
       "      <td>3991.111540</td>\n",
       "      <td>2005</td>\n",
       "      <td>5472.463159</td>\n",
       "      <td>140</td>\n",
       "      <td>5869.944361</td>\n",
       "      <td>50000</td>\n",
       "      <td>4045.62405</td>\n",
       "      <td>3509.997857</td>\n",
       "      <td>4266.779495</td>\n",
       "    </tr>\n",
       "    <tr>\n",
       "      <th>4</th>\n",
       "      <td>2808.745452</td>\n",
       "      <td>2005</td>\n",
       "      <td>5472.463159</td>\n",
       "      <td>61</td>\n",
       "      <td>4029.081997</td>\n",
       "      <td>70000</td>\n",
       "      <td>4045.62405</td>\n",
       "      <td>3975.234358</td>\n",
       "      <td>4266.779495</td>\n",
       "    </tr>\n",
       "    <tr>\n",
       "      <th>...</th>\n",
       "      <td>...</td>\n",
       "      <td>...</td>\n",
       "      <td>...</td>\n",
       "      <td>...</td>\n",
       "      <td>...</td>\n",
       "      <td>...</td>\n",
       "      <td>...</td>\n",
       "      <td>...</td>\n",
       "      <td>...</td>\n",
       "    </tr>\n",
       "    <tr>\n",
       "      <th>196841</th>\n",
       "      <td>3991.111540</td>\n",
       "      <td>1997</td>\n",
       "      <td>3740.240224</td>\n",
       "      <td>90</td>\n",
       "      <td>3191.473861</td>\n",
       "      <td>150000</td>\n",
       "      <td>4045.62405</td>\n",
       "      <td>3559.016085</td>\n",
       "      <td>4266.779495</td>\n",
       "    </tr>\n",
       "    <tr>\n",
       "      <th>196842</th>\n",
       "      <td>3991.111540</td>\n",
       "      <td>1996</td>\n",
       "      <td>3740.240224</td>\n",
       "      <td>101</td>\n",
       "      <td>3594.257413</td>\n",
       "      <td>125000</td>\n",
       "      <td>4045.62405</td>\n",
       "      <td>4116.002701</td>\n",
       "      <td>4266.779495</td>\n",
       "    </tr>\n",
       "    <tr>\n",
       "      <th>196843</th>\n",
       "      <td>3991.111540</td>\n",
       "      <td>2008</td>\n",
       "      <td>3740.240224</td>\n",
       "      <td>122</td>\n",
       "      <td>8629.670973</td>\n",
       "      <td>60000</td>\n",
       "      <td>4045.62405</td>\n",
       "      <td>5308.082208</td>\n",
       "      <td>4266.779495</td>\n",
       "    </tr>\n",
       "    <tr>\n",
       "      <th>196844</th>\n",
       "      <td>3991.111540</td>\n",
       "      <td>2007</td>\n",
       "      <td>3740.240224</td>\n",
       "      <td>120</td>\n",
       "      <td>8051.156675</td>\n",
       "      <td>100000</td>\n",
       "      <td>4045.62405</td>\n",
       "      <td>7688.521996</td>\n",
       "      <td>4266.779495</td>\n",
       "    </tr>\n",
       "    <tr>\n",
       "      <th>196845</th>\n",
       "      <td>4315.076655</td>\n",
       "      <td>2009</td>\n",
       "      <td>5472.463159</td>\n",
       "      <td>197</td>\n",
       "      <td>5352.694756</td>\n",
       "      <td>150000</td>\n",
       "      <td>4045.62405</td>\n",
       "      <td>5308.082208</td>\n",
       "      <td>4266.779495</td>\n",
       "    </tr>\n",
       "  </tbody>\n",
       "</table>\n",
       "<p>196846 rows × 9 columns</p>\n",
       "</div>"
      ],
      "text/plain": [
       "        vehicletype  registrationyear      gearbox  power        model  \\\n",
       "0       3991.111540              1988  3740.240224    132   894.038436   \n",
       "1       2808.745452              2005  3740.240224     75  1628.126949   \n",
       "2       4315.076655              2013  3740.240224    110  3143.474351   \n",
       "3       3991.111540              2005  5472.463159    140  5869.944361   \n",
       "4       2808.745452              2005  5472.463159     61  4029.081997   \n",
       "...             ...               ...          ...    ...          ...   \n",
       "196841  3991.111540              1997  3740.240224     90  3191.473861   \n",
       "196842  3991.111540              1996  3740.240224    101  3594.257413   \n",
       "196843  3991.111540              2008  3740.240224    122  8629.670973   \n",
       "196844  3991.111540              2007  3740.240224    120  8051.156675   \n",
       "196845  4315.076655              2009  5472.463159    197  5352.694756   \n",
       "\n",
       "        kilometer    fueltype        brand     repaired  \n",
       "0          150000  4045.62405  3041.727578  4266.779495  \n",
       "1          150000  4045.62405  2431.982628  4266.779495  \n",
       "2           60000  4045.62405  2897.736214  4266.779495  \n",
       "3           50000  4045.62405  3509.997857  4266.779495  \n",
       "4           70000  4045.62405  3975.234358  4266.779495  \n",
       "...           ...         ...          ...          ...  \n",
       "196841     150000  4045.62405  3559.016085  4266.779495  \n",
       "196842     125000  4045.62405  4116.002701  4266.779495  \n",
       "196843      60000  4045.62405  5308.082208  4266.779495  \n",
       "196844     100000  4045.62405  7688.521996  4266.779495  \n",
       "196845     150000  4045.62405  5308.082208  4266.779495  \n",
       "\n",
       "[196846 rows x 9 columns]"
      ]
     },
     "execution_count": 88,
     "metadata": {},
     "output_type": "execute_result"
    }
   ],
   "source": [
    "features_train_enc"
   ]
  },
  {
   "cell_type": "code",
   "execution_count": 89,
   "metadata": {},
   "outputs": [
    {
     "data": {
      "text/html": [
       "<div>\n",
       "<style scoped>\n",
       "    .dataframe tbody tr th:only-of-type {\n",
       "        vertical-align: middle;\n",
       "    }\n",
       "\n",
       "    .dataframe tbody tr th {\n",
       "        vertical-align: top;\n",
       "    }\n",
       "\n",
       "    .dataframe thead th {\n",
       "        text-align: right;\n",
       "    }\n",
       "</style>\n",
       "<table border=\"1\" class=\"dataframe\">\n",
       "  <thead>\n",
       "    <tr style=\"text-align: right;\">\n",
       "      <th></th>\n",
       "      <th>vehicletype</th>\n",
       "      <th>registrationyear</th>\n",
       "      <th>gearbox</th>\n",
       "      <th>power</th>\n",
       "      <th>model</th>\n",
       "      <th>kilometer</th>\n",
       "      <th>fueltype</th>\n",
       "      <th>brand</th>\n",
       "      <th>repaired</th>\n",
       "    </tr>\n",
       "  </thead>\n",
       "  <tbody>\n",
       "    <tr>\n",
       "      <th>0</th>\n",
       "      <td>bus</td>\n",
       "      <td>2010</td>\n",
       "      <td>auto</td>\n",
       "      <td>150</td>\n",
       "      <td>viano</td>\n",
       "      <td>150000</td>\n",
       "      <td>gasoline</td>\n",
       "      <td>mercedes_benz</td>\n",
       "      <td>no</td>\n",
       "    </tr>\n",
       "    <tr>\n",
       "      <th>1</th>\n",
       "      <td>other</td>\n",
       "      <td>2011</td>\n",
       "      <td>manual</td>\n",
       "      <td>143</td>\n",
       "      <td>1er</td>\n",
       "      <td>40000</td>\n",
       "      <td>gasoline</td>\n",
       "      <td>bmw</td>\n",
       "      <td>no</td>\n",
       "    </tr>\n",
       "    <tr>\n",
       "      <th>2</th>\n",
       "      <td>sedan</td>\n",
       "      <td>2004</td>\n",
       "      <td>manual</td>\n",
       "      <td>125</td>\n",
       "      <td>astra</td>\n",
       "      <td>150000</td>\n",
       "      <td>gasoline</td>\n",
       "      <td>opel</td>\n",
       "      <td>no</td>\n",
       "    </tr>\n",
       "    <tr>\n",
       "      <th>3</th>\n",
       "      <td>sedan</td>\n",
       "      <td>2007</td>\n",
       "      <td>auto</td>\n",
       "      <td>224</td>\n",
       "      <td>c_klasse</td>\n",
       "      <td>150000</td>\n",
       "      <td>gasoline</td>\n",
       "      <td>mercedes_benz</td>\n",
       "      <td>no</td>\n",
       "    </tr>\n",
       "    <tr>\n",
       "      <th>4</th>\n",
       "      <td>other</td>\n",
       "      <td>1994</td>\n",
       "      <td>manual</td>\n",
       "      <td>68</td>\n",
       "      <td>transporter</td>\n",
       "      <td>150000</td>\n",
       "      <td>gasoline</td>\n",
       "      <td>volkswagen</td>\n",
       "      <td>no</td>\n",
       "    </tr>\n",
       "    <tr>\n",
       "      <th>...</th>\n",
       "      <td>...</td>\n",
       "      <td>...</td>\n",
       "      <td>...</td>\n",
       "      <td>...</td>\n",
       "      <td>...</td>\n",
       "      <td>...</td>\n",
       "      <td>...</td>\n",
       "      <td>...</td>\n",
       "      <td>...</td>\n",
       "    </tr>\n",
       "    <tr>\n",
       "      <th>72085</th>\n",
       "      <td>wagon</td>\n",
       "      <td>2009</td>\n",
       "      <td>manual</td>\n",
       "      <td>177</td>\n",
       "      <td>3er</td>\n",
       "      <td>150000</td>\n",
       "      <td>gasoline</td>\n",
       "      <td>bmw</td>\n",
       "      <td>no</td>\n",
       "    </tr>\n",
       "    <tr>\n",
       "      <th>72086</th>\n",
       "      <td>wagon</td>\n",
       "      <td>2005</td>\n",
       "      <td>manual</td>\n",
       "      <td>120</td>\n",
       "      <td>megane</td>\n",
       "      <td>150000</td>\n",
       "      <td>gasoline</td>\n",
       "      <td>renault</td>\n",
       "      <td>no</td>\n",
       "    </tr>\n",
       "    <tr>\n",
       "      <th>72087</th>\n",
       "      <td>wagon</td>\n",
       "      <td>2003</td>\n",
       "      <td>manual</td>\n",
       "      <td>218</td>\n",
       "      <td>5er</td>\n",
       "      <td>150000</td>\n",
       "      <td>gasoline</td>\n",
       "      <td>bmw</td>\n",
       "      <td>no</td>\n",
       "    </tr>\n",
       "    <tr>\n",
       "      <th>72088</th>\n",
       "      <td>wagon</td>\n",
       "      <td>2006</td>\n",
       "      <td>auto</td>\n",
       "      <td>163</td>\n",
       "      <td>3er</td>\n",
       "      <td>150000</td>\n",
       "      <td>gasoline</td>\n",
       "      <td>bmw</td>\n",
       "      <td>no</td>\n",
       "    </tr>\n",
       "    <tr>\n",
       "      <th>72089</th>\n",
       "      <td>small</td>\n",
       "      <td>1996</td>\n",
       "      <td>manual</td>\n",
       "      <td>55</td>\n",
       "      <td>other</td>\n",
       "      <td>125000</td>\n",
       "      <td>gasoline</td>\n",
       "      <td>fiat</td>\n",
       "      <td>yes</td>\n",
       "    </tr>\n",
       "  </tbody>\n",
       "</table>\n",
       "<p>72090 rows × 9 columns</p>\n",
       "</div>"
      ],
      "text/plain": [
       "      vehicletype  registrationyear gearbox  power        model  kilometer  \\\n",
       "0             bus              2010    auto    150        viano     150000   \n",
       "1           other              2011  manual    143          1er      40000   \n",
       "2           sedan              2004  manual    125        astra     150000   \n",
       "3           sedan              2007    auto    224     c_klasse     150000   \n",
       "4           other              1994  manual     68  transporter     150000   \n",
       "...           ...               ...     ...    ...          ...        ...   \n",
       "72085       wagon              2009  manual    177          3er     150000   \n",
       "72086       wagon              2005  manual    120       megane     150000   \n",
       "72087       wagon              2003  manual    218          5er     150000   \n",
       "72088       wagon              2006    auto    163          3er     150000   \n",
       "72089       small              1996  manual     55        other     125000   \n",
       "\n",
       "       fueltype          brand repaired  \n",
       "0      gasoline  mercedes_benz       no  \n",
       "1      gasoline            bmw       no  \n",
       "2      gasoline           opel       no  \n",
       "3      gasoline  mercedes_benz       no  \n",
       "4      gasoline     volkswagen       no  \n",
       "...         ...            ...      ...  \n",
       "72085  gasoline            bmw       no  \n",
       "72086  gasoline        renault       no  \n",
       "72087  gasoline            bmw       no  \n",
       "72088  gasoline            bmw       no  \n",
       "72089  gasoline           fiat      yes  \n",
       "\n",
       "[72090 rows x 9 columns]"
      ]
     },
     "execution_count": 89,
     "metadata": {},
     "output_type": "execute_result"
    }
   ],
   "source": [
    "features_test_enc"
   ]
  },
  {
   "cell_type": "code",
   "execution_count": 90,
   "metadata": {},
   "outputs": [],
   "source": [
    "# перекодируем features_test\n",
    "\n",
    "features_test_enc = encoder.transform(features_test_enc)"
   ]
  },
  {
   "cell_type": "code",
   "execution_count": 91,
   "metadata": {
    "scrolled": true
   },
   "outputs": [
    {
     "data": {
      "text/html": [
       "<div>\n",
       "<style scoped>\n",
       "    .dataframe tbody tr th:only-of-type {\n",
       "        vertical-align: middle;\n",
       "    }\n",
       "\n",
       "    .dataframe tbody tr th {\n",
       "        vertical-align: top;\n",
       "    }\n",
       "\n",
       "    .dataframe thead th {\n",
       "        text-align: right;\n",
       "    }\n",
       "</style>\n",
       "<table border=\"1\" class=\"dataframe\">\n",
       "  <thead>\n",
       "    <tr style=\"text-align: right;\">\n",
       "      <th></th>\n",
       "      <th>vehicletype</th>\n",
       "      <th>registrationyear</th>\n",
       "      <th>gearbox</th>\n",
       "      <th>power</th>\n",
       "      <th>model</th>\n",
       "      <th>kilometer</th>\n",
       "      <th>fueltype</th>\n",
       "      <th>brand</th>\n",
       "      <th>repaired</th>\n",
       "    </tr>\n",
       "  </thead>\n",
       "  <tbody>\n",
       "    <tr>\n",
       "      <th>52533</th>\n",
       "      <td>3991.111540</td>\n",
       "      <td>1999</td>\n",
       "      <td>3740.240224</td>\n",
       "      <td>118</td>\n",
       "      <td>4454.224702</td>\n",
       "      <td>150000</td>\n",
       "      <td>4045.62405</td>\n",
       "      <td>5308.082208</td>\n",
       "      <td>4266.779495</td>\n",
       "    </tr>\n",
       "    <tr>\n",
       "      <th>50769</th>\n",
       "      <td>4940.104246</td>\n",
       "      <td>2008</td>\n",
       "      <td>3740.240224</td>\n",
       "      <td>84</td>\n",
       "      <td>3657.795969</td>\n",
       "      <td>125000</td>\n",
       "      <td>4045.62405</td>\n",
       "      <td>2924.018173</td>\n",
       "      <td>4266.779495</td>\n",
       "    </tr>\n",
       "    <tr>\n",
       "      <th>47819</th>\n",
       "      <td>3991.111540</td>\n",
       "      <td>2004</td>\n",
       "      <td>3740.240224</td>\n",
       "      <td>75</td>\n",
       "      <td>3726.242100</td>\n",
       "      <td>150000</td>\n",
       "      <td>4045.62405</td>\n",
       "      <td>4116.002701</td>\n",
       "      <td>4266.779495</td>\n",
       "    </tr>\n",
       "    <tr>\n",
       "      <th>24724</th>\n",
       "      <td>3991.111540</td>\n",
       "      <td>2011</td>\n",
       "      <td>3740.240224</td>\n",
       "      <td>105</td>\n",
       "      <td>3726.242100</td>\n",
       "      <td>125000</td>\n",
       "      <td>4045.62405</td>\n",
       "      <td>4116.002701</td>\n",
       "      <td>4266.779495</td>\n",
       "    </tr>\n",
       "    <tr>\n",
       "      <th>14354</th>\n",
       "      <td>3991.111540</td>\n",
       "      <td>2015</td>\n",
       "      <td>3740.240224</td>\n",
       "      <td>102</td>\n",
       "      <td>6756.283238</td>\n",
       "      <td>20000</td>\n",
       "      <td>4045.62405</td>\n",
       "      <td>7688.521996</td>\n",
       "      <td>4266.779495</td>\n",
       "    </tr>\n",
       "  </tbody>\n",
       "</table>\n",
       "</div>"
      ],
      "text/plain": [
       "       vehicletype  registrationyear      gearbox  power        model  \\\n",
       "52533  3991.111540              1999  3740.240224    118  4454.224702   \n",
       "50769  4940.104246              2008  3740.240224     84  3657.795969   \n",
       "47819  3991.111540              2004  3740.240224     75  3726.242100   \n",
       "24724  3991.111540              2011  3740.240224    105  3726.242100   \n",
       "14354  3991.111540              2015  3740.240224    102  6756.283238   \n",
       "\n",
       "       kilometer    fueltype        brand     repaired  \n",
       "52533     150000  4045.62405  5308.082208  4266.779495  \n",
       "50769     125000  4045.62405  2924.018173  4266.779495  \n",
       "47819     150000  4045.62405  4116.002701  4266.779495  \n",
       "24724     125000  4045.62405  4116.002701  4266.779495  \n",
       "14354      20000  4045.62405  7688.521996  4266.779495  "
      ]
     },
     "metadata": {},
     "output_type": "display_data"
    }
   ],
   "source": [
    "display(features_test_enc.sample(5))"
   ]
  },
  {
   "cell_type": "code",
   "execution_count": 92,
   "metadata": {},
   "outputs": [
    {
     "name": "stdout",
     "output_type": "stream",
     "text": [
      "<class 'pandas.core.frame.DataFrame'>\n",
      "RangeIndex: 72090 entries, 0 to 72089\n",
      "Data columns (total 9 columns):\n",
      " #   Column            Non-Null Count  Dtype  \n",
      "---  ------            --------------  -----  \n",
      " 0   vehicletype       72090 non-null  float64\n",
      " 1   registrationyear  72090 non-null  int64  \n",
      " 2   gearbox           72090 non-null  float64\n",
      " 3   power             72090 non-null  int64  \n",
      " 4   model             72090 non-null  float64\n",
      " 5   kilometer         72090 non-null  int64  \n",
      " 6   fueltype          72090 non-null  float64\n",
      " 7   brand             72090 non-null  float64\n",
      " 8   repaired          72090 non-null  float64\n",
      "dtypes: float64(6), int64(3)\n",
      "memory usage: 5.0 MB\n"
     ]
    }
   ],
   "source": [
    "features_test_enc.info()"
   ]
  },
  {
   "cell_type": "markdown",
   "metadata": {},
   "source": [
    "#### Попробую создать column_transformer"
   ]
  },
  {
   "cell_type": "code",
   "execution_count": 93,
   "metadata": {},
   "outputs": [],
   "source": [
    "col_transformer = make_column_transformer(\n",
    "    (\n",
    "        CatBoostEncoder(cols=cat_features, \n",
    "                        handle_unknown='value', \n",
    "                        handle_missing='value', \n",
    "                        random_state=RANDOM_STATE, \n",
    "                        sigma=0.1),\n",
    "        cat_features\n",
    "    ),\n",
    "    (\n",
    "        StandardScaler(), \n",
    "        num_features\n",
    "    ),\n",
    "    remainder='passthrough',\n",
    "    \n",
    ")\n",
    "\n",
    "# обучем col_transformer и перекодируем features_train \n",
    "features_train_alt = pd.DataFrame(col_transformer.fit_transform(features_train, target_train), \n",
    "                                  columns=features_train.columns, \n",
    "                                  index=features_train.index)"
   ]
  },
  {
   "cell_type": "code",
   "execution_count": 94,
   "metadata": {},
   "outputs": [
    {
     "data": {
      "text/html": [
       "<div>\n",
       "<style scoped>\n",
       "    .dataframe tbody tr th:only-of-type {\n",
       "        vertical-align: middle;\n",
       "    }\n",
       "\n",
       "    .dataframe tbody tr th {\n",
       "        vertical-align: top;\n",
       "    }\n",
       "\n",
       "    .dataframe thead th {\n",
       "        text-align: right;\n",
       "    }\n",
       "</style>\n",
       "<table border=\"1\" class=\"dataframe\">\n",
       "  <thead>\n",
       "    <tr style=\"text-align: right;\">\n",
       "      <th></th>\n",
       "      <th>vehicletype</th>\n",
       "      <th>registrationyear</th>\n",
       "      <th>gearbox</th>\n",
       "      <th>power</th>\n",
       "      <th>model</th>\n",
       "      <th>kilometer</th>\n",
       "      <th>fueltype</th>\n",
       "      <th>brand</th>\n",
       "      <th>repaired</th>\n",
       "    </tr>\n",
       "  </thead>\n",
       "  <tbody>\n",
       "    <tr>\n",
       "      <th>5080</th>\n",
       "      <td>3715.495550</td>\n",
       "      <td>3369.925848</td>\n",
       "      <td>6601.424106</td>\n",
       "      <td>3768.078842</td>\n",
       "      <td>4992.832807</td>\n",
       "      <td>4353.600602</td>\n",
       "      <td>-0.530154</td>\n",
       "      <td>0.003266</td>\n",
       "      <td>0.555388</td>\n",
       "    </tr>\n",
       "    <tr>\n",
       "      <th>98888</th>\n",
       "      <td>3010.935153</td>\n",
       "      <td>3246.673918</td>\n",
       "      <td>3186.731228</td>\n",
       "      <td>3779.686990</td>\n",
       "      <td>3924.614034</td>\n",
       "      <td>4199.627230</td>\n",
       "      <td>0.931546</td>\n",
       "      <td>-0.229409</td>\n",
       "      <td>-0.897756</td>\n",
       "    </tr>\n",
       "    <tr>\n",
       "      <th>176624</th>\n",
       "      <td>4748.538562</td>\n",
       "      <td>3714.827853</td>\n",
       "      <td>6429.841924</td>\n",
       "      <td>4365.912391</td>\n",
       "      <td>4585.055091</td>\n",
       "      <td>4486.673017</td>\n",
       "      <td>0.748834</td>\n",
       "      <td>-0.299211</td>\n",
       "      <td>0.555388</td>\n",
       "    </tr>\n",
       "    <tr>\n",
       "      <th>113383</th>\n",
       "      <td>4826.171638</td>\n",
       "      <td>3459.773603</td>\n",
       "      <td>2780.799680</td>\n",
       "      <td>4684.729632</td>\n",
       "      <td>3270.521336</td>\n",
       "      <td>3711.281006</td>\n",
       "      <td>-0.712866</td>\n",
       "      <td>0.375544</td>\n",
       "      <td>0.555388</td>\n",
       "    </tr>\n",
       "    <tr>\n",
       "      <th>16692</th>\n",
       "      <td>4529.363389</td>\n",
       "      <td>4395.105738</td>\n",
       "      <td>9014.089658</td>\n",
       "      <td>3285.098788</td>\n",
       "      <td>5554.547414</td>\n",
       "      <td>4667.851414</td>\n",
       "      <td>0.200696</td>\n",
       "      <td>0.817625</td>\n",
       "      <td>0.555388</td>\n",
       "    </tr>\n",
       "  </tbody>\n",
       "</table>\n",
       "</div>"
      ],
      "text/plain": [
       "        vehicletype  registrationyear      gearbox        power        model  \\\n",
       "5080    3715.495550       3369.925848  6601.424106  3768.078842  4992.832807   \n",
       "98888   3010.935153       3246.673918  3186.731228  3779.686990  3924.614034   \n",
       "176624  4748.538562       3714.827853  6429.841924  4365.912391  4585.055091   \n",
       "113383  4826.171638       3459.773603  2780.799680  4684.729632  3270.521336   \n",
       "16692   4529.363389       4395.105738  9014.089658  3285.098788  5554.547414   \n",
       "\n",
       "          kilometer  fueltype     brand  repaired  \n",
       "5080    4353.600602 -0.530154  0.003266  0.555388  \n",
       "98888   4199.627230  0.931546 -0.229409 -0.897756  \n",
       "176624  4486.673017  0.748834 -0.299211  0.555388  \n",
       "113383  3711.281006 -0.712866  0.375544  0.555388  \n",
       "16692   4667.851414  0.200696  0.817625  0.555388  "
      ]
     },
     "metadata": {},
     "output_type": "display_data"
    }
   ],
   "source": [
    "# посмотрим как отработал \n",
    "display(features_train_alt.sample(5))"
   ]
  },
  {
   "cell_type": "code",
   "execution_count": 95,
   "metadata": {},
   "outputs": [],
   "source": [
    "# перекодируем col_transformer features_test\n",
    "features_test_alt = pd.DataFrame(col_transformer.transform(features_test), \n",
    "                                  columns=features_test.columns, \n",
    "                                  index=features_test.index)"
   ]
  },
  {
   "cell_type": "code",
   "execution_count": 96,
   "metadata": {},
   "outputs": [
    {
     "data": {
      "text/html": [
       "<div>\n",
       "<style scoped>\n",
       "    .dataframe tbody tr th:only-of-type {\n",
       "        vertical-align: middle;\n",
       "    }\n",
       "\n",
       "    .dataframe tbody tr th {\n",
       "        vertical-align: top;\n",
       "    }\n",
       "\n",
       "    .dataframe thead th {\n",
       "        text-align: right;\n",
       "    }\n",
       "</style>\n",
       "<table border=\"1\" class=\"dataframe\">\n",
       "  <thead>\n",
       "    <tr style=\"text-align: right;\">\n",
       "      <th></th>\n",
       "      <th>vehicletype</th>\n",
       "      <th>registrationyear</th>\n",
       "      <th>gearbox</th>\n",
       "      <th>power</th>\n",
       "      <th>model</th>\n",
       "      <th>kilometer</th>\n",
       "      <th>fueltype</th>\n",
       "      <th>brand</th>\n",
       "      <th>repaired</th>\n",
       "    </tr>\n",
       "  </thead>\n",
       "  <tbody>\n",
       "    <tr>\n",
       "      <th>49287</th>\n",
       "      <td>5573.002471</td>\n",
       "      <td>3740.240224</td>\n",
       "      <td>4454.224702</td>\n",
       "      <td>4045.62405</td>\n",
       "      <td>5308.082208</td>\n",
       "      <td>4266.779495</td>\n",
       "      <td>-1.261004</td>\n",
       "      <td>0.026533</td>\n",
       "      <td>0.555388</td>\n",
       "    </tr>\n",
       "    <tr>\n",
       "      <th>50046</th>\n",
       "      <td>2808.745452</td>\n",
       "      <td>3740.240224</td>\n",
       "      <td>3799.629284</td>\n",
       "      <td>4045.62405</td>\n",
       "      <td>3881.295522</td>\n",
       "      <td>4266.779495</td>\n",
       "      <td>0.383409</td>\n",
       "      <td>-0.927431</td>\n",
       "      <td>0.555388</td>\n",
       "    </tr>\n",
       "    <tr>\n",
       "      <th>23733</th>\n",
       "      <td>2808.745452</td>\n",
       "      <td>3740.240224</td>\n",
       "      <td>3124.455020</td>\n",
       "      <td>4045.62405</td>\n",
       "      <td>3192.807913</td>\n",
       "      <td>4266.779495</td>\n",
       "      <td>0.200696</td>\n",
       "      <td>-1.276442</td>\n",
       "      <td>0.555388</td>\n",
       "    </tr>\n",
       "    <tr>\n",
       "      <th>60898</th>\n",
       "      <td>4315.076655</td>\n",
       "      <td>3740.240224</td>\n",
       "      <td>4454.224702</td>\n",
       "      <td>4045.62405</td>\n",
       "      <td>5308.082208</td>\n",
       "      <td>4266.779495</td>\n",
       "      <td>0.017984</td>\n",
       "      <td>0.026533</td>\n",
       "      <td>-0.171184</td>\n",
       "    </tr>\n",
       "    <tr>\n",
       "      <th>57670</th>\n",
       "      <td>4940.104246</td>\n",
       "      <td>3740.240224</td>\n",
       "      <td>5890.609636</td>\n",
       "      <td>4045.62405</td>\n",
       "      <td>4116.002701</td>\n",
       "      <td>4266.779495</td>\n",
       "      <td>-1.078291</td>\n",
       "      <td>-0.299211</td>\n",
       "      <td>0.555388</td>\n",
       "    </tr>\n",
       "  </tbody>\n",
       "</table>\n",
       "</div>"
      ],
      "text/plain": [
       "       vehicletype  registrationyear      gearbox       power        model  \\\n",
       "49287  5573.002471       3740.240224  4454.224702  4045.62405  5308.082208   \n",
       "50046  2808.745452       3740.240224  3799.629284  4045.62405  3881.295522   \n",
       "23733  2808.745452       3740.240224  3124.455020  4045.62405  3192.807913   \n",
       "60898  4315.076655       3740.240224  4454.224702  4045.62405  5308.082208   \n",
       "57670  4940.104246       3740.240224  5890.609636  4045.62405  4116.002701   \n",
       "\n",
       "         kilometer  fueltype     brand  repaired  \n",
       "49287  4266.779495 -1.261004  0.026533  0.555388  \n",
       "50046  4266.779495  0.383409 -0.927431  0.555388  \n",
       "23733  4266.779495  0.200696 -1.276442  0.555388  \n",
       "60898  4266.779495  0.017984  0.026533 -0.171184  \n",
       "57670  4266.779495 -1.078291 -0.299211  0.555388  "
      ]
     },
     "metadata": {},
     "output_type": "display_data"
    }
   ],
   "source": [
    "# посмотрим как отработал\n",
    "\n",
    "display(features_test_alt.sample(5))"
   ]
  },
  {
   "cell_type": "markdown",
   "metadata": {},
   "source": [
    "## Обучение моделей"
   ]
  },
  {
   "cell_type": "markdown",
   "metadata": {},
   "source": [
    "### Catboost"
   ]
  },
  {
   "cell_type": "code",
   "execution_count": 97,
   "metadata": {},
   "outputs": [],
   "source": [
    "# установили CatBoostRegressor\n",
    "from catboost import CatBoostRegressor"
   ]
  },
  {
   "cell_type": "code",
   "execution_count": 98,
   "metadata": {},
   "outputs": [],
   "source": [
    "# содать модель и подобрать гиперпараметры\n",
    "# избежать переобучения:\n",
    "# маленький (но не слишком) размер шага learning_rate - 0.1, 0.2, 0.3, 0.4\n",
    "# маленькая глубина деревьев depth - 2, 3\n",
    "# iterations - 10 - 50\n",
    "\n",
    "model = CatBoostRegressor(cat_features=cat_features, loss_function=\"RMSE\")\n",
    "parametrs = { 'learning_rate': [0.1, 0.2, 0.3],\n",
    "              'iterations': range (10, 101, 10),\n",
    "              'depth': range (2,3) }\n",
    "\n",
    "\n"
   ]
  },
  {
   "cell_type": "code",
   "execution_count": 99,
   "metadata": {},
   "outputs": [],
   "source": [
    "# создан подборщик гиперпараметров\n",
    "r_search = RandomizedSearchCV(model, \n",
    "                              parametrs, \n",
    "                              cv=3, \n",
    "                              scoring='neg_root_mean_squared_error',\n",
    "                              random_state=RANDOM_STATE,\n",
    "                              n_iter=10,\n",
    "                              verbose=1,\n",
    "                              n_jobs=-1)"
   ]
  },
  {
   "cell_type": "code",
   "execution_count": 100,
   "metadata": {},
   "outputs": [
    {
     "name": "stdout",
     "output_type": "stream",
     "text": [
      "Fitting 3 folds for each of 10 candidates, totalling 30 fits\n",
      "0:\tlearn: 2992.5361673\ttotal: 78.4ms\tremaining: 6.98s\n",
      "1:\tlearn: 2681.8494917\ttotal: 108ms\tremaining: 4.75s\n",
      "2:\tlearn: 2489.6136353\ttotal: 136ms\tremaining: 3.94s\n",
      "3:\tlearn: 2315.9329647\ttotal: 157ms\tremaining: 3.38s\n",
      "4:\tlearn: 2213.4933667\ttotal: 178ms\tremaining: 3.02s\n",
      "5:\tlearn: 2129.5158200\ttotal: 197ms\tremaining: 2.76s\n",
      "6:\tlearn: 2053.7056418\ttotal: 218ms\tremaining: 2.58s\n",
      "7:\tlearn: 2002.4622694\ttotal: 242ms\tremaining: 2.48s\n",
      "8:\tlearn: 1954.0217514\ttotal: 264ms\tremaining: 2.37s\n",
      "9:\tlearn: 1892.2534745\ttotal: 286ms\tremaining: 2.29s\n",
      "10:\tlearn: 1852.5855483\ttotal: 307ms\tremaining: 2.2s\n",
      "11:\tlearn: 1822.2893565\ttotal: 326ms\tremaining: 2.12s\n",
      "12:\tlearn: 1798.4967377\ttotal: 347ms\tremaining: 2.06s\n",
      "13:\tlearn: 1759.9442704\ttotal: 369ms\tremaining: 2s\n",
      "14:\tlearn: 1736.4255831\ttotal: 390ms\tremaining: 1.95s\n",
      "15:\tlearn: 1715.1407088\ttotal: 410ms\tremaining: 1.89s\n",
      "16:\tlearn: 1693.8207045\ttotal: 430ms\tremaining: 1.85s\n",
      "17:\tlearn: 1682.7720957\ttotal: 452ms\tremaining: 1.81s\n",
      "18:\tlearn: 1672.1044306\ttotal: 472ms\tremaining: 1.76s\n",
      "19:\tlearn: 1663.4909440\ttotal: 496ms\tremaining: 1.73s\n",
      "20:\tlearn: 1650.9891235\ttotal: 517ms\tremaining: 1.7s\n",
      "21:\tlearn: 1638.9870647\ttotal: 541ms\tremaining: 1.67s\n",
      "22:\tlearn: 1633.5384318\ttotal: 561ms\tremaining: 1.63s\n",
      "23:\tlearn: 1626.7569331\ttotal: 582ms\tremaining: 1.6s\n",
      "24:\tlearn: 1620.7631384\ttotal: 603ms\tremaining: 1.57s\n",
      "25:\tlearn: 1615.5970983\ttotal: 624ms\tremaining: 1.53s\n",
      "26:\tlearn: 1611.9331280\ttotal: 645ms\tremaining: 1.5s\n",
      "27:\tlearn: 1604.9693680\ttotal: 666ms\tremaining: 1.48s\n",
      "28:\tlearn: 1600.3955590\ttotal: 687ms\tremaining: 1.45s\n",
      "29:\tlearn: 1597.5582639\ttotal: 708ms\tremaining: 1.42s\n",
      "30:\tlearn: 1591.3933398\ttotal: 730ms\tremaining: 1.39s\n",
      "31:\tlearn: 1588.3136356\ttotal: 750ms\tremaining: 1.36s\n",
      "32:\tlearn: 1585.0892344\ttotal: 771ms\tremaining: 1.33s\n",
      "33:\tlearn: 1582.4543609\ttotal: 791ms\tremaining: 1.3s\n",
      "34:\tlearn: 1579.5621615\ttotal: 811ms\tremaining: 1.27s\n",
      "35:\tlearn: 1575.2694750\ttotal: 831ms\tremaining: 1.25s\n",
      "36:\tlearn: 1573.1931302\ttotal: 852ms\tremaining: 1.22s\n",
      "37:\tlearn: 1571.1355113\ttotal: 874ms\tremaining: 1.2s\n",
      "38:\tlearn: 1563.9831452\ttotal: 894ms\tremaining: 1.17s\n",
      "39:\tlearn: 1560.2029977\ttotal: 915ms\tremaining: 1.14s\n",
      "40:\tlearn: 1553.1976423\ttotal: 936ms\tremaining: 1.12s\n",
      "41:\tlearn: 1549.4650139\ttotal: 957ms\tremaining: 1.09s\n",
      "42:\tlearn: 1546.6275143\ttotal: 977ms\tremaining: 1.07s\n",
      "43:\tlearn: 1544.5994488\ttotal: 996ms\tremaining: 1.04s\n",
      "44:\tlearn: 1541.3620946\ttotal: 1.02s\tremaining: 1.02s\n",
      "45:\tlearn: 1539.1894536\ttotal: 1.04s\tremaining: 992ms\n",
      "46:\tlearn: 1537.8603943\ttotal: 1.06s\tremaining: 967ms\n",
      "47:\tlearn: 1534.0428508\ttotal: 1.08s\tremaining: 943ms\n",
      "48:\tlearn: 1531.6131661\ttotal: 1.1s\tremaining: 918ms\n",
      "49:\tlearn: 1530.4556847\ttotal: 1.12s\tremaining: 895ms\n",
      "50:\tlearn: 1527.5692884\ttotal: 1.14s\tremaining: 871ms\n",
      "51:\tlearn: 1525.8292663\ttotal: 1.16s\tremaining: 847ms\n",
      "52:\tlearn: 1523.8980973\ttotal: 1.18s\tremaining: 822ms\n",
      "53:\tlearn: 1522.5831630\ttotal: 1.2s\tremaining: 798ms\n",
      "54:\tlearn: 1521.9667106\ttotal: 1.22s\tremaining: 776ms\n",
      "55:\tlearn: 1518.6368726\ttotal: 1.24s\tremaining: 752ms\n",
      "56:\tlearn: 1516.9159442\ttotal: 1.26s\tremaining: 728ms\n",
      "57:\tlearn: 1514.6605942\ttotal: 1.28s\tremaining: 705ms\n",
      "58:\tlearn: 1512.3741897\ttotal: 1.3s\tremaining: 682ms\n",
      "59:\tlearn: 1510.7593711\ttotal: 1.32s\tremaining: 660ms\n",
      "60:\tlearn: 1508.8223996\ttotal: 1.34s\tremaining: 638ms\n",
      "61:\tlearn: 1508.2371906\ttotal: 1.36s\tremaining: 616ms\n",
      "62:\tlearn: 1505.0525693\ttotal: 1.38s\tremaining: 593ms\n",
      "63:\tlearn: 1503.3489364\ttotal: 1.41s\tremaining: 571ms\n",
      "64:\tlearn: 1502.4894347\ttotal: 1.43s\tremaining: 549ms\n",
      "65:\tlearn: 1500.7245755\ttotal: 1.45s\tremaining: 526ms\n",
      "66:\tlearn: 1498.9920267\ttotal: 1.47s\tremaining: 503ms\n",
      "67:\tlearn: 1496.5717936\ttotal: 1.49s\tremaining: 483ms\n",
      "68:\tlearn: 1494.8532720\ttotal: 1.51s\tremaining: 460ms\n",
      "69:\tlearn: 1492.7291457\ttotal: 1.53s\tremaining: 438ms\n",
      "70:\tlearn: 1491.9965786\ttotal: 1.55s\tremaining: 415ms\n",
      "71:\tlearn: 1489.4245620\ttotal: 1.57s\tremaining: 393ms\n",
      "72:\tlearn: 1488.2627737\ttotal: 1.59s\tremaining: 372ms\n",
      "73:\tlearn: 1486.5590172\ttotal: 1.61s\tremaining: 349ms\n",
      "74:\tlearn: 1485.2112137\ttotal: 1.64s\tremaining: 327ms\n",
      "75:\tlearn: 1484.1445907\ttotal: 1.66s\tremaining: 305ms\n",
      "76:\tlearn: 1481.9448948\ttotal: 1.68s\tremaining: 283ms\n",
      "77:\tlearn: 1481.4434978\ttotal: 1.7s\tremaining: 261ms\n",
      "78:\tlearn: 1480.4688095\ttotal: 1.72s\tremaining: 239ms\n",
      "79:\tlearn: 1479.2711087\ttotal: 1.74s\tremaining: 217ms\n",
      "80:\tlearn: 1478.9363781\ttotal: 1.76s\tremaining: 195ms\n",
      "81:\tlearn: 1478.3251325\ttotal: 1.78s\tremaining: 174ms\n",
      "82:\tlearn: 1477.0177877\ttotal: 1.8s\tremaining: 152ms\n",
      "83:\tlearn: 1476.5405140\ttotal: 1.82s\tremaining: 130ms\n",
      "84:\tlearn: 1475.8340566\ttotal: 1.84s\tremaining: 109ms\n",
      "85:\tlearn: 1474.8623687\ttotal: 1.86s\tremaining: 86.7ms\n",
      "86:\tlearn: 1473.5519980\ttotal: 1.88s\tremaining: 64.9ms\n",
      "87:\tlearn: 1471.9260646\ttotal: 1.9s\tremaining: 43.2ms\n",
      "88:\tlearn: 1471.0710369\ttotal: 1.92s\tremaining: 21.6ms\n",
      "89:\tlearn: 1469.8112974\ttotal: 1.94s\tremaining: 0us\n",
      "0:\tlearn: 2994.2985479\ttotal: 40ms\tremaining: 3.56s\n",
      "1:\tlearn: 2683.8123013\ttotal: 71.1ms\tremaining: 3.13s\n",
      "2:\tlearn: 2479.9187916\ttotal: 91.5ms\tremaining: 2.65s\n",
      "3:\tlearn: 2344.1558469\ttotal: 114ms\tremaining: 2.45s\n",
      "4:\tlearn: 2232.1001071\ttotal: 140ms\tremaining: 2.38s\n",
      "5:\tlearn: 2150.1295375\ttotal: 162ms\tremaining: 2.27s\n",
      "6:\tlearn: 2077.9832292\ttotal: 186ms\tremaining: 2.21s\n",
      "7:\tlearn: 2025.9775798\ttotal: 214ms\tremaining: 2.19s\n",
      "8:\tlearn: 1970.3826701\ttotal: 236ms\tremaining: 2.13s\n",
      "9:\tlearn: 1931.3270426\ttotal: 257ms\tremaining: 2.06s\n",
      "10:\tlearn: 1893.4935321\ttotal: 279ms\tremaining: 2s\n",
      "11:\tlearn: 1840.2198299\ttotal: 301ms\tremaining: 1.96s\n",
      "12:\tlearn: 1808.3909658\ttotal: 322ms\tremaining: 1.9s\n",
      "13:\tlearn: 1780.9515575\ttotal: 346ms\tremaining: 1.88s\n",
      "14:\tlearn: 1758.7105534\ttotal: 367ms\tremaining: 1.84s\n",
      "15:\tlearn: 1742.4109199\ttotal: 388ms\tremaining: 1.79s\n",
      "16:\tlearn: 1718.2584476\ttotal: 410ms\tremaining: 1.76s\n",
      "17:\tlearn: 1702.1130635\ttotal: 431ms\tremaining: 1.72s\n",
      "18:\tlearn: 1690.5986090\ttotal: 451ms\tremaining: 1.69s\n",
      "19:\tlearn: 1678.0224220\ttotal: 473ms\tremaining: 1.66s\n",
      "20:\tlearn: 1669.8755458\ttotal: 493ms\tremaining: 1.62s\n",
      "21:\tlearn: 1662.0621829\ttotal: 513ms\tremaining: 1.58s\n",
      "22:\tlearn: 1656.3229988\ttotal: 533ms\tremaining: 1.55s\n",
      "23:\tlearn: 1642.9573036\ttotal: 554ms\tremaining: 1.52s\n",
      "24:\tlearn: 1636.6255859\ttotal: 576ms\tremaining: 1.5s\n",
      "25:\tlearn: 1630.1858358\ttotal: 597ms\tremaining: 1.47s\n",
      "26:\tlearn: 1627.4628453\ttotal: 618ms\tremaining: 1.44s\n",
      "27:\tlearn: 1623.3903360\ttotal: 640ms\tremaining: 1.42s\n",
      "28:\tlearn: 1619.5668272\ttotal: 661ms\tremaining: 1.39s\n",
      "29:\tlearn: 1615.3978948\ttotal: 683ms\tremaining: 1.37s\n",
      "30:\tlearn: 1612.3707288\ttotal: 709ms\tremaining: 1.35s\n",
      "31:\tlearn: 1610.0649489\ttotal: 734ms\tremaining: 1.33s\n",
      "32:\tlearn: 1606.4005648\ttotal: 756ms\tremaining: 1.3s\n",
      "33:\tlearn: 1600.5833435\ttotal: 776ms\tremaining: 1.28s\n",
      "34:\tlearn: 1593.4971112\ttotal: 797ms\tremaining: 1.25s\n",
      "35:\tlearn: 1592.0536788\ttotal: 818ms\tremaining: 1.23s\n",
      "36:\tlearn: 1588.7094130\ttotal: 837ms\tremaining: 1.2s\n",
      "37:\tlearn: 1585.3265097\ttotal: 857ms\tremaining: 1.17s\n",
      "38:\tlearn: 1583.1682309\ttotal: 878ms\tremaining: 1.15s\n",
      "39:\tlearn: 1579.0060910\ttotal: 900ms\tremaining: 1.12s\n",
      "40:\tlearn: 1577.6910581\ttotal: 923ms\tremaining: 1.1s\n",
      "41:\tlearn: 1574.4591497\ttotal: 947ms\tremaining: 1.08s\n",
      "42:\tlearn: 1568.7969417\ttotal: 967ms\tremaining: 1.06s\n",
      "43:\tlearn: 1564.7378387\ttotal: 988ms\tremaining: 1.03s\n",
      "44:\tlearn: 1562.7526309\ttotal: 1.01s\tremaining: 1.01s\n",
      "45:\tlearn: 1558.1098757\ttotal: 1.03s\tremaining: 987ms\n",
      "46:\tlearn: 1556.8042246\ttotal: 1.05s\tremaining: 964ms\n",
      "47:\tlearn: 1551.6951373\ttotal: 1.07s\tremaining: 941ms\n",
      "48:\tlearn: 1549.5409066\ttotal: 1.1s\tremaining: 918ms\n",
      "49:\tlearn: 1547.9989810\ttotal: 1.12s\tremaining: 895ms\n",
      "50:\tlearn: 1546.0792252\ttotal: 1.14s\tremaining: 872ms\n",
      "51:\tlearn: 1544.5815167\ttotal: 1.16s\tremaining: 848ms\n",
      "52:\tlearn: 1543.1899594\ttotal: 1.18s\tremaining: 824ms\n",
      "53:\tlearn: 1542.2937787\ttotal: 1.2s\tremaining: 801ms\n",
      "54:\tlearn: 1541.2982998\ttotal: 1.22s\tremaining: 777ms\n",
      "55:\tlearn: 1538.7537878\ttotal: 1.24s\tremaining: 754ms\n",
      "56:\tlearn: 1536.9034794\ttotal: 1.26s\tremaining: 732ms\n",
      "57:\tlearn: 1535.3795963\ttotal: 1.28s\tremaining: 709ms\n",
      "58:\tlearn: 1532.4469723\ttotal: 1.3s\tremaining: 686ms\n",
      "59:\tlearn: 1530.9404520\ttotal: 1.32s\tremaining: 663ms\n",
      "60:\tlearn: 1529.5201089\ttotal: 1.35s\tremaining: 640ms\n",
      "61:\tlearn: 1528.1911589\ttotal: 1.37s\tremaining: 617ms\n",
      "62:\tlearn: 1525.6938387\ttotal: 1.39s\tremaining: 594ms\n",
      "63:\tlearn: 1524.7200864\ttotal: 1.41s\tremaining: 571ms\n",
      "64:\tlearn: 1523.2518456\ttotal: 1.43s\tremaining: 549ms\n",
      "65:\tlearn: 1522.5074221\ttotal: 1.45s\tremaining: 526ms\n",
      "66:\tlearn: 1521.9997063\ttotal: 1.47s\tremaining: 504ms\n",
      "67:\tlearn: 1520.8825469\ttotal: 1.49s\tremaining: 483ms\n",
      "68:\tlearn: 1518.6285835\ttotal: 1.51s\tremaining: 460ms\n",
      "69:\tlearn: 1517.7865544\ttotal: 1.53s\tremaining: 438ms\n",
      "70:\tlearn: 1517.1127840\ttotal: 1.55s\tremaining: 416ms\n",
      "71:\tlearn: 1513.9099029\ttotal: 1.57s\tremaining: 393ms\n",
      "72:\tlearn: 1511.3492908\ttotal: 1.59s\tremaining: 371ms\n",
      "73:\tlearn: 1510.6782399\ttotal: 1.61s\tremaining: 349ms\n",
      "74:\tlearn: 1509.5747511\ttotal: 1.64s\tremaining: 328ms\n",
      "75:\tlearn: 1506.8428885\ttotal: 1.67s\tremaining: 308ms\n",
      "76:\tlearn: 1505.3274798\ttotal: 1.7s\tremaining: 287ms\n",
      "77:\tlearn: 1504.2690920\ttotal: 1.73s\tremaining: 266ms\n",
      "78:\tlearn: 1503.5700212\ttotal: 1.75s\tremaining: 244ms\n",
      "79:\tlearn: 1502.7997150\ttotal: 1.78s\tremaining: 222ms\n",
      "80:\tlearn: 1501.8298720\ttotal: 1.8s\tremaining: 200ms\n",
      "81:\tlearn: 1501.6220600\ttotal: 1.82s\tremaining: 178ms\n",
      "82:\tlearn: 1500.9963996\ttotal: 1.85s\tremaining: 156ms\n",
      "83:\tlearn: 1500.5953245\ttotal: 1.87s\tremaining: 133ms\n",
      "84:\tlearn: 1499.3923992\ttotal: 1.89s\tremaining: 111ms\n",
      "85:\tlearn: 1497.8281561\ttotal: 1.91s\tremaining: 88.9ms\n",
      "86:\tlearn: 1497.1258095\ttotal: 1.93s\tremaining: 66.6ms\n",
      "87:\tlearn: 1495.4600162\ttotal: 1.95s\tremaining: 44.4ms\n",
      "88:\tlearn: 1494.6145992\ttotal: 1.97s\tremaining: 22.2ms\n",
      "89:\tlearn: 1494.4792360\ttotal: 1.99s\tremaining: 0us\n",
      "0:\tlearn: 2991.9245767\ttotal: 31.9ms\tremaining: 2.84s\n",
      "1:\tlearn: 2681.3590963\ttotal: 58.3ms\tremaining: 2.56s\n",
      "2:\tlearn: 2480.2731740\ttotal: 79.8ms\tremaining: 2.31s\n",
      "3:\tlearn: 2344.7899805\ttotal: 100ms\tremaining: 2.16s\n",
      "4:\tlearn: 2232.5616001\ttotal: 121ms\tremaining: 2.05s\n",
      "5:\tlearn: 2152.6126651\ttotal: 142ms\tremaining: 1.98s\n",
      "6:\tlearn: 2078.0362985\ttotal: 165ms\tremaining: 1.96s\n",
      "7:\tlearn: 2029.0655666\ttotal: 192ms\tremaining: 1.97s\n",
      "8:\tlearn: 1974.6779805\ttotal: 212ms\tremaining: 1.91s\n",
      "9:\tlearn: 1933.0407740\ttotal: 232ms\tremaining: 1.85s\n",
      "10:\tlearn: 1894.8333078\ttotal: 254ms\tremaining: 1.82s\n",
      "11:\tlearn: 1841.3345529\ttotal: 278ms\tremaining: 1.81s\n",
      "12:\tlearn: 1818.3088228\ttotal: 300ms\tremaining: 1.77s\n",
      "13:\tlearn: 1787.8732006\ttotal: 323ms\tremaining: 1.75s\n",
      "14:\tlearn: 1764.5633394\ttotal: 346ms\tremaining: 1.73s\n",
      "15:\tlearn: 1750.4238422\ttotal: 367ms\tremaining: 1.7s\n",
      "16:\tlearn: 1727.9520369\ttotal: 388ms\tremaining: 1.67s\n",
      "17:\tlearn: 1715.2066749\ttotal: 410ms\tremaining: 1.64s\n",
      "18:\tlearn: 1697.5118350\ttotal: 434ms\tremaining: 1.62s\n",
      "19:\tlearn: 1683.4263029\ttotal: 458ms\tremaining: 1.6s\n",
      "20:\tlearn: 1674.8223840\ttotal: 479ms\tremaining: 1.57s\n",
      "21:\tlearn: 1666.5653687\ttotal: 503ms\tremaining: 1.55s\n",
      "22:\tlearn: 1656.9884479\ttotal: 529ms\tremaining: 1.54s\n",
      "23:\tlearn: 1649.2784898\ttotal: 552ms\tremaining: 1.52s\n",
      "24:\tlearn: 1644.8353653\ttotal: 575ms\tremaining: 1.5s\n",
      "25:\tlearn: 1641.4569976\ttotal: 595ms\tremaining: 1.47s\n",
      "26:\tlearn: 1636.8183474\ttotal: 615ms\tremaining: 1.44s\n",
      "27:\tlearn: 1630.4244862\ttotal: 635ms\tremaining: 1.41s\n",
      "28:\tlearn: 1626.2428955\ttotal: 655ms\tremaining: 1.38s\n",
      "29:\tlearn: 1620.9654783\ttotal: 676ms\tremaining: 1.35s\n",
      "30:\tlearn: 1618.0245567\ttotal: 698ms\tremaining: 1.33s\n",
      "31:\tlearn: 1616.4073372\ttotal: 720ms\tremaining: 1.3s\n",
      "32:\tlearn: 1614.1050382\ttotal: 742ms\tremaining: 1.28s\n",
      "33:\tlearn: 1609.8919129\ttotal: 766ms\tremaining: 1.26s\n",
      "34:\tlearn: 1608.1181066\ttotal: 787ms\tremaining: 1.24s\n",
      "35:\tlearn: 1606.1358373\ttotal: 809ms\tremaining: 1.21s\n",
      "36:\tlearn: 1603.6434335\ttotal: 829ms\tremaining: 1.19s\n",
      "37:\tlearn: 1599.9864487\ttotal: 851ms\tremaining: 1.16s\n",
      "38:\tlearn: 1597.7954734\ttotal: 874ms\tremaining: 1.14s\n",
      "39:\tlearn: 1589.8595711\ttotal: 898ms\tremaining: 1.12s\n",
      "40:\tlearn: 1585.9512832\ttotal: 923ms\tremaining: 1.1s\n",
      "41:\tlearn: 1582.1235330\ttotal: 946ms\tremaining: 1.08s\n",
      "42:\tlearn: 1577.8367028\ttotal: 970ms\tremaining: 1.06s\n",
      "43:\tlearn: 1575.0672631\ttotal: 994ms\tremaining: 1.04s\n",
      "44:\tlearn: 1568.9082493\ttotal: 1.01s\tremaining: 1.01s\n",
      "45:\tlearn: 1563.6045414\ttotal: 1.04s\tremaining: 991ms\n",
      "46:\tlearn: 1560.8019955\ttotal: 1.06s\tremaining: 968ms\n",
      "47:\tlearn: 1558.6151480\ttotal: 1.08s\tremaining: 944ms\n",
      "48:\tlearn: 1556.5607514\ttotal: 1.1s\tremaining: 920ms\n",
      "49:\tlearn: 1555.3578964\ttotal: 1.12s\tremaining: 899ms\n",
      "50:\tlearn: 1553.8677512\ttotal: 1.15s\tremaining: 876ms\n",
      "51:\tlearn: 1550.9222586\ttotal: 1.17s\tremaining: 853ms\n",
      "52:\tlearn: 1549.1983924\ttotal: 1.19s\tremaining: 831ms\n",
      "53:\tlearn: 1547.8249555\ttotal: 1.21s\tremaining: 808ms\n",
      "54:\tlearn: 1546.1725576\ttotal: 1.23s\tremaining: 786ms\n",
      "55:\tlearn: 1543.6451585\ttotal: 1.25s\tremaining: 763ms\n",
      "56:\tlearn: 1540.8410833\ttotal: 1.28s\tremaining: 739ms\n",
      "57:\tlearn: 1539.6419801\ttotal: 1.3s\tremaining: 716ms\n",
      "58:\tlearn: 1536.9142025\ttotal: 1.32s\tremaining: 693ms\n",
      "59:\tlearn: 1535.1842940\ttotal: 1.34s\tremaining: 670ms\n",
      "60:\tlearn: 1534.1282963\ttotal: 1.36s\tremaining: 647ms\n",
      "61:\tlearn: 1533.1220245\ttotal: 1.38s\tremaining: 625ms\n",
      "62:\tlearn: 1530.5722160\ttotal: 1.4s\tremaining: 602ms\n",
      "63:\tlearn: 1528.1674010\ttotal: 1.42s\tremaining: 579ms\n",
      "64:\tlearn: 1524.5905307\ttotal: 1.45s\tremaining: 557ms\n",
      "65:\tlearn: 1523.1999243\ttotal: 1.47s\tremaining: 534ms\n",
      "66:\tlearn: 1521.5440052\ttotal: 1.49s\tremaining: 511ms\n",
      "67:\tlearn: 1520.0418713\ttotal: 1.51s\tremaining: 488ms\n",
      "68:\tlearn: 1518.8566919\ttotal: 1.53s\tremaining: 465ms\n",
      "69:\tlearn: 1517.6771632\ttotal: 1.55s\tremaining: 442ms\n",
      "70:\tlearn: 1515.8515975\ttotal: 1.57s\tremaining: 419ms\n",
      "71:\tlearn: 1512.9936763\ttotal: 1.59s\tremaining: 397ms\n",
      "72:\tlearn: 1510.6937825\ttotal: 1.61s\tremaining: 374ms\n",
      "73:\tlearn: 1510.3066403\ttotal: 1.63s\tremaining: 352ms\n",
      "74:\tlearn: 1508.9146108\ttotal: 1.65s\tremaining: 330ms\n",
      "75:\tlearn: 1507.7827414\ttotal: 1.67s\tremaining: 308ms\n",
      "76:\tlearn: 1507.0265553\ttotal: 1.69s\tremaining: 285ms\n",
      "77:\tlearn: 1505.4980064\ttotal: 1.71s\tremaining: 263ms\n",
      "78:\tlearn: 1504.5302788\ttotal: 1.74s\tremaining: 242ms\n",
      "79:\tlearn: 1502.4879781\ttotal: 1.76s\tremaining: 220ms\n",
      "80:\tlearn: 1501.3990569\ttotal: 1.78s\tremaining: 198ms\n",
      "81:\tlearn: 1499.7813886\ttotal: 1.8s\tremaining: 175ms\n",
      "82:\tlearn: 1498.7579869\ttotal: 1.82s\tremaining: 153ms\n",
      "83:\tlearn: 1497.6241648\ttotal: 1.84s\tremaining: 131ms\n",
      "84:\tlearn: 1496.5870782\ttotal: 1.86s\tremaining: 109ms\n",
      "85:\tlearn: 1495.9654911\ttotal: 1.88s\tremaining: 87.4ms\n",
      "86:\tlearn: 1495.5194205\ttotal: 1.9s\tremaining: 65.6ms\n",
      "87:\tlearn: 1493.7954841\ttotal: 1.93s\tremaining: 43.8ms\n",
      "88:\tlearn: 1492.8843193\ttotal: 1.95s\tremaining: 21.9ms\n",
      "89:\tlearn: 1491.7674443\ttotal: 1.98s\tremaining: 0us\n",
      "0:\tlearn: 3294.6622127\ttotal: 27ms\tremaining: 1.32s\n",
      "1:\tlearn: 3145.6043925\ttotal: 53.6ms\tremaining: 1.28s\n",
      "2:\tlearn: 3019.2869870\ttotal: 78.5ms\tremaining: 1.23s\n",
      "3:\tlearn: 2906.4649425\ttotal: 98.8ms\tremaining: 1.14s\n",
      "4:\tlearn: 2810.9607603\ttotal: 121ms\tremaining: 1.08s\n",
      "5:\tlearn: 2723.5111701\ttotal: 142ms\tremaining: 1.04s\n",
      "6:\tlearn: 2650.1384870\ttotal: 161ms\tremaining: 992ms\n",
      "7:\tlearn: 2580.3233804\ttotal: 182ms\tremaining: 956ms\n",
      "8:\tlearn: 2520.1176304\ttotal: 202ms\tremaining: 920ms\n",
      "9:\tlearn: 2462.5507213\ttotal: 222ms\tremaining: 888ms\n",
      "10:\tlearn: 2415.4270424\ttotal: 243ms\tremaining: 861ms\n",
      "11:\tlearn: 2365.4809703\ttotal: 264ms\tremaining: 835ms\n",
      "12:\tlearn: 2327.6858693\ttotal: 285ms\tremaining: 811ms\n",
      "13:\tlearn: 2287.9047779\ttotal: 305ms\tremaining: 785ms\n",
      "14:\tlearn: 2252.3947625\ttotal: 326ms\tremaining: 760ms\n",
      "15:\tlearn: 2216.7461906\ttotal: 347ms\tremaining: 738ms\n",
      "16:\tlearn: 2186.7514920\ttotal: 369ms\tremaining: 715ms\n",
      "17:\tlearn: 2154.8871111\ttotal: 390ms\tremaining: 693ms\n",
      "18:\tlearn: 2127.8490352\ttotal: 410ms\tremaining: 669ms\n",
      "19:\tlearn: 2099.1643272\ttotal: 435ms\tremaining: 653ms\n",
      "20:\tlearn: 2075.8222314\ttotal: 457ms\tremaining: 631ms\n",
      "21:\tlearn: 2053.9477831\ttotal: 479ms\tremaining: 609ms\n",
      "22:\tlearn: 2032.6838124\ttotal: 499ms\tremaining: 585ms\n",
      "23:\tlearn: 2014.7835451\ttotal: 519ms\tremaining: 563ms\n",
      "24:\tlearn: 1995.6513971\ttotal: 539ms\tremaining: 539ms\n",
      "25:\tlearn: 1976.2972438\ttotal: 559ms\tremaining: 516ms\n",
      "26:\tlearn: 1960.4562407\ttotal: 579ms\tremaining: 494ms\n",
      "27:\tlearn: 1945.0044049\ttotal: 601ms\tremaining: 473ms\n",
      "28:\tlearn: 1930.6032950\ttotal: 621ms\tremaining: 450ms\n",
      "29:\tlearn: 1912.6082598\ttotal: 643ms\tremaining: 429ms\n",
      "30:\tlearn: 1896.2881391\ttotal: 663ms\tremaining: 406ms\n",
      "31:\tlearn: 1881.9573867\ttotal: 683ms\tremaining: 384ms\n",
      "32:\tlearn: 1868.2160318\ttotal: 703ms\tremaining: 362ms\n",
      "33:\tlearn: 1855.9543232\ttotal: 724ms\tremaining: 341ms\n",
      "34:\tlearn: 1845.6082809\ttotal: 744ms\tremaining: 319ms\n",
      "35:\tlearn: 1829.3661357\ttotal: 769ms\tremaining: 299ms\n",
      "36:\tlearn: 1820.7852135\ttotal: 788ms\tremaining: 277ms\n",
      "37:\tlearn: 1812.3011915\ttotal: 809ms\tremaining: 255ms\n",
      "38:\tlearn: 1799.9567019\ttotal: 831ms\tremaining: 234ms\n",
      "39:\tlearn: 1786.5877226\ttotal: 855ms\tremaining: 214ms\n",
      "40:\tlearn: 1775.8720861\ttotal: 877ms\tremaining: 192ms\n",
      "41:\tlearn: 1767.9661902\ttotal: 898ms\tremaining: 171ms\n",
      "42:\tlearn: 1760.6579339\ttotal: 917ms\tremaining: 149ms\n",
      "43:\tlearn: 1754.1016309\ttotal: 937ms\tremaining: 128ms\n",
      "44:\tlearn: 1742.9656967\ttotal: 959ms\tremaining: 107ms\n",
      "45:\tlearn: 1736.6638457\ttotal: 981ms\tremaining: 85.3ms\n",
      "46:\tlearn: 1730.8591126\ttotal: 1s\tremaining: 63.9ms\n",
      "47:\tlearn: 1723.2464934\ttotal: 1.02s\tremaining: 42.5ms\n",
      "48:\tlearn: 1717.6254718\ttotal: 1.04s\tremaining: 21.2ms\n",
      "49:\tlearn: 1713.0004113\ttotal: 1.06s\tremaining: 0us\n",
      "0:\tlearn: 3298.2951263\ttotal: 25.8ms\tremaining: 1.26s\n",
      "1:\tlearn: 3151.1713806\ttotal: 51.7ms\tremaining: 1.24s\n",
      "2:\tlearn: 3024.8717901\ttotal: 74.3ms\tremaining: 1.16s\n",
      "3:\tlearn: 2913.3306264\ttotal: 94.8ms\tremaining: 1.09s\n",
      "4:\tlearn: 2814.5777950\ttotal: 116ms\tremaining: 1.04s\n",
      "5:\tlearn: 2727.4379448\ttotal: 136ms\tremaining: 1s\n",
      "6:\tlearn: 2653.9535912\ttotal: 158ms\tremaining: 969ms\n",
      "7:\tlearn: 2589.2905271\ttotal: 184ms\tremaining: 966ms\n",
      "8:\tlearn: 2524.1951483\ttotal: 204ms\tremaining: 931ms\n",
      "9:\tlearn: 2465.9112601\ttotal: 226ms\tremaining: 905ms\n",
      "10:\tlearn: 2418.1247975\ttotal: 247ms\tremaining: 874ms\n",
      "11:\tlearn: 2369.6959671\ttotal: 267ms\tremaining: 847ms\n",
      "12:\tlearn: 2332.0916177\ttotal: 288ms\tremaining: 819ms\n",
      "13:\tlearn: 2296.9818051\ttotal: 312ms\tremaining: 802ms\n",
      "14:\tlearn: 2261.3794366\ttotal: 334ms\tremaining: 780ms\n",
      "15:\tlearn: 2226.8274354\ttotal: 356ms\tremaining: 756ms\n",
      "16:\tlearn: 2195.4580433\ttotal: 377ms\tremaining: 731ms\n",
      "17:\tlearn: 2165.7900456\ttotal: 397ms\tremaining: 706ms\n",
      "18:\tlearn: 2138.4270712\ttotal: 417ms\tremaining: 681ms\n",
      "19:\tlearn: 2114.5210536\ttotal: 437ms\tremaining: 656ms\n",
      "20:\tlearn: 2091.0116309\ttotal: 458ms\tremaining: 632ms\n",
      "21:\tlearn: 2069.8682034\ttotal: 478ms\tremaining: 609ms\n",
      "22:\tlearn: 2044.8598211\ttotal: 498ms\tremaining: 585ms\n",
      "23:\tlearn: 2026.1898713\ttotal: 521ms\tremaining: 564ms\n",
      "24:\tlearn: 2007.8422654\ttotal: 543ms\tremaining: 543ms\n",
      "25:\tlearn: 1987.8215351\ttotal: 564ms\tremaining: 521ms\n",
      "26:\tlearn: 1971.8548336\ttotal: 585ms\tremaining: 498ms\n",
      "27:\tlearn: 1956.3313121\ttotal: 604ms\tremaining: 474ms\n",
      "28:\tlearn: 1941.4680397\ttotal: 624ms\tremaining: 452ms\n",
      "29:\tlearn: 1922.0035615\ttotal: 648ms\tremaining: 432ms\n",
      "30:\tlearn: 1905.8607973\ttotal: 669ms\tremaining: 410ms\n",
      "31:\tlearn: 1892.0660556\ttotal: 689ms\tremaining: 388ms\n",
      "32:\tlearn: 1878.8100283\ttotal: 709ms\tremaining: 365ms\n",
      "33:\tlearn: 1866.5892187\ttotal: 729ms\tremaining: 343ms\n",
      "34:\tlearn: 1856.3227260\ttotal: 749ms\tremaining: 321ms\n",
      "35:\tlearn: 1846.0532019\ttotal: 773ms\tremaining: 301ms\n",
      "36:\tlearn: 1836.6327003\ttotal: 797ms\tremaining: 280ms\n",
      "37:\tlearn: 1827.4635708\ttotal: 820ms\tremaining: 259ms\n",
      "38:\tlearn: 1814.7160078\ttotal: 842ms\tremaining: 237ms\n",
      "39:\tlearn: 1804.9434625\ttotal: 864ms\tremaining: 216ms\n",
      "40:\tlearn: 1796.9927012\ttotal: 889ms\tremaining: 195ms\n",
      "41:\tlearn: 1787.4461860\ttotal: 909ms\tremaining: 173ms\n",
      "42:\tlearn: 1774.3911126\ttotal: 931ms\tremaining: 151ms\n",
      "43:\tlearn: 1767.2673263\ttotal: 951ms\tremaining: 130ms\n",
      "44:\tlearn: 1760.7551332\ttotal: 973ms\tremaining: 108ms\n",
      "45:\tlearn: 1750.0980058\ttotal: 998ms\tremaining: 86.8ms\n",
      "46:\tlearn: 1743.8961216\ttotal: 1.02s\tremaining: 65.1ms\n",
      "47:\tlearn: 1737.9591199\ttotal: 1.04s\tremaining: 43.4ms\n",
      "48:\tlearn: 1729.6498054\ttotal: 1.06s\tremaining: 21.7ms\n",
      "49:\tlearn: 1724.2711671\ttotal: 1.09s\tremaining: 0us\n",
      "0:\tlearn: 3293.6372831\ttotal: 27.1ms\tremaining: 1.33s\n",
      "1:\tlearn: 3147.2876261\ttotal: 53.5ms\tremaining: 1.28s\n",
      "2:\tlearn: 3021.4632436\ttotal: 75.1ms\tremaining: 1.18s\n",
      "3:\tlearn: 2911.7334345\ttotal: 97.3ms\tremaining: 1.12s\n",
      "4:\tlearn: 2812.7613801\ttotal: 120ms\tremaining: 1.08s\n",
      "5:\tlearn: 2730.2738337\ttotal: 142ms\tremaining: 1.04s\n",
      "6:\tlearn: 2651.4967073\ttotal: 165ms\tremaining: 1.01s\n",
      "7:\tlearn: 2588.3919108\ttotal: 193ms\tremaining: 1.01s\n",
      "8:\tlearn: 2523.9206409\ttotal: 214ms\tremaining: 973ms\n",
      "9:\tlearn: 2466.3394158\ttotal: 237ms\tremaining: 950ms\n",
      "10:\tlearn: 2417.2611766\ttotal: 260ms\tremaining: 922ms\n",
      "11:\tlearn: 2370.7536932\ttotal: 283ms\tremaining: 896ms\n",
      "12:\tlearn: 2333.6116768\ttotal: 306ms\tremaining: 870ms\n",
      "13:\tlearn: 2294.3641574\ttotal: 327ms\tremaining: 842ms\n",
      "14:\tlearn: 2256.7361913\ttotal: 350ms\tremaining: 816ms\n",
      "15:\tlearn: 2221.4909152\ttotal: 370ms\tremaining: 786ms\n",
      "16:\tlearn: 2189.4190645\ttotal: 390ms\tremaining: 758ms\n",
      "17:\tlearn: 2160.2211118\ttotal: 411ms\tremaining: 731ms\n",
      "18:\tlearn: 2131.4725678\ttotal: 433ms\tremaining: 706ms\n",
      "19:\tlearn: 2103.6377892\ttotal: 454ms\tremaining: 682ms\n",
      "20:\tlearn: 2080.3361494\ttotal: 475ms\tremaining: 656ms\n",
      "21:\tlearn: 2057.5068402\ttotal: 496ms\tremaining: 631ms\n",
      "22:\tlearn: 2037.6861600\ttotal: 519ms\tremaining: 609ms\n",
      "23:\tlearn: 2019.3070436\ttotal: 540ms\tremaining: 585ms\n",
      "24:\tlearn: 2000.5413645\ttotal: 559ms\tremaining: 559ms\n",
      "25:\tlearn: 1982.6764574\ttotal: 580ms\tremaining: 536ms\n",
      "26:\tlearn: 1966.6198227\ttotal: 601ms\tremaining: 512ms\n",
      "27:\tlearn: 1946.9218791\ttotal: 621ms\tremaining: 488ms\n",
      "28:\tlearn: 1931.6436059\ttotal: 641ms\tremaining: 464ms\n",
      "29:\tlearn: 1917.6208735\ttotal: 662ms\tremaining: 442ms\n",
      "30:\tlearn: 1899.8154874\ttotal: 688ms\tremaining: 422ms\n",
      "31:\tlearn: 1885.1873710\ttotal: 712ms\tremaining: 401ms\n",
      "32:\tlearn: 1871.8707349\ttotal: 733ms\tremaining: 378ms\n",
      "33:\tlearn: 1860.0598626\ttotal: 753ms\tremaining: 354ms\n",
      "34:\tlearn: 1848.5133483\ttotal: 773ms\tremaining: 331ms\n",
      "35:\tlearn: 1838.7634718\ttotal: 793ms\tremaining: 308ms\n",
      "36:\tlearn: 1830.1507751\ttotal: 815ms\tremaining: 286ms\n",
      "37:\tlearn: 1821.4365071\ttotal: 838ms\tremaining: 265ms\n",
      "38:\tlearn: 1811.4799634\ttotal: 860ms\tremaining: 243ms\n",
      "39:\tlearn: 1802.8921803\ttotal: 881ms\tremaining: 220ms\n",
      "40:\tlearn: 1795.4045521\ttotal: 904ms\tremaining: 198ms\n",
      "41:\tlearn: 1787.3176089\ttotal: 925ms\tremaining: 176ms\n",
      "42:\tlearn: 1780.0988753\ttotal: 946ms\tremaining: 154ms\n",
      "43:\tlearn: 1768.5745122\ttotal: 967ms\tremaining: 132ms\n",
      "44:\tlearn: 1761.7771642\ttotal: 987ms\tremaining: 110ms\n",
      "45:\tlearn: 1754.1042828\ttotal: 1.01s\tremaining: 87.7ms\n",
      "46:\tlearn: 1748.6207034\ttotal: 1.03s\tremaining: 65.8ms\n",
      "47:\tlearn: 1739.1601597\ttotal: 1.05s\tremaining: 43.8ms\n",
      "48:\tlearn: 1734.2072666\ttotal: 1.07s\tremaining: 21.9ms\n",
      "49:\tlearn: 1729.0567125\ttotal: 1.09s\tremaining: 0us\n",
      "0:\tlearn: 3294.6622127\ttotal: 31.1ms\tremaining: 2.14s\n",
      "1:\tlearn: 3145.6043925\ttotal: 59.2ms\tremaining: 2.01s\n",
      "2:\tlearn: 3019.2869870\ttotal: 88.2ms\tremaining: 1.97s\n",
      "3:\tlearn: 2906.4649425\ttotal: 112ms\tremaining: 1.85s\n",
      "4:\tlearn: 2810.9607603\ttotal: 138ms\tremaining: 1.79s\n",
      "5:\tlearn: 2723.5111701\ttotal: 158ms\tremaining: 1.69s\n",
      "6:\tlearn: 2650.1384870\ttotal: 179ms\tremaining: 1.61s\n",
      "7:\tlearn: 2580.3233804\ttotal: 200ms\tremaining: 1.55s\n",
      "8:\tlearn: 2520.1176304\ttotal: 220ms\tremaining: 1.49s\n",
      "9:\tlearn: 2462.5507213\ttotal: 240ms\tremaining: 1.44s\n",
      "10:\tlearn: 2415.4270424\ttotal: 260ms\tremaining: 1.4s\n",
      "11:\tlearn: 2365.4809703\ttotal: 283ms\tremaining: 1.37s\n",
      "12:\tlearn: 2327.6858693\ttotal: 304ms\tremaining: 1.33s\n",
      "13:\tlearn: 2287.9047779\ttotal: 324ms\tremaining: 1.29s\n",
      "14:\tlearn: 2252.3947625\ttotal: 345ms\tremaining: 1.26s\n",
      "15:\tlearn: 2216.7461906\ttotal: 368ms\tremaining: 1.24s\n",
      "16:\tlearn: 2186.7514920\ttotal: 389ms\tremaining: 1.21s\n",
      "17:\tlearn: 2154.8871111\ttotal: 408ms\tremaining: 1.18s\n",
      "18:\tlearn: 2127.8490352\ttotal: 428ms\tremaining: 1.15s\n",
      "19:\tlearn: 2099.1643272\ttotal: 448ms\tremaining: 1.12s\n",
      "20:\tlearn: 2075.8222314\ttotal: 473ms\tremaining: 1.1s\n",
      "21:\tlearn: 2053.9477831\ttotal: 493ms\tremaining: 1.08s\n",
      "22:\tlearn: 2032.6838124\ttotal: 515ms\tremaining: 1.05s\n",
      "23:\tlearn: 2014.7835451\ttotal: 536ms\tremaining: 1.03s\n",
      "24:\tlearn: 1995.6513971\ttotal: 557ms\tremaining: 1s\n",
      "25:\tlearn: 1976.2972438\ttotal: 577ms\tremaining: 977ms\n",
      "26:\tlearn: 1960.4562407\ttotal: 599ms\tremaining: 954ms\n",
      "27:\tlearn: 1945.0044049\ttotal: 621ms\tremaining: 932ms\n",
      "28:\tlearn: 1930.6032950\ttotal: 643ms\tremaining: 910ms\n",
      "29:\tlearn: 1912.6082598\ttotal: 668ms\tremaining: 890ms\n",
      "30:\tlearn: 1896.2881391\ttotal: 688ms\tremaining: 866ms\n",
      "31:\tlearn: 1881.9573867\ttotal: 709ms\tremaining: 842ms\n",
      "32:\tlearn: 1868.2160318\ttotal: 729ms\tremaining: 817ms\n",
      "33:\tlearn: 1855.9543232\ttotal: 748ms\tremaining: 792ms\n",
      "34:\tlearn: 1845.6082809\ttotal: 769ms\tremaining: 769ms\n",
      "35:\tlearn: 1829.3661357\ttotal: 790ms\tremaining: 746ms\n",
      "36:\tlearn: 1820.7852135\ttotal: 810ms\tremaining: 722ms\n",
      "37:\tlearn: 1812.3011915\ttotal: 830ms\tremaining: 699ms\n",
      "38:\tlearn: 1799.9567019\ttotal: 850ms\tremaining: 676ms\n",
      "39:\tlearn: 1786.5877226\ttotal: 874ms\tremaining: 656ms\n",
      "40:\tlearn: 1775.8720861\ttotal: 900ms\tremaining: 637ms\n",
      "41:\tlearn: 1767.9661902\ttotal: 928ms\tremaining: 618ms\n",
      "42:\tlearn: 1760.6579339\ttotal: 954ms\tremaining: 599ms\n",
      "43:\tlearn: 1754.1016309\ttotal: 980ms\tremaining: 579ms\n",
      "44:\tlearn: 1742.9656967\ttotal: 1s\tremaining: 557ms\n",
      "45:\tlearn: 1736.6638457\ttotal: 1.02s\tremaining: 535ms\n",
      "46:\tlearn: 1730.8591126\ttotal: 1.05s\tremaining: 513ms\n",
      "47:\tlearn: 1723.2464934\ttotal: 1.07s\tremaining: 491ms\n",
      "48:\tlearn: 1717.6254718\ttotal: 1.09s\tremaining: 469ms\n",
      "49:\tlearn: 1713.0004113\ttotal: 1.12s\tremaining: 447ms\n",
      "50:\tlearn: 1705.8879088\ttotal: 1.14s\tremaining: 426ms\n",
      "51:\tlearn: 1701.3902479\ttotal: 1.17s\tremaining: 403ms\n",
      "52:\tlearn: 1695.6561391\ttotal: 1.19s\tremaining: 381ms\n",
      "53:\tlearn: 1691.2610785\ttotal: 1.21s\tremaining: 358ms\n",
      "54:\tlearn: 1687.4180387\ttotal: 1.23s\tremaining: 335ms\n",
      "55:\tlearn: 1680.9334303\ttotal: 1.25s\tremaining: 313ms\n",
      "56:\tlearn: 1677.4894189\ttotal: 1.28s\tremaining: 291ms\n",
      "57:\tlearn: 1674.0288372\ttotal: 1.3s\tremaining: 269ms\n",
      "58:\tlearn: 1670.1519657\ttotal: 1.32s\tremaining: 247ms\n",
      "59:\tlearn: 1664.3017415\ttotal: 1.35s\tremaining: 226ms\n",
      "60:\tlearn: 1659.4821106\ttotal: 1.38s\tremaining: 203ms\n",
      "61:\tlearn: 1656.7243461\ttotal: 1.41s\tremaining: 181ms\n",
      "62:\tlearn: 1652.0686111\ttotal: 1.44s\tremaining: 160ms\n",
      "63:\tlearn: 1649.5299331\ttotal: 1.46s\tremaining: 137ms\n",
      "64:\tlearn: 1646.7599281\ttotal: 1.48s\tremaining: 114ms\n",
      "65:\tlearn: 1643.8871587\ttotal: 1.5s\tremaining: 91.1ms\n",
      "66:\tlearn: 1642.0138041\ttotal: 1.52s\tremaining: 68.2ms\n",
      "67:\tlearn: 1638.2168690\ttotal: 1.55s\tremaining: 45.5ms\n",
      "68:\tlearn: 1636.0292877\ttotal: 1.57s\tremaining: 22.7ms\n",
      "69:\tlearn: 1634.0920563\ttotal: 1.59s\tremaining: 0us\n",
      "0:\tlearn: 3298.2951263\ttotal: 25.5ms\tremaining: 1.76s\n",
      "1:\tlearn: 3151.1713806\ttotal: 50.5ms\tremaining: 1.72s\n",
      "2:\tlearn: 3024.8717901\ttotal: 70.8ms\tremaining: 1.58s\n",
      "3:\tlearn: 2913.3306264\ttotal: 95.5ms\tremaining: 1.57s\n",
      "4:\tlearn: 2814.5777950\ttotal: 121ms\tremaining: 1.57s\n",
      "5:\tlearn: 2727.4379448\ttotal: 146ms\tremaining: 1.56s\n",
      "6:\tlearn: 2653.9535912\ttotal: 173ms\tremaining: 1.55s\n",
      "7:\tlearn: 2589.2905271\ttotal: 208ms\tremaining: 1.61s\n",
      "8:\tlearn: 2524.1951483\ttotal: 239ms\tremaining: 1.62s\n",
      "9:\tlearn: 2465.9112601\ttotal: 270ms\tremaining: 1.62s\n",
      "10:\tlearn: 2418.1247975\ttotal: 297ms\tremaining: 1.59s\n",
      "11:\tlearn: 2369.6959671\ttotal: 323ms\tremaining: 1.56s\n",
      "12:\tlearn: 2332.0916177\ttotal: 348ms\tremaining: 1.52s\n",
      "13:\tlearn: 2296.9818051\ttotal: 367ms\tremaining: 1.47s\n",
      "14:\tlearn: 2261.3794366\ttotal: 388ms\tremaining: 1.42s\n",
      "15:\tlearn: 2226.8274354\ttotal: 409ms\tremaining: 1.38s\n",
      "16:\tlearn: 2195.4580433\ttotal: 439ms\tremaining: 1.37s\n",
      "17:\tlearn: 2165.7900456\ttotal: 464ms\tremaining: 1.34s\n",
      "18:\tlearn: 2138.4270712\ttotal: 486ms\tremaining: 1.3s\n",
      "19:\tlearn: 2114.5210536\ttotal: 506ms\tremaining: 1.26s\n",
      "20:\tlearn: 2091.0116309\ttotal: 536ms\tremaining: 1.25s\n",
      "21:\tlearn: 2069.8682034\ttotal: 560ms\tremaining: 1.22s\n",
      "22:\tlearn: 2044.8598211\ttotal: 581ms\tremaining: 1.19s\n",
      "23:\tlearn: 2026.1898713\ttotal: 602ms\tremaining: 1.15s\n",
      "24:\tlearn: 2007.8422654\ttotal: 623ms\tremaining: 1.12s\n",
      "25:\tlearn: 1987.8215351\ttotal: 643ms\tremaining: 1.09s\n",
      "26:\tlearn: 1971.8548336\ttotal: 663ms\tremaining: 1.05s\n",
      "27:\tlearn: 1956.3313121\ttotal: 685ms\tremaining: 1.03s\n",
      "28:\tlearn: 1941.4680397\ttotal: 704ms\tremaining: 996ms\n",
      "29:\tlearn: 1922.0035615\ttotal: 726ms\tremaining: 967ms\n",
      "30:\tlearn: 1905.8607973\ttotal: 746ms\tremaining: 939ms\n",
      "31:\tlearn: 1892.0660556\ttotal: 768ms\tremaining: 912ms\n",
      "32:\tlearn: 1878.8100283\ttotal: 789ms\tremaining: 884ms\n",
      "33:\tlearn: 1866.5892187\ttotal: 809ms\tremaining: 856ms\n",
      "34:\tlearn: 1856.3227260\ttotal: 829ms\tremaining: 829ms\n",
      "35:\tlearn: 1846.0532019\ttotal: 850ms\tremaining: 803ms\n",
      "36:\tlearn: 1836.6327003\ttotal: 871ms\tremaining: 777ms\n",
      "37:\tlearn: 1827.4635708\ttotal: 891ms\tremaining: 751ms\n",
      "38:\tlearn: 1814.7160078\ttotal: 912ms\tremaining: 725ms\n",
      "39:\tlearn: 1804.9434625\ttotal: 932ms\tremaining: 699ms\n",
      "40:\tlearn: 1796.9927012\ttotal: 953ms\tremaining: 674ms\n",
      "41:\tlearn: 1787.4461860\ttotal: 973ms\tremaining: 649ms\n",
      "42:\tlearn: 1774.3911126\ttotal: 994ms\tremaining: 624ms\n",
      "43:\tlearn: 1767.2673263\ttotal: 1.01s\tremaining: 599ms\n",
      "44:\tlearn: 1760.7551332\ttotal: 1.03s\tremaining: 575ms\n",
      "45:\tlearn: 1750.0980058\ttotal: 1.05s\tremaining: 551ms\n",
      "46:\tlearn: 1743.8961216\ttotal: 1.08s\tremaining: 528ms\n",
      "47:\tlearn: 1737.9591199\ttotal: 1.1s\tremaining: 504ms\n",
      "48:\tlearn: 1729.6498054\ttotal: 1.12s\tremaining: 480ms\n",
      "49:\tlearn: 1724.2711671\ttotal: 1.14s\tremaining: 456ms\n",
      "50:\tlearn: 1715.7383640\ttotal: 1.16s\tremaining: 432ms\n",
      "51:\tlearn: 1710.9449501\ttotal: 1.18s\tremaining: 408ms\n",
      "52:\tlearn: 1706.6257161\ttotal: 1.2s\tremaining: 385ms\n",
      "53:\tlearn: 1699.7805952\ttotal: 1.22s\tremaining: 362ms\n",
      "54:\tlearn: 1695.7853863\ttotal: 1.24s\tremaining: 338ms\n",
      "55:\tlearn: 1690.2688283\ttotal: 1.26s\tremaining: 316ms\n",
      "56:\tlearn: 1686.1292537\ttotal: 1.28s\tremaining: 293ms\n",
      "57:\tlearn: 1680.5717835\ttotal: 1.3s\tremaining: 270ms\n",
      "58:\tlearn: 1677.0653350\ttotal: 1.32s\tremaining: 247ms\n",
      "59:\tlearn: 1673.5704069\ttotal: 1.35s\tremaining: 224ms\n",
      "60:\tlearn: 1670.5603561\ttotal: 1.37s\tremaining: 202ms\n",
      "61:\tlearn: 1668.2079921\ttotal: 1.39s\tremaining: 179ms\n",
      "62:\tlearn: 1663.2803921\ttotal: 1.41s\tremaining: 156ms\n",
      "63:\tlearn: 1660.5983180\ttotal: 1.43s\tremaining: 134ms\n",
      "64:\tlearn: 1657.8336907\ttotal: 1.45s\tremaining: 112ms\n",
      "65:\tlearn: 1653.7346781\ttotal: 1.47s\tremaining: 89.3ms\n",
      "66:\tlearn: 1649.8432629\ttotal: 1.5s\tremaining: 67ms\n",
      "67:\tlearn: 1645.9396658\ttotal: 1.52s\tremaining: 44.6ms\n",
      "68:\tlearn: 1643.9354051\ttotal: 1.54s\tremaining: 22.3ms\n",
      "69:\tlearn: 1641.7630077\ttotal: 1.56s\tremaining: 0us\n",
      "0:\tlearn: 3293.6372831\ttotal: 26.4ms\tremaining: 1.82s\n",
      "1:\tlearn: 3147.2876261\ttotal: 52.3ms\tremaining: 1.78s\n",
      "2:\tlearn: 3021.4632436\ttotal: 73ms\tremaining: 1.63s\n",
      "3:\tlearn: 2911.7334345\ttotal: 95.3ms\tremaining: 1.57s\n",
      "4:\tlearn: 2812.7613801\ttotal: 115ms\tremaining: 1.5s\n",
      "5:\tlearn: 2730.2738337\ttotal: 135ms\tremaining: 1.44s\n",
      "6:\tlearn: 2651.4967073\ttotal: 156ms\tremaining: 1.41s\n",
      "7:\tlearn: 2588.3919108\ttotal: 183ms\tremaining: 1.42s\n",
      "8:\tlearn: 2523.9206409\ttotal: 205ms\tremaining: 1.39s\n",
      "9:\tlearn: 2466.3394158\ttotal: 226ms\tremaining: 1.36s\n",
      "10:\tlearn: 2417.2611766\ttotal: 249ms\tremaining: 1.33s\n",
      "11:\tlearn: 2370.7536932\ttotal: 270ms\tremaining: 1.3s\n",
      "12:\tlearn: 2333.6116768\ttotal: 291ms\tremaining: 1.28s\n",
      "13:\tlearn: 2294.3641574\ttotal: 312ms\tremaining: 1.25s\n",
      "14:\tlearn: 2256.7361913\ttotal: 334ms\tremaining: 1.22s\n",
      "15:\tlearn: 2221.4909152\ttotal: 355ms\tremaining: 1.2s\n",
      "16:\tlearn: 2189.4190645\ttotal: 375ms\tremaining: 1.17s\n",
      "17:\tlearn: 2160.2211118\ttotal: 396ms\tremaining: 1.14s\n",
      "18:\tlearn: 2131.4725678\ttotal: 416ms\tremaining: 1.12s\n",
      "19:\tlearn: 2103.6377892\ttotal: 437ms\tremaining: 1.09s\n",
      "20:\tlearn: 2080.3361494\ttotal: 457ms\tremaining: 1.07s\n",
      "21:\tlearn: 2057.5068402\ttotal: 479ms\tremaining: 1.04s\n",
      "22:\tlearn: 2037.6861600\ttotal: 499ms\tremaining: 1.02s\n",
      "23:\tlearn: 2019.3070436\ttotal: 521ms\tremaining: 998ms\n",
      "24:\tlearn: 2000.5413645\ttotal: 541ms\tremaining: 974ms\n",
      "25:\tlearn: 1982.6764574\ttotal: 562ms\tremaining: 951ms\n",
      "26:\tlearn: 1966.6198227\ttotal: 582ms\tremaining: 927ms\n",
      "27:\tlearn: 1946.9218791\ttotal: 602ms\tremaining: 903ms\n",
      "28:\tlearn: 1931.6436059\ttotal: 622ms\tremaining: 879ms\n",
      "29:\tlearn: 1917.6208735\ttotal: 643ms\tremaining: 858ms\n",
      "30:\tlearn: 1899.8154874\ttotal: 665ms\tremaining: 837ms\n",
      "31:\tlearn: 1885.1873710\ttotal: 686ms\tremaining: 814ms\n",
      "32:\tlearn: 1871.8707349\ttotal: 706ms\tremaining: 792ms\n",
      "33:\tlearn: 1860.0598626\ttotal: 729ms\tremaining: 772ms\n",
      "34:\tlearn: 1848.5133483\ttotal: 750ms\tremaining: 750ms\n",
      "35:\tlearn: 1838.7634718\ttotal: 771ms\tremaining: 728ms\n",
      "36:\tlearn: 1830.1507751\ttotal: 791ms\tremaining: 706ms\n",
      "37:\tlearn: 1821.4365071\ttotal: 812ms\tremaining: 683ms\n",
      "38:\tlearn: 1811.4799634\ttotal: 832ms\tremaining: 661ms\n",
      "39:\tlearn: 1802.8921803\ttotal: 852ms\tremaining: 639ms\n",
      "40:\tlearn: 1795.4045521\ttotal: 872ms\tremaining: 617ms\n",
      "41:\tlearn: 1787.3176089\ttotal: 892ms\tremaining: 594ms\n",
      "42:\tlearn: 1780.0988753\ttotal: 913ms\tremaining: 573ms\n",
      "43:\tlearn: 1768.5745122\ttotal: 934ms\tremaining: 552ms\n",
      "44:\tlearn: 1761.7771642\ttotal: 953ms\tremaining: 530ms\n",
      "45:\tlearn: 1754.1042828\ttotal: 975ms\tremaining: 509ms\n",
      "46:\tlearn: 1748.6207034\ttotal: 998ms\tremaining: 488ms\n",
      "47:\tlearn: 1739.1601597\ttotal: 1.02s\tremaining: 468ms\n",
      "48:\tlearn: 1734.2072666\ttotal: 1.04s\tremaining: 447ms\n",
      "49:\tlearn: 1729.0567125\ttotal: 1.06s\tremaining: 426ms\n",
      "50:\tlearn: 1723.9368157\ttotal: 1.08s\tremaining: 404ms\n",
      "51:\tlearn: 1716.5127774\ttotal: 1.11s\tremaining: 384ms\n",
      "52:\tlearn: 1712.2343161\ttotal: 1.13s\tremaining: 362ms\n",
      "53:\tlearn: 1708.7590795\ttotal: 1.15s\tremaining: 340ms\n",
      "54:\tlearn: 1705.2046896\ttotal: 1.17s\tremaining: 319ms\n",
      "55:\tlearn: 1699.8249691\ttotal: 1.19s\tremaining: 297ms\n",
      "56:\tlearn: 1694.1627356\ttotal: 1.21s\tremaining: 276ms\n",
      "57:\tlearn: 1690.6012943\ttotal: 1.23s\tremaining: 255ms\n",
      "58:\tlearn: 1686.8776987\ttotal: 1.25s\tremaining: 233ms\n",
      "59:\tlearn: 1680.9452367\ttotal: 1.27s\tremaining: 212ms\n",
      "60:\tlearn: 1677.8378952\ttotal: 1.29s\tremaining: 190ms\n",
      "61:\tlearn: 1675.4874544\ttotal: 1.31s\tremaining: 169ms\n",
      "62:\tlearn: 1672.8418366\ttotal: 1.33s\tremaining: 148ms\n",
      "63:\tlearn: 1669.7854530\ttotal: 1.35s\tremaining: 127ms\n",
      "64:\tlearn: 1667.3335184\ttotal: 1.37s\tremaining: 106ms\n",
      "65:\tlearn: 1665.0225025\ttotal: 1.39s\tremaining: 84.5ms\n",
      "66:\tlearn: 1660.5146311\ttotal: 1.41s\tremaining: 63.4ms\n",
      "67:\tlearn: 1656.9002128\ttotal: 1.43s\tremaining: 42.2ms\n",
      "68:\tlearn: 1654.0803086\ttotal: 1.45s\tremaining: 21.1ms\n",
      "69:\tlearn: 1651.9576551\ttotal: 1.47s\tremaining: 0us\n",
      "0:\tlearn: 3294.6622127\ttotal: 26.2ms\tremaining: 498ms\n",
      "1:\tlearn: 3145.6043925\ttotal: 52.6ms\tremaining: 473ms\n",
      "2:\tlearn: 3019.2869870\ttotal: 78.4ms\tremaining: 444ms\n",
      "3:\tlearn: 2906.4649425\ttotal: 98.4ms\tremaining: 394ms\n",
      "4:\tlearn: 2810.9607603\ttotal: 118ms\tremaining: 354ms\n",
      "5:\tlearn: 2723.5111701\ttotal: 138ms\tremaining: 321ms\n",
      "6:\tlearn: 2650.1384870\ttotal: 157ms\tremaining: 292ms\n",
      "7:\tlearn: 2580.3233804\ttotal: 178ms\tremaining: 267ms\n",
      "8:\tlearn: 2520.1176304\ttotal: 203ms\tremaining: 248ms\n",
      "9:\tlearn: 2462.5507213\ttotal: 225ms\tremaining: 225ms\n",
      "10:\tlearn: 2415.4270424\ttotal: 245ms\tremaining: 200ms\n",
      "11:\tlearn: 2365.4809703\ttotal: 265ms\tremaining: 177ms\n",
      "12:\tlearn: 2327.6858693\ttotal: 285ms\tremaining: 154ms\n",
      "13:\tlearn: 2287.9047779\ttotal: 306ms\tremaining: 131ms\n",
      "14:\tlearn: 2252.3947625\ttotal: 326ms\tremaining: 109ms\n",
      "15:\tlearn: 2216.7461906\ttotal: 347ms\tremaining: 86.8ms\n",
      "16:\tlearn: 2186.7514920\ttotal: 368ms\tremaining: 65ms\n",
      "17:\tlearn: 2154.8871111\ttotal: 388ms\tremaining: 43.1ms\n",
      "18:\tlearn: 2127.8490352\ttotal: 408ms\tremaining: 21.5ms\n",
      "19:\tlearn: 2099.1643272\ttotal: 430ms\tremaining: 0us\n",
      "0:\tlearn: 3298.2951263\ttotal: 26.2ms\tremaining: 497ms\n",
      "1:\tlearn: 3151.1713806\ttotal: 52.7ms\tremaining: 474ms\n",
      "2:\tlearn: 3024.8717901\ttotal: 72.8ms\tremaining: 412ms\n",
      "3:\tlearn: 2913.3306264\ttotal: 93.5ms\tremaining: 374ms\n",
      "4:\tlearn: 2814.5777950\ttotal: 114ms\tremaining: 341ms\n",
      "5:\tlearn: 2727.4379448\ttotal: 134ms\tremaining: 313ms\n",
      "6:\tlearn: 2653.9535912\ttotal: 154ms\tremaining: 286ms\n",
      "7:\tlearn: 2589.2905271\ttotal: 182ms\tremaining: 273ms\n",
      "8:\tlearn: 2524.1951483\ttotal: 202ms\tremaining: 247ms\n",
      "9:\tlearn: 2465.9112601\ttotal: 223ms\tremaining: 223ms\n",
      "10:\tlearn: 2418.1247975\ttotal: 243ms\tremaining: 199ms\n",
      "11:\tlearn: 2369.6959671\ttotal: 263ms\tremaining: 175ms\n",
      "12:\tlearn: 2332.0916177\ttotal: 282ms\tremaining: 152ms\n",
      "13:\tlearn: 2296.9818051\ttotal: 302ms\tremaining: 130ms\n",
      "14:\tlearn: 2261.3794366\ttotal: 324ms\tremaining: 108ms\n",
      "15:\tlearn: 2226.8274354\ttotal: 346ms\tremaining: 86.5ms\n",
      "16:\tlearn: 2195.4580433\ttotal: 366ms\tremaining: 64.6ms\n",
      "17:\tlearn: 2165.7900456\ttotal: 387ms\tremaining: 43ms\n",
      "18:\tlearn: 2138.4270712\ttotal: 409ms\tremaining: 21.5ms\n",
      "19:\tlearn: 2114.5210536\ttotal: 430ms\tremaining: 0us\n",
      "0:\tlearn: 3293.6372831\ttotal: 27.9ms\tremaining: 529ms\n",
      "1:\tlearn: 3147.2876261\ttotal: 53.7ms\tremaining: 484ms\n",
      "2:\tlearn: 3021.4632436\ttotal: 74.1ms\tremaining: 420ms\n",
      "3:\tlearn: 2911.7334345\ttotal: 94.2ms\tremaining: 377ms\n",
      "4:\tlearn: 2812.7613801\ttotal: 116ms\tremaining: 347ms\n",
      "5:\tlearn: 2730.2738337\ttotal: 136ms\tremaining: 316ms\n",
      "6:\tlearn: 2651.4967073\ttotal: 156ms\tremaining: 290ms\n",
      "7:\tlearn: 2588.3919108\ttotal: 183ms\tremaining: 275ms\n",
      "8:\tlearn: 2523.9206409\ttotal: 204ms\tremaining: 250ms\n",
      "9:\tlearn: 2466.3394158\ttotal: 225ms\tremaining: 225ms\n",
      "10:\tlearn: 2417.2611766\ttotal: 246ms\tremaining: 201ms\n",
      "11:\tlearn: 2370.7536932\ttotal: 266ms\tremaining: 177ms\n",
      "12:\tlearn: 2333.6116768\ttotal: 286ms\tremaining: 154ms\n",
      "13:\tlearn: 2294.3641574\ttotal: 309ms\tremaining: 133ms\n",
      "14:\tlearn: 2256.7361913\ttotal: 330ms\tremaining: 110ms\n",
      "15:\tlearn: 2221.4909152\ttotal: 351ms\tremaining: 87.6ms\n",
      "16:\tlearn: 2189.4190645\ttotal: 372ms\tremaining: 65.6ms\n",
      "17:\tlearn: 2160.2211118\ttotal: 392ms\tremaining: 43.6ms\n",
      "18:\tlearn: 2131.4725678\ttotal: 412ms\tremaining: 21.7ms\n",
      "19:\tlearn: 2103.6377892\ttotal: 433ms\tremaining: 0us\n",
      "0:\tlearn: 3294.6622127\ttotal: 25.9ms\tremaining: 1.53s\n",
      "1:\tlearn: 3145.6043925\ttotal: 52.6ms\tremaining: 1.52s\n",
      "2:\tlearn: 3019.2869870\ttotal: 77.4ms\tremaining: 1.47s\n",
      "3:\tlearn: 2906.4649425\ttotal: 96.8ms\tremaining: 1.35s\n",
      "4:\tlearn: 2810.9607603\ttotal: 117ms\tremaining: 1.28s\n",
      "5:\tlearn: 2723.5111701\ttotal: 136ms\tremaining: 1.23s\n",
      "6:\tlearn: 2650.1384870\ttotal: 156ms\tremaining: 1.18s\n",
      "7:\tlearn: 2580.3233804\ttotal: 177ms\tremaining: 1.15s\n",
      "8:\tlearn: 2520.1176304\ttotal: 200ms\tremaining: 1.13s\n",
      "9:\tlearn: 2462.5507213\ttotal: 223ms\tremaining: 1.11s\n",
      "10:\tlearn: 2415.4270424\ttotal: 245ms\tremaining: 1.09s\n",
      "11:\tlearn: 2365.4809703\ttotal: 267ms\tremaining: 1.07s\n",
      "12:\tlearn: 2327.6858693\ttotal: 289ms\tremaining: 1.04s\n",
      "13:\tlearn: 2287.9047779\ttotal: 314ms\tremaining: 1.03s\n",
      "14:\tlearn: 2252.3947625\ttotal: 335ms\tremaining: 1s\n",
      "15:\tlearn: 2216.7461906\ttotal: 358ms\tremaining: 985ms\n",
      "16:\tlearn: 2186.7514920\ttotal: 382ms\tremaining: 967ms\n",
      "17:\tlearn: 2154.8871111\ttotal: 405ms\tremaining: 946ms\n",
      "18:\tlearn: 2127.8490352\ttotal: 428ms\tremaining: 923ms\n",
      "19:\tlearn: 2099.1643272\ttotal: 449ms\tremaining: 898ms\n",
      "20:\tlearn: 2075.8222314\ttotal: 470ms\tremaining: 874ms\n",
      "21:\tlearn: 2053.9477831\ttotal: 491ms\tremaining: 848ms\n",
      "22:\tlearn: 2032.6838124\ttotal: 514ms\tremaining: 827ms\n",
      "23:\tlearn: 2014.7835451\ttotal: 535ms\tremaining: 802ms\n",
      "24:\tlearn: 1995.6513971\ttotal: 554ms\tremaining: 776ms\n",
      "25:\tlearn: 1976.2972438\ttotal: 574ms\tremaining: 751ms\n",
      "26:\tlearn: 1960.4562407\ttotal: 595ms\tremaining: 728ms\n",
      "27:\tlearn: 1945.0044049\ttotal: 616ms\tremaining: 704ms\n",
      "28:\tlearn: 1930.6032950\ttotal: 637ms\tremaining: 681ms\n",
      "29:\tlearn: 1912.6082598\ttotal: 660ms\tremaining: 660ms\n",
      "30:\tlearn: 1896.2881391\ttotal: 681ms\tremaining: 637ms\n",
      "31:\tlearn: 1881.9573867\ttotal: 700ms\tremaining: 613ms\n",
      "32:\tlearn: 1868.2160318\ttotal: 720ms\tremaining: 589ms\n",
      "33:\tlearn: 1855.9543232\ttotal: 740ms\tremaining: 566ms\n",
      "34:\tlearn: 1845.6082809\ttotal: 760ms\tremaining: 543ms\n",
      "35:\tlearn: 1829.3661357\ttotal: 781ms\tremaining: 521ms\n",
      "36:\tlearn: 1820.7852135\ttotal: 801ms\tremaining: 498ms\n",
      "37:\tlearn: 1812.3011915\ttotal: 824ms\tremaining: 477ms\n",
      "38:\tlearn: 1799.9567019\ttotal: 846ms\tremaining: 455ms\n",
      "39:\tlearn: 1786.5877226\ttotal: 867ms\tremaining: 434ms\n",
      "40:\tlearn: 1775.8720861\ttotal: 888ms\tremaining: 412ms\n",
      "41:\tlearn: 1767.9661902\ttotal: 908ms\tremaining: 389ms\n",
      "42:\tlearn: 1760.6579339\ttotal: 928ms\tremaining: 367ms\n",
      "43:\tlearn: 1754.1016309\ttotal: 949ms\tremaining: 345ms\n",
      "44:\tlearn: 1742.9656967\ttotal: 970ms\tremaining: 323ms\n",
      "45:\tlearn: 1736.6638457\ttotal: 991ms\tremaining: 302ms\n",
      "46:\tlearn: 1730.8591126\ttotal: 1.01s\tremaining: 280ms\n",
      "47:\tlearn: 1723.2464934\ttotal: 1.03s\tremaining: 259ms\n",
      "48:\tlearn: 1717.6254718\ttotal: 1.05s\tremaining: 237ms\n",
      "49:\tlearn: 1713.0004113\ttotal: 1.08s\tremaining: 215ms\n",
      "50:\tlearn: 1705.8879088\ttotal: 1.1s\tremaining: 194ms\n",
      "51:\tlearn: 1701.3902479\ttotal: 1.12s\tremaining: 172ms\n",
      "52:\tlearn: 1695.6561391\ttotal: 1.14s\tremaining: 150ms\n",
      "53:\tlearn: 1691.2610785\ttotal: 1.16s\tremaining: 129ms\n",
      "54:\tlearn: 1687.4180387\ttotal: 1.18s\tremaining: 107ms\n",
      "55:\tlearn: 1680.9334303\ttotal: 1.2s\tremaining: 85.6ms\n",
      "56:\tlearn: 1677.4894189\ttotal: 1.22s\tremaining: 64.1ms\n",
      "57:\tlearn: 1674.0288372\ttotal: 1.24s\tremaining: 42.9ms\n",
      "58:\tlearn: 1670.1519657\ttotal: 1.27s\tremaining: 21.5ms\n",
      "59:\tlearn: 1664.3017415\ttotal: 1.29s\tremaining: 0us\n",
      "0:\tlearn: 3298.2951263\ttotal: 26ms\tremaining: 1.53s\n",
      "1:\tlearn: 3151.1713806\ttotal: 51ms\tremaining: 1.48s\n",
      "2:\tlearn: 3024.8717901\ttotal: 71ms\tremaining: 1.35s\n",
      "3:\tlearn: 2913.3306264\ttotal: 90.7ms\tremaining: 1.27s\n",
      "4:\tlearn: 2814.5777950\ttotal: 112ms\tremaining: 1.23s\n",
      "5:\tlearn: 2727.4379448\ttotal: 132ms\tremaining: 1.19s\n",
      "6:\tlearn: 2653.9535912\ttotal: 153ms\tremaining: 1.16s\n",
      "7:\tlearn: 2589.2905271\ttotal: 180ms\tremaining: 1.17s\n",
      "8:\tlearn: 2524.1951483\ttotal: 199ms\tremaining: 1.13s\n",
      "9:\tlearn: 2465.9112601\ttotal: 221ms\tremaining: 1.1s\n",
      "10:\tlearn: 2418.1247975\ttotal: 241ms\tremaining: 1.07s\n",
      "11:\tlearn: 2369.6959671\ttotal: 261ms\tremaining: 1.04s\n",
      "12:\tlearn: 2332.0916177\ttotal: 280ms\tremaining: 1.01s\n",
      "13:\tlearn: 2296.9818051\ttotal: 300ms\tremaining: 985ms\n",
      "14:\tlearn: 2261.3794366\ttotal: 321ms\tremaining: 962ms\n",
      "15:\tlearn: 2226.8274354\ttotal: 342ms\tremaining: 941ms\n",
      "16:\tlearn: 2195.4580433\ttotal: 363ms\tremaining: 919ms\n",
      "17:\tlearn: 2165.7900456\ttotal: 384ms\tremaining: 895ms\n",
      "18:\tlearn: 2138.4270712\ttotal: 404ms\tremaining: 871ms\n",
      "19:\tlearn: 2114.5210536\ttotal: 423ms\tremaining: 847ms\n",
      "20:\tlearn: 2091.0116309\ttotal: 444ms\tremaining: 824ms\n",
      "21:\tlearn: 2069.8682034\ttotal: 469ms\tremaining: 810ms\n",
      "22:\tlearn: 2044.8598211\ttotal: 491ms\tremaining: 790ms\n",
      "23:\tlearn: 2026.1898713\ttotal: 512ms\tremaining: 768ms\n",
      "24:\tlearn: 2007.8422654\ttotal: 534ms\tremaining: 747ms\n",
      "25:\tlearn: 1987.8215351\ttotal: 554ms\tremaining: 724ms\n",
      "26:\tlearn: 1971.8548336\ttotal: 574ms\tremaining: 701ms\n",
      "27:\tlearn: 1956.3313121\ttotal: 593ms\tremaining: 677ms\n",
      "28:\tlearn: 1941.4680397\ttotal: 612ms\tremaining: 655ms\n",
      "29:\tlearn: 1922.0035615\ttotal: 634ms\tremaining: 634ms\n",
      "30:\tlearn: 1905.8607973\ttotal: 657ms\tremaining: 614ms\n",
      "31:\tlearn: 1892.0660556\ttotal: 677ms\tremaining: 592ms\n",
      "32:\tlearn: 1878.8100283\ttotal: 698ms\tremaining: 571ms\n",
      "33:\tlearn: 1866.5892187\ttotal: 718ms\tremaining: 549ms\n",
      "34:\tlearn: 1856.3227260\ttotal: 739ms\tremaining: 528ms\n",
      "35:\tlearn: 1846.0532019\ttotal: 759ms\tremaining: 506ms\n",
      "36:\tlearn: 1836.6327003\ttotal: 779ms\tremaining: 484ms\n",
      "37:\tlearn: 1827.4635708\ttotal: 799ms\tremaining: 463ms\n",
      "38:\tlearn: 1814.7160078\ttotal: 820ms\tremaining: 442ms\n",
      "39:\tlearn: 1804.9434625\ttotal: 840ms\tremaining: 420ms\n",
      "40:\tlearn: 1796.9927012\ttotal: 861ms\tremaining: 399ms\n",
      "41:\tlearn: 1787.4461860\ttotal: 883ms\tremaining: 378ms\n",
      "42:\tlearn: 1774.3911126\ttotal: 904ms\tremaining: 357ms\n",
      "43:\tlearn: 1767.2673263\ttotal: 924ms\tremaining: 336ms\n",
      "44:\tlearn: 1760.7551332\ttotal: 945ms\tremaining: 315ms\n",
      "45:\tlearn: 1750.0980058\ttotal: 965ms\tremaining: 294ms\n",
      "46:\tlearn: 1743.8961216\ttotal: 986ms\tremaining: 273ms\n",
      "47:\tlearn: 1737.9591199\ttotal: 1.01s\tremaining: 252ms\n",
      "48:\tlearn: 1729.6498054\ttotal: 1.03s\tremaining: 230ms\n",
      "49:\tlearn: 1724.2711671\ttotal: 1.05s\tremaining: 210ms\n",
      "50:\tlearn: 1715.7383640\ttotal: 1.07s\tremaining: 189ms\n",
      "51:\tlearn: 1710.9449501\ttotal: 1.09s\tremaining: 168ms\n",
      "52:\tlearn: 1706.6257161\ttotal: 1.11s\tremaining: 147ms\n",
      "53:\tlearn: 1699.7805952\ttotal: 1.14s\tremaining: 126ms\n",
      "54:\tlearn: 1695.7853863\ttotal: 1.16s\tremaining: 105ms\n",
      "55:\tlearn: 1690.2688283\ttotal: 1.17s\tremaining: 83.9ms\n",
      "56:\tlearn: 1686.1292537\ttotal: 1.2s\tremaining: 62.9ms\n",
      "57:\tlearn: 1680.5717835\ttotal: 1.22s\tremaining: 41.9ms\n",
      "58:\tlearn: 1677.0653350\ttotal: 1.24s\tremaining: 21ms\n",
      "59:\tlearn: 1673.5704069\ttotal: 1.26s\tremaining: 0us\n",
      "0:\tlearn: 3293.6372831\ttotal: 26.6ms\tremaining: 1.57s\n",
      "1:\tlearn: 3147.2876261\ttotal: 52.4ms\tremaining: 1.52s\n",
      "2:\tlearn: 3021.4632436\ttotal: 73.1ms\tremaining: 1.39s\n",
      "3:\tlearn: 2911.7334345\ttotal: 94ms\tremaining: 1.32s\n",
      "4:\tlearn: 2812.7613801\ttotal: 115ms\tremaining: 1.26s\n",
      "5:\tlearn: 2730.2738337\ttotal: 135ms\tremaining: 1.22s\n",
      "6:\tlearn: 2651.4967073\ttotal: 156ms\tremaining: 1.18s\n",
      "7:\tlearn: 2588.3919108\ttotal: 185ms\tremaining: 1.2s\n",
      "8:\tlearn: 2523.9206409\ttotal: 206ms\tremaining: 1.17s\n",
      "9:\tlearn: 2466.3394158\ttotal: 228ms\tremaining: 1.14s\n",
      "10:\tlearn: 2417.2611766\ttotal: 248ms\tremaining: 1.1s\n",
      "11:\tlearn: 2370.7536932\ttotal: 268ms\tremaining: 1.07s\n",
      "12:\tlearn: 2333.6116768\ttotal: 289ms\tremaining: 1.04s\n",
      "13:\tlearn: 2294.3641574\ttotal: 311ms\tremaining: 1.02s\n",
      "14:\tlearn: 2256.7361913\ttotal: 333ms\tremaining: 1s\n",
      "15:\tlearn: 2221.4909152\ttotal: 354ms\tremaining: 975ms\n",
      "16:\tlearn: 2189.4190645\ttotal: 375ms\tremaining: 949ms\n",
      "17:\tlearn: 2160.2211118\ttotal: 395ms\tremaining: 922ms\n",
      "18:\tlearn: 2131.4725678\ttotal: 416ms\tremaining: 898ms\n",
      "19:\tlearn: 2103.6377892\ttotal: 438ms\tremaining: 875ms\n",
      "20:\tlearn: 2080.3361494\ttotal: 459ms\tremaining: 852ms\n",
      "21:\tlearn: 2057.5068402\ttotal: 482ms\tremaining: 833ms\n",
      "22:\tlearn: 2037.6861600\ttotal: 503ms\tremaining: 809ms\n",
      "23:\tlearn: 2019.3070436\ttotal: 526ms\tremaining: 789ms\n",
      "24:\tlearn: 2000.5413645\ttotal: 547ms\tremaining: 766ms\n",
      "25:\tlearn: 1982.6764574\ttotal: 569ms\tremaining: 744ms\n",
      "26:\tlearn: 1966.6198227\ttotal: 591ms\tremaining: 723ms\n",
      "27:\tlearn: 1946.9218791\ttotal: 613ms\tremaining: 700ms\n",
      "28:\tlearn: 1931.6436059\ttotal: 632ms\tremaining: 676ms\n",
      "29:\tlearn: 1917.6208735\ttotal: 653ms\tremaining: 653ms\n",
      "30:\tlearn: 1899.8154874\ttotal: 677ms\tremaining: 634ms\n",
      "31:\tlearn: 1885.1873710\ttotal: 697ms\tremaining: 610ms\n",
      "32:\tlearn: 1871.8707349\ttotal: 719ms\tremaining: 588ms\n",
      "33:\tlearn: 1860.0598626\ttotal: 740ms\tremaining: 566ms\n",
      "34:\tlearn: 1848.5133483\ttotal: 761ms\tremaining: 544ms\n",
      "35:\tlearn: 1838.7634718\ttotal: 782ms\tremaining: 521ms\n",
      "36:\tlearn: 1830.1507751\ttotal: 803ms\tremaining: 499ms\n",
      "37:\tlearn: 1821.4365071\ttotal: 823ms\tremaining: 476ms\n",
      "38:\tlearn: 1811.4799634\ttotal: 846ms\tremaining: 456ms\n",
      "39:\tlearn: 1802.8921803\ttotal: 872ms\tremaining: 436ms\n",
      "40:\tlearn: 1795.4045521\ttotal: 895ms\tremaining: 415ms\n",
      "41:\tlearn: 1787.3176089\ttotal: 916ms\tremaining: 392ms\n",
      "42:\tlearn: 1780.0988753\ttotal: 937ms\tremaining: 371ms\n",
      "43:\tlearn: 1768.5745122\ttotal: 959ms\tremaining: 349ms\n",
      "44:\tlearn: 1761.7771642\ttotal: 980ms\tremaining: 327ms\n",
      "45:\tlearn: 1754.1042828\ttotal: 1s\tremaining: 305ms\n",
      "46:\tlearn: 1748.6207034\ttotal: 1.02s\tremaining: 283ms\n",
      "47:\tlearn: 1739.1601597\ttotal: 1.04s\tremaining: 261ms\n",
      "48:\tlearn: 1734.2072666\ttotal: 1.07s\tremaining: 240ms\n",
      "49:\tlearn: 1729.0567125\ttotal: 1.09s\tremaining: 218ms\n",
      "50:\tlearn: 1723.9368157\ttotal: 1.11s\tremaining: 196ms\n",
      "51:\tlearn: 1716.5127774\ttotal: 1.13s\tremaining: 174ms\n",
      "52:\tlearn: 1712.2343161\ttotal: 1.16s\tremaining: 153ms\n",
      "53:\tlearn: 1708.7590795\ttotal: 1.18s\tremaining: 131ms\n",
      "54:\tlearn: 1705.2046896\ttotal: 1.2s\tremaining: 109ms\n",
      "55:\tlearn: 1699.8249691\ttotal: 1.22s\tremaining: 87ms\n",
      "56:\tlearn: 1694.1627356\ttotal: 1.24s\tremaining: 65.2ms\n",
      "57:\tlearn: 1690.6012943\ttotal: 1.26s\tremaining: 43.4ms\n",
      "58:\tlearn: 1686.8776987\ttotal: 1.28s\tremaining: 21.7ms\n",
      "59:\tlearn: 1680.9452367\ttotal: 1.3s\tremaining: 0us\n",
      "0:\tlearn: 2992.5361673\ttotal: 27.5ms\tremaining: 798ms\n",
      "1:\tlearn: 2681.8494917\ttotal: 53.9ms\tremaining: 755ms\n",
      "2:\tlearn: 2489.6136353\ttotal: 79.1ms\tremaining: 712ms\n",
      "3:\tlearn: 2315.9329647\ttotal: 101ms\tremaining: 655ms\n",
      "4:\tlearn: 2213.4933667\ttotal: 120ms\tremaining: 600ms\n",
      "5:\tlearn: 2129.5158200\ttotal: 140ms\tremaining: 558ms\n",
      "6:\tlearn: 2053.7056418\ttotal: 161ms\tremaining: 528ms\n",
      "7:\tlearn: 2002.4622694\ttotal: 183ms\tremaining: 502ms\n",
      "8:\tlearn: 1954.0217514\ttotal: 205ms\tremaining: 477ms\n",
      "9:\tlearn: 1892.2534745\ttotal: 227ms\tremaining: 453ms\n",
      "10:\tlearn: 1852.5855483\ttotal: 248ms\tremaining: 428ms\n",
      "11:\tlearn: 1822.2893565\ttotal: 268ms\tremaining: 402ms\n",
      "12:\tlearn: 1798.4967377\ttotal: 288ms\tremaining: 377ms\n",
      "13:\tlearn: 1759.9442704\ttotal: 310ms\tremaining: 354ms\n",
      "14:\tlearn: 1736.4255831\ttotal: 331ms\tremaining: 331ms\n",
      "15:\tlearn: 1715.1407088\ttotal: 351ms\tremaining: 307ms\n",
      "16:\tlearn: 1693.8207045\ttotal: 372ms\tremaining: 285ms\n",
      "17:\tlearn: 1682.7720957\ttotal: 394ms\tremaining: 263ms\n",
      "18:\tlearn: 1672.1044306\ttotal: 416ms\tremaining: 241ms\n",
      "19:\tlearn: 1663.4909440\ttotal: 438ms\tremaining: 219ms\n",
      "20:\tlearn: 1650.9891235\ttotal: 459ms\tremaining: 197ms\n",
      "21:\tlearn: 1638.9870647\ttotal: 480ms\tremaining: 175ms\n",
      "22:\tlearn: 1633.5384318\ttotal: 502ms\tremaining: 153ms\n",
      "23:\tlearn: 1626.7569331\ttotal: 525ms\tremaining: 131ms\n",
      "24:\tlearn: 1620.7631384\ttotal: 547ms\tremaining: 109ms\n",
      "25:\tlearn: 1615.5970983\ttotal: 568ms\tremaining: 87.4ms\n",
      "26:\tlearn: 1611.9331280\ttotal: 589ms\tremaining: 65.4ms\n",
      "27:\tlearn: 1604.9693680\ttotal: 609ms\tremaining: 43.5ms\n",
      "28:\tlearn: 1600.3955590\ttotal: 630ms\tremaining: 21.7ms\n",
      "29:\tlearn: 1597.5582639\ttotal: 651ms\tremaining: 0us\n",
      "0:\tlearn: 2994.2985479\ttotal: 28.1ms\tremaining: 814ms\n",
      "1:\tlearn: 2683.8123013\ttotal: 60.3ms\tremaining: 844ms\n",
      "2:\tlearn: 2479.9187916\ttotal: 82.2ms\tremaining: 740ms\n",
      "3:\tlearn: 2344.1558469\ttotal: 104ms\tremaining: 674ms\n",
      "4:\tlearn: 2232.1001071\ttotal: 125ms\tremaining: 624ms\n",
      "5:\tlearn: 2150.1295375\ttotal: 146ms\tremaining: 583ms\n",
      "6:\tlearn: 2077.9832292\ttotal: 169ms\tremaining: 556ms\n",
      "7:\tlearn: 2025.9775798\ttotal: 196ms\tremaining: 539ms\n",
      "8:\tlearn: 1970.3826701\ttotal: 216ms\tremaining: 505ms\n",
      "9:\tlearn: 1931.3270426\ttotal: 237ms\tremaining: 474ms\n",
      "10:\tlearn: 1893.4935321\ttotal: 258ms\tremaining: 446ms\n",
      "11:\tlearn: 1840.2198299\ttotal: 280ms\tremaining: 420ms\n",
      "12:\tlearn: 1808.3909658\ttotal: 302ms\tremaining: 395ms\n",
      "13:\tlearn: 1780.9515575\ttotal: 325ms\tremaining: 371ms\n",
      "14:\tlearn: 1758.7105534\ttotal: 348ms\tremaining: 348ms\n",
      "15:\tlearn: 1742.4109199\ttotal: 369ms\tremaining: 323ms\n",
      "16:\tlearn: 1718.2584476\ttotal: 391ms\tremaining: 299ms\n",
      "17:\tlearn: 1702.1130635\ttotal: 411ms\tremaining: 274ms\n",
      "18:\tlearn: 1690.5986090\ttotal: 432ms\tremaining: 250ms\n",
      "19:\tlearn: 1678.0224220\ttotal: 455ms\tremaining: 228ms\n",
      "20:\tlearn: 1669.8755458\ttotal: 477ms\tremaining: 204ms\n",
      "21:\tlearn: 1662.0621829\ttotal: 500ms\tremaining: 182ms\n",
      "22:\tlearn: 1656.3229988\ttotal: 523ms\tremaining: 159ms\n",
      "23:\tlearn: 1642.9573036\ttotal: 551ms\tremaining: 138ms\n",
      "24:\tlearn: 1636.6255859\ttotal: 575ms\tremaining: 115ms\n",
      "25:\tlearn: 1630.1858358\ttotal: 596ms\tremaining: 91.6ms\n",
      "26:\tlearn: 1627.4628453\ttotal: 617ms\tremaining: 68.6ms\n",
      "27:\tlearn: 1623.3903360\ttotal: 639ms\tremaining: 45.6ms\n",
      "28:\tlearn: 1619.5668272\ttotal: 659ms\tremaining: 22.7ms\n",
      "29:\tlearn: 1615.3978948\ttotal: 682ms\tremaining: 0us\n",
      "0:\tlearn: 2991.9245767\ttotal: 27.4ms\tremaining: 796ms\n",
      "1:\tlearn: 2681.3590963\ttotal: 53.5ms\tremaining: 749ms\n",
      "2:\tlearn: 2480.2731740\ttotal: 74ms\tremaining: 666ms\n",
      "3:\tlearn: 2344.7899805\ttotal: 95.1ms\tremaining: 618ms\n",
      "4:\tlearn: 2232.5616001\ttotal: 116ms\tremaining: 582ms\n",
      "5:\tlearn: 2152.6126651\ttotal: 138ms\tremaining: 550ms\n",
      "6:\tlearn: 2078.0362985\ttotal: 161ms\tremaining: 528ms\n",
      "7:\tlearn: 2029.0655666\ttotal: 188ms\tremaining: 516ms\n",
      "8:\tlearn: 1974.6779805\ttotal: 209ms\tremaining: 487ms\n",
      "9:\tlearn: 1933.0407740\ttotal: 230ms\tremaining: 460ms\n",
      "10:\tlearn: 1894.8333078\ttotal: 251ms\tremaining: 433ms\n",
      "11:\tlearn: 1841.3345529\ttotal: 272ms\tremaining: 408ms\n",
      "12:\tlearn: 1818.3088228\ttotal: 293ms\tremaining: 384ms\n",
      "13:\tlearn: 1787.8732006\ttotal: 317ms\tremaining: 362ms\n",
      "14:\tlearn: 1764.5633394\ttotal: 338ms\tremaining: 338ms\n",
      "15:\tlearn: 1750.4238422\ttotal: 358ms\tremaining: 314ms\n",
      "16:\tlearn: 1727.9520369\ttotal: 379ms\tremaining: 290ms\n",
      "17:\tlearn: 1715.2066749\ttotal: 398ms\tremaining: 266ms\n",
      "18:\tlearn: 1697.5118350\ttotal: 419ms\tremaining: 243ms\n",
      "19:\tlearn: 1683.4263029\ttotal: 439ms\tremaining: 220ms\n",
      "20:\tlearn: 1674.8223840\ttotal: 460ms\tremaining: 197ms\n",
      "21:\tlearn: 1666.5653687\ttotal: 482ms\tremaining: 175ms\n",
      "22:\tlearn: 1656.9884479\ttotal: 503ms\tremaining: 153ms\n",
      "23:\tlearn: 1649.2784898\ttotal: 526ms\tremaining: 131ms\n",
      "24:\tlearn: 1644.8353653\ttotal: 546ms\tremaining: 109ms\n",
      "25:\tlearn: 1641.4569976\ttotal: 566ms\tremaining: 87.1ms\n",
      "26:\tlearn: 1636.8183474\ttotal: 586ms\tremaining: 65.1ms\n",
      "27:\tlearn: 1630.4244862\ttotal: 606ms\tremaining: 43.3ms\n",
      "28:\tlearn: 1626.2428955\ttotal: 625ms\tremaining: 21.5ms\n",
      "29:\tlearn: 1620.9654783\ttotal: 646ms\tremaining: 0us\n",
      "0:\tlearn: 3294.6622127\ttotal: 26.3ms\tremaining: 237ms\n",
      "1:\tlearn: 3145.6043925\ttotal: 53.8ms\tremaining: 215ms\n",
      "2:\tlearn: 3019.2869870\ttotal: 79.1ms\tremaining: 185ms\n",
      "3:\tlearn: 2906.4649425\ttotal: 98.4ms\tremaining: 148ms\n",
      "4:\tlearn: 2810.9607603\ttotal: 117ms\tremaining: 117ms\n",
      "5:\tlearn: 2723.5111701\ttotal: 137ms\tremaining: 91.3ms\n",
      "6:\tlearn: 2650.1384870\ttotal: 158ms\tremaining: 67.7ms\n",
      "7:\tlearn: 2580.3233804\ttotal: 179ms\tremaining: 44.7ms\n",
      "8:\tlearn: 2520.1176304\ttotal: 200ms\tremaining: 22.2ms\n",
      "9:\tlearn: 2462.5507213\ttotal: 219ms\tremaining: 0us\n",
      "0:\tlearn: 3298.2951263\ttotal: 28.1ms\tremaining: 253ms\n",
      "1:\tlearn: 3151.1713806\ttotal: 52.8ms\tremaining: 211ms\n",
      "2:\tlearn: 3024.8717901\ttotal: 73.2ms\tremaining: 171ms\n",
      "3:\tlearn: 2913.3306264\ttotal: 93ms\tremaining: 140ms\n",
      "4:\tlearn: 2814.5777950\ttotal: 114ms\tremaining: 114ms\n",
      "5:\tlearn: 2727.4379448\ttotal: 134ms\tremaining: 89.5ms\n",
      "6:\tlearn: 2653.9535912\ttotal: 154ms\tremaining: 66ms\n",
      "7:\tlearn: 2589.2905271\ttotal: 181ms\tremaining: 45.4ms\n",
      "8:\tlearn: 2524.1951483\ttotal: 202ms\tremaining: 22.5ms\n",
      "9:\tlearn: 2465.9112601\ttotal: 223ms\tremaining: 0us\n",
      "0:\tlearn: 3293.6372831\ttotal: 26.4ms\tremaining: 238ms\n",
      "1:\tlearn: 3147.2876261\ttotal: 52.7ms\tremaining: 211ms\n",
      "2:\tlearn: 3021.4632436\ttotal: 73.8ms\tremaining: 172ms\n",
      "3:\tlearn: 2911.7334345\ttotal: 94.5ms\tremaining: 142ms\n",
      "4:\tlearn: 2812.7613801\ttotal: 115ms\tremaining: 115ms\n",
      "5:\tlearn: 2730.2738337\ttotal: 136ms\tremaining: 90.7ms\n",
      "6:\tlearn: 2651.4967073\ttotal: 158ms\tremaining: 67.6ms\n",
      "7:\tlearn: 2588.3919108\ttotal: 185ms\tremaining: 46.2ms\n",
      "8:\tlearn: 2523.9206409\ttotal: 206ms\tremaining: 22.8ms\n",
      "9:\tlearn: 2466.3394158\ttotal: 227ms\tremaining: 0us\n",
      "0:\tlearn: 3294.6622127\ttotal: 28.2ms\tremaining: 2.51s\n",
      "1:\tlearn: 3145.6043925\ttotal: 54.8ms\tremaining: 2.41s\n",
      "2:\tlearn: 3019.2869870\ttotal: 80.4ms\tremaining: 2.33s\n",
      "3:\tlearn: 2906.4649425\ttotal: 101ms\tremaining: 2.16s\n",
      "4:\tlearn: 2810.9607603\ttotal: 121ms\tremaining: 2.06s\n",
      "5:\tlearn: 2723.5111701\ttotal: 141ms\tremaining: 1.98s\n",
      "6:\tlearn: 2650.1384870\ttotal: 162ms\tremaining: 1.92s\n",
      "7:\tlearn: 2580.3233804\ttotal: 183ms\tremaining: 1.88s\n",
      "8:\tlearn: 2520.1176304\ttotal: 207ms\tremaining: 1.86s\n",
      "9:\tlearn: 2462.5507213\ttotal: 233ms\tremaining: 1.86s\n",
      "10:\tlearn: 2415.4270424\ttotal: 263ms\tremaining: 1.89s\n",
      "11:\tlearn: 2365.4809703\ttotal: 285ms\tremaining: 1.85s\n",
      "12:\tlearn: 2327.6858693\ttotal: 307ms\tremaining: 1.82s\n",
      "13:\tlearn: 2287.9047779\ttotal: 327ms\tremaining: 1.78s\n",
      "14:\tlearn: 2252.3947625\ttotal: 348ms\tremaining: 1.74s\n",
      "15:\tlearn: 2216.7461906\ttotal: 372ms\tremaining: 1.72s\n",
      "16:\tlearn: 2186.7514920\ttotal: 394ms\tremaining: 1.69s\n",
      "17:\tlearn: 2154.8871111\ttotal: 416ms\tremaining: 1.66s\n",
      "18:\tlearn: 2127.8490352\ttotal: 441ms\tremaining: 1.65s\n",
      "19:\tlearn: 2099.1643272\ttotal: 464ms\tremaining: 1.63s\n",
      "20:\tlearn: 2075.8222314\ttotal: 488ms\tremaining: 1.6s\n",
      "21:\tlearn: 2053.9477831\ttotal: 511ms\tremaining: 1.58s\n",
      "22:\tlearn: 2032.6838124\ttotal: 534ms\tremaining: 1.55s\n",
      "23:\tlearn: 2014.7835451\ttotal: 555ms\tremaining: 1.52s\n",
      "24:\tlearn: 1995.6513971\ttotal: 575ms\tremaining: 1.49s\n",
      "25:\tlearn: 1976.2972438\ttotal: 595ms\tremaining: 1.46s\n",
      "26:\tlearn: 1960.4562407\ttotal: 616ms\tremaining: 1.44s\n",
      "27:\tlearn: 1945.0044049\ttotal: 637ms\tremaining: 1.41s\n",
      "28:\tlearn: 1930.6032950\ttotal: 658ms\tremaining: 1.39s\n",
      "29:\tlearn: 1912.6082598\ttotal: 682ms\tremaining: 1.36s\n",
      "30:\tlearn: 1896.2881391\ttotal: 704ms\tremaining: 1.34s\n",
      "31:\tlearn: 1881.9573867\ttotal: 725ms\tremaining: 1.31s\n",
      "32:\tlearn: 1868.2160318\ttotal: 750ms\tremaining: 1.29s\n",
      "33:\tlearn: 1855.9543232\ttotal: 771ms\tremaining: 1.27s\n",
      "34:\tlearn: 1845.6082809\ttotal: 793ms\tremaining: 1.25s\n",
      "35:\tlearn: 1829.3661357\ttotal: 816ms\tremaining: 1.22s\n",
      "36:\tlearn: 1820.7852135\ttotal: 847ms\tremaining: 1.21s\n",
      "37:\tlearn: 1812.3011915\ttotal: 878ms\tremaining: 1.2s\n",
      "38:\tlearn: 1799.9567019\ttotal: 905ms\tremaining: 1.18s\n",
      "39:\tlearn: 1786.5877226\ttotal: 927ms\tremaining: 1.16s\n",
      "40:\tlearn: 1775.8720861\ttotal: 948ms\tremaining: 1.13s\n",
      "41:\tlearn: 1767.9661902\ttotal: 969ms\tremaining: 1.11s\n",
      "42:\tlearn: 1760.6579339\ttotal: 990ms\tremaining: 1.08s\n",
      "43:\tlearn: 1754.1016309\ttotal: 1.01s\tremaining: 1.06s\n",
      "44:\tlearn: 1742.9656967\ttotal: 1.03s\tremaining: 1.03s\n",
      "45:\tlearn: 1736.6638457\ttotal: 1.06s\tremaining: 1.01s\n",
      "46:\tlearn: 1730.8591126\ttotal: 1.08s\tremaining: 987ms\n",
      "47:\tlearn: 1723.2464934\ttotal: 1.1s\tremaining: 964ms\n",
      "48:\tlearn: 1717.6254718\ttotal: 1.13s\tremaining: 944ms\n",
      "49:\tlearn: 1713.0004113\ttotal: 1.15s\tremaining: 920ms\n",
      "50:\tlearn: 1705.8879088\ttotal: 1.17s\tremaining: 896ms\n",
      "51:\tlearn: 1701.3902479\ttotal: 1.19s\tremaining: 872ms\n",
      "52:\tlearn: 1695.6561391\ttotal: 1.22s\tremaining: 848ms\n",
      "53:\tlearn: 1691.2610785\ttotal: 1.24s\tremaining: 825ms\n",
      "54:\tlearn: 1687.4180387\ttotal: 1.26s\tremaining: 801ms\n",
      "55:\tlearn: 1680.9334303\ttotal: 1.28s\tremaining: 778ms\n",
      "56:\tlearn: 1677.4894189\ttotal: 1.3s\tremaining: 754ms\n",
      "57:\tlearn: 1674.0288372\ttotal: 1.33s\tremaining: 732ms\n",
      "58:\tlearn: 1670.1519657\ttotal: 1.35s\tremaining: 709ms\n",
      "59:\tlearn: 1664.3017415\ttotal: 1.38s\tremaining: 689ms\n",
      "60:\tlearn: 1659.4821106\ttotal: 1.41s\tremaining: 668ms\n",
      "61:\tlearn: 1656.7243461\ttotal: 1.43s\tremaining: 644ms\n",
      "62:\tlearn: 1652.0686111\ttotal: 1.45s\tremaining: 620ms\n",
      "63:\tlearn: 1649.5299331\ttotal: 1.47s\tremaining: 597ms\n",
      "64:\tlearn: 1646.7599281\ttotal: 1.49s\tremaining: 573ms\n",
      "65:\tlearn: 1643.8871587\ttotal: 1.51s\tremaining: 551ms\n",
      "66:\tlearn: 1642.0138041\ttotal: 1.53s\tremaining: 527ms\n",
      "67:\tlearn: 1638.2168690\ttotal: 1.56s\tremaining: 504ms\n",
      "68:\tlearn: 1636.0292877\ttotal: 1.58s\tremaining: 480ms\n",
      "69:\tlearn: 1634.0920563\ttotal: 1.6s\tremaining: 457ms\n",
      "70:\tlearn: 1630.6880332\ttotal: 1.62s\tremaining: 434ms\n",
      "71:\tlearn: 1628.5400600\ttotal: 1.64s\tremaining: 410ms\n",
      "72:\tlearn: 1624.2531282\ttotal: 1.66s\tremaining: 387ms\n",
      "73:\tlearn: 1621.4901699\ttotal: 1.68s\tremaining: 364ms\n",
      "74:\tlearn: 1619.6050832\ttotal: 1.7s\tremaining: 341ms\n",
      "75:\tlearn: 1617.9048891\ttotal: 1.72s\tremaining: 318ms\n",
      "76:\tlearn: 1614.1366961\ttotal: 1.75s\tremaining: 295ms\n",
      "77:\tlearn: 1612.1894553\ttotal: 1.77s\tremaining: 272ms\n",
      "78:\tlearn: 1609.4352152\ttotal: 1.79s\tremaining: 249ms\n",
      "79:\tlearn: 1607.9953824\ttotal: 1.81s\tremaining: 226ms\n",
      "80:\tlearn: 1605.7869138\ttotal: 1.83s\tremaining: 204ms\n",
      "81:\tlearn: 1604.4156819\ttotal: 1.85s\tremaining: 181ms\n",
      "82:\tlearn: 1603.1300139\ttotal: 1.87s\tremaining: 158ms\n",
      "83:\tlearn: 1602.0701389\ttotal: 1.9s\tremaining: 136ms\n",
      "84:\tlearn: 1600.2228442\ttotal: 1.92s\tremaining: 113ms\n",
      "85:\tlearn: 1599.1482777\ttotal: 1.94s\tremaining: 90.3ms\n",
      "86:\tlearn: 1598.0668992\ttotal: 1.96s\tremaining: 67.7ms\n",
      "87:\tlearn: 1595.6158346\ttotal: 1.99s\tremaining: 45.1ms\n",
      "88:\tlearn: 1593.6094908\ttotal: 2.01s\tremaining: 22.5ms\n",
      "89:\tlearn: 1592.4235772\ttotal: 2.03s\tremaining: 0us\n",
      "0:\tlearn: 3298.2951263\ttotal: 26.3ms\tremaining: 2.34s\n",
      "1:\tlearn: 3151.1713806\ttotal: 51.3ms\tremaining: 2.26s\n",
      "2:\tlearn: 3024.8717901\ttotal: 72.1ms\tremaining: 2.09s\n",
      "3:\tlearn: 2913.3306264\ttotal: 92.8ms\tremaining: 1.99s\n",
      "4:\tlearn: 2814.5777950\ttotal: 115ms\tremaining: 1.95s\n",
      "5:\tlearn: 2727.4379448\ttotal: 135ms\tremaining: 1.89s\n",
      "6:\tlearn: 2653.9535912\ttotal: 155ms\tremaining: 1.84s\n",
      "7:\tlearn: 2589.2905271\ttotal: 182ms\tremaining: 1.87s\n",
      "8:\tlearn: 2524.1951483\ttotal: 203ms\tremaining: 1.83s\n",
      "9:\tlearn: 2465.9112601\ttotal: 225ms\tremaining: 1.8s\n",
      "10:\tlearn: 2418.1247975\ttotal: 245ms\tremaining: 1.76s\n",
      "11:\tlearn: 2369.6959671\ttotal: 265ms\tremaining: 1.72s\n",
      "12:\tlearn: 2332.0916177\ttotal: 286ms\tremaining: 1.69s\n",
      "13:\tlearn: 2296.9818051\ttotal: 307ms\tremaining: 1.67s\n",
      "14:\tlearn: 2261.3794366\ttotal: 328ms\tremaining: 1.64s\n",
      "15:\tlearn: 2226.8274354\ttotal: 350ms\tremaining: 1.62s\n",
      "16:\tlearn: 2195.4580433\ttotal: 371ms\tremaining: 1.59s\n",
      "17:\tlearn: 2165.7900456\ttotal: 391ms\tremaining: 1.56s\n",
      "18:\tlearn: 2138.4270712\ttotal: 414ms\tremaining: 1.54s\n",
      "19:\tlearn: 2114.5210536\ttotal: 435ms\tremaining: 1.52s\n",
      "20:\tlearn: 2091.0116309\ttotal: 462ms\tremaining: 1.52s\n",
      "21:\tlearn: 2069.8682034\ttotal: 487ms\tremaining: 1.51s\n",
      "22:\tlearn: 2044.8598211\ttotal: 514ms\tremaining: 1.5s\n",
      "23:\tlearn: 2026.1898713\ttotal: 535ms\tremaining: 1.47s\n",
      "24:\tlearn: 2007.8422654\ttotal: 556ms\tremaining: 1.44s\n",
      "25:\tlearn: 1987.8215351\ttotal: 577ms\tremaining: 1.42s\n",
      "26:\tlearn: 1971.8548336\ttotal: 599ms\tremaining: 1.4s\n",
      "27:\tlearn: 1956.3313121\ttotal: 619ms\tremaining: 1.37s\n",
      "28:\tlearn: 1941.4680397\ttotal: 643ms\tremaining: 1.35s\n",
      "29:\tlearn: 1922.0035615\ttotal: 666ms\tremaining: 1.33s\n",
      "30:\tlearn: 1905.8607973\ttotal: 686ms\tremaining: 1.31s\n",
      "31:\tlearn: 1892.0660556\ttotal: 707ms\tremaining: 1.28s\n",
      "32:\tlearn: 1878.8100283\ttotal: 727ms\tremaining: 1.25s\n",
      "33:\tlearn: 1866.5892187\ttotal: 747ms\tremaining: 1.23s\n",
      "34:\tlearn: 1856.3227260\ttotal: 769ms\tremaining: 1.21s\n",
      "35:\tlearn: 1846.0532019\ttotal: 790ms\tremaining: 1.18s\n",
      "36:\tlearn: 1836.6327003\ttotal: 810ms\tremaining: 1.16s\n",
      "37:\tlearn: 1827.4635708\ttotal: 832ms\tremaining: 1.14s\n",
      "38:\tlearn: 1814.7160078\ttotal: 852ms\tremaining: 1.11s\n",
      "39:\tlearn: 1804.9434625\ttotal: 872ms\tremaining: 1.09s\n",
      "40:\tlearn: 1796.9927012\ttotal: 893ms\tremaining: 1.07s\n",
      "41:\tlearn: 1787.4461860\ttotal: 914ms\tremaining: 1.04s\n",
      "42:\tlearn: 1774.3911126\ttotal: 937ms\tremaining: 1.02s\n",
      "43:\tlearn: 1767.2673263\ttotal: 959ms\tremaining: 1s\n",
      "44:\tlearn: 1760.7551332\ttotal: 980ms\tremaining: 980ms\n",
      "45:\tlearn: 1750.0980058\ttotal: 1s\tremaining: 962ms\n",
      "46:\tlearn: 1743.8961216\ttotal: 1.03s\tremaining: 942ms\n",
      "47:\tlearn: 1737.9591199\ttotal: 1.05s\tremaining: 920ms\n",
      "48:\tlearn: 1729.6498054\ttotal: 1.07s\tremaining: 897ms\n",
      "49:\tlearn: 1724.2711671\ttotal: 1.09s\tremaining: 874ms\n",
      "50:\tlearn: 1715.7383640\ttotal: 1.11s\tremaining: 851ms\n",
      "51:\tlearn: 1710.9449501\ttotal: 1.13s\tremaining: 829ms\n",
      "52:\tlearn: 1706.6257161\ttotal: 1.16s\tremaining: 807ms\n",
      "53:\tlearn: 1699.7805952\ttotal: 1.18s\tremaining: 788ms\n",
      "54:\tlearn: 1695.7853863\ttotal: 1.21s\tremaining: 768ms\n",
      "55:\tlearn: 1690.2688283\ttotal: 1.23s\tremaining: 749ms\n",
      "56:\tlearn: 1686.1292537\ttotal: 1.25s\tremaining: 727ms\n",
      "57:\tlearn: 1680.5717835\ttotal: 1.28s\tremaining: 706ms\n",
      "58:\tlearn: 1677.0653350\ttotal: 1.3s\tremaining: 685ms\n",
      "59:\tlearn: 1673.5704069\ttotal: 1.33s\tremaining: 666ms\n",
      "60:\tlearn: 1670.5603561\ttotal: 1.35s\tremaining: 644ms\n",
      "61:\tlearn: 1668.2079921\ttotal: 1.38s\tremaining: 622ms\n",
      "62:\tlearn: 1663.2803921\ttotal: 1.4s\tremaining: 600ms\n",
      "63:\tlearn: 1660.5983180\ttotal: 1.42s\tremaining: 578ms\n",
      "64:\tlearn: 1657.8336907\ttotal: 1.44s\tremaining: 556ms\n",
      "65:\tlearn: 1653.7346781\ttotal: 1.47s\tremaining: 533ms\n",
      "66:\tlearn: 1649.8432629\ttotal: 1.49s\tremaining: 511ms\n",
      "67:\tlearn: 1645.9396658\ttotal: 1.51s\tremaining: 488ms\n",
      "68:\tlearn: 1643.9354051\ttotal: 1.53s\tremaining: 465ms\n",
      "69:\tlearn: 1641.7630077\ttotal: 1.55s\tremaining: 443ms\n",
      "70:\tlearn: 1638.4722842\ttotal: 1.57s\tremaining: 420ms\n",
      "71:\tlearn: 1636.6504426\ttotal: 1.59s\tremaining: 398ms\n",
      "72:\tlearn: 1634.9346970\ttotal: 1.61s\tremaining: 376ms\n",
      "73:\tlearn: 1632.9105932\ttotal: 1.63s\tremaining: 353ms\n",
      "74:\tlearn: 1629.7560285\ttotal: 1.66s\tremaining: 331ms\n",
      "75:\tlearn: 1626.5702503\ttotal: 1.68s\tremaining: 309ms\n",
      "76:\tlearn: 1625.1228782\ttotal: 1.7s\tremaining: 287ms\n",
      "77:\tlearn: 1623.8142815\ttotal: 1.72s\tremaining: 265ms\n",
      "78:\tlearn: 1622.0538182\ttotal: 1.74s\tremaining: 243ms\n",
      "79:\tlearn: 1619.3487512\ttotal: 1.77s\tremaining: 221ms\n",
      "80:\tlearn: 1618.0785869\ttotal: 1.79s\tremaining: 199ms\n",
      "81:\tlearn: 1616.8491131\ttotal: 1.81s\tremaining: 177ms\n",
      "82:\tlearn: 1614.1324597\ttotal: 1.83s\tremaining: 154ms\n",
      "83:\tlearn: 1613.1761615\ttotal: 1.85s\tremaining: 132ms\n",
      "84:\tlearn: 1611.6312355\ttotal: 1.88s\tremaining: 110ms\n",
      "85:\tlearn: 1609.3917412\ttotal: 1.9s\tremaining: 88.3ms\n",
      "86:\tlearn: 1608.3051181\ttotal: 1.92s\tremaining: 66.3ms\n",
      "87:\tlearn: 1607.3975769\ttotal: 1.94s\tremaining: 44.2ms\n",
      "88:\tlearn: 1606.3455567\ttotal: 1.96s\tremaining: 22.1ms\n",
      "89:\tlearn: 1604.6735933\ttotal: 1.99s\tremaining: 0us\n",
      "0:\tlearn: 3293.6372831\ttotal: 39.7ms\tremaining: 3.53s\n",
      "1:\tlearn: 3147.2876261\ttotal: 76.9ms\tremaining: 3.38s\n",
      "2:\tlearn: 3021.4632436\ttotal: 103ms\tremaining: 3s\n",
      "3:\tlearn: 2911.7334345\ttotal: 130ms\tremaining: 2.79s\n",
      "4:\tlearn: 2812.7613801\ttotal: 157ms\tremaining: 2.67s\n",
      "5:\tlearn: 2730.2738337\ttotal: 188ms\tremaining: 2.63s\n",
      "6:\tlearn: 2651.4967073\ttotal: 220ms\tremaining: 2.61s\n",
      "7:\tlearn: 2588.3919108\ttotal: 260ms\tremaining: 2.67s\n",
      "8:\tlearn: 2523.9206409\ttotal: 288ms\tremaining: 2.59s\n",
      "9:\tlearn: 2466.3394158\ttotal: 315ms\tremaining: 2.52s\n",
      "10:\tlearn: 2417.2611766\ttotal: 341ms\tremaining: 2.45s\n",
      "11:\tlearn: 2370.7536932\ttotal: 363ms\tremaining: 2.36s\n",
      "12:\tlearn: 2333.6116768\ttotal: 400ms\tremaining: 2.37s\n",
      "13:\tlearn: 2294.3641574\ttotal: 432ms\tremaining: 2.35s\n",
      "14:\tlearn: 2256.7361913\ttotal: 466ms\tremaining: 2.33s\n",
      "15:\tlearn: 2221.4909152\ttotal: 489ms\tremaining: 2.26s\n",
      "16:\tlearn: 2189.4190645\ttotal: 510ms\tremaining: 2.19s\n",
      "17:\tlearn: 2160.2211118\ttotal: 530ms\tremaining: 2.12s\n",
      "18:\tlearn: 2131.4725678\ttotal: 551ms\tremaining: 2.06s\n",
      "19:\tlearn: 2103.6377892\ttotal: 573ms\tremaining: 2s\n",
      "20:\tlearn: 2080.3361494\ttotal: 594ms\tremaining: 1.95s\n",
      "21:\tlearn: 2057.5068402\ttotal: 616ms\tremaining: 1.9s\n",
      "22:\tlearn: 2037.6861600\ttotal: 637ms\tremaining: 1.85s\n",
      "23:\tlearn: 2019.3070436\ttotal: 658ms\tremaining: 1.81s\n",
      "24:\tlearn: 2000.5413645\ttotal: 682ms\tremaining: 1.77s\n",
      "25:\tlearn: 1982.6764574\ttotal: 703ms\tremaining: 1.73s\n",
      "26:\tlearn: 1966.6198227\ttotal: 724ms\tremaining: 1.69s\n",
      "27:\tlearn: 1946.9218791\ttotal: 744ms\tremaining: 1.65s\n",
      "28:\tlearn: 1931.6436059\ttotal: 764ms\tremaining: 1.61s\n",
      "29:\tlearn: 1917.6208735\ttotal: 786ms\tremaining: 1.57s\n",
      "30:\tlearn: 1899.8154874\ttotal: 809ms\tremaining: 1.54s\n",
      "31:\tlearn: 1885.1873710\ttotal: 829ms\tremaining: 1.5s\n",
      "32:\tlearn: 1871.8707349\ttotal: 850ms\tremaining: 1.47s\n",
      "33:\tlearn: 1860.0598626\ttotal: 871ms\tremaining: 1.43s\n",
      "34:\tlearn: 1848.5133483\ttotal: 892ms\tremaining: 1.4s\n",
      "35:\tlearn: 1838.7634718\ttotal: 913ms\tremaining: 1.37s\n",
      "36:\tlearn: 1830.1507751\ttotal: 936ms\tremaining: 1.34s\n",
      "37:\tlearn: 1821.4365071\ttotal: 957ms\tremaining: 1.31s\n",
      "38:\tlearn: 1811.4799634\ttotal: 977ms\tremaining: 1.28s\n",
      "39:\tlearn: 1802.8921803\ttotal: 998ms\tremaining: 1.25s\n",
      "40:\tlearn: 1795.4045521\ttotal: 1.02s\tremaining: 1.22s\n",
      "41:\tlearn: 1787.3176089\ttotal: 1.04s\tremaining: 1.19s\n",
      "42:\tlearn: 1780.0988753\ttotal: 1.06s\tremaining: 1.16s\n",
      "43:\tlearn: 1768.5745122\ttotal: 1.08s\tremaining: 1.13s\n",
      "44:\tlearn: 1761.7771642\ttotal: 1.1s\tremaining: 1.1s\n",
      "45:\tlearn: 1754.1042828\ttotal: 1.12s\tremaining: 1.07s\n",
      "46:\tlearn: 1748.6207034\ttotal: 1.14s\tremaining: 1.05s\n",
      "47:\tlearn: 1739.1601597\ttotal: 1.17s\tremaining: 1.02s\n",
      "48:\tlearn: 1734.2072666\ttotal: 1.19s\tremaining: 996ms\n",
      "49:\tlearn: 1729.0567125\ttotal: 1.21s\tremaining: 969ms\n",
      "50:\tlearn: 1723.9368157\ttotal: 1.23s\tremaining: 941ms\n",
      "51:\tlearn: 1716.5127774\ttotal: 1.25s\tremaining: 915ms\n",
      "52:\tlearn: 1712.2343161\ttotal: 1.27s\tremaining: 889ms\n",
      "53:\tlearn: 1708.7590795\ttotal: 1.29s\tremaining: 862ms\n",
      "54:\tlearn: 1705.2046896\ttotal: 1.31s\tremaining: 837ms\n",
      "55:\tlearn: 1699.8249691\ttotal: 1.34s\tremaining: 812ms\n",
      "56:\tlearn: 1694.1627356\ttotal: 1.36s\tremaining: 790ms\n",
      "57:\tlearn: 1690.6012943\ttotal: 1.39s\tremaining: 766ms\n",
      "58:\tlearn: 1686.8776987\ttotal: 1.41s\tremaining: 742ms\n",
      "59:\tlearn: 1680.9452367\ttotal: 1.44s\tremaining: 719ms\n",
      "60:\tlearn: 1677.8378952\ttotal: 1.46s\tremaining: 695ms\n",
      "61:\tlearn: 1675.4874544\ttotal: 1.48s\tremaining: 670ms\n",
      "62:\tlearn: 1672.8418366\ttotal: 1.5s\tremaining: 645ms\n",
      "63:\tlearn: 1669.7854530\ttotal: 1.53s\tremaining: 620ms\n",
      "64:\tlearn: 1667.3335184\ttotal: 1.55s\tremaining: 597ms\n",
      "65:\tlearn: 1665.0225025\ttotal: 1.57s\tremaining: 572ms\n",
      "66:\tlearn: 1660.5146311\ttotal: 1.59s\tremaining: 548ms\n",
      "67:\tlearn: 1656.9002128\ttotal: 1.62s\tremaining: 523ms\n",
      "68:\tlearn: 1654.0803086\ttotal: 1.64s\tremaining: 499ms\n",
      "69:\tlearn: 1651.9576551\ttotal: 1.66s\tremaining: 474ms\n",
      "70:\tlearn: 1648.5231420\ttotal: 1.68s\tremaining: 450ms\n",
      "71:\tlearn: 1644.6457100\ttotal: 1.7s\tremaining: 426ms\n",
      "72:\tlearn: 1643.0031723\ttotal: 1.72s\tremaining: 401ms\n",
      "73:\tlearn: 1641.4103327\ttotal: 1.74s\tremaining: 377ms\n",
      "74:\tlearn: 1638.5044751\ttotal: 1.76s\tremaining: 353ms\n",
      "75:\tlearn: 1637.2788969\ttotal: 1.78s\tremaining: 329ms\n",
      "76:\tlearn: 1634.0261287\ttotal: 1.8s\tremaining: 305ms\n",
      "77:\tlearn: 1633.0150706\ttotal: 1.83s\tremaining: 281ms\n",
      "78:\tlearn: 1631.1231509\ttotal: 1.85s\tremaining: 257ms\n",
      "79:\tlearn: 1628.3115864\ttotal: 1.87s\tremaining: 234ms\n",
      "80:\tlearn: 1626.9210223\ttotal: 1.89s\tremaining: 210ms\n",
      "81:\tlearn: 1624.4604520\ttotal: 1.92s\tremaining: 187ms\n",
      "82:\tlearn: 1623.2701286\ttotal: 1.94s\tremaining: 163ms\n",
      "83:\tlearn: 1621.6526538\ttotal: 1.96s\tremaining: 140ms\n",
      "84:\tlearn: 1620.7694430\ttotal: 1.98s\tremaining: 117ms\n",
      "85:\tlearn: 1618.2974572\ttotal: 2.01s\tremaining: 93.5ms\n",
      "86:\tlearn: 1617.2263158\ttotal: 2.04s\tremaining: 70.4ms\n",
      "87:\tlearn: 1616.0235334\ttotal: 2.07s\tremaining: 47ms\n",
      "88:\tlearn: 1614.6484931\ttotal: 2.09s\tremaining: 23.5ms\n",
      "89:\tlearn: 1612.6672323\ttotal: 2.11s\tremaining: 0us\n",
      "0:\tlearn: 3294.6622127\ttotal: 26.2ms\tremaining: 2.07s\n",
      "1:\tlearn: 3145.6043925\ttotal: 53.9ms\tremaining: 2.1s\n",
      "2:\tlearn: 3019.2869870\ttotal: 79.4ms\tremaining: 2.04s\n",
      "3:\tlearn: 2906.4649425\ttotal: 99.1ms\tremaining: 1.88s\n",
      "4:\tlearn: 2810.9607603\ttotal: 119ms\tremaining: 1.78s\n",
      "5:\tlearn: 2723.5111701\ttotal: 138ms\tremaining: 1.71s\n",
      "6:\tlearn: 2650.1384870\ttotal: 159ms\tremaining: 1.66s\n",
      "7:\tlearn: 2580.3233804\ttotal: 179ms\tremaining: 1.61s\n",
      "8:\tlearn: 2520.1176304\ttotal: 201ms\tremaining: 1.58s\n",
      "9:\tlearn: 2462.5507213\ttotal: 221ms\tremaining: 1.54s\n",
      "10:\tlearn: 2415.4270424\ttotal: 241ms\tremaining: 1.51s\n",
      "11:\tlearn: 2365.4809703\ttotal: 261ms\tremaining: 1.48s\n",
      "12:\tlearn: 2327.6858693\ttotal: 281ms\tremaining: 1.45s\n",
      "13:\tlearn: 2287.9047779\ttotal: 301ms\tremaining: 1.42s\n",
      "14:\tlearn: 2252.3947625\ttotal: 321ms\tremaining: 1.39s\n",
      "15:\tlearn: 2216.7461906\ttotal: 347ms\tremaining: 1.39s\n",
      "16:\tlearn: 2186.7514920\ttotal: 370ms\tremaining: 1.37s\n",
      "17:\tlearn: 2154.8871111\ttotal: 391ms\tremaining: 1.35s\n",
      "18:\tlearn: 2127.8490352\ttotal: 410ms\tremaining: 1.32s\n",
      "19:\tlearn: 2099.1643272\ttotal: 433ms\tremaining: 1.3s\n",
      "20:\tlearn: 2075.8222314\ttotal: 457ms\tremaining: 1.28s\n",
      "21:\tlearn: 2053.9477831\ttotal: 477ms\tremaining: 1.26s\n",
      "22:\tlearn: 2032.6838124\ttotal: 498ms\tremaining: 1.23s\n",
      "23:\tlearn: 2014.7835451\ttotal: 519ms\tremaining: 1.21s\n",
      "24:\tlearn: 1995.6513971\ttotal: 544ms\tremaining: 1.2s\n",
      "25:\tlearn: 1976.2972438\ttotal: 567ms\tremaining: 1.18s\n",
      "26:\tlearn: 1960.4562407\ttotal: 587ms\tremaining: 1.15s\n",
      "27:\tlearn: 1945.0044049\ttotal: 608ms\tremaining: 1.13s\n",
      "28:\tlearn: 1930.6032950\ttotal: 627ms\tremaining: 1.1s\n",
      "29:\tlearn: 1912.6082598\ttotal: 648ms\tremaining: 1.08s\n",
      "30:\tlearn: 1896.2881391\ttotal: 670ms\tremaining: 1.06s\n",
      "31:\tlearn: 1881.9573867\ttotal: 693ms\tremaining: 1.04s\n",
      "32:\tlearn: 1868.2160318\ttotal: 716ms\tremaining: 1.02s\n",
      "33:\tlearn: 1855.9543232\ttotal: 739ms\tremaining: 999ms\n",
      "34:\tlearn: 1845.6082809\ttotal: 761ms\tremaining: 979ms\n",
      "35:\tlearn: 1829.3661357\ttotal: 783ms\tremaining: 957ms\n",
      "36:\tlearn: 1820.7852135\ttotal: 805ms\tremaining: 935ms\n",
      "37:\tlearn: 1812.3011915\ttotal: 834ms\tremaining: 922ms\n",
      "38:\tlearn: 1799.9567019\ttotal: 859ms\tremaining: 903ms\n",
      "39:\tlearn: 1786.5877226\ttotal: 880ms\tremaining: 880ms\n",
      "40:\tlearn: 1775.8720861\ttotal: 899ms\tremaining: 855ms\n",
      "41:\tlearn: 1767.9661902\ttotal: 919ms\tremaining: 832ms\n",
      "42:\tlearn: 1760.6579339\ttotal: 938ms\tremaining: 807ms\n",
      "43:\tlearn: 1754.1016309\ttotal: 962ms\tremaining: 787ms\n",
      "44:\tlearn: 1742.9656967\ttotal: 983ms\tremaining: 765ms\n",
      "45:\tlearn: 1736.6638457\ttotal: 1s\tremaining: 742ms\n",
      "46:\tlearn: 1730.8591126\ttotal: 1.03s\tremaining: 720ms\n",
      "47:\tlearn: 1723.2464934\ttotal: 1.05s\tremaining: 699ms\n",
      "48:\tlearn: 1717.6254718\ttotal: 1.07s\tremaining: 681ms\n",
      "49:\tlearn: 1713.0004113\ttotal: 1.1s\tremaining: 659ms\n",
      "50:\tlearn: 1705.8879088\ttotal: 1.12s\tremaining: 639ms\n",
      "51:\tlearn: 1701.3902479\ttotal: 1.15s\tremaining: 618ms\n",
      "52:\tlearn: 1695.6561391\ttotal: 1.17s\tremaining: 597ms\n",
      "53:\tlearn: 1691.2610785\ttotal: 1.2s\tremaining: 575ms\n",
      "54:\tlearn: 1687.4180387\ttotal: 1.22s\tremaining: 554ms\n",
      "55:\tlearn: 1680.9334303\ttotal: 1.24s\tremaining: 533ms\n",
      "56:\tlearn: 1677.4894189\ttotal: 1.27s\tremaining: 512ms\n",
      "57:\tlearn: 1674.0288372\ttotal: 1.29s\tremaining: 489ms\n",
      "58:\tlearn: 1670.1519657\ttotal: 1.31s\tremaining: 467ms\n",
      "59:\tlearn: 1664.3017415\ttotal: 1.34s\tremaining: 448ms\n",
      "60:\tlearn: 1659.4821106\ttotal: 1.37s\tremaining: 427ms\n",
      "61:\tlearn: 1656.7243461\ttotal: 1.4s\tremaining: 405ms\n",
      "62:\tlearn: 1652.0686111\ttotal: 1.42s\tremaining: 383ms\n",
      "63:\tlearn: 1649.5299331\ttotal: 1.45s\tremaining: 362ms\n",
      "64:\tlearn: 1646.7599281\ttotal: 1.47s\tremaining: 339ms\n",
      "65:\tlearn: 1643.8871587\ttotal: 1.49s\tremaining: 317ms\n",
      "66:\tlearn: 1642.0138041\ttotal: 1.51s\tremaining: 294ms\n",
      "67:\tlearn: 1638.2168690\ttotal: 1.54s\tremaining: 272ms\n",
      "68:\tlearn: 1636.0292877\ttotal: 1.57s\tremaining: 250ms\n",
      "69:\tlearn: 1634.0920563\ttotal: 1.59s\tremaining: 228ms\n",
      "70:\tlearn: 1630.6880332\ttotal: 1.62s\tremaining: 205ms\n",
      "71:\tlearn: 1628.5400600\ttotal: 1.64s\tremaining: 182ms\n",
      "72:\tlearn: 1624.2531282\ttotal: 1.66s\tremaining: 159ms\n",
      "73:\tlearn: 1621.4901699\ttotal: 1.69s\tremaining: 137ms\n",
      "74:\tlearn: 1619.6050832\ttotal: 1.71s\tremaining: 114ms\n",
      "75:\tlearn: 1617.9048891\ttotal: 1.73s\tremaining: 91.2ms\n",
      "76:\tlearn: 1614.1366961\ttotal: 1.76s\tremaining: 68.6ms\n",
      "77:\tlearn: 1612.1894553\ttotal: 1.79s\tremaining: 45.8ms\n",
      "78:\tlearn: 1609.4352152\ttotal: 1.81s\tremaining: 22.9ms\n",
      "79:\tlearn: 1607.9953824\ttotal: 1.83s\tremaining: 0us\n",
      "0:\tlearn: 3298.2951263\ttotal: 29.6ms\tremaining: 2.34s\n",
      "1:\tlearn: 3151.1713806\ttotal: 63.3ms\tremaining: 2.47s\n",
      "2:\tlearn: 3024.8717901\ttotal: 85ms\tremaining: 2.18s\n",
      "3:\tlearn: 2913.3306264\ttotal: 105ms\tremaining: 2s\n",
      "4:\tlearn: 2814.5777950\ttotal: 129ms\tremaining: 1.93s\n",
      "5:\tlearn: 2727.4379448\ttotal: 176ms\tremaining: 2.17s\n",
      "6:\tlearn: 2653.9535912\ttotal: 197ms\tremaining: 2.06s\n",
      "7:\tlearn: 2589.2905271\ttotal: 276ms\tremaining: 2.48s\n",
      "8:\tlearn: 2524.1951483\ttotal: 358ms\tremaining: 2.82s\n",
      "9:\tlearn: 2465.9112601\ttotal: 388ms\tremaining: 2.72s\n",
      "10:\tlearn: 2418.1247975\ttotal: 456ms\tremaining: 2.86s\n",
      "11:\tlearn: 2369.6959671\ttotal: 479ms\tremaining: 2.71s\n",
      "12:\tlearn: 2332.0916177\ttotal: 504ms\tremaining: 2.6s\n",
      "13:\tlearn: 2296.9818051\ttotal: 526ms\tremaining: 2.48s\n",
      "14:\tlearn: 2261.3794366\ttotal: 547ms\tremaining: 2.37s\n",
      "15:\tlearn: 2226.8274354\ttotal: 569ms\tremaining: 2.27s\n",
      "16:\tlearn: 2195.4580433\ttotal: 590ms\tremaining: 2.19s\n",
      "17:\tlearn: 2165.7900456\ttotal: 611ms\tremaining: 2.1s\n",
      "18:\tlearn: 2138.4270712\ttotal: 632ms\tremaining: 2.03s\n",
      "19:\tlearn: 2114.5210536\ttotal: 687ms\tremaining: 2.06s\n",
      "20:\tlearn: 2091.0116309\ttotal: 709ms\tremaining: 1.99s\n",
      "21:\tlearn: 2069.8682034\ttotal: 731ms\tremaining: 1.93s\n",
      "22:\tlearn: 2044.8598211\ttotal: 753ms\tremaining: 1.86s\n",
      "23:\tlearn: 2026.1898713\ttotal: 774ms\tremaining: 1.81s\n",
      "24:\tlearn: 2007.8422654\ttotal: 797ms\tremaining: 1.75s\n",
      "25:\tlearn: 1987.8215351\ttotal: 819ms\tremaining: 1.7s\n",
      "26:\tlearn: 1971.8548336\ttotal: 842ms\tremaining: 1.65s\n",
      "27:\tlearn: 1956.3313121\ttotal: 862ms\tremaining: 1.6s\n",
      "28:\tlearn: 1941.4680397\ttotal: 886ms\tremaining: 1.56s\n",
      "29:\tlearn: 1922.0035615\ttotal: 909ms\tremaining: 1.51s\n",
      "30:\tlearn: 1905.8607973\ttotal: 931ms\tremaining: 1.47s\n",
      "31:\tlearn: 1892.0660556\ttotal: 953ms\tremaining: 1.43s\n",
      "32:\tlearn: 1878.8100283\ttotal: 981ms\tremaining: 1.4s\n",
      "33:\tlearn: 1866.5892187\ttotal: 1.01s\tremaining: 1.37s\n",
      "34:\tlearn: 1856.3227260\ttotal: 1.03s\tremaining: 1.33s\n",
      "35:\tlearn: 1846.0532019\ttotal: 1.05s\tremaining: 1.29s\n",
      "36:\tlearn: 1836.6327003\ttotal: 1.08s\tremaining: 1.26s\n",
      "37:\tlearn: 1827.4635708\ttotal: 1.11s\tremaining: 1.23s\n",
      "38:\tlearn: 1814.7160078\ttotal: 1.14s\tremaining: 1.19s\n",
      "39:\tlearn: 1804.9434625\ttotal: 1.15s\tremaining: 1.15s\n",
      "40:\tlearn: 1796.9927012\ttotal: 1.18s\tremaining: 1.12s\n",
      "41:\tlearn: 1787.4461860\ttotal: 1.2s\tremaining: 1.08s\n",
      "42:\tlearn: 1774.3911126\ttotal: 1.22s\tremaining: 1.05s\n",
      "43:\tlearn: 1767.2673263\ttotal: 1.24s\tremaining: 1.01s\n",
      "44:\tlearn: 1760.7551332\ttotal: 1.26s\tremaining: 978ms\n",
      "45:\tlearn: 1750.0980058\ttotal: 1.28s\tremaining: 945ms\n",
      "46:\tlearn: 1743.8961216\ttotal: 1.3s\tremaining: 913ms\n",
      "47:\tlearn: 1737.9591199\ttotal: 1.32s\tremaining: 881ms\n",
      "48:\tlearn: 1729.6498054\ttotal: 1.34s\tremaining: 849ms\n",
      "49:\tlearn: 1724.2711671\ttotal: 1.36s\tremaining: 817ms\n",
      "50:\tlearn: 1715.7383640\ttotal: 1.38s\tremaining: 787ms\n",
      "51:\tlearn: 1710.9449501\ttotal: 1.41s\tremaining: 757ms\n",
      "52:\tlearn: 1706.6257161\ttotal: 1.43s\tremaining: 727ms\n",
      "53:\tlearn: 1699.7805952\ttotal: 1.46s\tremaining: 701ms\n",
      "54:\tlearn: 1695.7853863\ttotal: 1.48s\tremaining: 673ms\n",
      "55:\tlearn: 1690.2688283\ttotal: 1.5s\tremaining: 644ms\n",
      "56:\tlearn: 1686.1292537\ttotal: 1.53s\tremaining: 616ms\n",
      "57:\tlearn: 1680.5717835\ttotal: 1.55s\tremaining: 588ms\n",
      "58:\tlearn: 1677.0653350\ttotal: 1.57s\tremaining: 559ms\n",
      "59:\tlearn: 1673.5704069\ttotal: 1.59s\tremaining: 531ms\n",
      "60:\tlearn: 1670.5603561\ttotal: 1.61s\tremaining: 502ms\n",
      "61:\tlearn: 1668.2079921\ttotal: 1.63s\tremaining: 474ms\n",
      "62:\tlearn: 1663.2803921\ttotal: 1.65s\tremaining: 446ms\n",
      "63:\tlearn: 1660.5983180\ttotal: 1.67s\tremaining: 419ms\n",
      "64:\tlearn: 1657.8336907\ttotal: 1.69s\tremaining: 391ms\n",
      "65:\tlearn: 1653.7346781\ttotal: 1.72s\tremaining: 364ms\n",
      "66:\tlearn: 1649.8432629\ttotal: 1.74s\tremaining: 338ms\n",
      "67:\tlearn: 1645.9396658\ttotal: 1.76s\tremaining: 311ms\n",
      "68:\tlearn: 1643.9354051\ttotal: 1.78s\tremaining: 284ms\n",
      "69:\tlearn: 1641.7630077\ttotal: 1.81s\tremaining: 258ms\n",
      "70:\tlearn: 1638.4722842\ttotal: 1.83s\tremaining: 232ms\n",
      "71:\tlearn: 1636.6504426\ttotal: 1.85s\tremaining: 206ms\n",
      "72:\tlearn: 1634.9346970\ttotal: 1.87s\tremaining: 180ms\n",
      "73:\tlearn: 1632.9105932\ttotal: 1.89s\tremaining: 154ms\n",
      "74:\tlearn: 1629.7560285\ttotal: 1.92s\tremaining: 128ms\n",
      "75:\tlearn: 1626.5702503\ttotal: 1.94s\tremaining: 102ms\n",
      "76:\tlearn: 1625.1228782\ttotal: 1.96s\tremaining: 76.4ms\n",
      "77:\tlearn: 1623.8142815\ttotal: 1.98s\tremaining: 50.8ms\n",
      "78:\tlearn: 1622.0538182\ttotal: 2s\tremaining: 25.4ms\n",
      "79:\tlearn: 1619.3487512\ttotal: 2.03s\tremaining: 0us\n",
      "0:\tlearn: 3293.6372831\ttotal: 27.2ms\tremaining: 2.15s\n",
      "1:\tlearn: 3147.2876261\ttotal: 54.6ms\tremaining: 2.13s\n",
      "2:\tlearn: 3021.4632436\ttotal: 75.5ms\tremaining: 1.94s\n",
      "3:\tlearn: 2911.7334345\ttotal: 96.1ms\tremaining: 1.82s\n",
      "4:\tlearn: 2812.7613801\ttotal: 117ms\tremaining: 1.75s\n",
      "5:\tlearn: 2730.2738337\ttotal: 137ms\tremaining: 1.69s\n",
      "6:\tlearn: 2651.4967073\ttotal: 158ms\tremaining: 1.65s\n",
      "7:\tlearn: 2588.3919108\ttotal: 187ms\tremaining: 1.68s\n",
      "8:\tlearn: 2523.9206409\ttotal: 209ms\tremaining: 1.65s\n",
      "9:\tlearn: 2466.3394158\ttotal: 241ms\tremaining: 1.68s\n",
      "10:\tlearn: 2417.2611766\ttotal: 269ms\tremaining: 1.69s\n",
      "11:\tlearn: 2370.7536932\ttotal: 295ms\tremaining: 1.67s\n",
      "12:\tlearn: 2333.6116768\ttotal: 316ms\tremaining: 1.63s\n",
      "13:\tlearn: 2294.3641574\ttotal: 338ms\tremaining: 1.59s\n",
      "14:\tlearn: 2256.7361913\ttotal: 362ms\tremaining: 1.57s\n",
      "15:\tlearn: 2221.4909152\ttotal: 384ms\tremaining: 1.53s\n",
      "16:\tlearn: 2189.4190645\ttotal: 406ms\tremaining: 1.5s\n",
      "17:\tlearn: 2160.2211118\ttotal: 428ms\tremaining: 1.47s\n",
      "18:\tlearn: 2131.4725678\ttotal: 449ms\tremaining: 1.44s\n",
      "19:\tlearn: 2103.6377892\ttotal: 471ms\tremaining: 1.41s\n",
      "20:\tlearn: 2080.3361494\ttotal: 493ms\tremaining: 1.38s\n",
      "21:\tlearn: 2057.5068402\ttotal: 515ms\tremaining: 1.36s\n",
      "22:\tlearn: 2037.6861600\ttotal: 536ms\tremaining: 1.33s\n",
      "23:\tlearn: 2019.3070436\ttotal: 563ms\tremaining: 1.31s\n",
      "24:\tlearn: 2000.5413645\ttotal: 585ms\tremaining: 1.29s\n",
      "25:\tlearn: 1982.6764574\ttotal: 608ms\tremaining: 1.26s\n",
      "26:\tlearn: 1966.6198227\ttotal: 629ms\tremaining: 1.24s\n",
      "27:\tlearn: 1946.9218791\ttotal: 651ms\tremaining: 1.21s\n",
      "28:\tlearn: 1931.6436059\ttotal: 671ms\tremaining: 1.18s\n",
      "29:\tlearn: 1917.6208735\ttotal: 692ms\tremaining: 1.15s\n",
      "30:\tlearn: 1899.8154874\ttotal: 714ms\tremaining: 1.13s\n",
      "31:\tlearn: 1885.1873710\ttotal: 735ms\tremaining: 1.1s\n",
      "32:\tlearn: 1871.8707349\ttotal: 757ms\tremaining: 1.08s\n",
      "33:\tlearn: 1860.0598626\ttotal: 777ms\tremaining: 1.05s\n",
      "34:\tlearn: 1848.5133483\ttotal: 804ms\tremaining: 1.03s\n",
      "35:\tlearn: 1838.7634718\ttotal: 829ms\tremaining: 1.01s\n",
      "36:\tlearn: 1830.1507751\ttotal: 851ms\tremaining: 989ms\n",
      "37:\tlearn: 1821.4365071\ttotal: 871ms\tremaining: 963ms\n",
      "38:\tlearn: 1811.4799634\ttotal: 891ms\tremaining: 937ms\n",
      "39:\tlearn: 1802.8921803\ttotal: 912ms\tremaining: 912ms\n",
      "40:\tlearn: 1795.4045521\ttotal: 936ms\tremaining: 891ms\n",
      "41:\tlearn: 1787.3176089\ttotal: 957ms\tremaining: 866ms\n",
      "42:\tlearn: 1780.0988753\ttotal: 977ms\tremaining: 841ms\n",
      "43:\tlearn: 1768.5745122\ttotal: 999ms\tremaining: 817ms\n",
      "44:\tlearn: 1761.7771642\ttotal: 1.02s\tremaining: 793ms\n",
      "45:\tlearn: 1754.1042828\ttotal: 1.04s\tremaining: 771ms\n",
      "46:\tlearn: 1748.6207034\ttotal: 1.06s\tremaining: 747ms\n",
      "47:\tlearn: 1739.1601597\ttotal: 1.09s\tremaining: 727ms\n",
      "48:\tlearn: 1734.2072666\ttotal: 1.12s\tremaining: 708ms\n",
      "49:\tlearn: 1729.0567125\ttotal: 1.15s\tremaining: 689ms\n",
      "50:\tlearn: 1723.9368157\ttotal: 1.18s\tremaining: 669ms\n",
      "51:\tlearn: 1716.5127774\ttotal: 1.2s\tremaining: 647ms\n",
      "52:\tlearn: 1712.2343161\ttotal: 1.23s\tremaining: 626ms\n",
      "53:\tlearn: 1708.7590795\ttotal: 1.26s\tremaining: 605ms\n",
      "54:\tlearn: 1705.2046896\ttotal: 1.28s\tremaining: 583ms\n",
      "55:\tlearn: 1699.8249691\ttotal: 1.31s\tremaining: 560ms\n",
      "56:\tlearn: 1694.1627356\ttotal: 1.33s\tremaining: 538ms\n",
      "57:\tlearn: 1690.6012943\ttotal: 1.36s\tremaining: 516ms\n",
      "58:\tlearn: 1686.8776987\ttotal: 1.39s\tremaining: 494ms\n",
      "59:\tlearn: 1680.9452367\ttotal: 1.42s\tremaining: 474ms\n",
      "60:\tlearn: 1677.8378952\ttotal: 1.45s\tremaining: 453ms\n",
      "61:\tlearn: 1675.4874544\ttotal: 1.49s\tremaining: 431ms\n",
      "62:\tlearn: 1672.8418366\ttotal: 1.51s\tremaining: 407ms\n",
      "63:\tlearn: 1669.7854530\ttotal: 1.53s\tremaining: 383ms\n",
      "64:\tlearn: 1667.3335184\ttotal: 1.55s\tremaining: 358ms\n",
      "65:\tlearn: 1665.0225025\ttotal: 1.57s\tremaining: 333ms\n",
      "66:\tlearn: 1660.5146311\ttotal: 1.6s\tremaining: 311ms\n",
      "67:\tlearn: 1656.9002128\ttotal: 1.62s\tremaining: 287ms\n",
      "68:\tlearn: 1654.0803086\ttotal: 1.65s\tremaining: 263ms\n",
      "69:\tlearn: 1651.9576551\ttotal: 1.67s\tremaining: 238ms\n",
      "70:\tlearn: 1648.5231420\ttotal: 1.69s\tremaining: 214ms\n",
      "71:\tlearn: 1644.6457100\ttotal: 1.71s\tremaining: 190ms\n",
      "72:\tlearn: 1643.0031723\ttotal: 1.73s\tremaining: 166ms\n",
      "73:\tlearn: 1641.4103327\ttotal: 1.76s\tremaining: 142ms\n",
      "74:\tlearn: 1638.5044751\ttotal: 1.79s\tremaining: 119ms\n",
      "75:\tlearn: 1637.2788969\ttotal: 1.81s\tremaining: 95.2ms\n",
      "76:\tlearn: 1634.0261287\ttotal: 1.84s\tremaining: 71.7ms\n",
      "77:\tlearn: 1633.0150706\ttotal: 1.86s\tremaining: 47.8ms\n",
      "78:\tlearn: 1631.1231509\ttotal: 1.89s\tremaining: 24ms\n",
      "79:\tlearn: 1628.3115864\ttotal: 1.93s\tremaining: 0us\n",
      "0:\tlearn: 2992.5361673\ttotal: 32.8ms\tremaining: 2.27s\n",
      "1:\tlearn: 2681.8494917\ttotal: 67.4ms\tremaining: 2.29s\n",
      "2:\tlearn: 2489.6136353\ttotal: 106ms\tremaining: 2.37s\n",
      "3:\tlearn: 2315.9329647\ttotal: 132ms\tremaining: 2.18s\n",
      "4:\tlearn: 2213.4933667\ttotal: 157ms\tremaining: 2.04s\n",
      "5:\tlearn: 2129.5158200\ttotal: 182ms\tremaining: 1.94s\n",
      "6:\tlearn: 2053.7056418\ttotal: 205ms\tremaining: 1.84s\n",
      "7:\tlearn: 2002.4622694\ttotal: 229ms\tremaining: 1.78s\n",
      "8:\tlearn: 1954.0217514\ttotal: 252ms\tremaining: 1.71s\n",
      "9:\tlearn: 1892.2534745\ttotal: 274ms\tremaining: 1.64s\n",
      "10:\tlearn: 1852.5855483\ttotal: 296ms\tremaining: 1.59s\n",
      "11:\tlearn: 1822.2893565\ttotal: 316ms\tremaining: 1.53s\n",
      "12:\tlearn: 1798.4967377\ttotal: 338ms\tremaining: 1.48s\n",
      "13:\tlearn: 1759.9442704\ttotal: 360ms\tremaining: 1.44s\n",
      "14:\tlearn: 1736.4255831\ttotal: 380ms\tremaining: 1.39s\n",
      "15:\tlearn: 1715.1407088\ttotal: 401ms\tremaining: 1.35s\n",
      "16:\tlearn: 1693.8207045\ttotal: 422ms\tremaining: 1.31s\n",
      "17:\tlearn: 1682.7720957\ttotal: 443ms\tremaining: 1.28s\n",
      "18:\tlearn: 1672.1044306\ttotal: 464ms\tremaining: 1.25s\n",
      "19:\tlearn: 1663.4909440\ttotal: 486ms\tremaining: 1.21s\n",
      "20:\tlearn: 1650.9891235\ttotal: 507ms\tremaining: 1.18s\n",
      "21:\tlearn: 1638.9870647\ttotal: 529ms\tremaining: 1.15s\n",
      "22:\tlearn: 1633.5384318\ttotal: 549ms\tremaining: 1.12s\n",
      "23:\tlearn: 1626.7569331\ttotal: 571ms\tremaining: 1.09s\n",
      "24:\tlearn: 1620.7631384\ttotal: 593ms\tremaining: 1.07s\n",
      "25:\tlearn: 1615.5970983\ttotal: 615ms\tremaining: 1.04s\n",
      "26:\tlearn: 1611.9331280\ttotal: 638ms\tremaining: 1.01s\n",
      "27:\tlearn: 1604.9693680\ttotal: 660ms\tremaining: 989ms\n",
      "28:\tlearn: 1600.3955590\ttotal: 680ms\tremaining: 962ms\n",
      "29:\tlearn: 1597.5582639\ttotal: 702ms\tremaining: 936ms\n",
      "30:\tlearn: 1591.3933398\ttotal: 728ms\tremaining: 916ms\n",
      "31:\tlearn: 1588.3136356\ttotal: 751ms\tremaining: 891ms\n",
      "32:\tlearn: 1585.0892344\ttotal: 772ms\tremaining: 865ms\n",
      "33:\tlearn: 1582.4543609\ttotal: 792ms\tremaining: 839ms\n",
      "34:\tlearn: 1579.5621615\ttotal: 812ms\tremaining: 812ms\n",
      "35:\tlearn: 1575.2694750\ttotal: 834ms\tremaining: 787ms\n",
      "36:\tlearn: 1573.1931302\ttotal: 855ms\tremaining: 763ms\n",
      "37:\tlearn: 1571.1355113\ttotal: 877ms\tremaining: 739ms\n",
      "38:\tlearn: 1563.9831452\ttotal: 898ms\tremaining: 714ms\n",
      "39:\tlearn: 1560.2029977\ttotal: 920ms\tremaining: 690ms\n",
      "40:\tlearn: 1553.1976423\ttotal: 941ms\tremaining: 666ms\n",
      "41:\tlearn: 1549.4650139\ttotal: 971ms\tremaining: 647ms\n",
      "42:\tlearn: 1546.6275143\ttotal: 993ms\tremaining: 624ms\n",
      "43:\tlearn: 1544.5994488\ttotal: 1.02s\tremaining: 600ms\n",
      "44:\tlearn: 1541.3620946\ttotal: 1.04s\tremaining: 577ms\n",
      "45:\tlearn: 1539.1894536\ttotal: 1.06s\tremaining: 554ms\n",
      "46:\tlearn: 1537.8603943\ttotal: 1.08s\tremaining: 531ms\n",
      "47:\tlearn: 1534.0428508\ttotal: 1.11s\tremaining: 508ms\n",
      "48:\tlearn: 1531.6131661\ttotal: 1.13s\tremaining: 484ms\n",
      "49:\tlearn: 1530.4556847\ttotal: 1.15s\tremaining: 461ms\n",
      "50:\tlearn: 1527.5692884\ttotal: 1.18s\tremaining: 438ms\n",
      "51:\tlearn: 1525.8292663\ttotal: 1.2s\tremaining: 416ms\n",
      "52:\tlearn: 1523.8980973\ttotal: 1.22s\tremaining: 392ms\n",
      "53:\tlearn: 1522.5831630\ttotal: 1.24s\tremaining: 368ms\n",
      "54:\tlearn: 1521.9667106\ttotal: 1.26s\tremaining: 344ms\n",
      "55:\tlearn: 1518.6368726\ttotal: 1.28s\tremaining: 321ms\n",
      "56:\tlearn: 1516.9159442\ttotal: 1.3s\tremaining: 298ms\n",
      "57:\tlearn: 1514.6605942\ttotal: 1.33s\tremaining: 274ms\n",
      "58:\tlearn: 1512.3741897\ttotal: 1.35s\tremaining: 251ms\n",
      "59:\tlearn: 1510.7593711\ttotal: 1.37s\tremaining: 228ms\n",
      "60:\tlearn: 1508.8223996\ttotal: 1.39s\tremaining: 205ms\n",
      "61:\tlearn: 1508.2371906\ttotal: 1.41s\tremaining: 182ms\n",
      "62:\tlearn: 1505.0525693\ttotal: 1.43s\tremaining: 159ms\n",
      "63:\tlearn: 1503.3489364\ttotal: 1.46s\tremaining: 136ms\n",
      "64:\tlearn: 1502.4894347\ttotal: 1.48s\tremaining: 114ms\n",
      "65:\tlearn: 1500.7245755\ttotal: 1.5s\tremaining: 91ms\n",
      "66:\tlearn: 1498.9920267\ttotal: 1.52s\tremaining: 68.1ms\n",
      "67:\tlearn: 1496.5717936\ttotal: 1.54s\tremaining: 45.3ms\n",
      "68:\tlearn: 1494.8532720\ttotal: 1.56s\tremaining: 22.6ms\n",
      "69:\tlearn: 1492.7291457\ttotal: 1.58s\tremaining: 0us\n",
      "0:\tlearn: 2994.2985479\ttotal: 26.9ms\tremaining: 1.85s\n",
      "1:\tlearn: 2683.8123013\ttotal: 53.2ms\tremaining: 1.81s\n",
      "2:\tlearn: 2479.9187916\ttotal: 74.5ms\tremaining: 1.66s\n",
      "3:\tlearn: 2344.1558469\ttotal: 96.3ms\tremaining: 1.59s\n",
      "4:\tlearn: 2232.1001071\ttotal: 117ms\tremaining: 1.52s\n",
      "5:\tlearn: 2150.1295375\ttotal: 139ms\tremaining: 1.48s\n",
      "6:\tlearn: 2077.9832292\ttotal: 164ms\tremaining: 1.47s\n",
      "7:\tlearn: 2025.9775798\ttotal: 194ms\tremaining: 1.5s\n",
      "8:\tlearn: 1970.3826701\ttotal: 216ms\tremaining: 1.46s\n",
      "9:\tlearn: 1931.3270426\ttotal: 236ms\tremaining: 1.42s\n",
      "10:\tlearn: 1893.4935321\ttotal: 257ms\tremaining: 1.38s\n",
      "11:\tlearn: 1840.2198299\ttotal: 278ms\tremaining: 1.34s\n",
      "12:\tlearn: 1808.3909658\ttotal: 299ms\tremaining: 1.31s\n",
      "13:\tlearn: 1780.9515575\ttotal: 323ms\tremaining: 1.29s\n",
      "14:\tlearn: 1758.7105534\ttotal: 344ms\tremaining: 1.26s\n",
      "15:\tlearn: 1742.4109199\ttotal: 365ms\tremaining: 1.23s\n",
      "16:\tlearn: 1718.2584476\ttotal: 386ms\tremaining: 1.2s\n",
      "17:\tlearn: 1702.1130635\ttotal: 406ms\tremaining: 1.17s\n",
      "18:\tlearn: 1690.5986090\ttotal: 426ms\tremaining: 1.14s\n",
      "19:\tlearn: 1678.0224220\ttotal: 447ms\tremaining: 1.12s\n",
      "20:\tlearn: 1669.8755458\ttotal: 467ms\tremaining: 1.09s\n",
      "21:\tlearn: 1662.0621829\ttotal: 487ms\tremaining: 1.06s\n",
      "22:\tlearn: 1656.3229988\ttotal: 507ms\tremaining: 1.04s\n",
      "23:\tlearn: 1642.9573036\ttotal: 528ms\tremaining: 1.01s\n",
      "24:\tlearn: 1636.6255859\ttotal: 549ms\tremaining: 987ms\n",
      "25:\tlearn: 1630.1858358\ttotal: 568ms\tremaining: 962ms\n",
      "26:\tlearn: 1627.4628453\ttotal: 590ms\tremaining: 940ms\n",
      "27:\tlearn: 1623.3903360\ttotal: 610ms\tremaining: 915ms\n",
      "28:\tlearn: 1619.5668272\ttotal: 629ms\tremaining: 889ms\n",
      "29:\tlearn: 1615.3978948\ttotal: 650ms\tremaining: 867ms\n",
      "30:\tlearn: 1612.3707288\ttotal: 671ms\tremaining: 844ms\n",
      "31:\tlearn: 1610.0649489\ttotal: 691ms\tremaining: 821ms\n",
      "32:\tlearn: 1606.4005648\ttotal: 716ms\tremaining: 802ms\n",
      "33:\tlearn: 1600.5833435\ttotal: 736ms\tremaining: 780ms\n",
      "34:\tlearn: 1593.4971112\ttotal: 757ms\tremaining: 757ms\n",
      "35:\tlearn: 1592.0536788\ttotal: 778ms\tremaining: 735ms\n",
      "36:\tlearn: 1588.7094130\ttotal: 801ms\tremaining: 715ms\n",
      "37:\tlearn: 1585.3265097\ttotal: 822ms\tremaining: 692ms\n",
      "38:\tlearn: 1583.1682309\ttotal: 843ms\tremaining: 670ms\n",
      "39:\tlearn: 1579.0060910\ttotal: 866ms\tremaining: 649ms\n",
      "40:\tlearn: 1577.6910581\ttotal: 887ms\tremaining: 628ms\n",
      "41:\tlearn: 1574.4591497\ttotal: 908ms\tremaining: 605ms\n",
      "42:\tlearn: 1568.7969417\ttotal: 929ms\tremaining: 583ms\n",
      "43:\tlearn: 1564.7378387\ttotal: 950ms\tremaining: 561ms\n",
      "44:\tlearn: 1562.7526309\ttotal: 971ms\tremaining: 540ms\n",
      "45:\tlearn: 1558.1098757\ttotal: 991ms\tremaining: 517ms\n",
      "46:\tlearn: 1556.8042246\ttotal: 1.01s\tremaining: 495ms\n",
      "47:\tlearn: 1551.6951373\ttotal: 1.03s\tremaining: 473ms\n",
      "48:\tlearn: 1549.5409066\ttotal: 1.05s\tremaining: 451ms\n",
      "49:\tlearn: 1547.9989810\ttotal: 1.07s\tremaining: 430ms\n",
      "50:\tlearn: 1546.0792252\ttotal: 1.1s\tremaining: 409ms\n",
      "51:\tlearn: 1544.5815167\ttotal: 1.12s\tremaining: 387ms\n",
      "52:\tlearn: 1543.1899594\ttotal: 1.14s\tremaining: 365ms\n",
      "53:\tlearn: 1542.2937787\ttotal: 1.16s\tremaining: 343ms\n",
      "54:\tlearn: 1541.2982998\ttotal: 1.18s\tremaining: 321ms\n",
      "55:\tlearn: 1538.7537878\ttotal: 1.2s\tremaining: 300ms\n",
      "56:\tlearn: 1536.9034794\ttotal: 1.22s\tremaining: 278ms\n",
      "57:\tlearn: 1535.3795963\ttotal: 1.24s\tremaining: 257ms\n",
      "58:\tlearn: 1532.4469723\ttotal: 1.26s\tremaining: 235ms\n",
      "59:\tlearn: 1530.9404520\ttotal: 1.28s\tremaining: 214ms\n",
      "60:\tlearn: 1529.5201089\ttotal: 1.3s\tremaining: 193ms\n",
      "61:\tlearn: 1528.1911589\ttotal: 1.32s\tremaining: 171ms\n",
      "62:\tlearn: 1525.6938387\ttotal: 1.35s\tremaining: 150ms\n",
      "63:\tlearn: 1524.7200864\ttotal: 1.37s\tremaining: 128ms\n",
      "64:\tlearn: 1523.2518456\ttotal: 1.39s\tremaining: 107ms\n",
      "65:\tlearn: 1522.5074221\ttotal: 1.41s\tremaining: 85.5ms\n",
      "66:\tlearn: 1521.9997063\ttotal: 1.43s\tremaining: 64.2ms\n",
      "67:\tlearn: 1520.8825469\ttotal: 1.45s\tremaining: 42.8ms\n",
      "68:\tlearn: 1518.6285835\ttotal: 1.48s\tremaining: 21.4ms\n",
      "69:\tlearn: 1517.7865544\ttotal: 1.5s\tremaining: 0us\n",
      "0:\tlearn: 2991.9245767\ttotal: 27ms\tremaining: 1.86s\n",
      "1:\tlearn: 2681.3590963\ttotal: 53.6ms\tremaining: 1.82s\n",
      "2:\tlearn: 2480.2731740\ttotal: 75.9ms\tremaining: 1.7s\n",
      "3:\tlearn: 2344.7899805\ttotal: 99.2ms\tremaining: 1.64s\n",
      "4:\tlearn: 2232.5616001\ttotal: 123ms\tremaining: 1.59s\n",
      "5:\tlearn: 2152.6126651\ttotal: 147ms\tremaining: 1.57s\n",
      "6:\tlearn: 2078.0362985\ttotal: 174ms\tremaining: 1.57s\n",
      "7:\tlearn: 2029.0655666\ttotal: 204ms\tremaining: 1.58s\n",
      "8:\tlearn: 1974.6779805\ttotal: 225ms\tremaining: 1.52s\n",
      "9:\tlearn: 1933.0407740\ttotal: 245ms\tremaining: 1.47s\n",
      "10:\tlearn: 1894.8333078\ttotal: 265ms\tremaining: 1.42s\n",
      "11:\tlearn: 1841.3345529\ttotal: 286ms\tremaining: 1.38s\n",
      "12:\tlearn: 1818.3088228\ttotal: 307ms\tremaining: 1.34s\n",
      "13:\tlearn: 1787.8732006\ttotal: 328ms\tremaining: 1.31s\n",
      "14:\tlearn: 1764.5633394\ttotal: 348ms\tremaining: 1.27s\n",
      "15:\tlearn: 1750.4238422\ttotal: 371ms\tremaining: 1.25s\n",
      "16:\tlearn: 1727.9520369\ttotal: 391ms\tremaining: 1.22s\n",
      "17:\tlearn: 1715.2066749\ttotal: 410ms\tremaining: 1.19s\n",
      "18:\tlearn: 1697.5118350\ttotal: 436ms\tremaining: 1.17s\n",
      "19:\tlearn: 1683.4263029\ttotal: 456ms\tremaining: 1.14s\n",
      "20:\tlearn: 1674.8223840\ttotal: 478ms\tremaining: 1.11s\n",
      "21:\tlearn: 1666.5653687\ttotal: 499ms\tremaining: 1.09s\n",
      "22:\tlearn: 1656.9884479\ttotal: 522ms\tremaining: 1.06s\n",
      "23:\tlearn: 1649.2784898\ttotal: 543ms\tremaining: 1.04s\n",
      "24:\tlearn: 1644.8353653\ttotal: 566ms\tremaining: 1.02s\n",
      "25:\tlearn: 1641.4569976\ttotal: 587ms\tremaining: 993ms\n",
      "26:\tlearn: 1636.8183474\ttotal: 610ms\tremaining: 971ms\n",
      "27:\tlearn: 1630.4244862\ttotal: 630ms\tremaining: 944ms\n",
      "28:\tlearn: 1626.2428955\ttotal: 650ms\tremaining: 919ms\n",
      "29:\tlearn: 1620.9654783\ttotal: 676ms\tremaining: 901ms\n",
      "30:\tlearn: 1618.0245567\ttotal: 696ms\tremaining: 876ms\n",
      "31:\tlearn: 1616.4073372\ttotal: 721ms\tremaining: 856ms\n",
      "32:\tlearn: 1614.1050382\ttotal: 747ms\tremaining: 838ms\n",
      "33:\tlearn: 1609.8919129\ttotal: 768ms\tremaining: 813ms\n",
      "34:\tlearn: 1608.1181066\ttotal: 797ms\tremaining: 797ms\n",
      "35:\tlearn: 1606.1358373\ttotal: 821ms\tremaining: 775ms\n",
      "36:\tlearn: 1603.6434335\ttotal: 841ms\tremaining: 750ms\n",
      "37:\tlearn: 1599.9864487\ttotal: 865ms\tremaining: 728ms\n",
      "38:\tlearn: 1597.7954734\ttotal: 886ms\tremaining: 704ms\n",
      "39:\tlearn: 1589.8595711\ttotal: 909ms\tremaining: 682ms\n",
      "40:\tlearn: 1585.9512832\ttotal: 929ms\tremaining: 657ms\n",
      "41:\tlearn: 1582.1235330\ttotal: 949ms\tremaining: 633ms\n",
      "42:\tlearn: 1577.8367028\ttotal: 970ms\tremaining: 609ms\n",
      "43:\tlearn: 1575.0672631\ttotal: 992ms\tremaining: 586ms\n",
      "44:\tlearn: 1568.9082493\ttotal: 1.01s\tremaining: 563ms\n",
      "45:\tlearn: 1563.6045414\ttotal: 1.03s\tremaining: 540ms\n",
      "46:\tlearn: 1560.8019955\ttotal: 1.06s\tremaining: 517ms\n",
      "47:\tlearn: 1558.6151480\ttotal: 1.08s\tremaining: 494ms\n",
      "48:\tlearn: 1556.5607514\ttotal: 1.1s\tremaining: 471ms\n",
      "49:\tlearn: 1555.3578964\ttotal: 1.12s\tremaining: 448ms\n",
      "50:\tlearn: 1553.8677512\ttotal: 1.14s\tremaining: 427ms\n",
      "51:\tlearn: 1550.9222586\ttotal: 1.17s\tremaining: 404ms\n",
      "52:\tlearn: 1549.1983924\ttotal: 1.19s\tremaining: 381ms\n",
      "53:\tlearn: 1547.8249555\ttotal: 1.21s\tremaining: 358ms\n",
      "54:\tlearn: 1546.1725576\ttotal: 1.23s\tremaining: 336ms\n",
      "55:\tlearn: 1543.6451585\ttotal: 1.25s\tremaining: 314ms\n",
      "56:\tlearn: 1540.8410833\ttotal: 1.28s\tremaining: 292ms\n",
      "57:\tlearn: 1539.6419801\ttotal: 1.31s\tremaining: 271ms\n",
      "58:\tlearn: 1536.9142025\ttotal: 1.33s\tremaining: 249ms\n",
      "59:\tlearn: 1535.1842940\ttotal: 1.35s\tremaining: 226ms\n",
      "60:\tlearn: 1534.1282963\ttotal: 1.38s\tremaining: 203ms\n",
      "61:\tlearn: 1533.1220245\ttotal: 1.4s\tremaining: 181ms\n",
      "62:\tlearn: 1530.5722160\ttotal: 1.42s\tremaining: 158ms\n",
      "63:\tlearn: 1528.1674010\ttotal: 1.44s\tremaining: 135ms\n",
      "64:\tlearn: 1524.5905307\ttotal: 1.46s\tremaining: 113ms\n",
      "65:\tlearn: 1523.1999243\ttotal: 1.48s\tremaining: 90ms\n",
      "66:\tlearn: 1521.5440052\ttotal: 1.51s\tremaining: 67.5ms\n",
      "67:\tlearn: 1520.0418713\ttotal: 1.53s\tremaining: 44.9ms\n",
      "68:\tlearn: 1518.8566919\ttotal: 1.55s\tremaining: 22.4ms\n",
      "69:\tlearn: 1517.6771632\ttotal: 1.57s\tremaining: 0us\n",
      "0:\tlearn: 2996.2125748\ttotal: 47.1ms\tremaining: 4.19s\n",
      "1:\tlearn: 2694.0618562\ttotal: 89.2ms\tremaining: 3.93s\n",
      "2:\tlearn: 2499.5622120\ttotal: 121ms\tremaining: 3.5s\n",
      "3:\tlearn: 2326.9081015\ttotal: 154ms\tremaining: 3.3s\n",
      "4:\tlearn: 2224.7782693\ttotal: 185ms\tremaining: 3.14s\n",
      "5:\tlearn: 2141.2371779\ttotal: 217ms\tremaining: 3.04s\n",
      "6:\tlearn: 2064.8815918\ttotal: 254ms\tremaining: 3.02s\n",
      "7:\tlearn: 2012.6219663\ttotal: 299ms\tremaining: 3.07s\n",
      "8:\tlearn: 1968.3130125\ttotal: 333ms\tremaining: 3s\n",
      "9:\tlearn: 1909.1786311\ttotal: 367ms\tremaining: 2.93s\n",
      "10:\tlearn: 1872.0042123\ttotal: 398ms\tremaining: 2.86s\n",
      "11:\tlearn: 1830.7989664\ttotal: 430ms\tremaining: 2.79s\n",
      "12:\tlearn: 1795.6082094\ttotal: 466ms\tremaining: 2.76s\n",
      "13:\tlearn: 1770.1822681\ttotal: 498ms\tremaining: 2.7s\n",
      "14:\tlearn: 1739.4883582\ttotal: 529ms\tremaining: 2.65s\n",
      "15:\tlearn: 1724.5689280\ttotal: 562ms\tremaining: 2.6s\n",
      "16:\tlearn: 1705.5246850\ttotal: 593ms\tremaining: 2.55s\n",
      "17:\tlearn: 1684.6783714\ttotal: 625ms\tremaining: 2.5s\n",
      "18:\tlearn: 1675.1278819\ttotal: 656ms\tremaining: 2.45s\n",
      "19:\tlearn: 1665.7753348\ttotal: 687ms\tremaining: 2.4s\n",
      "20:\tlearn: 1657.8970591\ttotal: 733ms\tremaining: 2.41s\n",
      "21:\tlearn: 1648.4084213\ttotal: 773ms\tremaining: 2.39s\n",
      "22:\tlearn: 1640.2919531\ttotal: 812ms\tremaining: 2.36s\n",
      "23:\tlearn: 1635.7144044\ttotal: 850ms\tremaining: 2.34s\n",
      "24:\tlearn: 1631.3027703\ttotal: 890ms\tremaining: 2.31s\n",
      "25:\tlearn: 1625.8774066\ttotal: 929ms\tremaining: 2.29s\n",
      "26:\tlearn: 1621.0736820\ttotal: 968ms\tremaining: 2.26s\n",
      "27:\tlearn: 1614.5863910\ttotal: 1.01s\tremaining: 2.24s\n",
      "28:\tlearn: 1611.4276608\ttotal: 1.05s\tremaining: 2.2s\n",
      "29:\tlearn: 1604.9658164\ttotal: 1.08s\tremaining: 2.16s\n",
      "30:\tlearn: 1602.0363351\ttotal: 1.11s\tremaining: 2.12s\n",
      "31:\tlearn: 1597.4403852\ttotal: 1.14s\tremaining: 2.07s\n",
      "32:\tlearn: 1595.0467936\ttotal: 1.18s\tremaining: 2.03s\n",
      "33:\tlearn: 1588.0184053\ttotal: 1.21s\tremaining: 1.99s\n",
      "34:\tlearn: 1583.7305474\ttotal: 1.24s\tremaining: 1.95s\n",
      "35:\tlearn: 1581.3988729\ttotal: 1.27s\tremaining: 1.91s\n",
      "36:\tlearn: 1573.2615633\ttotal: 1.31s\tremaining: 1.87s\n",
      "37:\tlearn: 1569.0852916\ttotal: 1.34s\tremaining: 1.83s\n",
      "38:\tlearn: 1565.0230913\ttotal: 1.37s\tremaining: 1.8s\n",
      "39:\tlearn: 1563.8507898\ttotal: 1.41s\tremaining: 1.76s\n",
      "40:\tlearn: 1560.5661698\ttotal: 1.44s\tremaining: 1.73s\n",
      "41:\tlearn: 1558.1634160\ttotal: 1.47s\tremaining: 1.68s\n",
      "42:\tlearn: 1553.9399447\ttotal: 1.5s\tremaining: 1.64s\n",
      "43:\tlearn: 1552.0902650\ttotal: 1.53s\tremaining: 1.6s\n",
      "44:\tlearn: 1550.6418768\ttotal: 1.57s\tremaining: 1.57s\n",
      "45:\tlearn: 1549.3012016\ttotal: 1.6s\tremaining: 1.53s\n",
      "46:\tlearn: 1545.6495382\ttotal: 1.63s\tremaining: 1.49s\n",
      "47:\tlearn: 1542.7813561\ttotal: 1.66s\tremaining: 1.46s\n",
      "48:\tlearn: 1540.5780326\ttotal: 1.7s\tremaining: 1.42s\n",
      "49:\tlearn: 1538.9600334\ttotal: 1.73s\tremaining: 1.39s\n",
      "50:\tlearn: 1536.2543420\ttotal: 1.76s\tremaining: 1.35s\n",
      "51:\tlearn: 1533.1523883\ttotal: 1.79s\tremaining: 1.31s\n",
      "52:\tlearn: 1530.7857343\ttotal: 1.83s\tremaining: 1.27s\n",
      "53:\tlearn: 1530.0008372\ttotal: 1.86s\tremaining: 1.24s\n",
      "54:\tlearn: 1527.4169106\ttotal: 1.89s\tremaining: 1.2s\n",
      "55:\tlearn: 1526.1542268\ttotal: 1.92s\tremaining: 1.17s\n",
      "56:\tlearn: 1524.5186211\ttotal: 1.96s\tremaining: 1.13s\n",
      "57:\tlearn: 1523.1928848\ttotal: 1.99s\tremaining: 1.1s\n",
      "58:\tlearn: 1522.8730741\ttotal: 2.03s\tremaining: 1.06s\n",
      "59:\tlearn: 1521.3095942\ttotal: 2.06s\tremaining: 1.03s\n",
      "60:\tlearn: 1520.4594823\ttotal: 2.09s\tremaining: 995ms\n",
      "61:\tlearn: 1518.5774822\ttotal: 2.13s\tremaining: 960ms\n",
      "62:\tlearn: 1517.9568115\ttotal: 2.16s\tremaining: 925ms\n",
      "63:\tlearn: 1516.3038467\ttotal: 2.19s\tremaining: 889ms\n",
      "64:\tlearn: 1514.9250361\ttotal: 2.22s\tremaining: 854ms\n",
      "65:\tlearn: 1514.2167389\ttotal: 2.26s\tremaining: 821ms\n",
      "66:\tlearn: 1513.7353410\ttotal: 2.29s\tremaining: 787ms\n",
      "67:\tlearn: 1511.5141364\ttotal: 2.33s\tremaining: 755ms\n",
      "68:\tlearn: 1509.3109101\ttotal: 2.37s\tremaining: 722ms\n",
      "69:\tlearn: 1507.9165111\ttotal: 2.41s\tremaining: 688ms\n",
      "70:\tlearn: 1507.2998745\ttotal: 2.44s\tremaining: 653ms\n",
      "71:\tlearn: 1505.7704241\ttotal: 2.47s\tremaining: 618ms\n",
      "72:\tlearn: 1505.2899162\ttotal: 2.51s\tremaining: 584ms\n",
      "73:\tlearn: 1503.4756104\ttotal: 2.55s\tremaining: 551ms\n",
      "74:\tlearn: 1502.4851934\ttotal: 2.58s\tremaining: 517ms\n",
      "75:\tlearn: 1501.6471081\ttotal: 2.62s\tremaining: 482ms\n",
      "76:\tlearn: 1499.0805849\ttotal: 2.65s\tremaining: 448ms\n",
      "77:\tlearn: 1496.9322487\ttotal: 2.68s\tremaining: 413ms\n",
      "78:\tlearn: 1496.5248237\ttotal: 2.71s\tremaining: 378ms\n",
      "79:\tlearn: 1495.2176729\ttotal: 2.75s\tremaining: 344ms\n",
      "80:\tlearn: 1494.1456030\ttotal: 2.78s\tremaining: 309ms\n",
      "81:\tlearn: 1493.1407418\ttotal: 2.81s\tremaining: 275ms\n",
      "82:\tlearn: 1491.2890002\ttotal: 2.85s\tremaining: 240ms\n",
      "83:\tlearn: 1490.2591235\ttotal: 2.88s\tremaining: 206ms\n",
      "84:\tlearn: 1489.2873212\ttotal: 2.91s\tremaining: 171ms\n",
      "85:\tlearn: 1486.5526116\ttotal: 2.94s\tremaining: 137ms\n",
      "86:\tlearn: 1485.3998576\ttotal: 2.97s\tremaining: 102ms\n",
      "87:\tlearn: 1483.7483904\ttotal: 3s\tremaining: 68.2ms\n",
      "88:\tlearn: 1483.0849396\ttotal: 3.04s\tremaining: 34.1ms\n",
      "89:\tlearn: 1482.2827758\ttotal: 3.07s\tremaining: 0us\n"
     ]
    },
    {
     "data": {
      "text/plain": [
       "RandomizedSearchCV(cv=3,\n",
       "                   estimator=<catboost.core.CatBoostRegressor object at 0x7f2f505e6730>,\n",
       "                   n_jobs=-1,\n",
       "                   param_distributions={'depth': range(2, 3),\n",
       "                                        'iterations': range(10, 101, 10),\n",
       "                                        'learning_rate': [0.1, 0.2, 0.3]},\n",
       "                   random_state=12345, scoring='neg_root_mean_squared_error',\n",
       "                   verbose=1)"
      ]
     },
     "execution_count": 100,
     "metadata": {},
     "output_type": "execute_result"
    }
   ],
   "source": [
    "# обучен подборщик гиперпараметров\n",
    "r_search.fit(features_train, target_train)"
   ]
  },
  {
   "cell_type": "code",
   "execution_count": 101,
   "metadata": {},
   "outputs": [
    {
     "data": {
      "text/plain": [
       "{'learning_rate': 0.3, 'iterations': 90, 'depth': 2}"
      ]
     },
     "execution_count": 101,
     "metadata": {},
     "output_type": "execute_result"
    }
   ],
   "source": [
    "r_search.best_params_"
   ]
  },
  {
   "cell_type": "markdown",
   "metadata": {},
   "source": [
    "Лучшие параметры модели: {'learning_rate': 0.3, 'iterations': 90, 'depth': 2} "
   ]
  },
  {
   "cell_type": "code",
   "execution_count": 102,
   "metadata": {},
   "outputs": [
    {
     "data": {
      "text/plain": [
       "1484.2980454332903"
      ]
     },
     "execution_count": 102,
     "metadata": {},
     "output_type": "execute_result"
    }
   ],
   "source": [
    "abs(r_search.best_score_)"
   ]
  },
  {
   "cell_type": "code",
   "execution_count": 103,
   "metadata": {},
   "outputs": [
    {
     "name": "stdout",
     "output_type": "stream",
     "text": [
      "Fit time: 2.84, Predict time: 0.08, Best RMSE: 1484\n"
     ]
    }
   ],
   "source": [
    "results = pd.DataFrame(r_search.cv_results_)\n",
    "best_index = r_search.best_index_\n",
    "\n",
    "fit_time = round((results['mean_fit_time'].iloc[best_index]),2)\n",
    "score_time = round((results['mean_score_time'].iloc[best_index]),2)\n",
    "RMSE = round(abs(r_search.best_score_))\n",
    "\n",
    "print(f\"Fit time: {fit_time}, Predict time: {score_time}, Best RMSE: {RMSE}\")"
   ]
  },
  {
   "cell_type": "code",
   "execution_count": 104,
   "metadata": {},
   "outputs": [
    {
     "data": {
      "text/html": [
       "<div>\n",
       "<style scoped>\n",
       "    .dataframe tbody tr th:only-of-type {\n",
       "        vertical-align: middle;\n",
       "    }\n",
       "\n",
       "    .dataframe tbody tr th {\n",
       "        vertical-align: top;\n",
       "    }\n",
       "\n",
       "    .dataframe thead th {\n",
       "        text-align: right;\n",
       "    }\n",
       "</style>\n",
       "<table border=\"1\" class=\"dataframe\">\n",
       "  <thead>\n",
       "    <tr style=\"text-align: right;\">\n",
       "      <th></th>\n",
       "      <th>mean_fit_time</th>\n",
       "      <th>std_fit_time</th>\n",
       "      <th>mean_score_time</th>\n",
       "      <th>std_score_time</th>\n",
       "      <th>param_learning_rate</th>\n",
       "      <th>param_iterations</th>\n",
       "      <th>param_depth</th>\n",
       "      <th>params</th>\n",
       "      <th>split0_test_score</th>\n",
       "      <th>split1_test_score</th>\n",
       "      <th>split2_test_score</th>\n",
       "      <th>mean_test_score</th>\n",
       "      <th>std_test_score</th>\n",
       "      <th>rank_test_score</th>\n",
       "    </tr>\n",
       "  </thead>\n",
       "  <tbody>\n",
       "    <tr>\n",
       "      <th>0</th>\n",
       "      <td>2.840205</td>\n",
       "      <td>0.016561</td>\n",
       "      <td>0.079488</td>\n",
       "      <td>0.001998</td>\n",
       "      <td>0.3</td>\n",
       "      <td>90</td>\n",
       "      <td>2</td>\n",
       "      <td>{'learning_rate': 0.3, 'iterations': 90, 'dept...</td>\n",
       "      <td>-1498.272020</td>\n",
       "      <td>-1484.165173</td>\n",
       "      <td>-1470.456943</td>\n",
       "      <td>-1484.298045</td>\n",
       "      <td>11.355846</td>\n",
       "      <td>1</td>\n",
       "    </tr>\n",
       "    <tr>\n",
       "      <th>1</th>\n",
       "      <td>2.084923</td>\n",
       "      <td>0.130961</td>\n",
       "      <td>0.068376</td>\n",
       "      <td>0.000765</td>\n",
       "      <td>0.1</td>\n",
       "      <td>50</td>\n",
       "      <td>2</td>\n",
       "      <td>{'learning_rate': 0.1, 'iterations': 50, 'dept...</td>\n",
       "      <td>-1731.056408</td>\n",
       "      <td>-1719.605413</td>\n",
       "      <td>-1709.829664</td>\n",
       "      <td>-1720.163828</td>\n",
       "      <td>8.674773</td>\n",
       "      <td>8</td>\n",
       "    </tr>\n",
       "    <tr>\n",
       "      <th>2</th>\n",
       "      <td>2.349910</td>\n",
       "      <td>0.059640</td>\n",
       "      <td>0.074954</td>\n",
       "      <td>0.001626</td>\n",
       "      <td>0.1</td>\n",
       "      <td>70</td>\n",
       "      <td>2</td>\n",
       "      <td>{'learning_rate': 0.1, 'iterations': 70, 'dept...</td>\n",
       "      <td>-1654.605272</td>\n",
       "      <td>-1636.371834</td>\n",
       "      <td>-1631.269070</td>\n",
       "      <td>-1640.748726</td>\n",
       "      <td>10.017068</td>\n",
       "      <td>6</td>\n",
       "    </tr>\n",
       "    <tr>\n",
       "      <th>3</th>\n",
       "      <td>1.323927</td>\n",
       "      <td>0.060517</td>\n",
       "      <td>0.065444</td>\n",
       "      <td>0.000917</td>\n",
       "      <td>0.1</td>\n",
       "      <td>20</td>\n",
       "      <td>2</td>\n",
       "      <td>{'learning_rate': 0.1, 'iterations': 20, 'dept...</td>\n",
       "      <td>-2108.177338</td>\n",
       "      <td>-2109.943299</td>\n",
       "      <td>-2098.802832</td>\n",
       "      <td>-2105.641156</td>\n",
       "      <td>4.888876</td>\n",
       "      <td>9</td>\n",
       "    </tr>\n",
       "    <tr>\n",
       "      <th>4</th>\n",
       "      <td>2.089166</td>\n",
       "      <td>0.033987</td>\n",
       "      <td>0.080790</td>\n",
       "      <td>0.007023</td>\n",
       "      <td>0.1</td>\n",
       "      <td>60</td>\n",
       "      <td>2</td>\n",
       "      <td>{'learning_rate': 0.1, 'iterations': 60, 'dept...</td>\n",
       "      <td>-1683.784326</td>\n",
       "      <td>-1668.692933</td>\n",
       "      <td>-1660.975724</td>\n",
       "      <td>-1671.150994</td>\n",
       "      <td>9.472403</td>\n",
       "      <td>7</td>\n",
       "    </tr>\n",
       "  </tbody>\n",
       "</table>\n",
       "</div>"
      ],
      "text/plain": [
       "   mean_fit_time  std_fit_time  mean_score_time  std_score_time  \\\n",
       "0       2.840205      0.016561         0.079488        0.001998   \n",
       "1       2.084923      0.130961         0.068376        0.000765   \n",
       "2       2.349910      0.059640         0.074954        0.001626   \n",
       "3       1.323927      0.060517         0.065444        0.000917   \n",
       "4       2.089166      0.033987         0.080790        0.007023   \n",
       "\n",
       "  param_learning_rate param_iterations param_depth  \\\n",
       "0                 0.3               90           2   \n",
       "1                 0.1               50           2   \n",
       "2                 0.1               70           2   \n",
       "3                 0.1               20           2   \n",
       "4                 0.1               60           2   \n",
       "\n",
       "                                              params  split0_test_score  \\\n",
       "0  {'learning_rate': 0.3, 'iterations': 90, 'dept...       -1498.272020   \n",
       "1  {'learning_rate': 0.1, 'iterations': 50, 'dept...       -1731.056408   \n",
       "2  {'learning_rate': 0.1, 'iterations': 70, 'dept...       -1654.605272   \n",
       "3  {'learning_rate': 0.1, 'iterations': 20, 'dept...       -2108.177338   \n",
       "4  {'learning_rate': 0.1, 'iterations': 60, 'dept...       -1683.784326   \n",
       "\n",
       "   split1_test_score  split2_test_score  mean_test_score  std_test_score  \\\n",
       "0       -1484.165173       -1470.456943     -1484.298045       11.355846   \n",
       "1       -1719.605413       -1709.829664     -1720.163828        8.674773   \n",
       "2       -1636.371834       -1631.269070     -1640.748726       10.017068   \n",
       "3       -2109.943299       -2098.802832     -2105.641156        4.888876   \n",
       "4       -1668.692933       -1660.975724     -1671.150994        9.472403   \n",
       "\n",
       "   rank_test_score  \n",
       "0                1  \n",
       "1                8  \n",
       "2                6  \n",
       "3                9  \n",
       "4                7  "
      ]
     },
     "metadata": {},
     "output_type": "display_data"
    }
   ],
   "source": [
    "display(results.head())"
   ]
  },
  {
   "cell_type": "code",
   "execution_count": null,
   "metadata": {},
   "outputs": [],
   "source": []
  },
  {
   "cell_type": "markdown",
   "metadata": {},
   "source": [
    "**model - CatBoostRegressor**: <br>\n",
    "Лучшие гиперпараметры модели: {'learning_rate': 0.3, 'iterations': 50, 'depth': 2}<br>\n",
    "Best RMSE: 1488 <br> \n",
    "время обучения: 2.84 сек. <br> \n",
    "время предсказания: 0.09 сек. \n",
    "\n"
   ]
  },
  {
   "cell_type": "markdown",
   "metadata": {},
   "source": [
    "### LightGBM"
   ]
  },
  {
   "cell_type": "code",
   "execution_count": 105,
   "metadata": {},
   "outputs": [
    {
     "name": "stdout",
     "output_type": "stream",
     "text": [
      "Requirement already satisfied: lightgbm in /opt/conda/lib/python3.9/site-packages (3.3.1)\r\n",
      "Requirement already satisfied: scikit-learn!=0.22.0 in /opt/conda/lib/python3.9/site-packages (from lightgbm) (0.24.1)\r\n",
      "Requirement already satisfied: wheel in /opt/conda/lib/python3.9/site-packages (from lightgbm) (0.36.2)\r\n",
      "Requirement already satisfied: numpy in /opt/conda/lib/python3.9/site-packages (from lightgbm) (1.21.1)\r\n",
      "Requirement already satisfied: scipy in /opt/conda/lib/python3.9/site-packages (from lightgbm) (1.9.1)\r\n",
      "Requirement already satisfied: threadpoolctl>=2.0.0 in /opt/conda/lib/python3.9/site-packages (from scikit-learn!=0.22.0->lightgbm) (3.1.0)\r\n",
      "Requirement already satisfied: joblib>=0.11 in /opt/conda/lib/python3.9/site-packages (from scikit-learn!=0.22.0->lightgbm) (1.1.0)\r\n"
     ]
    }
   ],
   "source": [
    "# установили lightgbm\n",
    "!pip install lightgbm"
   ]
  },
  {
   "cell_type": "code",
   "execution_count": null,
   "metadata": {},
   "outputs": [],
   "source": [
    "# скачали модель, создали параметры\n",
    "from lightgbm import LGBMRegressor\n",
    "\n",
    "model_2 = LGBMRegressor(objective='rmse')\n",
    "\n",
    "parametrs = { 'learning_rate': [0.01, 0.015, 0.025],\n",
    "              'min_gain_to_split': [0.05, 0.07, 0.1, 0.3, 0.5, 0.7],\n",
    "              'max_depth': [3, 5, 6, 7, 9, 12] }\n",
    "\n"
   ]
  },
  {
   "cell_type": "code",
   "execution_count": null,
   "metadata": {},
   "outputs": [],
   "source": [
    "# создан подборщик гиперпараметров\n",
    "r_search = RandomizedSearchCV(model_2, \n",
    "                              parametrs, \n",
    "                              cv=3, \n",
    "                              scoring='neg_root_mean_squared_error',\n",
    "                              random_state=RANDOM_STATE,\n",
    "                              n_iter=10,\n",
    "                              verbose=1,\n",
    "                              n_jobs=-1)"
   ]
  },
  {
   "cell_type": "code",
   "execution_count": null,
   "metadata": {},
   "outputs": [],
   "source": [
    "# обучаем подборщик гиперпараметров\n",
    "r_search.fit(features_train_alt, target_train)\n"
   ]
  },
  {
   "cell_type": "code",
   "execution_count": null,
   "metadata": {},
   "outputs": [],
   "source": [
    "r_search.best_params_"
   ]
  },
  {
   "cell_type": "markdown",
   "metadata": {},
   "source": [
    "Лучшие параметеры {'min_gain_to_split': 0.1, 'max_depth': 9, 'learning_rate': 0.015}"
   ]
  },
  {
   "cell_type": "code",
   "execution_count": null,
   "metadata": {},
   "outputs": [],
   "source": [
    "results = pd.DataFrame(r_search.cv_results_)\n",
    "best_index = r_search.best_index_\n",
    "\n",
    "fit_time = round((results['mean_fit_time'].iloc[best_index]),2)\n",
    "score_time = round((results['mean_score_time'].iloc[best_index]),2)\n",
    "RMSE = round(abs(r_search.best_score_))\n",
    "\n",
    "print(f\"Fit time: {fit_time}, Predict time: {score_time}, Best RMSE: {RMSE}\")"
   ]
  },
  {
   "cell_type": "markdown",
   "metadata": {},
   "source": [
    "**model_2 - LGBMRegressor**:<br>\n",
    "Лучшие гиперпараметеры {'min_gain_to_split': 0.1, 'max_depth': 9, 'learning_rate': 0.015}<br>\n",
    "Best RMSE: 1770<br>\n",
    "время обучения: 336.36 сек.<br>\n",
    "время предсказания: 0.49 сек.\n",
    "\n",
    "\n"
   ]
  },
  {
   "cell_type": "markdown",
   "metadata": {},
   "source": [
    "### RandomForestRegressor"
   ]
  },
  {
   "cell_type": "code",
   "execution_count": null,
   "metadata": {},
   "outputs": [],
   "source": [
    "from sklearn.ensemble import RandomForestRegressor # модель случайного леса в регрессии"
   ]
  },
  {
   "cell_type": "code",
   "execution_count": null,
   "metadata": {},
   "outputs": [],
   "source": [
    "# модель и параметры\n",
    "\n",
    "model_3 = RandomForestRegressor()\n",
    "parametrs = { 'n_estimators': range (10, 101, 10),\n",
    "              'max_depth': range (1,11, 1) }"
   ]
  },
  {
   "cell_type": "code",
   "execution_count": null,
   "metadata": {},
   "outputs": [],
   "source": [
    "# создали подборщик парамтеров\n",
    "\n",
    "r_search = RandomizedSearchCV(model_3, \n",
    "                              parametrs, \n",
    "                              cv=3, \n",
    "                              scoring='neg_root_mean_squared_error',\n",
    "                              random_state=RANDOM_STATE,\n",
    "                              n_iter=10,\n",
    "                              verbose=1,\n",
    "                              n_jobs=-1)"
   ]
  },
  {
   "cell_type": "code",
   "execution_count": null,
   "metadata": {},
   "outputs": [],
   "source": [
    "# обучили подборщик парамтеров\n",
    "r_search.fit(features_train_enc, target_train)"
   ]
  },
  {
   "cell_type": "code",
   "execution_count": null,
   "metadata": {},
   "outputs": [],
   "source": [
    "r_search.best_params_"
   ]
  },
  {
   "cell_type": "markdown",
   "metadata": {},
   "source": [
    "Лучшие парамтеры {'n_estimators': 90, 'max_depth': 9}"
   ]
  },
  {
   "cell_type": "code",
   "execution_count": null,
   "metadata": {},
   "outputs": [],
   "source": [
    "results = pd.DataFrame(r_search.cv_results_)\n",
    "best_index = r_search.best_index_\n",
    "\n",
    "fit_time = round((results['mean_fit_time'].iloc[best_index]),2)\n",
    "score_time = round((results['mean_score_time'].iloc[best_index]),2)\n",
    "RMSE = round(abs(r_search.best_score_))\n",
    "\n",
    "print(f\"Fit time: {fit_time}, Predict time: {score_time}, Best RMSE: {RMSE}\")"
   ]
  },
  {
   "cell_type": "markdown",
   "metadata": {},
   "source": [
    "**model_3 - RandomForestRegressor()**:<br>\n",
    "Лучшие гиперпарамтеры {'n_estimators': 90, 'max_depth': 9}<br>\n",
    "Best RMSE: 1437<br>\n",
    "время обучения: 12.94 сек.<br>\n",
    "время предсказания: 0.46 сек."
   ]
  },
  {
   "cell_type": "code",
   "execution_count": 109,
   "metadata": {},
   "outputs": [],
   "source": [
    "def model_searcher (model, parametrs, features_train, target_train):\n",
    "    \n",
    "    # создан подборщик гиперпараметров\n",
    "    r_search = RandomizedSearchCV(model, \n",
    "                                  parametrs, \n",
    "                                  cv=3, \n",
    "                                  scoring='neg_root_mean_squared_error',\n",
    "                                  random_state=12345,\n",
    "                                  n_iter=10,\n",
    "                                  verbose=1,\n",
    "                                  n_jobs=-1)\n",
    "    \n",
    "    # обучен подборщик гиперпараметров\n",
    "    r_search.fit(features_train, target_train)\n",
    "    \n",
    "    # лучшие параметры\n",
    "    best_params = r_search.best_params_\n",
    "    \n",
    "    #cv_results_ в таблицу\n",
    "    results = pd.DataFrame(r_search.cv_results_)\n",
    "    # сохранили индекс лучшей модели\n",
    "    best_index = r_search.best_index_\n",
    "    \n",
    "    # сохранили время обучения лучшей модели\n",
    "    fit_time = round((results['mean_fit_time'].iloc[best_index]), 2)\n",
    "    # сохранили время предсказания лучшей модели\n",
    "    score_time = round((results['mean_score_time'].iloc[best_index]), 2)\n",
    "    # сохранили RMSE лучшей модели по модулю, т.к. scoring='neg_root_mean_squared_error' \n",
    "    RMSE = round(abs(r_search.best_score_))\n",
    "    \n",
    "    return (best_params, fit_time, score_time, RMSE)\n",
    "    \n",
    "    "
   ]
  },
  {
   "cell_type": "code",
   "execution_count": null,
   "metadata": {},
   "outputs": [],
   "source": [
    "# задали модель и гиперпараметры\n",
    "model_2 = LGBMRegressor(objective='rmse')\n",
    "\n",
    "parametrs_2 = { 'learning_rate': [0.01, 0.015, 0.025],\n",
    "               'min_gain_to_split': [0.05, 0.07, 0.1, 0.3, 0.5, 0.7],\n",
    "               'max_depth': [3, 5, 6, 7, 9, 12] }"
   ]
  },
  {
   "cell_type": "code",
   "execution_count": null,
   "metadata": {},
   "outputs": [],
   "source": [
    "# результаты model_searcher \n",
    "best_params_2, fit_time_2, score_time_2, RMSE_2 = model_searcher(model_2, \n",
    "                                                                 parametrs_2, \n",
    "                                                                 features_train_alt, \n",
    "                                                                 target_train)\n",
    "print('model_2 - LGBMRegressor:')\n",
    "print(f\"лучшие гиперпараметры: {best_params_2}\")\n",
    "print(f\"RMSE: {RMSE_2}\")\n",
    "print(f\"время обучения: {fit_time_2} сек.\")\n",
    "print(f\"время предсказания: {score_time_2} сек.\")\n"
   ]
  },
  {
   "cell_type": "markdown",
   "metadata": {},
   "source": [
    "**model_2 - LGBMRegressor**:<br>\n",
    "лучшие гиперпараметры: {'min_gain_to_split': 0.1, 'max_depth': 9, 'learning_rate': 0.015}<br>\n",
    "RMSE: 1789<br>\n",
    "время обучения: 4.49 сек.<br>\n",
    "время предсказания: 0.49 сек.<br>"
   ]
  },
  {
   "cell_type": "code",
   "execution_count": null,
   "metadata": {},
   "outputs": [],
   "source": [
    "# задали модель и гиперпараметры\n",
    "model_1 = CatBoostRegressor(loss_function=\"RMSE\")\n",
    "parametrs_1 = { 'learning_rate': [0.1, 0.2, 0.3],\n",
    "               'iterations': range (10, 51, 10),\n",
    "               'depth': range (2,3) }"
   ]
  },
  {
   "cell_type": "code",
   "execution_count": null,
   "metadata": {},
   "outputs": [],
   "source": [
    "# результаты model_searcher \n",
    "best_params_1, fit_time_1, score_time_1, RMSE_1 = model_searcher(model_1, \n",
    "                                                                 parametrs_1, \n",
    "                                                                 features_train_alt, \n",
    "                                                                 target_train)\n",
    "print('model_1 - CatBoostRegressor:')\n",
    "print(f\"лучшие гиперпараметры: {best_params_1}\")\n",
    "print(f\"RMSE: {RMSE_1}\")\n",
    "print(f\"время обучения: {fit_time_1} сек.\")\n",
    "print(f\"время предсказания: {score_time_1} сек.\")\n"
   ]
  },
  {
   "cell_type": "markdown",
   "metadata": {},
   "source": [
    "**model_1 - CatBoostRegressor**: <br>\n",
    "лучшие гиперпараметры: {'learning_rate': 0.3, 'iterations': 50, 'depth': 2}<br>\n",
    "RMSE: 1646<br>\n",
    "время обучения: 1.42 сек.<br>\n",
    "время предсказания: 0.01 сек.<br>"
   ]
  },
  {
   "cell_type": "code",
   "execution_count": null,
   "metadata": {},
   "outputs": [],
   "source": [
    "# задали модель и гиперпараметры\n",
    "model_3 = RandomForestRegressor()\n",
    "parametrs_3 = { 'n_estimators': range (10, 101, 10),\n",
    "               'max_depth': range (1,11, 1) }"
   ]
  },
  {
   "cell_type": "code",
   "execution_count": null,
   "metadata": {},
   "outputs": [],
   "source": [
    "# результаты model_searcher \n",
    "best_params_3, fit_time_3, score_time_3, RMSE_3 = model_searcher(model_3, \n",
    "                                                                 parametrs_3, \n",
    "                                                                 features_train_alt, \n",
    "                                                                 target_train)\n",
    "print('model_3 - RandomForestRegressor:')\n",
    "print(f\"лучшие гиперпараметры: {best_params_3}\")\n",
    "print(f\"RMSE: {RMSE_3}\")\n",
    "print(f\"время обучения: {fit_time_3} сек.\")\n",
    "print(f\"время предсказания: {score_time_3} сек.\")"
   ]
  },
  {
   "cell_type": "markdown",
   "metadata": {},
   "source": [
    "**model_3 - RandomForestRegressor()**:<br>\n",
    "Лучшие гиперпарамтеры {'n_estimators': 90, 'max_depth': 9}<br>\n",
    "Best RMSE: 1437<br>\n",
    "время обучения: 12.94 сек.<br>\n",
    "время предсказания: 0.46 сек."
   ]
  },
  {
   "cell_type": "markdown",
   "metadata": {},
   "source": [
    "**model_2 - LGBMRegressor**:<br>\n",
    "Лучшие гиперпараметеры {'min_gain_to_split': 0.1, 'max_depth': 9, 'learning_rate': 0.015}<br>\n",
    "Best RMSE: 1770<br>\n",
    "время обучения: 336.36 сек.<br>\n",
    "время предсказания: 0.49 сек."
   ]
  },
  {
   "cell_type": "markdown",
   "metadata": {},
   "source": [
    "**model - CatBoostRegressor**: <br>\n",
    "Лучшие гиперпараметры модели: {'learning_rate': 0.3, 'iterations': 90, 'depth': 2}<br>\n",
    "Best RMSE: 1488 <br> \n",
    "время обучения: 2.84 сек. <br> \n",
    "время предсказания: 0.09 сек.  "
   ]
  },
  {
   "cell_type": "markdown",
   "metadata": {},
   "source": [
    "## Анализ моделей"
   ]
  },
  {
   "cell_type": "markdown",
   "metadata": {},
   "source": [
    "Лучшее RMSE на обучающей выборке (1437) у RandomForestRegressor. RMSE на обучающей выборке CatBoostRegressor ниже (1488). При этом RandomForestRegressor дольше обучается (12.94 сек.) и предсказывает (0.46 сек.), чем CatBoostRegressor, время обучения которого  2.84 сек., время предсказания: 0.09 сек. LGBMRegressor показал худшие результаты по точности (RMSE на обучающей выборке 1770) и времени обучения (336.36 сек.) (время предсказания мало отличается от RandomForestRegressor) \n",
    "<br><br>\n",
    "Исходя из критериев заказчика, а также того, что обе лучшие модели вероятно переобучились, лучшей моделью следует признать CatBoostRegressor. (Если увеличить 'iterations': у CatBoostRegressor, он покажет лучший показатель RMSE.)  \n"
   ]
  },
  {
   "cell_type": "markdown",
   "metadata": {},
   "source": [
    "Обучим CatBoostRegressor на тестовой выборке и проверим, не переобучился ли он. "
   ]
  },
  {
   "cell_type": "markdown",
   "metadata": {},
   "source": [
    "#### Тестирование лучшей модели CatBoostRegressor"
   ]
  },
  {
   "cell_type": "code",
   "execution_count": 106,
   "metadata": {},
   "outputs": [],
   "source": [
    "# лучшая модель\n",
    "model_1 = CatBoostRegressor(loss_function=\"RMSE\", \n",
    "                          iterations=90, \n",
    "                          learning_rate=0.3, \n",
    "                          depth=2)"
   ]
  },
  {
   "cell_type": "code",
   "execution_count": 107,
   "metadata": {},
   "outputs": [
    {
     "name": "stdout",
     "output_type": "stream",
     "text": [
      "0:\tlearn: 2993.1764917\ttotal: 24.9ms\tremaining: 2.21s\n",
      "50:\tlearn: 1609.0891287\ttotal: 905ms\tremaining: 692ms\n",
      "89:\tlearn: 1570.6484972\ttotal: 1.6s\tremaining: 0us\n"
     ]
    },
    {
     "data": {
      "text/plain": [
       "<catboost.core.CatBoostRegressor at 0x7f2f53e33160>"
      ]
     },
     "execution_count": 107,
     "metadata": {},
     "output_type": "execute_result"
    }
   ],
   "source": [
    "model_1.fit(features_train_alt, target_train, verbose=50)"
   ]
  },
  {
   "cell_type": "code",
   "execution_count": 108,
   "metadata": {},
   "outputs": [
    {
     "name": "stdout",
     "output_type": "stream",
     "text": [
      "RMSE лучшей модели на тестовой выборке 2081\n"
     ]
    }
   ],
   "source": [
    "print('RMSE лучшей модели на тестовой выборке', \n",
    "      round(mean_squared_error(target_test, model_1.predict(features_test_alt))**0.5))\n",
    "\n"
   ]
  },
  {
   "cell_type": "markdown",
   "metadata": {},
   "source": [
    "Модель переобучилась."
   ]
  }
 ],
 "metadata": {
  "ExecuteTimeLog": [
   {
    "duration": 1701,
    "start_time": "2023-02-19T16:46:13.831Z"
   },
   {
    "duration": 3536,
    "start_time": "2023-02-19T16:50:31.815Z"
   },
   {
    "duration": 27,
    "start_time": "2023-02-19T16:51:22.753Z"
   },
   {
    "duration": 39,
    "start_time": "2023-02-19T16:52:20.865Z"
   },
   {
    "duration": 24,
    "start_time": "2023-02-19T16:56:45.442Z"
   },
   {
    "duration": 3,
    "start_time": "2023-02-19T16:57:21.355Z"
   },
   {
    "duration": 24,
    "start_time": "2023-02-19T16:57:28.085Z"
   },
   {
    "duration": 127,
    "start_time": "2023-02-19T16:57:48.961Z"
   },
   {
    "duration": 93,
    "start_time": "2023-02-19T17:01:39.666Z"
   },
   {
    "duration": 102,
    "start_time": "2023-02-20T06:36:36.446Z"
   },
   {
    "duration": 52,
    "start_time": "2023-02-20T06:52:20.656Z"
   },
   {
    "duration": 831,
    "start_time": "2023-02-20T07:03:32.044Z"
   },
   {
    "duration": 217,
    "start_time": "2023-02-20T07:23:51.251Z"
   },
   {
    "duration": 1860,
    "start_time": "2023-02-20T07:24:22.199Z"
   },
   {
    "duration": 1213,
    "start_time": "2023-02-20T07:24:24.065Z"
   },
   {
    "duration": 44,
    "start_time": "2023-02-20T07:24:25.281Z"
   },
   {
    "duration": 80,
    "start_time": "2023-02-20T07:24:25.327Z"
   },
   {
    "duration": 259,
    "start_time": "2023-02-20T07:24:25.409Z"
   },
   {
    "duration": 120,
    "start_time": "2023-02-20T07:24:25.670Z"
   },
   {
    "duration": 71,
    "start_time": "2023-02-20T07:24:25.792Z"
   },
   {
    "duration": 1000,
    "start_time": "2023-02-20T07:24:25.866Z"
   },
   {
    "duration": 4,
    "start_time": "2023-02-20T07:24:26.868Z"
   },
   {
    "duration": 11,
    "start_time": "2023-02-20T07:24:26.875Z"
   },
   {
    "duration": 568,
    "start_time": "2023-02-20T07:33:30.938Z"
   },
   {
    "duration": 86,
    "start_time": "2023-02-20T07:39:09.481Z"
   },
   {
    "duration": 264,
    "start_time": "2023-02-20T07:40:41.305Z"
   },
   {
    "duration": 832,
    "start_time": "2023-02-20T07:41:23.550Z"
   },
   {
    "duration": 72,
    "start_time": "2023-02-20T07:42:39.495Z"
   },
   {
    "duration": 5,
    "start_time": "2023-02-20T07:45:28.052Z"
   },
   {
    "duration": 1030,
    "start_time": "2023-02-20T07:45:28.060Z"
   },
   {
    "duration": 31,
    "start_time": "2023-02-20T07:45:29.093Z"
   },
   {
    "duration": 32,
    "start_time": "2023-02-20T07:45:29.127Z"
   },
   {
    "duration": 220,
    "start_time": "2023-02-20T07:45:29.161Z"
   },
   {
    "duration": 111,
    "start_time": "2023-02-20T07:45:29.383Z"
   },
   {
    "duration": 53,
    "start_time": "2023-02-20T07:45:29.496Z"
   },
   {
    "duration": 689,
    "start_time": "2023-02-20T07:45:29.552Z"
   },
   {
    "duration": 653,
    "start_time": "2023-02-20T07:45:30.244Z"
   },
   {
    "duration": 239,
    "start_time": "2023-02-20T07:56:41.360Z"
   },
   {
    "duration": 600,
    "start_time": "2023-02-20T07:56:48.472Z"
   },
   {
    "duration": 1545,
    "start_time": "2023-02-20T08:03:14.452Z"
   },
   {
    "duration": 913,
    "start_time": "2023-02-20T08:03:15.999Z"
   },
   {
    "duration": 40,
    "start_time": "2023-02-20T08:03:16.914Z"
   },
   {
    "duration": 4,
    "start_time": "2023-02-20T08:03:16.956Z"
   },
   {
    "duration": 244,
    "start_time": "2023-02-20T08:03:16.963Z"
   },
   {
    "duration": 117,
    "start_time": "2023-02-20T08:03:17.209Z"
   },
   {
    "duration": 51,
    "start_time": "2023-02-20T08:03:17.330Z"
   },
   {
    "duration": 634,
    "start_time": "2023-02-20T08:03:17.383Z"
   },
   {
    "duration": 560,
    "start_time": "2023-02-20T08:03:18.020Z"
   },
   {
    "duration": 244,
    "start_time": "2023-02-20T08:03:18.582Z"
   },
   {
    "duration": 700,
    "start_time": "2023-02-20T08:03:18.829Z"
   },
   {
    "duration": 59,
    "start_time": "2023-02-20T08:03:19.532Z"
   },
   {
    "duration": 3,
    "start_time": "2023-02-20T08:03:19.593Z"
   },
   {
    "duration": 22,
    "start_time": "2023-02-20T08:03:19.599Z"
   },
   {
    "duration": 97,
    "start_time": "2023-02-20T08:38:10.061Z"
   },
   {
    "duration": 697,
    "start_time": "2023-02-20T08:38:25.554Z"
   },
   {
    "duration": 65,
    "start_time": "2023-02-20T08:39:08.171Z"
   },
   {
    "duration": 11,
    "start_time": "2023-02-20T08:49:36.871Z"
   },
   {
    "duration": 8,
    "start_time": "2023-02-20T08:49:41.692Z"
   },
   {
    "duration": 9,
    "start_time": "2023-02-20T08:50:47.173Z"
   },
   {
    "duration": 10,
    "start_time": "2023-02-20T08:51:02.896Z"
   },
   {
    "duration": 11,
    "start_time": "2023-02-20T08:51:14.899Z"
   },
   {
    "duration": 11,
    "start_time": "2023-02-20T08:51:21.113Z"
   },
   {
    "duration": 10,
    "start_time": "2023-02-20T08:51:27.121Z"
   },
   {
    "duration": 8,
    "start_time": "2023-02-20T08:51:45.396Z"
   },
   {
    "duration": 8,
    "start_time": "2023-02-20T08:51:52.094Z"
   },
   {
    "duration": 8,
    "start_time": "2023-02-20T08:51:57.514Z"
   },
   {
    "duration": 11,
    "start_time": "2023-02-20T08:59:39.338Z"
   },
   {
    "duration": 11,
    "start_time": "2023-02-20T08:59:46.789Z"
   },
   {
    "duration": 160,
    "start_time": "2023-02-20T09:03:05.605Z"
   },
   {
    "duration": 2077,
    "start_time": "2023-02-20T09:03:13.632Z"
   },
   {
    "duration": 33,
    "start_time": "2023-02-20T09:03:30.517Z"
   },
   {
    "duration": 37,
    "start_time": "2023-02-20T09:05:26.382Z"
   },
   {
    "duration": 284,
    "start_time": "2023-02-20T09:06:19.895Z"
   },
   {
    "duration": 237,
    "start_time": "2023-02-20T09:07:05.860Z"
   },
   {
    "duration": 4,
    "start_time": "2023-02-20T09:07:41.763Z"
   },
   {
    "duration": 984,
    "start_time": "2023-02-20T09:07:41.769Z"
   },
   {
    "duration": 37,
    "start_time": "2023-02-20T09:07:42.756Z"
   },
   {
    "duration": 4,
    "start_time": "2023-02-20T09:07:42.796Z"
   },
   {
    "duration": 196,
    "start_time": "2023-02-20T09:07:42.803Z"
   },
   {
    "duration": 108,
    "start_time": "2023-02-20T09:07:43.004Z"
   },
   {
    "duration": 56,
    "start_time": "2023-02-20T09:07:43.121Z"
   },
   {
    "duration": 760,
    "start_time": "2023-02-20T09:07:43.180Z"
   },
   {
    "duration": 793,
    "start_time": "2023-02-20T09:07:43.944Z"
   },
   {
    "duration": 280,
    "start_time": "2023-02-20T09:07:44.740Z"
   },
   {
    "duration": 813,
    "start_time": "2023-02-20T09:07:45.038Z"
   },
   {
    "duration": 78,
    "start_time": "2023-02-20T09:07:45.854Z"
   },
   {
    "duration": 86,
    "start_time": "2023-02-20T09:07:45.940Z"
   },
   {
    "duration": 779,
    "start_time": "2023-02-20T09:07:46.031Z"
   },
   {
    "duration": 72,
    "start_time": "2023-02-20T09:07:46.813Z"
   },
   {
    "duration": 10,
    "start_time": "2023-02-20T09:07:46.888Z"
   },
   {
    "duration": 56,
    "start_time": "2023-02-20T09:07:46.901Z"
   },
   {
    "duration": 284,
    "start_time": "2023-02-20T09:07:46.960Z"
   },
   {
    "duration": 244,
    "start_time": "2023-02-20T09:07:58.155Z"
   },
   {
    "duration": 11,
    "start_time": "2023-02-20T09:08:43.360Z"
   },
   {
    "duration": 11,
    "start_time": "2023-02-20T09:09:02.660Z"
   },
   {
    "duration": 32,
    "start_time": "2023-02-20T09:11:21.900Z"
   },
   {
    "duration": 218,
    "start_time": "2023-02-20T09:11:23.059Z"
   },
   {
    "duration": 339,
    "start_time": "2023-02-20T09:11:51.956Z"
   },
   {
    "duration": 215,
    "start_time": "2023-02-20T09:12:09.895Z"
   },
   {
    "duration": 124,
    "start_time": "2023-02-20T09:14:01.358Z"
   },
   {
    "duration": 27,
    "start_time": "2023-02-20T10:17:31.355Z"
   },
   {
    "duration": 105,
    "start_time": "2023-02-20T10:17:54.609Z"
   },
   {
    "duration": 71,
    "start_time": "2023-02-20T10:30:27.022Z"
   },
   {
    "duration": 11,
    "start_time": "2023-02-20T10:35:16.424Z"
   },
   {
    "duration": 21,
    "start_time": "2023-02-20T10:37:58.463Z"
   },
   {
    "duration": 47,
    "start_time": "2023-02-20T11:14:07.226Z"
   },
   {
    "duration": 1445,
    "start_time": "2023-02-20T11:14:19.478Z"
   },
   {
    "duration": 811,
    "start_time": "2023-02-20T11:14:20.925Z"
   },
   {
    "duration": 29,
    "start_time": "2023-02-20T11:14:21.738Z"
   },
   {
    "duration": 3,
    "start_time": "2023-02-20T11:14:21.769Z"
   },
   {
    "duration": 141,
    "start_time": "2023-02-20T11:14:21.774Z"
   },
   {
    "duration": 100,
    "start_time": "2023-02-20T11:14:21.921Z"
   },
   {
    "duration": 45,
    "start_time": "2023-02-20T11:14:22.022Z"
   },
   {
    "duration": 637,
    "start_time": "2023-02-20T11:14:22.069Z"
   },
   {
    "duration": 499,
    "start_time": "2023-02-20T11:14:22.708Z"
   },
   {
    "duration": 223,
    "start_time": "2023-02-20T11:14:23.210Z"
   },
   {
    "duration": 693,
    "start_time": "2023-02-20T11:14:23.435Z"
   },
   {
    "duration": 54,
    "start_time": "2023-02-20T11:14:24.130Z"
   },
   {
    "duration": 81,
    "start_time": "2023-02-20T11:14:24.186Z"
   },
   {
    "duration": 698,
    "start_time": "2023-02-20T11:14:24.271Z"
   },
   {
    "duration": 56,
    "start_time": "2023-02-20T11:14:24.970Z"
   },
   {
    "duration": 7,
    "start_time": "2023-02-20T11:14:25.027Z"
   },
   {
    "duration": 47,
    "start_time": "2023-02-20T11:14:25.036Z"
   },
   {
    "duration": 215,
    "start_time": "2023-02-20T11:14:25.090Z"
   },
   {
    "duration": 20,
    "start_time": "2023-02-20T11:14:25.307Z"
   },
   {
    "duration": 221,
    "start_time": "2023-02-20T11:14:25.329Z"
   },
   {
    "duration": 24,
    "start_time": "2023-02-20T11:14:25.552Z"
   },
   {
    "duration": 254,
    "start_time": "2023-02-20T11:14:25.579Z"
   },
   {
    "duration": 95,
    "start_time": "2023-02-20T11:14:25.835Z"
   },
   {
    "duration": 21,
    "start_time": "2023-02-20T11:14:25.932Z"
   },
   {
    "duration": 125,
    "start_time": "2023-02-20T11:14:25.955Z"
   },
   {
    "duration": 12,
    "start_time": "2023-02-20T11:14:26.082Z"
   },
   {
    "duration": 49,
    "start_time": "2023-02-20T11:14:26.096Z"
   },
   {
    "duration": 1558,
    "start_time": "2023-02-20T11:17:20.596Z"
   },
   {
    "duration": 916,
    "start_time": "2023-02-20T11:17:22.156Z"
   },
   {
    "duration": 29,
    "start_time": "2023-02-20T11:17:23.073Z"
   },
   {
    "duration": 4,
    "start_time": "2023-02-20T11:17:23.104Z"
   },
   {
    "duration": 142,
    "start_time": "2023-02-20T11:17:23.121Z"
   },
   {
    "duration": 113,
    "start_time": "2023-02-20T11:17:23.264Z"
   },
   {
    "duration": 62,
    "start_time": "2023-02-20T11:17:23.379Z"
   },
   {
    "duration": 621,
    "start_time": "2023-02-20T11:17:23.443Z"
   },
   {
    "duration": 545,
    "start_time": "2023-02-20T11:17:24.066Z"
   },
   {
    "duration": 354,
    "start_time": "2023-02-20T11:17:24.620Z"
   },
   {
    "duration": 603,
    "start_time": "2023-02-20T11:17:24.975Z"
   },
   {
    "duration": 53,
    "start_time": "2023-02-20T11:17:25.580Z"
   },
   {
    "duration": 88,
    "start_time": "2023-02-20T11:17:25.635Z"
   },
   {
    "duration": 611,
    "start_time": "2023-02-20T11:17:25.725Z"
   },
   {
    "duration": 47,
    "start_time": "2023-02-20T11:17:26.338Z"
   },
   {
    "duration": 8,
    "start_time": "2023-02-20T11:17:26.386Z"
   },
   {
    "duration": 56,
    "start_time": "2023-02-20T11:17:26.396Z"
   },
   {
    "duration": 234,
    "start_time": "2023-02-20T11:17:26.454Z"
   },
   {
    "duration": 7,
    "start_time": "2023-02-20T11:17:26.690Z"
   },
   {
    "duration": 218,
    "start_time": "2023-02-20T11:17:26.699Z"
   },
   {
    "duration": 26,
    "start_time": "2023-02-20T11:17:26.918Z"
   },
   {
    "duration": 236,
    "start_time": "2023-02-20T11:17:26.946Z"
   },
   {
    "duration": 97,
    "start_time": "2023-02-20T11:17:27.184Z"
   },
   {
    "duration": 39,
    "start_time": "2023-02-20T11:17:27.283Z"
   },
   {
    "duration": 123,
    "start_time": "2023-02-20T11:17:27.324Z"
   },
   {
    "duration": 12,
    "start_time": "2023-02-20T11:17:27.449Z"
   },
   {
    "duration": 24,
    "start_time": "2023-02-20T11:17:27.462Z"
   },
   {
    "duration": 1589,
    "start_time": "2023-02-21T08:00:24.259Z"
   },
   {
    "duration": 1161,
    "start_time": "2023-02-21T08:00:29.197Z"
   },
   {
    "duration": 3,
    "start_time": "2023-02-21T08:01:53.272Z"
   },
   {
    "duration": 1189,
    "start_time": "2023-02-21T08:03:12.326Z"
   },
   {
    "duration": 1112,
    "start_time": "2023-02-21T08:05:54.868Z"
   },
   {
    "duration": 4,
    "start_time": "2023-02-21T08:05:57.473Z"
   },
   {
    "duration": 527,
    "start_time": "2023-02-21T08:05:59.254Z"
   },
   {
    "duration": 888,
    "start_time": "2023-02-21T08:07:27.107Z"
   },
   {
    "duration": 3,
    "start_time": "2023-02-21T08:07:28.757Z"
   },
   {
    "duration": 807,
    "start_time": "2023-02-21T08:07:31.313Z"
   },
   {
    "duration": 992,
    "start_time": "2023-02-21T08:08:44.866Z"
   },
   {
    "duration": 3,
    "start_time": "2023-02-21T08:08:47.396Z"
   },
   {
    "duration": 527,
    "start_time": "2023-02-21T08:08:50.433Z"
   },
   {
    "duration": 4,
    "start_time": "2023-02-21T08:36:51.087Z"
   },
   {
    "duration": 25,
    "start_time": "2023-02-21T08:42:37.115Z"
   },
   {
    "duration": 143,
    "start_time": "2023-02-21T10:09:28.897Z"
   },
   {
    "duration": 418,
    "start_time": "2023-02-21T10:13:09.670Z"
   },
   {
    "duration": 1034,
    "start_time": "2023-02-21T10:15:32.993Z"
   },
   {
    "duration": 439,
    "start_time": "2023-02-21T10:18:54.576Z"
   },
   {
    "duration": 4,
    "start_time": "2023-02-21T10:34:08.320Z"
   },
   {
    "duration": 1070,
    "start_time": "2023-02-21T10:34:08.326Z"
   },
   {
    "duration": 3,
    "start_time": "2023-02-21T10:34:09.398Z"
   },
   {
    "duration": 519,
    "start_time": "2023-02-21T10:34:09.403Z"
   },
   {
    "duration": 3,
    "start_time": "2023-02-21T10:34:09.924Z"
   },
   {
    "duration": 20,
    "start_time": "2023-02-21T10:34:14.591Z"
   },
   {
    "duration": 85,
    "start_time": "2023-02-21T10:37:47.017Z"
   },
   {
    "duration": 383,
    "start_time": "2023-02-21T10:38:02.694Z"
   },
   {
    "duration": 993,
    "start_time": "2023-02-21T10:38:25.924Z"
   },
   {
    "duration": 1065,
    "start_time": "2023-02-21T10:38:43.122Z"
   },
   {
    "duration": 613,
    "start_time": "2023-02-21T10:40:18.239Z"
   },
   {
    "duration": 105,
    "start_time": "2023-02-21T10:41:49.211Z"
   },
   {
    "duration": 1222,
    "start_time": "2023-02-21T10:42:22.943Z"
   },
   {
    "duration": 66,
    "start_time": "2023-02-21T10:45:46.330Z"
   },
   {
    "duration": 43,
    "start_time": "2023-02-21T10:47:46.178Z"
   },
   {
    "duration": 28,
    "start_time": "2023-02-21T10:51:15.096Z"
   },
   {
    "duration": 39,
    "start_time": "2023-02-21T10:51:41.712Z"
   },
   {
    "duration": 8,
    "start_time": "2023-02-21T10:53:32.197Z"
   },
   {
    "duration": 9,
    "start_time": "2023-02-21T10:53:37.713Z"
   },
   {
    "duration": 7,
    "start_time": "2023-02-21T10:53:45.276Z"
   },
   {
    "duration": 7,
    "start_time": "2023-02-21T10:53:50.136Z"
   },
   {
    "duration": 189,
    "start_time": "2023-02-21T10:54:47.427Z"
   },
   {
    "duration": 796,
    "start_time": "2023-02-21T10:55:36.120Z"
   },
   {
    "duration": 14,
    "start_time": "2023-02-21T10:55:41.779Z"
   },
   {
    "duration": 195,
    "start_time": "2023-02-21T10:55:55.215Z"
   },
   {
    "duration": 10,
    "start_time": "2023-02-21T10:57:35.898Z"
   },
   {
    "duration": 202,
    "start_time": "2023-02-21T10:58:14.302Z"
   },
   {
    "duration": 684,
    "start_time": "2023-02-21T10:59:24.612Z"
   },
   {
    "duration": 14,
    "start_time": "2023-02-21T10:59:29.810Z"
   },
   {
    "duration": 226,
    "start_time": "2023-02-21T10:59:38.540Z"
   },
   {
    "duration": 209,
    "start_time": "2023-02-21T11:00:00.246Z"
   },
   {
    "duration": 274,
    "start_time": "2023-02-21T11:00:44.619Z"
   },
   {
    "duration": 194,
    "start_time": "2023-02-21T11:01:58.496Z"
   },
   {
    "duration": 306,
    "start_time": "2023-02-21T11:07:31.724Z"
   },
   {
    "duration": 1105,
    "start_time": "2023-02-21T11:10:42.125Z"
   },
   {
    "duration": 11,
    "start_time": "2023-02-21T11:13:50.134Z"
   },
   {
    "duration": 1496,
    "start_time": "2023-02-21T11:16:13.116Z"
   },
   {
    "duration": 1054,
    "start_time": "2023-02-21T11:16:14.615Z"
   },
   {
    "duration": 3,
    "start_time": "2023-02-21T11:16:15.670Z"
   },
   {
    "duration": 565,
    "start_time": "2023-02-21T11:16:15.675Z"
   },
   {
    "duration": 3,
    "start_time": "2023-02-21T11:16:16.242Z"
   },
   {
    "duration": 34,
    "start_time": "2023-02-21T11:16:16.247Z"
   },
   {
    "duration": 99,
    "start_time": "2023-02-21T11:16:16.282Z"
   },
   {
    "duration": 390,
    "start_time": "2023-02-21T11:16:16.383Z"
   },
   {
    "duration": 1122,
    "start_time": "2023-02-21T11:16:16.775Z"
   },
   {
    "duration": 550,
    "start_time": "2023-02-21T11:16:17.900Z"
   },
   {
    "duration": 122,
    "start_time": "2023-02-21T11:16:18.452Z"
   },
   {
    "duration": 72,
    "start_time": "2023-02-21T11:16:18.576Z"
   },
   {
    "duration": 43,
    "start_time": "2023-02-21T11:16:18.650Z"
   },
   {
    "duration": 45,
    "start_time": "2023-02-21T11:16:18.695Z"
   },
   {
    "duration": 38,
    "start_time": "2023-02-21T11:16:18.742Z"
   },
   {
    "duration": 7,
    "start_time": "2023-02-21T11:16:18.781Z"
   },
   {
    "duration": 226,
    "start_time": "2023-02-21T11:16:18.789Z"
   },
   {
    "duration": 27,
    "start_time": "2023-02-21T11:16:19.017Z"
   },
   {
    "duration": 259,
    "start_time": "2023-02-21T11:16:19.046Z"
   },
   {
    "duration": 8,
    "start_time": "2023-02-21T11:16:19.307Z"
   },
   {
    "duration": 245,
    "start_time": "2023-02-21T11:16:19.317Z"
   },
   {
    "duration": 14,
    "start_time": "2023-02-21T11:16:19.564Z"
   },
   {
    "duration": 210,
    "start_time": "2023-02-21T11:16:19.579Z"
   },
   {
    "duration": 1084,
    "start_time": "2023-02-21T11:16:19.791Z"
   },
   {
    "duration": 285,
    "start_time": "2023-02-21T11:16:20.877Z"
   },
   {
    "duration": 8,
    "start_time": "2023-02-21T11:16:38.184Z"
   },
   {
    "duration": 1403,
    "start_time": "2023-02-21T11:19:02.380Z"
   },
   {
    "duration": 1039,
    "start_time": "2023-02-21T11:19:03.785Z"
   },
   {
    "duration": 3,
    "start_time": "2023-02-21T11:19:04.826Z"
   },
   {
    "duration": 563,
    "start_time": "2023-02-21T11:19:04.832Z"
   },
   {
    "duration": 4,
    "start_time": "2023-02-21T11:19:05.396Z"
   },
   {
    "duration": 50,
    "start_time": "2023-02-21T11:19:05.401Z"
   },
   {
    "duration": 110,
    "start_time": "2023-02-21T11:19:05.453Z"
   },
   {
    "duration": 387,
    "start_time": "2023-02-21T11:19:05.565Z"
   },
   {
    "duration": 1137,
    "start_time": "2023-02-21T11:19:05.954Z"
   },
   {
    "duration": 594,
    "start_time": "2023-02-21T11:19:07.094Z"
   },
   {
    "duration": 116,
    "start_time": "2023-02-21T11:19:07.690Z"
   },
   {
    "duration": 74,
    "start_time": "2023-02-21T11:19:07.808Z"
   },
   {
    "duration": 61,
    "start_time": "2023-02-21T11:19:07.884Z"
   },
   {
    "duration": 30,
    "start_time": "2023-02-21T11:19:07.946Z"
   },
   {
    "duration": 40,
    "start_time": "2023-02-21T11:19:07.977Z"
   },
   {
    "duration": 26,
    "start_time": "2023-02-21T11:19:08.019Z"
   },
   {
    "duration": 211,
    "start_time": "2023-02-21T11:19:08.047Z"
   },
   {
    "duration": 15,
    "start_time": "2023-02-21T11:19:08.260Z"
   },
   {
    "duration": 208,
    "start_time": "2023-02-21T11:19:08.276Z"
   },
   {
    "duration": 8,
    "start_time": "2023-02-21T11:19:08.486Z"
   },
   {
    "duration": 232,
    "start_time": "2023-02-21T11:19:08.495Z"
   },
   {
    "duration": 17,
    "start_time": "2023-02-21T11:19:08.729Z"
   },
   {
    "duration": 222,
    "start_time": "2023-02-21T11:19:08.747Z"
   },
   {
    "duration": 1197,
    "start_time": "2023-02-21T11:19:08.971Z"
   },
   {
    "duration": 8,
    "start_time": "2023-02-21T11:19:25.524Z"
   },
   {
    "duration": 51,
    "start_time": "2023-02-21T11:19:46.538Z"
   },
   {
    "duration": 5,
    "start_time": "2023-02-21T11:24:50.640Z"
   },
   {
    "duration": 1059,
    "start_time": "2023-02-21T11:24:50.648Z"
   },
   {
    "duration": 3,
    "start_time": "2023-02-21T11:24:51.709Z"
   },
   {
    "duration": 558,
    "start_time": "2023-02-21T11:24:51.714Z"
   },
   {
    "duration": 4,
    "start_time": "2023-02-21T11:24:52.274Z"
   },
   {
    "duration": 28,
    "start_time": "2023-02-21T11:24:52.280Z"
   },
   {
    "duration": 100,
    "start_time": "2023-02-21T11:24:52.310Z"
   },
   {
    "duration": 405,
    "start_time": "2023-02-21T11:24:52.412Z"
   },
   {
    "duration": 1197,
    "start_time": "2023-02-21T11:24:52.820Z"
   },
   {
    "duration": 507,
    "start_time": "2023-02-21T11:24:54.019Z"
   },
   {
    "duration": 112,
    "start_time": "2023-02-21T11:24:54.529Z"
   },
   {
    "duration": 65,
    "start_time": "2023-02-21T11:24:54.642Z"
   },
   {
    "duration": 63,
    "start_time": "2023-02-21T11:24:54.709Z"
   },
   {
    "duration": 30,
    "start_time": "2023-02-21T11:24:54.774Z"
   },
   {
    "duration": 55,
    "start_time": "2023-02-21T11:24:54.805Z"
   },
   {
    "duration": 6,
    "start_time": "2023-02-21T11:24:54.862Z"
   },
   {
    "duration": 204,
    "start_time": "2023-02-21T11:24:54.870Z"
   },
   {
    "duration": 13,
    "start_time": "2023-02-21T11:24:55.076Z"
   },
   {
    "duration": 213,
    "start_time": "2023-02-21T11:24:55.091Z"
   },
   {
    "duration": 8,
    "start_time": "2023-02-21T11:24:55.306Z"
   },
   {
    "duration": 224,
    "start_time": "2023-02-21T11:24:55.316Z"
   },
   {
    "duration": 15,
    "start_time": "2023-02-21T11:24:55.542Z"
   },
   {
    "duration": 213,
    "start_time": "2023-02-21T11:24:55.559Z"
   },
   {
    "duration": 1274,
    "start_time": "2023-02-21T11:24:55.775Z"
   },
   {
    "duration": 304,
    "start_time": "2023-02-21T11:25:05.879Z"
   },
   {
    "duration": 118,
    "start_time": "2023-02-21T11:26:12.680Z"
   },
   {
    "duration": 10,
    "start_time": "2023-02-21T11:27:04.697Z"
   },
   {
    "duration": 11,
    "start_time": "2023-02-21T11:28:32.681Z"
   },
   {
    "duration": 5,
    "start_time": "2023-02-21T11:28:43.743Z"
   },
   {
    "duration": 225,
    "start_time": "2023-02-21T11:28:55.201Z"
   },
   {
    "duration": 49,
    "start_time": "2023-02-21T11:30:04.177Z"
   },
   {
    "duration": 4,
    "start_time": "2023-02-21T13:10:50.291Z"
   },
   {
    "duration": 951,
    "start_time": "2023-02-21T13:10:50.297Z"
   },
   {
    "duration": 3,
    "start_time": "2023-02-21T13:10:51.250Z"
   },
   {
    "duration": 539,
    "start_time": "2023-02-21T13:10:51.255Z"
   },
   {
    "duration": 4,
    "start_time": "2023-02-21T13:10:51.796Z"
   },
   {
    "duration": 26,
    "start_time": "2023-02-21T13:10:51.801Z"
   },
   {
    "duration": 88,
    "start_time": "2023-02-21T13:10:51.830Z"
   },
   {
    "duration": 418,
    "start_time": "2023-02-21T13:10:51.921Z"
   },
   {
    "duration": 1079,
    "start_time": "2023-02-21T13:10:52.341Z"
   },
   {
    "duration": 508,
    "start_time": "2023-02-21T13:10:53.422Z"
   },
   {
    "duration": 111,
    "start_time": "2023-02-21T13:10:53.932Z"
   },
   {
    "duration": 63,
    "start_time": "2023-02-21T13:10:54.045Z"
   },
   {
    "duration": 64,
    "start_time": "2023-02-21T13:10:54.110Z"
   },
   {
    "duration": 32,
    "start_time": "2023-02-21T13:10:54.177Z"
   },
   {
    "duration": 54,
    "start_time": "2023-02-21T13:10:54.211Z"
   },
   {
    "duration": 6,
    "start_time": "2023-02-21T13:10:54.267Z"
   },
   {
    "duration": 221,
    "start_time": "2023-02-21T13:10:54.275Z"
   },
   {
    "duration": 14,
    "start_time": "2023-02-21T13:10:54.498Z"
   },
   {
    "duration": 221,
    "start_time": "2023-02-21T13:10:54.514Z"
   },
   {
    "duration": 10,
    "start_time": "2023-02-21T13:10:54.737Z"
   },
   {
    "duration": 361,
    "start_time": "2023-02-21T13:10:54.749Z"
   },
   {
    "duration": 14,
    "start_time": "2023-02-21T13:10:55.112Z"
   },
   {
    "duration": 214,
    "start_time": "2023-02-21T13:10:55.128Z"
   },
   {
    "duration": 1163,
    "start_time": "2023-02-21T13:10:55.343Z"
   },
   {
    "duration": 290,
    "start_time": "2023-02-21T13:10:56.508Z"
   },
   {
    "duration": 10,
    "start_time": "2023-02-21T13:10:56.800Z"
   },
   {
    "duration": 48,
    "start_time": "2023-02-21T13:11:18.737Z"
   },
   {
    "duration": 8,
    "start_time": "2023-02-21T13:13:03.015Z"
   },
   {
    "duration": 7,
    "start_time": "2023-02-21T13:13:14.411Z"
   },
   {
    "duration": 7,
    "start_time": "2023-02-21T13:13:23.120Z"
   },
   {
    "duration": 8,
    "start_time": "2023-02-21T13:13:37.213Z"
   },
   {
    "duration": 8,
    "start_time": "2023-02-21T13:14:28.994Z"
   },
   {
    "duration": 4,
    "start_time": "2023-02-21T13:23:03.888Z"
   },
   {
    "duration": 988,
    "start_time": "2023-02-21T13:23:03.894Z"
   },
   {
    "duration": 4,
    "start_time": "2023-02-21T13:23:04.884Z"
   },
   {
    "duration": 567,
    "start_time": "2023-02-21T13:23:04.890Z"
   },
   {
    "duration": 4,
    "start_time": "2023-02-21T13:23:05.459Z"
   },
   {
    "duration": 39,
    "start_time": "2023-02-21T13:23:05.464Z"
   },
   {
    "duration": 74,
    "start_time": "2023-02-21T13:23:05.505Z"
   },
   {
    "duration": 398,
    "start_time": "2023-02-21T13:23:05.581Z"
   },
   {
    "duration": 1061,
    "start_time": "2023-02-21T13:23:05.982Z"
   },
   {
    "duration": 630,
    "start_time": "2023-02-21T13:23:07.045Z"
   },
   {
    "duration": 108,
    "start_time": "2023-02-21T13:23:07.677Z"
   },
   {
    "duration": 71,
    "start_time": "2023-02-21T13:23:07.787Z"
   },
   {
    "duration": 45,
    "start_time": "2023-02-21T13:23:07.860Z"
   },
   {
    "duration": 50,
    "start_time": "2023-02-21T13:23:07.906Z"
   },
   {
    "duration": 47,
    "start_time": "2023-02-21T13:23:07.959Z"
   },
   {
    "duration": 10,
    "start_time": "2023-02-21T13:23:08.008Z"
   },
   {
    "duration": 230,
    "start_time": "2023-02-21T13:23:08.020Z"
   },
   {
    "duration": 13,
    "start_time": "2023-02-21T13:23:08.252Z"
   },
   {
    "duration": 213,
    "start_time": "2023-02-21T13:23:08.267Z"
   },
   {
    "duration": 10,
    "start_time": "2023-02-21T13:23:08.482Z"
   },
   {
    "duration": 234,
    "start_time": "2023-02-21T13:23:08.494Z"
   },
   {
    "duration": 19,
    "start_time": "2023-02-21T13:23:08.729Z"
   },
   {
    "duration": 200,
    "start_time": "2023-02-21T13:23:08.750Z"
   },
   {
    "duration": 1171,
    "start_time": "2023-02-21T13:23:08.953Z"
   },
   {
    "duration": 287,
    "start_time": "2023-02-21T13:23:10.126Z"
   },
   {
    "duration": 7,
    "start_time": "2023-02-21T13:23:20.914Z"
   },
   {
    "duration": 52,
    "start_time": "2023-02-21T13:23:25.837Z"
   },
   {
    "duration": 4,
    "start_time": "2023-02-21T13:24:28.010Z"
   },
   {
    "duration": 1065,
    "start_time": "2023-02-21T13:24:28.016Z"
   },
   {
    "duration": 4,
    "start_time": "2023-02-21T13:24:29.083Z"
   },
   {
    "duration": 541,
    "start_time": "2023-02-21T13:24:29.089Z"
   },
   {
    "duration": 8,
    "start_time": "2023-02-21T13:24:29.632Z"
   },
   {
    "duration": 32,
    "start_time": "2023-02-21T13:24:29.642Z"
   },
   {
    "duration": 82,
    "start_time": "2023-02-21T13:24:29.676Z"
   },
   {
    "duration": 405,
    "start_time": "2023-02-21T13:24:29.760Z"
   },
   {
    "duration": 1199,
    "start_time": "2023-02-21T13:24:30.167Z"
   },
   {
    "duration": 503,
    "start_time": "2023-02-21T13:24:31.369Z"
   },
   {
    "duration": 118,
    "start_time": "2023-02-21T13:24:31.874Z"
   },
   {
    "duration": 81,
    "start_time": "2023-02-21T13:24:31.994Z"
   },
   {
    "duration": 45,
    "start_time": "2023-02-21T13:24:32.077Z"
   },
   {
    "duration": 31,
    "start_time": "2023-02-21T13:24:32.139Z"
   },
   {
    "duration": 39,
    "start_time": "2023-02-21T13:24:32.172Z"
   },
   {
    "duration": 28,
    "start_time": "2023-02-21T13:24:32.213Z"
   },
   {
    "duration": 202,
    "start_time": "2023-02-21T13:24:32.243Z"
   },
   {
    "duration": 14,
    "start_time": "2023-02-21T13:24:32.447Z"
   },
   {
    "duration": 212,
    "start_time": "2023-02-21T13:24:32.462Z"
   },
   {
    "duration": 7,
    "start_time": "2023-02-21T13:24:32.676Z"
   },
   {
    "duration": 217,
    "start_time": "2023-02-21T13:24:32.685Z"
   },
   {
    "duration": 14,
    "start_time": "2023-02-21T13:24:32.904Z"
   },
   {
    "duration": 205,
    "start_time": "2023-02-21T13:24:32.919Z"
   },
   {
    "duration": 1263,
    "start_time": "2023-02-21T13:24:33.126Z"
   },
   {
    "duration": 303,
    "start_time": "2023-02-21T13:24:34.391Z"
   },
   {
    "duration": 8,
    "start_time": "2023-02-21T13:24:40.407Z"
   },
   {
    "duration": 49,
    "start_time": "2023-02-21T13:24:44.206Z"
   },
   {
    "duration": 4,
    "start_time": "2023-02-21T13:26:28.952Z"
   },
   {
    "duration": 15,
    "start_time": "2023-02-21T13:26:45.731Z"
   },
   {
    "duration": 48,
    "start_time": "2023-02-21T13:27:04.699Z"
   },
   {
    "duration": 7,
    "start_time": "2023-02-21T13:28:22.026Z"
   },
   {
    "duration": 226,
    "start_time": "2023-02-21T13:28:47.204Z"
   },
   {
    "duration": 9,
    "start_time": "2023-02-21T13:29:09.026Z"
   },
   {
    "duration": 6,
    "start_time": "2023-02-21T13:29:14.850Z"
   },
   {
    "duration": 8,
    "start_time": "2023-02-21T13:30:27.102Z"
   },
   {
    "duration": 15,
    "start_time": "2023-02-21T13:36:44.115Z"
   },
   {
    "duration": 58,
    "start_time": "2023-02-21T13:36:53.368Z"
   },
   {
    "duration": 214,
    "start_time": "2023-02-21T13:38:24.710Z"
   },
   {
    "duration": 225,
    "start_time": "2023-02-21T13:38:58.335Z"
   },
   {
    "duration": 8,
    "start_time": "2023-02-21T13:40:27.357Z"
   },
   {
    "duration": 7,
    "start_time": "2023-02-21T13:40:46.746Z"
   },
   {
    "duration": 15,
    "start_time": "2023-02-21T13:41:37.410Z"
   },
   {
    "duration": 59,
    "start_time": "2023-02-21T13:41:39.241Z"
   },
   {
    "duration": 220,
    "start_time": "2023-02-21T13:41:45.122Z"
   },
   {
    "duration": 77,
    "start_time": "2023-02-21T16:10:11.050Z"
   },
   {
    "duration": 22,
    "start_time": "2023-02-21T16:19:51.993Z"
   },
   {
    "duration": 7,
    "start_time": "2023-02-21T16:38:10.530Z"
   },
   {
    "duration": 3,
    "start_time": "2023-02-21T16:38:22.554Z"
   },
   {
    "duration": 25,
    "start_time": "2023-02-21T16:50:47.813Z"
   },
   {
    "duration": 10,
    "start_time": "2023-02-21T16:52:12.783Z"
   },
   {
    "duration": 19,
    "start_time": "2023-02-21T16:52:28.859Z"
   },
   {
    "duration": 61,
    "start_time": "2023-02-21T16:52:49.380Z"
   },
   {
    "duration": 3,
    "start_time": "2023-02-21T16:53:13.148Z"
   },
   {
    "duration": 8,
    "start_time": "2023-02-21T16:53:38.254Z"
   },
   {
    "duration": 64,
    "start_time": "2023-02-21T16:53:39.283Z"
   },
   {
    "duration": 3,
    "start_time": "2023-02-21T16:53:43.746Z"
   },
   {
    "duration": 14,
    "start_time": "2023-02-21T16:53:53.314Z"
   },
   {
    "duration": 3,
    "start_time": "2023-02-21T17:03:02.433Z"
   },
   {
    "duration": 16,
    "start_time": "2023-02-21T17:03:06.326Z"
   },
   {
    "duration": 3,
    "start_time": "2023-02-21T17:04:17.756Z"
   },
   {
    "duration": 13,
    "start_time": "2023-02-21T17:04:43.577Z"
   },
   {
    "duration": 14,
    "start_time": "2023-02-21T17:33:45.005Z"
   },
   {
    "duration": 4,
    "start_time": "2023-02-21T17:34:08.182Z"
   },
   {
    "duration": 138,
    "start_time": "2023-02-21T17:34:12.160Z"
   },
   {
    "duration": 12,
    "start_time": "2023-02-21T17:35:16.221Z"
   },
   {
    "duration": 49,
    "start_time": "2023-02-22T07:31:29.294Z"
   },
   {
    "duration": 1680,
    "start_time": "2023-02-22T07:31:41.988Z"
   },
   {
    "duration": 3419,
    "start_time": "2023-02-22T07:31:43.670Z"
   },
   {
    "duration": 3,
    "start_time": "2023-02-22T07:31:47.091Z"
   },
   {
    "duration": 476,
    "start_time": "2023-02-22T07:31:47.096Z"
   },
   {
    "duration": 4,
    "start_time": "2023-02-22T07:31:47.574Z"
   },
   {
    "duration": 37,
    "start_time": "2023-02-22T07:31:47.580Z"
   },
   {
    "duration": 119,
    "start_time": "2023-02-22T07:31:47.620Z"
   },
   {
    "duration": 350,
    "start_time": "2023-02-22T07:31:47.741Z"
   },
   {
    "duration": 1119,
    "start_time": "2023-02-22T07:31:48.093Z"
   },
   {
    "duration": 602,
    "start_time": "2023-02-22T07:31:49.215Z"
   },
   {
    "duration": 117,
    "start_time": "2023-02-22T07:31:49.819Z"
   },
   {
    "duration": 59,
    "start_time": "2023-02-22T07:31:49.938Z"
   },
   {
    "duration": 46,
    "start_time": "2023-02-22T07:31:49.998Z"
   },
   {
    "duration": 49,
    "start_time": "2023-02-22T07:31:50.047Z"
   },
   {
    "duration": 41,
    "start_time": "2023-02-22T07:31:50.098Z"
   },
   {
    "duration": 8,
    "start_time": "2023-02-22T07:31:50.141Z"
   },
   {
    "duration": 228,
    "start_time": "2023-02-22T07:31:50.150Z"
   },
   {
    "duration": 21,
    "start_time": "2023-02-22T07:31:50.381Z"
   },
   {
    "duration": 198,
    "start_time": "2023-02-22T07:31:50.404Z"
   },
   {
    "duration": 8,
    "start_time": "2023-02-22T07:31:50.604Z"
   },
   {
    "duration": 240,
    "start_time": "2023-02-22T07:31:50.614Z"
   },
   {
    "duration": 14,
    "start_time": "2023-02-22T07:31:50.856Z"
   },
   {
    "duration": 217,
    "start_time": "2023-02-22T07:31:50.871Z"
   },
   {
    "duration": 1111,
    "start_time": "2023-02-22T07:31:51.090Z"
   },
   {
    "duration": 262,
    "start_time": "2023-02-22T07:31:52.203Z"
   },
   {
    "duration": 10,
    "start_time": "2023-02-22T07:31:52.467Z"
   },
   {
    "duration": 17,
    "start_time": "2023-02-22T07:31:52.479Z"
   },
   {
    "duration": 51,
    "start_time": "2023-02-22T07:31:52.500Z"
   },
   {
    "duration": 8,
    "start_time": "2023-02-22T07:31:52.553Z"
   },
   {
    "duration": 45,
    "start_time": "2023-02-22T07:31:52.563Z"
   },
   {
    "duration": 56,
    "start_time": "2023-02-22T07:31:52.610Z"
   },
   {
    "duration": 246,
    "start_time": "2023-02-22T07:31:52.668Z"
   },
   {
    "duration": 91,
    "start_time": "2023-02-22T07:31:59.121Z"
   },
   {
    "duration": 1251,
    "start_time": "2023-02-22T07:32:21.188Z"
   },
   {
    "duration": 45,
    "start_time": "2023-02-22T07:32:44.192Z"
   },
   {
    "duration": 542,
    "start_time": "2023-02-22T07:33:16.834Z"
   },
   {
    "duration": 1049,
    "start_time": "2023-02-22T07:33:29.124Z"
   },
   {
    "duration": 52,
    "start_time": "2023-02-22T07:33:36.397Z"
   },
   {
    "duration": 6336,
    "start_time": "2023-02-22T07:38:43.127Z"
   },
   {
    "duration": 50,
    "start_time": "2023-02-22T07:39:03.231Z"
   },
   {
    "duration": 8,
    "start_time": "2023-02-22T07:39:11.156Z"
   },
   {
    "duration": 557,
    "start_time": "2023-02-22T07:45:35.100Z"
   },
   {
    "duration": 1036,
    "start_time": "2023-02-22T07:45:53.132Z"
   },
   {
    "duration": 85,
    "start_time": "2023-02-22T07:50:52.191Z"
   },
   {
    "duration": 44,
    "start_time": "2023-02-22T07:51:21.880Z"
   },
   {
    "duration": 114,
    "start_time": "2023-02-22T07:55:16.160Z"
   },
   {
    "duration": 47,
    "start_time": "2023-02-22T07:55:25.152Z"
   },
   {
    "duration": 46,
    "start_time": "2023-02-22T07:56:21.117Z"
   },
   {
    "duration": 92,
    "start_time": "2023-02-22T07:58:25.432Z"
   },
   {
    "duration": 55,
    "start_time": "2023-02-22T07:58:32.040Z"
   },
   {
    "duration": 249,
    "start_time": "2023-02-22T08:03:39.151Z"
   },
   {
    "duration": 45,
    "start_time": "2023-02-22T08:03:45.056Z"
   },
   {
    "duration": 233,
    "start_time": "2023-02-22T08:08:49.435Z"
   },
   {
    "duration": 44,
    "start_time": "2023-02-22T08:08:51.727Z"
   },
   {
    "duration": 248,
    "start_time": "2023-02-22T08:11:49.559Z"
   },
   {
    "duration": 4,
    "start_time": "2023-02-22T08:14:56.756Z"
   },
   {
    "duration": 1008,
    "start_time": "2023-02-22T08:14:56.762Z"
   },
   {
    "duration": 4,
    "start_time": "2023-02-22T08:14:57.772Z"
   },
   {
    "duration": 493,
    "start_time": "2023-02-22T08:14:57.778Z"
   },
   {
    "duration": 4,
    "start_time": "2023-02-22T08:14:58.274Z"
   },
   {
    "duration": 39,
    "start_time": "2023-02-22T08:14:58.280Z"
   },
   {
    "duration": 98,
    "start_time": "2023-02-22T08:14:58.322Z"
   },
   {
    "duration": 343,
    "start_time": "2023-02-22T08:14:58.423Z"
   },
   {
    "duration": 1103,
    "start_time": "2023-02-22T08:14:58.768Z"
   },
   {
    "duration": 527,
    "start_time": "2023-02-22T08:14:59.873Z"
   },
   {
    "duration": 129,
    "start_time": "2023-02-22T08:15:00.403Z"
   },
   {
    "duration": 70,
    "start_time": "2023-02-22T08:15:00.534Z"
   },
   {
    "duration": 57,
    "start_time": "2023-02-22T08:15:00.606Z"
   },
   {
    "duration": 51,
    "start_time": "2023-02-22T08:15:00.665Z"
   },
   {
    "duration": 61,
    "start_time": "2023-02-22T08:15:00.718Z"
   },
   {
    "duration": 16,
    "start_time": "2023-02-22T08:15:00.781Z"
   },
   {
    "duration": 234,
    "start_time": "2023-02-22T08:15:00.800Z"
   },
   {
    "duration": 18,
    "start_time": "2023-02-22T08:15:01.036Z"
   },
   {
    "duration": 236,
    "start_time": "2023-02-22T08:15:01.056Z"
   },
   {
    "duration": 8,
    "start_time": "2023-02-22T08:15:01.294Z"
   },
   {
    "duration": 248,
    "start_time": "2023-02-22T08:15:01.304Z"
   },
   {
    "duration": 18,
    "start_time": "2023-02-22T08:15:01.554Z"
   },
   {
    "duration": 395,
    "start_time": "2023-02-22T08:15:01.575Z"
   },
   {
    "duration": 1157,
    "start_time": "2023-02-22T08:15:01.972Z"
   },
   {
    "duration": 266,
    "start_time": "2023-02-22T08:15:03.130Z"
   },
   {
    "duration": 8,
    "start_time": "2023-02-22T08:15:03.399Z"
   },
   {
    "duration": 6,
    "start_time": "2023-02-22T08:15:03.409Z"
   },
   {
    "duration": 75,
    "start_time": "2023-02-22T08:15:03.417Z"
   },
   {
    "duration": 6,
    "start_time": "2023-02-22T08:15:03.496Z"
   },
   {
    "duration": 24,
    "start_time": "2023-02-22T08:15:03.504Z"
   },
   {
    "duration": 48,
    "start_time": "2023-02-22T08:15:03.530Z"
   },
   {
    "duration": 227,
    "start_time": "2023-02-22T08:15:03.580Z"
   },
   {
    "duration": 94,
    "start_time": "2023-02-22T08:15:03.809Z"
   },
   {
    "duration": 252,
    "start_time": "2023-02-22T08:15:03.905Z"
   },
   {
    "duration": 109,
    "start_time": "2023-02-22T08:15:15.541Z"
   },
   {
    "duration": 48,
    "start_time": "2023-02-22T08:15:28.636Z"
   },
   {
    "duration": 240,
    "start_time": "2023-02-22T08:16:04.152Z"
   },
   {
    "duration": 246,
    "start_time": "2023-02-22T08:23:57.584Z"
   },
   {
    "duration": 46,
    "start_time": "2023-02-22T08:24:51.653Z"
   },
   {
    "duration": 240,
    "start_time": "2023-02-22T08:31:12.433Z"
   },
   {
    "duration": 44,
    "start_time": "2023-02-22T08:31:17.262Z"
   },
   {
    "duration": 268,
    "start_time": "2023-02-22T08:34:19.231Z"
   },
   {
    "duration": 13,
    "start_time": "2023-02-22T08:57:18.121Z"
   },
   {
    "duration": 11,
    "start_time": "2023-02-22T09:01:28.295Z"
   },
   {
    "duration": 11,
    "start_time": "2023-02-22T09:01:36.220Z"
   },
   {
    "duration": 13,
    "start_time": "2023-02-22T09:01:45.736Z"
   },
   {
    "duration": 13,
    "start_time": "2023-02-22T09:02:27.164Z"
   },
   {
    "duration": 12,
    "start_time": "2023-02-22T09:06:35.228Z"
   },
   {
    "duration": 17,
    "start_time": "2023-02-22T09:07:17.493Z"
   },
   {
    "duration": 12,
    "start_time": "2023-02-22T09:09:50.634Z"
   },
   {
    "duration": 16,
    "start_time": "2023-02-22T09:10:50.863Z"
   },
   {
    "duration": 39,
    "start_time": "2023-02-22T09:17:07.648Z"
   },
   {
    "duration": 12,
    "start_time": "2023-02-22T09:17:52.901Z"
   },
   {
    "duration": 10,
    "start_time": "2023-02-22T09:18:47.798Z"
   },
   {
    "duration": 10,
    "start_time": "2023-02-22T09:26:36.328Z"
   },
   {
    "duration": 9,
    "start_time": "2023-02-22T09:27:14.737Z"
   },
   {
    "duration": 119,
    "start_time": "2023-02-22T09:30:38.143Z"
   },
   {
    "duration": 211,
    "start_time": "2023-02-22T09:31:38.046Z"
   },
   {
    "duration": 229,
    "start_time": "2023-02-22T09:31:52.732Z"
   },
   {
    "duration": 63,
    "start_time": "2023-02-22T09:31:57.433Z"
   },
   {
    "duration": 1511,
    "start_time": "2023-02-22T13:07:22.024Z"
   },
   {
    "duration": 5,
    "start_time": "2023-02-22T13:08:08.028Z"
   },
   {
    "duration": 984,
    "start_time": "2023-02-22T13:08:09.465Z"
   },
   {
    "duration": 1519,
    "start_time": "2023-02-22T13:08:41.388Z"
   },
   {
    "duration": 1052,
    "start_time": "2023-02-22T13:08:42.909Z"
   },
   {
    "duration": 4,
    "start_time": "2023-02-22T13:08:43.963Z"
   },
   {
    "duration": 530,
    "start_time": "2023-02-22T13:08:43.970Z"
   },
   {
    "duration": 4,
    "start_time": "2023-02-22T13:08:44.502Z"
   },
   {
    "duration": 41,
    "start_time": "2023-02-22T13:08:44.507Z"
   },
   {
    "duration": 102,
    "start_time": "2023-02-22T13:08:44.550Z"
   },
   {
    "duration": 372,
    "start_time": "2023-02-22T13:08:44.654Z"
   },
   {
    "duration": 1217,
    "start_time": "2023-02-22T13:08:45.027Z"
   },
   {
    "duration": 587,
    "start_time": "2023-02-22T13:08:46.247Z"
   },
   {
    "duration": 120,
    "start_time": "2023-02-22T13:08:46.836Z"
   },
   {
    "duration": 71,
    "start_time": "2023-02-22T13:08:46.958Z"
   },
   {
    "duration": 41,
    "start_time": "2023-02-22T13:08:47.031Z"
   },
   {
    "duration": 45,
    "start_time": "2023-02-22T13:08:47.074Z"
   },
   {
    "duration": 38,
    "start_time": "2023-02-22T13:08:47.121Z"
   },
   {
    "duration": 9,
    "start_time": "2023-02-22T13:08:47.162Z"
   },
   {
    "duration": 230,
    "start_time": "2023-02-22T13:08:47.193Z"
   },
   {
    "duration": 14,
    "start_time": "2023-02-22T13:08:47.425Z"
   },
   {
    "duration": 208,
    "start_time": "2023-02-22T13:08:47.441Z"
   },
   {
    "duration": 8,
    "start_time": "2023-02-22T13:08:47.651Z"
   },
   {
    "duration": 221,
    "start_time": "2023-02-22T13:08:47.660Z"
   },
   {
    "duration": 17,
    "start_time": "2023-02-22T13:08:47.883Z"
   },
   {
    "duration": 309,
    "start_time": "2023-02-22T13:08:47.902Z"
   },
   {
    "duration": 2170,
    "start_time": "2023-02-22T13:08:48.213Z"
   },
   {
    "duration": 296,
    "start_time": "2023-02-22T13:08:50.385Z"
   },
   {
    "duration": 15,
    "start_time": "2023-02-22T13:08:50.682Z"
   },
   {
    "duration": 5,
    "start_time": "2023-02-22T13:08:50.699Z"
   },
   {
    "duration": 55,
    "start_time": "2023-02-22T13:08:50.707Z"
   },
   {
    "duration": 32,
    "start_time": "2023-02-22T13:08:50.764Z"
   },
   {
    "duration": 18,
    "start_time": "2023-02-22T13:08:50.798Z"
   },
   {
    "duration": 52,
    "start_time": "2023-02-22T13:08:50.818Z"
   },
   {
    "duration": 263,
    "start_time": "2023-02-22T13:08:50.891Z"
   },
   {
    "duration": 216,
    "start_time": "2023-02-22T13:08:51.156Z"
   },
   {
    "duration": 262,
    "start_time": "2023-02-22T13:08:51.373Z"
   },
   {
    "duration": 241,
    "start_time": "2023-02-22T13:08:51.637Z"
   },
   {
    "duration": 245,
    "start_time": "2023-02-22T13:08:51.880Z"
   },
   {
    "duration": 246,
    "start_time": "2023-02-22T13:08:52.127Z"
   },
   {
    "duration": 48,
    "start_time": "2023-02-22T13:08:52.375Z"
   },
   {
    "duration": 315,
    "start_time": "2023-02-22T13:08:52.425Z"
   },
   {
    "duration": 12,
    "start_time": "2023-02-22T13:08:52.742Z"
   },
   {
    "duration": 13,
    "start_time": "2023-02-22T13:08:52.756Z"
   },
   {
    "duration": 30,
    "start_time": "2023-02-22T13:08:52.771Z"
   },
   {
    "duration": 16,
    "start_time": "2023-02-22T13:08:52.803Z"
   },
   {
    "duration": 12,
    "start_time": "2023-02-22T13:08:52.820Z"
   },
   {
    "duration": 13,
    "start_time": "2023-02-22T13:08:52.834Z"
   },
   {
    "duration": 48,
    "start_time": "2023-02-22T13:08:52.850Z"
   },
   {
    "duration": 15,
    "start_time": "2023-02-22T13:08:52.900Z"
   },
   {
    "duration": 11,
    "start_time": "2023-02-22T13:08:52.916Z"
   },
   {
    "duration": 10,
    "start_time": "2023-02-22T13:08:52.929Z"
   },
   {
    "duration": 130,
    "start_time": "2023-02-22T13:08:52.941Z"
   },
   {
    "duration": 243,
    "start_time": "2023-02-22T13:08:53.073Z"
   },
   {
    "duration": 44,
    "start_time": "2023-02-22T13:08:53.318Z"
   },
   {
    "duration": 9,
    "start_time": "2023-02-22T13:08:53.363Z"
   },
   {
    "duration": 46,
    "start_time": "2023-02-22T13:08:53.392Z"
   },
   {
    "duration": 3,
    "start_time": "2023-02-22T13:08:53.440Z"
   },
   {
    "duration": 139,
    "start_time": "2023-02-22T13:08:53.445Z"
   },
   {
    "duration": 117,
    "start_time": "2023-02-22T13:08:53.586Z"
   },
   {
    "duration": 0,
    "start_time": "2023-02-22T13:08:53.706Z"
   },
   {
    "duration": 0,
    "start_time": "2023-02-22T13:08:53.707Z"
   },
   {
    "duration": 0,
    "start_time": "2023-02-22T13:08:53.709Z"
   },
   {
    "duration": 0,
    "start_time": "2023-02-22T13:08:53.710Z"
   },
   {
    "duration": 11,
    "start_time": "2023-02-22T13:17:19.655Z"
   },
   {
    "duration": 46,
    "start_time": "2023-02-22T13:25:14.856Z"
   },
   {
    "duration": 11,
    "start_time": "2023-02-22T13:27:35.999Z"
   },
   {
    "duration": 14,
    "start_time": "2023-02-22T13:36:13.874Z"
   },
   {
    "duration": 7,
    "start_time": "2023-02-22T13:43:31.719Z"
   },
   {
    "duration": 3,
    "start_time": "2023-02-22T13:54:32.872Z"
   },
   {
    "duration": 19,
    "start_time": "2023-02-22T14:04:35.022Z"
   },
   {
    "duration": 10,
    "start_time": "2023-02-22T16:56:58.808Z"
   },
   {
    "duration": 7,
    "start_time": "2023-02-22T16:58:55.329Z"
   },
   {
    "duration": 18,
    "start_time": "2023-02-22T16:59:06.487Z"
   },
   {
    "duration": 27,
    "start_time": "2023-02-22T17:03:18.206Z"
   },
   {
    "duration": 1585,
    "start_time": "2023-02-23T12:09:10.558Z"
   },
   {
    "duration": 3154,
    "start_time": "2023-02-23T12:09:12.145Z"
   },
   {
    "duration": 4,
    "start_time": "2023-02-23T12:09:15.300Z"
   },
   {
    "duration": 535,
    "start_time": "2023-02-23T12:09:15.306Z"
   },
   {
    "duration": 3,
    "start_time": "2023-02-23T12:09:15.845Z"
   },
   {
    "duration": 28,
    "start_time": "2023-02-23T12:09:15.850Z"
   },
   {
    "duration": 102,
    "start_time": "2023-02-23T12:09:15.880Z"
   },
   {
    "duration": 382,
    "start_time": "2023-02-23T12:09:15.984Z"
   },
   {
    "duration": 1120,
    "start_time": "2023-02-23T12:09:16.368Z"
   },
   {
    "duration": 569,
    "start_time": "2023-02-23T12:09:17.490Z"
   },
   {
    "duration": 123,
    "start_time": "2023-02-23T12:09:18.061Z"
   },
   {
    "duration": 78,
    "start_time": "2023-02-23T12:09:18.186Z"
   },
   {
    "duration": 41,
    "start_time": "2023-02-23T12:09:18.265Z"
   },
   {
    "duration": 42,
    "start_time": "2023-02-23T12:09:18.307Z"
   },
   {
    "duration": 39,
    "start_time": "2023-02-23T12:09:18.351Z"
   },
   {
    "duration": 7,
    "start_time": "2023-02-23T12:09:18.391Z"
   },
   {
    "duration": 214,
    "start_time": "2023-02-23T12:09:18.399Z"
   },
   {
    "duration": 14,
    "start_time": "2023-02-23T12:09:18.614Z"
   },
   {
    "duration": 203,
    "start_time": "2023-02-23T12:09:18.630Z"
   },
   {
    "duration": 13,
    "start_time": "2023-02-23T12:09:18.835Z"
   },
   {
    "duration": 217,
    "start_time": "2023-02-23T12:09:18.850Z"
   },
   {
    "duration": 14,
    "start_time": "2023-02-23T12:09:19.069Z"
   },
   {
    "duration": 224,
    "start_time": "2023-02-23T12:09:19.084Z"
   },
   {
    "duration": 1153,
    "start_time": "2023-02-23T12:09:19.311Z"
   },
   {
    "duration": 299,
    "start_time": "2023-02-23T12:09:20.466Z"
   },
   {
    "duration": 7,
    "start_time": "2023-02-23T12:09:20.767Z"
   },
   {
    "duration": 5,
    "start_time": "2023-02-23T12:09:20.775Z"
   },
   {
    "duration": 68,
    "start_time": "2023-02-23T12:09:20.784Z"
   },
   {
    "duration": 6,
    "start_time": "2023-02-23T12:09:20.854Z"
   },
   {
    "duration": 19,
    "start_time": "2023-02-23T12:09:20.861Z"
   },
   {
    "duration": 70,
    "start_time": "2023-02-23T12:09:20.883Z"
   },
   {
    "duration": 246,
    "start_time": "2023-02-23T12:09:20.955Z"
   },
   {
    "duration": 206,
    "start_time": "2023-02-23T12:09:21.203Z"
   },
   {
    "duration": 262,
    "start_time": "2023-02-23T12:09:21.411Z"
   },
   {
    "duration": 237,
    "start_time": "2023-02-23T12:09:21.676Z"
   },
   {
    "duration": 337,
    "start_time": "2023-02-23T12:09:21.915Z"
   },
   {
    "duration": 250,
    "start_time": "2023-02-23T12:09:22.254Z"
   },
   {
    "duration": 56,
    "start_time": "2023-02-23T12:09:22.505Z"
   },
   {
    "duration": 284,
    "start_time": "2023-02-23T12:09:22.562Z"
   },
   {
    "duration": 12,
    "start_time": "2023-02-23T12:09:22.848Z"
   },
   {
    "duration": 12,
    "start_time": "2023-02-23T12:09:22.861Z"
   },
   {
    "duration": 13,
    "start_time": "2023-02-23T12:09:22.874Z"
   },
   {
    "duration": 15,
    "start_time": "2023-02-23T12:09:22.888Z"
   },
   {
    "duration": 42,
    "start_time": "2023-02-23T12:09:22.904Z"
   },
   {
    "duration": 13,
    "start_time": "2023-02-23T12:09:22.948Z"
   },
   {
    "duration": 15,
    "start_time": "2023-02-23T12:09:22.962Z"
   },
   {
    "duration": 14,
    "start_time": "2023-02-23T12:09:22.979Z"
   },
   {
    "duration": 11,
    "start_time": "2023-02-23T12:09:22.994Z"
   },
   {
    "duration": 38,
    "start_time": "2023-02-23T12:09:23.007Z"
   },
   {
    "duration": 126,
    "start_time": "2023-02-23T12:09:23.047Z"
   },
   {
    "duration": 218,
    "start_time": "2023-02-23T12:09:23.175Z"
   },
   {
    "duration": 68,
    "start_time": "2023-02-23T12:09:23.395Z"
   },
   {
    "duration": 12,
    "start_time": "2023-02-23T12:09:23.465Z"
   },
   {
    "duration": 69,
    "start_time": "2023-02-23T12:09:23.478Z"
   },
   {
    "duration": 34,
    "start_time": "2023-02-23T12:18:55.517Z"
   },
   {
    "duration": 27,
    "start_time": "2023-02-23T12:37:10.002Z"
   },
   {
    "duration": 11,
    "start_time": "2023-02-23T12:41:28.216Z"
   },
   {
    "duration": 55,
    "start_time": "2023-02-23T12:51:27.149Z"
   },
   {
    "duration": 188,
    "start_time": "2023-02-23T12:51:28.890Z"
   },
   {
    "duration": 200,
    "start_time": "2023-02-23T12:51:31.609Z"
   },
   {
    "duration": 185,
    "start_time": "2023-02-23T12:51:34.264Z"
   },
   {
    "duration": 189,
    "start_time": "2023-02-23T12:51:37.006Z"
   },
   {
    "duration": 27,
    "start_time": "2023-02-23T12:54:13.120Z"
   },
   {
    "duration": 6,
    "start_time": "2023-02-23T13:04:34.600Z"
   },
   {
    "duration": 5,
    "start_time": "2023-02-23T13:06:42.613Z"
   },
   {
    "duration": 23,
    "start_time": "2023-02-23T13:20:46.551Z"
   },
   {
    "duration": 17,
    "start_time": "2023-02-23T13:30:22.891Z"
   },
   {
    "duration": 21,
    "start_time": "2023-02-23T13:47:09.343Z"
   },
   {
    "duration": 143,
    "start_time": "2023-02-23T14:07:05.140Z"
   },
   {
    "duration": 37,
    "start_time": "2023-02-23T14:08:35.885Z"
   },
   {
    "duration": 26,
    "start_time": "2023-02-23T14:14:54.115Z"
   },
   {
    "duration": 30,
    "start_time": "2023-02-23T14:25:46.322Z"
   },
   {
    "duration": 81,
    "start_time": "2023-02-23T14:28:21.938Z"
   },
   {
    "duration": 71,
    "start_time": "2023-02-23T14:28:41.616Z"
   },
   {
    "duration": 72,
    "start_time": "2023-02-23T14:28:54.660Z"
   },
   {
    "duration": 94,
    "start_time": "2023-02-23T14:30:53.295Z"
   },
   {
    "duration": 92,
    "start_time": "2023-02-23T14:31:28.334Z"
   },
   {
    "duration": 38,
    "start_time": "2023-02-23T14:50:04.123Z"
   },
   {
    "duration": 95,
    "start_time": "2023-02-23T14:50:26.171Z"
   },
   {
    "duration": 9,
    "start_time": "2023-02-23T14:51:45.257Z"
   },
   {
    "duration": 32,
    "start_time": "2023-02-23T14:55:14.780Z"
   },
   {
    "duration": 88,
    "start_time": "2023-02-23T14:55:35.625Z"
   },
   {
    "duration": 33,
    "start_time": "2023-02-23T14:56:32.498Z"
   },
   {
    "duration": 218,
    "start_time": "2023-02-23T14:56:54.729Z"
   },
   {
    "duration": 205,
    "start_time": "2023-02-23T14:57:33.790Z"
   },
   {
    "duration": 20,
    "start_time": "2023-02-23T14:57:39.551Z"
   },
   {
    "duration": 19,
    "start_time": "2023-02-23T14:58:43.443Z"
   },
   {
    "duration": 37,
    "start_time": "2023-02-23T15:01:16.649Z"
   },
   {
    "duration": 121,
    "start_time": "2023-02-23T15:02:38.742Z"
   },
   {
    "duration": 1870,
    "start_time": "2023-02-24T07:57:27.401Z"
   },
   {
    "duration": 1474,
    "start_time": "2023-02-24T07:57:29.274Z"
   },
   {
    "duration": 5,
    "start_time": "2023-02-24T07:57:30.750Z"
   },
   {
    "duration": 571,
    "start_time": "2023-02-24T07:57:30.757Z"
   },
   {
    "duration": 12,
    "start_time": "2023-02-24T07:57:31.330Z"
   },
   {
    "duration": 44,
    "start_time": "2023-02-24T07:57:31.344Z"
   },
   {
    "duration": 132,
    "start_time": "2023-02-24T07:57:31.390Z"
   },
   {
    "duration": 441,
    "start_time": "2023-02-24T07:57:31.525Z"
   },
   {
    "duration": 1258,
    "start_time": "2023-02-24T07:57:31.968Z"
   },
   {
    "duration": 603,
    "start_time": "2023-02-24T07:57:33.227Z"
   },
   {
    "duration": 165,
    "start_time": "2023-02-24T07:57:33.840Z"
   },
   {
    "duration": 76,
    "start_time": "2023-02-24T07:57:34.007Z"
   },
   {
    "duration": 57,
    "start_time": "2023-02-24T07:57:34.085Z"
   },
   {
    "duration": 29,
    "start_time": "2023-02-24T07:57:34.147Z"
   },
   {
    "duration": 39,
    "start_time": "2023-02-24T07:57:34.178Z"
   },
   {
    "duration": 11,
    "start_time": "2023-02-24T07:57:34.241Z"
   },
   {
    "duration": 224,
    "start_time": "2023-02-24T07:57:34.254Z"
   },
   {
    "duration": 14,
    "start_time": "2023-02-24T07:57:34.480Z"
   },
   {
    "duration": 216,
    "start_time": "2023-02-24T07:57:34.496Z"
   },
   {
    "duration": 9,
    "start_time": "2023-02-24T07:57:34.714Z"
   },
   {
    "duration": 229,
    "start_time": "2023-02-24T07:57:34.725Z"
   },
   {
    "duration": 14,
    "start_time": "2023-02-24T07:57:34.956Z"
   },
   {
    "duration": 226,
    "start_time": "2023-02-24T07:57:34.972Z"
   },
   {
    "duration": 1143,
    "start_time": "2023-02-24T07:57:35.200Z"
   },
   {
    "duration": 295,
    "start_time": "2023-02-24T07:57:36.345Z"
   },
   {
    "duration": 8,
    "start_time": "2023-02-24T07:57:36.642Z"
   },
   {
    "duration": 4,
    "start_time": "2023-02-24T07:57:36.652Z"
   },
   {
    "duration": 51,
    "start_time": "2023-02-24T07:57:36.658Z"
   },
   {
    "duration": 7,
    "start_time": "2023-02-24T07:57:36.740Z"
   },
   {
    "duration": 36,
    "start_time": "2023-02-24T07:57:36.748Z"
   },
   {
    "duration": 60,
    "start_time": "2023-02-24T07:57:36.786Z"
   },
   {
    "duration": 261,
    "start_time": "2023-02-24T07:57:36.848Z"
   },
   {
    "duration": 228,
    "start_time": "2023-02-24T07:57:37.112Z"
   },
   {
    "duration": 256,
    "start_time": "2023-02-24T07:57:37.341Z"
   },
   {
    "duration": 266,
    "start_time": "2023-02-24T07:57:37.598Z"
   },
   {
    "duration": 262,
    "start_time": "2023-02-24T07:57:37.866Z"
   },
   {
    "duration": 253,
    "start_time": "2023-02-24T07:57:38.130Z"
   },
   {
    "duration": 72,
    "start_time": "2023-02-24T07:57:38.384Z"
   },
   {
    "duration": 304,
    "start_time": "2023-02-24T07:57:38.458Z"
   },
   {
    "duration": 13,
    "start_time": "2023-02-24T07:57:38.764Z"
   },
   {
    "duration": 13,
    "start_time": "2023-02-24T07:57:38.782Z"
   },
   {
    "duration": 43,
    "start_time": "2023-02-24T07:57:38.797Z"
   },
   {
    "duration": 28,
    "start_time": "2023-02-24T07:57:38.842Z"
   },
   {
    "duration": 18,
    "start_time": "2023-02-24T07:57:38.873Z"
   },
   {
    "duration": 23,
    "start_time": "2023-02-24T07:57:38.893Z"
   },
   {
    "duration": 38,
    "start_time": "2023-02-24T07:57:38.919Z"
   },
   {
    "duration": 52,
    "start_time": "2023-02-24T07:57:38.959Z"
   },
   {
    "duration": 22,
    "start_time": "2023-02-24T07:57:39.015Z"
   },
   {
    "duration": 25,
    "start_time": "2023-02-24T07:57:39.039Z"
   },
   {
    "duration": 184,
    "start_time": "2023-02-24T07:57:39.067Z"
   },
   {
    "duration": 248,
    "start_time": "2023-02-24T07:57:39.254Z"
   },
   {
    "duration": 61,
    "start_time": "2023-02-24T07:57:39.505Z"
   },
   {
    "duration": 10,
    "start_time": "2023-02-24T07:57:39.568Z"
   },
   {
    "duration": 72,
    "start_time": "2023-02-24T07:57:39.581Z"
   },
   {
    "duration": 11,
    "start_time": "2023-02-24T07:57:39.655Z"
   },
   {
    "duration": 34,
    "start_time": "2023-02-24T07:57:39.668Z"
   },
   {
    "duration": 57,
    "start_time": "2023-02-24T07:57:39.704Z"
   },
   {
    "duration": 12,
    "start_time": "2023-02-24T07:57:39.763Z"
   },
   {
    "duration": 119,
    "start_time": "2023-02-24T07:57:39.777Z"
   },
   {
    "duration": 258,
    "start_time": "2023-02-24T07:57:39.898Z"
   },
   {
    "duration": 221,
    "start_time": "2023-02-24T07:57:40.158Z"
   },
   {
    "duration": 213,
    "start_time": "2023-02-24T07:57:40.381Z"
   },
   {
    "duration": 223,
    "start_time": "2023-02-24T07:57:40.596Z"
   },
   {
    "duration": 34,
    "start_time": "2023-02-24T07:57:40.821Z"
   },
   {
    "duration": 8,
    "start_time": "2023-02-24T07:57:40.857Z"
   },
   {
    "duration": 11,
    "start_time": "2023-02-24T07:57:40.867Z"
   },
   {
    "duration": 190,
    "start_time": "2023-02-24T08:00:45.978Z"
   },
   {
    "duration": 108,
    "start_time": "2023-02-24T08:01:05.233Z"
   },
   {
    "duration": 20,
    "start_time": "2023-02-24T08:12:15.546Z"
   },
   {
    "duration": 135,
    "start_time": "2023-02-24T08:12:24.627Z"
   },
   {
    "duration": 22,
    "start_time": "2023-02-24T08:16:19.410Z"
   },
   {
    "duration": 99,
    "start_time": "2023-02-24T08:16:28.705Z"
   },
   {
    "duration": 120,
    "start_time": "2023-02-24T08:18:43.673Z"
   },
   {
    "duration": 165,
    "start_time": "2023-02-24T08:19:36.775Z"
   },
   {
    "duration": 42,
    "start_time": "2023-02-24T08:20:22.086Z"
   },
   {
    "duration": 31,
    "start_time": "2023-02-24T08:21:03.970Z"
   },
   {
    "duration": 27,
    "start_time": "2023-02-24T08:21:41.011Z"
   },
   {
    "duration": 32,
    "start_time": "2023-02-24T08:21:57.764Z"
   },
   {
    "duration": 35,
    "start_time": "2023-02-24T08:32:51.149Z"
   },
   {
    "duration": 90,
    "start_time": "2023-02-24T08:33:03.441Z"
   },
   {
    "duration": 38,
    "start_time": "2023-02-24T08:37:12.914Z"
   },
   {
    "duration": 39,
    "start_time": "2023-02-24T08:37:20.537Z"
   },
   {
    "duration": 110,
    "start_time": "2023-02-24T08:37:47.756Z"
   },
   {
    "duration": 101,
    "start_time": "2023-02-24T08:38:30.312Z"
   },
   {
    "duration": 129,
    "start_time": "2023-02-24T08:38:50.974Z"
   },
   {
    "duration": 28,
    "start_time": "2023-02-24T08:44:21.173Z"
   },
   {
    "duration": 8,
    "start_time": "2023-02-24T08:46:57.180Z"
   },
   {
    "duration": 4,
    "start_time": "2023-02-24T08:47:21.420Z"
   },
   {
    "duration": 12,
    "start_time": "2023-02-24T08:47:51.894Z"
   },
   {
    "duration": 5,
    "start_time": "2023-02-24T08:54:07.768Z"
   },
   {
    "duration": 97,
    "start_time": "2023-02-24T08:54:30.744Z"
   },
   {
    "duration": 3,
    "start_time": "2023-02-24T09:01:54.402Z"
   },
   {
    "duration": 27,
    "start_time": "2023-02-24T09:16:52.453Z"
   },
   {
    "duration": 21,
    "start_time": "2023-02-24T09:22:27.076Z"
   },
   {
    "duration": 3262,
    "start_time": "2023-02-24T09:51:09.936Z"
   },
   {
    "duration": 2849,
    "start_time": "2023-02-24T09:58:04.633Z"
   },
   {
    "duration": 656,
    "start_time": "2023-02-24T10:03:35.165Z"
   },
   {
    "duration": 2903,
    "start_time": "2023-02-24T10:03:42.953Z"
   },
   {
    "duration": 38,
    "start_time": "2023-02-24T10:09:36.429Z"
   },
   {
    "duration": 37,
    "start_time": "2023-02-24T10:47:46.653Z"
   },
   {
    "duration": 26,
    "start_time": "2023-02-24T10:48:59.353Z"
   },
   {
    "duration": 4,
    "start_time": "2023-02-24T11:03:45.777Z"
   },
   {
    "duration": 3122,
    "start_time": "2023-02-24T13:26:35.223Z"
   },
   {
    "duration": 1763,
    "start_time": "2023-02-24T13:26:49.131Z"
   },
   {
    "duration": 3014,
    "start_time": "2023-02-24T13:26:50.896Z"
   },
   {
    "duration": 3,
    "start_time": "2023-02-24T13:26:53.912Z"
   },
   {
    "duration": 510,
    "start_time": "2023-02-24T13:26:53.917Z"
   },
   {
    "duration": 3,
    "start_time": "2023-02-24T13:26:54.429Z"
   },
   {
    "duration": 38,
    "start_time": "2023-02-24T13:26:54.434Z"
   },
   {
    "duration": 88,
    "start_time": "2023-02-24T13:26:54.474Z"
   },
   {
    "duration": 402,
    "start_time": "2023-02-24T13:26:54.564Z"
   },
   {
    "duration": 1161,
    "start_time": "2023-02-24T13:26:54.968Z"
   },
   {
    "duration": 566,
    "start_time": "2023-02-24T13:26:56.131Z"
   },
   {
    "duration": 111,
    "start_time": "2023-02-24T13:26:56.699Z"
   },
   {
    "duration": 69,
    "start_time": "2023-02-24T13:26:56.812Z"
   },
   {
    "duration": 40,
    "start_time": "2023-02-24T13:26:56.883Z"
   },
   {
    "duration": 43,
    "start_time": "2023-02-24T13:26:56.926Z"
   },
   {
    "duration": 46,
    "start_time": "2023-02-24T13:26:56.971Z"
   },
   {
    "duration": 28,
    "start_time": "2023-02-24T13:26:57.019Z"
   },
   {
    "duration": 202,
    "start_time": "2023-02-24T13:26:57.048Z"
   },
   {
    "duration": 14,
    "start_time": "2023-02-24T13:26:57.251Z"
   },
   {
    "duration": 202,
    "start_time": "2023-02-24T13:26:57.267Z"
   },
   {
    "duration": 7,
    "start_time": "2023-02-24T13:26:57.471Z"
   },
   {
    "duration": 222,
    "start_time": "2023-02-24T13:26:57.480Z"
   },
   {
    "duration": 13,
    "start_time": "2023-02-24T13:26:57.704Z"
   },
   {
    "duration": 243,
    "start_time": "2023-02-24T13:26:57.720Z"
   },
   {
    "duration": 1138,
    "start_time": "2023-02-24T13:26:57.965Z"
   },
   {
    "duration": 271,
    "start_time": "2023-02-24T13:26:59.105Z"
   },
   {
    "duration": 8,
    "start_time": "2023-02-24T13:26:59.378Z"
   },
   {
    "duration": 5,
    "start_time": "2023-02-24T13:26:59.388Z"
   },
   {
    "duration": 77,
    "start_time": "2023-02-24T13:26:59.394Z"
   },
   {
    "duration": 9,
    "start_time": "2023-02-24T13:26:59.473Z"
   },
   {
    "duration": 20,
    "start_time": "2023-02-24T13:26:59.483Z"
   },
   {
    "duration": 68,
    "start_time": "2023-02-24T13:26:59.505Z"
   },
   {
    "duration": 231,
    "start_time": "2023-02-24T13:26:59.575Z"
   },
   {
    "duration": 200,
    "start_time": "2023-02-24T13:26:59.808Z"
   },
   {
    "duration": 259,
    "start_time": "2023-02-24T13:27:00.010Z"
   },
   {
    "duration": 291,
    "start_time": "2023-02-24T13:27:00.270Z"
   },
   {
    "duration": 281,
    "start_time": "2023-02-24T13:27:00.566Z"
   },
   {
    "duration": 249,
    "start_time": "2023-02-24T13:27:00.849Z"
   },
   {
    "duration": 61,
    "start_time": "2023-02-24T13:27:01.100Z"
   },
   {
    "duration": 376,
    "start_time": "2023-02-24T13:27:01.163Z"
   },
   {
    "duration": 13,
    "start_time": "2023-02-24T13:27:01.545Z"
   },
   {
    "duration": 22,
    "start_time": "2023-02-24T13:27:01.564Z"
   },
   {
    "duration": 36,
    "start_time": "2023-02-24T13:27:01.589Z"
   },
   {
    "duration": 39,
    "start_time": "2023-02-24T13:27:01.628Z"
   },
   {
    "duration": 53,
    "start_time": "2023-02-24T13:27:01.668Z"
   },
   {
    "duration": 36,
    "start_time": "2023-02-24T13:27:01.723Z"
   },
   {
    "duration": 20,
    "start_time": "2023-02-24T13:27:01.761Z"
   },
   {
    "duration": 41,
    "start_time": "2023-02-24T13:27:01.782Z"
   },
   {
    "duration": 30,
    "start_time": "2023-02-24T13:27:01.825Z"
   },
   {
    "duration": 27,
    "start_time": "2023-02-24T13:27:01.857Z"
   },
   {
    "duration": 159,
    "start_time": "2023-02-24T13:27:01.886Z"
   },
   {
    "duration": 220,
    "start_time": "2023-02-24T13:27:02.047Z"
   },
   {
    "duration": 55,
    "start_time": "2023-02-24T13:27:02.268Z"
   },
   {
    "duration": 59,
    "start_time": "2023-02-24T13:27:02.325Z"
   },
   {
    "duration": 84,
    "start_time": "2023-02-24T13:27:02.386Z"
   },
   {
    "duration": 36,
    "start_time": "2023-02-24T13:27:02.472Z"
   },
   {
    "duration": 47,
    "start_time": "2023-02-24T13:27:02.510Z"
   },
   {
    "duration": 46,
    "start_time": "2023-02-24T13:27:02.559Z"
   },
   {
    "duration": 12,
    "start_time": "2023-02-24T13:27:02.607Z"
   },
   {
    "duration": 95,
    "start_time": "2023-02-24T13:27:02.620Z"
   },
   {
    "duration": 203,
    "start_time": "2023-02-24T13:27:02.716Z"
   },
   {
    "duration": 242,
    "start_time": "2023-02-24T13:27:02.921Z"
   },
   {
    "duration": 220,
    "start_time": "2023-02-24T13:27:03.165Z"
   },
   {
    "duration": 247,
    "start_time": "2023-02-24T13:27:03.388Z"
   },
   {
    "duration": 31,
    "start_time": "2023-02-24T13:27:03.637Z"
   },
   {
    "duration": 7,
    "start_time": "2023-02-24T13:27:03.671Z"
   },
   {
    "duration": 16,
    "start_time": "2023-02-24T13:27:03.681Z"
   },
   {
    "duration": 151,
    "start_time": "2023-02-24T13:27:03.700Z"
   },
   {
    "duration": 22,
    "start_time": "2023-02-24T13:27:03.853Z"
   },
   {
    "duration": 43,
    "start_time": "2023-02-24T13:27:03.878Z"
   },
   {
    "duration": 25,
    "start_time": "2023-02-24T13:27:03.923Z"
   },
   {
    "duration": 73,
    "start_time": "2023-02-24T13:27:03.950Z"
   },
   {
    "duration": 18,
    "start_time": "2023-02-24T13:27:04.025Z"
   },
   {
    "duration": 11,
    "start_time": "2023-02-24T13:27:04.045Z"
   },
   {
    "duration": 132,
    "start_time": "2023-02-24T13:27:04.057Z"
   },
   {
    "duration": 4,
    "start_time": "2023-02-24T13:27:04.191Z"
   },
   {
    "duration": 23,
    "start_time": "2023-02-24T13:27:04.197Z"
   },
   {
    "duration": 7,
    "start_time": "2023-02-24T13:27:04.223Z"
   },
   {
    "duration": 3,
    "start_time": "2023-02-24T13:27:04.246Z"
   },
   {
    "duration": 166,
    "start_time": "2023-02-24T13:27:04.251Z"
   },
   {
    "duration": 0,
    "start_time": "2023-02-24T13:27:04.420Z"
   },
   {
    "duration": 0,
    "start_time": "2023-02-24T13:27:04.422Z"
   },
   {
    "duration": 0,
    "start_time": "2023-02-24T13:27:04.423Z"
   },
   {
    "duration": 0,
    "start_time": "2023-02-24T13:27:04.425Z"
   },
   {
    "duration": 0,
    "start_time": "2023-02-24T13:27:04.426Z"
   },
   {
    "duration": 0,
    "start_time": "2023-02-24T13:27:04.427Z"
   },
   {
    "duration": 0,
    "start_time": "2023-02-24T13:27:04.444Z"
   },
   {
    "duration": 0,
    "start_time": "2023-02-24T13:27:04.447Z"
   },
   {
    "duration": 0,
    "start_time": "2023-02-24T13:27:04.448Z"
   },
   {
    "duration": 0,
    "start_time": "2023-02-24T13:27:04.450Z"
   },
   {
    "duration": 0,
    "start_time": "2023-02-24T13:27:04.451Z"
   },
   {
    "duration": 0,
    "start_time": "2023-02-24T13:27:04.453Z"
   },
   {
    "duration": 25,
    "start_time": "2023-02-24T13:28:31.459Z"
   },
   {
    "duration": 85,
    "start_time": "2023-02-24T13:28:34.966Z"
   },
   {
    "duration": 2990,
    "start_time": "2023-02-24T13:28:45.377Z"
   },
   {
    "duration": 2326,
    "start_time": "2023-02-24T13:28:56.666Z"
   },
   {
    "duration": 93,
    "start_time": "2023-02-24T13:29:31.598Z"
   },
   {
    "duration": 16,
    "start_time": "2023-02-24T13:33:40.694Z"
   },
   {
    "duration": 3,
    "start_time": "2023-02-24T14:01:14.125Z"
   },
   {
    "duration": 385,
    "start_time": "2023-02-24T14:03:39.789Z"
   },
   {
    "duration": 222,
    "start_time": "2023-02-24T14:05:24.848Z"
   },
   {
    "duration": 20,
    "start_time": "2023-02-24T14:05:47.948Z"
   },
   {
    "duration": 85,
    "start_time": "2023-02-24T14:08:41.175Z"
   },
   {
    "duration": 2302,
    "start_time": "2023-02-24T14:09:50.583Z"
   },
   {
    "duration": 110,
    "start_time": "2023-02-24T14:10:12.684Z"
   },
   {
    "duration": 6485,
    "start_time": "2023-02-24T14:11:07.486Z"
   },
   {
    "duration": 3807,
    "start_time": "2023-02-24T14:12:53.848Z"
   },
   {
    "duration": 3691,
    "start_time": "2023-02-24T14:15:19.677Z"
   },
   {
    "duration": 5359,
    "start_time": "2023-02-24T14:15:54.110Z"
   },
   {
    "duration": 7,
    "start_time": "2023-02-24T14:36:48.120Z"
   },
   {
    "duration": 17,
    "start_time": "2023-02-24T14:44:17.764Z"
   },
   {
    "duration": 4363,
    "start_time": "2023-02-24T14:46:46.897Z"
   },
   {
    "duration": 16,
    "start_time": "2023-02-24T15:20:24.383Z"
   },
   {
    "duration": 3,
    "start_time": "2023-02-24T15:22:40.578Z"
   },
   {
    "duration": 86,
    "start_time": "2023-02-24T15:35:38.980Z"
   },
   {
    "duration": 75,
    "start_time": "2023-02-24T15:35:47.861Z"
   },
   {
    "duration": 3,
    "start_time": "2023-02-24T15:36:01.780Z"
   },
   {
    "duration": 162720,
    "start_time": "2023-02-24T15:37:31.424Z"
   },
   {
    "duration": 5,
    "start_time": "2023-02-24T15:42:42.059Z"
   },
   {
    "duration": 3,
    "start_time": "2023-02-24T15:45:12.679Z"
   },
   {
    "duration": 12887,
    "start_time": "2023-02-24T15:47:40.469Z"
   },
   {
    "duration": 4,
    "start_time": "2023-02-24T15:50:57.697Z"
   },
   {
    "duration": 6,
    "start_time": "2023-02-24T15:52:08.276Z"
   },
   {
    "duration": 4,
    "start_time": "2023-02-24T16:00:31.369Z"
   },
   {
    "duration": 3,
    "start_time": "2023-02-24T16:00:42.777Z"
   },
   {
    "duration": 4,
    "start_time": "2023-02-24T16:00:45.679Z"
   },
   {
    "duration": 1767,
    "start_time": "2023-02-25T07:11:23.726Z"
   },
   {
    "duration": 3,
    "start_time": "2023-02-25T07:11:25.494Z"
   },
   {
    "duration": 3346,
    "start_time": "2023-02-25T07:11:25.498Z"
   },
   {
    "duration": 3,
    "start_time": "2023-02-25T07:11:28.845Z"
   },
   {
    "duration": 537,
    "start_time": "2023-02-25T07:11:28.850Z"
   },
   {
    "duration": 3,
    "start_time": "2023-02-25T07:11:29.389Z"
   },
   {
    "duration": 45,
    "start_time": "2023-02-25T07:11:29.395Z"
   },
   {
    "duration": 111,
    "start_time": "2023-02-25T07:11:29.442Z"
   },
   {
    "duration": 392,
    "start_time": "2023-02-25T07:11:29.554Z"
   },
   {
    "duration": 1171,
    "start_time": "2023-02-25T07:11:29.949Z"
   },
   {
    "duration": 612,
    "start_time": "2023-02-25T07:11:31.122Z"
   },
   {
    "duration": 120,
    "start_time": "2023-02-25T07:11:31.735Z"
   },
   {
    "duration": 68,
    "start_time": "2023-02-25T07:11:31.857Z"
   },
   {
    "duration": 56,
    "start_time": "2023-02-25T07:11:31.928Z"
   },
   {
    "duration": 31,
    "start_time": "2023-02-25T07:11:31.986Z"
   },
   {
    "duration": 58,
    "start_time": "2023-02-25T07:11:32.019Z"
   },
   {
    "duration": 36,
    "start_time": "2023-02-25T07:11:32.079Z"
   },
   {
    "duration": 216,
    "start_time": "2023-02-25T07:11:32.117Z"
   },
   {
    "duration": 23,
    "start_time": "2023-02-25T07:11:32.334Z"
   },
   {
    "duration": 211,
    "start_time": "2023-02-25T07:11:32.358Z"
   },
   {
    "duration": 9,
    "start_time": "2023-02-25T07:11:32.571Z"
   },
   {
    "duration": 234,
    "start_time": "2023-02-25T07:11:32.582Z"
   },
   {
    "duration": 14,
    "start_time": "2023-02-25T07:11:32.818Z"
   },
   {
    "duration": 216,
    "start_time": "2023-02-25T07:11:32.834Z"
   },
   {
    "duration": 1130,
    "start_time": "2023-02-25T07:11:33.052Z"
   },
   {
    "duration": 284,
    "start_time": "2023-02-25T07:11:34.184Z"
   },
   {
    "duration": 9,
    "start_time": "2023-02-25T07:11:34.470Z"
   },
   {
    "duration": 6,
    "start_time": "2023-02-25T07:11:34.481Z"
   },
   {
    "duration": 80,
    "start_time": "2023-02-25T07:11:34.489Z"
   },
   {
    "duration": 7,
    "start_time": "2023-02-25T07:11:34.571Z"
   },
   {
    "duration": 20,
    "start_time": "2023-02-25T07:11:34.580Z"
   },
   {
    "duration": 66,
    "start_time": "2023-02-25T07:11:34.601Z"
   },
   {
    "duration": 240,
    "start_time": "2023-02-25T07:11:34.669Z"
   },
   {
    "duration": 222,
    "start_time": "2023-02-25T07:11:34.911Z"
   },
   {
    "duration": 250,
    "start_time": "2023-02-25T07:11:35.135Z"
   },
   {
    "duration": 260,
    "start_time": "2023-02-25T07:11:35.387Z"
   },
   {
    "duration": 245,
    "start_time": "2023-02-25T07:11:35.649Z"
   },
   {
    "duration": 242,
    "start_time": "2023-02-25T07:11:35.896Z"
   },
   {
    "duration": 53,
    "start_time": "2023-02-25T07:11:36.140Z"
   },
   {
    "duration": 343,
    "start_time": "2023-02-25T07:11:36.195Z"
   },
   {
    "duration": 16,
    "start_time": "2023-02-25T07:11:36.548Z"
   },
   {
    "duration": 32,
    "start_time": "2023-02-25T07:11:36.566Z"
   },
   {
    "duration": 18,
    "start_time": "2023-02-25T07:11:36.600Z"
   },
   {
    "duration": 28,
    "start_time": "2023-02-25T07:11:36.620Z"
   },
   {
    "duration": 20,
    "start_time": "2023-02-25T07:11:36.650Z"
   },
   {
    "duration": 19,
    "start_time": "2023-02-25T07:11:36.672Z"
   },
   {
    "duration": 19,
    "start_time": "2023-02-25T07:11:36.692Z"
   },
   {
    "duration": 24,
    "start_time": "2023-02-25T07:11:36.713Z"
   },
   {
    "duration": 23,
    "start_time": "2023-02-25T07:11:36.738Z"
   },
   {
    "duration": 22,
    "start_time": "2023-02-25T07:11:36.763Z"
   },
   {
    "duration": 120,
    "start_time": "2023-02-25T07:11:36.787Z"
   },
   {
    "duration": 214,
    "start_time": "2023-02-25T07:11:36.909Z"
   },
   {
    "duration": 59,
    "start_time": "2023-02-25T07:11:37.125Z"
   },
   {
    "duration": 11,
    "start_time": "2023-02-25T07:11:37.186Z"
   },
   {
    "duration": 67,
    "start_time": "2023-02-25T07:11:37.200Z"
   },
   {
    "duration": 13,
    "start_time": "2023-02-25T07:11:37.269Z"
   },
   {
    "duration": 33,
    "start_time": "2023-02-25T07:11:37.284Z"
   },
   {
    "duration": 42,
    "start_time": "2023-02-25T07:11:37.319Z"
   },
   {
    "duration": 10,
    "start_time": "2023-02-25T07:11:37.362Z"
   },
   {
    "duration": 55,
    "start_time": "2023-02-25T07:11:37.373Z"
   },
   {
    "duration": 214,
    "start_time": "2023-02-25T07:11:37.430Z"
   },
   {
    "duration": 195,
    "start_time": "2023-02-25T07:11:37.646Z"
   },
   {
    "duration": 203,
    "start_time": "2023-02-25T07:11:37.842Z"
   },
   {
    "duration": 188,
    "start_time": "2023-02-25T07:11:38.048Z"
   },
   {
    "duration": 26,
    "start_time": "2023-02-25T07:11:38.238Z"
   },
   {
    "duration": 7,
    "start_time": "2023-02-25T07:11:38.265Z"
   },
   {
    "duration": 15,
    "start_time": "2023-02-25T07:11:38.274Z"
   },
   {
    "duration": 113,
    "start_time": "2023-02-25T07:11:38.291Z"
   },
   {
    "duration": 23,
    "start_time": "2023-02-25T07:11:38.405Z"
   },
   {
    "duration": 44,
    "start_time": "2023-02-25T07:11:38.430Z"
   },
   {
    "duration": 6,
    "start_time": "2023-02-25T07:11:38.476Z"
   },
   {
    "duration": 8,
    "start_time": "2023-02-25T07:11:38.484Z"
   },
   {
    "duration": 15,
    "start_time": "2023-02-25T07:11:38.493Z"
   },
   {
    "duration": 9,
    "start_time": "2023-02-25T07:11:38.510Z"
   },
   {
    "duration": 108,
    "start_time": "2023-02-25T07:11:38.521Z"
   },
   {
    "duration": 2,
    "start_time": "2023-02-25T07:11:38.631Z"
   },
   {
    "duration": 29,
    "start_time": "2023-02-25T07:11:38.648Z"
   },
   {
    "duration": 3083,
    "start_time": "2023-02-25T07:11:38.679Z"
   },
   {
    "duration": 82,
    "start_time": "2023-02-25T07:11:41.764Z"
   },
   {
    "duration": 14,
    "start_time": "2023-02-25T07:11:41.848Z"
   },
   {
    "duration": 3,
    "start_time": "2023-02-25T07:11:41.864Z"
   },
   {
    "duration": 368,
    "start_time": "2023-02-25T07:11:41.870Z"
   },
   {
    "duration": 219,
    "start_time": "2023-02-25T07:11:42.240Z"
   },
   {
    "duration": 21,
    "start_time": "2023-02-25T07:11:42.460Z"
   },
   {
    "duration": 103,
    "start_time": "2023-02-25T07:11:42.483Z"
   },
   {
    "duration": 125,
    "start_time": "2023-02-25T07:49:35.314Z"
   },
   {
    "duration": 21,
    "start_time": "2023-02-25T07:49:42.116Z"
   },
   {
    "duration": 15,
    "start_time": "2023-02-25T07:49:46.460Z"
   },
   {
    "duration": 4,
    "start_time": "2023-02-25T07:52:08.727Z"
   },
   {
    "duration": 10,
    "start_time": "2023-02-25T07:54:11.626Z"
   },
   {
    "duration": 5,
    "start_time": "2023-02-25T07:55:00.400Z"
   },
   {
    "duration": 3,
    "start_time": "2023-02-25T07:55:12.761Z"
   },
   {
    "duration": 48065,
    "start_time": "2023-02-25T07:56:06.854Z"
   },
   {
    "duration": 4,
    "start_time": "2023-02-25T07:57:36.095Z"
   },
   {
    "duration": 2,
    "start_time": "2023-02-25T08:00:42.949Z"
   },
   {
    "duration": 4,
    "start_time": "2023-02-25T08:00:58.553Z"
   },
   {
    "duration": 10,
    "start_time": "2023-02-25T08:06:44.400Z"
   },
   {
    "duration": 21,
    "start_time": "2023-02-25T08:07:15.639Z"
   },
   {
    "duration": 2332,
    "start_time": "2023-02-25T08:07:43.385Z"
   },
   {
    "duration": 215,
    "start_time": "2023-02-25T08:07:54.404Z"
   },
   {
    "duration": 5,
    "start_time": "2023-02-25T08:07:57.712Z"
   },
   {
    "duration": 5,
    "start_time": "2023-02-25T09:36:32.982Z"
   },
   {
    "duration": 2408,
    "start_time": "2023-02-25T09:37:17.134Z"
   },
   {
    "duration": 4,
    "start_time": "2023-02-25T09:37:26.651Z"
   },
   {
    "duration": 4,
    "start_time": "2023-02-25T09:38:30.294Z"
   },
   {
    "duration": 4,
    "start_time": "2023-02-25T09:38:41.543Z"
   },
   {
    "duration": 5,
    "start_time": "2023-02-25T09:41:01.049Z"
   },
   {
    "duration": 212,
    "start_time": "2023-02-25T09:41:10.016Z"
   },
   {
    "duration": 5,
    "start_time": "2023-02-25T09:41:12.045Z"
   },
   {
    "duration": 4,
    "start_time": "2023-02-25T09:41:37.403Z"
   },
   {
    "duration": 4,
    "start_time": "2023-02-25T09:42:08.010Z"
   },
   {
    "duration": 3,
    "start_time": "2023-02-25T09:43:15.291Z"
   },
   {
    "duration": 6,
    "start_time": "2023-02-25T09:44:07.091Z"
   },
   {
    "duration": 2389,
    "start_time": "2023-02-25T09:45:36.806Z"
   },
   {
    "duration": 2306,
    "start_time": "2023-02-25T09:45:50.974Z"
   },
   {
    "duration": 3,
    "start_time": "2023-02-25T09:45:59.348Z"
   },
   {
    "duration": 2189,
    "start_time": "2023-02-25T09:47:48.714Z"
   },
   {
    "duration": 35,
    "start_time": "2023-02-25T10:15:41.798Z"
   },
   {
    "duration": 3,
    "start_time": "2023-02-25T10:19:40.864Z"
   },
   {
    "duration": 117227,
    "start_time": "2023-02-25T10:21:08.326Z"
   },
   {
    "duration": 5,
    "start_time": "2023-02-25T10:24:17.913Z"
   },
   {
    "duration": 3,
    "start_time": "2023-02-25T10:26:55.518Z"
   },
   {
    "duration": 4069,
    "start_time": "2023-02-25T10:27:05.886Z"
   },
   {
    "duration": 1193,
    "start_time": "2023-02-25T10:27:25.070Z"
   },
   {
    "duration": 19,
    "start_time": "2023-02-25T10:33:33.460Z"
   },
   {
    "duration": 3,
    "start_time": "2023-02-25T10:33:35.965Z"
   },
   {
    "duration": 3,
    "start_time": "2023-02-25T10:34:55.659Z"
   },
   {
    "duration": 169886,
    "start_time": "2023-02-25T10:35:59.561Z"
   },
   {
    "duration": 4,
    "start_time": "2023-02-25T10:39:35.242Z"
   },
   {
    "duration": 3,
    "start_time": "2023-02-25T10:40:43.221Z"
   },
   {
    "duration": 18605,
    "start_time": "2023-02-25T10:42:10.069Z"
   },
   {
    "duration": 1224,
    "start_time": "2023-02-25T10:44:27.221Z"
   },
   {
    "duration": 5,
    "start_time": "2023-02-25T11:43:05.534Z"
   },
   {
    "duration": 55,
    "start_time": "2023-02-25T11:43:05.541Z"
   },
   {
    "duration": 1047,
    "start_time": "2023-02-25T11:43:06.474Z"
   },
   {
    "duration": 3,
    "start_time": "2023-02-25T11:43:07.523Z"
   },
   {
    "duration": 602,
    "start_time": "2023-02-25T11:43:07.528Z"
   },
   {
    "duration": 4,
    "start_time": "2023-02-25T11:43:08.132Z"
   },
   {
    "duration": 36,
    "start_time": "2023-02-25T11:43:08.138Z"
   },
   {
    "duration": 105,
    "start_time": "2023-02-25T11:43:08.177Z"
   },
   {
    "duration": 385,
    "start_time": "2023-02-25T11:43:08.284Z"
   },
   {
    "duration": 1148,
    "start_time": "2023-02-25T11:43:08.670Z"
   },
   {
    "duration": 486,
    "start_time": "2023-02-25T11:43:09.819Z"
   },
   {
    "duration": 120,
    "start_time": "2023-02-25T11:43:10.306Z"
   },
   {
    "duration": 99,
    "start_time": "2023-02-25T11:43:10.429Z"
   },
   {
    "duration": 50,
    "start_time": "2023-02-25T11:43:10.529Z"
   },
   {
    "duration": 29,
    "start_time": "2023-02-25T11:43:10.580Z"
   },
   {
    "duration": 52,
    "start_time": "2023-02-25T11:43:10.612Z"
   },
   {
    "duration": 6,
    "start_time": "2023-02-25T11:43:10.665Z"
   },
   {
    "duration": 210,
    "start_time": "2023-02-25T11:43:10.673Z"
   },
   {
    "duration": 14,
    "start_time": "2023-02-25T11:43:10.885Z"
   },
   {
    "duration": 206,
    "start_time": "2023-02-25T11:43:10.900Z"
   },
   {
    "duration": 11,
    "start_time": "2023-02-25T11:43:11.108Z"
   },
   {
    "duration": 233,
    "start_time": "2023-02-25T11:43:11.121Z"
   },
   {
    "duration": 14,
    "start_time": "2023-02-25T11:43:11.356Z"
   },
   {
    "duration": 219,
    "start_time": "2023-02-25T11:43:11.372Z"
   },
   {
    "duration": 1115,
    "start_time": "2023-02-25T11:43:11.593Z"
   },
   {
    "duration": 267,
    "start_time": "2023-02-25T11:43:12.709Z"
   },
   {
    "duration": 7,
    "start_time": "2023-02-25T11:43:12.977Z"
   },
   {
    "duration": 4,
    "start_time": "2023-02-25T11:43:12.985Z"
   },
   {
    "duration": 59,
    "start_time": "2023-02-25T11:43:12.990Z"
   },
   {
    "duration": 7,
    "start_time": "2023-02-25T11:43:13.051Z"
   },
   {
    "duration": 19,
    "start_time": "2023-02-25T11:43:13.060Z"
   },
   {
    "duration": 200,
    "start_time": "2023-02-25T11:43:13.080Z"
   },
   {
    "duration": 242,
    "start_time": "2023-02-25T11:43:13.282Z"
   },
   {
    "duration": 102,
    "start_time": "2023-02-25T11:43:13.526Z"
   },
   {
    "duration": 272,
    "start_time": "2023-02-25T11:43:13.630Z"
   },
   {
    "duration": 247,
    "start_time": "2023-02-25T11:43:13.904Z"
   },
   {
    "duration": 238,
    "start_time": "2023-02-25T11:43:14.152Z"
   },
   {
    "duration": 243,
    "start_time": "2023-02-25T11:43:14.392Z"
   },
   {
    "duration": 51,
    "start_time": "2023-02-25T11:43:14.637Z"
   },
   {
    "duration": 277,
    "start_time": "2023-02-25T11:43:14.690Z"
   },
   {
    "duration": 12,
    "start_time": "2023-02-25T11:43:14.969Z"
   },
   {
    "duration": 15,
    "start_time": "2023-02-25T11:43:14.982Z"
   },
   {
    "duration": 13,
    "start_time": "2023-02-25T11:43:15.001Z"
   },
   {
    "duration": 62,
    "start_time": "2023-02-25T11:43:15.015Z"
   },
   {
    "duration": 15,
    "start_time": "2023-02-25T11:43:15.078Z"
   },
   {
    "duration": 15,
    "start_time": "2023-02-25T11:43:15.094Z"
   },
   {
    "duration": 14,
    "start_time": "2023-02-25T11:43:15.111Z"
   },
   {
    "duration": 24,
    "start_time": "2023-02-25T11:43:15.127Z"
   },
   {
    "duration": 10,
    "start_time": "2023-02-25T11:43:15.153Z"
   },
   {
    "duration": 8,
    "start_time": "2023-02-25T11:43:15.164Z"
   },
   {
    "duration": 124,
    "start_time": "2023-02-25T11:43:15.173Z"
   },
   {
    "duration": 243,
    "start_time": "2023-02-25T11:43:15.298Z"
   },
   {
    "duration": 54,
    "start_time": "2023-02-25T11:43:15.548Z"
   },
   {
    "duration": 12,
    "start_time": "2023-02-25T11:43:15.604Z"
   },
   {
    "duration": 71,
    "start_time": "2023-02-25T11:43:15.618Z"
   },
   {
    "duration": 10,
    "start_time": "2023-02-25T11:43:15.691Z"
   },
   {
    "duration": 55,
    "start_time": "2023-02-25T11:43:15.703Z"
   },
   {
    "duration": 25,
    "start_time": "2023-02-25T11:43:15.760Z"
   },
   {
    "duration": 12,
    "start_time": "2023-02-25T11:43:15.786Z"
   },
   {
    "duration": 74,
    "start_time": "2023-02-25T11:43:15.799Z"
   },
   {
    "duration": 199,
    "start_time": "2023-02-25T11:43:15.875Z"
   },
   {
    "duration": 183,
    "start_time": "2023-02-25T11:43:16.076Z"
   },
   {
    "duration": 240,
    "start_time": "2023-02-25T11:43:16.261Z"
   },
   {
    "duration": 232,
    "start_time": "2023-02-25T11:43:16.503Z"
   },
   {
    "duration": 30,
    "start_time": "2023-02-25T11:43:16.737Z"
   },
   {
    "duration": 6,
    "start_time": "2023-02-25T11:43:16.768Z"
   },
   {
    "duration": 8,
    "start_time": "2023-02-25T11:43:16.776Z"
   },
   {
    "duration": 105,
    "start_time": "2023-02-25T11:43:16.786Z"
   },
   {
    "duration": 21,
    "start_time": "2023-02-25T11:43:16.893Z"
   },
   {
    "duration": 44,
    "start_time": "2023-02-25T11:43:16.916Z"
   },
   {
    "duration": 6,
    "start_time": "2023-02-25T11:43:16.962Z"
   },
   {
    "duration": 7,
    "start_time": "2023-02-25T11:43:16.970Z"
   },
   {
    "duration": 12,
    "start_time": "2023-02-25T11:43:16.979Z"
   },
   {
    "duration": 6,
    "start_time": "2023-02-25T11:43:16.993Z"
   },
   {
    "duration": 129,
    "start_time": "2023-02-25T11:43:17.001Z"
   },
   {
    "duration": 4,
    "start_time": "2023-02-25T11:43:17.132Z"
   },
   {
    "duration": 36,
    "start_time": "2023-02-25T11:43:17.137Z"
   },
   {
    "duration": 2346,
    "start_time": "2023-02-25T11:43:17.175Z"
   },
   {
    "duration": 3,
    "start_time": "2023-02-25T11:43:19.523Z"
   },
   {
    "duration": 27,
    "start_time": "2023-02-25T11:43:19.528Z"
   },
   {
    "duration": 4,
    "start_time": "2023-02-25T11:43:19.557Z"
   },
   {
    "duration": 347,
    "start_time": "2023-02-25T11:43:19.562Z"
   },
   {
    "duration": 223,
    "start_time": "2023-02-25T11:43:19.911Z"
   },
   {
    "duration": 20,
    "start_time": "2023-02-25T11:43:20.137Z"
   },
   {
    "duration": 96,
    "start_time": "2023-02-25T11:43:20.159Z"
   },
   {
    "duration": 20,
    "start_time": "2023-02-25T11:44:31.756Z"
   },
   {
    "duration": 661,
    "start_time": "2023-02-25T11:45:24.565Z"
   },
   {
    "duration": 672,
    "start_time": "2023-02-25T11:50:30.706Z"
   },
   {
    "duration": 684,
    "start_time": "2023-02-25T11:52:06.305Z"
   },
   {
    "duration": 1396,
    "start_time": "2023-02-25T11:59:18.764Z"
   },
   {
    "duration": 3,
    "start_time": "2023-02-25T11:59:20.162Z"
   },
   {
    "duration": 1010,
    "start_time": "2023-02-25T11:59:20.167Z"
   },
   {
    "duration": 4,
    "start_time": "2023-02-25T11:59:21.179Z"
   },
   {
    "duration": 518,
    "start_time": "2023-02-25T11:59:21.185Z"
   },
   {
    "duration": 2,
    "start_time": "2023-02-25T11:59:21.705Z"
   },
   {
    "duration": 40,
    "start_time": "2023-02-25T11:59:21.708Z"
   },
   {
    "duration": 83,
    "start_time": "2023-02-25T11:59:21.750Z"
   },
   {
    "duration": 376,
    "start_time": "2023-02-25T11:59:21.835Z"
   },
   {
    "duration": 1096,
    "start_time": "2023-02-25T11:59:22.213Z"
   },
   {
    "duration": 583,
    "start_time": "2023-02-25T11:59:23.311Z"
   },
   {
    "duration": 117,
    "start_time": "2023-02-25T11:59:23.895Z"
   },
   {
    "duration": 72,
    "start_time": "2023-02-25T11:59:24.014Z"
   },
   {
    "duration": 51,
    "start_time": "2023-02-25T11:59:24.089Z"
   },
   {
    "duration": 28,
    "start_time": "2023-02-25T11:59:24.148Z"
   },
   {
    "duration": 40,
    "start_time": "2023-02-25T11:59:24.178Z"
   },
   {
    "duration": 7,
    "start_time": "2023-02-25T11:59:24.219Z"
   },
   {
    "duration": 212,
    "start_time": "2023-02-25T11:59:24.227Z"
   },
   {
    "duration": 13,
    "start_time": "2023-02-25T11:59:24.441Z"
   },
   {
    "duration": 195,
    "start_time": "2023-02-25T11:59:24.456Z"
   },
   {
    "duration": 7,
    "start_time": "2023-02-25T11:59:24.653Z"
   },
   {
    "duration": 200,
    "start_time": "2023-02-25T11:59:24.661Z"
   },
   {
    "duration": 14,
    "start_time": "2023-02-25T11:59:24.862Z"
   },
   {
    "duration": 220,
    "start_time": "2023-02-25T11:59:24.877Z"
   },
   {
    "duration": 1060,
    "start_time": "2023-02-25T11:59:25.098Z"
   },
   {
    "duration": 314,
    "start_time": "2023-02-25T11:59:26.160Z"
   },
   {
    "duration": 9,
    "start_time": "2023-02-25T11:59:26.476Z"
   },
   {
    "duration": 8,
    "start_time": "2023-02-25T11:59:26.489Z"
   },
   {
    "duration": 66,
    "start_time": "2023-02-25T11:59:26.499Z"
   },
   {
    "duration": 7,
    "start_time": "2023-02-25T11:59:26.568Z"
   },
   {
    "duration": 20,
    "start_time": "2023-02-25T11:59:26.577Z"
   },
   {
    "duration": 67,
    "start_time": "2023-02-25T11:59:26.599Z"
   },
   {
    "duration": 225,
    "start_time": "2023-02-25T11:59:26.667Z"
   },
   {
    "duration": 206,
    "start_time": "2023-02-25T11:59:26.893Z"
   },
   {
    "duration": 241,
    "start_time": "2023-02-25T11:59:27.101Z"
   },
   {
    "duration": 234,
    "start_time": "2023-02-25T11:59:27.344Z"
   },
   {
    "duration": 265,
    "start_time": "2023-02-25T11:59:27.580Z"
   },
   {
    "duration": 250,
    "start_time": "2023-02-25T11:59:27.848Z"
   },
   {
    "duration": 57,
    "start_time": "2023-02-25T11:59:28.100Z"
   },
   {
    "duration": 289,
    "start_time": "2023-02-25T11:59:28.159Z"
   },
   {
    "duration": 12,
    "start_time": "2023-02-25T11:59:28.454Z"
   },
   {
    "duration": 12,
    "start_time": "2023-02-25T11:59:28.468Z"
   },
   {
    "duration": 12,
    "start_time": "2023-02-25T11:59:28.481Z"
   },
   {
    "duration": 14,
    "start_time": "2023-02-25T11:59:28.495Z"
   },
   {
    "duration": 43,
    "start_time": "2023-02-25T11:59:28.510Z"
   },
   {
    "duration": 11,
    "start_time": "2023-02-25T11:59:28.555Z"
   },
   {
    "duration": 12,
    "start_time": "2023-02-25T11:59:28.568Z"
   },
   {
    "duration": 15,
    "start_time": "2023-02-25T11:59:28.582Z"
   },
   {
    "duration": 11,
    "start_time": "2023-02-25T11:59:28.598Z"
   },
   {
    "duration": 37,
    "start_time": "2023-02-25T11:59:28.611Z"
   },
   {
    "duration": 115,
    "start_time": "2023-02-25T11:59:28.650Z"
   },
   {
    "duration": 217,
    "start_time": "2023-02-25T11:59:28.767Z"
   },
   {
    "duration": 64,
    "start_time": "2023-02-25T11:59:28.985Z"
   },
   {
    "duration": 11,
    "start_time": "2023-02-25T11:59:29.051Z"
   },
   {
    "duration": 51,
    "start_time": "2023-02-25T11:59:29.064Z"
   },
   {
    "duration": 32,
    "start_time": "2023-02-25T11:59:29.117Z"
   },
   {
    "duration": 33,
    "start_time": "2023-02-25T11:59:29.151Z"
   },
   {
    "duration": 27,
    "start_time": "2023-02-25T11:59:29.185Z"
   },
   {
    "duration": 11,
    "start_time": "2023-02-25T11:59:29.213Z"
   },
   {
    "duration": 56,
    "start_time": "2023-02-25T11:59:29.248Z"
   },
   {
    "duration": 210,
    "start_time": "2023-02-25T11:59:29.306Z"
   },
   {
    "duration": 195,
    "start_time": "2023-02-25T11:59:29.518Z"
   },
   {
    "duration": 196,
    "start_time": "2023-02-25T11:59:29.715Z"
   },
   {
    "duration": 189,
    "start_time": "2023-02-25T11:59:29.913Z"
   },
   {
    "duration": 27,
    "start_time": "2023-02-25T11:59:30.104Z"
   },
   {
    "duration": 18,
    "start_time": "2023-02-25T11:59:30.133Z"
   },
   {
    "duration": 6,
    "start_time": "2023-02-25T11:59:30.153Z"
   },
   {
    "duration": 102,
    "start_time": "2023-02-25T11:59:30.160Z"
   },
   {
    "duration": 22,
    "start_time": "2023-02-25T11:59:30.263Z"
   },
   {
    "duration": 30,
    "start_time": "2023-02-25T11:59:30.287Z"
   },
   {
    "duration": 30,
    "start_time": "2023-02-25T11:59:30.319Z"
   },
   {
    "duration": 4,
    "start_time": "2023-02-25T11:59:30.350Z"
   },
   {
    "duration": 28,
    "start_time": "2023-02-25T11:59:30.355Z"
   },
   {
    "duration": 31,
    "start_time": "2023-02-25T11:59:30.384Z"
   },
   {
    "duration": 121,
    "start_time": "2023-02-25T11:59:30.417Z"
   },
   {
    "duration": 8,
    "start_time": "2023-02-25T11:59:30.540Z"
   },
   {
    "duration": 55,
    "start_time": "2023-02-25T11:59:30.550Z"
   },
   {
    "duration": 2295,
    "start_time": "2023-02-25T11:59:30.607Z"
   },
   {
    "duration": 68,
    "start_time": "2023-02-25T11:59:32.904Z"
   },
   {
    "duration": 13,
    "start_time": "2023-02-25T11:59:32.974Z"
   },
   {
    "duration": 3,
    "start_time": "2023-02-25T11:59:32.989Z"
   },
   {
    "duration": 364,
    "start_time": "2023-02-25T11:59:32.993Z"
   },
   {
    "duration": 233,
    "start_time": "2023-02-25T11:59:33.359Z"
   },
   {
    "duration": 20,
    "start_time": "2023-02-25T11:59:33.594Z"
   },
   {
    "duration": 109,
    "start_time": "2023-02-25T11:59:33.616Z"
   },
   {
    "duration": 3,
    "start_time": "2023-02-25T11:59:33.727Z"
   },
   {
    "duration": 31,
    "start_time": "2023-02-25T11:59:33.731Z"
   },
   {
    "duration": 6,
    "start_time": "2023-02-25T11:59:33.763Z"
   },
   {
    "duration": 16,
    "start_time": "2023-02-25T11:59:33.770Z"
   },
   {
    "duration": 49070,
    "start_time": "2023-02-25T11:59:33.788Z"
   },
   {
    "duration": 5,
    "start_time": "2023-02-25T12:00:22.860Z"
   },
   {
    "duration": 10,
    "start_time": "2023-02-25T12:00:22.866Z"
   },
   {
    "duration": 2466,
    "start_time": "2023-02-25T12:00:22.878Z"
   },
   {
    "duration": 4,
    "start_time": "2023-02-25T12:00:25.347Z"
   },
   {
    "duration": 232,
    "start_time": "2023-02-25T12:00:25.353Z"
   },
   {
    "duration": 5,
    "start_time": "2023-02-25T12:00:25.587Z"
   },
   {
    "duration": 2333,
    "start_time": "2023-02-25T12:00:25.593Z"
   },
   {
    "duration": 28,
    "start_time": "2023-02-25T12:00:27.928Z"
   },
   {
    "duration": 3,
    "start_time": "2023-02-25T12:00:27.958Z"
   },
   {
    "duration": 111189,
    "start_time": "2023-02-25T12:00:27.963Z"
   },
   {
    "duration": 4,
    "start_time": "2023-02-25T12:02:19.153Z"
   },
   {
    "duration": 7,
    "start_time": "2023-02-25T12:02:19.158Z"
   },
   {
    "duration": 4092,
    "start_time": "2023-02-25T12:02:19.167Z"
   },
   {
    "duration": 1204,
    "start_time": "2023-02-25T12:02:23.261Z"
   },
   {
    "duration": 95,
    "start_time": "2023-02-25T12:02:24.466Z"
   },
   {
    "duration": 3,
    "start_time": "2023-02-25T12:02:24.563Z"
   },
   {
    "duration": 15,
    "start_time": "2023-02-25T12:02:24.567Z"
   },
   {
    "duration": 167625,
    "start_time": "2023-02-25T12:02:24.583Z"
   },
   {
    "duration": 4,
    "start_time": "2023-02-25T12:05:12.209Z"
   },
   {
    "duration": 6,
    "start_time": "2023-02-25T12:05:12.215Z"
   },
   {
    "duration": 16363,
    "start_time": "2023-02-25T12:05:12.222Z"
   },
   {
    "duration": 1231,
    "start_time": "2023-02-25T12:05:28.586Z"
   },
   {
    "duration": 146,
    "start_time": "2023-02-25T12:18:38.820Z"
   },
   {
    "duration": 310,
    "start_time": "2023-02-25T12:18:53.300Z"
   },
   {
    "duration": 1439,
    "start_time": "2023-02-28T09:43:56.799Z"
   },
   {
    "duration": 2,
    "start_time": "2023-02-28T09:43:58.240Z"
   },
   {
    "duration": 2942,
    "start_time": "2023-02-28T09:43:58.244Z"
   },
   {
    "duration": 2,
    "start_time": "2023-02-28T09:44:01.189Z"
   },
   {
    "duration": 465,
    "start_time": "2023-02-28T09:44:01.192Z"
   },
   {
    "duration": 4,
    "start_time": "2023-02-28T09:44:01.658Z"
   },
   {
    "duration": 99,
    "start_time": "2023-02-28T09:44:01.663Z"
   },
   {
    "duration": 144,
    "start_time": "2023-02-28T09:44:01.764Z"
   },
   {
    "duration": 370,
    "start_time": "2023-02-28T09:44:01.910Z"
   },
   {
    "duration": 1039,
    "start_time": "2023-02-28T09:44:02.283Z"
   },
   {
    "duration": 520,
    "start_time": "2023-02-28T09:44:03.324Z"
   },
   {
    "duration": 98,
    "start_time": "2023-02-28T09:50:32.320Z"
   },
   {
    "duration": 60,
    "start_time": "2023-02-28T09:50:53.128Z"
   },
   {
    "duration": 42,
    "start_time": "2023-02-28T09:50:59.651Z"
   },
   {
    "duration": 33,
    "start_time": "2023-02-28T09:51:27.620Z"
   },
   {
    "duration": 40,
    "start_time": "2023-02-28T09:51:33.876Z"
   },
   {
    "duration": 8,
    "start_time": "2023-02-28T09:51:41.853Z"
   },
   {
    "duration": 174,
    "start_time": "2023-02-28T09:51:45.637Z"
   },
   {
    "duration": 16,
    "start_time": "2023-02-28T09:51:50.589Z"
   },
   {
    "duration": 215,
    "start_time": "2023-02-28T09:51:53.880Z"
   },
   {
    "duration": 9,
    "start_time": "2023-02-28T09:52:04.761Z"
   },
   {
    "duration": 190,
    "start_time": "2023-02-28T09:52:05.487Z"
   },
   {
    "duration": 199,
    "start_time": "2023-02-28T09:52:16.893Z"
   },
   {
    "duration": 17,
    "start_time": "2023-02-28T09:52:30.521Z"
   },
   {
    "duration": 248,
    "start_time": "2023-02-28T09:52:35.769Z"
   },
   {
    "duration": 1006,
    "start_time": "2023-02-28T09:52:49.117Z"
   },
   {
    "duration": 8,
    "start_time": "2023-02-28T09:54:03.097Z"
   },
   {
    "duration": 5,
    "start_time": "2023-02-28T09:54:04.914Z"
   },
   {
    "duration": 48,
    "start_time": "2023-02-28T09:54:11.464Z"
   },
   {
    "duration": 7,
    "start_time": "2023-02-28T09:54:22.169Z"
   },
   {
    "duration": 21,
    "start_time": "2023-02-28T09:54:23.380Z"
   },
   {
    "duration": 55,
    "start_time": "2023-02-28T09:54:24.770Z"
   },
   {
    "duration": 383,
    "start_time": "2023-02-28T09:54:35.610Z"
   },
   {
    "duration": 129,
    "start_time": "2023-02-28T09:55:45.764Z"
   },
   {
    "duration": 222,
    "start_time": "2023-02-28T09:55:46.750Z"
   },
   {
    "duration": 231,
    "start_time": "2023-02-28T09:55:47.767Z"
   },
   {
    "duration": 243,
    "start_time": "2023-02-28T09:55:49.770Z"
   },
   {
    "duration": 228,
    "start_time": "2023-02-28T09:55:51.709Z"
   },
   {
    "duration": 54,
    "start_time": "2023-02-28T09:56:21.915Z"
   },
   {
    "duration": 283,
    "start_time": "2023-02-28T09:56:48.111Z"
   },
   {
    "duration": 12,
    "start_time": "2023-02-28T09:57:41.911Z"
   },
   {
    "duration": 14,
    "start_time": "2023-02-28T09:57:47.893Z"
   },
   {
    "duration": 13,
    "start_time": "2023-02-28T09:57:53.195Z"
   },
   {
    "duration": 13,
    "start_time": "2023-02-28T09:57:59.947Z"
   },
   {
    "duration": 13,
    "start_time": "2023-02-28T09:58:02.668Z"
   },
   {
    "duration": 13,
    "start_time": "2023-02-28T09:58:06.824Z"
   },
   {
    "duration": 11,
    "start_time": "2023-02-28T09:58:08.777Z"
   },
   {
    "duration": 15,
    "start_time": "2023-02-28T09:58:10.869Z"
   },
   {
    "duration": 11,
    "start_time": "2023-02-28T09:58:39.943Z"
   },
   {
    "duration": 7,
    "start_time": "2023-02-28T09:58:57.070Z"
   },
   {
    "duration": 126,
    "start_time": "2023-02-28T09:59:00.848Z"
   },
   {
    "duration": 231,
    "start_time": "2023-02-28T09:59:02.641Z"
   },
   {
    "duration": 46,
    "start_time": "2023-02-28T09:59:05.483Z"
   },
   {
    "duration": 13,
    "start_time": "2023-02-28T10:09:11.431Z"
   },
   {
    "duration": 48,
    "start_time": "2023-02-28T10:09:14.672Z"
   },
   {
    "duration": 28,
    "start_time": "2023-02-28T10:09:54.894Z"
   },
   {
    "duration": 12,
    "start_time": "2023-02-28T10:10:07.623Z"
   },
   {
    "duration": 8,
    "start_time": "2023-02-28T10:12:25.017Z"
   },
   {
    "duration": 88,
    "start_time": "2023-02-28T10:12:49.358Z"
   },
   {
    "duration": 7,
    "start_time": "2023-02-28T10:13:56.978Z"
   },
   {
    "duration": 103,
    "start_time": "2023-02-28T10:14:01.765Z"
   },
   {
    "duration": 6,
    "start_time": "2023-02-28T10:14:46.113Z"
   },
   {
    "duration": 97,
    "start_time": "2023-02-28T10:14:49.977Z"
   },
   {
    "duration": 26,
    "start_time": "2023-02-28T10:15:35.158Z"
   },
   {
    "duration": 2667,
    "start_time": "2023-02-28T10:15:38.427Z"
   },
   {
    "duration": 64,
    "start_time": "2023-02-28T10:16:02.938Z"
   },
   {
    "duration": 18,
    "start_time": "2023-02-28T10:16:04.063Z"
   },
   {
    "duration": 3,
    "start_time": "2023-02-28T10:16:36.755Z"
   },
   {
    "duration": 331,
    "start_time": "2023-02-28T10:16:59.228Z"
   },
   {
    "duration": 215,
    "start_time": "2023-02-28T10:17:09.031Z"
   },
   {
    "duration": 29,
    "start_time": "2023-02-28T10:17:16.019Z"
   },
   {
    "duration": 78,
    "start_time": "2023-02-28T10:17:21.568Z"
   },
   {
    "duration": 22,
    "start_time": "2023-02-28T10:21:40.096Z"
   },
   {
    "duration": 4,
    "start_time": "2023-02-28T10:21:42.147Z"
   },
   {
    "duration": 5,
    "start_time": "2023-02-28T10:21:45.273Z"
   },
   {
    "duration": 54751,
    "start_time": "2023-02-28T10:21:47.662Z"
   },
   {
    "duration": 4,
    "start_time": "2023-02-28T10:22:49.070Z"
   },
   {
    "duration": 3,
    "start_time": "2023-02-28T10:23:18.102Z"
   },
   {
    "duration": 2783,
    "start_time": "2023-02-28T10:23:22.523Z"
   },
   {
    "duration": 4,
    "start_time": "2023-02-28T10:23:32.685Z"
   },
   {
    "duration": 249,
    "start_time": "2023-02-28T10:23:39.931Z"
   },
   {
    "duration": 5,
    "start_time": "2023-02-28T10:23:45.774Z"
   },
   {
    "duration": 3679,
    "start_time": "2023-02-28T10:26:09.755Z"
   },
   {
    "duration": 14,
    "start_time": "2023-02-28T10:31:21.306Z"
   },
   {
    "duration": 12,
    "start_time": "2023-02-28T10:35:50.378Z"
   },
   {
    "duration": 4,
    "start_time": "2023-02-28T10:41:03.067Z"
   },
   {
    "duration": 229,
    "start_time": "2023-02-28T10:41:07.108Z"
   },
   {
    "duration": 137,
    "start_time": "2023-02-28T10:41:10.789Z"
   },
   {
    "duration": 22,
    "start_time": "2023-02-28T10:41:12.351Z"
   },
   {
    "duration": 59,
    "start_time": "2023-02-28T10:41:15.422Z"
   },
   {
    "duration": 19,
    "start_time": "2023-02-28T10:41:18.309Z"
   },
   {
    "duration": 16,
    "start_time": "2023-02-28T10:41:22.575Z"
   },
   {
    "duration": 2542,
    "start_time": "2023-02-28T10:41:41.649Z"
   },
   {
    "duration": 731,
    "start_time": "2023-02-28T11:26:34.624Z"
   },
   {
    "duration": 735,
    "start_time": "2023-02-28T11:27:26.159Z"
   },
   {
    "duration": 21,
    "start_time": "2023-02-28T11:28:14.012Z"
   },
   {
    "duration": 17,
    "start_time": "2023-02-28T11:28:24.488Z"
   },
   {
    "duration": 135,
    "start_time": "2023-02-28T11:33:15.781Z"
   },
   {
    "duration": 16,
    "start_time": "2023-02-28T11:33:54.499Z"
   },
   {
    "duration": 3,
    "start_time": "2023-02-28T11:43:20.214Z"
   },
   {
    "duration": 2727,
    "start_time": "2023-02-28T11:43:23.167Z"
   },
   {
    "duration": 4,
    "start_time": "2023-02-28T11:43:33.072Z"
   },
   {
    "duration": 243,
    "start_time": "2023-02-28T11:43:50.292Z"
   },
   {
    "duration": 7,
    "start_time": "2023-02-28T11:43:53.286Z"
   },
   {
    "duration": 2599,
    "start_time": "2023-02-28T11:45:20.661Z"
   },
   {
    "duration": 1996,
    "start_time": "2023-02-28T11:46:58.858Z"
   },
   {
    "duration": 27,
    "start_time": "2023-02-28T11:47:08.974Z"
   },
   {
    "duration": 3,
    "start_time": "2023-02-28T11:47:20.767Z"
   },
   {
    "duration": 145346,
    "start_time": "2023-02-28T11:47:37.819Z"
   },
   {
    "duration": 4,
    "start_time": "2023-02-28T11:50:11.906Z"
   },
   {
    "duration": 3,
    "start_time": "2023-02-28T11:50:25.468Z"
   },
   {
    "duration": 36267,
    "start_time": "2023-02-28T11:50:52.487Z"
   },
   {
    "duration": 1207,
    "start_time": "2023-02-28T11:51:46.243Z"
   },
   {
    "duration": 17,
    "start_time": "2023-02-28T13:46:15.488Z"
   },
   {
    "duration": 6,
    "start_time": "2023-02-28T13:46:51.426Z"
   },
   {
    "duration": 17,
    "start_time": "2023-02-28T13:55:13.746Z"
   },
   {
    "duration": 8,
    "start_time": "2023-02-28T13:59:41.379Z"
   },
   {
    "duration": 6,
    "start_time": "2023-02-28T14:39:51.450Z"
   },
   {
    "duration": 11,
    "start_time": "2023-02-28T14:53:08.322Z"
   },
   {
    "duration": 3,
    "start_time": "2023-02-28T14:53:26.484Z"
   },
   {
    "duration": 268742,
    "start_time": "2023-02-28T14:53:29.313Z"
   },
   {
    "duration": 4,
    "start_time": "2023-02-28T15:05:33.149Z"
   },
   {
    "duration": 3,
    "start_time": "2023-02-28T15:09:45.344Z"
   },
   {
    "duration": 38359,
    "start_time": "2023-02-28T15:10:03.352Z"
   },
   {
    "duration": 11,
    "start_time": "2023-02-28T15:26:22.706Z"
   },
   {
    "duration": 41,
    "start_time": "2023-02-28T15:26:35.274Z"
   },
   {
    "duration": 4,
    "start_time": "2023-02-28T15:26:53.050Z"
   },
   {
    "duration": 828239,
    "start_time": "2023-02-28T15:26:57.136Z"
   },
   {
    "duration": 77,
    "start_time": "2023-02-28T15:44:15.667Z"
   },
   {
    "duration": 3,
    "start_time": "2023-02-28T15:52:08.821Z"
   },
   {
    "duration": 1857,
    "start_time": "2023-02-28T15:52:10.082Z"
   },
   {
    "duration": 41,
    "start_time": "2023-02-28T15:54:18.707Z"
   },
   {
    "duration": 11,
    "start_time": "2023-02-28T17:05:54.111Z"
   },
   {
    "duration": 598,
    "start_time": "2023-02-28T17:20:58.929Z"
   },
   {
    "duration": 652,
    "start_time": "2023-02-28T17:37:54.632Z"
   },
   {
    "duration": 601,
    "start_time": "2023-02-28T17:39:13.760Z"
   },
   {
    "duration": 7,
    "start_time": "2023-02-28T17:39:46.003Z"
   },
   {
    "duration": 16,
    "start_time": "2023-02-28T17:39:46.013Z"
   },
   {
    "duration": 2373,
    "start_time": "2023-02-28T17:39:46.033Z"
   },
   {
    "duration": 4,
    "start_time": "2023-02-28T17:39:48.408Z"
   },
   {
    "duration": 445,
    "start_time": "2023-02-28T17:39:48.414Z"
   },
   {
    "duration": 3,
    "start_time": "2023-02-28T17:39:48.861Z"
   },
   {
    "duration": 33,
    "start_time": "2023-02-28T17:39:48.865Z"
   },
   {
    "duration": 97,
    "start_time": "2023-02-28T17:39:48.900Z"
   },
   {
    "duration": 319,
    "start_time": "2023-02-28T17:39:48.999Z"
   },
   {
    "duration": 939,
    "start_time": "2023-02-28T17:39:49.321Z"
   },
   {
    "duration": 450,
    "start_time": "2023-02-28T17:39:50.262Z"
   },
   {
    "duration": 92,
    "start_time": "2023-02-28T17:39:50.714Z"
   },
   {
    "duration": 64,
    "start_time": "2023-02-28T17:39:50.808Z"
   },
   {
    "duration": 44,
    "start_time": "2023-02-28T17:39:50.874Z"
   },
   {
    "duration": 59,
    "start_time": "2023-02-28T17:39:50.920Z"
   },
   {
    "duration": 42,
    "start_time": "2023-02-28T17:39:50.981Z"
   },
   {
    "duration": 27,
    "start_time": "2023-02-28T17:39:51.025Z"
   },
   {
    "duration": 341,
    "start_time": "2023-02-28T17:39:51.054Z"
   },
   {
    "duration": 16,
    "start_time": "2023-02-28T17:39:51.396Z"
   },
   {
    "duration": 223,
    "start_time": "2023-02-28T17:39:51.414Z"
   },
   {
    "duration": 11,
    "start_time": "2023-02-28T17:39:51.638Z"
   },
   {
    "duration": 224,
    "start_time": "2023-02-28T17:39:51.651Z"
   },
   {
    "duration": 17,
    "start_time": "2023-02-28T17:39:51.876Z"
   },
   {
    "duration": 204,
    "start_time": "2023-02-28T17:39:51.895Z"
   },
   {
    "duration": 1064,
    "start_time": "2023-02-28T17:39:59.404Z"
   },
   {
    "duration": 1209,
    "start_time": "2023-02-28T17:40:14.407Z"
   },
   {
    "duration": 4,
    "start_time": "2023-02-28T18:10:18.207Z"
   },
   {
    "duration": 40,
    "start_time": "2023-02-28T18:10:18.213Z"
   },
   {
    "duration": 983,
    "start_time": "2023-02-28T18:10:18.255Z"
   },
   {
    "duration": 3,
    "start_time": "2023-02-28T18:10:19.240Z"
   },
   {
    "duration": 486,
    "start_time": "2023-02-28T18:10:19.249Z"
   },
   {
    "duration": 3,
    "start_time": "2023-02-28T18:10:19.737Z"
   },
   {
    "duration": 62,
    "start_time": "2023-02-28T18:10:19.747Z"
   },
   {
    "duration": 147,
    "start_time": "2023-02-28T18:10:19.812Z"
   },
   {
    "duration": 384,
    "start_time": "2023-02-28T18:10:19.961Z"
   },
   {
    "duration": 1095,
    "start_time": "2023-02-28T18:10:20.349Z"
   },
   {
    "duration": 540,
    "start_time": "2023-02-28T18:10:21.450Z"
   },
   {
    "duration": 100,
    "start_time": "2023-02-28T18:10:21.991Z"
   },
   {
    "duration": 64,
    "start_time": "2023-02-28T18:10:22.093Z"
   },
   {
    "duration": 61,
    "start_time": "2023-02-28T18:10:22.159Z"
   },
   {
    "duration": 38,
    "start_time": "2023-02-28T18:10:22.222Z"
   },
   {
    "duration": 46,
    "start_time": "2023-02-28T18:10:22.262Z"
   },
   {
    "duration": 15,
    "start_time": "2023-02-28T18:10:22.310Z"
   },
   {
    "duration": 247,
    "start_time": "2023-02-28T18:10:22.326Z"
   },
   {
    "duration": 18,
    "start_time": "2023-02-28T18:10:22.576Z"
   },
   {
    "duration": 219,
    "start_time": "2023-02-28T18:10:22.596Z"
   },
   {
    "duration": 7,
    "start_time": "2023-02-28T18:10:22.817Z"
   },
   {
    "duration": 243,
    "start_time": "2023-02-28T18:10:22.826Z"
   },
   {
    "duration": 15,
    "start_time": "2023-02-28T18:10:23.071Z"
   },
   {
    "duration": 246,
    "start_time": "2023-02-28T18:10:23.088Z"
   },
   {
    "duration": 1212,
    "start_time": "2023-02-28T18:10:23.336Z"
   },
   {
    "duration": 279,
    "start_time": "2023-02-28T18:10:24.549Z"
   },
   {
    "duration": 8,
    "start_time": "2023-02-28T18:10:24.830Z"
   },
   {
    "duration": 18,
    "start_time": "2023-02-28T18:10:24.839Z"
   },
   {
    "duration": 61,
    "start_time": "2023-02-28T18:10:24.862Z"
   },
   {
    "duration": 6,
    "start_time": "2023-02-28T18:10:24.926Z"
   },
   {
    "duration": 36,
    "start_time": "2023-02-28T18:10:24.934Z"
   },
   {
    "duration": 62,
    "start_time": "2023-02-28T18:10:24.972Z"
   },
   {
    "duration": 269,
    "start_time": "2023-02-28T18:10:25.036Z"
   },
   {
    "duration": 111,
    "start_time": "2023-02-28T18:10:25.310Z"
   },
   {
    "duration": 245,
    "start_time": "2023-02-28T18:10:25.423Z"
   },
   {
    "duration": 272,
    "start_time": "2023-02-28T18:10:25.670Z"
   },
   {
    "duration": 304,
    "start_time": "2023-02-28T18:10:25.944Z"
   },
   {
    "duration": 257,
    "start_time": "2023-02-28T18:10:26.250Z"
   },
   {
    "duration": 48,
    "start_time": "2023-02-28T18:10:26.509Z"
   },
   {
    "duration": 294,
    "start_time": "2023-02-28T18:10:26.559Z"
   },
   {
    "duration": 17,
    "start_time": "2023-02-28T18:10:26.855Z"
   },
   {
    "duration": 20,
    "start_time": "2023-02-28T18:10:26.874Z"
   },
   {
    "duration": 18,
    "start_time": "2023-02-28T18:10:26.896Z"
   },
   {
    "duration": 22,
    "start_time": "2023-02-28T18:10:26.916Z"
   },
   {
    "duration": 13,
    "start_time": "2023-02-28T18:10:26.949Z"
   },
   {
    "duration": 23,
    "start_time": "2023-02-28T18:10:26.963Z"
   },
   {
    "duration": 21,
    "start_time": "2023-02-28T18:10:26.988Z"
   },
   {
    "duration": 17,
    "start_time": "2023-02-28T18:10:27.010Z"
   },
   {
    "duration": 20,
    "start_time": "2023-02-28T18:10:27.029Z"
   },
   {
    "duration": 10,
    "start_time": "2023-02-28T18:10:27.051Z"
   },
   {
    "duration": 138,
    "start_time": "2023-02-28T18:10:27.062Z"
   },
   {
    "duration": 242,
    "start_time": "2023-02-28T18:10:27.202Z"
   },
   {
    "duration": 57,
    "start_time": "2023-02-28T18:10:27.449Z"
   },
   {
    "duration": 66,
    "start_time": "2023-02-28T18:10:46.056Z"
   },
   {
    "duration": 20,
    "start_time": "2023-02-28T18:17:58.908Z"
   },
   {
    "duration": 13,
    "start_time": "2023-02-28T18:18:50.577Z"
   },
   {
    "duration": 46,
    "start_time": "2023-02-28T18:18:54.621Z"
   },
   {
    "duration": 1563,
    "start_time": "2023-02-28T18:20:17.077Z"
   },
   {
    "duration": 3,
    "start_time": "2023-02-28T18:20:18.642Z"
   },
   {
    "duration": 1079,
    "start_time": "2023-02-28T18:20:18.646Z"
   },
   {
    "duration": 4,
    "start_time": "2023-02-28T18:20:19.727Z"
   },
   {
    "duration": 547,
    "start_time": "2023-02-28T18:20:19.732Z"
   },
   {
    "duration": 4,
    "start_time": "2023-02-28T18:20:20.281Z"
   },
   {
    "duration": 36,
    "start_time": "2023-02-28T18:20:20.287Z"
   },
   {
    "duration": 121,
    "start_time": "2023-02-28T18:20:20.325Z"
   },
   {
    "duration": 383,
    "start_time": "2023-02-28T18:20:20.450Z"
   },
   {
    "duration": 1220,
    "start_time": "2023-02-28T18:20:20.835Z"
   },
   {
    "duration": 630,
    "start_time": "2023-02-28T18:20:22.057Z"
   },
   {
    "duration": 111,
    "start_time": "2023-02-28T18:20:22.690Z"
   },
   {
    "duration": 103,
    "start_time": "2023-02-28T18:20:22.804Z"
   },
   {
    "duration": 55,
    "start_time": "2023-02-28T18:20:22.908Z"
   },
   {
    "duration": 34,
    "start_time": "2023-02-28T18:20:22.965Z"
   },
   {
    "duration": 64,
    "start_time": "2023-02-28T18:20:23.001Z"
   },
   {
    "duration": 9,
    "start_time": "2023-02-28T18:20:23.066Z"
   },
   {
    "duration": 223,
    "start_time": "2023-02-28T18:20:23.077Z"
   },
   {
    "duration": 19,
    "start_time": "2023-02-28T18:20:23.302Z"
   },
   {
    "duration": 250,
    "start_time": "2023-02-28T18:20:23.324Z"
   },
   {
    "duration": 9,
    "start_time": "2023-02-28T18:20:23.577Z"
   },
   {
    "duration": 225,
    "start_time": "2023-02-28T18:20:23.588Z"
   },
   {
    "duration": 19,
    "start_time": "2023-02-28T18:20:23.815Z"
   },
   {
    "duration": 230,
    "start_time": "2023-02-28T18:20:23.837Z"
   },
   {
    "duration": 1158,
    "start_time": "2023-02-28T18:20:24.069Z"
   },
   {
    "duration": 301,
    "start_time": "2023-02-28T18:20:25.229Z"
   },
   {
    "duration": 16,
    "start_time": "2023-02-28T18:20:25.532Z"
   },
   {
    "duration": 5,
    "start_time": "2023-02-28T18:20:25.554Z"
   },
   {
    "duration": 71,
    "start_time": "2023-02-28T18:20:25.561Z"
   },
   {
    "duration": 20,
    "start_time": "2023-02-28T18:20:25.634Z"
   },
   {
    "duration": 39,
    "start_time": "2023-02-28T18:20:25.656Z"
   },
   {
    "duration": 57,
    "start_time": "2023-02-28T18:20:25.697Z"
   },
   {
    "duration": 269,
    "start_time": "2023-02-28T18:20:25.756Z"
   },
   {
    "duration": 260,
    "start_time": "2023-02-28T18:20:26.028Z"
   },
   {
    "duration": 275,
    "start_time": "2023-02-28T18:20:26.290Z"
   },
   {
    "duration": 272,
    "start_time": "2023-02-28T18:20:26.567Z"
   },
   {
    "duration": 290,
    "start_time": "2023-02-28T18:20:26.841Z"
   },
   {
    "duration": 269,
    "start_time": "2023-02-28T18:20:27.133Z"
   },
   {
    "duration": 60,
    "start_time": "2023-02-28T18:20:27.404Z"
   },
   {
    "duration": 318,
    "start_time": "2023-02-28T18:20:27.466Z"
   },
   {
    "duration": 18,
    "start_time": "2023-02-28T18:20:27.786Z"
   },
   {
    "duration": 36,
    "start_time": "2023-02-28T18:20:27.806Z"
   },
   {
    "duration": 27,
    "start_time": "2023-02-28T18:20:27.845Z"
   },
   {
    "duration": 26,
    "start_time": "2023-02-28T18:20:27.874Z"
   },
   {
    "duration": 19,
    "start_time": "2023-02-28T18:20:27.902Z"
   },
   {
    "duration": 24,
    "start_time": "2023-02-28T18:20:27.923Z"
   },
   {
    "duration": 45,
    "start_time": "2023-02-28T18:20:27.949Z"
   },
   {
    "duration": 22,
    "start_time": "2023-02-28T18:20:27.997Z"
   },
   {
    "duration": 10,
    "start_time": "2023-02-28T18:20:28.021Z"
   },
   {
    "duration": 10,
    "start_time": "2023-02-28T18:20:28.033Z"
   },
   {
    "duration": 121,
    "start_time": "2023-02-28T18:20:28.045Z"
   },
   {
    "duration": 254,
    "start_time": "2023-02-28T18:20:28.168Z"
   },
   {
    "duration": 50,
    "start_time": "2023-02-28T18:20:28.424Z"
   },
   {
    "duration": 19,
    "start_time": "2023-02-28T18:20:28.475Z"
   },
   {
    "duration": 13,
    "start_time": "2023-02-28T18:20:28.495Z"
   },
   {
    "duration": 94,
    "start_time": "2023-02-28T18:20:28.509Z"
   },
   {
    "duration": 28,
    "start_time": "2023-02-28T18:20:28.605Z"
   },
   {
    "duration": 27,
    "start_time": "2023-02-28T18:20:28.634Z"
   },
   {
    "duration": 13,
    "start_time": "2023-02-28T18:20:28.663Z"
   },
   {
    "duration": 2,
    "start_time": "2023-02-28T18:20:28.678Z"
   },
   {
    "duration": 9,
    "start_time": "2023-02-28T18:20:28.682Z"
   },
   {
    "duration": 6,
    "start_time": "2023-02-28T18:20:28.693Z"
   },
   {
    "duration": 8,
    "start_time": "2023-02-28T18:20:28.700Z"
   },
   {
    "duration": 7,
    "start_time": "2023-02-28T18:20:28.709Z"
   },
   {
    "duration": 43,
    "start_time": "2023-02-28T18:20:28.718Z"
   },
   {
    "duration": 6,
    "start_time": "2023-02-28T18:20:28.763Z"
   },
   {
    "duration": 51,
    "start_time": "2023-02-28T18:20:28.771Z"
   },
   {
    "duration": 5,
    "start_time": "2023-02-28T18:20:28.824Z"
   },
   {
    "duration": 106,
    "start_time": "2023-02-28T18:20:28.831Z"
   },
   {
    "duration": 9,
    "start_time": "2023-02-28T18:20:28.940Z"
   },
   {
    "duration": 13,
    "start_time": "2023-02-28T18:20:28.951Z"
   },
   {
    "duration": 12,
    "start_time": "2023-02-28T18:20:28.966Z"
   },
   {
    "duration": 10,
    "start_time": "2023-02-28T18:20:28.980Z"
   },
   {
    "duration": 18,
    "start_time": "2023-02-28T18:20:28.992Z"
   },
   {
    "duration": 9,
    "start_time": "2023-02-28T18:20:29.012Z"
   },
   {
    "duration": 7,
    "start_time": "2023-02-28T18:20:29.023Z"
   },
   {
    "duration": 6,
    "start_time": "2023-02-28T18:20:29.032Z"
   },
   {
    "duration": 35,
    "start_time": "2023-02-28T18:20:29.039Z"
   },
   {
    "duration": 2192,
    "start_time": "2023-02-28T18:20:29.076Z"
   },
   {
    "duration": 95,
    "start_time": "2023-02-28T18:20:31.271Z"
   },
   {
    "duration": 19,
    "start_time": "2023-02-28T18:20:31.368Z"
   },
   {
    "duration": 48,
    "start_time": "2023-02-28T18:20:31.392Z"
   },
   {
    "duration": 436,
    "start_time": "2023-02-28T18:20:31.442Z"
   },
   {
    "duration": 247,
    "start_time": "2023-02-28T18:20:31.881Z"
   },
   {
    "duration": 23,
    "start_time": "2023-02-28T18:20:32.130Z"
   },
   {
    "duration": 170,
    "start_time": "2023-02-28T18:20:32.155Z"
   },
   {
    "duration": 14,
    "start_time": "2023-02-28T18:20:32.327Z"
   },
   {
    "duration": 14,
    "start_time": "2023-02-28T18:20:32.343Z"
   },
   {
    "duration": 856,
    "start_time": "2023-02-28T18:20:32.359Z"
   },
   {
    "duration": 19,
    "start_time": "2023-02-28T18:20:33.218Z"
   },
   {
    "duration": 156,
    "start_time": "2023-02-28T18:20:33.248Z"
   },
   {
    "duration": 15,
    "start_time": "2023-02-28T18:20:33.406Z"
   },
   {
    "duration": 22,
    "start_time": "2023-02-28T18:22:05.050Z"
   },
   {
    "duration": 1954,
    "start_time": "2023-02-28T18:22:19.481Z"
   },
   {
    "duration": 30,
    "start_time": "2023-02-28T18:22:28.466Z"
   },
   {
    "duration": 17,
    "start_time": "2023-02-28T18:22:40.028Z"
   },
   {
    "duration": 1527,
    "start_time": "2023-03-02T07:22:31.069Z"
   },
   {
    "duration": 3,
    "start_time": "2023-03-02T07:22:32.598Z"
   },
   {
    "duration": 1206,
    "start_time": "2023-03-02T07:22:32.602Z"
   },
   {
    "duration": 4,
    "start_time": "2023-03-02T07:22:33.810Z"
   },
   {
    "duration": 440,
    "start_time": "2023-03-02T07:22:33.816Z"
   },
   {
    "duration": 3,
    "start_time": "2023-03-02T07:22:34.257Z"
   },
   {
    "duration": 56,
    "start_time": "2023-03-02T07:22:34.262Z"
   },
   {
    "duration": 126,
    "start_time": "2023-03-02T07:22:34.320Z"
   },
   {
    "duration": 327,
    "start_time": "2023-03-02T07:22:34.448Z"
   },
   {
    "duration": 2039,
    "start_time": "2023-03-02T07:22:46.968Z"
   },
   {
    "duration": 5,
    "start_time": "2023-03-02T07:25:18.861Z"
   },
   {
    "duration": 13,
    "start_time": "2023-03-02T07:25:18.868Z"
   },
   {
    "duration": 941,
    "start_time": "2023-03-02T07:25:18.883Z"
   },
   {
    "duration": 4,
    "start_time": "2023-03-02T07:25:19.825Z"
   },
   {
    "duration": 439,
    "start_time": "2023-03-02T07:25:19.832Z"
   },
   {
    "duration": 3,
    "start_time": "2023-03-02T07:25:20.273Z"
   },
   {
    "duration": 31,
    "start_time": "2023-03-02T07:25:20.277Z"
   },
   {
    "duration": 104,
    "start_time": "2023-03-02T07:25:20.310Z"
   },
   {
    "duration": 340,
    "start_time": "2023-03-02T07:25:20.415Z"
   },
   {
    "duration": 1921,
    "start_time": "2023-03-02T07:25:20.757Z"
   },
   {
    "duration": 599,
    "start_time": "2023-03-02T07:25:22.680Z"
   },
   {
    "duration": 93,
    "start_time": "2023-03-02T07:25:23.282Z"
   },
   {
    "duration": 4,
    "start_time": "2023-03-02T07:27:53.120Z"
   },
   {
    "duration": 14,
    "start_time": "2023-03-02T07:27:53.125Z"
   },
   {
    "duration": 1032,
    "start_time": "2023-03-02T07:27:53.141Z"
   },
   {
    "duration": 3,
    "start_time": "2023-03-02T07:27:54.175Z"
   },
   {
    "duration": 465,
    "start_time": "2023-03-02T07:27:54.180Z"
   },
   {
    "duration": 6,
    "start_time": "2023-03-02T07:27:54.647Z"
   },
   {
    "duration": 62,
    "start_time": "2023-03-02T07:27:54.655Z"
   },
   {
    "duration": 109,
    "start_time": "2023-03-02T07:27:54.718Z"
   },
   {
    "duration": 348,
    "start_time": "2023-03-02T07:27:54.830Z"
   },
   {
    "duration": 1946,
    "start_time": "2023-03-02T07:27:55.180Z"
   },
   {
    "duration": 475,
    "start_time": "2023-03-02T07:27:57.128Z"
   },
   {
    "duration": 96,
    "start_time": "2023-03-02T07:27:57.604Z"
   },
   {
    "duration": 65,
    "start_time": "2023-03-02T07:27:57.702Z"
   },
   {
    "duration": 52,
    "start_time": "2023-03-02T07:27:57.769Z"
   },
   {
    "duration": 53,
    "start_time": "2023-03-02T07:27:57.822Z"
   },
   {
    "duration": 44,
    "start_time": "2023-03-02T07:27:57.878Z"
   },
   {
    "duration": 8,
    "start_time": "2023-03-02T07:27:57.924Z"
   },
   {
    "duration": 196,
    "start_time": "2023-03-02T07:27:57.933Z"
   },
   {
    "duration": 22,
    "start_time": "2023-03-02T07:27:58.131Z"
   },
   {
    "duration": 368,
    "start_time": "2023-03-02T07:27:58.156Z"
   },
   {
    "duration": 7,
    "start_time": "2023-03-02T07:27:58.526Z"
   },
   {
    "duration": 229,
    "start_time": "2023-03-02T07:27:58.535Z"
   },
   {
    "duration": 15,
    "start_time": "2023-03-02T07:27:58.766Z"
   },
   {
    "duration": 184,
    "start_time": "2023-03-02T07:27:58.785Z"
   },
   {
    "duration": 1124,
    "start_time": "2023-03-02T07:27:58.970Z"
   },
   {
    "duration": 310,
    "start_time": "2023-03-02T07:28:00.096Z"
   },
   {
    "duration": 9,
    "start_time": "2023-03-02T07:28:00.408Z"
   },
   {
    "duration": 90,
    "start_time": "2023-03-02T07:28:00.418Z"
   },
   {
    "duration": 77,
    "start_time": "2023-03-02T07:28:00.510Z"
   },
   {
    "duration": 7,
    "start_time": "2023-03-02T07:28:00.589Z"
   },
   {
    "duration": 37,
    "start_time": "2023-03-02T07:28:00.598Z"
   },
   {
    "duration": 65,
    "start_time": "2023-03-02T07:28:00.636Z"
   },
   {
    "duration": 237,
    "start_time": "2023-03-02T07:28:00.702Z"
   },
   {
    "duration": 111,
    "start_time": "2023-03-02T07:28:00.941Z"
   },
   {
    "duration": 248,
    "start_time": "2023-03-02T07:28:01.062Z"
   },
   {
    "duration": 261,
    "start_time": "2023-03-02T07:28:01.312Z"
   },
   {
    "duration": 246,
    "start_time": "2023-03-02T07:28:01.575Z"
   },
   {
    "duration": 246,
    "start_time": "2023-03-02T07:28:01.823Z"
   },
   {
    "duration": 55,
    "start_time": "2023-03-02T07:28:02.071Z"
   },
   {
    "duration": 314,
    "start_time": "2023-03-02T07:28:02.128Z"
   },
   {
    "duration": 19,
    "start_time": "2023-03-02T07:28:02.444Z"
   },
   {
    "duration": 13,
    "start_time": "2023-03-02T07:28:02.465Z"
   },
   {
    "duration": 18,
    "start_time": "2023-03-02T07:28:02.479Z"
   },
   {
    "duration": 14,
    "start_time": "2023-03-02T07:28:02.498Z"
   },
   {
    "duration": 47,
    "start_time": "2023-03-02T07:28:02.514Z"
   },
   {
    "duration": 12,
    "start_time": "2023-03-02T07:28:02.563Z"
   },
   {
    "duration": 14,
    "start_time": "2023-03-02T07:28:02.577Z"
   },
   {
    "duration": 14,
    "start_time": "2023-03-02T07:28:02.593Z"
   },
   {
    "duration": 11,
    "start_time": "2023-03-02T07:28:02.609Z"
   },
   {
    "duration": 33,
    "start_time": "2023-03-02T07:28:02.622Z"
   },
   {
    "duration": 120,
    "start_time": "2023-03-02T07:28:02.660Z"
   },
   {
    "duration": 299,
    "start_time": "2023-03-02T07:28:02.781Z"
   },
   {
    "duration": 50,
    "start_time": "2023-03-02T07:28:03.082Z"
   },
   {
    "duration": 36,
    "start_time": "2023-03-02T07:28:03.134Z"
   },
   {
    "duration": 13,
    "start_time": "2023-03-02T07:28:03.172Z"
   },
   {
    "duration": 58,
    "start_time": "2023-03-02T07:28:10.234Z"
   },
   {
    "duration": 29,
    "start_time": "2023-03-02T07:28:32.503Z"
   },
   {
    "duration": 27,
    "start_time": "2023-03-02T07:28:37.265Z"
   },
   {
    "duration": 35,
    "start_time": "2023-03-02T07:38:42.796Z"
   },
   {
    "duration": 14,
    "start_time": "2023-03-02T07:38:49.864Z"
   },
   {
    "duration": 66,
    "start_time": "2023-03-02T07:38:53.172Z"
   },
   {
    "duration": 179,
    "start_time": "2023-03-02T07:38:53.671Z"
   },
   {
    "duration": 316,
    "start_time": "2023-03-02T07:38:54.381Z"
   },
   {
    "duration": 184,
    "start_time": "2023-03-02T07:38:56.152Z"
   },
   {
    "duration": 189,
    "start_time": "2023-03-02T07:38:56.888Z"
   },
   {
    "duration": 27,
    "start_time": "2023-03-02T07:39:01.788Z"
   },
   {
    "duration": 7,
    "start_time": "2023-03-02T07:39:11.790Z"
   },
   {
    "duration": 6,
    "start_time": "2023-03-02T07:39:12.402Z"
   },
   {
    "duration": 2,
    "start_time": "2023-03-02T07:39:13.207Z"
   },
   {
    "duration": 91,
    "start_time": "2023-03-02T07:39:35.493Z"
   },
   {
    "duration": 126,
    "start_time": "2023-03-02T08:04:08.589Z"
   },
   {
    "duration": 6,
    "start_time": "2023-03-02T08:09:45.545Z"
   },
   {
    "duration": 39,
    "start_time": "2023-03-02T08:09:45.554Z"
   },
   {
    "duration": 1481,
    "start_time": "2023-03-02T08:09:45.596Z"
   },
   {
    "duration": 4,
    "start_time": "2023-03-02T08:09:47.080Z"
   },
   {
    "duration": 709,
    "start_time": "2023-03-02T08:09:47.087Z"
   },
   {
    "duration": 4,
    "start_time": "2023-03-02T08:09:47.798Z"
   },
   {
    "duration": 56,
    "start_time": "2023-03-02T08:09:47.804Z"
   },
   {
    "duration": 159,
    "start_time": "2023-03-02T08:09:47.862Z"
   },
   {
    "duration": 541,
    "start_time": "2023-03-02T08:09:48.023Z"
   },
   {
    "duration": 2483,
    "start_time": "2023-03-02T08:09:48.566Z"
   },
   {
    "duration": 455,
    "start_time": "2023-03-02T08:09:51.053Z"
   },
   {
    "duration": 90,
    "start_time": "2023-03-02T08:09:51.511Z"
   },
   {
    "duration": 97,
    "start_time": "2023-03-02T08:09:51.603Z"
   },
   {
    "duration": 68,
    "start_time": "2023-03-02T08:09:51.705Z"
   },
   {
    "duration": 43,
    "start_time": "2023-03-02T08:09:51.775Z"
   },
   {
    "duration": 68,
    "start_time": "2023-03-02T08:09:51.820Z"
   },
   {
    "duration": 9,
    "start_time": "2023-03-02T08:09:51.890Z"
   },
   {
    "duration": 243,
    "start_time": "2023-03-02T08:09:51.901Z"
   },
   {
    "duration": 20,
    "start_time": "2023-03-02T08:09:52.148Z"
   },
   {
    "duration": 459,
    "start_time": "2023-03-02T08:09:52.170Z"
   },
   {
    "duration": 17,
    "start_time": "2023-03-02T08:09:52.632Z"
   },
   {
    "duration": 305,
    "start_time": "2023-03-02T08:09:52.651Z"
   },
   {
    "duration": 19,
    "start_time": "2023-03-02T08:09:52.958Z"
   },
   {
    "duration": 270,
    "start_time": "2023-03-02T08:09:52.979Z"
   },
   {
    "duration": 1370,
    "start_time": "2023-03-02T08:09:53.251Z"
   },
   {
    "duration": 272,
    "start_time": "2023-03-02T08:09:54.623Z"
   },
   {
    "duration": 8,
    "start_time": "2023-03-02T08:09:54.898Z"
   },
   {
    "duration": 12,
    "start_time": "2023-03-02T08:09:54.907Z"
   },
   {
    "duration": 80,
    "start_time": "2023-03-02T08:09:54.925Z"
   },
   {
    "duration": 10,
    "start_time": "2023-03-02T08:09:55.010Z"
   },
   {
    "duration": 44,
    "start_time": "2023-03-02T08:09:55.022Z"
   },
   {
    "duration": 64,
    "start_time": "2023-03-02T08:09:55.068Z"
   },
   {
    "duration": 256,
    "start_time": "2023-03-02T08:09:55.135Z"
   },
   {
    "duration": 112,
    "start_time": "2023-03-02T08:09:55.393Z"
   },
   {
    "duration": 268,
    "start_time": "2023-03-02T08:09:55.507Z"
   },
   {
    "duration": 316,
    "start_time": "2023-03-02T08:09:55.777Z"
   },
   {
    "duration": 361,
    "start_time": "2023-03-02T08:09:56.095Z"
   },
   {
    "duration": 528,
    "start_time": "2023-03-02T08:09:56.458Z"
   },
   {
    "duration": 88,
    "start_time": "2023-03-02T08:09:56.988Z"
   },
   {
    "duration": 471,
    "start_time": "2023-03-02T08:09:57.079Z"
   },
   {
    "duration": 23,
    "start_time": "2023-03-02T08:09:57.552Z"
   },
   {
    "duration": 18,
    "start_time": "2023-03-02T08:09:57.577Z"
   },
   {
    "duration": 22,
    "start_time": "2023-03-02T08:09:57.598Z"
   },
   {
    "duration": 35,
    "start_time": "2023-03-02T08:09:57.649Z"
   },
   {
    "duration": 25,
    "start_time": "2023-03-02T08:09:57.687Z"
   },
   {
    "duration": 21,
    "start_time": "2023-03-02T08:09:57.714Z"
   },
   {
    "duration": 27,
    "start_time": "2023-03-02T08:09:57.737Z"
   },
   {
    "duration": 27,
    "start_time": "2023-03-02T08:09:57.767Z"
   },
   {
    "duration": 38,
    "start_time": "2023-03-02T08:09:57.796Z"
   },
   {
    "duration": 71,
    "start_time": "2023-03-02T08:09:57.837Z"
   },
   {
    "duration": 193,
    "start_time": "2023-03-02T08:09:57.912Z"
   },
   {
    "duration": 394,
    "start_time": "2023-03-02T08:09:58.107Z"
   },
   {
    "duration": 95,
    "start_time": "2023-03-02T08:09:58.503Z"
   },
   {
    "duration": 24,
    "start_time": "2023-03-02T08:09:58.602Z"
   },
   {
    "duration": 34,
    "start_time": "2023-03-02T08:09:58.627Z"
   },
   {
    "duration": 97,
    "start_time": "2023-03-02T08:09:58.664Z"
   },
   {
    "duration": 55,
    "start_time": "2023-03-02T08:09:58.763Z"
   },
   {
    "duration": 64,
    "start_time": "2023-03-02T08:09:58.821Z"
   },
   {
    "duration": 18,
    "start_time": "2023-03-02T08:09:58.888Z"
   },
   {
    "duration": 120,
    "start_time": "2023-03-02T08:09:58.908Z"
   },
   {
    "duration": 315,
    "start_time": "2023-03-02T08:09:59.031Z"
   },
   {
    "duration": 311,
    "start_time": "2023-03-02T08:09:59.348Z"
   },
   {
    "duration": 312,
    "start_time": "2023-03-02T08:09:59.661Z"
   },
   {
    "duration": 301,
    "start_time": "2023-03-02T08:09:59.975Z"
   },
   {
    "duration": 40,
    "start_time": "2023-03-02T08:10:00.279Z"
   },
   {
    "duration": 39,
    "start_time": "2023-03-02T08:10:00.322Z"
   },
   {
    "duration": 47,
    "start_time": "2023-03-02T08:10:00.363Z"
   },
   {
    "duration": 86,
    "start_time": "2023-03-02T08:10:00.412Z"
   },
   {
    "duration": 44,
    "start_time": "2023-03-02T08:10:00.501Z"
   },
   {
    "duration": 84,
    "start_time": "2023-03-02T08:10:00.548Z"
   },
   {
    "duration": 34,
    "start_time": "2023-03-02T08:10:00.634Z"
   },
   {
    "duration": 45,
    "start_time": "2023-03-02T08:10:00.670Z"
   },
   {
    "duration": 43,
    "start_time": "2023-03-02T08:10:00.718Z"
   },
   {
    "duration": 64,
    "start_time": "2023-03-02T08:10:00.764Z"
   },
   {
    "duration": 38,
    "start_time": "2023-03-02T08:10:00.830Z"
   },
   {
    "duration": 45,
    "start_time": "2023-03-02T08:10:00.871Z"
   },
   {
    "duration": 58,
    "start_time": "2023-03-02T08:10:00.918Z"
   },
   {
    "duration": 58,
    "start_time": "2023-03-02T08:10:00.978Z"
   },
   {
    "duration": 4115,
    "start_time": "2023-03-02T08:10:01.038Z"
   },
   {
    "duration": 107,
    "start_time": "2023-03-02T08:10:05.156Z"
   },
   {
    "duration": 14,
    "start_time": "2023-03-02T08:10:05.267Z"
   },
   {
    "duration": 44,
    "start_time": "2023-03-02T08:10:05.283Z"
   },
   {
    "duration": 599,
    "start_time": "2023-03-02T08:10:05.336Z"
   },
   {
    "duration": 363,
    "start_time": "2023-03-02T08:10:05.937Z"
   },
   {
    "duration": 34,
    "start_time": "2023-03-02T08:10:06.303Z"
   },
   {
    "duration": 152,
    "start_time": "2023-03-02T08:10:06.349Z"
   },
   {
    "duration": 24,
    "start_time": "2023-03-02T08:10:06.504Z"
   },
   {
    "duration": 30,
    "start_time": "2023-03-02T08:10:06.530Z"
   },
   {
    "duration": 1206,
    "start_time": "2023-03-02T08:10:06.562Z"
   },
   {
    "duration": 28,
    "start_time": "2023-03-02T08:10:07.771Z"
   },
   {
    "duration": 178,
    "start_time": "2023-03-02T08:10:07.801Z"
   },
   {
    "duration": 21,
    "start_time": "2023-03-02T08:10:07.982Z"
   },
   {
    "duration": 45,
    "start_time": "2023-03-02T08:10:08.006Z"
   },
   {
    "duration": 5,
    "start_time": "2023-03-02T08:10:08.054Z"
   },
   {
    "duration": 13,
    "start_time": "2023-03-02T08:10:08.061Z"
   },
   {
    "duration": 74344,
    "start_time": "2023-03-02T08:10:08.076Z"
   },
   {
    "duration": 6,
    "start_time": "2023-03-02T08:11:27.881Z"
   },
   {
    "duration": 5,
    "start_time": "2023-03-02T08:11:53.915Z"
   },
   {
    "duration": 6,
    "start_time": "2023-03-02T08:12:47.348Z"
   },
   {
    "duration": 9,
    "start_time": "2023-03-02T08:16:13.993Z"
   },
   {
    "duration": 32,
    "start_time": "2023-03-02T08:19:55.902Z"
   },
   {
    "duration": 3,
    "start_time": "2023-03-02T08:19:59.293Z"
   },
   {
    "duration": 4,
    "start_time": "2023-03-02T08:19:59.467Z"
   },
   {
    "duration": 3,
    "start_time": "2023-03-02T08:19:59.908Z"
   },
   {
    "duration": 4,
    "start_time": "2023-03-02T08:20:00.913Z"
   },
   {
    "duration": 4,
    "start_time": "2023-03-02T08:20:02.015Z"
   },
   {
    "duration": 2809,
    "start_time": "2023-03-02T08:20:13.198Z"
   },
   {
    "duration": 48,
    "start_time": "2023-03-02T08:20:20.930Z"
   },
   {
    "duration": 5,
    "start_time": "2023-03-02T08:20:22.731Z"
   },
   {
    "duration": 9344870,
    "start_time": "2023-03-02T08:20:24.194Z"
   },
   {
    "duration": 4,
    "start_time": "2023-03-02T10:57:25.083Z"
   },
   {
    "duration": 7,
    "start_time": "2023-03-02T10:57:37.679Z"
   },
   {
    "duration": 24,
    "start_time": "2023-03-02T11:04:56.587Z"
   },
   {
    "duration": 4,
    "start_time": "2023-03-02T11:05:25.469Z"
   },
   {
    "duration": 5,
    "start_time": "2023-03-02T11:05:34.469Z"
   },
   {
    "duration": 207731,
    "start_time": "2023-03-02T11:05:45.033Z"
   },
   {
    "duration": 6,
    "start_time": "2023-03-02T11:10:55.263Z"
   },
   {
    "duration": 7,
    "start_time": "2023-03-02T11:10:59.462Z"
   },
   {
    "duration": 3,
    "start_time": "2023-03-02T11:35:00.777Z"
   },
   {
    "duration": 2895,
    "start_time": "2023-03-02T11:35:05.067Z"
   },
   {
    "duration": 14,
    "start_time": "2023-03-02T11:35:32.899Z"
   },
   {
    "duration": 4,
    "start_time": "2023-03-02T12:46:43.242Z"
   },
   {
    "duration": 3,
    "start_time": "2023-03-02T12:46:47.589Z"
   },
   {
    "duration": 69988,
    "start_time": "2023-03-02T12:46:50.112Z"
   },
   {
    "duration": 4,
    "start_time": "2023-03-02T12:48:18.348Z"
   },
   {
    "duration": 4,
    "start_time": "2023-03-02T12:48:31.331Z"
   },
   {
    "duration": 7,
    "start_time": "2023-03-02T12:48:41.797Z"
   },
   {
    "duration": 4,
    "start_time": "2023-03-02T12:52:18.503Z"
   },
   {
    "duration": 2523,
    "start_time": "2023-03-02T12:52:20.233Z"
   },
   {
    "duration": 17,
    "start_time": "2023-03-02T12:52:29.892Z"
   },
   {
    "duration": 1686,
    "start_time": "2023-03-03T17:10:53.890Z"
   },
   {
    "duration": 3,
    "start_time": "2023-03-03T17:10:55.578Z"
   },
   {
    "duration": 1308,
    "start_time": "2023-03-03T17:10:55.582Z"
   },
   {
    "duration": 3,
    "start_time": "2023-03-03T17:10:56.892Z"
   },
   {
    "duration": 425,
    "start_time": "2023-03-03T17:10:56.897Z"
   },
   {
    "duration": 3,
    "start_time": "2023-03-03T17:10:57.324Z"
   },
   {
    "duration": 36,
    "start_time": "2023-03-03T17:10:57.329Z"
   },
   {
    "duration": 97,
    "start_time": "2023-03-03T17:10:57.367Z"
   },
   {
    "duration": 361,
    "start_time": "2023-03-03T17:10:57.466Z"
   },
   {
    "duration": 2233,
    "start_time": "2023-03-03T17:10:57.831Z"
   },
   {
    "duration": 458,
    "start_time": "2023-03-03T17:11:00.066Z"
   },
   {
    "duration": 94,
    "start_time": "2023-03-03T17:11:00.526Z"
   },
   {
    "duration": 69,
    "start_time": "2023-03-03T17:11:00.622Z"
   },
   {
    "duration": 76,
    "start_time": "2023-03-03T17:11:00.692Z"
   },
   {
    "duration": 34,
    "start_time": "2023-03-03T17:11:00.769Z"
   },
   {
    "duration": 72,
    "start_time": "2023-03-03T17:11:00.805Z"
   },
   {
    "duration": 40,
    "start_time": "2023-03-03T17:11:00.879Z"
   },
   {
    "duration": 210,
    "start_time": "2023-03-03T17:11:00.921Z"
   },
   {
    "duration": 28,
    "start_time": "2023-03-03T17:11:01.132Z"
   },
   {
    "duration": 225,
    "start_time": "2023-03-03T17:11:01.162Z"
   },
   {
    "duration": 9,
    "start_time": "2023-03-03T17:11:01.389Z"
   },
   {
    "duration": 239,
    "start_time": "2023-03-03T17:11:01.400Z"
   },
   {
    "duration": 22,
    "start_time": "2023-03-03T17:11:01.641Z"
   },
   {
    "duration": 241,
    "start_time": "2023-03-03T17:11:01.665Z"
   },
   {
    "duration": 1230,
    "start_time": "2023-03-03T17:11:01.908Z"
   },
   {
    "duration": 301,
    "start_time": "2023-03-03T17:11:03.139Z"
   },
   {
    "duration": 18,
    "start_time": "2023-03-03T17:11:03.442Z"
   },
   {
    "duration": 9,
    "start_time": "2023-03-03T17:11:03.465Z"
   },
   {
    "duration": 61,
    "start_time": "2023-03-03T17:11:03.476Z"
   },
   {
    "duration": 6,
    "start_time": "2023-03-03T17:11:03.539Z"
   },
   {
    "duration": 19,
    "start_time": "2023-03-03T17:11:03.556Z"
   },
   {
    "duration": 51,
    "start_time": "2023-03-03T17:11:03.576Z"
   },
   {
    "duration": 234,
    "start_time": "2023-03-03T17:11:03.629Z"
   },
   {
    "duration": 106,
    "start_time": "2023-03-03T17:11:03.865Z"
   },
   {
    "duration": 243,
    "start_time": "2023-03-03T17:11:03.972Z"
   },
   {
    "duration": 250,
    "start_time": "2023-03-03T17:11:04.217Z"
   },
   {
    "duration": 251,
    "start_time": "2023-03-03T17:11:04.469Z"
   },
   {
    "duration": 250,
    "start_time": "2023-03-03T17:11:04.722Z"
   },
   {
    "duration": 53,
    "start_time": "2023-03-03T17:11:04.974Z"
   },
   {
    "duration": 292,
    "start_time": "2023-03-03T17:11:05.029Z"
   },
   {
    "duration": 12,
    "start_time": "2023-03-03T17:11:05.323Z"
   },
   {
    "duration": 24,
    "start_time": "2023-03-03T17:11:05.336Z"
   },
   {
    "duration": 11,
    "start_time": "2023-03-03T17:11:05.362Z"
   },
   {
    "duration": 14,
    "start_time": "2023-03-03T17:11:05.374Z"
   },
   {
    "duration": 13,
    "start_time": "2023-03-03T17:11:05.390Z"
   },
   {
    "duration": 11,
    "start_time": "2023-03-03T17:11:05.404Z"
   },
   {
    "duration": 50,
    "start_time": "2023-03-03T17:11:05.417Z"
   },
   {
    "duration": 15,
    "start_time": "2023-03-03T17:11:05.469Z"
   },
   {
    "duration": 10,
    "start_time": "2023-03-03T17:11:05.486Z"
   },
   {
    "duration": 8,
    "start_time": "2023-03-03T17:11:05.498Z"
   },
   {
    "duration": 133,
    "start_time": "2023-03-03T17:11:05.507Z"
   },
   {
    "duration": 269,
    "start_time": "2023-03-03T17:11:05.642Z"
   },
   {
    "duration": 68,
    "start_time": "2023-03-03T17:11:05.913Z"
   },
   {
    "duration": 18,
    "start_time": "2023-03-03T17:11:05.984Z"
   },
   {
    "duration": 15,
    "start_time": "2023-03-03T17:11:06.005Z"
   },
   {
    "duration": 99,
    "start_time": "2023-03-03T17:11:06.023Z"
   },
   {
    "duration": 38,
    "start_time": "2023-03-03T17:11:06.124Z"
   },
   {
    "duration": 29,
    "start_time": "2023-03-03T17:11:06.164Z"
   },
   {
    "duration": 13,
    "start_time": "2023-03-03T17:11:06.194Z"
   },
   {
    "duration": 286,
    "start_time": "2023-03-03T17:11:06.209Z"
   },
   {
    "duration": 0,
    "start_time": "2023-03-03T17:11:06.497Z"
   },
   {
    "duration": 0,
    "start_time": "2023-03-03T17:11:06.498Z"
   },
   {
    "duration": 0,
    "start_time": "2023-03-03T17:11:06.499Z"
   },
   {
    "duration": 0,
    "start_time": "2023-03-03T17:11:06.501Z"
   },
   {
    "duration": 0,
    "start_time": "2023-03-03T17:11:06.502Z"
   },
   {
    "duration": 0,
    "start_time": "2023-03-03T17:11:06.503Z"
   },
   {
    "duration": 0,
    "start_time": "2023-03-03T17:11:06.504Z"
   },
   {
    "duration": 0,
    "start_time": "2023-03-03T17:11:06.504Z"
   },
   {
    "duration": 0,
    "start_time": "2023-03-03T17:11:06.505Z"
   },
   {
    "duration": 0,
    "start_time": "2023-03-03T17:11:06.506Z"
   },
   {
    "duration": 0,
    "start_time": "2023-03-03T17:11:06.508Z"
   },
   {
    "duration": 0,
    "start_time": "2023-03-03T17:11:06.509Z"
   },
   {
    "duration": 0,
    "start_time": "2023-03-03T17:11:06.509Z"
   },
   {
    "duration": 1,
    "start_time": "2023-03-03T17:11:06.510Z"
   },
   {
    "duration": 0,
    "start_time": "2023-03-03T17:11:06.512Z"
   },
   {
    "duration": 0,
    "start_time": "2023-03-03T17:11:06.513Z"
   },
   {
    "duration": 0,
    "start_time": "2023-03-03T17:11:06.513Z"
   },
   {
    "duration": 0,
    "start_time": "2023-03-03T17:11:06.514Z"
   },
   {
    "duration": 0,
    "start_time": "2023-03-03T17:11:06.515Z"
   },
   {
    "duration": 0,
    "start_time": "2023-03-03T17:11:06.516Z"
   },
   {
    "duration": 0,
    "start_time": "2023-03-03T17:11:06.552Z"
   },
   {
    "duration": 0,
    "start_time": "2023-03-03T17:11:06.552Z"
   },
   {
    "duration": 0,
    "start_time": "2023-03-03T17:11:06.553Z"
   },
   {
    "duration": 0,
    "start_time": "2023-03-03T17:11:06.555Z"
   },
   {
    "duration": 0,
    "start_time": "2023-03-03T17:11:06.555Z"
   },
   {
    "duration": 0,
    "start_time": "2023-03-03T17:11:06.556Z"
   },
   {
    "duration": 0,
    "start_time": "2023-03-03T17:11:06.557Z"
   },
   {
    "duration": 0,
    "start_time": "2023-03-03T17:11:06.557Z"
   },
   {
    "duration": 0,
    "start_time": "2023-03-03T17:11:06.558Z"
   },
   {
    "duration": 0,
    "start_time": "2023-03-03T17:11:06.559Z"
   },
   {
    "duration": 0,
    "start_time": "2023-03-03T17:11:06.562Z"
   },
   {
    "duration": 0,
    "start_time": "2023-03-03T17:11:06.563Z"
   },
   {
    "duration": 168,
    "start_time": "2023-03-03T17:17:48.500Z"
   },
   {
    "duration": 154,
    "start_time": "2023-03-03T17:21:03.616Z"
   },
   {
    "duration": 96,
    "start_time": "2023-03-03T17:21:17.989Z"
   },
   {
    "duration": 289,
    "start_time": "2023-03-03T17:21:57.774Z"
   },
   {
    "duration": 1119,
    "start_time": "2023-03-03T17:29:18.480Z"
   },
   {
    "duration": 1197,
    "start_time": "2023-03-03T17:30:18.016Z"
   },
   {
    "duration": 1201,
    "start_time": "2023-03-03T17:30:53.412Z"
   },
   {
    "duration": 1240,
    "start_time": "2023-03-03T17:31:54.318Z"
   },
   {
    "duration": 95,
    "start_time": "2023-03-03T17:32:22.227Z"
   },
   {
    "duration": 1431,
    "start_time": "2023-03-03T17:32:28.275Z"
   },
   {
    "duration": 23,
    "start_time": "2023-03-03T17:35:48.308Z"
   },
   {
    "duration": 5,
    "start_time": "2023-03-03T17:38:30.723Z"
   },
   {
    "duration": 110,
    "start_time": "2023-03-03T17:38:30.730Z"
   },
   {
    "duration": 1042,
    "start_time": "2023-03-03T17:38:30.842Z"
   },
   {
    "duration": 4,
    "start_time": "2023-03-03T17:38:31.886Z"
   },
   {
    "duration": 504,
    "start_time": "2023-03-03T17:38:31.892Z"
   },
   {
    "duration": 3,
    "start_time": "2023-03-03T17:38:32.398Z"
   },
   {
    "duration": 25,
    "start_time": "2023-03-03T17:38:32.402Z"
   },
   {
    "duration": 107,
    "start_time": "2023-03-03T17:38:32.428Z"
   },
   {
    "duration": 358,
    "start_time": "2023-03-03T17:38:32.536Z"
   },
   {
    "duration": 2334,
    "start_time": "2023-03-03T17:38:32.896Z"
   },
   {
    "duration": 492,
    "start_time": "2023-03-03T17:38:35.233Z"
   },
   {
    "duration": 92,
    "start_time": "2023-03-03T17:38:35.727Z"
   },
   {
    "duration": 86,
    "start_time": "2023-03-03T17:38:35.821Z"
   },
   {
    "duration": 64,
    "start_time": "2023-03-03T17:38:35.908Z"
   },
   {
    "duration": 37,
    "start_time": "2023-03-03T17:38:35.985Z"
   },
   {
    "duration": 62,
    "start_time": "2023-03-03T17:38:36.024Z"
   },
   {
    "duration": 14,
    "start_time": "2023-03-03T17:38:36.091Z"
   },
   {
    "duration": 216,
    "start_time": "2023-03-03T17:38:36.108Z"
   },
   {
    "duration": 35,
    "start_time": "2023-03-03T17:38:36.326Z"
   },
   {
    "duration": 230,
    "start_time": "2023-03-03T17:38:36.368Z"
   },
   {
    "duration": 7,
    "start_time": "2023-03-03T17:38:36.600Z"
   },
   {
    "duration": 218,
    "start_time": "2023-03-03T17:38:36.609Z"
   },
   {
    "duration": 28,
    "start_time": "2023-03-03T17:38:36.828Z"
   },
   {
    "duration": 199,
    "start_time": "2023-03-03T17:38:36.859Z"
   },
   {
    "duration": 1233,
    "start_time": "2023-03-03T17:38:37.060Z"
   },
   {
    "duration": 309,
    "start_time": "2023-03-03T17:38:38.294Z"
   },
   {
    "duration": 7,
    "start_time": "2023-03-03T17:38:38.605Z"
   },
   {
    "duration": 3,
    "start_time": "2023-03-03T17:38:38.614Z"
   },
   {
    "duration": 76,
    "start_time": "2023-03-03T17:38:38.621Z"
   },
   {
    "duration": 7,
    "start_time": "2023-03-03T17:38:38.699Z"
   },
   {
    "duration": 20,
    "start_time": "2023-03-03T17:38:38.707Z"
   },
   {
    "duration": 71,
    "start_time": "2023-03-03T17:38:38.729Z"
   },
   {
    "duration": 239,
    "start_time": "2023-03-03T17:38:38.802Z"
   },
   {
    "duration": 129,
    "start_time": "2023-03-03T17:38:39.043Z"
   },
   {
    "duration": 256,
    "start_time": "2023-03-03T17:38:39.176Z"
   },
   {
    "duration": 265,
    "start_time": "2023-03-03T17:38:39.433Z"
   },
   {
    "duration": 251,
    "start_time": "2023-03-03T17:38:39.702Z"
   },
   {
    "duration": 243,
    "start_time": "2023-03-03T17:38:39.955Z"
   },
   {
    "duration": 55,
    "start_time": "2023-03-03T17:38:40.200Z"
   },
   {
    "duration": 281,
    "start_time": "2023-03-03T17:38:40.267Z"
   },
   {
    "duration": 16,
    "start_time": "2023-03-03T17:38:40.555Z"
   },
   {
    "duration": 38,
    "start_time": "2023-03-03T17:38:40.573Z"
   },
   {
    "duration": 11,
    "start_time": "2023-03-03T17:38:40.613Z"
   },
   {
    "duration": 14,
    "start_time": "2023-03-03T17:38:40.626Z"
   },
   {
    "duration": 19,
    "start_time": "2023-03-03T17:38:40.641Z"
   },
   {
    "duration": 38,
    "start_time": "2023-03-03T17:38:40.668Z"
   },
   {
    "duration": 12,
    "start_time": "2023-03-03T17:38:40.708Z"
   },
   {
    "duration": 15,
    "start_time": "2023-03-03T17:38:40.721Z"
   },
   {
    "duration": 15,
    "start_time": "2023-03-03T17:38:40.737Z"
   },
   {
    "duration": 39,
    "start_time": "2023-03-03T17:38:40.758Z"
   },
   {
    "duration": 124,
    "start_time": "2023-03-03T17:38:40.798Z"
   },
   {
    "duration": 259,
    "start_time": "2023-03-03T17:38:40.923Z"
   },
   {
    "duration": 45,
    "start_time": "2023-03-03T17:38:41.190Z"
   },
   {
    "duration": 23,
    "start_time": "2023-03-03T17:38:41.237Z"
   },
   {
    "duration": 13,
    "start_time": "2023-03-03T17:38:41.262Z"
   },
   {
    "duration": 64,
    "start_time": "2023-03-03T17:38:41.276Z"
   },
   {
    "duration": 42,
    "start_time": "2023-03-03T17:38:41.341Z"
   },
   {
    "duration": 27,
    "start_time": "2023-03-03T17:38:41.389Z"
   },
   {
    "duration": 13,
    "start_time": "2023-03-03T17:38:41.417Z"
   },
   {
    "duration": 1141,
    "start_time": "2023-03-03T17:38:49.213Z"
   },
   {
    "duration": 32,
    "start_time": "2023-03-03T17:39:06.223Z"
   },
   {
    "duration": 1196,
    "start_time": "2023-03-03T17:41:38.108Z"
   },
   {
    "duration": 24,
    "start_time": "2023-03-03T17:41:54.987Z"
   },
   {
    "duration": 4,
    "start_time": "2023-03-03T17:42:32.783Z"
   },
   {
    "duration": 6,
    "start_time": "2023-03-03T17:42:32.789Z"
   },
   {
    "duration": 991,
    "start_time": "2023-03-03T17:42:32.796Z"
   },
   {
    "duration": 4,
    "start_time": "2023-03-03T17:42:33.789Z"
   },
   {
    "duration": 502,
    "start_time": "2023-03-03T17:42:33.794Z"
   },
   {
    "duration": 3,
    "start_time": "2023-03-03T17:42:34.297Z"
   },
   {
    "duration": 30,
    "start_time": "2023-03-03T17:42:34.302Z"
   },
   {
    "duration": 108,
    "start_time": "2023-03-03T17:42:34.334Z"
   },
   {
    "duration": 364,
    "start_time": "2023-03-03T17:42:34.447Z"
   },
   {
    "duration": 2084,
    "start_time": "2023-03-03T17:42:34.813Z"
   },
   {
    "duration": 464,
    "start_time": "2023-03-03T17:42:36.899Z"
   },
   {
    "duration": 75,
    "start_time": "2023-03-03T17:42:37.366Z"
   },
   {
    "duration": 73,
    "start_time": "2023-03-03T17:42:37.443Z"
   },
   {
    "duration": 52,
    "start_time": "2023-03-03T17:42:37.518Z"
   },
   {
    "duration": 31,
    "start_time": "2023-03-03T17:42:37.572Z"
   },
   {
    "duration": 57,
    "start_time": "2023-03-03T17:42:37.604Z"
   },
   {
    "duration": 8,
    "start_time": "2023-03-03T17:42:37.664Z"
   },
   {
    "duration": 332,
    "start_time": "2023-03-03T17:42:37.674Z"
   },
   {
    "duration": 17,
    "start_time": "2023-03-03T17:42:38.007Z"
   },
   {
    "duration": 209,
    "start_time": "2023-03-03T17:42:38.026Z"
   },
   {
    "duration": 24,
    "start_time": "2023-03-03T17:42:38.237Z"
   },
   {
    "duration": 201,
    "start_time": "2023-03-03T17:42:38.263Z"
   },
   {
    "duration": 16,
    "start_time": "2023-03-03T17:42:38.465Z"
   },
   {
    "duration": 197,
    "start_time": "2023-03-03T17:42:38.483Z"
   },
   {
    "duration": 991,
    "start_time": "2023-03-03T17:42:38.683Z"
   },
   {
    "duration": 288,
    "start_time": "2023-03-03T17:42:39.676Z"
   },
   {
    "duration": 7,
    "start_time": "2023-03-03T17:42:39.966Z"
   },
   {
    "duration": 16,
    "start_time": "2023-03-03T17:42:39.975Z"
   },
   {
    "duration": 82,
    "start_time": "2023-03-03T17:42:39.993Z"
   },
   {
    "duration": 7,
    "start_time": "2023-03-03T17:42:40.077Z"
   },
   {
    "duration": 52,
    "start_time": "2023-03-03T17:42:40.085Z"
   },
   {
    "duration": 51,
    "start_time": "2023-03-03T17:42:40.139Z"
   },
   {
    "duration": 221,
    "start_time": "2023-03-03T17:42:40.192Z"
   },
   {
    "duration": 110,
    "start_time": "2023-03-03T17:42:40.415Z"
   },
   {
    "duration": 240,
    "start_time": "2023-03-03T17:42:40.527Z"
   },
   {
    "duration": 238,
    "start_time": "2023-03-03T17:42:40.769Z"
   },
   {
    "duration": 252,
    "start_time": "2023-03-03T17:42:41.009Z"
   },
   {
    "duration": 389,
    "start_time": "2023-03-03T17:42:41.263Z"
   },
   {
    "duration": 53,
    "start_time": "2023-03-03T17:42:41.660Z"
   },
   {
    "duration": 281,
    "start_time": "2023-03-03T17:42:41.715Z"
   },
   {
    "duration": 13,
    "start_time": "2023-03-03T17:42:41.998Z"
   },
   {
    "duration": 17,
    "start_time": "2023-03-03T17:42:42.013Z"
   },
   {
    "duration": 33,
    "start_time": "2023-03-03T17:42:42.032Z"
   },
   {
    "duration": 16,
    "start_time": "2023-03-03T17:42:42.069Z"
   },
   {
    "duration": 15,
    "start_time": "2023-03-03T17:42:42.086Z"
   },
   {
    "duration": 12,
    "start_time": "2023-03-03T17:42:42.102Z"
   },
   {
    "duration": 11,
    "start_time": "2023-03-03T17:42:42.116Z"
   },
   {
    "duration": 40,
    "start_time": "2023-03-03T17:42:42.128Z"
   },
   {
    "duration": 10,
    "start_time": "2023-03-03T17:42:42.169Z"
   },
   {
    "duration": 22,
    "start_time": "2023-03-03T17:42:42.180Z"
   },
   {
    "duration": 116,
    "start_time": "2023-03-03T17:42:42.204Z"
   },
   {
    "duration": 250,
    "start_time": "2023-03-03T17:42:42.322Z"
   },
   {
    "duration": 48,
    "start_time": "2023-03-03T17:42:42.574Z"
   },
   {
    "duration": 38,
    "start_time": "2023-03-03T17:42:42.624Z"
   },
   {
    "duration": 14,
    "start_time": "2023-03-03T17:42:42.664Z"
   },
   {
    "duration": 49,
    "start_time": "2023-03-03T17:42:42.679Z"
   },
   {
    "duration": 44,
    "start_time": "2023-03-03T17:42:42.730Z"
   },
   {
    "duration": 24,
    "start_time": "2023-03-03T17:42:42.776Z"
   },
   {
    "duration": 9,
    "start_time": "2023-03-03T17:42:42.802Z"
   },
   {
    "duration": 120,
    "start_time": "2023-03-03T17:43:37.359Z"
   },
   {
    "duration": 29,
    "start_time": "2023-03-03T17:45:08.046Z"
   },
   {
    "duration": 978,
    "start_time": "2023-03-03T17:45:25.172Z"
   },
   {
    "duration": 16,
    "start_time": "2023-03-03T17:48:16.576Z"
   },
   {
    "duration": 144,
    "start_time": "2023-03-03T17:49:37.875Z"
   },
   {
    "duration": 102,
    "start_time": "2023-03-03T17:49:47.974Z"
   },
   {
    "duration": 33,
    "start_time": "2023-03-03T17:53:02.067Z"
   },
   {
    "duration": 1842,
    "start_time": "2023-03-03T17:54:44.165Z"
   },
   {
    "duration": 26,
    "start_time": "2023-03-03T17:55:03.108Z"
   },
   {
    "duration": 5,
    "start_time": "2023-03-03T17:55:19.606Z"
   },
   {
    "duration": 19,
    "start_time": "2023-03-03T17:55:19.612Z"
   },
   {
    "duration": 1097,
    "start_time": "2023-03-03T17:55:19.633Z"
   },
   {
    "duration": 3,
    "start_time": "2023-03-03T17:55:20.732Z"
   },
   {
    "duration": 457,
    "start_time": "2023-03-03T17:55:20.737Z"
   },
   {
    "duration": 3,
    "start_time": "2023-03-03T17:55:21.196Z"
   },
   {
    "duration": 33,
    "start_time": "2023-03-03T17:55:21.200Z"
   },
   {
    "duration": 90,
    "start_time": "2023-03-03T17:55:21.235Z"
   },
   {
    "duration": 347,
    "start_time": "2023-03-03T17:55:21.327Z"
   },
   {
    "duration": 2037,
    "start_time": "2023-03-03T17:55:21.676Z"
   },
   {
    "duration": 460,
    "start_time": "2023-03-03T17:55:23.715Z"
   },
   {
    "duration": 90,
    "start_time": "2023-03-03T17:55:24.176Z"
   },
   {
    "duration": 57,
    "start_time": "2023-03-03T17:55:24.268Z"
   },
   {
    "duration": 57,
    "start_time": "2023-03-03T17:55:24.327Z"
   },
   {
    "duration": 33,
    "start_time": "2023-03-03T17:55:24.386Z"
   },
   {
    "duration": 64,
    "start_time": "2023-03-03T17:55:24.421Z"
   },
   {
    "duration": 8,
    "start_time": "2023-03-03T17:55:24.487Z"
   },
   {
    "duration": 193,
    "start_time": "2023-03-03T17:55:24.496Z"
   },
   {
    "duration": 17,
    "start_time": "2023-03-03T17:55:24.691Z"
   },
   {
    "duration": 216,
    "start_time": "2023-03-03T17:55:24.709Z"
   },
   {
    "duration": 8,
    "start_time": "2023-03-03T17:55:24.927Z"
   },
   {
    "duration": 226,
    "start_time": "2023-03-03T17:55:24.936Z"
   },
   {
    "duration": 18,
    "start_time": "2023-03-03T17:55:25.164Z"
   },
   {
    "duration": 211,
    "start_time": "2023-03-03T17:55:25.184Z"
   },
   {
    "duration": 1132,
    "start_time": "2023-03-03T17:55:25.397Z"
   },
   {
    "duration": 297,
    "start_time": "2023-03-03T17:55:26.531Z"
   },
   {
    "duration": 22,
    "start_time": "2023-03-03T17:55:26.830Z"
   },
   {
    "duration": 6,
    "start_time": "2023-03-03T17:55:26.855Z"
   },
   {
    "duration": 256,
    "start_time": "2023-03-03T17:55:26.868Z"
   },
   {
    "duration": 5,
    "start_time": "2023-03-03T17:55:27.126Z"
   },
   {
    "duration": 31,
    "start_time": "2023-03-03T17:55:27.133Z"
   },
   {
    "duration": 58,
    "start_time": "2023-03-03T17:55:27.168Z"
   },
   {
    "duration": 260,
    "start_time": "2023-03-03T17:55:27.228Z"
   },
   {
    "duration": 115,
    "start_time": "2023-03-03T17:55:27.490Z"
   },
   {
    "duration": 261,
    "start_time": "2023-03-03T17:55:27.607Z"
   },
   {
    "duration": 254,
    "start_time": "2023-03-03T17:55:27.869Z"
   },
   {
    "duration": 268,
    "start_time": "2023-03-03T17:55:28.124Z"
   },
   {
    "duration": 276,
    "start_time": "2023-03-03T17:55:28.397Z"
   },
   {
    "duration": 60,
    "start_time": "2023-03-03T17:55:28.675Z"
   },
   {
    "duration": 313,
    "start_time": "2023-03-03T17:55:28.749Z"
   },
   {
    "duration": 12,
    "start_time": "2023-03-03T17:55:29.064Z"
   },
   {
    "duration": 12,
    "start_time": "2023-03-03T17:55:29.077Z"
   },
   {
    "duration": 13,
    "start_time": "2023-03-03T17:55:29.091Z"
   },
   {
    "duration": 13,
    "start_time": "2023-03-03T17:55:29.105Z"
   },
   {
    "duration": 42,
    "start_time": "2023-03-03T17:55:29.119Z"
   },
   {
    "duration": 12,
    "start_time": "2023-03-03T17:55:29.165Z"
   },
   {
    "duration": 12,
    "start_time": "2023-03-03T17:55:29.178Z"
   },
   {
    "duration": 14,
    "start_time": "2023-03-03T17:55:29.191Z"
   },
   {
    "duration": 9,
    "start_time": "2023-03-03T17:55:29.207Z"
   },
   {
    "duration": 8,
    "start_time": "2023-03-03T17:55:29.218Z"
   },
   {
    "duration": 120,
    "start_time": "2023-03-03T17:55:29.252Z"
   },
   {
    "duration": 250,
    "start_time": "2023-03-03T17:55:29.374Z"
   },
   {
    "duration": 58,
    "start_time": "2023-03-03T17:55:29.626Z"
   },
   {
    "duration": 17,
    "start_time": "2023-03-03T17:55:29.685Z"
   },
   {
    "duration": 13,
    "start_time": "2023-03-03T17:55:29.704Z"
   },
   {
    "duration": 74,
    "start_time": "2023-03-03T17:55:29.719Z"
   },
   {
    "duration": 30,
    "start_time": "2023-03-03T17:55:29.795Z"
   },
   {
    "duration": 51,
    "start_time": "2023-03-03T17:55:29.827Z"
   },
   {
    "duration": 12,
    "start_time": "2023-03-03T17:55:29.880Z"
   },
   {
    "duration": 2115,
    "start_time": "2023-03-03T17:55:29.894Z"
   },
   {
    "duration": 1154,
    "start_time": "2023-03-03T17:55:32.011Z"
   },
   {
    "duration": 1335,
    "start_time": "2023-03-03T17:55:33.166Z"
   },
   {
    "duration": 1342,
    "start_time": "2023-03-03T17:55:34.503Z"
   },
   {
    "duration": 1345,
    "start_time": "2023-03-03T17:55:35.847Z"
   },
   {
    "duration": 23,
    "start_time": "2023-03-03T17:55:37.194Z"
   },
   {
    "duration": 6,
    "start_time": "2023-03-03T17:55:37.219Z"
   },
   {
    "duration": 32,
    "start_time": "2023-03-03T17:55:37.227Z"
   },
   {
    "duration": 16,
    "start_time": "2023-03-03T17:55:37.262Z"
   },
   {
    "duration": 11,
    "start_time": "2023-03-03T17:55:37.279Z"
   },
   {
    "duration": 34,
    "start_time": "2023-03-03T17:55:37.291Z"
   },
   {
    "duration": 6,
    "start_time": "2023-03-03T17:55:37.328Z"
   },
   {
    "duration": 9,
    "start_time": "2023-03-03T17:55:37.335Z"
   },
   {
    "duration": 29,
    "start_time": "2023-03-03T17:55:37.345Z"
   },
   {
    "duration": 11,
    "start_time": "2023-03-03T17:55:37.376Z"
   },
   {
    "duration": 7,
    "start_time": "2023-03-03T17:55:37.389Z"
   },
   {
    "duration": 5,
    "start_time": "2023-03-03T17:55:37.398Z"
   },
   {
    "duration": 10,
    "start_time": "2023-03-03T17:55:37.404Z"
   },
   {
    "duration": 40,
    "start_time": "2023-03-03T17:55:37.415Z"
   },
   {
    "duration": 2912,
    "start_time": "2023-03-03T17:55:37.457Z"
   },
   {
    "duration": 362,
    "start_time": "2023-03-03T17:55:40.371Z"
   },
   {
    "duration": 29,
    "start_time": "2023-03-03T17:55:40.735Z"
   },
   {
    "duration": 4,
    "start_time": "2023-03-03T17:55:40.766Z"
   },
   {
    "duration": 389,
    "start_time": "2023-03-03T17:55:40.778Z"
   },
   {
    "duration": 260,
    "start_time": "2023-03-03T17:55:41.169Z"
   },
   {
    "duration": 39,
    "start_time": "2023-03-03T17:55:41.431Z"
   },
   {
    "duration": 143,
    "start_time": "2023-03-03T17:55:41.471Z"
   },
   {
    "duration": 13,
    "start_time": "2023-03-03T17:55:41.616Z"
   },
   {
    "duration": 24,
    "start_time": "2023-03-03T17:55:41.631Z"
   },
   {
    "duration": 705,
    "start_time": "2023-03-03T17:55:41.667Z"
   },
   {
    "duration": 16,
    "start_time": "2023-03-03T17:55:42.373Z"
   },
   {
    "duration": 153,
    "start_time": "2023-03-03T17:55:42.391Z"
   },
   {
    "duration": 19,
    "start_time": "2023-03-03T17:55:42.546Z"
   },
   {
    "duration": 49,
    "start_time": "2023-03-03T17:55:42.566Z"
   },
   {
    "duration": 4,
    "start_time": "2023-03-03T17:55:42.617Z"
   },
   {
    "duration": 20,
    "start_time": "2023-03-03T17:55:42.622Z"
   },
   {
    "duration": 3285,
    "start_time": "2023-03-03T17:56:18.329Z"
   },
   {
    "duration": 3,
    "start_time": "2023-03-03T17:56:21.616Z"
   },
   {
    "duration": 1161,
    "start_time": "2023-03-03T17:56:21.620Z"
   },
   {
    "duration": 4,
    "start_time": "2023-03-03T17:56:22.783Z"
   },
   {
    "duration": 499,
    "start_time": "2023-03-03T17:56:22.788Z"
   },
   {
    "duration": 3,
    "start_time": "2023-03-03T17:56:23.289Z"
   },
   {
    "duration": 216,
    "start_time": "2023-03-03T17:56:23.294Z"
   },
   {
    "duration": 116,
    "start_time": "2023-03-03T17:56:23.512Z"
   },
   {
    "duration": 393,
    "start_time": "2023-03-03T17:56:23.630Z"
   },
   {
    "duration": 2334,
    "start_time": "2023-03-03T17:56:24.026Z"
   },
   {
    "duration": 474,
    "start_time": "2023-03-03T17:56:26.363Z"
   },
   {
    "duration": 103,
    "start_time": "2023-03-03T17:56:26.839Z"
   },
   {
    "duration": 64,
    "start_time": "2023-03-03T17:56:26.947Z"
   },
   {
    "duration": 60,
    "start_time": "2023-03-03T17:56:27.013Z"
   },
   {
    "duration": 33,
    "start_time": "2023-03-03T17:56:27.076Z"
   },
   {
    "duration": 63,
    "start_time": "2023-03-03T17:56:27.110Z"
   },
   {
    "duration": 8,
    "start_time": "2023-03-03T17:56:27.175Z"
   },
   {
    "duration": 190,
    "start_time": "2023-03-03T17:56:27.185Z"
   },
   {
    "duration": 15,
    "start_time": "2023-03-03T17:56:27.378Z"
   },
   {
    "duration": 208,
    "start_time": "2023-03-03T17:56:27.395Z"
   },
   {
    "duration": 8,
    "start_time": "2023-03-03T17:56:27.605Z"
   },
   {
    "duration": 226,
    "start_time": "2023-03-03T17:56:27.615Z"
   },
   {
    "duration": 22,
    "start_time": "2023-03-03T17:56:27.847Z"
   },
   {
    "duration": 209,
    "start_time": "2023-03-03T17:56:27.871Z"
   },
   {
    "duration": 1192,
    "start_time": "2023-03-03T17:56:28.081Z"
   },
   {
    "duration": 299,
    "start_time": "2023-03-03T17:56:29.276Z"
   },
   {
    "duration": 9,
    "start_time": "2023-03-03T17:56:29.577Z"
   },
   {
    "duration": 4,
    "start_time": "2023-03-03T17:56:29.590Z"
   },
   {
    "duration": 77,
    "start_time": "2023-03-03T17:56:29.595Z"
   },
   {
    "duration": 7,
    "start_time": "2023-03-03T17:56:29.678Z"
   },
   {
    "duration": 17,
    "start_time": "2023-03-03T17:56:29.687Z"
   },
   {
    "duration": 72,
    "start_time": "2023-03-03T17:56:29.705Z"
   },
   {
    "duration": 251,
    "start_time": "2023-03-03T17:56:29.779Z"
   },
   {
    "duration": 136,
    "start_time": "2023-03-03T17:56:30.032Z"
   },
   {
    "duration": 267,
    "start_time": "2023-03-03T17:56:30.173Z"
   },
   {
    "duration": 264,
    "start_time": "2023-03-03T17:56:30.442Z"
   },
   {
    "duration": 276,
    "start_time": "2023-03-03T17:56:30.708Z"
   },
   {
    "duration": 265,
    "start_time": "2023-03-03T17:56:30.986Z"
   },
   {
    "duration": 57,
    "start_time": "2023-03-03T17:56:31.254Z"
   },
   {
    "duration": 312,
    "start_time": "2023-03-03T17:56:31.313Z"
   },
   {
    "duration": 11,
    "start_time": "2023-03-03T17:56:31.627Z"
   },
   {
    "duration": 49,
    "start_time": "2023-03-03T17:56:31.647Z"
   },
   {
    "duration": 34,
    "start_time": "2023-03-03T17:56:31.697Z"
   },
   {
    "duration": 53,
    "start_time": "2023-03-03T17:56:31.732Z"
   },
   {
    "duration": 25,
    "start_time": "2023-03-03T17:56:31.786Z"
   },
   {
    "duration": 83,
    "start_time": "2023-03-03T17:56:31.813Z"
   },
   {
    "duration": 40,
    "start_time": "2023-03-03T17:56:31.898Z"
   },
   {
    "duration": 47,
    "start_time": "2023-03-03T17:56:31.939Z"
   },
   {
    "duration": 24,
    "start_time": "2023-03-03T17:56:31.987Z"
   },
   {
    "duration": 10,
    "start_time": "2023-03-03T17:56:32.013Z"
   },
   {
    "duration": 123,
    "start_time": "2023-03-03T17:56:32.025Z"
   },
   {
    "duration": 281,
    "start_time": "2023-03-03T17:56:32.150Z"
   },
   {
    "duration": 61,
    "start_time": "2023-03-03T17:56:32.432Z"
   },
   {
    "duration": 16,
    "start_time": "2023-03-03T17:56:32.495Z"
   },
   {
    "duration": 12,
    "start_time": "2023-03-03T17:56:32.512Z"
   },
   {
    "duration": 76,
    "start_time": "2023-03-03T17:56:32.525Z"
   },
   {
    "duration": 25,
    "start_time": "2023-03-03T17:56:32.603Z"
   },
   {
    "duration": 49,
    "start_time": "2023-03-03T17:56:32.630Z"
   },
   {
    "duration": 14,
    "start_time": "2023-03-03T17:57:21.617Z"
   },
   {
    "duration": 1929,
    "start_time": "2023-03-03T17:57:29.669Z"
   },
   {
    "duration": 92,
    "start_time": "2023-03-03T18:01:16.836Z"
   },
   {
    "duration": 13,
    "start_time": "2023-03-03T18:01:23.697Z"
   },
   {
    "duration": 47,
    "start_time": "2023-03-03T18:02:35.433Z"
   },
   {
    "duration": 181,
    "start_time": "2023-03-03T18:03:14.731Z"
   },
   {
    "duration": 143,
    "start_time": "2023-03-03T18:04:02.799Z"
   },
   {
    "duration": 1148,
    "start_time": "2023-03-03T18:05:18.875Z"
   },
   {
    "duration": 26,
    "start_time": "2023-03-03T18:05:29.070Z"
   },
   {
    "duration": 4,
    "start_time": "2023-03-03T18:06:24.102Z"
   },
   {
    "duration": 2,
    "start_time": "2023-03-03T18:06:24.126Z"
   },
   {
    "duration": 1022,
    "start_time": "2023-03-03T18:06:24.130Z"
   },
   {
    "duration": 8,
    "start_time": "2023-03-03T18:06:25.156Z"
   },
   {
    "duration": 489,
    "start_time": "2023-03-03T18:06:25.166Z"
   },
   {
    "duration": 4,
    "start_time": "2023-03-03T18:06:25.658Z"
   },
   {
    "duration": 44,
    "start_time": "2023-03-03T18:06:25.664Z"
   },
   {
    "duration": 103,
    "start_time": "2023-03-03T18:06:25.710Z"
   },
   {
    "duration": 438,
    "start_time": "2023-03-03T18:06:25.815Z"
   },
   {
    "duration": 2198,
    "start_time": "2023-03-03T18:06:26.255Z"
   },
   {
    "duration": 469,
    "start_time": "2023-03-03T18:06:28.454Z"
   },
   {
    "duration": 93,
    "start_time": "2023-03-03T18:06:28.924Z"
   },
   {
    "duration": 71,
    "start_time": "2023-03-03T18:06:29.018Z"
   },
   {
    "duration": 41,
    "start_time": "2023-03-03T18:06:29.090Z"
   },
   {
    "duration": 58,
    "start_time": "2023-03-03T18:06:29.134Z"
   },
   {
    "duration": 58,
    "start_time": "2023-03-03T18:06:29.194Z"
   },
   {
    "duration": 15,
    "start_time": "2023-03-03T18:06:29.254Z"
   },
   {
    "duration": 185,
    "start_time": "2023-03-03T18:06:29.271Z"
   },
   {
    "duration": 21,
    "start_time": "2023-03-03T18:06:29.457Z"
   },
   {
    "duration": 239,
    "start_time": "2023-03-03T18:06:29.481Z"
   },
   {
    "duration": 9,
    "start_time": "2023-03-03T18:06:29.722Z"
   },
   {
    "duration": 244,
    "start_time": "2023-03-03T18:06:29.732Z"
   },
   {
    "duration": 16,
    "start_time": "2023-03-03T18:06:29.978Z"
   },
   {
    "duration": 270,
    "start_time": "2023-03-03T18:06:29.996Z"
   },
   {
    "duration": 1225,
    "start_time": "2023-03-03T18:06:30.268Z"
   },
   {
    "duration": 283,
    "start_time": "2023-03-03T18:06:31.495Z"
   },
   {
    "duration": 7,
    "start_time": "2023-03-03T18:06:31.780Z"
   },
   {
    "duration": 12,
    "start_time": "2023-03-03T18:06:31.789Z"
   },
   {
    "duration": 78,
    "start_time": "2023-03-03T18:06:31.803Z"
   },
   {
    "duration": 7,
    "start_time": "2023-03-03T18:06:31.882Z"
   },
   {
    "duration": 78,
    "start_time": "2023-03-03T18:06:31.890Z"
   },
   {
    "duration": 289,
    "start_time": "2023-03-03T18:06:31.971Z"
   },
   {
    "duration": 230,
    "start_time": "2023-03-03T18:06:32.262Z"
   },
   {
    "duration": 108,
    "start_time": "2023-03-03T18:06:32.493Z"
   },
   {
    "duration": 252,
    "start_time": "2023-03-03T18:06:32.602Z"
   },
   {
    "duration": 245,
    "start_time": "2023-03-03T18:06:32.858Z"
   },
   {
    "duration": 259,
    "start_time": "2023-03-03T18:06:33.105Z"
   },
   {
    "duration": 242,
    "start_time": "2023-03-03T18:06:33.366Z"
   },
   {
    "duration": 57,
    "start_time": "2023-03-03T18:06:33.610Z"
   },
   {
    "duration": 310,
    "start_time": "2023-03-03T18:06:33.669Z"
   },
   {
    "duration": 13,
    "start_time": "2023-03-03T18:06:33.981Z"
   },
   {
    "duration": 13,
    "start_time": "2023-03-03T18:06:34.000Z"
   },
   {
    "duration": 14,
    "start_time": "2023-03-03T18:06:34.015Z"
   },
   {
    "duration": 27,
    "start_time": "2023-03-03T18:06:34.048Z"
   },
   {
    "duration": 15,
    "start_time": "2023-03-03T18:06:34.077Z"
   },
   {
    "duration": 20,
    "start_time": "2023-03-03T18:06:34.094Z"
   },
   {
    "duration": 36,
    "start_time": "2023-03-03T18:06:34.116Z"
   },
   {
    "duration": 22,
    "start_time": "2023-03-03T18:06:34.154Z"
   },
   {
    "duration": 15,
    "start_time": "2023-03-03T18:06:34.178Z"
   },
   {
    "duration": 12,
    "start_time": "2023-03-03T18:06:34.195Z"
   },
   {
    "duration": 172,
    "start_time": "2023-03-03T18:06:34.209Z"
   },
   {
    "duration": 297,
    "start_time": "2023-03-03T18:06:34.382Z"
   },
   {
    "duration": 49,
    "start_time": "2023-03-03T18:06:34.680Z"
   },
   {
    "duration": 29,
    "start_time": "2023-03-03T18:06:34.731Z"
   },
   {
    "duration": 18,
    "start_time": "2023-03-03T18:06:34.762Z"
   },
   {
    "duration": 47,
    "start_time": "2023-03-03T18:06:34.782Z"
   },
   {
    "duration": 42,
    "start_time": "2023-03-03T18:06:34.849Z"
   },
   {
    "duration": 28,
    "start_time": "2023-03-03T18:06:34.893Z"
   },
   {
    "duration": 40,
    "start_time": "2023-03-03T18:06:34.923Z"
   },
   {
    "duration": 1352,
    "start_time": "2023-03-03T18:06:48.730Z"
   },
   {
    "duration": 27,
    "start_time": "2023-03-03T18:06:56.301Z"
   },
   {
    "duration": 43,
    "start_time": "2023-03-03T18:19:29.995Z"
   },
   {
    "duration": 4,
    "start_time": "2023-03-03T18:19:42.075Z"
   },
   {
    "duration": 9,
    "start_time": "2023-03-03T18:19:42.081Z"
   },
   {
    "duration": 1533,
    "start_time": "2023-03-03T18:19:42.091Z"
   },
   {
    "duration": 3,
    "start_time": "2023-03-03T18:19:43.626Z"
   },
   {
    "duration": 514,
    "start_time": "2023-03-03T18:19:43.631Z"
   },
   {
    "duration": 7,
    "start_time": "2023-03-03T18:19:44.146Z"
   },
   {
    "duration": 49,
    "start_time": "2023-03-03T18:19:44.155Z"
   },
   {
    "duration": 201,
    "start_time": "2023-03-03T18:19:44.206Z"
   },
   {
    "duration": 441,
    "start_time": "2023-03-03T18:19:44.409Z"
   },
   {
    "duration": 2257,
    "start_time": "2023-03-03T18:19:44.852Z"
   },
   {
    "duration": 485,
    "start_time": "2023-03-03T18:19:47.111Z"
   },
   {
    "duration": 114,
    "start_time": "2023-03-03T18:19:47.599Z"
   },
   {
    "duration": 62,
    "start_time": "2023-03-03T18:19:47.716Z"
   },
   {
    "duration": 232,
    "start_time": "2023-03-03T18:19:47.780Z"
   },
   {
    "duration": 53,
    "start_time": "2023-03-03T18:19:48.014Z"
   },
   {
    "duration": 41,
    "start_time": "2023-03-03T18:19:48.073Z"
   },
   {
    "duration": 9,
    "start_time": "2023-03-03T18:19:48.116Z"
   },
   {
    "duration": 202,
    "start_time": "2023-03-03T18:19:48.126Z"
   },
   {
    "duration": 28,
    "start_time": "2023-03-03T18:19:48.330Z"
   },
   {
    "duration": 235,
    "start_time": "2023-03-03T18:19:48.362Z"
   },
   {
    "duration": 10,
    "start_time": "2023-03-03T18:19:48.598Z"
   },
   {
    "duration": 262,
    "start_time": "2023-03-03T18:19:48.610Z"
   },
   {
    "duration": 17,
    "start_time": "2023-03-03T18:19:48.875Z"
   },
   {
    "duration": 210,
    "start_time": "2023-03-03T18:19:48.895Z"
   },
   {
    "duration": 1132,
    "start_time": "2023-03-03T18:19:49.107Z"
   },
   {
    "duration": 317,
    "start_time": "2023-03-03T18:19:50.240Z"
   },
   {
    "duration": 15,
    "start_time": "2023-03-03T18:19:50.560Z"
   },
   {
    "duration": 23,
    "start_time": "2023-03-03T18:19:50.580Z"
   },
   {
    "duration": 71,
    "start_time": "2023-03-03T18:19:50.605Z"
   },
   {
    "duration": 10,
    "start_time": "2023-03-03T18:19:50.678Z"
   },
   {
    "duration": 27,
    "start_time": "2023-03-03T18:19:50.690Z"
   },
   {
    "duration": 76,
    "start_time": "2023-03-03T18:19:50.719Z"
   },
   {
    "duration": 254,
    "start_time": "2023-03-03T18:19:50.797Z"
   },
   {
    "duration": 116,
    "start_time": "2023-03-03T18:19:51.053Z"
   },
   {
    "duration": 260,
    "start_time": "2023-03-03T18:19:51.173Z"
   },
   {
    "duration": 254,
    "start_time": "2023-03-03T18:19:51.435Z"
   },
   {
    "duration": 279,
    "start_time": "2023-03-03T18:19:51.693Z"
   },
   {
    "duration": 396,
    "start_time": "2023-03-03T18:19:51.974Z"
   },
   {
    "duration": 51,
    "start_time": "2023-03-03T18:19:52.373Z"
   },
   {
    "duration": 324,
    "start_time": "2023-03-03T18:19:52.426Z"
   },
   {
    "duration": 22,
    "start_time": "2023-03-03T18:19:52.762Z"
   },
   {
    "duration": 15,
    "start_time": "2023-03-03T18:19:52.787Z"
   },
   {
    "duration": 15,
    "start_time": "2023-03-03T18:19:52.803Z"
   },
   {
    "duration": 17,
    "start_time": "2023-03-03T18:19:52.819Z"
   },
   {
    "duration": 28,
    "start_time": "2023-03-03T18:19:52.838Z"
   },
   {
    "duration": 31,
    "start_time": "2023-03-03T18:19:52.875Z"
   },
   {
    "duration": 15,
    "start_time": "2023-03-03T18:19:52.908Z"
   },
   {
    "duration": 15,
    "start_time": "2023-03-03T18:19:52.925Z"
   },
   {
    "duration": 38,
    "start_time": "2023-03-03T18:19:52.942Z"
   },
   {
    "duration": 34,
    "start_time": "2023-03-03T18:19:52.982Z"
   },
   {
    "duration": 133,
    "start_time": "2023-03-03T18:19:53.018Z"
   },
   {
    "duration": 295,
    "start_time": "2023-03-03T18:19:53.154Z"
   },
   {
    "duration": 59,
    "start_time": "2023-03-03T18:19:53.451Z"
   },
   {
    "duration": 18,
    "start_time": "2023-03-03T18:19:53.512Z"
   },
   {
    "duration": 54,
    "start_time": "2023-03-03T18:19:53.532Z"
   },
   {
    "duration": 65,
    "start_time": "2023-03-03T18:19:53.589Z"
   },
   {
    "duration": 33,
    "start_time": "2023-03-03T18:19:53.663Z"
   },
   {
    "duration": 29,
    "start_time": "2023-03-03T18:19:53.698Z"
   },
   {
    "duration": 13,
    "start_time": "2023-03-03T18:22:09.284Z"
   },
   {
    "duration": 24,
    "start_time": "2023-03-03T18:32:17.622Z"
   },
   {
    "duration": 29,
    "start_time": "2023-03-03T18:42:21.923Z"
   },
   {
    "duration": 18,
    "start_time": "2023-03-03T18:46:48.275Z"
   },
   {
    "duration": 26,
    "start_time": "2023-03-03T18:53:09.497Z"
   },
   {
    "duration": 279,
    "start_time": "2023-03-03T18:55:12.986Z"
   },
   {
    "duration": 1523,
    "start_time": "2023-03-03T18:55:57.634Z"
   },
   {
    "duration": 42,
    "start_time": "2023-03-03T18:56:05.178Z"
   },
   {
    "duration": 1698,
    "start_time": "2023-03-04T06:59:59.763Z"
   },
   {
    "duration": 3,
    "start_time": "2023-03-04T07:00:01.463Z"
   },
   {
    "duration": 1295,
    "start_time": "2023-03-04T07:00:01.468Z"
   },
   {
    "duration": 3,
    "start_time": "2023-03-04T07:00:02.765Z"
   },
   {
    "duration": 492,
    "start_time": "2023-03-04T07:00:02.770Z"
   },
   {
    "duration": 3,
    "start_time": "2023-03-04T07:00:03.264Z"
   },
   {
    "duration": 74,
    "start_time": "2023-03-04T07:00:03.269Z"
   },
   {
    "duration": 156,
    "start_time": "2023-03-04T07:00:03.345Z"
   },
   {
    "duration": 394,
    "start_time": "2023-03-04T07:00:03.503Z"
   },
   {
    "duration": 2249,
    "start_time": "2023-03-04T07:00:03.900Z"
   },
   {
    "duration": 498,
    "start_time": "2023-03-04T07:00:06.153Z"
   },
   {
    "duration": 101,
    "start_time": "2023-03-04T07:00:06.653Z"
   },
   {
    "duration": 57,
    "start_time": "2023-03-04T07:00:06.756Z"
   },
   {
    "duration": 63,
    "start_time": "2023-03-04T07:00:06.815Z"
   },
   {
    "duration": 34,
    "start_time": "2023-03-04T07:00:06.880Z"
   },
   {
    "duration": 55,
    "start_time": "2023-03-04T07:00:06.916Z"
   },
   {
    "duration": 9,
    "start_time": "2023-03-04T07:00:06.973Z"
   },
   {
    "duration": 196,
    "start_time": "2023-03-04T07:00:06.984Z"
   },
   {
    "duration": 18,
    "start_time": "2023-03-04T07:00:07.183Z"
   },
   {
    "duration": 225,
    "start_time": "2023-03-04T07:00:07.203Z"
   },
   {
    "duration": 8,
    "start_time": "2023-03-04T07:00:07.430Z"
   },
   {
    "duration": 211,
    "start_time": "2023-03-04T07:00:07.449Z"
   },
   {
    "duration": 17,
    "start_time": "2023-03-04T07:00:07.663Z"
   },
   {
    "duration": 234,
    "start_time": "2023-03-04T07:00:07.682Z"
   },
   {
    "duration": 1215,
    "start_time": "2023-03-04T07:00:07.918Z"
   },
   {
    "duration": 270,
    "start_time": "2023-03-04T07:00:09.134Z"
   },
   {
    "duration": 9,
    "start_time": "2023-03-04T07:00:09.405Z"
   },
   {
    "duration": 14,
    "start_time": "2023-03-04T07:00:09.417Z"
   },
   {
    "duration": 76,
    "start_time": "2023-03-04T07:00:09.432Z"
   },
   {
    "duration": 8,
    "start_time": "2023-03-04T07:00:09.510Z"
   },
   {
    "duration": 30,
    "start_time": "2023-03-04T07:00:09.520Z"
   },
   {
    "duration": 52,
    "start_time": "2023-03-04T07:00:09.552Z"
   },
   {
    "duration": 232,
    "start_time": "2023-03-04T07:00:09.606Z"
   },
   {
    "duration": 109,
    "start_time": "2023-03-04T07:00:09.840Z"
   },
   {
    "duration": 268,
    "start_time": "2023-03-04T07:00:09.950Z"
   },
   {
    "duration": 252,
    "start_time": "2023-03-04T07:00:10.220Z"
   },
   {
    "duration": 247,
    "start_time": "2023-03-04T07:00:10.474Z"
   },
   {
    "duration": 240,
    "start_time": "2023-03-04T07:00:10.723Z"
   },
   {
    "duration": 50,
    "start_time": "2023-03-04T07:00:10.965Z"
   },
   {
    "duration": 278,
    "start_time": "2023-03-04T07:00:11.017Z"
   },
   {
    "duration": 12,
    "start_time": "2023-03-04T07:00:11.297Z"
   },
   {
    "duration": 14,
    "start_time": "2023-03-04T07:00:11.311Z"
   },
   {
    "duration": 28,
    "start_time": "2023-03-04T07:00:11.326Z"
   },
   {
    "duration": 23,
    "start_time": "2023-03-04T07:00:11.356Z"
   },
   {
    "duration": 20,
    "start_time": "2023-03-04T07:00:11.381Z"
   },
   {
    "duration": 18,
    "start_time": "2023-03-04T07:00:11.402Z"
   },
   {
    "duration": 28,
    "start_time": "2023-03-04T07:00:11.422Z"
   },
   {
    "duration": 29,
    "start_time": "2023-03-04T07:00:11.451Z"
   },
   {
    "duration": 27,
    "start_time": "2023-03-04T07:00:11.482Z"
   },
   {
    "duration": 18,
    "start_time": "2023-03-04T07:00:11.511Z"
   },
   {
    "duration": 131,
    "start_time": "2023-03-04T07:00:11.532Z"
   },
   {
    "duration": 266,
    "start_time": "2023-03-04T07:00:11.665Z"
   },
   {
    "duration": 50,
    "start_time": "2023-03-04T07:00:11.933Z"
   },
   {
    "duration": 20,
    "start_time": "2023-03-04T07:00:11.985Z"
   },
   {
    "duration": 13,
    "start_time": "2023-03-04T07:00:12.007Z"
   },
   {
    "duration": 66,
    "start_time": "2023-03-04T07:00:12.021Z"
   },
   {
    "duration": 30,
    "start_time": "2023-03-04T07:00:12.089Z"
   },
   {
    "duration": 49,
    "start_time": "2023-03-04T07:00:12.121Z"
   },
   {
    "duration": 12,
    "start_time": "2023-03-04T07:00:12.172Z"
   },
   {
    "duration": 6,
    "start_time": "2023-03-04T07:00:48.711Z"
   },
   {
    "duration": 8,
    "start_time": "2023-03-04T07:01:06.298Z"
   },
   {
    "duration": 64,
    "start_time": "2023-03-04T07:02:35.693Z"
   },
   {
    "duration": 24,
    "start_time": "2023-03-04T07:02:52.715Z"
   },
   {
    "duration": 590,
    "start_time": "2023-03-04T07:08:09.274Z"
   },
   {
    "duration": 567,
    "start_time": "2023-03-04T07:27:33.793Z"
   },
   {
    "duration": 469,
    "start_time": "2023-03-04T07:32:06.912Z"
   },
   {
    "duration": 27,
    "start_time": "2023-03-04T07:38:36.950Z"
   },
   {
    "duration": 435,
    "start_time": "2023-03-04T07:39:22.066Z"
   },
   {
    "duration": 495,
    "start_time": "2023-03-04T07:42:23.253Z"
   },
   {
    "duration": 46,
    "start_time": "2023-03-04T07:43:02.091Z"
   },
   {
    "duration": 48,
    "start_time": "2023-03-04T07:43:40.639Z"
   },
   {
    "duration": 51,
    "start_time": "2023-03-04T07:44:12.834Z"
   },
   {
    "duration": 55,
    "start_time": "2023-03-04T07:44:37.569Z"
   },
   {
    "duration": 22,
    "start_time": "2023-03-04T07:47:07.016Z"
   },
   {
    "duration": 6,
    "start_time": "2023-03-04T07:47:14.490Z"
   },
   {
    "duration": 5,
    "start_time": "2023-03-04T07:47:17.013Z"
   },
   {
    "duration": 3,
    "start_time": "2023-03-04T07:47:19.368Z"
   },
   {
    "duration": 3,
    "start_time": "2023-03-04T07:47:27.570Z"
   },
   {
    "duration": 2,
    "start_time": "2023-03-04T07:47:28.500Z"
   },
   {
    "duration": 2,
    "start_time": "2023-03-04T07:47:29.196Z"
   },
   {
    "duration": 3,
    "start_time": "2023-03-04T07:47:29.985Z"
   },
   {
    "duration": 3,
    "start_time": "2023-03-04T07:47:30.548Z"
   },
   {
    "duration": 2,
    "start_time": "2023-03-04T07:47:31.157Z"
   },
   {
    "duration": 2,
    "start_time": "2023-03-04T07:47:31.647Z"
   },
   {
    "duration": 2,
    "start_time": "2023-03-04T07:47:32.499Z"
   },
   {
    "duration": 3,
    "start_time": "2023-03-04T07:47:35.711Z"
   },
   {
    "duration": 16,
    "start_time": "2023-03-04T07:47:40.073Z"
   },
   {
    "duration": 2684,
    "start_time": "2023-03-04T07:47:42.028Z"
   },
   {
    "duration": 121,
    "start_time": "2023-03-04T07:47:46.458Z"
   },
   {
    "duration": 10,
    "start_time": "2023-03-04T07:47:49.258Z"
   },
   {
    "duration": 3,
    "start_time": "2023-03-04T07:47:50.779Z"
   },
   {
    "duration": 145,
    "start_time": "2023-03-04T07:47:59.860Z"
   },
   {
    "duration": 91,
    "start_time": "2023-03-04T07:48:01.635Z"
   },
   {
    "duration": 18,
    "start_time": "2023-03-04T07:48:03.435Z"
   },
   {
    "duration": 26,
    "start_time": "2023-03-04T07:48:09.830Z"
   },
   {
    "duration": 4,
    "start_time": "2023-03-04T07:49:45.513Z"
   },
   {
    "duration": 11,
    "start_time": "2023-03-04T07:49:45.519Z"
   },
   {
    "duration": 975,
    "start_time": "2023-03-04T07:49:45.531Z"
   },
   {
    "duration": 3,
    "start_time": "2023-03-04T07:49:46.508Z"
   },
   {
    "duration": 407,
    "start_time": "2023-03-04T07:49:46.512Z"
   },
   {
    "duration": 3,
    "start_time": "2023-03-04T07:49:46.920Z"
   },
   {
    "duration": 32,
    "start_time": "2023-03-04T07:49:46.925Z"
   },
   {
    "duration": 93,
    "start_time": "2023-03-04T07:49:46.959Z"
   },
   {
    "duration": 312,
    "start_time": "2023-03-04T07:49:47.054Z"
   },
   {
    "duration": 1921,
    "start_time": "2023-03-04T07:49:47.369Z"
   },
   {
    "duration": 410,
    "start_time": "2023-03-04T07:49:49.292Z"
   },
   {
    "duration": 89,
    "start_time": "2023-03-04T07:49:49.704Z"
   },
   {
    "duration": 68,
    "start_time": "2023-03-04T07:49:49.794Z"
   },
   {
    "duration": 45,
    "start_time": "2023-03-04T07:49:49.864Z"
   },
   {
    "duration": 50,
    "start_time": "2023-03-04T07:49:49.911Z"
   },
   {
    "duration": 36,
    "start_time": "2023-03-04T07:49:49.963Z"
   },
   {
    "duration": 8,
    "start_time": "2023-03-04T07:49:50.001Z"
   },
   {
    "duration": 182,
    "start_time": "2023-03-04T07:49:50.011Z"
   },
   {
    "duration": 15,
    "start_time": "2023-03-04T07:49:50.195Z"
   },
   {
    "duration": 190,
    "start_time": "2023-03-04T07:49:50.212Z"
   },
   {
    "duration": 8,
    "start_time": "2023-03-04T07:49:50.403Z"
   },
   {
    "duration": 196,
    "start_time": "2023-03-04T07:49:50.413Z"
   },
   {
    "duration": 16,
    "start_time": "2023-03-04T07:49:50.611Z"
   },
   {
    "duration": 326,
    "start_time": "2023-03-04T07:49:50.628Z"
   },
   {
    "duration": 949,
    "start_time": "2023-03-04T07:49:50.959Z"
   },
   {
    "duration": 251,
    "start_time": "2023-03-04T07:49:51.910Z"
   },
   {
    "duration": 7,
    "start_time": "2023-03-04T07:49:52.162Z"
   },
   {
    "duration": 21,
    "start_time": "2023-03-04T07:49:52.170Z"
   },
   {
    "duration": 57,
    "start_time": "2023-03-04T07:49:52.192Z"
   },
   {
    "duration": 6,
    "start_time": "2023-03-04T07:49:52.251Z"
   },
   {
    "duration": 19,
    "start_time": "2023-03-04T07:49:52.259Z"
   },
   {
    "duration": 47,
    "start_time": "2023-03-04T07:49:52.280Z"
   },
   {
    "duration": 224,
    "start_time": "2023-03-04T07:49:52.328Z"
   },
   {
    "duration": 98,
    "start_time": "2023-03-04T07:49:52.553Z"
   },
   {
    "duration": 222,
    "start_time": "2023-03-04T07:49:52.652Z"
   },
   {
    "duration": 230,
    "start_time": "2023-03-04T07:49:52.876Z"
   },
   {
    "duration": 243,
    "start_time": "2023-03-04T07:49:53.107Z"
   },
   {
    "duration": 221,
    "start_time": "2023-03-04T07:49:53.352Z"
   },
   {
    "duration": 48,
    "start_time": "2023-03-04T07:49:53.575Z"
   },
   {
    "duration": 265,
    "start_time": "2023-03-04T07:49:53.624Z"
   },
   {
    "duration": 11,
    "start_time": "2023-03-04T07:49:53.891Z"
   },
   {
    "duration": 17,
    "start_time": "2023-03-04T07:49:53.904Z"
   },
   {
    "duration": 13,
    "start_time": "2023-03-04T07:49:53.923Z"
   },
   {
    "duration": 12,
    "start_time": "2023-03-04T07:49:53.949Z"
   },
   {
    "duration": 20,
    "start_time": "2023-03-04T07:49:53.963Z"
   },
   {
    "duration": 16,
    "start_time": "2023-03-04T07:49:53.984Z"
   },
   {
    "duration": 11,
    "start_time": "2023-03-04T07:49:54.001Z"
   },
   {
    "duration": 14,
    "start_time": "2023-03-04T07:49:54.014Z"
   },
   {
    "duration": 11,
    "start_time": "2023-03-04T07:49:54.047Z"
   },
   {
    "duration": 16,
    "start_time": "2023-03-04T07:49:54.059Z"
   },
   {
    "duration": 117,
    "start_time": "2023-03-04T07:49:54.076Z"
   },
   {
    "duration": 222,
    "start_time": "2023-03-04T07:49:54.195Z"
   },
   {
    "duration": 51,
    "start_time": "2023-03-04T07:49:54.418Z"
   },
   {
    "duration": 15,
    "start_time": "2023-03-04T07:49:54.471Z"
   },
   {
    "duration": 11,
    "start_time": "2023-03-04T07:49:54.488Z"
   },
   {
    "duration": 61,
    "start_time": "2023-03-04T07:49:54.501Z"
   },
   {
    "duration": 25,
    "start_time": "2023-03-04T07:49:54.564Z"
   },
   {
    "duration": 24,
    "start_time": "2023-03-04T07:49:54.590Z"
   },
   {
    "duration": 34,
    "start_time": "2023-03-04T07:49:54.616Z"
   },
   {
    "duration": 5,
    "start_time": "2023-03-04T07:49:54.652Z"
   },
   {
    "duration": 11,
    "start_time": "2023-03-04T07:49:54.659Z"
   },
   {
    "duration": 48,
    "start_time": "2023-03-04T07:49:54.672Z"
   },
   {
    "duration": 66,
    "start_time": "2023-03-04T07:49:54.722Z"
   },
   {
    "duration": 48,
    "start_time": "2023-03-04T07:49:54.789Z"
   },
   {
    "duration": 58,
    "start_time": "2023-03-04T07:49:54.838Z"
   },
   {
    "duration": 61,
    "start_time": "2023-03-04T07:49:54.898Z"
   },
   {
    "duration": 20,
    "start_time": "2023-03-04T07:49:54.960Z"
   },
   {
    "duration": 12,
    "start_time": "2023-03-04T07:49:54.982Z"
   },
   {
    "duration": 5,
    "start_time": "2023-03-04T07:49:54.995Z"
   },
   {
    "duration": 3,
    "start_time": "2023-03-04T07:49:55.004Z"
   },
   {
    "duration": 7,
    "start_time": "2023-03-04T07:49:55.008Z"
   },
   {
    "duration": 12,
    "start_time": "2023-03-04T07:49:55.017Z"
   },
   {
    "duration": 17,
    "start_time": "2023-03-04T07:49:55.030Z"
   },
   {
    "duration": 8,
    "start_time": "2023-03-04T07:49:55.049Z"
   },
   {
    "duration": 7,
    "start_time": "2023-03-04T07:49:55.058Z"
   },
   {
    "duration": 8,
    "start_time": "2023-03-04T07:49:55.067Z"
   },
   {
    "duration": 10,
    "start_time": "2023-03-04T07:49:55.076Z"
   },
   {
    "duration": 7,
    "start_time": "2023-03-04T07:49:55.087Z"
   },
   {
    "duration": 9,
    "start_time": "2023-03-04T07:49:55.095Z"
   },
   {
    "duration": 23,
    "start_time": "2023-03-04T07:49:55.106Z"
   },
   {
    "duration": 1904,
    "start_time": "2023-03-04T07:49:55.131Z"
   },
   {
    "duration": 3,
    "start_time": "2023-03-04T07:49:57.037Z"
   },
   {
    "duration": 13,
    "start_time": "2023-03-04T07:49:57.042Z"
   },
   {
    "duration": 3,
    "start_time": "2023-03-04T07:49:57.057Z"
   },
   {
    "duration": 160,
    "start_time": "2023-03-04T07:49:57.062Z"
   },
   {
    "duration": 103,
    "start_time": "2023-03-04T07:49:57.223Z"
   },
   {
    "duration": 25,
    "start_time": "2023-03-04T07:49:57.328Z"
   },
   {
    "duration": 20,
    "start_time": "2023-03-04T07:50:05.792Z"
   },
   {
    "duration": 5,
    "start_time": "2023-03-04T07:50:59.276Z"
   },
   {
    "duration": 12,
    "start_time": "2023-03-04T07:51:10.370Z"
   },
   {
    "duration": 20,
    "start_time": "2023-03-04T07:53:31.554Z"
   },
   {
    "duration": 16,
    "start_time": "2023-03-04T07:53:59.286Z"
   },
   {
    "duration": 8,
    "start_time": "2023-03-04T07:54:44.960Z"
   },
   {
    "duration": 1332,
    "start_time": "2023-03-04T07:55:28.001Z"
   },
   {
    "duration": 3,
    "start_time": "2023-03-04T07:55:29.334Z"
   },
   {
    "duration": 903,
    "start_time": "2023-03-04T07:55:29.338Z"
   },
   {
    "duration": 4,
    "start_time": "2023-03-04T07:55:30.244Z"
   },
   {
    "duration": 459,
    "start_time": "2023-03-04T07:55:30.250Z"
   },
   {
    "duration": 3,
    "start_time": "2023-03-04T07:55:30.711Z"
   },
   {
    "duration": 59,
    "start_time": "2023-03-04T07:55:30.716Z"
   },
   {
    "duration": 130,
    "start_time": "2023-03-04T07:55:30.777Z"
   },
   {
    "duration": 316,
    "start_time": "2023-03-04T07:55:30.909Z"
   },
   {
    "duration": 2089,
    "start_time": "2023-03-04T07:55:31.227Z"
   },
   {
    "duration": 451,
    "start_time": "2023-03-04T07:55:33.317Z"
   },
   {
    "duration": 96,
    "start_time": "2023-03-04T07:55:33.770Z"
   },
   {
    "duration": 55,
    "start_time": "2023-03-04T07:55:33.867Z"
   },
   {
    "duration": 61,
    "start_time": "2023-03-04T07:55:33.924Z"
   },
   {
    "duration": 33,
    "start_time": "2023-03-04T07:55:33.988Z"
   },
   {
    "duration": 56,
    "start_time": "2023-03-04T07:55:34.023Z"
   },
   {
    "duration": 8,
    "start_time": "2023-03-04T07:55:34.080Z"
   },
   {
    "duration": 188,
    "start_time": "2023-03-04T07:55:34.089Z"
   },
   {
    "duration": 16,
    "start_time": "2023-03-04T07:55:34.279Z"
   },
   {
    "duration": 204,
    "start_time": "2023-03-04T07:55:34.297Z"
   },
   {
    "duration": 8,
    "start_time": "2023-03-04T07:55:34.503Z"
   },
   {
    "duration": 194,
    "start_time": "2023-03-04T07:55:34.512Z"
   },
   {
    "duration": 15,
    "start_time": "2023-03-04T07:55:34.708Z"
   },
   {
    "duration": 192,
    "start_time": "2023-03-04T07:55:34.724Z"
   },
   {
    "duration": 1158,
    "start_time": "2023-03-04T07:55:34.918Z"
   },
   {
    "duration": 248,
    "start_time": "2023-03-04T07:55:36.078Z"
   },
   {
    "duration": 20,
    "start_time": "2023-03-04T07:55:36.328Z"
   },
   {
    "duration": 4,
    "start_time": "2023-03-04T07:55:36.353Z"
   },
   {
    "duration": 49,
    "start_time": "2023-03-04T07:55:36.359Z"
   },
   {
    "duration": 7,
    "start_time": "2023-03-04T07:55:36.410Z"
   },
   {
    "duration": 34,
    "start_time": "2023-03-04T07:55:36.419Z"
   },
   {
    "duration": 48,
    "start_time": "2023-03-04T07:55:36.454Z"
   },
   {
    "duration": 213,
    "start_time": "2023-03-04T07:55:36.503Z"
   },
   {
    "duration": 101,
    "start_time": "2023-03-04T07:55:36.717Z"
   },
   {
    "duration": 241,
    "start_time": "2023-03-04T07:55:36.820Z"
   },
   {
    "duration": 232,
    "start_time": "2023-03-04T07:55:37.063Z"
   },
   {
    "duration": 249,
    "start_time": "2023-03-04T07:55:37.297Z"
   },
   {
    "duration": 230,
    "start_time": "2023-03-04T07:55:37.547Z"
   },
   {
    "duration": 48,
    "start_time": "2023-03-04T07:55:37.778Z"
   },
   {
    "duration": 263,
    "start_time": "2023-03-04T07:55:37.828Z"
   },
   {
    "duration": 13,
    "start_time": "2023-03-04T07:55:38.093Z"
   },
   {
    "duration": 12,
    "start_time": "2023-03-04T07:55:38.108Z"
   },
   {
    "duration": 32,
    "start_time": "2023-03-04T07:55:38.122Z"
   },
   {
    "duration": 14,
    "start_time": "2023-03-04T07:55:38.155Z"
   },
   {
    "duration": 12,
    "start_time": "2023-03-04T07:55:38.171Z"
   },
   {
    "duration": 11,
    "start_time": "2023-03-04T07:55:38.185Z"
   },
   {
    "duration": 10,
    "start_time": "2023-03-04T07:55:38.198Z"
   },
   {
    "duration": 47,
    "start_time": "2023-03-04T07:55:38.210Z"
   },
   {
    "duration": 12,
    "start_time": "2023-03-04T07:55:38.258Z"
   },
   {
    "duration": 11,
    "start_time": "2023-03-04T07:55:38.271Z"
   },
   {
    "duration": 121,
    "start_time": "2023-03-04T07:55:38.283Z"
   },
   {
    "duration": 244,
    "start_time": "2023-03-04T07:55:38.405Z"
   },
   {
    "duration": 48,
    "start_time": "2023-03-04T07:55:38.651Z"
   },
   {
    "duration": 24,
    "start_time": "2023-03-04T07:55:38.700Z"
   },
   {
    "duration": 23,
    "start_time": "2023-03-04T07:55:38.725Z"
   },
   {
    "duration": 44,
    "start_time": "2023-03-04T07:55:38.750Z"
   },
   {
    "duration": 27,
    "start_time": "2023-03-04T07:55:38.795Z"
   },
   {
    "duration": 44,
    "start_time": "2023-03-04T07:55:38.823Z"
   },
   {
    "duration": 11,
    "start_time": "2023-03-04T07:55:38.869Z"
   },
   {
    "duration": 5,
    "start_time": "2023-03-04T07:55:38.882Z"
   },
   {
    "duration": 8,
    "start_time": "2023-03-04T07:55:38.888Z"
   },
   {
    "duration": 74,
    "start_time": "2023-03-04T07:55:38.898Z"
   },
   {
    "duration": 48,
    "start_time": "2023-03-04T07:55:38.974Z"
   },
   {
    "duration": 59,
    "start_time": "2023-03-04T07:55:39.023Z"
   },
   {
    "duration": 54,
    "start_time": "2023-03-04T07:55:39.084Z"
   },
   {
    "duration": 53,
    "start_time": "2023-03-04T07:55:39.148Z"
   },
   {
    "duration": 23,
    "start_time": "2023-03-04T07:55:39.202Z"
   },
   {
    "duration": 21,
    "start_time": "2023-03-04T07:55:39.227Z"
   },
   {
    "duration": 4,
    "start_time": "2023-03-04T07:55:39.250Z"
   },
   {
    "duration": 11,
    "start_time": "2023-03-04T07:55:39.256Z"
   },
   {
    "duration": 9,
    "start_time": "2023-03-04T07:55:39.269Z"
   },
   {
    "duration": 13,
    "start_time": "2023-03-04T07:55:39.280Z"
   },
   {
    "duration": 12,
    "start_time": "2023-03-04T07:55:39.295Z"
   },
   {
    "duration": 10,
    "start_time": "2023-03-04T07:55:39.308Z"
   },
   {
    "duration": 7,
    "start_time": "2023-03-04T07:55:39.320Z"
   },
   {
    "duration": 18,
    "start_time": "2023-03-04T07:55:39.328Z"
   },
   {
    "duration": 12,
    "start_time": "2023-03-04T07:55:39.348Z"
   },
   {
    "duration": 7,
    "start_time": "2023-03-04T07:55:39.361Z"
   },
   {
    "duration": 6,
    "start_time": "2023-03-04T07:55:39.369Z"
   },
   {
    "duration": 23,
    "start_time": "2023-03-04T07:55:39.376Z"
   },
   {
    "duration": 1883,
    "start_time": "2023-03-04T07:55:39.400Z"
   },
   {
    "duration": 62,
    "start_time": "2023-03-04T07:55:41.289Z"
   },
   {
    "duration": 12,
    "start_time": "2023-03-04T07:55:41.352Z"
   },
   {
    "duration": 4,
    "start_time": "2023-03-04T07:55:41.365Z"
   },
   {
    "duration": 164,
    "start_time": "2023-03-04T07:55:41.370Z"
   },
   {
    "duration": 91,
    "start_time": "2023-03-04T07:55:41.535Z"
   },
   {
    "duration": 114,
    "start_time": "2023-03-04T07:55:49.528Z"
   },
   {
    "duration": 17,
    "start_time": "2023-03-04T07:55:50.735Z"
   },
   {
    "duration": 4,
    "start_time": "2023-03-04T07:57:07.338Z"
   },
   {
    "duration": 10,
    "start_time": "2023-03-04T07:57:07.344Z"
   },
   {
    "duration": 950,
    "start_time": "2023-03-04T07:57:07.355Z"
   },
   {
    "duration": 3,
    "start_time": "2023-03-04T07:57:08.307Z"
   },
   {
    "duration": 448,
    "start_time": "2023-03-04T07:57:08.313Z"
   },
   {
    "duration": 3,
    "start_time": "2023-03-04T07:57:08.763Z"
   },
   {
    "duration": 33,
    "start_time": "2023-03-04T07:57:08.767Z"
   },
   {
    "duration": 104,
    "start_time": "2023-03-04T07:57:08.802Z"
   },
   {
    "duration": 317,
    "start_time": "2023-03-04T07:57:08.909Z"
   },
   {
    "duration": 2137,
    "start_time": "2023-03-04T07:57:09.228Z"
   },
   {
    "duration": 584,
    "start_time": "2023-03-04T07:57:11.366Z"
   },
   {
    "duration": 97,
    "start_time": "2023-03-04T07:57:11.952Z"
   },
   {
    "duration": 54,
    "start_time": "2023-03-04T07:57:12.051Z"
   },
   {
    "duration": 57,
    "start_time": "2023-03-04T07:57:12.107Z"
   },
   {
    "duration": 33,
    "start_time": "2023-03-04T07:57:12.166Z"
   },
   {
    "duration": 48,
    "start_time": "2023-03-04T07:57:12.201Z"
   },
   {
    "duration": 7,
    "start_time": "2023-03-04T07:57:12.250Z"
   },
   {
    "duration": 172,
    "start_time": "2023-03-04T07:57:12.258Z"
   },
   {
    "duration": 22,
    "start_time": "2023-03-04T07:57:12.431Z"
   },
   {
    "duration": 186,
    "start_time": "2023-03-04T07:57:12.454Z"
   },
   {
    "duration": 7,
    "start_time": "2023-03-04T07:57:12.647Z"
   },
   {
    "duration": 198,
    "start_time": "2023-03-04T07:57:12.656Z"
   },
   {
    "duration": 15,
    "start_time": "2023-03-04T07:57:12.857Z"
   },
   {
    "duration": 183,
    "start_time": "2023-03-04T07:57:12.874Z"
   },
   {
    "duration": 1105,
    "start_time": "2023-03-04T07:57:13.062Z"
   },
   {
    "duration": 250,
    "start_time": "2023-03-04T07:57:14.169Z"
   },
   {
    "duration": 8,
    "start_time": "2023-03-04T07:57:14.421Z"
   },
   {
    "duration": 17,
    "start_time": "2023-03-04T07:57:14.431Z"
   },
   {
    "duration": 48,
    "start_time": "2023-03-04T07:57:14.449Z"
   },
   {
    "duration": 6,
    "start_time": "2023-03-04T07:57:14.499Z"
   },
   {
    "duration": 32,
    "start_time": "2023-03-04T07:57:14.506Z"
   },
   {
    "duration": 52,
    "start_time": "2023-03-04T07:57:14.539Z"
   },
   {
    "duration": 213,
    "start_time": "2023-03-04T07:57:14.593Z"
   },
   {
    "duration": 109,
    "start_time": "2023-03-04T07:57:14.807Z"
   },
   {
    "duration": 234,
    "start_time": "2023-03-04T07:57:14.918Z"
   },
   {
    "duration": 233,
    "start_time": "2023-03-04T07:57:15.154Z"
   },
   {
    "duration": 224,
    "start_time": "2023-03-04T07:57:15.389Z"
   },
   {
    "duration": 238,
    "start_time": "2023-03-04T07:57:15.615Z"
   },
   {
    "duration": 58,
    "start_time": "2023-03-04T07:57:15.856Z"
   },
   {
    "duration": 297,
    "start_time": "2023-03-04T07:57:15.917Z"
   },
   {
    "duration": 13,
    "start_time": "2023-03-04T07:57:16.216Z"
   },
   {
    "duration": 23,
    "start_time": "2023-03-04T07:57:16.230Z"
   },
   {
    "duration": 25,
    "start_time": "2023-03-04T07:57:16.254Z"
   },
   {
    "duration": 14,
    "start_time": "2023-03-04T07:57:16.281Z"
   },
   {
    "duration": 28,
    "start_time": "2023-03-04T07:57:16.297Z"
   },
   {
    "duration": 16,
    "start_time": "2023-03-04T07:57:16.327Z"
   },
   {
    "duration": 14,
    "start_time": "2023-03-04T07:57:16.345Z"
   },
   {
    "duration": 16,
    "start_time": "2023-03-04T07:57:16.361Z"
   },
   {
    "duration": 11,
    "start_time": "2023-03-04T07:57:16.378Z"
   },
   {
    "duration": 8,
    "start_time": "2023-03-04T07:57:16.391Z"
   },
   {
    "duration": 136,
    "start_time": "2023-03-04T07:57:16.400Z"
   },
   {
    "duration": 233,
    "start_time": "2023-03-04T07:57:16.538Z"
   },
   {
    "duration": 49,
    "start_time": "2023-03-04T07:57:16.773Z"
   },
   {
    "duration": 36,
    "start_time": "2023-03-04T07:57:16.825Z"
   },
   {
    "duration": 13,
    "start_time": "2023-03-04T07:57:16.863Z"
   },
   {
    "duration": 45,
    "start_time": "2023-03-04T07:57:16.878Z"
   },
   {
    "duration": 47,
    "start_time": "2023-03-04T07:57:16.925Z"
   },
   {
    "duration": 25,
    "start_time": "2023-03-04T07:57:16.974Z"
   },
   {
    "duration": 10,
    "start_time": "2023-03-04T07:57:17.001Z"
   },
   {
    "duration": 14,
    "start_time": "2023-03-04T07:57:17.013Z"
   },
   {
    "duration": 22,
    "start_time": "2023-03-04T07:57:17.029Z"
   },
   {
    "duration": 53,
    "start_time": "2023-03-04T07:57:17.053Z"
   },
   {
    "duration": 59,
    "start_time": "2023-03-04T07:57:17.108Z"
   },
   {
    "duration": 48,
    "start_time": "2023-03-04T07:57:17.169Z"
   },
   {
    "duration": 62,
    "start_time": "2023-03-04T07:57:17.219Z"
   },
   {
    "duration": 49,
    "start_time": "2023-03-04T07:57:17.283Z"
   },
   {
    "duration": 38,
    "start_time": "2023-03-04T07:57:17.334Z"
   },
   {
    "duration": 10,
    "start_time": "2023-03-04T07:57:17.374Z"
   },
   {
    "duration": 10,
    "start_time": "2023-03-04T07:57:17.385Z"
   },
   {
    "duration": 5,
    "start_time": "2023-03-04T07:57:17.400Z"
   },
   {
    "duration": 7,
    "start_time": "2023-03-04T07:57:17.406Z"
   },
   {
    "duration": 13,
    "start_time": "2023-03-04T07:57:17.415Z"
   },
   {
    "duration": 6,
    "start_time": "2023-03-04T07:57:17.430Z"
   },
   {
    "duration": 10,
    "start_time": "2023-03-04T07:57:17.438Z"
   },
   {
    "duration": 3,
    "start_time": "2023-03-04T07:57:17.449Z"
   },
   {
    "duration": 9,
    "start_time": "2023-03-04T07:57:17.454Z"
   },
   {
    "duration": 6,
    "start_time": "2023-03-04T07:57:17.465Z"
   },
   {
    "duration": 9,
    "start_time": "2023-03-04T07:57:17.472Z"
   },
   {
    "duration": 8,
    "start_time": "2023-03-04T07:57:17.483Z"
   },
   {
    "duration": 4,
    "start_time": "2023-03-04T07:57:50.853Z"
   },
   {
    "duration": 2,
    "start_time": "2023-03-04T07:57:50.878Z"
   },
   {
    "duration": 951,
    "start_time": "2023-03-04T07:57:50.882Z"
   },
   {
    "duration": 3,
    "start_time": "2023-03-04T07:57:51.835Z"
   },
   {
    "duration": 434,
    "start_time": "2023-03-04T07:57:51.840Z"
   },
   {
    "duration": 3,
    "start_time": "2023-03-04T07:57:52.275Z"
   },
   {
    "duration": 29,
    "start_time": "2023-03-04T07:57:52.279Z"
   },
   {
    "duration": 104,
    "start_time": "2023-03-04T07:57:52.310Z"
   },
   {
    "duration": 304,
    "start_time": "2023-03-04T07:57:52.416Z"
   },
   {
    "duration": 2009,
    "start_time": "2023-03-04T07:57:52.722Z"
   },
   {
    "duration": 436,
    "start_time": "2023-03-04T07:57:54.733Z"
   },
   {
    "duration": 82,
    "start_time": "2023-03-04T07:57:55.171Z"
   },
   {
    "duration": 61,
    "start_time": "2023-03-04T07:57:55.254Z"
   },
   {
    "duration": 63,
    "start_time": "2023-03-04T07:57:55.316Z"
   },
   {
    "duration": 34,
    "start_time": "2023-03-04T07:57:55.380Z"
   },
   {
    "duration": 49,
    "start_time": "2023-03-04T07:57:55.416Z"
   },
   {
    "duration": 6,
    "start_time": "2023-03-04T07:57:55.467Z"
   },
   {
    "duration": 180,
    "start_time": "2023-03-04T07:57:55.475Z"
   },
   {
    "duration": 15,
    "start_time": "2023-03-04T07:57:55.656Z"
   },
   {
    "duration": 226,
    "start_time": "2023-03-04T07:57:55.672Z"
   },
   {
    "duration": 9,
    "start_time": "2023-03-04T07:57:55.900Z"
   },
   {
    "duration": 220,
    "start_time": "2023-03-04T07:57:55.912Z"
   },
   {
    "duration": 22,
    "start_time": "2023-03-04T07:57:56.134Z"
   },
   {
    "duration": 179,
    "start_time": "2023-03-04T07:57:56.158Z"
   },
   {
    "duration": 1071,
    "start_time": "2023-03-04T07:57:56.340Z"
   },
   {
    "duration": 259,
    "start_time": "2023-03-04T07:57:57.412Z"
   },
   {
    "duration": 7,
    "start_time": "2023-03-04T07:57:57.673Z"
   },
   {
    "duration": 3,
    "start_time": "2023-03-04T07:57:57.682Z"
   },
   {
    "duration": 62,
    "start_time": "2023-03-04T07:57:57.686Z"
   },
   {
    "duration": 6,
    "start_time": "2023-03-04T07:57:57.750Z"
   },
   {
    "duration": 25,
    "start_time": "2023-03-04T07:57:57.757Z"
   },
   {
    "duration": 50,
    "start_time": "2023-03-04T07:57:57.784Z"
   },
   {
    "duration": 212,
    "start_time": "2023-03-04T07:57:57.836Z"
   },
   {
    "duration": 99,
    "start_time": "2023-03-04T07:57:58.049Z"
   },
   {
    "duration": 242,
    "start_time": "2023-03-04T07:57:58.150Z"
   },
   {
    "duration": 228,
    "start_time": "2023-03-04T07:57:58.394Z"
   },
   {
    "duration": 225,
    "start_time": "2023-03-04T07:57:58.624Z"
   },
   {
    "duration": 233,
    "start_time": "2023-03-04T07:57:58.851Z"
   },
   {
    "duration": 48,
    "start_time": "2023-03-04T07:57:59.085Z"
   },
   {
    "duration": 262,
    "start_time": "2023-03-04T07:57:59.135Z"
   },
   {
    "duration": 11,
    "start_time": "2023-03-04T07:57:59.399Z"
   },
   {
    "duration": 10,
    "start_time": "2023-03-04T07:57:59.412Z"
   },
   {
    "duration": 32,
    "start_time": "2023-03-04T07:57:59.424Z"
   },
   {
    "duration": 15,
    "start_time": "2023-03-04T07:57:59.457Z"
   },
   {
    "duration": 13,
    "start_time": "2023-03-04T07:57:59.474Z"
   },
   {
    "duration": 12,
    "start_time": "2023-03-04T07:57:59.489Z"
   },
   {
    "duration": 11,
    "start_time": "2023-03-04T07:57:59.503Z"
   },
   {
    "duration": 43,
    "start_time": "2023-03-04T07:57:59.516Z"
   },
   {
    "duration": 12,
    "start_time": "2023-03-04T07:57:59.560Z"
   },
   {
    "duration": 8,
    "start_time": "2023-03-04T07:57:59.573Z"
   },
   {
    "duration": 131,
    "start_time": "2023-03-04T07:57:59.583Z"
   },
   {
    "duration": 235,
    "start_time": "2023-03-04T07:57:59.716Z"
   },
   {
    "duration": 49,
    "start_time": "2023-03-04T07:57:59.953Z"
   },
   {
    "duration": 18,
    "start_time": "2023-03-04T07:58:00.004Z"
   },
   {
    "duration": 34,
    "start_time": "2023-03-04T07:58:00.024Z"
   },
   {
    "duration": 62,
    "start_time": "2023-03-04T07:58:00.060Z"
   },
   {
    "duration": 26,
    "start_time": "2023-03-04T07:58:00.123Z"
   },
   {
    "duration": 29,
    "start_time": "2023-03-04T07:58:00.151Z"
   },
   {
    "duration": 11,
    "start_time": "2023-03-04T07:58:00.182Z"
   },
   {
    "duration": 14,
    "start_time": "2023-03-04T07:58:00.195Z"
   },
   {
    "duration": 18,
    "start_time": "2023-03-04T07:58:00.210Z"
   },
   {
    "duration": 57,
    "start_time": "2023-03-04T07:58:00.230Z"
   },
   {
    "duration": 50,
    "start_time": "2023-03-04T07:58:00.289Z"
   },
   {
    "duration": 53,
    "start_time": "2023-03-04T07:58:00.347Z"
   },
   {
    "duration": 70,
    "start_time": "2023-03-04T07:58:00.402Z"
   },
   {
    "duration": 50,
    "start_time": "2023-03-04T07:58:00.474Z"
   },
   {
    "duration": 34,
    "start_time": "2023-03-04T07:58:00.526Z"
   },
   {
    "duration": 50,
    "start_time": "2023-03-04T07:58:00.562Z"
   },
   {
    "duration": 39,
    "start_time": "2023-03-04T07:58:00.613Z"
   },
   {
    "duration": 22,
    "start_time": "2023-03-04T07:58:00.657Z"
   },
   {
    "duration": 18,
    "start_time": "2023-03-04T07:58:00.681Z"
   },
   {
    "duration": 35,
    "start_time": "2023-03-04T07:58:00.701Z"
   },
   {
    "duration": 33,
    "start_time": "2023-03-04T07:58:00.738Z"
   },
   {
    "duration": 24,
    "start_time": "2023-03-04T07:58:00.772Z"
   },
   {
    "duration": 47,
    "start_time": "2023-03-04T07:58:00.797Z"
   },
   {
    "duration": 30,
    "start_time": "2023-03-04T07:58:00.845Z"
   },
   {
    "duration": 58,
    "start_time": "2023-03-04T07:58:00.877Z"
   },
   {
    "duration": 30,
    "start_time": "2023-03-04T07:58:00.937Z"
   },
   {
    "duration": 25,
    "start_time": "2023-03-04T07:58:00.969Z"
   },
   {
    "duration": 43,
    "start_time": "2023-03-04T07:58:00.996Z"
   },
   {
    "duration": 2003,
    "start_time": "2023-03-04T07:58:01.041Z"
   },
   {
    "duration": 3,
    "start_time": "2023-03-04T07:58:03.046Z"
   },
   {
    "duration": 13,
    "start_time": "2023-03-04T07:58:03.050Z"
   },
   {
    "duration": 3,
    "start_time": "2023-03-04T07:58:03.065Z"
   },
   {
    "duration": 170,
    "start_time": "2023-03-04T07:58:03.069Z"
   },
   {
    "duration": 112,
    "start_time": "2023-03-04T07:58:03.240Z"
   },
   {
    "duration": 18,
    "start_time": "2023-03-04T07:58:03.354Z"
   },
   {
    "duration": 22,
    "start_time": "2023-03-04T07:58:03.374Z"
   },
   {
    "duration": 20,
    "start_time": "2023-03-04T07:58:03.398Z"
   },
   {
    "duration": 87,
    "start_time": "2023-03-04T07:58:08.545Z"
   },
   {
    "duration": 15,
    "start_time": "2023-03-04T07:58:11.729Z"
   },
   {
    "duration": 1364,
    "start_time": "2023-03-04T07:58:57.943Z"
   },
   {
    "duration": 2,
    "start_time": "2023-03-04T07:58:59.310Z"
   },
   {
    "duration": 856,
    "start_time": "2023-03-04T07:58:59.314Z"
   },
   {
    "duration": 3,
    "start_time": "2023-03-04T07:59:00.173Z"
   },
   {
    "duration": 440,
    "start_time": "2023-03-04T07:59:00.178Z"
   },
   {
    "duration": 3,
    "start_time": "2023-03-04T07:59:00.619Z"
   },
   {
    "duration": 45,
    "start_time": "2023-03-04T07:59:00.624Z"
   },
   {
    "duration": 113,
    "start_time": "2023-03-04T07:59:00.671Z"
   },
   {
    "duration": 312,
    "start_time": "2023-03-04T07:59:00.786Z"
   },
   {
    "duration": 2053,
    "start_time": "2023-03-04T07:59:01.101Z"
   },
   {
    "duration": 472,
    "start_time": "2023-03-04T07:59:03.155Z"
   },
   {
    "duration": 99,
    "start_time": "2023-03-04T07:59:03.629Z"
   },
   {
    "duration": 63,
    "start_time": "2023-03-04T07:59:03.729Z"
   },
   {
    "duration": 58,
    "start_time": "2023-03-04T07:59:03.793Z"
   },
   {
    "duration": 31,
    "start_time": "2023-03-04T07:59:03.853Z"
   },
   {
    "duration": 38,
    "start_time": "2023-03-04T07:59:03.886Z"
   },
   {
    "duration": 23,
    "start_time": "2023-03-04T07:59:03.926Z"
   },
   {
    "duration": 189,
    "start_time": "2023-03-04T07:59:03.950Z"
   },
   {
    "duration": 16,
    "start_time": "2023-03-04T07:59:04.148Z"
   },
   {
    "duration": 201,
    "start_time": "2023-03-04T07:59:04.165Z"
   },
   {
    "duration": 8,
    "start_time": "2023-03-04T07:59:04.367Z"
   },
   {
    "duration": 197,
    "start_time": "2023-03-04T07:59:04.377Z"
   },
   {
    "duration": 15,
    "start_time": "2023-03-04T07:59:04.575Z"
   },
   {
    "duration": 197,
    "start_time": "2023-03-04T07:59:04.592Z"
   },
   {
    "duration": 1100,
    "start_time": "2023-03-04T07:59:04.791Z"
   },
   {
    "duration": 281,
    "start_time": "2023-03-04T07:59:05.894Z"
   },
   {
    "duration": 7,
    "start_time": "2023-03-04T07:59:06.177Z"
   },
   {
    "duration": 4,
    "start_time": "2023-03-04T07:59:06.188Z"
   },
   {
    "duration": 63,
    "start_time": "2023-03-04T07:59:06.194Z"
   },
   {
    "duration": 7,
    "start_time": "2023-03-04T07:59:06.259Z"
   },
   {
    "duration": 16,
    "start_time": "2023-03-04T07:59:06.267Z"
   },
   {
    "duration": 65,
    "start_time": "2023-03-04T07:59:06.284Z"
   },
   {
    "duration": 201,
    "start_time": "2023-03-04T07:59:06.350Z"
   },
   {
    "duration": 99,
    "start_time": "2023-03-04T07:59:06.553Z"
   },
   {
    "duration": 227,
    "start_time": "2023-03-04T07:59:06.653Z"
   },
   {
    "duration": 221,
    "start_time": "2023-03-04T07:59:06.881Z"
   },
   {
    "duration": 227,
    "start_time": "2023-03-04T07:59:07.104Z"
   },
   {
    "duration": 225,
    "start_time": "2023-03-04T07:59:07.332Z"
   },
   {
    "duration": 46,
    "start_time": "2023-03-04T07:59:07.559Z"
   },
   {
    "duration": 264,
    "start_time": "2023-03-04T07:59:07.606Z"
   },
   {
    "duration": 13,
    "start_time": "2023-03-04T07:59:07.872Z"
   },
   {
    "duration": 12,
    "start_time": "2023-03-04T07:59:07.887Z"
   },
   {
    "duration": 12,
    "start_time": "2023-03-04T07:59:07.901Z"
   },
   {
    "duration": 38,
    "start_time": "2023-03-04T07:59:07.916Z"
   },
   {
    "duration": 13,
    "start_time": "2023-03-04T07:59:07.956Z"
   },
   {
    "duration": 35,
    "start_time": "2023-03-04T07:59:07.970Z"
   },
   {
    "duration": 31,
    "start_time": "2023-03-04T07:59:08.007Z"
   },
   {
    "duration": 30,
    "start_time": "2023-03-04T07:59:08.040Z"
   },
   {
    "duration": 17,
    "start_time": "2023-03-04T07:59:08.071Z"
   },
   {
    "duration": 18,
    "start_time": "2023-03-04T07:59:08.089Z"
   },
   {
    "duration": 121,
    "start_time": "2023-03-04T07:59:08.109Z"
   },
   {
    "duration": 239,
    "start_time": "2023-03-04T07:59:08.231Z"
   },
   {
    "duration": 46,
    "start_time": "2023-03-04T07:59:08.471Z"
   },
   {
    "duration": 29,
    "start_time": "2023-03-04T07:59:08.519Z"
   },
   {
    "duration": 11,
    "start_time": "2023-03-04T07:59:08.550Z"
   },
   {
    "duration": 50,
    "start_time": "2023-03-04T07:59:08.562Z"
   },
   {
    "duration": 40,
    "start_time": "2023-03-04T07:59:08.614Z"
   },
   {
    "duration": 24,
    "start_time": "2023-03-04T07:59:08.656Z"
   },
   {
    "duration": 11,
    "start_time": "2023-03-04T07:59:08.682Z"
   },
   {
    "duration": 15,
    "start_time": "2023-03-04T07:59:08.694Z"
   },
   {
    "duration": 20,
    "start_time": "2023-03-04T07:59:08.711Z"
   },
   {
    "duration": 54,
    "start_time": "2023-03-04T07:59:08.733Z"
   },
   {
    "duration": 61,
    "start_time": "2023-03-04T07:59:08.789Z"
   },
   {
    "duration": 47,
    "start_time": "2023-03-04T07:59:08.852Z"
   },
   {
    "duration": 62,
    "start_time": "2023-03-04T07:59:08.901Z"
   },
   {
    "duration": 49,
    "start_time": "2023-03-04T07:59:08.965Z"
   },
   {
    "duration": 39,
    "start_time": "2023-03-04T07:59:09.016Z"
   },
   {
    "duration": 10,
    "start_time": "2023-03-04T07:59:09.056Z"
   },
   {
    "duration": 12,
    "start_time": "2023-03-04T07:59:09.068Z"
   },
   {
    "duration": 16,
    "start_time": "2023-03-04T07:59:09.082Z"
   },
   {
    "duration": 14,
    "start_time": "2023-03-04T07:59:09.099Z"
   },
   {
    "duration": 29,
    "start_time": "2023-03-04T07:59:09.114Z"
   },
   {
    "duration": 18,
    "start_time": "2023-03-04T07:59:09.145Z"
   },
   {
    "duration": 13,
    "start_time": "2023-03-04T07:59:09.165Z"
   },
   {
    "duration": 16,
    "start_time": "2023-03-04T07:59:09.180Z"
   },
   {
    "duration": 12,
    "start_time": "2023-03-04T07:59:09.197Z"
   },
   {
    "duration": 12,
    "start_time": "2023-03-04T07:59:09.211Z"
   },
   {
    "duration": 17,
    "start_time": "2023-03-04T07:59:09.225Z"
   },
   {
    "duration": 11,
    "start_time": "2023-03-04T07:59:09.243Z"
   },
   {
    "duration": 25,
    "start_time": "2023-03-04T07:59:09.256Z"
   },
   {
    "duration": 1897,
    "start_time": "2023-03-04T07:59:09.283Z"
   },
   {
    "duration": 64,
    "start_time": "2023-03-04T07:59:11.187Z"
   },
   {
    "duration": 8,
    "start_time": "2023-03-04T07:59:11.253Z"
   },
   {
    "duration": 17,
    "start_time": "2023-03-04T07:59:11.263Z"
   },
   {
    "duration": 153,
    "start_time": "2023-03-04T07:59:11.282Z"
   },
   {
    "duration": 94,
    "start_time": "2023-03-04T07:59:11.437Z"
   },
   {
    "duration": 20,
    "start_time": "2023-03-04T07:59:11.533Z"
   },
   {
    "duration": 15,
    "start_time": "2023-03-04T07:59:11.554Z"
   },
   {
    "duration": 14,
    "start_time": "2023-03-04T07:59:11.571Z"
   },
   {
    "duration": 113,
    "start_time": "2023-03-04T07:59:11.586Z"
   },
   {
    "duration": 14,
    "start_time": "2023-03-04T07:59:11.700Z"
   },
   {
    "duration": 11,
    "start_time": "2023-03-04T07:59:11.715Z"
   },
   {
    "duration": 305,
    "start_time": "2023-03-04T07:59:11.728Z"
   },
   {
    "duration": 15,
    "start_time": "2023-03-04T07:59:12.035Z"
   },
   {
    "duration": 108,
    "start_time": "2023-03-04T07:59:12.052Z"
   },
   {
    "duration": 12,
    "start_time": "2023-03-04T07:59:12.162Z"
   },
   {
    "duration": 20,
    "start_time": "2023-03-04T07:59:46.885Z"
   },
   {
    "duration": 3,
    "start_time": "2023-03-04T07:59:50.502Z"
   },
   {
    "duration": 3,
    "start_time": "2023-03-04T07:59:55.027Z"
   },
   {
    "duration": 15265,
    "start_time": "2023-03-04T08:00:03.043Z"
   },
   {
    "duration": 4,
    "start_time": "2023-03-04T08:05:59.194Z"
   },
   {
    "duration": 6,
    "start_time": "2023-03-04T08:05:59.200Z"
   },
   {
    "duration": 903,
    "start_time": "2023-03-04T08:05:59.208Z"
   },
   {
    "duration": 3,
    "start_time": "2023-03-04T08:06:00.113Z"
   },
   {
    "duration": 435,
    "start_time": "2023-03-04T08:06:00.117Z"
   },
   {
    "duration": 4,
    "start_time": "2023-03-04T08:06:00.554Z"
   },
   {
    "duration": 88,
    "start_time": "2023-03-04T08:06:00.559Z"
   },
   {
    "duration": 139,
    "start_time": "2023-03-04T08:06:00.649Z"
   },
   {
    "duration": 324,
    "start_time": "2023-03-04T08:06:00.790Z"
   },
   {
    "duration": 2026,
    "start_time": "2023-03-04T08:06:01.116Z"
   },
   {
    "duration": 466,
    "start_time": "2023-03-04T08:06:03.144Z"
   },
   {
    "duration": 86,
    "start_time": "2023-03-04T08:06:03.613Z"
   },
   {
    "duration": 61,
    "start_time": "2023-03-04T08:06:03.701Z"
   },
   {
    "duration": 43,
    "start_time": "2023-03-04T08:06:03.763Z"
   },
   {
    "duration": 55,
    "start_time": "2023-03-04T08:06:03.807Z"
   },
   {
    "duration": 39,
    "start_time": "2023-03-04T08:06:03.864Z"
   },
   {
    "duration": 8,
    "start_time": "2023-03-04T08:06:03.905Z"
   },
   {
    "duration": 187,
    "start_time": "2023-03-04T08:06:03.914Z"
   },
   {
    "duration": 15,
    "start_time": "2023-03-04T08:06:04.103Z"
   },
   {
    "duration": 258,
    "start_time": "2023-03-04T08:06:04.120Z"
   },
   {
    "duration": 9,
    "start_time": "2023-03-04T08:06:04.380Z"
   },
   {
    "duration": 212,
    "start_time": "2023-03-04T08:06:04.390Z"
   },
   {
    "duration": 16,
    "start_time": "2023-03-04T08:06:04.603Z"
   },
   {
    "duration": 189,
    "start_time": "2023-03-04T08:06:04.621Z"
   },
   {
    "duration": 1153,
    "start_time": "2023-03-04T08:06:04.812Z"
   },
   {
    "duration": 267,
    "start_time": "2023-03-04T08:06:05.967Z"
   },
   {
    "duration": 12,
    "start_time": "2023-03-04T08:06:06.236Z"
   },
   {
    "duration": 20,
    "start_time": "2023-03-04T08:06:06.250Z"
   },
   {
    "duration": 60,
    "start_time": "2023-03-04T08:06:06.272Z"
   },
   {
    "duration": 6,
    "start_time": "2023-03-04T08:06:06.336Z"
   },
   {
    "duration": 25,
    "start_time": "2023-03-04T08:06:06.344Z"
   },
   {
    "duration": 54,
    "start_time": "2023-03-04T08:06:06.372Z"
   },
   {
    "duration": 221,
    "start_time": "2023-03-04T08:06:06.427Z"
   },
   {
    "duration": 98,
    "start_time": "2023-03-04T08:06:06.650Z"
   },
   {
    "duration": 242,
    "start_time": "2023-03-04T08:06:06.750Z"
   },
   {
    "duration": 231,
    "start_time": "2023-03-04T08:06:06.994Z"
   },
   {
    "duration": 233,
    "start_time": "2023-03-04T08:06:07.227Z"
   },
   {
    "duration": 242,
    "start_time": "2023-03-04T08:06:07.462Z"
   },
   {
    "duration": 54,
    "start_time": "2023-03-04T08:06:07.705Z"
   },
   {
    "duration": 280,
    "start_time": "2023-03-04T08:06:07.760Z"
   },
   {
    "duration": 17,
    "start_time": "2023-03-04T08:06:08.041Z"
   },
   {
    "duration": 27,
    "start_time": "2023-03-04T08:06:08.059Z"
   },
   {
    "duration": 16,
    "start_time": "2023-03-04T08:06:08.088Z"
   },
   {
    "duration": 16,
    "start_time": "2023-03-04T08:06:08.106Z"
   },
   {
    "duration": 28,
    "start_time": "2023-03-04T08:06:08.124Z"
   },
   {
    "duration": 14,
    "start_time": "2023-03-04T08:06:08.154Z"
   },
   {
    "duration": 10,
    "start_time": "2023-03-04T08:06:08.170Z"
   },
   {
    "duration": 16,
    "start_time": "2023-03-04T08:06:08.182Z"
   },
   {
    "duration": 26,
    "start_time": "2023-03-04T08:06:08.200Z"
   },
   {
    "duration": 20,
    "start_time": "2023-03-04T08:06:08.228Z"
   },
   {
    "duration": 134,
    "start_time": "2023-03-04T08:06:08.250Z"
   },
   {
    "duration": 246,
    "start_time": "2023-03-04T08:06:08.386Z"
   },
   {
    "duration": 50,
    "start_time": "2023-03-04T08:06:08.634Z"
   },
   {
    "duration": 19,
    "start_time": "2023-03-04T08:06:08.686Z"
   },
   {
    "duration": 25,
    "start_time": "2023-03-04T08:06:08.707Z"
   },
   {
    "duration": 55,
    "start_time": "2023-03-04T08:06:08.734Z"
   },
   {
    "duration": 29,
    "start_time": "2023-03-04T08:06:08.791Z"
   },
   {
    "duration": 39,
    "start_time": "2023-03-04T08:06:08.822Z"
   },
   {
    "duration": 13,
    "start_time": "2023-03-04T08:06:08.863Z"
   },
   {
    "duration": 5,
    "start_time": "2023-03-04T08:06:08.878Z"
   },
   {
    "duration": 10,
    "start_time": "2023-03-04T08:06:11.564Z"
   },
   {
    "duration": 87,
    "start_time": "2023-03-04T08:06:14.390Z"
   },
   {
    "duration": 230,
    "start_time": "2023-03-04T08:06:38.071Z"
   },
   {
    "duration": 283,
    "start_time": "2023-03-04T08:06:55.811Z"
   },
   {
    "duration": 227,
    "start_time": "2023-03-04T08:07:15.243Z"
   },
   {
    "duration": 25,
    "start_time": "2023-03-04T08:07:35.448Z"
   },
   {
    "duration": 202,
    "start_time": "2023-03-04T08:07:48.831Z"
   },
   {
    "duration": 23,
    "start_time": "2023-03-04T08:07:54.430Z"
   },
   {
    "duration": 21,
    "start_time": "2023-03-04T08:07:59.878Z"
   },
   {
    "duration": 14,
    "start_time": "2023-03-04T08:08:10.736Z"
   },
   {
    "duration": 14,
    "start_time": "2023-03-04T08:08:26.608Z"
   },
   {
    "duration": 1402,
    "start_time": "2023-03-04T08:08:57.114Z"
   },
   {
    "duration": 2,
    "start_time": "2023-03-04T08:08:58.518Z"
   },
   {
    "duration": 903,
    "start_time": "2023-03-04T08:08:58.522Z"
   },
   {
    "duration": 3,
    "start_time": "2023-03-04T08:08:59.427Z"
   },
   {
    "duration": 420,
    "start_time": "2023-03-04T08:08:59.431Z"
   },
   {
    "duration": 3,
    "start_time": "2023-03-04T08:08:59.853Z"
   },
   {
    "duration": 45,
    "start_time": "2023-03-04T08:08:59.857Z"
   },
   {
    "duration": 102,
    "start_time": "2023-03-04T08:08:59.904Z"
   },
   {
    "duration": 340,
    "start_time": "2023-03-04T08:09:00.008Z"
   },
   {
    "duration": 2130,
    "start_time": "2023-03-04T08:09:00.352Z"
   },
   {
    "duration": 436,
    "start_time": "2023-03-04T08:09:02.483Z"
   },
   {
    "duration": 93,
    "start_time": "2023-03-04T08:09:02.921Z"
   },
   {
    "duration": 57,
    "start_time": "2023-03-04T08:09:03.015Z"
   },
   {
    "duration": 43,
    "start_time": "2023-03-04T08:09:03.074Z"
   },
   {
    "duration": 55,
    "start_time": "2023-03-04T08:09:03.119Z"
   },
   {
    "duration": 43,
    "start_time": "2023-03-04T08:09:03.177Z"
   },
   {
    "duration": 8,
    "start_time": "2023-03-04T08:09:03.222Z"
   },
   {
    "duration": 185,
    "start_time": "2023-03-04T08:09:03.247Z"
   },
   {
    "duration": 22,
    "start_time": "2023-03-04T08:09:03.434Z"
   },
   {
    "duration": 203,
    "start_time": "2023-03-04T08:09:03.458Z"
   },
   {
    "duration": 7,
    "start_time": "2023-03-04T08:09:03.663Z"
   },
   {
    "duration": 200,
    "start_time": "2023-03-04T08:09:03.671Z"
   },
   {
    "duration": 16,
    "start_time": "2023-03-04T08:09:03.873Z"
   },
   {
    "duration": 199,
    "start_time": "2023-03-04T08:09:03.891Z"
   },
   {
    "duration": 1108,
    "start_time": "2023-03-04T08:09:04.092Z"
   },
   {
    "duration": 265,
    "start_time": "2023-03-04T08:09:05.202Z"
   },
   {
    "duration": 8,
    "start_time": "2023-03-04T08:09:05.469Z"
   },
   {
    "duration": 6,
    "start_time": "2023-03-04T08:09:05.481Z"
   },
   {
    "duration": 60,
    "start_time": "2023-03-04T08:09:05.489Z"
   },
   {
    "duration": 7,
    "start_time": "2023-03-04T08:09:05.550Z"
   },
   {
    "duration": 16,
    "start_time": "2023-03-04T08:09:05.558Z"
   },
   {
    "duration": 47,
    "start_time": "2023-03-04T08:09:05.576Z"
   },
   {
    "duration": 250,
    "start_time": "2023-03-04T08:09:05.625Z"
   },
   {
    "duration": 131,
    "start_time": "2023-03-04T08:09:05.877Z"
   },
   {
    "duration": 247,
    "start_time": "2023-03-04T08:09:06.010Z"
   },
   {
    "duration": 224,
    "start_time": "2023-03-04T08:09:06.260Z"
   },
   {
    "duration": 226,
    "start_time": "2023-03-04T08:09:06.486Z"
   },
   {
    "duration": 232,
    "start_time": "2023-03-04T08:09:06.714Z"
   },
   {
    "duration": 49,
    "start_time": "2023-03-04T08:09:06.948Z"
   },
   {
    "duration": 265,
    "start_time": "2023-03-04T08:09:06.999Z"
   },
   {
    "duration": 13,
    "start_time": "2023-03-04T08:09:07.266Z"
   },
   {
    "duration": 25,
    "start_time": "2023-03-04T08:09:07.280Z"
   },
   {
    "duration": 12,
    "start_time": "2023-03-04T08:09:07.306Z"
   },
   {
    "duration": 38,
    "start_time": "2023-03-04T08:09:07.319Z"
   },
   {
    "duration": 14,
    "start_time": "2023-03-04T08:09:07.358Z"
   },
   {
    "duration": 18,
    "start_time": "2023-03-04T08:09:07.373Z"
   },
   {
    "duration": 26,
    "start_time": "2023-03-04T08:09:07.392Z"
   },
   {
    "duration": 14,
    "start_time": "2023-03-04T08:09:07.419Z"
   },
   {
    "duration": 17,
    "start_time": "2023-03-04T08:09:07.435Z"
   },
   {
    "duration": 7,
    "start_time": "2023-03-04T08:09:07.453Z"
   },
   {
    "duration": 124,
    "start_time": "2023-03-04T08:09:07.461Z"
   },
   {
    "duration": 233,
    "start_time": "2023-03-04T08:09:07.586Z"
   },
   {
    "duration": 54,
    "start_time": "2023-03-04T08:09:07.821Z"
   },
   {
    "duration": 17,
    "start_time": "2023-03-04T08:09:07.876Z"
   },
   {
    "duration": 12,
    "start_time": "2023-03-04T08:09:07.895Z"
   },
   {
    "duration": 65,
    "start_time": "2023-03-04T08:09:07.909Z"
   },
   {
    "duration": 27,
    "start_time": "2023-03-04T08:09:07.976Z"
   },
   {
    "duration": 43,
    "start_time": "2023-03-04T08:09:08.005Z"
   },
   {
    "duration": 13,
    "start_time": "2023-03-04T08:09:08.050Z"
   },
   {
    "duration": 5,
    "start_time": "2023-03-04T08:09:08.065Z"
   },
   {
    "duration": 10,
    "start_time": "2023-03-04T08:09:08.071Z"
   },
   {
    "duration": 107,
    "start_time": "2023-03-04T08:09:08.083Z"
   },
   {
    "duration": 216,
    "start_time": "2023-03-04T08:09:08.192Z"
   },
   {
    "duration": 205,
    "start_time": "2023-03-04T08:09:08.410Z"
   },
   {
    "duration": 207,
    "start_time": "2023-03-04T08:09:08.617Z"
   },
   {
    "duration": 208,
    "start_time": "2023-03-04T08:09:08.826Z"
   },
   {
    "duration": 26,
    "start_time": "2023-03-04T08:09:09.035Z"
   },
   {
    "duration": 6,
    "start_time": "2023-03-04T08:09:09.062Z"
   },
   {
    "duration": 22,
    "start_time": "2023-03-04T08:09:09.070Z"
   },
   {
    "duration": 11,
    "start_time": "2023-03-04T08:09:09.094Z"
   },
   {
    "duration": 6,
    "start_time": "2023-03-04T08:09:09.107Z"
   },
   {
    "duration": 6,
    "start_time": "2023-03-04T08:09:09.115Z"
   },
   {
    "duration": 6,
    "start_time": "2023-03-04T08:09:09.123Z"
   },
   {
    "duration": 11,
    "start_time": "2023-03-04T08:09:09.131Z"
   },
   {
    "duration": 8,
    "start_time": "2023-03-04T08:09:09.143Z"
   },
   {
    "duration": 30,
    "start_time": "2023-03-04T08:09:09.152Z"
   },
   {
    "duration": 14,
    "start_time": "2023-03-04T08:09:09.184Z"
   },
   {
    "duration": 20,
    "start_time": "2023-03-04T08:09:09.200Z"
   },
   {
    "duration": 8,
    "start_time": "2023-03-04T08:09:09.222Z"
   },
   {
    "duration": 30,
    "start_time": "2023-03-04T08:09:09.231Z"
   },
   {
    "duration": 1860,
    "start_time": "2023-03-04T08:09:09.263Z"
   },
   {
    "duration": 61,
    "start_time": "2023-03-04T08:09:11.129Z"
   },
   {
    "duration": 15,
    "start_time": "2023-03-04T08:09:11.191Z"
   },
   {
    "duration": 8,
    "start_time": "2023-03-04T08:09:11.208Z"
   },
   {
    "duration": 378,
    "start_time": "2023-03-04T08:09:11.217Z"
   },
   {
    "duration": 381,
    "start_time": "2023-03-04T08:09:11.597Z"
   },
   {
    "duration": 19,
    "start_time": "2023-03-04T08:09:11.980Z"
   },
   {
    "duration": 57,
    "start_time": "2023-03-04T08:09:12.000Z"
   },
   {
    "duration": 21,
    "start_time": "2023-03-04T08:09:12.059Z"
   },
   {
    "duration": 96,
    "start_time": "2023-03-04T08:09:12.082Z"
   },
   {
    "duration": 11,
    "start_time": "2023-03-04T08:09:12.180Z"
   },
   {
    "duration": 17,
    "start_time": "2023-03-04T08:09:12.193Z"
   },
   {
    "duration": 647,
    "start_time": "2023-03-04T08:09:12.211Z"
   },
   {
    "duration": 16,
    "start_time": "2023-03-04T08:09:12.859Z"
   },
   {
    "duration": 103,
    "start_time": "2023-03-04T08:09:12.876Z"
   },
   {
    "duration": 13,
    "start_time": "2023-03-04T08:09:12.980Z"
   },
   {
    "duration": 23,
    "start_time": "2023-03-04T08:10:07.538Z"
   },
   {
    "duration": 3,
    "start_time": "2023-03-04T08:10:09.674Z"
   },
   {
    "duration": 4,
    "start_time": "2023-03-04T08:10:13.030Z"
   },
   {
    "duration": 71113,
    "start_time": "2023-03-04T08:10:17.373Z"
   },
   {
    "duration": 5,
    "start_time": "2023-03-04T08:11:32.661Z"
   },
   {
    "duration": 4,
    "start_time": "2023-03-04T08:11:38.960Z"
   },
   {
    "duration": 7,
    "start_time": "2023-03-04T08:11:46.441Z"
   },
   {
    "duration": 17,
    "start_time": "2023-03-04T08:12:00.504Z"
   },
   {
    "duration": 2029,
    "start_time": "2023-03-04T08:12:29.879Z"
   },
   {
    "duration": 3,
    "start_time": "2023-03-04T08:13:09.202Z"
   },
   {
    "duration": 2533,
    "start_time": "2023-03-04T08:13:12.659Z"
   },
   {
    "duration": 17,
    "start_time": "2023-03-04T08:13:18.893Z"
   },
   {
    "duration": 8,
    "start_time": "2023-03-04T08:15:02.475Z"
   }
  ],
  "kernelspec": {
   "display_name": "Python 3",
   "language": "python",
   "name": "python3"
  },
  "language_info": {
   "codemirror_mode": {
    "name": "ipython",
    "version": 3
   },
   "file_extension": ".py",
   "mimetype": "text/x-python",
   "name": "python",
   "nbconvert_exporter": "python",
   "pygments_lexer": "ipython3",
   "version": "3.8.5"
  },
  "toc": {
   "base_numbering": 1,
   "nav_menu": {},
   "number_sections": true,
   "sideBar": true,
   "skip_h1_title": true,
   "title_cell": "Table of Contents",
   "title_sidebar": "Contents",
   "toc_cell": false,
   "toc_position": {
    "height": "calc(100% - 180px)",
    "left": "10px",
    "top": "150px",
    "width": "289.797px"
   },
   "toc_section_display": true,
   "toc_window_display": true
  }
 },
 "nbformat": 4,
 "nbformat_minor": 2
}
