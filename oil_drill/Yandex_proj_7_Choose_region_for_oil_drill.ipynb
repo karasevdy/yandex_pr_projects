{
 "cells": [
  {
   "cell_type": "markdown",
   "metadata": {},
   "source": [
    "# Выбор локации для скважины"
   ]
  },
  {
   "cell_type": "markdown",
   "metadata": {},
   "source": [
    "Допустим, вы работаете в добывающей компании «ГлавРосГосНефть». Нужно решить, где бурить новую скважину.\n",
    "\n",
    "Вам предоставлены пробы нефти в трёх регионах: в каждом 10 000 месторождений, где измерили качество нефти и объём её запасов. Постройте модель машинного обучения, которая поможет определить регион, где добыча принесёт наибольшую прибыль. Проанализируйте возможную прибыль и риски техникой *Bootstrap.*\n",
    "\n",
    "Шаги для выбора локации:\n",
    "\n",
    "- В избранном регионе ищут месторождения, для каждого определяют значения признаков;\n",
    "- Строят модель и оценивают объём запасов;\n",
    "- Выбирают месторождения с самым высокими оценками значений. Количество месторождений зависит от бюджета компании и стоимости разработки одной скважины;\n",
    "- Прибыль равна суммарной прибыли отобранных месторождений."
   ]
  },
  {
   "cell_type": "markdown",
   "metadata": {},
   "source": [
    "## Загрузка и подготовка данных"
   ]
  },
  {
   "cell_type": "code",
   "execution_count": 104,
   "metadata": {},
   "outputs": [],
   "source": [
    "# загрузка пакетов\n",
    "import pandas as pd\n",
    "import numpy as np\n",
    "import matplotlib.pyplot as plt\n",
    "import seaborn as sns\n",
    "\n",
    "from sklearn.model_selection import train_test_split # разбивка выборки на обучающую и валидационную\n",
    "from sklearn.preprocessing import StandardScaler # масштабирование\n",
    "from sklearn.metrics import mean_squared_error # средняя квадратичная ошибка (MSE)\n",
    "# Функция mean_squared_error принимает на вход только последовательности (Series). \n",
    "# Создать последовательность из средних значений можно так:\n",
    "# predictions = pd.Series(target.mean(), index=target.index)\n",
    "# rmse = mse**0.5 - корень из средней квадратичной ошибки (его необходимо минимизировать)\n",
    "from sklearn.linear_model import LinearRegression # линейная регрессиия (по условию)\n",
    "\n"
   ]
  },
  {
   "cell_type": "code",
   "execution_count": 105,
   "metadata": {},
   "outputs": [],
   "source": [
    "# загрузка данных\n",
    "df_0 = pd.read_csv('/datasets/geo_data_0.csv')\n",
    "df_1 = pd.read_csv('/datasets/geo_data_1.csv')\n",
    "df_2 = pd.read_csv('/datasets/geo_data_2.csv')"
   ]
  },
  {
   "cell_type": "code",
   "execution_count": 106,
   "metadata": {
    "scrolled": false
   },
   "outputs": [
    {
     "data": {
      "text/html": [
       "<div>\n",
       "<style scoped>\n",
       "    .dataframe tbody tr th:only-of-type {\n",
       "        vertical-align: middle;\n",
       "    }\n",
       "\n",
       "    .dataframe tbody tr th {\n",
       "        vertical-align: top;\n",
       "    }\n",
       "\n",
       "    .dataframe thead th {\n",
       "        text-align: right;\n",
       "    }\n",
       "</style>\n",
       "<table border=\"1\" class=\"dataframe\">\n",
       "  <thead>\n",
       "    <tr style=\"text-align: right;\">\n",
       "      <th></th>\n",
       "      <th>id</th>\n",
       "      <th>f0</th>\n",
       "      <th>f1</th>\n",
       "      <th>f2</th>\n",
       "      <th>product</th>\n",
       "    </tr>\n",
       "  </thead>\n",
       "  <tbody>\n",
       "    <tr>\n",
       "      <th>77719</th>\n",
       "      <td>OQyxj</td>\n",
       "      <td>1.311434</td>\n",
       "      <td>-0.390806</td>\n",
       "      <td>2.870755</td>\n",
       "      <td>81.452962</td>\n",
       "    </tr>\n",
       "    <tr>\n",
       "      <th>46360</th>\n",
       "      <td>ERjGN</td>\n",
       "      <td>1.116734</td>\n",
       "      <td>-0.510135</td>\n",
       "      <td>-0.842409</td>\n",
       "      <td>63.039674</td>\n",
       "    </tr>\n",
       "    <tr>\n",
       "      <th>7810</th>\n",
       "      <td>kmrUg</td>\n",
       "      <td>0.383558</td>\n",
       "      <td>-0.303198</td>\n",
       "      <td>7.590841</td>\n",
       "      <td>148.810905</td>\n",
       "    </tr>\n",
       "    <tr>\n",
       "      <th>1207</th>\n",
       "      <td>bF6MI</td>\n",
       "      <td>1.878740</td>\n",
       "      <td>0.138679</td>\n",
       "      <td>3.699660</td>\n",
       "      <td>149.843763</td>\n",
       "    </tr>\n",
       "    <tr>\n",
       "      <th>34157</th>\n",
       "      <td>tnxRY</td>\n",
       "      <td>-0.060117</td>\n",
       "      <td>0.705429</td>\n",
       "      <td>6.709464</td>\n",
       "      <td>100.042555</td>\n",
       "    </tr>\n",
       "    <tr>\n",
       "      <th>64787</th>\n",
       "      <td>0fkAL</td>\n",
       "      <td>0.598243</td>\n",
       "      <td>0.915059</td>\n",
       "      <td>0.639553</td>\n",
       "      <td>25.469440</td>\n",
       "    </tr>\n",
       "    <tr>\n",
       "      <th>84664</th>\n",
       "      <td>LoR5Y</td>\n",
       "      <td>0.478235</td>\n",
       "      <td>-0.477957</td>\n",
       "      <td>4.586196</td>\n",
       "      <td>156.857872</td>\n",
       "    </tr>\n",
       "    <tr>\n",
       "      <th>55185</th>\n",
       "      <td>lnpGn</td>\n",
       "      <td>0.198176</td>\n",
       "      <td>0.957288</td>\n",
       "      <td>-2.922813</td>\n",
       "      <td>89.489867</td>\n",
       "    </tr>\n",
       "    <tr>\n",
       "      <th>57271</th>\n",
       "      <td>qyUxG</td>\n",
       "      <td>1.919633</td>\n",
       "      <td>-0.336416</td>\n",
       "      <td>0.251950</td>\n",
       "      <td>46.530238</td>\n",
       "    </tr>\n",
       "    <tr>\n",
       "      <th>33245</th>\n",
       "      <td>TMvtm</td>\n",
       "      <td>0.025170</td>\n",
       "      <td>0.903953</td>\n",
       "      <td>-3.447791</td>\n",
       "      <td>116.468204</td>\n",
       "    </tr>\n",
       "  </tbody>\n",
       "</table>\n",
       "</div>"
      ],
      "text/plain": [
       "          id        f0        f1        f2     product\n",
       "77719  OQyxj  1.311434 -0.390806  2.870755   81.452962\n",
       "46360  ERjGN  1.116734 -0.510135 -0.842409   63.039674\n",
       "7810   kmrUg  0.383558 -0.303198  7.590841  148.810905\n",
       "1207   bF6MI  1.878740  0.138679  3.699660  149.843763\n",
       "34157  tnxRY -0.060117  0.705429  6.709464  100.042555\n",
       "64787  0fkAL  0.598243  0.915059  0.639553   25.469440\n",
       "84664  LoR5Y  0.478235 -0.477957  4.586196  156.857872\n",
       "55185  lnpGn  0.198176  0.957288 -2.922813   89.489867\n",
       "57271  qyUxG  1.919633 -0.336416  0.251950   46.530238\n",
       "33245  TMvtm  0.025170  0.903953 -3.447791  116.468204"
      ]
     },
     "metadata": {},
     "output_type": "display_data"
    },
    {
     "data": {
      "text/html": [
       "<div>\n",
       "<style scoped>\n",
       "    .dataframe tbody tr th:only-of-type {\n",
       "        vertical-align: middle;\n",
       "    }\n",
       "\n",
       "    .dataframe tbody tr th {\n",
       "        vertical-align: top;\n",
       "    }\n",
       "\n",
       "    .dataframe thead th {\n",
       "        text-align: right;\n",
       "    }\n",
       "</style>\n",
       "<table border=\"1\" class=\"dataframe\">\n",
       "  <thead>\n",
       "    <tr style=\"text-align: right;\">\n",
       "      <th></th>\n",
       "      <th>id</th>\n",
       "      <th>f0</th>\n",
       "      <th>f1</th>\n",
       "      <th>f2</th>\n",
       "      <th>product</th>\n",
       "    </tr>\n",
       "  </thead>\n",
       "  <tbody>\n",
       "    <tr>\n",
       "      <th>72140</th>\n",
       "      <td>Hbsot</td>\n",
       "      <td>-10.878171</td>\n",
       "      <td>-6.648300</td>\n",
       "      <td>1.999673</td>\n",
       "      <td>57.085625</td>\n",
       "    </tr>\n",
       "    <tr>\n",
       "      <th>48255</th>\n",
       "      <td>4O5P0</td>\n",
       "      <td>10.720578</td>\n",
       "      <td>-3.034012</td>\n",
       "      <td>-0.004768</td>\n",
       "      <td>0.000000</td>\n",
       "    </tr>\n",
       "    <tr>\n",
       "      <th>83345</th>\n",
       "      <td>88UZ9</td>\n",
       "      <td>-10.798711</td>\n",
       "      <td>-11.338982</td>\n",
       "      <td>3.003887</td>\n",
       "      <td>84.038886</td>\n",
       "    </tr>\n",
       "    <tr>\n",
       "      <th>53594</th>\n",
       "      <td>EHVbS</td>\n",
       "      <td>-7.901871</td>\n",
       "      <td>-4.144867</td>\n",
       "      <td>2.000869</td>\n",
       "      <td>57.085625</td>\n",
       "    </tr>\n",
       "    <tr>\n",
       "      <th>17489</th>\n",
       "      <td>KW6SH</td>\n",
       "      <td>0.989747</td>\n",
       "      <td>-4.386948</td>\n",
       "      <td>-0.000660</td>\n",
       "      <td>3.179103</td>\n",
       "    </tr>\n",
       "    <tr>\n",
       "      <th>18763</th>\n",
       "      <td>It0Ac</td>\n",
       "      <td>-12.057777</td>\n",
       "      <td>-2.303237</td>\n",
       "      <td>3.000403</td>\n",
       "      <td>84.038886</td>\n",
       "    </tr>\n",
       "    <tr>\n",
       "      <th>28218</th>\n",
       "      <td>opS01</td>\n",
       "      <td>4.552226</td>\n",
       "      <td>-17.392765</td>\n",
       "      <td>3.999682</td>\n",
       "      <td>107.813044</td>\n",
       "    </tr>\n",
       "    <tr>\n",
       "      <th>45257</th>\n",
       "      <td>2woJY</td>\n",
       "      <td>5.856896</td>\n",
       "      <td>-1.263503</td>\n",
       "      <td>0.995640</td>\n",
       "      <td>30.132364</td>\n",
       "    </tr>\n",
       "    <tr>\n",
       "      <th>81940</th>\n",
       "      <td>c65RF</td>\n",
       "      <td>11.618006</td>\n",
       "      <td>-2.290246</td>\n",
       "      <td>3.998256</td>\n",
       "      <td>107.813044</td>\n",
       "    </tr>\n",
       "    <tr>\n",
       "      <th>13839</th>\n",
       "      <td>LMOVg</td>\n",
       "      <td>9.247561</td>\n",
       "      <td>-0.593167</td>\n",
       "      <td>1.996861</td>\n",
       "      <td>53.906522</td>\n",
       "    </tr>\n",
       "  </tbody>\n",
       "</table>\n",
       "</div>"
      ],
      "text/plain": [
       "          id         f0         f1        f2     product\n",
       "72140  Hbsot -10.878171  -6.648300  1.999673   57.085625\n",
       "48255  4O5P0  10.720578  -3.034012 -0.004768    0.000000\n",
       "83345  88UZ9 -10.798711 -11.338982  3.003887   84.038886\n",
       "53594  EHVbS  -7.901871  -4.144867  2.000869   57.085625\n",
       "17489  KW6SH   0.989747  -4.386948 -0.000660    3.179103\n",
       "18763  It0Ac -12.057777  -2.303237  3.000403   84.038886\n",
       "28218  opS01   4.552226 -17.392765  3.999682  107.813044\n",
       "45257  2woJY   5.856896  -1.263503  0.995640   30.132364\n",
       "81940  c65RF  11.618006  -2.290246  3.998256  107.813044\n",
       "13839  LMOVg   9.247561  -0.593167  1.996861   53.906522"
      ]
     },
     "metadata": {},
     "output_type": "display_data"
    },
    {
     "data": {
      "text/html": [
       "<div>\n",
       "<style scoped>\n",
       "    .dataframe tbody tr th:only-of-type {\n",
       "        vertical-align: middle;\n",
       "    }\n",
       "\n",
       "    .dataframe tbody tr th {\n",
       "        vertical-align: top;\n",
       "    }\n",
       "\n",
       "    .dataframe thead th {\n",
       "        text-align: right;\n",
       "    }\n",
       "</style>\n",
       "<table border=\"1\" class=\"dataframe\">\n",
       "  <thead>\n",
       "    <tr style=\"text-align: right;\">\n",
       "      <th></th>\n",
       "      <th>id</th>\n",
       "      <th>f0</th>\n",
       "      <th>f1</th>\n",
       "      <th>f2</th>\n",
       "      <th>product</th>\n",
       "    </tr>\n",
       "  </thead>\n",
       "  <tbody>\n",
       "    <tr>\n",
       "      <th>25952</th>\n",
       "      <td>DDngO</td>\n",
       "      <td>0.485428</td>\n",
       "      <td>1.643474</td>\n",
       "      <td>3.985457</td>\n",
       "      <td>86.712564</td>\n",
       "    </tr>\n",
       "    <tr>\n",
       "      <th>74409</th>\n",
       "      <td>Rjayz</td>\n",
       "      <td>-0.530173</td>\n",
       "      <td>0.079807</td>\n",
       "      <td>6.172318</td>\n",
       "      <td>114.634830</td>\n",
       "    </tr>\n",
       "    <tr>\n",
       "      <th>42932</th>\n",
       "      <td>dNTcJ</td>\n",
       "      <td>-0.678037</td>\n",
       "      <td>2.007469</td>\n",
       "      <td>-0.536417</td>\n",
       "      <td>77.016773</td>\n",
       "    </tr>\n",
       "    <tr>\n",
       "      <th>33052</th>\n",
       "      <td>biAkd</td>\n",
       "      <td>0.696867</td>\n",
       "      <td>-0.407383</td>\n",
       "      <td>-3.409472</td>\n",
       "      <td>80.960026</td>\n",
       "    </tr>\n",
       "    <tr>\n",
       "      <th>44035</th>\n",
       "      <td>HafUV</td>\n",
       "      <td>-1.106825</td>\n",
       "      <td>-0.826546</td>\n",
       "      <td>2.938541</td>\n",
       "      <td>85.738384</td>\n",
       "    </tr>\n",
       "    <tr>\n",
       "      <th>86</th>\n",
       "      <td>JITeV</td>\n",
       "      <td>-1.113754</td>\n",
       "      <td>-0.179279</td>\n",
       "      <td>5.944989</td>\n",
       "      <td>147.198142</td>\n",
       "    </tr>\n",
       "    <tr>\n",
       "      <th>15831</th>\n",
       "      <td>og79J</td>\n",
       "      <td>-0.432754</td>\n",
       "      <td>-1.672285</td>\n",
       "      <td>2.108807</td>\n",
       "      <td>59.533327</td>\n",
       "    </tr>\n",
       "    <tr>\n",
       "      <th>10927</th>\n",
       "      <td>4S0Ew</td>\n",
       "      <td>-0.704854</td>\n",
       "      <td>0.322829</td>\n",
       "      <td>1.848182</td>\n",
       "      <td>41.912113</td>\n",
       "    </tr>\n",
       "    <tr>\n",
       "      <th>18631</th>\n",
       "      <td>O2fSf</td>\n",
       "      <td>1.626727</td>\n",
       "      <td>3.520031</td>\n",
       "      <td>0.195380</td>\n",
       "      <td>91.354129</td>\n",
       "    </tr>\n",
       "    <tr>\n",
       "      <th>52480</th>\n",
       "      <td>Fzgg4</td>\n",
       "      <td>-2.257173</td>\n",
       "      <td>-2.841505</td>\n",
       "      <td>-2.203483</td>\n",
       "      <td>88.483099</td>\n",
       "    </tr>\n",
       "  </tbody>\n",
       "</table>\n",
       "</div>"
      ],
      "text/plain": [
       "          id        f0        f1        f2     product\n",
       "25952  DDngO  0.485428  1.643474  3.985457   86.712564\n",
       "74409  Rjayz -0.530173  0.079807  6.172318  114.634830\n",
       "42932  dNTcJ -0.678037  2.007469 -0.536417   77.016773\n",
       "33052  biAkd  0.696867 -0.407383 -3.409472   80.960026\n",
       "44035  HafUV -1.106825 -0.826546  2.938541   85.738384\n",
       "86     JITeV -1.113754 -0.179279  5.944989  147.198142\n",
       "15831  og79J -0.432754 -1.672285  2.108807   59.533327\n",
       "10927  4S0Ew -0.704854  0.322829  1.848182   41.912113\n",
       "18631  O2fSf  1.626727  3.520031  0.195380   91.354129\n",
       "52480  Fzgg4 -2.257173 -2.841505 -2.203483   88.483099"
      ]
     },
     "metadata": {},
     "output_type": "display_data"
    }
   ],
   "source": [
    "# посмотрим на данные\n",
    "display(df_0.sample(10))\n",
    "display(df_1.sample(10))\n",
    "display(df_2.sample(10))"
   ]
  },
  {
   "cell_type": "markdown",
   "metadata": {},
   "source": [
    "Во всех трех df есть неинформативная переменная \"id\", которая не поможет при создании модели. А также во всех информативных переменных \"f0\", \"f1\", \"f2\" встречаются отрицательные значения."
   ]
  },
  {
   "cell_type": "code",
   "execution_count": 107,
   "metadata": {},
   "outputs": [],
   "source": [
    "# удалим переменную \"id\" из всех df\n",
    "df_0 = df_0.drop('id', axis=1)\n",
    "df_1 = df_1.drop('id', axis=1)\n",
    "df_2 = df_2.drop('id', axis=1)"
   ]
  },
  {
   "cell_type": "code",
   "execution_count": 108,
   "metadata": {
    "scrolled": false
   },
   "outputs": [
    {
     "name": "stdout",
     "output_type": "stream",
     "text": [
      "<class 'pandas.core.frame.DataFrame'>\n",
      "RangeIndex: 100000 entries, 0 to 99999\n",
      "Data columns (total 4 columns):\n",
      " #   Column   Non-Null Count   Dtype  \n",
      "---  ------   --------------   -----  \n",
      " 0   f0       100000 non-null  float64\n",
      " 1   f1       100000 non-null  float64\n",
      " 2   f2       100000 non-null  float64\n",
      " 3   product  100000 non-null  float64\n",
      "dtypes: float64(4)\n",
      "memory usage: 3.1 MB\n",
      "<class 'pandas.core.frame.DataFrame'>\n",
      "RangeIndex: 100000 entries, 0 to 99999\n",
      "Data columns (total 4 columns):\n",
      " #   Column   Non-Null Count   Dtype  \n",
      "---  ------   --------------   -----  \n",
      " 0   f0       100000 non-null  float64\n",
      " 1   f1       100000 non-null  float64\n",
      " 2   f2       100000 non-null  float64\n",
      " 3   product  100000 non-null  float64\n",
      "dtypes: float64(4)\n",
      "memory usage: 3.1 MB\n",
      "<class 'pandas.core.frame.DataFrame'>\n",
      "RangeIndex: 100000 entries, 0 to 99999\n",
      "Data columns (total 4 columns):\n",
      " #   Column   Non-Null Count   Dtype  \n",
      "---  ------   --------------   -----  \n",
      " 0   f0       100000 non-null  float64\n",
      " 1   f1       100000 non-null  float64\n",
      " 2   f2       100000 non-null  float64\n",
      " 3   product  100000 non-null  float64\n",
      "dtypes: float64(4)\n",
      "memory usage: 3.1 MB\n"
     ]
    }
   ],
   "source": [
    "# проверим нет ли пропусков\n",
    "df_0.info()\n",
    "df_1.info()\n",
    "df_2.info()"
   ]
  },
  {
   "cell_type": "markdown",
   "metadata": {},
   "source": [
    "Пропусков нет. Формат данных - числа с дробной частью."
   ]
  },
  {
   "cell_type": "code",
   "execution_count": 109,
   "metadata": {
    "scrolled": true
   },
   "outputs": [
    {
     "data": {
      "image/png": "[encoded data removed]",
      "text/plain": [
       "<Figure size 1080x1440 with 4 Axes>"
      ]
     },
     "metadata": {},
     "output_type": "display_data"
    }
   ],
   "source": [
    "df_0.hist(figsize=(15, 20));"
   ]
  },
  {
   "cell_type": "code",
   "execution_count": 110,
   "metadata": {
    "scrolled": false
   },
   "outputs": [
    {
     "data": {
      "image/png": "[encoded data removed]",
      "text/plain": [
       "<Figure size 1080x1440 with 4 Axes>"
      ]
     },
     "metadata": {},
     "output_type": "display_data"
    }
   ],
   "source": [
    "df_1.hist(figsize=(15, 20));"
   ]
  },
  {
   "cell_type": "code",
   "execution_count": 111,
   "metadata": {
    "scrolled": false
   },
   "outputs": [
    {
     "data": {
      "image/png": "[encoded data removed]",
      "text/plain": [
       "<Figure size 1080x1440 with 4 Axes>"
      ]
     },
     "metadata": {},
     "output_type": "display_data"
    }
   ],
   "source": [
    "df_2.hist(figsize=(15, 20));"
   ]
  },
  {
   "cell_type": "markdown",
   "metadata": {},
   "source": [
    "Профили регионов-0 и 2 похожи друг на друга и на нормальное распределение по трем характеристикам/признакам скважин (f0, f1, f2) и объемам запасов скважин с медианой и средним ок. 100. \n",
    "<br><br> Регион-1 отличается от них: заметно более низкой медианой и средней запасов - ок. 60 и большим стандартным отклонением параметра f1 из-за большого диапазона значений, который он принимает в этом регионе, а также распределеним f2 напоминающим случайное при малом диапазоне значений (т.е. параметр f2 в регионе 1 принимает почти равновероятно принимает значения от 0 до 5).\n",
    "<br><br>\n",
    "Т.к. в Регионе-1 параметры скважин и запасы нефти не распределены нормально, сравнение средних с помощью t-критерия не подойдет. "
   ]
  },
  {
   "cell_type": "code",
   "execution_count": 112,
   "metadata": {
    "scrolled": false
   },
   "outputs": [
    {
     "data": {
      "text/html": [
       "<div>\n",
       "<style scoped>\n",
       "    .dataframe tbody tr th:only-of-type {\n",
       "        vertical-align: middle;\n",
       "    }\n",
       "\n",
       "    .dataframe tbody tr th {\n",
       "        vertical-align: top;\n",
       "    }\n",
       "\n",
       "    .dataframe thead th {\n",
       "        text-align: right;\n",
       "    }\n",
       "</style>\n",
       "<table border=\"1\" class=\"dataframe\">\n",
       "  <thead>\n",
       "    <tr style=\"text-align: right;\">\n",
       "      <th></th>\n",
       "      <th>f0</th>\n",
       "      <th>f1</th>\n",
       "      <th>f2</th>\n",
       "      <th>product</th>\n",
       "    </tr>\n",
       "  </thead>\n",
       "  <tbody>\n",
       "    <tr>\n",
       "      <th>count</th>\n",
       "      <td>100000.000000</td>\n",
       "      <td>100000.000000</td>\n",
       "      <td>100000.000000</td>\n",
       "      <td>100000.000000</td>\n",
       "    </tr>\n",
       "    <tr>\n",
       "      <th>mean</th>\n",
       "      <td>0.500419</td>\n",
       "      <td>0.250143</td>\n",
       "      <td>2.502647</td>\n",
       "      <td>92.500000</td>\n",
       "    </tr>\n",
       "    <tr>\n",
       "      <th>std</th>\n",
       "      <td>0.871832</td>\n",
       "      <td>0.504433</td>\n",
       "      <td>3.248248</td>\n",
       "      <td>44.288691</td>\n",
       "    </tr>\n",
       "    <tr>\n",
       "      <th>min</th>\n",
       "      <td>-1.408605</td>\n",
       "      <td>-0.848218</td>\n",
       "      <td>-12.088328</td>\n",
       "      <td>0.000000</td>\n",
       "    </tr>\n",
       "    <tr>\n",
       "      <th>25%</th>\n",
       "      <td>-0.072580</td>\n",
       "      <td>-0.200881</td>\n",
       "      <td>0.287748</td>\n",
       "      <td>56.497507</td>\n",
       "    </tr>\n",
       "    <tr>\n",
       "      <th>50%</th>\n",
       "      <td>0.502360</td>\n",
       "      <td>0.250252</td>\n",
       "      <td>2.515969</td>\n",
       "      <td>91.849972</td>\n",
       "    </tr>\n",
       "    <tr>\n",
       "      <th>75%</th>\n",
       "      <td>1.073581</td>\n",
       "      <td>0.700646</td>\n",
       "      <td>4.715088</td>\n",
       "      <td>128.564089</td>\n",
       "    </tr>\n",
       "    <tr>\n",
       "      <th>max</th>\n",
       "      <td>2.362331</td>\n",
       "      <td>1.343769</td>\n",
       "      <td>16.003790</td>\n",
       "      <td>185.364347</td>\n",
       "    </tr>\n",
       "  </tbody>\n",
       "</table>\n",
       "</div>"
      ],
      "text/plain": [
       "                  f0             f1             f2        product\n",
       "count  100000.000000  100000.000000  100000.000000  100000.000000\n",
       "mean        0.500419       0.250143       2.502647      92.500000\n",
       "std         0.871832       0.504433       3.248248      44.288691\n",
       "min        -1.408605      -0.848218     -12.088328       0.000000\n",
       "25%        -0.072580      -0.200881       0.287748      56.497507\n",
       "50%         0.502360       0.250252       2.515969      91.849972\n",
       "75%         1.073581       0.700646       4.715088     128.564089\n",
       "max         2.362331       1.343769      16.003790     185.364347"
      ]
     },
     "execution_count": 112,
     "metadata": {},
     "output_type": "execute_result"
    }
   ],
   "source": [
    "df_0.describe()"
   ]
  },
  {
   "cell_type": "code",
   "execution_count": 113,
   "metadata": {
    "scrolled": false
   },
   "outputs": [
    {
     "data": {
      "text/html": [
       "<div>\n",
       "<style scoped>\n",
       "    .dataframe tbody tr th:only-of-type {\n",
       "        vertical-align: middle;\n",
       "    }\n",
       "\n",
       "    .dataframe tbody tr th {\n",
       "        vertical-align: top;\n",
       "    }\n",
       "\n",
       "    .dataframe thead th {\n",
       "        text-align: right;\n",
       "    }\n",
       "</style>\n",
       "<table border=\"1\" class=\"dataframe\">\n",
       "  <thead>\n",
       "    <tr style=\"text-align: right;\">\n",
       "      <th></th>\n",
       "      <th>f0</th>\n",
       "      <th>f1</th>\n",
       "      <th>f2</th>\n",
       "      <th>product</th>\n",
       "    </tr>\n",
       "  </thead>\n",
       "  <tbody>\n",
       "    <tr>\n",
       "      <th>count</th>\n",
       "      <td>100000.000000</td>\n",
       "      <td>100000.000000</td>\n",
       "      <td>100000.000000</td>\n",
       "      <td>100000.000000</td>\n",
       "    </tr>\n",
       "    <tr>\n",
       "      <th>mean</th>\n",
       "      <td>1.141296</td>\n",
       "      <td>-4.796579</td>\n",
       "      <td>2.494541</td>\n",
       "      <td>68.825000</td>\n",
       "    </tr>\n",
       "    <tr>\n",
       "      <th>std</th>\n",
       "      <td>8.965932</td>\n",
       "      <td>5.119872</td>\n",
       "      <td>1.703572</td>\n",
       "      <td>45.944423</td>\n",
       "    </tr>\n",
       "    <tr>\n",
       "      <th>min</th>\n",
       "      <td>-31.609576</td>\n",
       "      <td>-26.358598</td>\n",
       "      <td>-0.018144</td>\n",
       "      <td>0.000000</td>\n",
       "    </tr>\n",
       "    <tr>\n",
       "      <th>25%</th>\n",
       "      <td>-6.298551</td>\n",
       "      <td>-8.267985</td>\n",
       "      <td>1.000021</td>\n",
       "      <td>26.953261</td>\n",
       "    </tr>\n",
       "    <tr>\n",
       "      <th>50%</th>\n",
       "      <td>1.153055</td>\n",
       "      <td>-4.813172</td>\n",
       "      <td>2.011479</td>\n",
       "      <td>57.085625</td>\n",
       "    </tr>\n",
       "    <tr>\n",
       "      <th>75%</th>\n",
       "      <td>8.621015</td>\n",
       "      <td>-1.332816</td>\n",
       "      <td>3.999904</td>\n",
       "      <td>107.813044</td>\n",
       "    </tr>\n",
       "    <tr>\n",
       "      <th>max</th>\n",
       "      <td>29.421755</td>\n",
       "      <td>18.734063</td>\n",
       "      <td>5.019721</td>\n",
       "      <td>137.945408</td>\n",
       "    </tr>\n",
       "  </tbody>\n",
       "</table>\n",
       "</div>"
      ],
      "text/plain": [
       "                  f0             f1             f2        product\n",
       "count  100000.000000  100000.000000  100000.000000  100000.000000\n",
       "mean        1.141296      -4.796579       2.494541      68.825000\n",
       "std         8.965932       5.119872       1.703572      45.944423\n",
       "min       -31.609576     -26.358598      -0.018144       0.000000\n",
       "25%        -6.298551      -8.267985       1.000021      26.953261\n",
       "50%         1.153055      -4.813172       2.011479      57.085625\n",
       "75%         8.621015      -1.332816       3.999904     107.813044\n",
       "max        29.421755      18.734063       5.019721     137.945408"
      ]
     },
     "execution_count": 113,
     "metadata": {},
     "output_type": "execute_result"
    }
   ],
   "source": [
    "df_1.describe()"
   ]
  },
  {
   "cell_type": "code",
   "execution_count": 114,
   "metadata": {
    "scrolled": true
   },
   "outputs": [
    {
     "data": {
      "text/html": [
       "<div>\n",
       "<style scoped>\n",
       "    .dataframe tbody tr th:only-of-type {\n",
       "        vertical-align: middle;\n",
       "    }\n",
       "\n",
       "    .dataframe tbody tr th {\n",
       "        vertical-align: top;\n",
       "    }\n",
       "\n",
       "    .dataframe thead th {\n",
       "        text-align: right;\n",
       "    }\n",
       "</style>\n",
       "<table border=\"1\" class=\"dataframe\">\n",
       "  <thead>\n",
       "    <tr style=\"text-align: right;\">\n",
       "      <th></th>\n",
       "      <th>f0</th>\n",
       "      <th>f1</th>\n",
       "      <th>f2</th>\n",
       "      <th>product</th>\n",
       "    </tr>\n",
       "  </thead>\n",
       "  <tbody>\n",
       "    <tr>\n",
       "      <th>count</th>\n",
       "      <td>100000.000000</td>\n",
       "      <td>100000.000000</td>\n",
       "      <td>100000.000000</td>\n",
       "      <td>100000.000000</td>\n",
       "    </tr>\n",
       "    <tr>\n",
       "      <th>mean</th>\n",
       "      <td>0.002023</td>\n",
       "      <td>-0.002081</td>\n",
       "      <td>2.495128</td>\n",
       "      <td>95.000000</td>\n",
       "    </tr>\n",
       "    <tr>\n",
       "      <th>std</th>\n",
       "      <td>1.732045</td>\n",
       "      <td>1.730417</td>\n",
       "      <td>3.473445</td>\n",
       "      <td>44.749921</td>\n",
       "    </tr>\n",
       "    <tr>\n",
       "      <th>min</th>\n",
       "      <td>-8.760004</td>\n",
       "      <td>-7.084020</td>\n",
       "      <td>-11.970335</td>\n",
       "      <td>0.000000</td>\n",
       "    </tr>\n",
       "    <tr>\n",
       "      <th>25%</th>\n",
       "      <td>-1.162288</td>\n",
       "      <td>-1.174820</td>\n",
       "      <td>0.130359</td>\n",
       "      <td>59.450441</td>\n",
       "    </tr>\n",
       "    <tr>\n",
       "      <th>50%</th>\n",
       "      <td>0.009424</td>\n",
       "      <td>-0.009482</td>\n",
       "      <td>2.484236</td>\n",
       "      <td>94.925613</td>\n",
       "    </tr>\n",
       "    <tr>\n",
       "      <th>75%</th>\n",
       "      <td>1.158535</td>\n",
       "      <td>1.163678</td>\n",
       "      <td>4.858794</td>\n",
       "      <td>130.595027</td>\n",
       "    </tr>\n",
       "    <tr>\n",
       "      <th>max</th>\n",
       "      <td>7.238262</td>\n",
       "      <td>7.844801</td>\n",
       "      <td>16.739402</td>\n",
       "      <td>190.029838</td>\n",
       "    </tr>\n",
       "  </tbody>\n",
       "</table>\n",
       "</div>"
      ],
      "text/plain": [
       "                  f0             f1             f2        product\n",
       "count  100000.000000  100000.000000  100000.000000  100000.000000\n",
       "mean        0.002023      -0.002081       2.495128      95.000000\n",
       "std         1.732045       1.730417       3.473445      44.749921\n",
       "min        -8.760004      -7.084020     -11.970335       0.000000\n",
       "25%        -1.162288      -1.174820       0.130359      59.450441\n",
       "50%         0.009424      -0.009482       2.484236      94.925613\n",
       "75%         1.158535       1.163678       4.858794     130.595027\n",
       "max         7.238262       7.844801      16.739402     190.029838"
      ]
     },
     "execution_count": 114,
     "metadata": {},
     "output_type": "execute_result"
    }
   ],
   "source": [
    "df_2.describe()"
   ]
  },
  {
   "cell_type": "code",
   "execution_count": 115,
   "metadata": {
    "scrolled": true
   },
   "outputs": [
    {
     "data": {
      "text/plain": [
       "<AxesSubplot:>"
      ]
     },
     "execution_count": 115,
     "metadata": {},
     "output_type": "execute_result"
    },
    {
     "data": {
      "image/png": "[encoded data removed]",
      "text/plain": [
       "<Figure size 720x360 with 2 Axes>"
      ]
     },
     "metadata": {},
     "output_type": "display_data"
    }
   ],
   "source": [
    "# проверим нет ли корреляций между параметрами\n",
    "sns.set(font_scale=1.15)\n",
    "plt.figure(figsize=(10,5))\n",
    "sns.heatmap(\n",
    "    df_0.corr(),        \n",
    "    cmap='RdBu', \n",
    "    annot=True, \n",
    "    vmin=-1, vmax=1)"
   ]
  },
  {
   "cell_type": "code",
   "execution_count": 116,
   "metadata": {
    "scrolled": true
   },
   "outputs": [
    {
     "data": {
      "text/plain": [
       "<AxesSubplot:>"
      ]
     },
     "execution_count": 116,
     "metadata": {},
     "output_type": "execute_result"
    },
    {
     "data": {
      "image/png": "[encoded data removed]",
      "text/plain": [
       "<Figure size 720x360 with 2 Axes>"
      ]
     },
     "metadata": {},
     "output_type": "display_data"
    }
   ],
   "source": [
    "# проверим нет ли корреляций между параметрами\n",
    "sns.set(font_scale=1.15)\n",
    "plt.figure(figsize=(10,5))\n",
    "sns.heatmap(\n",
    "    df_1.corr(),        \n",
    "    cmap='RdBu', \n",
    "    annot=True, \n",
    "    vmin=-1, vmax=1)"
   ]
  },
  {
   "cell_type": "code",
   "execution_count": 117,
   "metadata": {
    "scrolled": true
   },
   "outputs": [
    {
     "data": {
      "text/plain": [
       "<AxesSubplot:>"
      ]
     },
     "execution_count": 117,
     "metadata": {},
     "output_type": "execute_result"
    },
    {
     "data": {
      "image/png": "[encoded data removed]",
      "text/plain": [
       "<Figure size 720x360 with 2 Axes>"
      ]
     },
     "metadata": {},
     "output_type": "display_data"
    }
   ],
   "source": [
    "# проверим нет ли корреляций между параметрами\n",
    "sns.set(font_scale=1.15)\n",
    "plt.figure(figsize=(10,5))\n",
    "sns.heatmap(\n",
    "    df_2.corr(),        \n",
    "    cmap='RdBu', \n",
    "    annot=True, \n",
    "    vmin=-1, vmax=1)"
   ]
  },
  {
   "cell_type": "markdown",
   "metadata": {},
   "source": [
    "В регионе 0 сильная отрицательная корреляция (-0.44) м-ду признаками f0 и f1 (это приведет к мультиколлинеарности в модели линейной регресии).\n",
    "<br><br>\n",
    "В регионе 1 слабая положительная корреляция (0.18) м-ду признаками f0 и f1. Важнее что между прзнаком f2 и прогнозируемой переменной - объемам запасов в скважине корреляция 1. В остальных регионах признак f2 также заметно сильнее прочих коррелирует с объемами запасов. На первый взгляд может показаться, что этих наблюдений без модели достаточно, чтобы сделать вывод, что регион-1 для разработки скважен менее перспективен, чем регионы 0 и 2, т.к. в регионе-1 медианное значение f2 заметно ниже, чем в других регионах. \n",
    "<br><br>\n",
    "Выше было отмечено, что максимальное значения признака f2 в регионе-1 - 5 (причем практически равновероятно это значения от 0 до 5), тогда как в регионах 0 и 2 максимальные значения f2 - 16 и 16.7, соответственно (аналогично соотношение медиан и хотя и не средних этого параметра). Однако корреляция признака f2 c запасами, напротив, чуть выще в регионе-0 (0.48), чем в регионе-1 (0.45), поэтому сказать без модели, какой регион перспективнее для разработки, сложно.\n",
    "<br><br>\n",
    "Учитывая сравнительно более высокую корреляцию признаков f0 и f1 для региона 0, можно предположить, что модель на основе линейной регрессии будет точнее (с меньшим RMSE) именно для этого региона (однако в ней будет мультиколлинеарность). Проверим эти гипотизы из разведовательного анализа данных.  "
   ]
  },
  {
   "cell_type": "markdown",
   "metadata": {},
   "source": [
    "## Обучение и проверка модели"
   ]
  },
  {
   "cell_type": "code",
   "execution_count": 118,
   "metadata": {},
   "outputs": [],
   "source": [
    "# разделим признаки (на фичи и таргет)\n",
    "\n",
    "target_0 = df_0['product']\n",
    "features_0 = df_0.drop('product', axis=1)\n",
    "\n",
    "target_1 = df_1['product']\n",
    "features_1 = df_1.drop('product', axis=1)\n",
    "\n",
    "target_2 = df_2['product']\n",
    "features_2 = df_2.drop('product', axis=1)"
   ]
  },
  {
   "cell_type": "code",
   "execution_count": 119,
   "metadata": {
    "scrolled": true
   },
   "outputs": [
    {
     "name": "stdout",
     "output_type": "stream",
     "text": [
      "(75000, 3)\n",
      "(25000, 3)\n",
      "\n",
      "(75000, 3)\n",
      "(25000, 3)\n",
      "\n",
      "(75000, 3)\n",
      "(25000, 3)\n"
     ]
    }
   ],
   "source": [
    "# разобьем выборки на обучающую (75%) и валидационную (25%)\n",
    "\n",
    "features_train_0, features_valid_0, target_train_0, target_valid_0 = train_test_split(features_0, target_0, test_size=0.25, random_state=12345)\n",
    "features_train_1, features_valid_1, target_train_1, target_valid_1 = train_test_split(features_1, target_1, test_size=0.25, random_state=12345)\n",
    "features_train_2, features_valid_2, target_train_2, target_valid_2 = train_test_split(features_2, target_2, test_size=0.25, random_state=12345)\n",
    "\n",
    "print(features_train_0.shape)\n",
    "print(features_valid_0.shape)\n",
    "print()\n",
    "print(features_train_1.shape)\n",
    "print(features_valid_1.shape)\n",
    "print()\n",
    "print(features_train_2.shape)\n",
    "print(features_valid_2.shape)"
   ]
  },
  {
   "cell_type": "code",
   "execution_count": 120,
   "metadata": {},
   "outputs": [
    {
     "data": {
      "text/html": [
       "<div>\n",
       "<style scoped>\n",
       "    .dataframe tbody tr th:only-of-type {\n",
       "        vertical-align: middle;\n",
       "    }\n",
       "\n",
       "    .dataframe tbody tr th {\n",
       "        vertical-align: top;\n",
       "    }\n",
       "\n",
       "    .dataframe thead th {\n",
       "        text-align: right;\n",
       "    }\n",
       "</style>\n",
       "<table border=\"1\" class=\"dataframe\">\n",
       "  <thead>\n",
       "    <tr style=\"text-align: right;\">\n",
       "      <th></th>\n",
       "      <th>f0</th>\n",
       "      <th>f1</th>\n",
       "      <th>f2</th>\n",
       "    </tr>\n",
       "  </thead>\n",
       "  <tbody>\n",
       "    <tr>\n",
       "      <th>71751</th>\n",
       "      <td>-0.371866</td>\n",
       "      <td>-1.862494</td>\n",
       "      <td>3.002210</td>\n",
       "    </tr>\n",
       "    <tr>\n",
       "      <th>80493</th>\n",
       "      <td>9.015122</td>\n",
       "      <td>-13.881455</td>\n",
       "      <td>1.995363</td>\n",
       "    </tr>\n",
       "    <tr>\n",
       "      <th>2655</th>\n",
       "      <td>-6.507568</td>\n",
       "      <td>-4.817448</td>\n",
       "      <td>1.003449</td>\n",
       "    </tr>\n",
       "    <tr>\n",
       "      <th>53233</th>\n",
       "      <td>14.560845</td>\n",
       "      <td>-10.667755</td>\n",
       "      <td>1.995175</td>\n",
       "    </tr>\n",
       "    <tr>\n",
       "      <th>91141</th>\n",
       "      <td>6.090476</td>\n",
       "      <td>-4.494723</td>\n",
       "      <td>0.013815</td>\n",
       "    </tr>\n",
       "  </tbody>\n",
       "</table>\n",
       "</div>"
      ],
      "text/plain": [
       "              f0         f1        f2\n",
       "71751  -0.371866  -1.862494  3.002210\n",
       "80493   9.015122 -13.881455  1.995363\n",
       "2655   -6.507568  -4.817448  1.003449\n",
       "53233  14.560845 -10.667755  1.995175\n",
       "91141   6.090476  -4.494723  0.013815"
      ]
     },
     "metadata": {},
     "output_type": "display_data"
    }
   ],
   "source": [
    "# посмотрим\n",
    "display(features_valid_1.head())"
   ]
  },
  {
   "cell_type": "code",
   "execution_count": 121,
   "metadata": {
    "scrolled": true
   },
   "outputs": [],
   "source": [
    "# масштабируем фичи региона-0\n",
    "\n",
    "numeric = ['f0', 'f1', 'f2']\n",
    "scaler_0 = StandardScaler()\n",
    "scaler_0.fit(features_train_0[numeric]);\n",
    "features_train_0[numeric] = scaler_0.transform(features_train_0[numeric]);\n",
    "features_valid_0[numeric] = scaler_0.transform(features_valid_0[numeric]);\n",
    "\n",
    "import warnings\n",
    "warnings.filterwarnings(\"ignore\")\n"
   ]
  },
  {
   "cell_type": "code",
   "execution_count": 122,
   "metadata": {
    "scrolled": true
   },
   "outputs": [
    {
     "data": {
      "text/html": [
       "<div>\n",
       "<style scoped>\n",
       "    .dataframe tbody tr th:only-of-type {\n",
       "        vertical-align: middle;\n",
       "    }\n",
       "\n",
       "    .dataframe tbody tr th {\n",
       "        vertical-align: top;\n",
       "    }\n",
       "\n",
       "    .dataframe thead th {\n",
       "        text-align: right;\n",
       "    }\n",
       "</style>\n",
       "<table border=\"1\" class=\"dataframe\">\n",
       "  <thead>\n",
       "    <tr style=\"text-align: right;\">\n",
       "      <th></th>\n",
       "      <th>f0</th>\n",
       "      <th>f1</th>\n",
       "      <th>f2</th>\n",
       "    </tr>\n",
       "  </thead>\n",
       "  <tbody>\n",
       "    <tr>\n",
       "      <th>71751</th>\n",
       "      <td>0.517917</td>\n",
       "      <td>-0.610097</td>\n",
       "      <td>-0.126226</td>\n",
       "    </tr>\n",
       "    <tr>\n",
       "      <th>80493</th>\n",
       "      <td>0.568391</td>\n",
       "      <td>-0.086063</td>\n",
       "      <td>-0.814914</td>\n",
       "    </tr>\n",
       "    <tr>\n",
       "      <th>2655</th>\n",
       "      <td>0.805688</td>\n",
       "      <td>-1.613289</td>\n",
       "      <td>-1.341342</td>\n",
       "    </tr>\n",
       "    <tr>\n",
       "      <th>53233</th>\n",
       "      <td>0.222503</td>\n",
       "      <td>-1.355437</td>\n",
       "      <td>-0.597275</td>\n",
       "    </tr>\n",
       "    <tr>\n",
       "      <th>91141</th>\n",
       "      <td>-0.087941</td>\n",
       "      <td>1.433113</td>\n",
       "      <td>-0.544588</td>\n",
       "    </tr>\n",
       "  </tbody>\n",
       "</table>\n",
       "</div>"
      ],
      "text/plain": [
       "             f0        f1        f2\n",
       "71751  0.517917 -0.610097 -0.126226\n",
       "80493  0.568391 -0.086063 -0.814914\n",
       "2655   0.805688 -1.613289 -1.341342\n",
       "53233  0.222503 -1.355437 -0.597275\n",
       "91141 -0.087941  1.433113 -0.544588"
      ]
     },
     "metadata": {},
     "output_type": "display_data"
    }
   ],
   "source": [
    "display(features_valid_0.head())"
   ]
  },
  {
   "cell_type": "code",
   "execution_count": 123,
   "metadata": {
    "scrolled": true
   },
   "outputs": [],
   "source": [
    "# масштабируем фичи региона-1\n",
    "numeric = ['f0', 'f1', 'f2']\n",
    "scaler_1 = StandardScaler()\n",
    "scaler_1.fit(features_train_1[numeric]);\n",
    "features_train_1[numeric] = scaler_1.transform(features_train_1[numeric]);\n",
    "features_valid_1[numeric] = scaler_1.transform(features_valid_1[numeric]);\n",
    "\n",
    "warnings.filterwarnings(\"ignore\")"
   ]
  },
  {
   "cell_type": "code",
   "execution_count": 124,
   "metadata": {
    "scrolled": true
   },
   "outputs": [
    {
     "data": {
      "text/html": [
       "<div>\n",
       "<style scoped>\n",
       "    .dataframe tbody tr th:only-of-type {\n",
       "        vertical-align: middle;\n",
       "    }\n",
       "\n",
       "    .dataframe tbody tr th {\n",
       "        vertical-align: top;\n",
       "    }\n",
       "\n",
       "    .dataframe thead th {\n",
       "        text-align: right;\n",
       "    }\n",
       "</style>\n",
       "<table border=\"1\" class=\"dataframe\">\n",
       "  <thead>\n",
       "    <tr style=\"text-align: right;\">\n",
       "      <th></th>\n",
       "      <th>f0</th>\n",
       "      <th>f1</th>\n",
       "      <th>f2</th>\n",
       "    </tr>\n",
       "  </thead>\n",
       "  <tbody>\n",
       "    <tr>\n",
       "      <th>71751</th>\n",
       "      <td>-0.168616</td>\n",
       "      <td>0.571372</td>\n",
       "      <td>0.297471</td>\n",
       "    </tr>\n",
       "    <tr>\n",
       "      <th>80493</th>\n",
       "      <td>0.878384</td>\n",
       "      <td>-1.772903</td>\n",
       "      <td>-0.293901</td>\n",
       "    </tr>\n",
       "    <tr>\n",
       "      <th>2655</th>\n",
       "      <td>-0.852976</td>\n",
       "      <td>-0.004986</td>\n",
       "      <td>-0.876502</td>\n",
       "    </tr>\n",
       "    <tr>\n",
       "      <th>53233</th>\n",
       "      <td>1.496940</td>\n",
       "      <td>-1.146077</td>\n",
       "      <td>-0.294011</td>\n",
       "    </tr>\n",
       "    <tr>\n",
       "      <th>91141</th>\n",
       "      <td>0.552177</td>\n",
       "      <td>0.057961</td>\n",
       "      <td>-1.457764</td>\n",
       "    </tr>\n",
       "  </tbody>\n",
       "</table>\n",
       "</div>"
      ],
      "text/plain": [
       "             f0        f1        f2\n",
       "71751 -0.168616  0.571372  0.297471\n",
       "80493  0.878384 -1.772903 -0.293901\n",
       "2655  -0.852976 -0.004986 -0.876502\n",
       "53233  1.496940 -1.146077 -0.294011\n",
       "91141  0.552177  0.057961 -1.457764"
      ]
     },
     "metadata": {},
     "output_type": "display_data"
    }
   ],
   "source": [
    "display(features_valid_1.head())"
   ]
  },
  {
   "cell_type": "code",
   "execution_count": 125,
   "metadata": {
    "scrolled": true
   },
   "outputs": [],
   "source": [
    "# масштабируем фичи региона-2\n",
    "numeric = ['f0', 'f1', 'f2']\n",
    "scaler_2 = StandardScaler()\n",
    "scaler_2.fit(features_train_2[numeric]);\n",
    "features_train_2[numeric] = scaler_2.transform(features_train_2[numeric]);\n",
    "features_valid_2[numeric] = scaler_2.transform(features_valid_2[numeric]);\n",
    "\n",
    "warnings.filterwarnings(\"ignore\")"
   ]
  },
  {
   "cell_type": "code",
   "execution_count": 126,
   "metadata": {
    "scrolled": true
   },
   "outputs": [
    {
     "data": {
      "text/html": [
       "<div>\n",
       "<style scoped>\n",
       "    .dataframe tbody tr th:only-of-type {\n",
       "        vertical-align: middle;\n",
       "    }\n",
       "\n",
       "    .dataframe tbody tr th {\n",
       "        vertical-align: top;\n",
       "    }\n",
       "\n",
       "    .dataframe thead th {\n",
       "        text-align: right;\n",
       "    }\n",
       "</style>\n",
       "<table border=\"1\" class=\"dataframe\">\n",
       "  <thead>\n",
       "    <tr style=\"text-align: right;\">\n",
       "      <th></th>\n",
       "      <th>f0</th>\n",
       "      <th>f1</th>\n",
       "      <th>f2</th>\n",
       "    </tr>\n",
       "  </thead>\n",
       "  <tbody>\n",
       "    <tr>\n",
       "      <th>71751</th>\n",
       "      <td>-0.836717</td>\n",
       "      <td>-2.227439</td>\n",
       "      <td>-0.078489</td>\n",
       "    </tr>\n",
       "    <tr>\n",
       "      <th>80493</th>\n",
       "      <td>-0.821648</td>\n",
       "      <td>0.740237</td>\n",
       "      <td>-1.000811</td>\n",
       "    </tr>\n",
       "    <tr>\n",
       "      <th>2655</th>\n",
       "      <td>-2.651336</td>\n",
       "      <td>-0.235721</td>\n",
       "      <td>-0.244546</td>\n",
       "    </tr>\n",
       "    <tr>\n",
       "      <th>53233</th>\n",
       "      <td>1.077998</td>\n",
       "      <td>0.938090</td>\n",
       "      <td>0.511313</td>\n",
       "    </tr>\n",
       "    <tr>\n",
       "      <th>91141</th>\n",
       "      <td>-1.173938</td>\n",
       "      <td>2.387270</td>\n",
       "      <td>1.034363</td>\n",
       "    </tr>\n",
       "  </tbody>\n",
       "</table>\n",
       "</div>"
      ],
      "text/plain": [
       "             f0        f1        f2\n",
       "71751 -0.836717 -2.227439 -0.078489\n",
       "80493 -0.821648  0.740237 -1.000811\n",
       "2655  -2.651336 -0.235721 -0.244546\n",
       "53233  1.077998  0.938090  0.511313\n",
       "91141 -1.173938  2.387270  1.034363"
      ]
     },
     "metadata": {},
     "output_type": "display_data"
    }
   ],
   "source": [
    "display(features_valid_2.head())"
   ]
  },
  {
   "cell_type": "code",
   "execution_count": 127,
   "metadata": {},
   "outputs": [
    {
     "name": "stdout",
     "output_type": "stream",
     "text": [
      "средний запас предсказанного сырья в регионе-0 : 93\n",
      "RMSE модели линейной регрессии на валидационной выборке в регионе-0 : 37.58\n"
     ]
    }
   ],
   "source": [
    "# модель (линейная регрессия по условию) для региона-0\n",
    "model_0 = LinearRegression() \n",
    "model_0.fit(features_train_0, target_train_0) # обучение модели на тренировочной выборке\n",
    "predictions_valid_0 = model_0.predict(features_valid_0) # получение предсказаний на валидационной выборке\n",
    "\n",
    "RMSE_0 = mean_squared_error(target_valid_0, predictions_valid_0)**0.5\n",
    "print(\"средний запас предсказанного сырья в регионе-0 :\", round(predictions_valid_0.mean()))\n",
    "print(\"RMSE модели линейной регрессии на валидационной выборке в регионе-0 :\", round(RMSE_0, 2))"
   ]
  },
  {
   "cell_type": "code",
   "execution_count": 128,
   "metadata": {},
   "outputs": [
    {
     "name": "stdout",
     "output_type": "stream",
     "text": [
      "средний запас предсказанного сырья в регионе-1 : 69\n",
      "RMSE модели линейной регрессии на валидационной выборке в регионе-1 : 0.89\n"
     ]
    }
   ],
   "source": [
    "# модель (линейная регрессия по условию) для региона-1\n",
    "model_1 = LinearRegression() \n",
    "model_1.fit(features_train_1, target_train_1) # обучите модель на тренировочной выборке\n",
    "predictions_valid_1 = model_1.predict(features_valid_1) # получите предсказания модели на валидационной выборке\n",
    "\n",
    "RMSE_1 = mean_squared_error(target_valid_1, predictions_valid_1)**0.5\n",
    "print(\"средний запас предсказанного сырья в регионе-1 :\", round(predictions_valid_1.mean()))\n",
    "print(\"RMSE модели линейной регрессии на валидационной выборке в регионе-1 :\", round(RMSE_1, 2))"
   ]
  },
  {
   "cell_type": "code",
   "execution_count": 129,
   "metadata": {},
   "outputs": [
    {
     "name": "stdout",
     "output_type": "stream",
     "text": [
      "средний запас предсказанного сырья в регионе-2 : 95\n",
      "RMSE модели линейной регрессии на валидационной выборке в регионе-2 : 40.03\n"
     ]
    }
   ],
   "source": [
    "# модель (линейная регрессия по условию) для региона 2\n",
    "model_2 = LinearRegression() \n",
    "model_2.fit(features_train_2, target_train_2) # обучите модель на тренировочной выборке\n",
    "predictions_valid_2 = model_2.predict(features_valid_2) # получите предсказания модели на валидационной выборке\n",
    "\n",
    "RMSE_2 = mean_squared_error(target_valid_2, predictions_valid_2)**0.5\n",
    "print(\"средний запас предсказанного сырья в регионе-2 :\", round(predictions_valid_2.mean()))\n",
    "print(\"RMSE модели линейной регрессии на валидационной выборке в регионе-2 :\", round(RMSE_2, 2))"
   ]
  },
  {
   "cell_type": "code",
   "execution_count": 130,
   "metadata": {},
   "outputs": [],
   "source": [
    "def regression (features_train, features_valid, target_train, target_valid):\n",
    "    model = LinearRegression() \n",
    "    model.fit(features_train, target_train) \n",
    "    predictions_valid = model.predict(features_valid) \n",
    "\n",
    "    RMSE = mean_squared_error(target_valid, predictions_valid)**0.5\n",
    "    return pd.Series(predictions_valid), RMSE\n",
    "    "
   ]
  },
  {
   "cell_type": "code",
   "execution_count": 131,
   "metadata": {},
   "outputs": [
    {
     "name": "stdout",
     "output_type": "stream",
     "text": [
      "средний запас предсказанного сырья в регионе-0 : 93\n",
      "RMSE модели линейной регрессии на валидационной выборке в регионе-0 : 37.58\n"
     ]
    }
   ],
   "source": [
    "# использовал функцию для региона-0\n",
    "\n",
    "predictions_valid_0, RMSE_0 = regression(features_train_0, features_valid_0, target_train_0, target_valid_0)\n",
    "\n",
    "print(\"средний запас предсказанного сырья в регионе-0 :\", round(predictions_valid_0.mean()))\n",
    "print(\"RMSE модели линейной регрессии на валидационной выборке в регионе-0 :\", round(RMSE_0, 2))"
   ]
  },
  {
   "cell_type": "code",
   "execution_count": 132,
   "metadata": {},
   "outputs": [
    {
     "name": "stdout",
     "output_type": "stream",
     "text": [
      "средний запас предсказанного сырья в регионе-0 : 69\n",
      "RMSE модели линейной регрессии на валидационной выборке в регионе-0 : 0.89\n"
     ]
    }
   ],
   "source": [
    "# использовал функцию для региона-1\n",
    "\n",
    "predictions_valid_1, RMSE_1 = regression(features_train_1, features_valid_1, target_train_1, target_valid_1)\n",
    "\n",
    "print(\"средний запас предсказанного сырья в регионе-0 :\", round(predictions_valid_1.mean()))\n",
    "print(\"RMSE модели линейной регрессии на валидационной выборке в регионе-0 :\", round(RMSE_1, 2))"
   ]
  },
  {
   "cell_type": "code",
   "execution_count": 133,
   "metadata": {},
   "outputs": [
    {
     "name": "stdout",
     "output_type": "stream",
     "text": [
      "средний запас предсказанного сырья в регионе-0 : 95\n",
      "RMSE модели линейной регрессии на валидационной выборке в регионе-0 : 40.03\n"
     ]
    }
   ],
   "source": [
    "# использовал функцию для региона-1\n",
    "\n",
    "predictions_valid_2, RMSE_2 = regression(features_train_2, features_valid_2, target_train_2, target_valid_2)\n",
    "\n",
    "print(\"средний запас предсказанного сырья в регионе-0 :\", round(predictions_valid_2.mean()))\n",
    "print(\"RMSE модели линейной регрессии на валидационной выборке в регионе-0 :\", round(RMSE_2, 2))"
   ]
  },
  {
   "cell_type": "markdown",
   "metadata": {},
   "source": [
    "**Промежуточный вывод:** Средний запас предсказанного сырья в регионе-1 (69) заметно ниже, чем в регионе-0 (93) и регионе-2 (95). Однако заметно ниже и квадратный корень из средней квадратичной ошибки модели (RMSE): всего 0.89 для модели для региона-1 по сравнению с 37.58 для модели для региона-0 и 40.03 - для региона-2. Т.е. разработка скважин в регионе-1 дает хорошо предсказуемые, однако в среднем невысокие объемы добычи, тогда как разработка в регионе-0 и регионе-2 в заметно более высокие в среднем, однако недостаточно хорошо предсказуемые объемы добычи. (В случае ошибки предиктивной модели объемы добычи в регионах 0 и 2 в худшем случае могут оказаться ниже предсказуемо низких в регионе-1: ок. 55 против 68, соответственно). \n",
    "<br><br>\n",
    "Необходимо понять, являются ли хорошо предсказуемые, однако низкие объемы добычи в регионе-1 безубыточными, или безубыточность, а не только высокая прибыль, требует рисков связанных с плохой предсказуемостью, но высокими запасами сырья в скважинах регионов 0 и 2. (В случае, если предиктивная модель занижает предпологаемые объемы, прибыли от разработки регионов 0 и 2 будуг гораздо выше региона-1).    "
   ]
  },
  {
   "cell_type": "markdown",
   "metadata": {},
   "source": [
    "## Подготовка к расчёту прибыли"
   ]
  },
  {
   "cell_type": "code",
   "execution_count": 134,
   "metadata": {},
   "outputs": [
    {
     "name": "stdout",
     "output_type": "stream",
     "text": [
      "достаточный объём сырья для безубыточной разработки новой скважины : 111.11\n"
     ]
    }
   ],
   "source": [
    "# вводные данные по условию:\n",
    "BUDG_PER_REG = 10e9 # бюджет на разработку скважин в регионе\n",
    "N_PER_REG = 200 # скважин разрабатывают в регионе\n",
    "\n",
    "BUDG_PER_1 = BUDG_PER_REG / N_PER_REG # затраты на разработку одной скважины в регионе\n",
    "REV_PER_UNIT = 450_000 # доход с каждой единицы продукта (продукт в тыс.брл., т.к. объем запасов скважины в тыс.брл.)\n",
    "BREAK_EVEN_STOCK = round(BUDG_PER_1/REV_PER_UNIT, 2) # порог безубыточных запасов в скважине\n",
    "\n",
    "print(\"достаточный объём сырья для безубыточной разработки новой скважины :\", BREAK_EVEN_STOCK)\n"
   ]
  },
  {
   "cell_type": "markdown",
   "metadata": {},
   "source": [
    "**Промежуточный вывод:** Во всех трех регионах средний прогнозируемый запас сырья в скважине (регион-0 (93), регион-1 (69), регион-2 (95)) ниже минимально необходимого объема сырья для безубыточной разработки 1 новой скважины (111.11).   \n",
    "   "
   ]
  },
  {
   "cell_type": "markdown",
   "metadata": {},
   "source": [
    "Прежде чем отбирать лучшие скважины и рассчитывать прибыть, в df-ы c региональными данными необходимо добавить столбцы с прогнозами запасов нефти в каждой скважине, сделаные с помощью соответствующих моделей, обученных только на обучающих выборках.  \n",
    "<br><br>\n",
    "Делаю это, чтобы избежать задачи соотнесения индексов прогнозов и реальных объемов всех скважаин в каждом регионе. В кадом df создал новому столбцу и заполнил их предсказаниями моделей (обученных на общающей выборке), но делающей предсказания по всем соответствующим фичам региона (от о до 99999) которые сохранены в features_0, features_1 и features_2  до разделения их на train и valid для каждого региона соответственно (features_train_0 и features_valid_0 и т.д.). Такое заполнение сохранит соответствие по индексам."
   ]
  },
  {
   "cell_type": "code",
   "execution_count": 135,
   "metadata": {},
   "outputs": [],
   "source": [
    "# добавляем соответствующие столбцы в df-ы \n",
    "\n",
    "# масштабируем фичи регионов features_$ с помощью scalar_$ уже обученными выше только на обучающей выборке \n",
    "numeric = ['f0', 'f1', 'f2']\n",
    "features_0[numeric] = scaler_0.transform(features_0[numeric])\n",
    "features_1[numeric] = scaler_1.transform(features_1[numeric])\n",
    "features_2[numeric] = scaler_2.transform(features_2[numeric])\n",
    "\n",
    "# добавляем стобец в df_$['predicted_product'] в который кладем model_$.predict(features_$)\n",
    "# соответствующие модели для регионов обучены в предыдущем шаге только на соответствующих обучающих выборках\n",
    "df_0['predicted_product'] = model_0.predict(features_0)\n",
    "df_1['predicted_product'] = model_1.predict(features_1)\n",
    "df_2['predicted_product'] = model_2.predict(features_2)\n",
    "\n"
   ]
  },
  {
   "cell_type": "code",
   "execution_count": 136,
   "metadata": {
    "scrolled": false
   },
   "outputs": [
    {
     "data": {
      "text/html": [
       "<div>\n",
       "<style scoped>\n",
       "    .dataframe tbody tr th:only-of-type {\n",
       "        vertical-align: middle;\n",
       "    }\n",
       "\n",
       "    .dataframe tbody tr th {\n",
       "        vertical-align: top;\n",
       "    }\n",
       "\n",
       "    .dataframe thead th {\n",
       "        text-align: right;\n",
       "    }\n",
       "</style>\n",
       "<table border=\"1\" class=\"dataframe\">\n",
       "  <thead>\n",
       "    <tr style=\"text-align: right;\">\n",
       "      <th></th>\n",
       "      <th>f0</th>\n",
       "      <th>f1</th>\n",
       "      <th>f2</th>\n",
       "      <th>product</th>\n",
       "      <th>predicted_product</th>\n",
       "    </tr>\n",
       "  </thead>\n",
       "  <tbody>\n",
       "    <tr>\n",
       "      <th>65494</th>\n",
       "      <td>0.690469</td>\n",
       "      <td>0.672300</td>\n",
       "      <td>-0.727753</td>\n",
       "      <td>133.838383</td>\n",
       "      <td>66.061192</td>\n",
       "    </tr>\n",
       "    <tr>\n",
       "      <th>37969</th>\n",
       "      <td>1.959342</td>\n",
       "      <td>0.399661</td>\n",
       "      <td>0.514016</td>\n",
       "      <td>112.046530</td>\n",
       "      <td>82.650847</td>\n",
       "    </tr>\n",
       "    <tr>\n",
       "      <th>55049</th>\n",
       "      <td>1.441876</td>\n",
       "      <td>-0.464847</td>\n",
       "      <td>2.783019</td>\n",
       "      <td>181.952204</td>\n",
       "      <td>107.939399</td>\n",
       "    </tr>\n",
       "    <tr>\n",
       "      <th>24272</th>\n",
       "      <td>-0.155802</td>\n",
       "      <td>0.874114</td>\n",
       "      <td>-0.801104</td>\n",
       "      <td>104.275043</td>\n",
       "      <td>59.691925</td>\n",
       "    </tr>\n",
       "    <tr>\n",
       "      <th>56309</th>\n",
       "      <td>1.890768</td>\n",
       "      <td>0.362871</td>\n",
       "      <td>6.998307</td>\n",
       "      <td>163.126282</td>\n",
       "      <td>125.675153</td>\n",
       "    </tr>\n",
       "    <tr>\n",
       "      <th>63478</th>\n",
       "      <td>0.523208</td>\n",
       "      <td>-0.468389</td>\n",
       "      <td>3.420218</td>\n",
       "      <td>82.665034</td>\n",
       "      <td>108.889888</td>\n",
       "    </tr>\n",
       "    <tr>\n",
       "      <th>25088</th>\n",
       "      <td>0.337745</td>\n",
       "      <td>0.023103</td>\n",
       "      <td>1.563193</td>\n",
       "      <td>87.229113</td>\n",
       "      <td>89.050863</td>\n",
       "    </tr>\n",
       "    <tr>\n",
       "      <th>83671</th>\n",
       "      <td>-0.411985</td>\n",
       "      <td>0.815034</td>\n",
       "      <td>7.287336</td>\n",
       "      <td>143.233226</td>\n",
       "      <td>112.932857</td>\n",
       "    </tr>\n",
       "    <tr>\n",
       "      <th>91650</th>\n",
       "      <td>1.707581</td>\n",
       "      <td>-0.090658</td>\n",
       "      <td>-0.417600</td>\n",
       "      <td>59.083394</td>\n",
       "      <td>82.516518</td>\n",
       "    </tr>\n",
       "    <tr>\n",
       "      <th>47729</th>\n",
       "      <td>-0.956309</td>\n",
       "      <td>0.401016</td>\n",
       "      <td>1.458054</td>\n",
       "      <td>36.857314</td>\n",
       "      <td>78.380575</td>\n",
       "    </tr>\n",
       "  </tbody>\n",
       "</table>\n",
       "</div>"
      ],
      "text/plain": [
       "             f0        f1        f2     product  predicted_product\n",
       "65494  0.690469  0.672300 -0.727753  133.838383          66.061192\n",
       "37969  1.959342  0.399661  0.514016  112.046530          82.650847\n",
       "55049  1.441876 -0.464847  2.783019  181.952204         107.939399\n",
       "24272 -0.155802  0.874114 -0.801104  104.275043          59.691925\n",
       "56309  1.890768  0.362871  6.998307  163.126282         125.675153\n",
       "63478  0.523208 -0.468389  3.420218   82.665034         108.889888\n",
       "25088  0.337745  0.023103  1.563193   87.229113          89.050863\n",
       "83671 -0.411985  0.815034  7.287336  143.233226         112.932857\n",
       "91650  1.707581 -0.090658 -0.417600   59.083394          82.516518\n",
       "47729 -0.956309  0.401016  1.458054   36.857314          78.380575"
      ]
     },
     "metadata": {},
     "output_type": "display_data"
    },
    {
     "name": "stdout",
     "output_type": "stream",
     "text": [
      "<class 'pandas.core.frame.DataFrame'>\n",
      "RangeIndex: 100000 entries, 0 to 99999\n",
      "Data columns (total 5 columns):\n",
      " #   Column             Non-Null Count   Dtype  \n",
      "---  ------             --------------   -----  \n",
      " 0   f0                 100000 non-null  float64\n",
      " 1   f1                 100000 non-null  float64\n",
      " 2   f2                 100000 non-null  float64\n",
      " 3   product            100000 non-null  float64\n",
      " 4   predicted_product  100000 non-null  float64\n",
      "dtypes: float64(5)\n",
      "memory usage: 3.8 MB\n"
     ]
    }
   ],
   "source": [
    "# посмотрим на результат\n",
    "display(df_0.sample(10))\n",
    "df_0.info()"
   ]
  },
  {
   "cell_type": "code",
   "execution_count": 137,
   "metadata": {
    "scrolled": true
   },
   "outputs": [
    {
     "data": {
      "text/html": [
       "<div>\n",
       "<style scoped>\n",
       "    .dataframe tbody tr th:only-of-type {\n",
       "        vertical-align: middle;\n",
       "    }\n",
       "\n",
       "    .dataframe tbody tr th {\n",
       "        vertical-align: top;\n",
       "    }\n",
       "\n",
       "    .dataframe thead th {\n",
       "        text-align: right;\n",
       "    }\n",
       "</style>\n",
       "<table border=\"1\" class=\"dataframe\">\n",
       "  <thead>\n",
       "    <tr style=\"text-align: right;\">\n",
       "      <th></th>\n",
       "      <th>f0</th>\n",
       "      <th>f1</th>\n",
       "      <th>f2</th>\n",
       "      <th>product</th>\n",
       "      <th>predicted_product</th>\n",
       "    </tr>\n",
       "  </thead>\n",
       "  <tbody>\n",
       "    <tr>\n",
       "      <th>10958</th>\n",
       "      <td>-11.713908</td>\n",
       "      <td>4.471722</td>\n",
       "      <td>2.991274</td>\n",
       "      <td>84.038886</td>\n",
       "      <td>83.872960</td>\n",
       "    </tr>\n",
       "    <tr>\n",
       "      <th>44948</th>\n",
       "      <td>5.662411</td>\n",
       "      <td>-4.197986</td>\n",
       "      <td>5.002326</td>\n",
       "      <td>134.766305</td>\n",
       "      <td>135.745619</td>\n",
       "    </tr>\n",
       "    <tr>\n",
       "      <th>98704</th>\n",
       "      <td>-10.927847</td>\n",
       "      <td>0.032450</td>\n",
       "      <td>2.000997</td>\n",
       "      <td>57.085625</td>\n",
       "      <td>57.167695</td>\n",
       "    </tr>\n",
       "    <tr>\n",
       "      <th>59285</th>\n",
       "      <td>-15.442734</td>\n",
       "      <td>2.538850</td>\n",
       "      <td>-0.000107</td>\n",
       "      <td>3.179103</td>\n",
       "      <td>3.834751</td>\n",
       "    </tr>\n",
       "    <tr>\n",
       "      <th>76468</th>\n",
       "      <td>-1.196818</td>\n",
       "      <td>-12.667683</td>\n",
       "      <td>1.000782</td>\n",
       "      <td>30.132364</td>\n",
       "      <td>29.080043</td>\n",
       "    </tr>\n",
       "    <tr>\n",
       "      <th>22789</th>\n",
       "      <td>-3.139801</td>\n",
       "      <td>-9.736477</td>\n",
       "      <td>1.997625</td>\n",
       "      <td>57.085625</td>\n",
       "      <td>56.163186</td>\n",
       "    </tr>\n",
       "    <tr>\n",
       "      <th>12217</th>\n",
       "      <td>16.012682</td>\n",
       "      <td>6.138592</td>\n",
       "      <td>1.995741</td>\n",
       "      <td>53.906522</td>\n",
       "      <td>52.986734</td>\n",
       "    </tr>\n",
       "    <tr>\n",
       "      <th>18116</th>\n",
       "      <td>-9.426936</td>\n",
       "      <td>-11.954986</td>\n",
       "      <td>2.984784</td>\n",
       "      <td>84.038886</td>\n",
       "      <td>83.728418</td>\n",
       "    </tr>\n",
       "    <tr>\n",
       "      <th>56332</th>\n",
       "      <td>4.379459</td>\n",
       "      <td>-7.696069</td>\n",
       "      <td>1.998913</td>\n",
       "      <td>53.906522</td>\n",
       "      <td>55.063102</td>\n",
       "    </tr>\n",
       "    <tr>\n",
       "      <th>89658</th>\n",
       "      <td>8.256836</td>\n",
       "      <td>0.038488</td>\n",
       "      <td>4.001681</td>\n",
       "      <td>107.813044</td>\n",
       "      <td>108.307717</td>\n",
       "    </tr>\n",
       "  </tbody>\n",
       "</table>\n",
       "</div>"
      ],
      "text/plain": [
       "              f0         f1        f2     product  predicted_product\n",
       "10958 -11.713908   4.471722  2.991274   84.038886          83.872960\n",
       "44948   5.662411  -4.197986  5.002326  134.766305         135.745619\n",
       "98704 -10.927847   0.032450  2.000997   57.085625          57.167695\n",
       "59285 -15.442734   2.538850 -0.000107    3.179103           3.834751\n",
       "76468  -1.196818 -12.667683  1.000782   30.132364          29.080043\n",
       "22789  -3.139801  -9.736477  1.997625   57.085625          56.163186\n",
       "12217  16.012682   6.138592  1.995741   53.906522          52.986734\n",
       "18116  -9.426936 -11.954986  2.984784   84.038886          83.728418\n",
       "56332   4.379459  -7.696069  1.998913   53.906522          55.063102\n",
       "89658   8.256836   0.038488  4.001681  107.813044         108.307717"
      ]
     },
     "metadata": {},
     "output_type": "display_data"
    }
   ],
   "source": [
    "display(df_1.sample(10))"
   ]
  },
  {
   "cell_type": "markdown",
   "metadata": {},
   "source": [
    "Для региона-1 особенно хорошо видно, что соответствие индексов соблюдено, т.к. модель предсказывает с пренебрежительно малым RMSE и различие м-ду product и predicted_product минимально  "
   ]
  },
  {
   "cell_type": "code",
   "execution_count": 138,
   "metadata": {
    "scrolled": true
   },
   "outputs": [
    {
     "data": {
      "text/html": [
       "<div>\n",
       "<style scoped>\n",
       "    .dataframe tbody tr th:only-of-type {\n",
       "        vertical-align: middle;\n",
       "    }\n",
       "\n",
       "    .dataframe tbody tr th {\n",
       "        vertical-align: top;\n",
       "    }\n",
       "\n",
       "    .dataframe thead th {\n",
       "        text-align: right;\n",
       "    }\n",
       "</style>\n",
       "<table border=\"1\" class=\"dataframe\">\n",
       "  <thead>\n",
       "    <tr style=\"text-align: right;\">\n",
       "      <th></th>\n",
       "      <th>f0</th>\n",
       "      <th>f1</th>\n",
       "      <th>f2</th>\n",
       "      <th>product</th>\n",
       "      <th>predicted_product</th>\n",
       "    </tr>\n",
       "  </thead>\n",
       "  <tbody>\n",
       "    <tr>\n",
       "      <th>69250</th>\n",
       "      <td>0.362048</td>\n",
       "      <td>-0.371566</td>\n",
       "      <td>1.060565</td>\n",
       "      <td>153.242852</td>\n",
       "      <td>86.857553</td>\n",
       "    </tr>\n",
       "    <tr>\n",
       "      <th>37884</th>\n",
       "      <td>-0.337431</td>\n",
       "      <td>1.313312</td>\n",
       "      <td>2.525726</td>\n",
       "      <td>0.179795</td>\n",
       "      <td>95.129289</td>\n",
       "    </tr>\n",
       "    <tr>\n",
       "      <th>61125</th>\n",
       "      <td>0.922007</td>\n",
       "      <td>-0.848622</td>\n",
       "      <td>10.729635</td>\n",
       "      <td>84.548944</td>\n",
       "      <td>142.091150</td>\n",
       "    </tr>\n",
       "    <tr>\n",
       "      <th>3422</th>\n",
       "      <td>3.029154</td>\n",
       "      <td>-1.004263</td>\n",
       "      <td>-1.886170</td>\n",
       "      <td>94.236696</td>\n",
       "      <td>70.144994</td>\n",
       "    </tr>\n",
       "    <tr>\n",
       "      <th>86182</th>\n",
       "      <td>-0.012363</td>\n",
       "      <td>-0.074320</td>\n",
       "      <td>-2.180213</td>\n",
       "      <td>29.752497</td>\n",
       "      <td>68.333404</td>\n",
       "    </tr>\n",
       "    <tr>\n",
       "      <th>40204</th>\n",
       "      <td>1.315414</td>\n",
       "      <td>1.041026</td>\n",
       "      <td>5.699125</td>\n",
       "      <td>75.728443</td>\n",
       "      <td>113.307309</td>\n",
       "    </tr>\n",
       "    <tr>\n",
       "      <th>60505</th>\n",
       "      <td>0.570941</td>\n",
       "      <td>-1.801323</td>\n",
       "      <td>4.478266</td>\n",
       "      <td>145.973508</td>\n",
       "      <td>106.433981</td>\n",
       "    </tr>\n",
       "    <tr>\n",
       "      <th>58577</th>\n",
       "      <td>-0.948142</td>\n",
       "      <td>-1.032541</td>\n",
       "      <td>3.616067</td>\n",
       "      <td>80.109347</td>\n",
       "      <td>101.432892</td>\n",
       "    </tr>\n",
       "    <tr>\n",
       "      <th>70556</th>\n",
       "      <td>0.812759</td>\n",
       "      <td>0.948578</td>\n",
       "      <td>1.152252</td>\n",
       "      <td>23.724982</td>\n",
       "      <td>87.339612</td>\n",
       "    </tr>\n",
       "    <tr>\n",
       "      <th>78413</th>\n",
       "      <td>2.978323</td>\n",
       "      <td>1.882759</td>\n",
       "      <td>4.790295</td>\n",
       "      <td>148.533722</td>\n",
       "      <td>108.135408</td>\n",
       "    </tr>\n",
       "  </tbody>\n",
       "</table>\n",
       "</div>"
      ],
      "text/plain": [
       "             f0        f1         f2     product  predicted_product\n",
       "69250  0.362048 -0.371566   1.060565  153.242852          86.857553\n",
       "37884 -0.337431  1.313312   2.525726    0.179795          95.129289\n",
       "61125  0.922007 -0.848622  10.729635   84.548944         142.091150\n",
       "3422   3.029154 -1.004263  -1.886170   94.236696          70.144994\n",
       "86182 -0.012363 -0.074320  -2.180213   29.752497          68.333404\n",
       "40204  1.315414  1.041026   5.699125   75.728443         113.307309\n",
       "60505  0.570941 -1.801323   4.478266  145.973508         106.433981\n",
       "58577 -0.948142 -1.032541   3.616067   80.109347         101.432892\n",
       "70556  0.812759  0.948578   1.152252   23.724982          87.339612\n",
       "78413  2.978323  1.882759   4.790295  148.533722         108.135408"
      ]
     },
     "metadata": {},
     "output_type": "display_data"
    }
   ],
   "source": [
    "display(df_2.sample(10))"
   ]
  },
  {
   "cell_type": "markdown",
   "metadata": {},
   "source": [
    "## Расчёт прибыли и рисков "
   ]
  },
  {
   "cell_type": "code",
   "execution_count": 140,
   "metadata": {
    "scrolled": false
   },
   "outputs": [
    {
     "data": {
      "text/html": [
       "<div>\n",
       "<style scoped>\n",
       "    .dataframe tbody tr th:only-of-type {\n",
       "        vertical-align: middle;\n",
       "    }\n",
       "\n",
       "    .dataframe tbody tr th {\n",
       "        vertical-align: top;\n",
       "    }\n",
       "\n",
       "    .dataframe thead th {\n",
       "        text-align: right;\n",
       "    }\n",
       "</style>\n",
       "<table border=\"1\" class=\"dataframe\">\n",
       "  <thead>\n",
       "    <tr style=\"text-align: right;\">\n",
       "      <th></th>\n",
       "      <th>f0</th>\n",
       "      <th>f1</th>\n",
       "      <th>f2</th>\n",
       "      <th>product</th>\n",
       "      <th>predicted_product</th>\n",
       "    </tr>\n",
       "  </thead>\n",
       "  <tbody>\n",
       "    <tr>\n",
       "      <th>51140</th>\n",
       "      <td>1.092258</td>\n",
       "      <td>-0.541900</td>\n",
       "      <td>16.003790</td>\n",
       "      <td>182.079984</td>\n",
       "      <td>194.936305</td>\n",
       "    </tr>\n",
       "    <tr>\n",
       "      <th>83095</th>\n",
       "      <td>1.888221</td>\n",
       "      <td>0.067384</td>\n",
       "      <td>15.428372</td>\n",
       "      <td>144.009283</td>\n",
       "      <td>185.412580</td>\n",
       "    </tr>\n",
       "    <tr>\n",
       "      <th>51464</th>\n",
       "      <td>1.612452</td>\n",
       "      <td>-0.074593</td>\n",
       "      <td>15.230322</td>\n",
       "      <td>173.971897</td>\n",
       "      <td>185.117595</td>\n",
       "    </tr>\n",
       "    <tr>\n",
       "      <th>93073</th>\n",
       "      <td>1.814871</td>\n",
       "      <td>-0.207268</td>\n",
       "      <td>14.087536</td>\n",
       "      <td>162.810993</td>\n",
       "      <td>180.180713</td>\n",
       "    </tr>\n",
       "    <tr>\n",
       "      <th>52356</th>\n",
       "      <td>0.879559</td>\n",
       "      <td>0.258449</td>\n",
       "      <td>15.202838</td>\n",
       "      <td>123.920559</td>\n",
       "      <td>177.608048</td>\n",
       "    </tr>\n",
       "    <tr>\n",
       "      <th>...</th>\n",
       "      <td>...</td>\n",
       "      <td>...</td>\n",
       "      <td>...</td>\n",
       "      <td>...</td>\n",
       "      <td>...</td>\n",
       "    </tr>\n",
       "    <tr>\n",
       "      <th>96634</th>\n",
       "      <td>0.892427</td>\n",
       "      <td>-0.528988</td>\n",
       "      <td>10.415690</td>\n",
       "      <td>166.875679</td>\n",
       "      <td>157.193055</td>\n",
       "    </tr>\n",
       "    <tr>\n",
       "      <th>89983</th>\n",
       "      <td>1.172767</td>\n",
       "      <td>0.305634</td>\n",
       "      <td>12.038409</td>\n",
       "      <td>153.801308</td>\n",
       "      <td>157.132668</td>\n",
       "    </tr>\n",
       "    <tr>\n",
       "      <th>48192</th>\n",
       "      <td>1.550545</td>\n",
       "      <td>-0.195269</td>\n",
       "      <td>10.761237</td>\n",
       "      <td>120.584452</td>\n",
       "      <td>157.131039</td>\n",
       "    </tr>\n",
       "    <tr>\n",
       "      <th>49683</th>\n",
       "      <td>0.792516</td>\n",
       "      <td>-0.557116</td>\n",
       "      <td>10.398348</td>\n",
       "      <td>185.010308</td>\n",
       "      <td>157.116304</td>\n",
       "    </tr>\n",
       "    <tr>\n",
       "      <th>81447</th>\n",
       "      <td>0.982033</td>\n",
       "      <td>-0.508101</td>\n",
       "      <td>10.399208</td>\n",
       "      <td>154.391664</td>\n",
       "      <td>157.111862</td>\n",
       "    </tr>\n",
       "  </tbody>\n",
       "</table>\n",
       "<p>200 rows × 5 columns</p>\n",
       "</div>"
      ],
      "text/plain": [
       "             f0        f1         f2     product  predicted_product\n",
       "51140  1.092258 -0.541900  16.003790  182.079984         194.936305\n",
       "83095  1.888221  0.067384  15.428372  144.009283         185.412580\n",
       "51464  1.612452 -0.074593  15.230322  173.971897         185.117595\n",
       "93073  1.814871 -0.207268  14.087536  162.810993         180.180713\n",
       "52356  0.879559  0.258449  15.202838  123.920559         177.608048\n",
       "...         ...       ...        ...         ...                ...\n",
       "96634  0.892427 -0.528988  10.415690  166.875679         157.193055\n",
       "89983  1.172767  0.305634  12.038409  153.801308         157.132668\n",
       "48192  1.550545 -0.195269  10.761237  120.584452         157.131039\n",
       "49683  0.792516 -0.557116  10.398348  185.010308         157.116304\n",
       "81447  0.982033 -0.508101  10.399208  154.391664         157.111862\n",
       "\n",
       "[200 rows x 5 columns]"
      ]
     },
     "metadata": {},
     "output_type": "display_data"
    }
   ],
   "source": [
    "# 4.1.Выберите скважины с максимальными значениями предсказаний - сколько? (200)\n",
    "df_0_top200_predict = df_0.sort_values(by='predicted_product', ascending = False).head(200)\n",
    "display(df_0_top200_predict)"
   ]
  },
  {
   "cell_type": "code",
   "execution_count": 141,
   "metadata": {},
   "outputs": [],
   "source": [
    "# добавим столбец с прибылью из 200 с максимальными предсказаниями по реальным объемам \n",
    "\n",
    "df_0_top200_predict['profit'] = (df_0_top200_predict['product'] * REV_PER_UNIT)- BUDG_PER_1"
   ]
  },
  {
   "cell_type": "code",
   "execution_count": 142,
   "metadata": {
    "scrolled": true
   },
   "outputs": [
    {
     "data": {
      "text/html": [
       "<div>\n",
       "<style scoped>\n",
       "    .dataframe tbody tr th:only-of-type {\n",
       "        vertical-align: middle;\n",
       "    }\n",
       "\n",
       "    .dataframe tbody tr th {\n",
       "        vertical-align: top;\n",
       "    }\n",
       "\n",
       "    .dataframe thead th {\n",
       "        text-align: right;\n",
       "    }\n",
       "</style>\n",
       "<table border=\"1\" class=\"dataframe\">\n",
       "  <thead>\n",
       "    <tr style=\"text-align: right;\">\n",
       "      <th></th>\n",
       "      <th>f0</th>\n",
       "      <th>f1</th>\n",
       "      <th>f2</th>\n",
       "      <th>product</th>\n",
       "      <th>predicted_product</th>\n",
       "      <th>profit</th>\n",
       "    </tr>\n",
       "  </thead>\n",
       "  <tbody>\n",
       "    <tr>\n",
       "      <th>13413</th>\n",
       "      <td>1.348169</td>\n",
       "      <td>-0.434621</td>\n",
       "      <td>10.909253</td>\n",
       "      <td>83.357783</td>\n",
       "      <td>160.754201</td>\n",
       "      <td>-1.248900e+07</td>\n",
       "    </tr>\n",
       "    <tr>\n",
       "      <th>48992</th>\n",
       "      <td>1.051818</td>\n",
       "      <td>-0.424715</td>\n",
       "      <td>10.725472</td>\n",
       "      <td>145.451035</td>\n",
       "      <td>158.338120</td>\n",
       "      <td>1.545297e+07</td>\n",
       "    </tr>\n",
       "    <tr>\n",
       "      <th>14786</th>\n",
       "      <td>2.076069</td>\n",
       "      <td>0.333083</td>\n",
       "      <td>11.666124</td>\n",
       "      <td>169.174308</td>\n",
       "      <td>157.536539</td>\n",
       "      <td>2.612844e+07</td>\n",
       "    </tr>\n",
       "    <tr>\n",
       "      <th>21654</th>\n",
       "      <td>0.635486</td>\n",
       "      <td>-0.331524</td>\n",
       "      <td>11.503988</td>\n",
       "      <td>141.473023</td>\n",
       "      <td>160.661400</td>\n",
       "      <td>1.366286e+07</td>\n",
       "    </tr>\n",
       "    <tr>\n",
       "      <th>15353</th>\n",
       "      <td>0.000765</td>\n",
       "      <td>0.139868</td>\n",
       "      <td>12.685261</td>\n",
       "      <td>133.678102</td>\n",
       "      <td>159.523656</td>\n",
       "      <td>1.015515e+07</td>\n",
       "    </tr>\n",
       "  </tbody>\n",
       "</table>\n",
       "</div>"
      ],
      "text/plain": [
       "             f0        f1         f2     product  predicted_product  \\\n",
       "13413  1.348169 -0.434621  10.909253   83.357783         160.754201   \n",
       "48992  1.051818 -0.424715  10.725472  145.451035         158.338120   \n",
       "14786  2.076069  0.333083  11.666124  169.174308         157.536539   \n",
       "21654  0.635486 -0.331524  11.503988  141.473023         160.661400   \n",
       "15353  0.000765  0.139868  12.685261  133.678102         159.523656   \n",
       "\n",
       "             profit  \n",
       "13413 -1.248900e+07  \n",
       "48992  1.545297e+07  \n",
       "14786  2.612844e+07  \n",
       "21654  1.366286e+07  \n",
       "15353  1.015515e+07  "
      ]
     },
     "metadata": {},
     "output_type": "display_data"
    }
   ],
   "source": [
    "display(df_0_top200_predict.sample(5))"
   ]
  },
  {
   "cell_type": "code",
   "execution_count": 143,
   "metadata": {
    "scrolled": true
   },
   "outputs": [
    {
     "data": {
      "text/html": [
       "<div>\n",
       "<style scoped>\n",
       "    .dataframe tbody tr th:only-of-type {\n",
       "        vertical-align: middle;\n",
       "    }\n",
       "\n",
       "    .dataframe tbody tr th {\n",
       "        vertical-align: top;\n",
       "    }\n",
       "\n",
       "    .dataframe thead th {\n",
       "        text-align: right;\n",
       "    }\n",
       "</style>\n",
       "<table border=\"1\" class=\"dataframe\">\n",
       "  <thead>\n",
       "    <tr style=\"text-align: right;\">\n",
       "      <th></th>\n",
       "      <th>f0</th>\n",
       "      <th>f1</th>\n",
       "      <th>f2</th>\n",
       "      <th>product</th>\n",
       "      <th>predicted_product</th>\n",
       "      <th>profit</th>\n",
       "    </tr>\n",
       "  </thead>\n",
       "  <tbody>\n",
       "    <tr>\n",
       "      <th>count</th>\n",
       "      <td>200.000000</td>\n",
       "      <td>200.000000</td>\n",
       "      <td>200.000000</td>\n",
       "      <td>200.000000</td>\n",
       "      <td>200.000000</td>\n",
       "      <td>2.000000e+02</td>\n",
       "    </tr>\n",
       "    <tr>\n",
       "      <th>mean</th>\n",
       "      <td>1.136109</td>\n",
       "      <td>-0.261504</td>\n",
       "      <td>11.768629</td>\n",
       "      <td>149.934491</td>\n",
       "      <td>163.217735</td>\n",
       "      <td>1.747052e+07</td>\n",
       "    </tr>\n",
       "    <tr>\n",
       "      <th>std</th>\n",
       "      <td>0.585125</td>\n",
       "      <td>0.334853</td>\n",
       "      <td>1.151700</td>\n",
       "      <td>23.496899</td>\n",
       "      <td>5.773705</td>\n",
       "      <td>1.057360e+07</td>\n",
       "    </tr>\n",
       "    <tr>\n",
       "      <th>min</th>\n",
       "      <td>-1.088629</td>\n",
       "      <td>-0.721746</td>\n",
       "      <td>9.878737</td>\n",
       "      <td>58.420650</td>\n",
       "      <td>157.111862</td>\n",
       "      <td>-2.371071e+07</td>\n",
       "    </tr>\n",
       "    <tr>\n",
       "      <th>25%</th>\n",
       "      <td>0.794608</td>\n",
       "      <td>-0.508063</td>\n",
       "      <td>10.910223</td>\n",
       "      <td>138.518964</td>\n",
       "      <td>159.226680</td>\n",
       "      <td>1.233353e+07</td>\n",
       "    </tr>\n",
       "    <tr>\n",
       "      <th>50%</th>\n",
       "      <td>1.131863</td>\n",
       "      <td>-0.375296</td>\n",
       "      <td>11.501647</td>\n",
       "      <td>153.171961</td>\n",
       "      <td>161.386015</td>\n",
       "      <td>1.892738e+07</td>\n",
       "    </tr>\n",
       "    <tr>\n",
       "      <th>75%</th>\n",
       "      <td>1.586752</td>\n",
       "      <td>-0.120075</td>\n",
       "      <td>12.408795</td>\n",
       "      <td>167.242744</td>\n",
       "      <td>165.698528</td>\n",
       "      <td>2.525923e+07</td>\n",
       "    </tr>\n",
       "    <tr>\n",
       "      <th>max</th>\n",
       "      <td>2.196539</td>\n",
       "      <td>0.884469</td>\n",
       "      <td>16.003790</td>\n",
       "      <td>185.010308</td>\n",
       "      <td>194.936305</td>\n",
       "      <td>3.325464e+07</td>\n",
       "    </tr>\n",
       "  </tbody>\n",
       "</table>\n",
       "</div>"
      ],
      "text/plain": [
       "               f0          f1          f2     product  predicted_product  \\\n",
       "count  200.000000  200.000000  200.000000  200.000000         200.000000   \n",
       "mean     1.136109   -0.261504   11.768629  149.934491         163.217735   \n",
       "std      0.585125    0.334853    1.151700   23.496899           5.773705   \n",
       "min     -1.088629   -0.721746    9.878737   58.420650         157.111862   \n",
       "25%      0.794608   -0.508063   10.910223  138.518964         159.226680   \n",
       "50%      1.131863   -0.375296   11.501647  153.171961         161.386015   \n",
       "75%      1.586752   -0.120075   12.408795  167.242744         165.698528   \n",
       "max      2.196539    0.884469   16.003790  185.010308         194.936305   \n",
       "\n",
       "             profit  \n",
       "count  2.000000e+02  \n",
       "mean   1.747052e+07  \n",
       "std    1.057360e+07  \n",
       "min   -2.371071e+07  \n",
       "25%    1.233353e+07  \n",
       "50%    1.892738e+07  \n",
       "75%    2.525923e+07  \n",
       "max    3.325464e+07  "
      ]
     },
     "execution_count": 143,
     "metadata": {},
     "output_type": "execute_result"
    }
   ],
   "source": [
    "df_0_top200_predict.describe()"
   ]
  },
  {
   "cell_type": "markdown",
   "metadata": {},
   "source": [
    "Среднее значение прибыли каждой скважины из 200 скважин с максимальными значениями предсказаний в регионе-0 ок. 17 млн. р., стандартное отклонение ок. 10 млн.р. (Скважина  с минимальным объемом из этих 200 (58 тыс. брл.) для которой прогноз оказался сильно завышенным будет убыточной). "
   ]
  },
  {
   "cell_type": "code",
   "execution_count": 144,
   "metadata": {},
   "outputs": [
    {
     "name": "stdout",
     "output_type": "stream",
     "text": [
      "суммарная прибыль 200 скважин с максимальными значениями предсказаний в регионе-0: 3.5 млрд. р.\n"
     ]
    }
   ],
   "source": [
    "print(\"суммарная прибыль 200 скважин с максимальными значениями предсказаний в регионе-0:\", \n",
    "      round(sum(df_0_top200_predict['profit'])/ 10**9, 1), 'млрд. р.')"
   ]
  },
  {
   "cell_type": "code",
   "execution_count": 145,
   "metadata": {
    "scrolled": false
   },
   "outputs": [
    {
     "data": {
      "text/html": [
       "<div>\n",
       "<style scoped>\n",
       "    .dataframe tbody tr th:only-of-type {\n",
       "        vertical-align: middle;\n",
       "    }\n",
       "\n",
       "    .dataframe tbody tr th {\n",
       "        vertical-align: top;\n",
       "    }\n",
       "\n",
       "    .dataframe thead th {\n",
       "        text-align: right;\n",
       "    }\n",
       "</style>\n",
       "<table border=\"1\" class=\"dataframe\">\n",
       "  <thead>\n",
       "    <tr style=\"text-align: right;\">\n",
       "      <th></th>\n",
       "      <th>f0</th>\n",
       "      <th>f1</th>\n",
       "      <th>f2</th>\n",
       "      <th>product</th>\n",
       "      <th>predicted_product</th>\n",
       "      <th>profit</th>\n",
       "    </tr>\n",
       "  </thead>\n",
       "  <tbody>\n",
       "    <tr>\n",
       "      <th>count</th>\n",
       "      <td>200.000000</td>\n",
       "      <td>200.000000</td>\n",
       "      <td>200.000000</td>\n",
       "      <td>2.000000e+02</td>\n",
       "      <td>200.000000</td>\n",
       "      <td>2.000000e+02</td>\n",
       "    </tr>\n",
       "    <tr>\n",
       "      <th>mean</th>\n",
       "      <td>-17.454631</td>\n",
       "      <td>-7.715054</td>\n",
       "      <td>5.001902</td>\n",
       "      <td>1.379454e+02</td>\n",
       "      <td>139.162291</td>\n",
       "      <td>1.207543e+07</td>\n",
       "    </tr>\n",
       "    <tr>\n",
       "      <th>std</th>\n",
       "      <td>2.050664</td>\n",
       "      <td>4.541973</td>\n",
       "      <td>0.005244</td>\n",
       "      <td>5.698606e-14</td>\n",
       "      <td>0.255698</td>\n",
       "      <td>3.734639e-09</td>\n",
       "    </tr>\n",
       "    <tr>\n",
       "      <th>min</th>\n",
       "      <td>-26.646255</td>\n",
       "      <td>-21.827682</td>\n",
       "      <td>4.988211</td>\n",
       "      <td>1.379454e+02</td>\n",
       "      <td>138.895998</td>\n",
       "      <td>1.207543e+07</td>\n",
       "    </tr>\n",
       "    <tr>\n",
       "      <th>25%</th>\n",
       "      <td>-18.826992</td>\n",
       "      <td>-10.688653</td>\n",
       "      <td>4.998158</td>\n",
       "      <td>1.379454e+02</td>\n",
       "      <td>138.978525</td>\n",
       "      <td>1.207543e+07</td>\n",
       "    </tr>\n",
       "    <tr>\n",
       "      <th>50%</th>\n",
       "      <td>-17.069183</td>\n",
       "      <td>-7.718043</td>\n",
       "      <td>5.001951</td>\n",
       "      <td>1.379454e+02</td>\n",
       "      <td>139.076399</td>\n",
       "      <td>1.207543e+07</td>\n",
       "    </tr>\n",
       "    <tr>\n",
       "      <th>75%</th>\n",
       "      <td>-16.109616</td>\n",
       "      <td>-4.946081</td>\n",
       "      <td>5.005232</td>\n",
       "      <td>1.379454e+02</td>\n",
       "      <td>139.291524</td>\n",
       "      <td>1.207543e+07</td>\n",
       "    </tr>\n",
       "    <tr>\n",
       "      <th>max</th>\n",
       "      <td>-13.110444</td>\n",
       "      <td>4.523771</td>\n",
       "      <td>5.015957</td>\n",
       "      <td>1.379454e+02</td>\n",
       "      <td>140.359367</td>\n",
       "      <td>1.207543e+07</td>\n",
       "    </tr>\n",
       "  </tbody>\n",
       "</table>\n",
       "</div>"
      ],
      "text/plain": [
       "               f0          f1          f2       product  predicted_product  \\\n",
       "count  200.000000  200.000000  200.000000  2.000000e+02         200.000000   \n",
       "mean   -17.454631   -7.715054    5.001902  1.379454e+02         139.162291   \n",
       "std      2.050664    4.541973    0.005244  5.698606e-14           0.255698   \n",
       "min    -26.646255  -21.827682    4.988211  1.379454e+02         138.895998   \n",
       "25%    -18.826992  -10.688653    4.998158  1.379454e+02         138.978525   \n",
       "50%    -17.069183   -7.718043    5.001951  1.379454e+02         139.076399   \n",
       "75%    -16.109616   -4.946081    5.005232  1.379454e+02         139.291524   \n",
       "max    -13.110444    4.523771    5.015957  1.379454e+02         140.359367   \n",
       "\n",
       "             profit  \n",
       "count  2.000000e+02  \n",
       "mean   1.207543e+07  \n",
       "std    3.734639e-09  \n",
       "min    1.207543e+07  \n",
       "25%    1.207543e+07  \n",
       "50%    1.207543e+07  \n",
       "75%    1.207543e+07  \n",
       "max    1.207543e+07  "
      ]
     },
     "execution_count": 145,
     "metadata": {},
     "output_type": "execute_result"
    }
   ],
   "source": [
    "# для региона-1 (если весь бюджет идет на 200 а не 500 скважин)\n",
    "df_1_top200_predict = df_1.sort_values(by='predicted_product', ascending = False).head(200)\n",
    "df_1_top200_predict['profit'] = (df_1_top200_predict['product'] * REV_PER_UNIT)- BUDG_PER_1\n",
    "df_1_top200_predict.describe()"
   ]
  },
  {
   "cell_type": "markdown",
   "metadata": {},
   "source": [
    "Среднее значение прибыли каждой скважины из 200 скважин с максимальными значениями предсказаний в регионе-1 ок. 12 млн. р., стандартное отклонение пренебрежительно мало. (Соответственно, завышение и занижение прогноза моделью практически отсутствует). "
   ]
  },
  {
   "cell_type": "code",
   "execution_count": 146,
   "metadata": {
    "scrolled": true
   },
   "outputs": [
    {
     "name": "stdout",
     "output_type": "stream",
     "text": [
      "суммарная прибыль 200 скважин с максимальными значениями предсказаний в регионе-1: 2.4 млрд. р.\n"
     ]
    }
   ],
   "source": [
    "print(\"суммарная прибыль 200 скважин с максимальными значениями предсказаний в регионе-1:\", \n",
    "      round(sum(df_1_top200_predict['profit'])/ 10**9, 1), 'млрд. р.')"
   ]
  },
  {
   "cell_type": "code",
   "execution_count": 147,
   "metadata": {
    "scrolled": true
   },
   "outputs": [
    {
     "data": {
      "text/html": [
       "<div>\n",
       "<style scoped>\n",
       "    .dataframe tbody tr th:only-of-type {\n",
       "        vertical-align: middle;\n",
       "    }\n",
       "\n",
       "    .dataframe tbody tr th {\n",
       "        vertical-align: top;\n",
       "    }\n",
       "\n",
       "    .dataframe thead th {\n",
       "        text-align: right;\n",
       "    }\n",
       "</style>\n",
       "<table border=\"1\" class=\"dataframe\">\n",
       "  <thead>\n",
       "    <tr style=\"text-align: right;\">\n",
       "      <th></th>\n",
       "      <th>f0</th>\n",
       "      <th>f1</th>\n",
       "      <th>f2</th>\n",
       "      <th>product</th>\n",
       "      <th>predicted_product</th>\n",
       "      <th>profit</th>\n",
       "    </tr>\n",
       "  </thead>\n",
       "  <tbody>\n",
       "    <tr>\n",
       "      <th>count</th>\n",
       "      <td>200.000000</td>\n",
       "      <td>200.000000</td>\n",
       "      <td>200.000000</td>\n",
       "      <td>200.000000</td>\n",
       "      <td>200.000000</td>\n",
       "      <td>2.000000e+02</td>\n",
       "    </tr>\n",
       "    <tr>\n",
       "      <th>mean</th>\n",
       "      <td>0.022196</td>\n",
       "      <td>-0.107039</td>\n",
       "      <td>13.222745</td>\n",
       "      <td>139.682340</td>\n",
       "      <td>156.264284</td>\n",
       "      <td>1.285705e+07</td>\n",
       "    </tr>\n",
       "    <tr>\n",
       "      <th>std</th>\n",
       "      <td>1.663291</td>\n",
       "      <td>1.753950</td>\n",
       "      <td>0.897730</td>\n",
       "      <td>27.458490</td>\n",
       "      <td>5.119915</td>\n",
       "      <td>1.235632e+07</td>\n",
       "    </tr>\n",
       "    <tr>\n",
       "      <th>min</th>\n",
       "      <td>-4.065346</td>\n",
       "      <td>-3.969345</td>\n",
       "      <td>12.315142</td>\n",
       "      <td>47.575997</td>\n",
       "      <td>151.238236</td>\n",
       "      <td>-2.859080e+07</td>\n",
       "    </tr>\n",
       "    <tr>\n",
       "      <th>25%</th>\n",
       "      <td>-1.043047</td>\n",
       "      <td>-1.343905</td>\n",
       "      <td>12.620246</td>\n",
       "      <td>124.936026</td>\n",
       "      <td>152.785023</td>\n",
       "      <td>6.221212e+06</td>\n",
       "    </tr>\n",
       "    <tr>\n",
       "      <th>50%</th>\n",
       "      <td>-0.037558</td>\n",
       "      <td>-0.122118</td>\n",
       "      <td>12.876061</td>\n",
       "      <td>141.402421</td>\n",
       "      <td>154.287795</td>\n",
       "      <td>1.363109e+07</td>\n",
       "    </tr>\n",
       "    <tr>\n",
       "      <th>75%</th>\n",
       "      <td>1.239070</td>\n",
       "      <td>1.034646</td>\n",
       "      <td>13.588655</td>\n",
       "      <td>159.836352</td>\n",
       "      <td>158.309209</td>\n",
       "      <td>2.192636e+07</td>\n",
       "    </tr>\n",
       "    <tr>\n",
       "      <th>max</th>\n",
       "      <td>4.024527</td>\n",
       "      <td>4.076270</td>\n",
       "      <td>16.739402</td>\n",
       "      <td>187.769619</td>\n",
       "      <td>176.120799</td>\n",
       "      <td>3.449633e+07</td>\n",
       "    </tr>\n",
       "  </tbody>\n",
       "</table>\n",
       "</div>"
      ],
      "text/plain": [
       "               f0          f1          f2     product  predicted_product  \\\n",
       "count  200.000000  200.000000  200.000000  200.000000         200.000000   \n",
       "mean     0.022196   -0.107039   13.222745  139.682340         156.264284   \n",
       "std      1.663291    1.753950    0.897730   27.458490           5.119915   \n",
       "min     -4.065346   -3.969345   12.315142   47.575997         151.238236   \n",
       "25%     -1.043047   -1.343905   12.620246  124.936026         152.785023   \n",
       "50%     -0.037558   -0.122118   12.876061  141.402421         154.287795   \n",
       "75%      1.239070    1.034646   13.588655  159.836352         158.309209   \n",
       "max      4.024527    4.076270   16.739402  187.769619         176.120799   \n",
       "\n",
       "             profit  \n",
       "count  2.000000e+02  \n",
       "mean   1.285705e+07  \n",
       "std    1.235632e+07  \n",
       "min   -2.859080e+07  \n",
       "25%    6.221212e+06  \n",
       "50%    1.363109e+07  \n",
       "75%    2.192636e+07  \n",
       "max    3.449633e+07  "
      ]
     },
     "execution_count": 147,
     "metadata": {},
     "output_type": "execute_result"
    }
   ],
   "source": [
    "# для региона-2\n",
    "df_2_top200_predict = df_2.sort_values(by='predicted_product', ascending = False).head(200)\n",
    "df_2_top200_predict['profit'] = (df_2_top200_predict['product'] * REV_PER_UNIT)- BUDG_PER_1\n",
    "df_2_top200_predict.describe()"
   ]
  },
  {
   "cell_type": "markdown",
   "metadata": {},
   "source": [
    "Среднее значение прибыли каждой скважины из 200 скважин с максимальными значениями предсказаний в регионе-2 ок. 12 млн. р., стандартное отклонение ок. 12 млн.р. (Скважина с минимальным фактическим объемом из этих 200 (47.5 тыс. брл.), для которой прогноз оказался сильно завышенным, будет убыточной."
   ]
  },
  {
   "cell_type": "code",
   "execution_count": 148,
   "metadata": {},
   "outputs": [
    {
     "name": "stdout",
     "output_type": "stream",
     "text": [
      "суммарная прибыль 200 скважин с максимальными значениями предсказаний в регионе-2: 2.6 млрд. р.\n"
     ]
    }
   ],
   "source": [
    "print(\"суммарная прибыль 200 скважин с максимальными значениями предсказаний в регионе-2:\", \n",
    "      round(sum(df_2_top200_predict['profit'])/ 10**9, 1), 'млрд. р.')"
   ]
  },
  {
   "cell_type": "markdown",
   "metadata": {},
   "source": [
    "**Промежуточный вывод:** суммарная прибыль 200 скважин с максимальными предсказаниями (из всех 10000 скважин каждого региона, а не из 500 случайно отобранных 1000 раз) следующая: \n",
    "<br><br>\n",
    "регион-0: 3.5 млрд. р.\n",
    "<br>\n",
    "регион-1: 2.4 млрд. р.\n",
    "<br>\n",
    "регион-2: 2.6 млрд. р."
   ]
  },
  {
   "cell_type": "markdown",
   "metadata": {},
   "source": [
    "### Бутстреп и ожидаемые прибыли и риски "
   ]
  },
  {
   "cell_type": "code",
   "execution_count": 149,
   "metadata": {},
   "outputs": [],
   "source": [
    "# 5. Посчитайте риски и прибыль для каждого региона"
   ]
  },
  {
   "cell_type": "code",
   "execution_count": 150,
   "metadata": {
    "scrolled": true
   },
   "outputs": [
    {
     "data": {
      "text/html": [
       "<div>\n",
       "<style scoped>\n",
       "    .dataframe tbody tr th:only-of-type {\n",
       "        vertical-align: middle;\n",
       "    }\n",
       "\n",
       "    .dataframe tbody tr th {\n",
       "        vertical-align: top;\n",
       "    }\n",
       "\n",
       "    .dataframe thead th {\n",
       "        text-align: right;\n",
       "    }\n",
       "</style>\n",
       "<table border=\"1\" class=\"dataframe\">\n",
       "  <thead>\n",
       "    <tr style=\"text-align: right;\">\n",
       "      <th></th>\n",
       "      <th>f0</th>\n",
       "      <th>f1</th>\n",
       "      <th>f2</th>\n",
       "      <th>product</th>\n",
       "      <th>predicted_product</th>\n",
       "    </tr>\n",
       "  </thead>\n",
       "  <tbody>\n",
       "    <tr>\n",
       "      <th>36555</th>\n",
       "      <td>-0.424958</td>\n",
       "      <td>-0.718309</td>\n",
       "      <td>3.830402</td>\n",
       "      <td>151.184365</td>\n",
       "      <td>102.659458</td>\n",
       "    </tr>\n",
       "    <tr>\n",
       "      <th>79938</th>\n",
       "      <td>0.730252</td>\n",
       "      <td>-1.545581</td>\n",
       "      <td>-2.127110</td>\n",
       "      <td>26.647897</td>\n",
       "      <td>68.721129</td>\n",
       "    </tr>\n",
       "    <tr>\n",
       "      <th>83585</th>\n",
       "      <td>-1.054350</td>\n",
       "      <td>0.791810</td>\n",
       "      <td>3.404507</td>\n",
       "      <td>153.766595</td>\n",
       "      <td>100.145510</td>\n",
       "    </tr>\n",
       "    <tr>\n",
       "      <th>78777</th>\n",
       "      <td>-1.295463</td>\n",
       "      <td>-2.870719</td>\n",
       "      <td>1.191057</td>\n",
       "      <td>61.812812</td>\n",
       "      <td>87.655851</td>\n",
       "    </tr>\n",
       "    <tr>\n",
       "      <th>32057</th>\n",
       "      <td>-0.629063</td>\n",
       "      <td>3.575756</td>\n",
       "      <td>6.244970</td>\n",
       "      <td>149.766402</td>\n",
       "      <td>116.256982</td>\n",
       "    </tr>\n",
       "    <tr>\n",
       "      <th>53458</th>\n",
       "      <td>1.027523</td>\n",
       "      <td>3.061345</td>\n",
       "      <td>5.597768</td>\n",
       "      <td>156.382263</td>\n",
       "      <td>112.635197</td>\n",
       "    </tr>\n",
       "    <tr>\n",
       "      <th>95842</th>\n",
       "      <td>-1.302027</td>\n",
       "      <td>-4.385681</td>\n",
       "      <td>11.655253</td>\n",
       "      <td>163.031221</td>\n",
       "      <td>147.454399</td>\n",
       "    </tr>\n",
       "    <tr>\n",
       "      <th>8772</th>\n",
       "      <td>1.802336</td>\n",
       "      <td>-1.709402</td>\n",
       "      <td>3.251074</td>\n",
       "      <td>167.862488</td>\n",
       "      <td>99.462749</td>\n",
       "    </tr>\n",
       "    <tr>\n",
       "      <th>62677</th>\n",
       "      <td>-0.185147</td>\n",
       "      <td>-0.516752</td>\n",
       "      <td>5.514363</td>\n",
       "      <td>34.509063</td>\n",
       "      <td>112.271400</td>\n",
       "    </tr>\n",
       "    <tr>\n",
       "      <th>39640</th>\n",
       "      <td>-0.477420</td>\n",
       "      <td>-1.093352</td>\n",
       "      <td>4.923009</td>\n",
       "      <td>127.780769</td>\n",
       "      <td>108.910734</td>\n",
       "    </tr>\n",
       "  </tbody>\n",
       "</table>\n",
       "</div>"
      ],
      "text/plain": [
       "             f0        f1         f2     product  predicted_product\n",
       "36555 -0.424958 -0.718309   3.830402  151.184365         102.659458\n",
       "79938  0.730252 -1.545581  -2.127110   26.647897          68.721129\n",
       "83585 -1.054350  0.791810   3.404507  153.766595         100.145510\n",
       "78777 -1.295463 -2.870719   1.191057   61.812812          87.655851\n",
       "32057 -0.629063  3.575756   6.244970  149.766402         116.256982\n",
       "53458  1.027523  3.061345   5.597768  156.382263         112.635197\n",
       "95842 -1.302027 -4.385681  11.655253  163.031221         147.454399\n",
       "8772   1.802336 -1.709402   3.251074  167.862488          99.462749\n",
       "62677 -0.185147 -0.516752   5.514363   34.509063         112.271400\n",
       "39640 -0.477420 -1.093352   4.923009  127.780769         108.910734"
      ]
     },
     "metadata": {},
     "output_type": "display_data"
    }
   ],
   "source": [
    "display(df_2.sample(10))"
   ]
  },
  {
   "cell_type": "markdown",
   "metadata": {},
   "source": [
    "### Правильный бутстреп"
   ]
  },
  {
   "cell_type": "code",
   "execution_count": 168,
   "metadata": {},
   "outputs": [
    {
     "name": "stdout",
     "output_type": "stream",
     "text": [
      "Ожидаемая средняя прибыль 200 скважин: 426 млн. р.\n",
      "Верхняя граница 95%-го доверительного интервала: 948 млн. р.\n",
      "Нижняя граница 95%-го доверительного интервала: -102 млн. р.\n",
      "Риск потерь: 6.0 %\n"
     ]
    }
   ],
   "source": [
    "# функция подсчета прибыли и бутстреп для одного региона (региона-0)\n",
    "\n",
    "def revenue(predictions, target, count):\n",
    "    predictions_sorted = predictions.sort_values(ascending=False)\n",
    "    selected = target[predictions_sorted.index][:count]\n",
    "    return (selected.sum() * REV_PER_UNIT) - BUDG_PER_REG\n",
    "\n",
    "target_valid_0 = target_valid_0.reset_index(drop=True)    \n",
    "values = []\n",
    "negative_profit_count = 0\n",
    "state = np.random.RandomState(12345)\n",
    "\n",
    "for i in range(1000):\n",
    "    target_subsample = target_valid_0.sample(n=500, replace=True, random_state=state)\n",
    "    predictions_subsample = predictions_valid_0[target_subsample.index]\n",
    "    values.append(revenue(predictions_subsample, target_subsample, 200))\n",
    "\n",
    "values = pd.Series(values)\n",
    "for value in values:\n",
    "    if value < 0:\n",
    "        negative_profit_count += 1\n",
    "lower = values.quantile(0.025)\n",
    "upper = values.quantile(0.975)\n",
    "    \n",
    "print('Ожидаемая средняя прибыль 200 скважин:',round(values.mean()/ 10**6),'млн. р.') \n",
    "print('Верхняя граница 95%-го доверительного интервала:', round(upper/ 10**6), 'млн. р.')\n",
    "print('Нижняя граница 95%-го доверительного интервала:', round(lower/ 10**6), 'млн. р.')\n",
    "print('Риск потерь:', (negative_profit_count / 1000) * 100, '%')   \n"
   ]
  },
  {
   "cell_type": "code",
   "execution_count": 169,
   "metadata": {},
   "outputs": [],
   "source": [
    "# функция подсчета прибыли и функция бутстрепа для регионов\n",
    "\n",
    "def revenue(predictions, target, count):\n",
    "    predictions_sorted = predictions.sort_values(ascending=False)\n",
    "    selected = target[predictions_sorted.index][:count]\n",
    "    return (selected.sum() * REV_PER_UNIT) - BUDG_PER_REG\n",
    "\n",
    "def boot(predictions_valid, target_valid):\n",
    "    target_valid = target_valid.reset_index(drop=True)\n",
    "    predictions_valid = pd.Series(predictions_valid)\n",
    "\n",
    "    values = []\n",
    "    negative_profit_count = 0\n",
    "    state = np.random.RandomState(12345)\n",
    "\n",
    "    for i in range(1000):\n",
    "        target_subsample = target_valid.sample(n=500, replace=True, random_state=state)\n",
    "        predictions_subsample = predictions_valid[target_subsample.index]\n",
    "        values.append(revenue(predictions_subsample, target_subsample, 200))\n",
    "\n",
    "    values = pd.Series(values)\n",
    "    for value in values:\n",
    "        if value < 0:\n",
    "            negative_profit_count += 1\n",
    "    lower = values.quantile(0.025)\n",
    "    upper = values.quantile(0.975)\n",
    "    return (values, lower, upper, negative_profit_count)\n",
    "    "
   ]
  },
  {
   "cell_type": "code",
   "execution_count": 170,
   "metadata": {},
   "outputs": [
    {
     "name": "stdout",
     "output_type": "stream",
     "text": [
      "Ожидаемая средняя прибыль 200 скважин: 426 млн. р.\n",
      "Верхняя граница 95%-го доверительного интервала: 948 млн. р.\n",
      "Нижняя граница 95%-го доверительного интервала: -102 млн. р.\n",
      "Риск потерь: 6.0 %\n"
     ]
    }
   ],
   "source": [
    "# результаты для региона-0\n",
    "\n",
    "values, lower, upper, negative_profit_count = boot(predictions_valid_0, target_valid_0)\n",
    "\n",
    "print('Ожидаемая средняя прибыль 200 скважин:',round(values.mean()/ 10**6),'млн. р.') \n",
    "print('Верхняя граница 95%-го доверительного интервала:', round(upper/ 10**6), 'млн. р.')\n",
    "print('Нижняя граница 95%-го доверительного интервала:', round(lower/ 10**6), 'млн. р.')\n",
    "print('Риск потерь:', (negative_profit_count / 1000) * 100, '%')"
   ]
  },
  {
   "cell_type": "code",
   "execution_count": 171,
   "metadata": {},
   "outputs": [
    {
     "name": "stdout",
     "output_type": "stream",
     "text": [
      "Ожидаемая средняя прибыль 200 скважин: 515 млн. р.\n",
      "Верхняя граница 95%-го доверительного интервала: 932 млн. р.\n",
      "Нижняя граница 95%-го доверительного интервала: 69 млн. р.\n",
      "Риск потерь: 1.0 %\n"
     ]
    }
   ],
   "source": [
    "# результаты для региона-1\n",
    "\n",
    "values, lower, upper, negative_profit_count = boot(predictions_valid_1, target_valid_1)\n",
    "\n",
    "print('Ожидаемая средняя прибыль 200 скважин:',round(values.mean()/ 10**6),'млн. р.') \n",
    "print('Верхняя граница 95%-го доверительного интервала:', round(upper/ 10**6), 'млн. р.')\n",
    "print('Нижняя граница 95%-го доверительного интервала:', round(lower/ 10**6), 'млн. р.')\n",
    "print('Риск потерь:', (negative_profit_count / 1000) * 100, '%')"
   ]
  },
  {
   "cell_type": "code",
   "execution_count": 172,
   "metadata": {},
   "outputs": [
    {
     "name": "stdout",
     "output_type": "stream",
     "text": [
      "Ожидаемая средняя прибыль 200 скважин: 435 млн. р.\n",
      "Верхняя граница 95%-го доверительного интервала: 970 млн. р.\n",
      "Нижняя граница 95%-го доверительного интервала: -129 млн. р.\n",
      "Риск потерь: 6.4 %\n"
     ]
    }
   ],
   "source": [
    "# результаты для региона-2\n",
    "\n",
    "values, lower, upper, negative_profit_count = boot(predictions_valid_2, target_valid_2)\n",
    "\n",
    "print('Ожидаемая средняя прибыль 200 скважин:',round(values.mean()/ 10**6),'млн. р.') \n",
    "print('Верхняя граница 95%-го доверительного интервала:', round(upper/ 10**6), 'млн. р.')\n",
    "print('Нижняя граница 95%-го доверительного интервала:', round(lower/ 10**6), 'млн. р.')\n",
    "print('Риск потерь:', (negative_profit_count / 1000) * 100, '%')"
   ]
  },
  {
   "cell_type": "markdown",
   "metadata": {},
   "source": [
    "### Бутстреп датафреймов и предсказания по всем 10_000"
   ]
  },
  {
   "cell_type": "code",
   "execution_count": 173,
   "metadata": {},
   "outputs": [],
   "source": [
    "# Функция для бутстрепа, которая берет на вход имена датафреймов для регионов:\n",
    "\n",
    "def bootstrap(df):\n",
    "\n",
    "    values = []\n",
    "    negative_profit_count = 0\n",
    "\n",
    "    state = np.random.RandomState(12345)\n",
    "    for i in range(1000):\n",
    "        df_subsample = df.sample(n=500, replace=True, random_state=state)\n",
    "        df_subsample_200 = df_subsample.sort_values(by='predicted_product', ascending = False).head(200)\n",
    "        values.append((df_subsample_200['product'].sum() * REV_PER_UNIT) - BUDG_PER_REG)\n",
    "    \n",
    "\n",
    "    values = pd.Series(values)\n",
    "    for value in values:\n",
    "        if value < 0:\n",
    "            negative_profit_count += 1\n",
    "    lower = values.quantile(0.025)\n",
    "    upper = values.quantile(0.975)\n",
    "    return (values, lower, upper, negative_profit_count)  \n",
    "\n"
   ]
  },
  {
   "cell_type": "code",
   "execution_count": 71,
   "metadata": {},
   "outputs": [
    {
     "name": "stdout",
     "output_type": "stream",
     "text": [
      "Ожидаемая средняя прибыль 200 скважин: 374 млн. р.\n",
      "Верхняя граница 95%-го доверительного интервала: 896 млн. р.\n",
      "Нижняя граница 95%-го доверительного интервала: -182 млн. р.\n",
      "Риск потерь: 9.2 %\n"
     ]
    }
   ],
   "source": [
    "# результаты для региона-2:\n",
    "\n",
    "values, lower, upper, negative_profit_count = bootstrap(df_2)\n",
    "\n",
    "print('Ожидаемая средняя прибыль 200 скважин:',round(values.mean()/ 10**6),'млн. р.') \n",
    "print('Верхняя граница 95%-го доверительного интервала:', round(upper/ 10**6), 'млн. р.')\n",
    "print('Нижняя граница 95%-го доверительного интервала:', round(lower/ 10**6), 'млн. р.')\n",
    "print('Риск потерь:', (negative_profit_count / 1000) * 100, '%')"
   ]
  },
  {
   "cell_type": "code",
   "execution_count": 72,
   "metadata": {},
   "outputs": [
    {
     "name": "stdout",
     "output_type": "stream",
     "text": [
      "Ожидаемая средняя прибыль 200 скважин: 449 млн. р.\n",
      "Верхняя граница 95%-го доверительного интервала: 824 млн. р.\n",
      "Нижняя граница 95%-го доверительного интервала: 37 млн. р.\n",
      "Риск потерь: 1.4000000000000001 %\n"
     ]
    }
   ],
   "source": [
    "# результаты для региона-1:\n",
    "\n",
    "values, lower, upper, negative_profit_count = bootstrap(df_1)\n",
    "\n",
    "print('Ожидаемая средняя прибыль 200 скважин:',round(values.mean()/ 10**6),'млн. р.') \n",
    "print('Верхняя граница 95%-го доверительного интервала:', round(upper/ 10**6), 'млн. р.')\n",
    "print('Нижняя граница 95%-го доверительного интервала:', round(lower/ 10**6), 'млн. р.')\n",
    "print('Риск потерь:', (negative_profit_count / 1000) * 100, '%')"
   ]
  },
  {
   "cell_type": "code",
   "execution_count": 73,
   "metadata": {},
   "outputs": [
    {
     "name": "stdout",
     "output_type": "stream",
     "text": [
      "Ожидаемая средняя прибыль 200 скважин: 424 млн. р.\n",
      "Верхняя граница 95%-го доверительного интервала: 969 млн. р.\n",
      "Нижняя граница 95%-го доверительного интервала: -78 млн. р.\n",
      "Риск потерь: 5.2 %\n"
     ]
    }
   ],
   "source": [
    "# результаты для региона-0:\n",
    "\n",
    "values, lower, upper, negative_profit_count = bootstrap(df_0)\n",
    "\n",
    "print('Ожидаемая средняя прибыль 200 скважин:',round(values.mean()/ 10**6),'млн. р.') \n",
    "print('Верхняя граница 95%-го доверительного интервала:', round(upper/ 10**6), 'млн. р.')\n",
    "print('Нижняя граница 95%-го доверительного интервала:', round(lower/ 10**6), 'млн. р.')\n",
    "print('Риск потерь:', (negative_profit_count / 1000) * 100, '%')"
   ]
  },
  {
   "cell_type": "markdown",
   "metadata": {},
   "source": [
    "## Вывод"
   ]
  },
  {
   "cell_type": "markdown",
   "metadata": {},
   "source": [
    "Ожидаемая средняя прибыль 200 скважин оказалась несколько выше в регионе-1 (449 млн. р.), чем в регионе-0 (424 млн. р.) и регионе-2 (374 млн. р.). При этом риск потерь в регионе-1 (1.4%) заметно ниже, чем в регионе-0 (9.2%) и регионе-2 (5.2%). Поэтому следует выбрать регион-1, даже несмотря на то, что максимальные запасы и максимальные прибыли выше в регионах-0 и 2.  "
   ]
  }
 ],
 "metadata": {
  "ExecuteTimeLog": [
   {
    "duration": 1531,
    "start_time": "2023-01-08T12:00:17.828Z"
   },
   {
    "duration": 819,
    "start_time": "2023-01-08T12:00:22.433Z"
   },
   {
    "duration": 16,
    "start_time": "2023-01-08T12:01:37.228Z"
   },
   {
    "duration": 26,
    "start_time": "2023-01-08T12:07:56.655Z"
   },
   {
    "duration": 17,
    "start_time": "2023-01-08T12:18:33.335Z"
   },
   {
    "duration": 20,
    "start_time": "2023-01-08T12:20:20.577Z"
   },
   {
    "duration": 48,
    "start_time": "2023-01-08T12:23:27.346Z"
   },
   {
    "duration": 614,
    "start_time": "2023-01-08T12:24:37.327Z"
   },
   {
    "duration": 688,
    "start_time": "2023-01-08T12:25:36.122Z"
   },
   {
    "duration": 508,
    "start_time": "2023-01-08T12:27:49.519Z"
   },
   {
    "duration": 79,
    "start_time": "2023-01-08T12:37:10.247Z"
   },
   {
    "duration": 42,
    "start_time": "2023-01-08T12:37:46.296Z"
   },
   {
    "duration": 39,
    "start_time": "2023-01-08T12:37:58.035Z"
   },
   {
    "duration": 38,
    "start_time": "2023-01-08T12:38:56.436Z"
   },
   {
    "duration": 388,
    "start_time": "2023-01-08T12:49:24.488Z"
   },
   {
    "duration": 390,
    "start_time": "2023-01-08T12:50:36.114Z"
   },
   {
    "duration": 360,
    "start_time": "2023-01-08T12:52:27.965Z"
   },
   {
    "duration": 4,
    "start_time": "2023-01-08T13:30:16.317Z"
   },
   {
    "duration": 7,
    "start_time": "2023-01-08T13:36:29.824Z"
   },
   {
    "duration": 34,
    "start_time": "2023-01-08T13:53:39.813Z"
   },
   {
    "duration": 12,
    "start_time": "2023-01-08T13:57:09.697Z"
   },
   {
    "duration": 21,
    "start_time": "2023-01-08T13:58:19.315Z"
   },
   {
    "duration": 99,
    "start_time": "2023-01-08T13:59:32.177Z"
   },
   {
    "duration": 9,
    "start_time": "2023-01-08T13:59:51.712Z"
   },
   {
    "duration": 3,
    "start_time": "2023-01-08T14:00:37.465Z"
   },
   {
    "duration": 17,
    "start_time": "2023-01-08T14:00:50.419Z"
   },
   {
    "duration": 8,
    "start_time": "2023-01-08T14:00:54.709Z"
   },
   {
    "duration": 8,
    "start_time": "2023-01-08T14:01:02.307Z"
   },
   {
    "duration": 5,
    "start_time": "2023-01-08T14:02:27.275Z"
   },
   {
    "duration": 3,
    "start_time": "2023-01-08T14:03:01.755Z"
   },
   {
    "duration": 8,
    "start_time": "2023-01-08T14:03:11.323Z"
   },
   {
    "duration": 4,
    "start_time": "2023-01-08T14:03:44.519Z"
   },
   {
    "duration": 424,
    "start_time": "2023-01-08T14:03:44.524Z"
   },
   {
    "duration": 27,
    "start_time": "2023-01-08T14:03:44.950Z"
   },
   {
    "duration": 13,
    "start_time": "2023-01-08T14:03:44.979Z"
   },
   {
    "duration": 36,
    "start_time": "2023-01-08T14:03:44.993Z"
   },
   {
    "duration": 610,
    "start_time": "2023-01-08T14:03:45.031Z"
   },
   {
    "duration": 666,
    "start_time": "2023-01-08T14:03:45.643Z"
   },
   {
    "duration": 629,
    "start_time": "2023-01-08T14:03:46.315Z"
   },
   {
    "duration": 32,
    "start_time": "2023-01-08T14:03:46.946Z"
   },
   {
    "duration": 42,
    "start_time": "2023-01-08T14:03:46.980Z"
   },
   {
    "duration": 31,
    "start_time": "2023-01-08T14:03:47.024Z"
   },
   {
    "duration": 343,
    "start_time": "2023-01-08T14:03:47.056Z"
   },
   {
    "duration": 352,
    "start_time": "2023-01-08T14:03:47.400Z"
   },
   {
    "duration": 343,
    "start_time": "2023-01-08T14:03:47.754Z"
   },
   {
    "duration": 7,
    "start_time": "2023-01-08T14:03:48.099Z"
   },
   {
    "duration": 24,
    "start_time": "2023-01-08T14:04:08.463Z"
   },
   {
    "duration": 10,
    "start_time": "2023-01-08T14:04:36.382Z"
   },
   {
    "duration": 21,
    "start_time": "2023-01-08T14:09:49.988Z"
   },
   {
    "duration": 9,
    "start_time": "2023-01-08T14:09:57.882Z"
   },
   {
    "duration": 21,
    "start_time": "2023-01-08T14:10:17.576Z"
   },
   {
    "duration": 15,
    "start_time": "2023-01-08T14:12:30.729Z"
   },
   {
    "duration": 8,
    "start_time": "2023-01-08T14:12:50.609Z"
   },
   {
    "duration": 17,
    "start_time": "2023-01-08T14:14:39.211Z"
   },
   {
    "duration": 8,
    "start_time": "2023-01-08T14:15:12.184Z"
   },
   {
    "duration": 21,
    "start_time": "2023-01-08T14:27:30.563Z"
   },
   {
    "duration": 12,
    "start_time": "2023-01-08T14:29:50.310Z"
   },
   {
    "duration": 13,
    "start_time": "2023-01-08T14:31:31.108Z"
   },
   {
    "duration": 14,
    "start_time": "2023-01-08T14:35:04.004Z"
   },
   {
    "duration": 100,
    "start_time": "2023-01-08T14:36:58.817Z"
   },
   {
    "duration": 14,
    "start_time": "2023-01-08T14:40:00.374Z"
   },
   {
    "duration": 15,
    "start_time": "2023-01-08T14:43:55.820Z"
   },
   {
    "duration": 14,
    "start_time": "2023-01-08T14:44:49.779Z"
   },
   {
    "duration": 14,
    "start_time": "2023-01-08T14:45:13.002Z"
   },
   {
    "duration": 14,
    "start_time": "2023-01-08T14:45:39.922Z"
   },
   {
    "duration": 10,
    "start_time": "2023-01-09T09:59:32.847Z"
   },
   {
    "duration": 85,
    "start_time": "2023-01-09T10:27:01.611Z"
   },
   {
    "duration": 1509,
    "start_time": "2023-01-09T10:27:18.323Z"
   },
   {
    "duration": 1538,
    "start_time": "2023-01-09T10:27:19.835Z"
   },
   {
    "duration": 31,
    "start_time": "2023-01-09T10:27:21.375Z"
   },
   {
    "duration": 23,
    "start_time": "2023-01-09T10:27:21.408Z"
   },
   {
    "duration": 40,
    "start_time": "2023-01-09T10:27:21.433Z"
   },
   {
    "duration": 566,
    "start_time": "2023-01-09T10:27:21.474Z"
   },
   {
    "duration": 595,
    "start_time": "2023-01-09T10:27:22.042Z"
   },
   {
    "duration": 545,
    "start_time": "2023-01-09T10:27:22.639Z"
   },
   {
    "duration": 42,
    "start_time": "2023-01-09T10:27:23.186Z"
   },
   {
    "duration": 35,
    "start_time": "2023-01-09T10:27:23.230Z"
   },
   {
    "duration": 40,
    "start_time": "2023-01-09T10:27:23.267Z"
   },
   {
    "duration": 375,
    "start_time": "2023-01-09T10:27:23.308Z"
   },
   {
    "duration": 376,
    "start_time": "2023-01-09T10:27:23.684Z"
   },
   {
    "duration": 309,
    "start_time": "2023-01-09T10:27:24.062Z"
   },
   {
    "duration": 6,
    "start_time": "2023-01-09T10:27:24.373Z"
   },
   {
    "duration": 65,
    "start_time": "2023-01-09T10:27:24.381Z"
   },
   {
    "duration": 12,
    "start_time": "2023-01-09T10:27:24.448Z"
   },
   {
    "duration": 23,
    "start_time": "2023-01-09T10:27:24.461Z"
   },
   {
    "duration": 8,
    "start_time": "2023-01-09T10:27:24.485Z"
   },
   {
    "duration": 40,
    "start_time": "2023-01-09T10:27:24.495Z"
   },
   {
    "duration": 9,
    "start_time": "2023-01-09T10:27:24.537Z"
   },
   {
    "duration": 19,
    "start_time": "2023-01-09T10:27:24.547Z"
   },
   {
    "duration": 7,
    "start_time": "2023-01-09T10:27:24.568Z"
   },
   {
    "duration": 26,
    "start_time": "2023-01-09T10:27:46.062Z"
   },
   {
    "duration": 23,
    "start_time": "2023-01-09T10:28:15.025Z"
   },
   {
    "duration": 13,
    "start_time": "2023-01-09T10:28:32.614Z"
   },
   {
    "duration": 3,
    "start_time": "2023-01-09T10:49:56.410Z"
   },
   {
    "duration": 361,
    "start_time": "2023-01-09T10:49:56.416Z"
   },
   {
    "duration": 30,
    "start_time": "2023-01-09T10:49:56.779Z"
   },
   {
    "duration": 29,
    "start_time": "2023-01-09T10:49:56.810Z"
   },
   {
    "duration": 27,
    "start_time": "2023-01-09T10:49:56.841Z"
   },
   {
    "duration": 670,
    "start_time": "2023-01-09T10:49:56.870Z"
   },
   {
    "duration": 744,
    "start_time": "2023-01-09T10:49:57.542Z"
   },
   {
    "duration": 670,
    "start_time": "2023-01-09T10:49:58.287Z"
   },
   {
    "duration": 51,
    "start_time": "2023-01-09T10:49:58.960Z"
   },
   {
    "duration": 44,
    "start_time": "2023-01-09T10:49:59.013Z"
   },
   {
    "duration": 35,
    "start_time": "2023-01-09T10:49:59.058Z"
   },
   {
    "duration": 383,
    "start_time": "2023-01-09T10:49:59.095Z"
   },
   {
    "duration": 388,
    "start_time": "2023-01-09T10:49:59.482Z"
   },
   {
    "duration": 364,
    "start_time": "2023-01-09T10:49:59.871Z"
   },
   {
    "duration": 8,
    "start_time": "2023-01-09T10:50:00.236Z"
   },
   {
    "duration": 41,
    "start_time": "2023-01-09T10:50:00.245Z"
   },
   {
    "duration": 17,
    "start_time": "2023-01-09T10:50:00.288Z"
   },
   {
    "duration": 19,
    "start_time": "2023-01-09T10:50:04.266Z"
   },
   {
    "duration": 24,
    "start_time": "2023-01-09T10:50:25.550Z"
   },
   {
    "duration": 25,
    "start_time": "2023-01-09T10:50:25.576Z"
   },
   {
    "duration": 35,
    "start_time": "2023-01-09T10:50:25.603Z"
   },
   {
    "duration": 15,
    "start_time": "2023-01-09T10:50:25.641Z"
   },
   {
    "duration": 35,
    "start_time": "2023-01-09T10:50:25.658Z"
   },
   {
    "duration": 28,
    "start_time": "2023-01-09T10:50:25.695Z"
   },
   {
    "duration": 31,
    "start_time": "2023-01-09T10:50:25.726Z"
   },
   {
    "duration": 84,
    "start_time": "2023-01-09T10:50:25.760Z"
   },
   {
    "duration": 203,
    "start_time": "2023-01-09T10:50:25.846Z"
   },
   {
    "duration": 77,
    "start_time": "2023-01-09T10:50:26.051Z"
   },
   {
    "duration": 99,
    "start_time": "2023-01-09T10:50:26.130Z"
   },
   {
    "duration": 18,
    "start_time": "2023-01-09T11:11:42.132Z"
   },
   {
    "duration": 15,
    "start_time": "2023-01-09T11:12:05.883Z"
   },
   {
    "duration": 19,
    "start_time": "2023-01-09T11:13:50.785Z"
   },
   {
    "duration": 25,
    "start_time": "2023-01-09T13:55:16.495Z"
   },
   {
    "duration": 16,
    "start_time": "2023-01-09T13:56:03.639Z"
   },
   {
    "duration": 13,
    "start_time": "2023-01-09T14:08:18.107Z"
   },
   {
    "duration": 4,
    "start_time": "2023-01-09T15:51:22.692Z"
   },
   {
    "duration": 389,
    "start_time": "2023-01-09T15:51:22.698Z"
   },
   {
    "duration": 29,
    "start_time": "2023-01-09T15:51:23.089Z"
   },
   {
    "duration": 13,
    "start_time": "2023-01-09T15:51:23.125Z"
   },
   {
    "duration": 25,
    "start_time": "2023-01-09T15:51:23.140Z"
   },
   {
    "duration": 652,
    "start_time": "2023-01-09T15:51:23.167Z"
   },
   {
    "duration": 644,
    "start_time": "2023-01-09T15:51:23.820Z"
   },
   {
    "duration": 770,
    "start_time": "2023-01-09T15:51:24.466Z"
   },
   {
    "duration": 37,
    "start_time": "2023-01-09T15:51:25.238Z"
   },
   {
    "duration": 33,
    "start_time": "2023-01-09T15:51:25.276Z"
   },
   {
    "duration": 36,
    "start_time": "2023-01-09T15:51:25.327Z"
   },
   {
    "duration": 337,
    "start_time": "2023-01-09T15:51:25.365Z"
   },
   {
    "duration": 393,
    "start_time": "2023-01-09T15:51:25.703Z"
   },
   {
    "duration": 368,
    "start_time": "2023-01-09T15:51:26.100Z"
   },
   {
    "duration": 6,
    "start_time": "2023-01-09T15:51:26.470Z"
   },
   {
    "duration": 31,
    "start_time": "2023-01-09T15:51:26.478Z"
   },
   {
    "duration": 18,
    "start_time": "2023-01-09T15:51:26.510Z"
   },
   {
    "duration": 26,
    "start_time": "2023-01-09T15:51:26.530Z"
   },
   {
    "duration": 15,
    "start_time": "2023-01-09T15:51:26.558Z"
   },
   {
    "duration": 22,
    "start_time": "2023-01-09T15:51:26.575Z"
   },
   {
    "duration": 22,
    "start_time": "2023-01-09T15:51:26.599Z"
   },
   {
    "duration": 20,
    "start_time": "2023-01-09T15:51:26.623Z"
   },
   {
    "duration": 9,
    "start_time": "2023-01-09T15:51:26.645Z"
   },
   {
    "duration": 77,
    "start_time": "2023-01-09T15:51:26.655Z"
   },
   {
    "duration": 108,
    "start_time": "2023-01-09T15:51:26.734Z"
   },
   {
    "duration": 90,
    "start_time": "2023-01-09T15:51:26.844Z"
   },
   {
    "duration": 197,
    "start_time": "2023-01-09T15:51:26.935Z"
   },
   {
    "duration": 9,
    "start_time": "2023-01-09T15:51:27.134Z"
   },
   {
    "duration": 29,
    "start_time": "2023-01-09T15:51:30.658Z"
   },
   {
    "duration": 27,
    "start_time": "2023-01-09T15:51:35.655Z"
   },
   {
    "duration": 14,
    "start_time": "2023-01-09T15:52:02.318Z"
   },
   {
    "duration": 16,
    "start_time": "2023-01-09T15:52:12.046Z"
   },
   {
    "duration": 71,
    "start_time": "2023-01-09T16:37:34.790Z"
   },
   {
    "duration": 16,
    "start_time": "2023-01-09T16:37:54.790Z"
   },
   {
    "duration": 26,
    "start_time": "2023-01-09T16:38:47.325Z"
   },
   {
    "duration": 22,
    "start_time": "2023-01-09T16:51:01.606Z"
   },
   {
    "duration": 12,
    "start_time": "2023-01-09T16:51:25.850Z"
   },
   {
    "duration": 23,
    "start_time": "2023-01-09T16:56:02.468Z"
   },
   {
    "duration": 37,
    "start_time": "2023-01-09T17:09:46.184Z"
   },
   {
    "duration": 44,
    "start_time": "2023-01-09T17:30:56.770Z"
   },
   {
    "duration": 1463,
    "start_time": "2023-01-09T17:31:16.159Z"
   },
   {
    "duration": 616,
    "start_time": "2023-01-09T17:31:17.624Z"
   },
   {
    "duration": 31,
    "start_time": "2023-01-09T17:31:18.242Z"
   },
   {
    "duration": 15,
    "start_time": "2023-01-09T17:31:18.274Z"
   },
   {
    "duration": 20,
    "start_time": "2023-01-09T17:31:18.297Z"
   },
   {
    "duration": 520,
    "start_time": "2023-01-09T17:31:18.319Z"
   },
   {
    "duration": 608,
    "start_time": "2023-01-09T17:31:18.840Z"
   },
   {
    "duration": 500,
    "start_time": "2023-01-09T17:31:19.450Z"
   },
   {
    "duration": 45,
    "start_time": "2023-01-09T17:31:19.952Z"
   },
   {
    "duration": 35,
    "start_time": "2023-01-09T17:31:19.999Z"
   },
   {
    "duration": 38,
    "start_time": "2023-01-09T17:31:20.036Z"
   },
   {
    "duration": 391,
    "start_time": "2023-01-09T17:31:20.098Z"
   },
   {
    "duration": 326,
    "start_time": "2023-01-09T17:31:20.490Z"
   },
   {
    "duration": 313,
    "start_time": "2023-01-09T17:31:20.819Z"
   },
   {
    "duration": 7,
    "start_time": "2023-01-09T17:31:21.134Z"
   },
   {
    "duration": 36,
    "start_time": "2023-01-09T17:31:21.142Z"
   },
   {
    "duration": 20,
    "start_time": "2023-01-09T17:31:21.182Z"
   },
   {
    "duration": 32,
    "start_time": "2023-01-09T17:31:21.203Z"
   },
   {
    "duration": 7,
    "start_time": "2023-01-09T17:31:21.237Z"
   },
   {
    "duration": 16,
    "start_time": "2023-01-09T17:31:21.246Z"
   },
   {
    "duration": 7,
    "start_time": "2023-01-09T17:31:21.264Z"
   },
   {
    "duration": 50,
    "start_time": "2023-01-09T17:31:21.273Z"
   },
   {
    "duration": 8,
    "start_time": "2023-01-09T17:31:21.324Z"
   },
   {
    "duration": 65,
    "start_time": "2023-01-09T17:31:21.334Z"
   },
   {
    "duration": 105,
    "start_time": "2023-01-09T17:31:21.401Z"
   },
   {
    "duration": 181,
    "start_time": "2023-01-09T17:31:21.518Z"
   },
   {
    "duration": 97,
    "start_time": "2023-01-09T17:31:21.701Z"
   },
   {
    "duration": 4,
    "start_time": "2023-01-09T17:31:21.800Z"
   },
   {
    "duration": 203,
    "start_time": "2023-01-09T17:31:21.806Z"
   },
   {
    "duration": 114,
    "start_time": "2023-01-09T17:31:22.099Z"
   },
   {
    "duration": 14,
    "start_time": "2023-01-09T17:31:22.214Z"
   },
   {
    "duration": 18,
    "start_time": "2023-01-09T17:31:22.230Z"
   },
   {
    "duration": 2,
    "start_time": "2023-01-09T17:31:22.250Z"
   },
   {
    "duration": 57,
    "start_time": "2023-01-09T17:31:22.253Z"
   },
   {
    "duration": 5,
    "start_time": "2023-01-09T17:31:22.312Z"
   },
   {
    "duration": 14,
    "start_time": "2023-01-09T17:31:22.318Z"
   },
   {
    "duration": 30,
    "start_time": "2023-01-09T17:31:22.333Z"
   },
   {
    "duration": 4,
    "start_time": "2023-01-09T17:31:33.702Z"
   },
   {
    "duration": 4,
    "start_time": "2023-01-09T17:31:54.717Z"
   },
   {
    "duration": 69,
    "start_time": "2023-01-09T17:32:25.775Z"
   },
   {
    "duration": 41,
    "start_time": "2023-01-09T17:32:35.853Z"
   },
   {
    "duration": 3,
    "start_time": "2023-01-09T17:32:39.748Z"
   },
   {
    "duration": 47,
    "start_time": "2023-01-09T17:35:07.007Z"
   },
   {
    "duration": 9,
    "start_time": "2023-01-09T17:35:31.313Z"
   },
   {
    "duration": 3,
    "start_time": "2023-01-09T17:36:15.345Z"
   },
   {
    "duration": 36,
    "start_time": "2023-01-09T17:37:14.975Z"
   },
   {
    "duration": 4,
    "start_time": "2023-01-09T17:41:45.912Z"
   },
   {
    "duration": 1635,
    "start_time": "2023-01-10T15:02:40.018Z"
   },
   {
    "duration": 649,
    "start_time": "2023-01-10T15:02:41.655Z"
   },
   {
    "duration": 36,
    "start_time": "2023-01-10T15:02:42.305Z"
   },
   {
    "duration": 16,
    "start_time": "2023-01-10T15:02:42.342Z"
   },
   {
    "duration": 35,
    "start_time": "2023-01-10T15:02:42.361Z"
   },
   {
    "duration": 660,
    "start_time": "2023-01-10T15:02:42.398Z"
   },
   {
    "duration": 659,
    "start_time": "2023-01-10T15:02:43.060Z"
   },
   {
    "duration": 591,
    "start_time": "2023-01-10T15:02:43.721Z"
   },
   {
    "duration": 44,
    "start_time": "2023-01-10T15:02:44.313Z"
   },
   {
    "duration": 36,
    "start_time": "2023-01-10T15:02:44.359Z"
   },
   {
    "duration": 55,
    "start_time": "2023-01-10T15:02:44.397Z"
   },
   {
    "duration": 372,
    "start_time": "2023-01-10T15:02:44.453Z"
   },
   {
    "duration": 359,
    "start_time": "2023-01-10T15:02:44.827Z"
   },
   {
    "duration": 381,
    "start_time": "2023-01-10T15:02:45.189Z"
   },
   {
    "duration": 8,
    "start_time": "2023-01-10T15:02:45.572Z"
   },
   {
    "duration": 43,
    "start_time": "2023-01-10T15:02:45.581Z"
   },
   {
    "duration": 16,
    "start_time": "2023-01-10T15:02:45.625Z"
   },
   {
    "duration": 32,
    "start_time": "2023-01-10T15:02:45.643Z"
   },
   {
    "duration": 7,
    "start_time": "2023-01-10T15:02:45.677Z"
   },
   {
    "duration": 32,
    "start_time": "2023-01-10T15:02:45.686Z"
   },
   {
    "duration": 17,
    "start_time": "2023-01-10T15:02:45.719Z"
   },
   {
    "duration": 26,
    "start_time": "2023-01-10T15:02:45.738Z"
   },
   {
    "duration": 8,
    "start_time": "2023-01-10T15:02:45.765Z"
   },
   {
    "duration": 61,
    "start_time": "2023-01-10T15:02:45.775Z"
   },
   {
    "duration": 107,
    "start_time": "2023-01-10T15:02:45.837Z"
   },
   {
    "duration": 197,
    "start_time": "2023-01-10T15:02:45.948Z"
   },
   {
    "duration": 90,
    "start_time": "2023-01-10T15:02:46.150Z"
   },
   {
    "duration": 12,
    "start_time": "2023-01-10T15:02:46.334Z"
   },
   {
    "duration": 90,
    "start_time": "2023-01-10T15:02:46.348Z"
   },
   {
    "duration": 210,
    "start_time": "2023-01-10T15:02:46.440Z"
   },
   {
    "duration": 20,
    "start_time": "2023-01-10T15:02:46.652Z"
   },
   {
    "duration": 36,
    "start_time": "2023-01-10T15:02:46.674Z"
   },
   {
    "duration": 3,
    "start_time": "2023-01-10T15:02:46.711Z"
   },
   {
    "duration": 51,
    "start_time": "2023-01-10T15:02:46.715Z"
   },
   {
    "duration": 13,
    "start_time": "2023-01-10T15:02:46.768Z"
   },
   {
    "duration": 22,
    "start_time": "2023-01-10T15:02:46.784Z"
   },
   {
    "duration": 55,
    "start_time": "2023-01-10T15:02:46.808Z"
   },
   {
    "duration": 5,
    "start_time": "2023-01-10T15:02:46.865Z"
   },
   {
    "duration": 64,
    "start_time": "2023-01-10T15:02:46.872Z"
   },
   {
    "duration": 4,
    "start_time": "2023-01-10T15:02:46.938Z"
   },
   {
    "duration": 45,
    "start_time": "2023-01-10T15:02:46.947Z"
   },
   {
    "duration": 4,
    "start_time": "2023-01-10T15:02:46.995Z"
   },
   {
    "duration": 17,
    "start_time": "2023-01-10T15:02:47.002Z"
   },
   {
    "duration": 14,
    "start_time": "2023-01-10T15:02:47.021Z"
   },
   {
    "duration": 19,
    "start_time": "2023-01-10T15:02:47.038Z"
   },
   {
    "duration": 123,
    "start_time": "2023-01-10T15:02:52.061Z"
   },
   {
    "duration": 12,
    "start_time": "2023-01-10T15:05:28.697Z"
   },
   {
    "duration": 16,
    "start_time": "2023-01-10T15:07:23.159Z"
   },
   {
    "duration": 14,
    "start_time": "2023-01-10T15:08:40.725Z"
   },
   {
    "duration": 21,
    "start_time": "2023-01-10T15:09:41.075Z"
   },
   {
    "duration": 16,
    "start_time": "2023-01-10T15:10:11.360Z"
   },
   {
    "duration": 25,
    "start_time": "2023-01-10T15:12:50.996Z"
   },
   {
    "duration": 60,
    "start_time": "2023-01-11T08:54:31.400Z"
   },
   {
    "duration": 8,
    "start_time": "2023-01-11T11:54:23.294Z"
   },
   {
    "duration": 1805,
    "start_time": "2023-01-11T11:54:45.378Z"
   },
   {
    "duration": 81,
    "start_time": "2023-01-11T11:55:17.189Z"
   },
   {
    "duration": 4,
    "start_time": "2023-01-11T11:57:32.658Z"
   },
   {
    "duration": 2218,
    "start_time": "2023-01-11T11:57:32.663Z"
   },
   {
    "duration": 37,
    "start_time": "2023-01-11T11:57:34.884Z"
   },
   {
    "duration": 32,
    "start_time": "2023-01-11T11:57:34.925Z"
   },
   {
    "duration": 36,
    "start_time": "2023-01-11T11:57:34.959Z"
   },
   {
    "duration": 664,
    "start_time": "2023-01-11T11:57:34.997Z"
   },
   {
    "duration": 742,
    "start_time": "2023-01-11T11:57:35.664Z"
   },
   {
    "duration": 646,
    "start_time": "2023-01-11T11:57:36.408Z"
   },
   {
    "duration": 37,
    "start_time": "2023-01-11T11:57:37.057Z"
   },
   {
    "duration": 60,
    "start_time": "2023-01-11T11:57:37.096Z"
   },
   {
    "duration": 36,
    "start_time": "2023-01-11T11:57:37.160Z"
   },
   {
    "duration": 436,
    "start_time": "2023-01-11T11:57:37.198Z"
   },
   {
    "duration": 356,
    "start_time": "2023-01-11T11:57:37.636Z"
   },
   {
    "duration": 388,
    "start_time": "2023-01-11T11:57:37.994Z"
   },
   {
    "duration": 10,
    "start_time": "2023-01-11T11:57:38.383Z"
   },
   {
    "duration": 69,
    "start_time": "2023-01-11T11:57:38.394Z"
   },
   {
    "duration": 15,
    "start_time": "2023-01-11T11:57:38.465Z"
   },
   {
    "duration": 23,
    "start_time": "2023-01-11T11:57:38.483Z"
   },
   {
    "duration": 8,
    "start_time": "2023-01-11T11:57:38.508Z"
   },
   {
    "duration": 46,
    "start_time": "2023-01-11T11:57:38.518Z"
   },
   {
    "duration": 8,
    "start_time": "2023-01-11T11:57:38.566Z"
   },
   {
    "duration": 18,
    "start_time": "2023-01-11T11:57:38.576Z"
   },
   {
    "duration": 8,
    "start_time": "2023-01-11T11:57:38.596Z"
   },
   {
    "duration": 38,
    "start_time": "2023-01-11T11:57:38.606Z"
   },
   {
    "duration": 187,
    "start_time": "2023-01-11T11:57:38.648Z"
   },
   {
    "duration": 92,
    "start_time": "2023-01-11T11:57:38.837Z"
   },
   {
    "duration": 127,
    "start_time": "2023-01-11T11:57:38.938Z"
   },
   {
    "duration": 32,
    "start_time": "2023-01-11T11:57:39.068Z"
   },
   {
    "duration": 67,
    "start_time": "2023-01-11T11:57:39.121Z"
   },
   {
    "duration": 171,
    "start_time": "2023-01-11T11:57:39.191Z"
   },
   {
    "duration": 48,
    "start_time": "2023-01-11T11:57:39.364Z"
   },
   {
    "duration": 62,
    "start_time": "2023-01-11T11:57:39.415Z"
   },
   {
    "duration": 15,
    "start_time": "2023-01-11T11:57:39.479Z"
   },
   {
    "duration": 82,
    "start_time": "2023-01-11T11:57:39.496Z"
   },
   {
    "duration": 15,
    "start_time": "2023-01-11T11:57:39.580Z"
   },
   {
    "duration": 52,
    "start_time": "2023-01-11T11:57:39.597Z"
   },
   {
    "duration": 48,
    "start_time": "2023-01-11T11:57:39.651Z"
   },
   {
    "duration": 13,
    "start_time": "2023-01-11T11:57:39.701Z"
   },
   {
    "duration": 116,
    "start_time": "2023-01-11T11:57:39.716Z"
   },
   {
    "duration": 7,
    "start_time": "2023-01-11T11:57:39.834Z"
   },
   {
    "duration": 103,
    "start_time": "2023-01-11T11:57:39.843Z"
   },
   {
    "duration": 5,
    "start_time": "2023-01-11T11:57:39.949Z"
   },
   {
    "duration": 63,
    "start_time": "2023-01-11T11:57:39.956Z"
   },
   {
    "duration": 49,
    "start_time": "2023-01-11T11:57:40.021Z"
   },
   {
    "duration": 35,
    "start_time": "2023-01-11T11:57:40.072Z"
   },
   {
    "duration": 54,
    "start_time": "2023-01-11T11:57:40.109Z"
   },
   {
    "duration": 25,
    "start_time": "2023-01-11T11:57:45.106Z"
   },
   {
    "duration": 8,
    "start_time": "2023-01-11T11:58:26.343Z"
   },
   {
    "duration": 11,
    "start_time": "2023-01-11T12:04:11.097Z"
   },
   {
    "duration": 36,
    "start_time": "2023-01-11T12:25:17.468Z"
   },
   {
    "duration": 14,
    "start_time": "2023-01-11T12:59:34.560Z"
   },
   {
    "duration": 17,
    "start_time": "2023-01-11T13:00:11.100Z"
   },
   {
    "duration": 15,
    "start_time": "2023-01-11T13:00:48.968Z"
   },
   {
    "duration": 12,
    "start_time": "2023-01-11T13:04:20.259Z"
   },
   {
    "duration": 13,
    "start_time": "2023-01-11T13:05:07.208Z"
   },
   {
    "duration": 13,
    "start_time": "2023-01-11T13:05:45.426Z"
   },
   {
    "duration": 814,
    "start_time": "2023-01-11T13:07:44.572Z"
   },
   {
    "duration": 9,
    "start_time": "2023-01-11T13:08:29.374Z"
   },
   {
    "duration": 748,
    "start_time": "2023-01-11T13:09:02.808Z"
   },
   {
    "duration": 8,
    "start_time": "2023-01-11T13:09:10.401Z"
   },
   {
    "duration": 777,
    "start_time": "2023-01-11T13:12:50.239Z"
   },
   {
    "duration": 777,
    "start_time": "2023-01-11T13:13:36.432Z"
   },
   {
    "duration": 74,
    "start_time": "2023-01-11T13:17:00.697Z"
   },
   {
    "duration": 13,
    "start_time": "2023-01-11T13:17:19.442Z"
   },
   {
    "duration": 884,
    "start_time": "2023-01-11T13:18:56.089Z"
   },
   {
    "duration": 891,
    "start_time": "2023-01-11T13:19:51.944Z"
   },
   {
    "duration": 892,
    "start_time": "2023-01-11T13:20:54.237Z"
   },
   {
    "duration": 869,
    "start_time": "2023-01-11T13:21:47.563Z"
   },
   {
    "duration": 929,
    "start_time": "2023-01-11T13:26:46.609Z"
   },
   {
    "duration": 7,
    "start_time": "2023-01-11T13:27:14.712Z"
   },
   {
    "duration": 919,
    "start_time": "2023-01-11T13:29:08.370Z"
   },
   {
    "duration": 935,
    "start_time": "2023-01-11T13:30:05.848Z"
   },
   {
    "duration": 9,
    "start_time": "2023-01-11T13:52:02.406Z"
   },
   {
    "duration": 15,
    "start_time": "2023-01-11T13:52:35.266Z"
   },
   {
    "duration": 10,
    "start_time": "2023-01-11T13:55:08.288Z"
   },
   {
    "duration": 952,
    "start_time": "2023-01-11T13:55:11.764Z"
   },
   {
    "duration": 15,
    "start_time": "2023-01-11T13:55:26.391Z"
   },
   {
    "duration": 867,
    "start_time": "2023-01-11T14:11:16.344Z"
   },
   {
    "duration": 772,
    "start_time": "2023-01-11T14:14:15.378Z"
   },
   {
    "duration": 827,
    "start_time": "2023-01-11T14:16:49.940Z"
   },
   {
    "duration": 792,
    "start_time": "2023-01-11T14:17:32.422Z"
   },
   {
    "duration": 839,
    "start_time": "2023-01-11T14:30:43.396Z"
   },
   {
    "duration": 1641,
    "start_time": "2023-01-11T17:07:31.200Z"
   },
   {
    "duration": 1922,
    "start_time": "2023-01-11T17:07:32.844Z"
   },
   {
    "duration": 34,
    "start_time": "2023-01-11T17:07:34.767Z"
   },
   {
    "duration": 24,
    "start_time": "2023-01-11T17:07:34.803Z"
   },
   {
    "duration": 30,
    "start_time": "2023-01-11T17:07:34.829Z"
   },
   {
    "duration": 616,
    "start_time": "2023-01-11T17:07:34.860Z"
   },
   {
    "duration": 646,
    "start_time": "2023-01-11T17:07:35.478Z"
   },
   {
    "duration": 582,
    "start_time": "2023-01-11T17:07:36.126Z"
   },
   {
    "duration": 43,
    "start_time": "2023-01-11T17:07:36.710Z"
   },
   {
    "duration": 38,
    "start_time": "2023-01-11T17:07:36.756Z"
   },
   {
    "duration": 60,
    "start_time": "2023-01-11T17:07:36.796Z"
   },
   {
    "duration": 421,
    "start_time": "2023-01-11T17:07:36.857Z"
   },
   {
    "duration": 382,
    "start_time": "2023-01-11T17:07:37.280Z"
   },
   {
    "duration": 363,
    "start_time": "2023-01-11T17:07:37.664Z"
   },
   {
    "duration": 8,
    "start_time": "2023-01-11T17:07:38.029Z"
   },
   {
    "duration": 33,
    "start_time": "2023-01-11T17:07:38.039Z"
   },
   {
    "duration": 8,
    "start_time": "2023-01-11T17:07:38.074Z"
   },
   {
    "duration": 42,
    "start_time": "2023-01-11T17:07:38.084Z"
   },
   {
    "duration": 9,
    "start_time": "2023-01-11T17:07:38.129Z"
   },
   {
    "duration": 18,
    "start_time": "2023-01-11T17:07:38.140Z"
   },
   {
    "duration": 7,
    "start_time": "2023-01-11T17:07:38.160Z"
   },
   {
    "duration": 19,
    "start_time": "2023-01-11T17:07:38.169Z"
   },
   {
    "duration": 15,
    "start_time": "2023-01-11T17:07:38.217Z"
   },
   {
    "duration": 80,
    "start_time": "2023-01-11T17:07:38.233Z"
   },
   {
    "duration": 121,
    "start_time": "2023-01-11T17:07:38.315Z"
   },
   {
    "duration": 125,
    "start_time": "2023-01-11T17:07:38.514Z"
   },
   {
    "duration": 2,
    "start_time": "2023-01-11T17:07:38.641Z"
   },
   {
    "duration": 184,
    "start_time": "2023-01-11T17:07:38.646Z"
   },
   {
    "duration": 87,
    "start_time": "2023-01-11T17:07:38.832Z"
   },
   {
    "duration": 115,
    "start_time": "2023-01-11T17:07:38.922Z"
   },
   {
    "duration": 15,
    "start_time": "2023-01-11T17:07:39.038Z"
   },
   {
    "duration": 15,
    "start_time": "2023-01-11T17:07:39.055Z"
   },
   {
    "duration": 2,
    "start_time": "2023-01-11T17:07:39.074Z"
   },
   {
    "duration": 56,
    "start_time": "2023-01-11T17:07:39.078Z"
   },
   {
    "duration": 6,
    "start_time": "2023-01-11T17:07:39.136Z"
   },
   {
    "duration": 10,
    "start_time": "2023-01-11T17:07:39.145Z"
   },
   {
    "duration": 28,
    "start_time": "2023-01-11T17:07:39.157Z"
   },
   {
    "duration": 6,
    "start_time": "2023-01-11T17:08:05.549Z"
   },
   {
    "duration": 109,
    "start_time": "2023-01-11T17:09:51.195Z"
   },
   {
    "duration": 44,
    "start_time": "2023-01-11T17:10:01.523Z"
   },
   {
    "duration": 4,
    "start_time": "2023-01-11T17:10:08.181Z"
   },
   {
    "duration": 8,
    "start_time": "2023-01-11T17:11:03.409Z"
   },
   {
    "duration": 55,
    "start_time": "2023-01-11T17:11:33.085Z"
   },
   {
    "duration": 4,
    "start_time": "2023-01-11T17:11:53.271Z"
   },
   {
    "duration": 3,
    "start_time": "2023-01-11T17:33:34.798Z"
   },
   {
    "duration": 11,
    "start_time": "2023-01-11T17:33:37.976Z"
   },
   {
    "duration": 41,
    "start_time": "2023-01-11T17:34:20.106Z"
   },
   {
    "duration": 4,
    "start_time": "2023-01-11T17:37:22.547Z"
   },
   {
    "duration": 49,
    "start_time": "2023-01-11T17:38:55.439Z"
   },
   {
    "duration": 4,
    "start_time": "2023-01-11T17:49:21.224Z"
   },
   {
    "duration": 1672,
    "start_time": "2023-01-12T13:33:47.075Z"
   },
   {
    "duration": 829,
    "start_time": "2023-01-12T13:33:48.749Z"
   },
   {
    "duration": 39,
    "start_time": "2023-01-12T13:33:49.580Z"
   },
   {
    "duration": 16,
    "start_time": "2023-01-12T13:33:49.622Z"
   },
   {
    "duration": 32,
    "start_time": "2023-01-12T13:33:49.640Z"
   },
   {
    "duration": 618,
    "start_time": "2023-01-12T13:33:49.674Z"
   },
   {
    "duration": 661,
    "start_time": "2023-01-12T13:33:50.294Z"
   },
   {
    "duration": 607,
    "start_time": "2023-01-12T13:33:50.957Z"
   },
   {
    "duration": 38,
    "start_time": "2023-01-12T13:33:51.566Z"
   },
   {
    "duration": 55,
    "start_time": "2023-01-12T13:33:51.607Z"
   },
   {
    "duration": 37,
    "start_time": "2023-01-12T13:33:51.664Z"
   },
   {
    "duration": 453,
    "start_time": "2023-01-12T13:33:51.702Z"
   },
   {
    "duration": 362,
    "start_time": "2023-01-12T13:33:52.157Z"
   },
   {
    "duration": 397,
    "start_time": "2023-01-12T13:33:52.520Z"
   },
   {
    "duration": 10,
    "start_time": "2023-01-12T13:33:52.919Z"
   },
   {
    "duration": 40,
    "start_time": "2023-01-12T13:33:52.930Z"
   },
   {
    "duration": 9,
    "start_time": "2023-01-12T13:33:52.972Z"
   },
   {
    "duration": 24,
    "start_time": "2023-01-12T13:33:52.983Z"
   },
   {
    "duration": 9,
    "start_time": "2023-01-12T13:33:53.009Z"
   },
   {
    "duration": 50,
    "start_time": "2023-01-12T13:33:53.019Z"
   },
   {
    "duration": 8,
    "start_time": "2023-01-12T13:33:53.071Z"
   },
   {
    "duration": 20,
    "start_time": "2023-01-12T13:33:53.081Z"
   },
   {
    "duration": 9,
    "start_time": "2023-01-12T13:33:53.102Z"
   },
   {
    "duration": 48,
    "start_time": "2023-01-12T13:33:53.112Z"
   },
   {
    "duration": 108,
    "start_time": "2023-01-12T13:33:53.162Z"
   },
   {
    "duration": 189,
    "start_time": "2023-01-12T13:33:53.272Z"
   },
   {
    "duration": 3,
    "start_time": "2023-01-12T13:33:53.462Z"
   },
   {
    "duration": 11,
    "start_time": "2023-01-12T13:33:53.555Z"
   },
   {
    "duration": 107,
    "start_time": "2023-01-12T13:33:53.656Z"
   },
   {
    "duration": 203,
    "start_time": "2023-01-12T13:33:53.766Z"
   },
   {
    "duration": 18,
    "start_time": "2023-01-12T13:33:53.971Z"
   },
   {
    "duration": 16,
    "start_time": "2023-01-12T13:33:53.990Z"
   },
   {
    "duration": 3,
    "start_time": "2023-01-12T13:33:54.008Z"
   },
   {
    "duration": 65,
    "start_time": "2023-01-12T13:33:54.013Z"
   },
   {
    "duration": 5,
    "start_time": "2023-01-12T13:33:54.080Z"
   },
   {
    "duration": 12,
    "start_time": "2023-01-12T13:33:54.087Z"
   },
   {
    "duration": 36,
    "start_time": "2023-01-12T13:33:54.101Z"
   },
   {
    "duration": 4,
    "start_time": "2023-01-12T13:33:54.139Z"
   },
   {
    "duration": 43,
    "start_time": "2023-01-12T13:33:54.156Z"
   },
   {
    "duration": 4,
    "start_time": "2023-01-12T13:33:54.201Z"
   },
   {
    "duration": 69,
    "start_time": "2023-01-12T13:33:54.206Z"
   },
   {
    "duration": 4,
    "start_time": "2023-01-12T13:33:54.277Z"
   },
   {
    "duration": 3,
    "start_time": "2023-01-12T13:34:13.297Z"
   },
   {
    "duration": 15,
    "start_time": "2023-01-12T13:34:13.990Z"
   },
   {
    "duration": 5,
    "start_time": "2023-01-12T13:52:38.352Z"
   },
   {
    "duration": 949,
    "start_time": "2023-01-12T13:53:23.931Z"
   },
   {
    "duration": 5,
    "start_time": "2023-01-12T14:01:28.528Z"
   },
   {
    "duration": 751,
    "start_time": "2023-01-12T14:01:30.589Z"
   },
   {
    "duration": 802,
    "start_time": "2023-01-12T14:02:49.154Z"
   },
   {
    "duration": 779,
    "start_time": "2023-01-12T14:04:07.671Z"
   },
   {
    "duration": 768,
    "start_time": "2023-01-12T14:15:45.241Z"
   },
   {
    "duration": 4,
    "start_time": "2023-01-12T14:24:00.251Z"
   },
   {
    "duration": 56,
    "start_time": "2023-01-12T14:27:13.249Z"
   },
   {
    "duration": 50,
    "start_time": "2023-01-12T14:33:27.180Z"
   },
   {
    "duration": 20,
    "start_time": "2023-01-12T14:37:24.232Z"
   },
   {
    "duration": 20,
    "start_time": "2023-01-12T14:42:13.823Z"
   },
   {
    "duration": 18,
    "start_time": "2023-01-12T14:42:41.965Z"
   },
   {
    "duration": 4,
    "start_time": "2023-01-12T15:15:31.365Z"
   },
   {
    "duration": 405,
    "start_time": "2023-01-12T15:15:31.372Z"
   },
   {
    "duration": 32,
    "start_time": "2023-01-12T15:15:31.779Z"
   },
   {
    "duration": 13,
    "start_time": "2023-01-12T15:15:31.814Z"
   },
   {
    "duration": 41,
    "start_time": "2023-01-12T15:15:31.828Z"
   },
   {
    "duration": 664,
    "start_time": "2023-01-12T15:15:31.871Z"
   },
   {
    "duration": 728,
    "start_time": "2023-01-12T15:15:32.537Z"
   },
   {
    "duration": 707,
    "start_time": "2023-01-12T15:15:33.266Z"
   },
   {
    "duration": 37,
    "start_time": "2023-01-12T15:15:33.975Z"
   },
   {
    "duration": 50,
    "start_time": "2023-01-12T15:15:34.013Z"
   },
   {
    "duration": 34,
    "start_time": "2023-01-12T15:15:34.064Z"
   },
   {
    "duration": 378,
    "start_time": "2023-01-12T15:15:34.100Z"
   },
   {
    "duration": 372,
    "start_time": "2023-01-12T15:15:34.480Z"
   },
   {
    "duration": 357,
    "start_time": "2023-01-12T15:15:34.855Z"
   },
   {
    "duration": 7,
    "start_time": "2023-01-12T15:15:35.214Z"
   },
   {
    "duration": 38,
    "start_time": "2023-01-12T15:15:35.223Z"
   },
   {
    "duration": 8,
    "start_time": "2023-01-12T15:15:35.262Z"
   },
   {
    "duration": 18,
    "start_time": "2023-01-12T15:15:35.271Z"
   },
   {
    "duration": 8,
    "start_time": "2023-01-12T15:15:35.290Z"
   },
   {
    "duration": 18,
    "start_time": "2023-01-12T15:15:35.300Z"
   },
   {
    "duration": 38,
    "start_time": "2023-01-12T15:15:35.320Z"
   },
   {
    "duration": 20,
    "start_time": "2023-01-12T15:15:35.360Z"
   },
   {
    "duration": 8,
    "start_time": "2023-01-12T15:15:35.382Z"
   },
   {
    "duration": 68,
    "start_time": "2023-01-12T15:15:35.393Z"
   },
   {
    "duration": 106,
    "start_time": "2023-01-12T15:15:35.463Z"
   },
   {
    "duration": 198,
    "start_time": "2023-01-12T15:15:35.571Z"
   },
   {
    "duration": 3,
    "start_time": "2023-01-12T15:15:35.771Z"
   },
   {
    "duration": 98,
    "start_time": "2023-01-12T15:15:35.856Z"
   },
   {
    "duration": 103,
    "start_time": "2023-01-12T15:15:35.956Z"
   },
   {
    "duration": 204,
    "start_time": "2023-01-12T15:15:36.061Z"
   },
   {
    "duration": 14,
    "start_time": "2023-01-12T15:15:36.266Z"
   },
   {
    "duration": 15,
    "start_time": "2023-01-12T15:15:36.282Z"
   },
   {
    "duration": 2,
    "start_time": "2023-01-12T15:15:36.299Z"
   },
   {
    "duration": 59,
    "start_time": "2023-01-12T15:15:36.302Z"
   },
   {
    "duration": 4,
    "start_time": "2023-01-12T15:15:36.363Z"
   },
   {
    "duration": 14,
    "start_time": "2023-01-12T15:15:36.369Z"
   },
   {
    "duration": 30,
    "start_time": "2023-01-12T15:15:36.385Z"
   },
   {
    "duration": 4,
    "start_time": "2023-01-12T15:15:36.417Z"
   },
   {
    "duration": 69,
    "start_time": "2023-01-12T15:15:36.423Z"
   },
   {
    "duration": 4,
    "start_time": "2023-01-12T15:15:36.494Z"
   },
   {
    "duration": 55,
    "start_time": "2023-01-12T15:15:36.500Z"
   },
   {
    "duration": 5,
    "start_time": "2023-01-12T15:15:36.556Z"
   },
   {
    "duration": 6,
    "start_time": "2023-01-12T15:15:36.562Z"
   },
   {
    "duration": 17,
    "start_time": "2023-01-12T15:15:36.569Z"
   },
   {
    "duration": 10,
    "start_time": "2023-01-12T15:15:36.587Z"
   },
   {
    "duration": 776,
    "start_time": "2023-01-12T15:15:36.599Z"
   },
   {
    "duration": 793,
    "start_time": "2023-01-12T15:15:37.377Z"
   },
   {
    "duration": 768,
    "start_time": "2023-01-12T15:15:38.171Z"
   },
   {
    "duration": 1896,
    "start_time": "2023-01-12T16:27:51.579Z"
   },
   {
    "duration": 405,
    "start_time": "2023-01-12T16:27:53.477Z"
   },
   {
    "duration": 32,
    "start_time": "2023-01-12T16:27:53.884Z"
   },
   {
    "duration": 23,
    "start_time": "2023-01-12T16:27:53.918Z"
   },
   {
    "duration": 29,
    "start_time": "2023-01-12T16:27:53.942Z"
   },
   {
    "duration": 603,
    "start_time": "2023-01-12T16:27:53.973Z"
   },
   {
    "duration": 636,
    "start_time": "2023-01-12T16:27:54.578Z"
   },
   {
    "duration": 573,
    "start_time": "2023-01-12T16:27:55.224Z"
   },
   {
    "duration": 53,
    "start_time": "2023-01-12T16:27:55.799Z"
   },
   {
    "duration": 35,
    "start_time": "2023-01-12T16:27:55.856Z"
   },
   {
    "duration": 56,
    "start_time": "2023-01-12T16:27:55.892Z"
   },
   {
    "duration": 331,
    "start_time": "2023-01-12T16:27:55.949Z"
   },
   {
    "duration": 401,
    "start_time": "2023-01-12T16:27:56.283Z"
   },
   {
    "duration": 404,
    "start_time": "2023-01-12T16:27:56.686Z"
   },
   {
    "duration": 8,
    "start_time": "2023-01-12T16:27:57.092Z"
   },
   {
    "duration": 53,
    "start_time": "2023-01-12T16:27:57.102Z"
   },
   {
    "duration": 20,
    "start_time": "2023-01-12T16:27:57.157Z"
   },
   {
    "duration": 33,
    "start_time": "2023-01-12T16:27:57.180Z"
   },
   {
    "duration": 27,
    "start_time": "2023-01-12T16:27:57.217Z"
   },
   {
    "duration": 31,
    "start_time": "2023-01-12T16:27:57.246Z"
   },
   {
    "duration": 9,
    "start_time": "2023-01-12T16:27:57.279Z"
   },
   {
    "duration": 34,
    "start_time": "2023-01-12T16:27:57.289Z"
   },
   {
    "duration": 9,
    "start_time": "2023-01-12T16:27:57.326Z"
   },
   {
    "duration": 33,
    "start_time": "2023-01-12T16:27:57.336Z"
   },
   {
    "duration": 61,
    "start_time": "2023-01-12T16:27:57.371Z"
   },
   {
    "duration": 190,
    "start_time": "2023-01-12T16:27:57.433Z"
   },
   {
    "duration": 16,
    "start_time": "2023-01-12T16:27:57.625Z"
   },
   {
    "duration": 104,
    "start_time": "2023-01-12T16:27:57.652Z"
   },
   {
    "duration": 159,
    "start_time": "2023-01-12T16:27:57.757Z"
   },
   {
    "duration": 114,
    "start_time": "2023-01-12T16:27:57.920Z"
   },
   {
    "duration": 29,
    "start_time": "2023-01-12T16:27:58.038Z"
   },
   {
    "duration": 16,
    "start_time": "2023-01-12T16:27:58.068Z"
   },
   {
    "duration": 2,
    "start_time": "2023-01-12T16:27:58.086Z"
   },
   {
    "duration": 36,
    "start_time": "2023-01-12T16:27:58.090Z"
   },
   {
    "duration": 9,
    "start_time": "2023-01-12T16:27:58.127Z"
   },
   {
    "duration": 25,
    "start_time": "2023-01-12T16:27:58.137Z"
   },
   {
    "duration": 36,
    "start_time": "2023-01-12T16:27:58.163Z"
   },
   {
    "duration": 4,
    "start_time": "2023-01-12T16:27:58.201Z"
   },
   {
    "duration": 78,
    "start_time": "2023-01-12T16:27:58.206Z"
   },
   {
    "duration": 3,
    "start_time": "2023-01-12T16:27:58.285Z"
   },
   {
    "duration": 56,
    "start_time": "2023-01-12T16:27:58.290Z"
   },
   {
    "duration": 3,
    "start_time": "2023-01-12T16:27:58.348Z"
   },
   {
    "duration": 10,
    "start_time": "2023-01-12T16:27:58.353Z"
   },
   {
    "duration": 20,
    "start_time": "2023-01-12T16:27:58.364Z"
   },
   {
    "duration": 10,
    "start_time": "2023-01-12T16:27:58.385Z"
   },
   {
    "duration": 802,
    "start_time": "2023-01-12T16:27:58.397Z"
   },
   {
    "duration": 798,
    "start_time": "2023-01-12T16:27:59.201Z"
   },
   {
    "duration": 833,
    "start_time": "2023-01-12T16:28:00.001Z"
   },
   {
    "duration": 4,
    "start_time": "2023-01-12T16:53:27.542Z"
   },
   {
    "duration": 4,
    "start_time": "2023-01-12T16:54:19.155Z"
   },
   {
    "duration": 3,
    "start_time": "2023-01-12T16:54:33.608Z"
   },
   {
    "duration": 4,
    "start_time": "2023-01-12T16:54:40.031Z"
   },
   {
    "duration": 1535,
    "start_time": "2023-01-16T07:10:04.377Z"
   },
   {
    "duration": 1804,
    "start_time": "2023-01-16T07:10:05.914Z"
   },
   {
    "duration": 33,
    "start_time": "2023-01-16T07:10:07.719Z"
   },
   {
    "duration": 15,
    "start_time": "2023-01-16T07:10:07.753Z"
   },
   {
    "duration": 26,
    "start_time": "2023-01-16T07:10:07.769Z"
   },
   {
    "duration": 530,
    "start_time": "2023-01-16T07:10:07.797Z"
   },
   {
    "duration": 575,
    "start_time": "2023-01-16T07:10:08.328Z"
   },
   {
    "duration": 519,
    "start_time": "2023-01-16T07:10:08.905Z"
   },
   {
    "duration": 33,
    "start_time": "2023-01-16T07:10:09.426Z"
   },
   {
    "duration": 43,
    "start_time": "2023-01-16T07:10:09.461Z"
   },
   {
    "duration": 30,
    "start_time": "2023-01-16T07:10:09.506Z"
   },
   {
    "duration": 396,
    "start_time": "2023-01-16T07:10:09.538Z"
   },
   {
    "duration": 344,
    "start_time": "2023-01-16T07:10:09.935Z"
   },
   {
    "duration": 331,
    "start_time": "2023-01-16T07:10:10.281Z"
   },
   {
    "duration": 8,
    "start_time": "2023-01-16T07:10:10.613Z"
   },
   {
    "duration": 33,
    "start_time": "2023-01-16T07:10:10.622Z"
   },
   {
    "duration": 23,
    "start_time": "2023-01-16T07:10:10.656Z"
   },
   {
    "duration": 20,
    "start_time": "2023-01-16T07:10:21.685Z"
   },
   {
    "duration": 18,
    "start_time": "2023-01-16T07:10:34.477Z"
   },
   {
    "duration": 18,
    "start_time": "2023-01-16T07:10:58.746Z"
   },
   {
    "duration": 16,
    "start_time": "2023-01-16T07:11:01.809Z"
   },
   {
    "duration": 4,
    "start_time": "2023-01-16T07:22:27.230Z"
   },
   {
    "duration": 3,
    "start_time": "2023-01-16T08:02:09.287Z"
   },
   {
    "duration": 399,
    "start_time": "2023-01-16T08:02:09.293Z"
   },
   {
    "duration": 28,
    "start_time": "2023-01-16T08:02:09.694Z"
   },
   {
    "duration": 13,
    "start_time": "2023-01-16T08:02:09.724Z"
   },
   {
    "duration": 51,
    "start_time": "2023-01-16T08:02:09.739Z"
   },
   {
    "duration": 632,
    "start_time": "2023-01-16T08:02:09.791Z"
   },
   {
    "duration": 643,
    "start_time": "2023-01-16T08:02:10.425Z"
   },
   {
    "duration": 786,
    "start_time": "2023-01-16T08:02:11.070Z"
   },
   {
    "duration": 43,
    "start_time": "2023-01-16T08:02:11.858Z"
   },
   {
    "duration": 36,
    "start_time": "2023-01-16T08:02:11.902Z"
   },
   {
    "duration": 52,
    "start_time": "2023-01-16T08:02:11.941Z"
   },
   {
    "duration": 337,
    "start_time": "2023-01-16T08:02:11.994Z"
   },
   {
    "duration": 364,
    "start_time": "2023-01-16T08:02:12.333Z"
   },
   {
    "duration": 345,
    "start_time": "2023-01-16T08:02:12.699Z"
   },
   {
    "duration": 8,
    "start_time": "2023-01-16T08:02:13.046Z"
   },
   {
    "duration": 40,
    "start_time": "2023-01-16T08:02:13.055Z"
   },
   {
    "duration": 9,
    "start_time": "2023-01-16T08:02:13.096Z"
   },
   {
    "duration": 44,
    "start_time": "2023-01-16T08:02:13.106Z"
   },
   {
    "duration": 9,
    "start_time": "2023-01-16T08:02:13.151Z"
   },
   {
    "duration": 22,
    "start_time": "2023-01-16T08:02:13.161Z"
   },
   {
    "duration": 7,
    "start_time": "2023-01-16T08:02:13.185Z"
   },
   {
    "duration": 29,
    "start_time": "2023-01-16T08:02:13.194Z"
   },
   {
    "duration": 7,
    "start_time": "2023-01-16T08:02:13.225Z"
   },
   {
    "duration": 47,
    "start_time": "2023-01-16T08:02:13.234Z"
   },
   {
    "duration": 112,
    "start_time": "2023-01-16T08:02:13.282Z"
   },
   {
    "duration": 219,
    "start_time": "2023-01-16T08:02:13.395Z"
   },
   {
    "duration": 182,
    "start_time": "2023-01-16T08:02:13.616Z"
   },
   {
    "duration": 44,
    "start_time": "2023-01-16T08:02:13.800Z"
   },
   {
    "duration": 132,
    "start_time": "2023-01-16T08:02:13.848Z"
   },
   {
    "duration": 220,
    "start_time": "2023-01-16T08:02:13.982Z"
   },
   {
    "duration": 14,
    "start_time": "2023-01-16T08:02:14.205Z"
   },
   {
    "duration": 13,
    "start_time": "2023-01-16T08:02:14.221Z"
   },
   {
    "duration": 3,
    "start_time": "2023-01-16T08:02:14.235Z"
   },
   {
    "duration": 54,
    "start_time": "2023-01-16T08:02:14.239Z"
   },
   {
    "duration": 5,
    "start_time": "2023-01-16T08:02:21.261Z"
   },
   {
    "duration": 11,
    "start_time": "2023-01-16T08:02:34.623Z"
   },
   {
    "duration": 24,
    "start_time": "2023-01-16T08:03:09.969Z"
   },
   {
    "duration": 3,
    "start_time": "2023-01-16T08:04:03.292Z"
   },
   {
    "duration": 38,
    "start_time": "2023-01-16T08:04:12.502Z"
   },
   {
    "duration": 4,
    "start_time": "2023-01-16T08:04:46.840Z"
   },
   {
    "duration": 42,
    "start_time": "2023-01-16T08:04:50.922Z"
   },
   {
    "duration": 4,
    "start_time": "2023-01-16T08:13:49.059Z"
   },
   {
    "duration": 4,
    "start_time": "2023-01-16T08:16:07.484Z"
   },
   {
    "duration": 5,
    "start_time": "2023-01-16T08:22:40.488Z"
   },
   {
    "duration": 735,
    "start_time": "2023-01-16T08:22:49.745Z"
   },
   {
    "duration": 5,
    "start_time": "2023-01-16T08:25:01.754Z"
   },
   {
    "duration": 705,
    "start_time": "2023-01-16T08:25:09.675Z"
   },
   {
    "duration": 709,
    "start_time": "2023-01-16T08:26:22.632Z"
   },
   {
    "duration": 794,
    "start_time": "2023-01-16T08:27:42.946Z"
   },
   {
    "duration": 754,
    "start_time": "2023-01-16T08:28:54.872Z"
   },
   {
    "duration": 764,
    "start_time": "2023-01-16T08:33:46.939Z"
   },
   {
    "duration": 3,
    "start_time": "2023-01-16T08:59:11.660Z"
   },
   {
    "duration": 6,
    "start_time": "2023-01-16T09:01:24.175Z"
   },
   {
    "duration": 17,
    "start_time": "2023-01-16T09:02:31.378Z"
   },
   {
    "duration": 68,
    "start_time": "2023-01-16T09:04:23.066Z"
   },
   {
    "duration": 34,
    "start_time": "2023-01-16T09:05:20.346Z"
   },
   {
    "duration": 14,
    "start_time": "2023-01-16T09:06:16.950Z"
   },
   {
    "duration": 23,
    "start_time": "2023-01-16T09:07:34.139Z"
   },
   {
    "duration": 81,
    "start_time": "2023-01-16T10:53:12.500Z"
   },
   {
    "duration": 105,
    "start_time": "2023-01-16T10:53:48.397Z"
   },
   {
    "duration": 87,
    "start_time": "2023-01-16T10:58:30.125Z"
   },
   {
    "duration": 6,
    "start_time": "2023-01-16T10:58:55.959Z"
   },
   {
    "duration": 14,
    "start_time": "2023-01-16T11:03:51.001Z"
   },
   {
    "duration": 12,
    "start_time": "2023-01-16T11:07:34.448Z"
   },
   {
    "duration": 10,
    "start_time": "2023-01-16T11:07:50.720Z"
   },
   {
    "duration": 3,
    "start_time": "2023-01-16T11:09:44.596Z"
   },
   {
    "duration": 21,
    "start_time": "2023-01-16T11:09:45.917Z"
   },
   {
    "duration": 14,
    "start_time": "2023-01-16T11:09:47.254Z"
   },
   {
    "duration": 13,
    "start_time": "2023-01-16T11:09:48.396Z"
   },
   {
    "duration": 10,
    "start_time": "2023-01-16T11:09:59.698Z"
   },
   {
    "duration": 107,
    "start_time": "2023-01-16T11:11:32.856Z"
   },
   {
    "duration": 4,
    "start_time": "2023-01-16T11:11:49.832Z"
   },
   {
    "duration": 40,
    "start_time": "2023-01-16T11:11:51.439Z"
   },
   {
    "duration": 14,
    "start_time": "2023-01-16T11:11:52.432Z"
   },
   {
    "duration": 15,
    "start_time": "2023-01-16T11:11:53.389Z"
   },
   {
    "duration": 13,
    "start_time": "2023-01-16T11:12:15.387Z"
   },
   {
    "duration": 5,
    "start_time": "2023-01-16T11:13:03.513Z"
   },
   {
    "duration": 10,
    "start_time": "2023-01-16T11:13:21.231Z"
   },
   {
    "duration": 6,
    "start_time": "2023-01-16T11:20:05.690Z"
   },
   {
    "duration": 11,
    "start_time": "2023-01-16T11:20:10.657Z"
   },
   {
    "duration": 24,
    "start_time": "2023-01-16T11:29:45.325Z"
   },
   {
    "duration": 4,
    "start_time": "2023-01-16T11:32:34.393Z"
   },
   {
    "duration": 407,
    "start_time": "2023-01-16T11:32:34.399Z"
   },
   {
    "duration": 39,
    "start_time": "2023-01-16T11:32:34.808Z"
   },
   {
    "duration": 44,
    "start_time": "2023-01-16T11:32:34.850Z"
   },
   {
    "duration": 41,
    "start_time": "2023-01-16T11:32:34.898Z"
   },
   {
    "duration": 808,
    "start_time": "2023-01-16T11:32:34.941Z"
   },
   {
    "duration": 758,
    "start_time": "2023-01-16T11:32:35.751Z"
   },
   {
    "duration": 932,
    "start_time": "2023-01-16T11:32:36.511Z"
   },
   {
    "duration": 51,
    "start_time": "2023-01-16T11:32:37.445Z"
   },
   {
    "duration": 34,
    "start_time": "2023-01-16T11:32:37.499Z"
   },
   {
    "duration": 49,
    "start_time": "2023-01-16T11:32:37.534Z"
   },
   {
    "duration": 344,
    "start_time": "2023-01-16T11:32:37.585Z"
   },
   {
    "duration": 381,
    "start_time": "2023-01-16T11:32:37.931Z"
   },
   {
    "duration": 343,
    "start_time": "2023-01-16T11:32:38.314Z"
   },
   {
    "duration": 8,
    "start_time": "2023-01-16T11:32:38.659Z"
   },
   {
    "duration": 59,
    "start_time": "2023-01-16T11:32:38.668Z"
   },
   {
    "duration": 8,
    "start_time": "2023-01-16T11:32:38.728Z"
   },
   {
    "duration": 20,
    "start_time": "2023-01-16T11:32:38.737Z"
   },
   {
    "duration": 8,
    "start_time": "2023-01-16T11:32:38.759Z"
   },
   {
    "duration": 28,
    "start_time": "2023-01-16T11:32:38.768Z"
   },
   {
    "duration": 18,
    "start_time": "2023-01-16T11:32:38.797Z"
   },
   {
    "duration": 20,
    "start_time": "2023-01-16T11:32:38.817Z"
   },
   {
    "duration": 8,
    "start_time": "2023-01-16T11:32:38.839Z"
   },
   {
    "duration": 43,
    "start_time": "2023-01-16T11:32:38.849Z"
   },
   {
    "duration": 92,
    "start_time": "2023-01-16T11:32:38.895Z"
   },
   {
    "duration": 208,
    "start_time": "2023-01-16T11:32:38.988Z"
   },
   {
    "duration": 16,
    "start_time": "2023-01-16T11:32:39.199Z"
   },
   {
    "duration": 116,
    "start_time": "2023-01-16T11:32:39.284Z"
   },
   {
    "duration": 208,
    "start_time": "2023-01-16T11:32:39.403Z"
   },
   {
    "duration": 197,
    "start_time": "2023-01-16T11:32:39.615Z"
   },
   {
    "duration": 67,
    "start_time": "2023-01-16T11:32:39.814Z"
   },
   {
    "duration": 198,
    "start_time": "2023-01-16T11:32:39.883Z"
   },
   {
    "duration": 112,
    "start_time": "2023-01-16T11:32:40.087Z"
   },
   {
    "duration": 14,
    "start_time": "2023-01-16T11:32:40.201Z"
   },
   {
    "duration": 16,
    "start_time": "2023-01-16T11:32:40.217Z"
   },
   {
    "duration": 3,
    "start_time": "2023-01-16T11:32:40.234Z"
   },
   {
    "duration": 60,
    "start_time": "2023-01-16T11:32:40.238Z"
   },
   {
    "duration": 3,
    "start_time": "2023-01-16T11:32:40.300Z"
   },
   {
    "duration": 30,
    "start_time": "2023-01-16T11:32:40.305Z"
   },
   {
    "duration": 27,
    "start_time": "2023-01-16T11:32:40.336Z"
   },
   {
    "duration": 3,
    "start_time": "2023-01-16T11:32:40.365Z"
   },
   {
    "duration": 44,
    "start_time": "2023-01-16T11:32:40.370Z"
   },
   {
    "duration": 5,
    "start_time": "2023-01-16T11:32:40.416Z"
   },
   {
    "duration": 67,
    "start_time": "2023-01-16T11:32:40.423Z"
   },
   {
    "duration": 3,
    "start_time": "2023-01-16T11:32:40.491Z"
   },
   {
    "duration": 8,
    "start_time": "2023-01-16T11:32:40.496Z"
   },
   {
    "duration": 18,
    "start_time": "2023-01-16T11:32:40.505Z"
   },
   {
    "duration": 6,
    "start_time": "2023-01-16T11:32:44.496Z"
   },
   {
    "duration": 21,
    "start_time": "2023-01-16T11:32:53.512Z"
   },
   {
    "duration": 8,
    "start_time": "2023-01-16T11:50:17.840Z"
   },
   {
    "duration": 35,
    "start_time": "2023-01-16T11:50:22.615Z"
   },
   {
    "duration": 14,
    "start_time": "2023-01-16T11:53:59.001Z"
   },
   {
    "duration": 27,
    "start_time": "2023-01-16T11:57:59.064Z"
   },
   {
    "duration": 32,
    "start_time": "2023-01-16T12:01:15.725Z"
   },
   {
    "duration": 21,
    "start_time": "2023-01-16T13:14:43.719Z"
   },
   {
    "duration": 5,
    "start_time": "2023-01-16T13:24:43.145Z"
   },
   {
    "duration": 5,
    "start_time": "2023-01-16T13:25:22.894Z"
   },
   {
    "duration": 9,
    "start_time": "2023-01-16T13:27:49.604Z"
   },
   {
    "duration": 10,
    "start_time": "2023-01-16T13:28:29.460Z"
   },
   {
    "duration": 10,
    "start_time": "2023-01-16T13:29:10.609Z"
   },
   {
    "duration": 5,
    "start_time": "2023-01-16T13:37:58.593Z"
   },
   {
    "duration": 5,
    "start_time": "2023-01-16T13:38:00.961Z"
   },
   {
    "duration": 16,
    "start_time": "2023-01-16T13:47:45.310Z"
   },
   {
    "duration": 1493,
    "start_time": "2023-01-16T13:49:03.270Z"
   },
   {
    "duration": 1530,
    "start_time": "2023-01-16T14:02:32.331Z"
   },
   {
    "duration": 5,
    "start_time": "2023-01-16T14:06:48.054Z"
   },
   {
    "duration": 1320,
    "start_time": "2023-01-16T14:08:38.330Z"
   },
   {
    "duration": 1349,
    "start_time": "2023-01-16T14:13:30.849Z"
   },
   {
    "duration": 1441,
    "start_time": "2023-01-16T14:14:54.729Z"
   },
   {
    "duration": 6,
    "start_time": "2023-01-16T14:17:33.965Z"
   }
  ],
  "kernelspec": {
   "display_name": "Python 3",
   "language": "python",
   "name": "python3"
  },
  "language_info": {
   "codemirror_mode": {
    "name": "ipython",
    "version": 3
   },
   "file_extension": ".py",
   "mimetype": "text/x-python",
   "name": "python",
   "nbconvert_exporter": "python",
   "pygments_lexer": "ipython3",
   "version": "3.8.5"
  },
  "toc": {
   "base_numbering": 1,
   "nav_menu": {},
   "number_sections": true,
   "sideBar": true,
   "skip_h1_title": true,
   "title_cell": "Table of Contents",
   "title_sidebar": "Contents",
   "toc_cell": false,
   "toc_position": {},
   "toc_section_display": true,
   "toc_window_display": true
  }
 },
 "nbformat": 4,
 "nbformat_minor": 2
}
