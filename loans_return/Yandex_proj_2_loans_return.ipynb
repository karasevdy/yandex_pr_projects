{
 "cells": [
  {
   "cell_type": "markdown",
   "metadata": {
    "deletable": false,
    "editable": false,
    "id": "c81daeeb"
   },
   "source": [
    "# Исследование надежности заемщиков\n"
   ]
  },
  {
   "cell_type": "markdown",
   "metadata": {
    "deletable": false,
    "editable": false,
    "id": "827c20bf"
   },
   "source": [
    "Во второй части проекта вы выполните шаги 3 и 4. Их вручную проверит ревьюер.\n",
    "Чтобы вам не пришлось писать код заново для шагов 1 и 2, мы добавили авторские решения в ячейки с кодом. \n",
    "\n"
   ]
  },
  {
   "cell_type": "markdown",
   "metadata": {
    "deletable": false,
    "editable": false,
    "id": "744d7639"
   },
   "source": [
    "## Откройте таблицу и изучите общую информацию о данных"
   ]
  },
  {
   "cell_type": "markdown",
   "metadata": {
    "deletable": false,
    "editable": false,
    "id": "e7a14c31"
   },
   "source": [
    "**Задание 1. Импортируйте библиотеку pandas. Считайте данные из csv-файла в датафрейм и сохраните в переменную `data`. Путь к файлу:**\n",
    "\n",
    "`/datasets/data.csv`"
   ]
  },
  {
   "cell_type": "code",
   "execution_count": 2,
   "metadata": {
    "deletable": false,
    "id": "7bcf75c9"
   },
   "outputs": [],
   "source": [
    "import pandas as pd\n",
    "\n",
    "try:\n",
    "    data = pd.read_csv('/datasets/data.csv')\n",
    "except:\n",
    "    data = pd.read_csv('https://code.s3.yandex.net/datasets/data.csv')"
   ]
  },
  {
   "cell_type": "markdown",
   "metadata": {
    "deletable": false,
    "editable": false,
    "id": "b8038fe3"
   },
   "source": [
    "**Задание 2. Выведите первые 20 строчек датафрейма `data` на экран.**"
   ]
  },
  {
   "cell_type": "code",
   "execution_count": 3,
   "metadata": {
    "deletable": false,
    "id": "2a7cab99",
    "outputId": "1a8f3ef2-d323-4ec2-ddf7-89670b5944c4"
   },
   "outputs": [
    {
     "data": {
      "text/html": [
       "<div>\n",
       "<style scoped>\n",
       "    .dataframe tbody tr th:only-of-type {\n",
       "        vertical-align: middle;\n",
       "    }\n",
       "\n",
       "    .dataframe tbody tr th {\n",
       "        vertical-align: top;\n",
       "    }\n",
       "\n",
       "    .dataframe thead th {\n",
       "        text-align: right;\n",
       "    }\n",
       "</style>\n",
       "<table border=\"1\" class=\"dataframe\">\n",
       "  <thead>\n",
       "    <tr style=\"text-align: right;\">\n",
       "      <th></th>\n",
       "      <th>children</th>\n",
       "      <th>days_employed</th>\n",
       "      <th>dob_years</th>\n",
       "      <th>education</th>\n",
       "      <th>education_id</th>\n",
       "      <th>family_status</th>\n",
       "      <th>family_status_id</th>\n",
       "      <th>gender</th>\n",
       "      <th>income_type</th>\n",
       "      <th>debt</th>\n",
       "      <th>total_income</th>\n",
       "      <th>purpose</th>\n",
       "    </tr>\n",
       "  </thead>\n",
       "  <tbody>\n",
       "    <tr>\n",
       "      <th>0</th>\n",
       "      <td>1</td>\n",
       "      <td>-8437.673028</td>\n",
       "      <td>42</td>\n",
       "      <td>высшее</td>\n",
       "      <td>0</td>\n",
       "      <td>женат / замужем</td>\n",
       "      <td>0</td>\n",
       "      <td>F</td>\n",
       "      <td>сотрудник</td>\n",
       "      <td>0</td>\n",
       "      <td>253875.639453</td>\n",
       "      <td>покупка жилья</td>\n",
       "    </tr>\n",
       "    <tr>\n",
       "      <th>1</th>\n",
       "      <td>1</td>\n",
       "      <td>-4024.803754</td>\n",
       "      <td>36</td>\n",
       "      <td>среднее</td>\n",
       "      <td>1</td>\n",
       "      <td>женат / замужем</td>\n",
       "      <td>0</td>\n",
       "      <td>F</td>\n",
       "      <td>сотрудник</td>\n",
       "      <td>0</td>\n",
       "      <td>112080.014102</td>\n",
       "      <td>приобретение автомобиля</td>\n",
       "    </tr>\n",
       "    <tr>\n",
       "      <th>2</th>\n",
       "      <td>0</td>\n",
       "      <td>-5623.422610</td>\n",
       "      <td>33</td>\n",
       "      <td>Среднее</td>\n",
       "      <td>1</td>\n",
       "      <td>женат / замужем</td>\n",
       "      <td>0</td>\n",
       "      <td>M</td>\n",
       "      <td>сотрудник</td>\n",
       "      <td>0</td>\n",
       "      <td>145885.952297</td>\n",
       "      <td>покупка жилья</td>\n",
       "    </tr>\n",
       "    <tr>\n",
       "      <th>3</th>\n",
       "      <td>3</td>\n",
       "      <td>-4124.747207</td>\n",
       "      <td>32</td>\n",
       "      <td>среднее</td>\n",
       "      <td>1</td>\n",
       "      <td>женат / замужем</td>\n",
       "      <td>0</td>\n",
       "      <td>M</td>\n",
       "      <td>сотрудник</td>\n",
       "      <td>0</td>\n",
       "      <td>267628.550329</td>\n",
       "      <td>дополнительное образование</td>\n",
       "    </tr>\n",
       "    <tr>\n",
       "      <th>4</th>\n",
       "      <td>0</td>\n",
       "      <td>340266.072047</td>\n",
       "      <td>53</td>\n",
       "      <td>среднее</td>\n",
       "      <td>1</td>\n",
       "      <td>гражданский брак</td>\n",
       "      <td>1</td>\n",
       "      <td>F</td>\n",
       "      <td>пенсионер</td>\n",
       "      <td>0</td>\n",
       "      <td>158616.077870</td>\n",
       "      <td>сыграть свадьбу</td>\n",
       "    </tr>\n",
       "    <tr>\n",
       "      <th>5</th>\n",
       "      <td>0</td>\n",
       "      <td>-926.185831</td>\n",
       "      <td>27</td>\n",
       "      <td>высшее</td>\n",
       "      <td>0</td>\n",
       "      <td>гражданский брак</td>\n",
       "      <td>1</td>\n",
       "      <td>M</td>\n",
       "      <td>компаньон</td>\n",
       "      <td>0</td>\n",
       "      <td>255763.565419</td>\n",
       "      <td>покупка жилья</td>\n",
       "    </tr>\n",
       "    <tr>\n",
       "      <th>6</th>\n",
       "      <td>0</td>\n",
       "      <td>-2879.202052</td>\n",
       "      <td>43</td>\n",
       "      <td>высшее</td>\n",
       "      <td>0</td>\n",
       "      <td>женат / замужем</td>\n",
       "      <td>0</td>\n",
       "      <td>F</td>\n",
       "      <td>компаньон</td>\n",
       "      <td>0</td>\n",
       "      <td>240525.971920</td>\n",
       "      <td>операции с жильем</td>\n",
       "    </tr>\n",
       "    <tr>\n",
       "      <th>7</th>\n",
       "      <td>0</td>\n",
       "      <td>-152.779569</td>\n",
       "      <td>50</td>\n",
       "      <td>СРЕДНЕЕ</td>\n",
       "      <td>1</td>\n",
       "      <td>женат / замужем</td>\n",
       "      <td>0</td>\n",
       "      <td>M</td>\n",
       "      <td>сотрудник</td>\n",
       "      <td>0</td>\n",
       "      <td>135823.934197</td>\n",
       "      <td>образование</td>\n",
       "    </tr>\n",
       "    <tr>\n",
       "      <th>8</th>\n",
       "      <td>2</td>\n",
       "      <td>-6929.865299</td>\n",
       "      <td>35</td>\n",
       "      <td>ВЫСШЕЕ</td>\n",
       "      <td>0</td>\n",
       "      <td>гражданский брак</td>\n",
       "      <td>1</td>\n",
       "      <td>F</td>\n",
       "      <td>сотрудник</td>\n",
       "      <td>0</td>\n",
       "      <td>95856.832424</td>\n",
       "      <td>на проведение свадьбы</td>\n",
       "    </tr>\n",
       "    <tr>\n",
       "      <th>9</th>\n",
       "      <td>0</td>\n",
       "      <td>-2188.756445</td>\n",
       "      <td>41</td>\n",
       "      <td>среднее</td>\n",
       "      <td>1</td>\n",
       "      <td>женат / замужем</td>\n",
       "      <td>0</td>\n",
       "      <td>M</td>\n",
       "      <td>сотрудник</td>\n",
       "      <td>0</td>\n",
       "      <td>144425.938277</td>\n",
       "      <td>покупка жилья для семьи</td>\n",
       "    </tr>\n",
       "    <tr>\n",
       "      <th>10</th>\n",
       "      <td>2</td>\n",
       "      <td>-4171.483647</td>\n",
       "      <td>36</td>\n",
       "      <td>высшее</td>\n",
       "      <td>0</td>\n",
       "      <td>женат / замужем</td>\n",
       "      <td>0</td>\n",
       "      <td>M</td>\n",
       "      <td>компаньон</td>\n",
       "      <td>0</td>\n",
       "      <td>113943.491460</td>\n",
       "      <td>покупка недвижимости</td>\n",
       "    </tr>\n",
       "    <tr>\n",
       "      <th>11</th>\n",
       "      <td>0</td>\n",
       "      <td>-792.701887</td>\n",
       "      <td>40</td>\n",
       "      <td>среднее</td>\n",
       "      <td>1</td>\n",
       "      <td>женат / замужем</td>\n",
       "      <td>0</td>\n",
       "      <td>F</td>\n",
       "      <td>сотрудник</td>\n",
       "      <td>0</td>\n",
       "      <td>77069.234271</td>\n",
       "      <td>покупка коммерческой недвижимости</td>\n",
       "    </tr>\n",
       "    <tr>\n",
       "      <th>12</th>\n",
       "      <td>0</td>\n",
       "      <td>NaN</td>\n",
       "      <td>65</td>\n",
       "      <td>среднее</td>\n",
       "      <td>1</td>\n",
       "      <td>гражданский брак</td>\n",
       "      <td>1</td>\n",
       "      <td>M</td>\n",
       "      <td>пенсионер</td>\n",
       "      <td>0</td>\n",
       "      <td>NaN</td>\n",
       "      <td>сыграть свадьбу</td>\n",
       "    </tr>\n",
       "    <tr>\n",
       "      <th>13</th>\n",
       "      <td>0</td>\n",
       "      <td>-1846.641941</td>\n",
       "      <td>54</td>\n",
       "      <td>неоконченное высшее</td>\n",
       "      <td>2</td>\n",
       "      <td>женат / замужем</td>\n",
       "      <td>0</td>\n",
       "      <td>F</td>\n",
       "      <td>сотрудник</td>\n",
       "      <td>0</td>\n",
       "      <td>130458.228857</td>\n",
       "      <td>приобретение автомобиля</td>\n",
       "    </tr>\n",
       "    <tr>\n",
       "      <th>14</th>\n",
       "      <td>0</td>\n",
       "      <td>-1844.956182</td>\n",
       "      <td>56</td>\n",
       "      <td>высшее</td>\n",
       "      <td>0</td>\n",
       "      <td>гражданский брак</td>\n",
       "      <td>1</td>\n",
       "      <td>F</td>\n",
       "      <td>компаньон</td>\n",
       "      <td>1</td>\n",
       "      <td>165127.911772</td>\n",
       "      <td>покупка жилой недвижимости</td>\n",
       "    </tr>\n",
       "    <tr>\n",
       "      <th>15</th>\n",
       "      <td>1</td>\n",
       "      <td>-972.364419</td>\n",
       "      <td>26</td>\n",
       "      <td>среднее</td>\n",
       "      <td>1</td>\n",
       "      <td>женат / замужем</td>\n",
       "      <td>0</td>\n",
       "      <td>F</td>\n",
       "      <td>сотрудник</td>\n",
       "      <td>0</td>\n",
       "      <td>116820.904450</td>\n",
       "      <td>строительство собственной недвижимости</td>\n",
       "    </tr>\n",
       "    <tr>\n",
       "      <th>16</th>\n",
       "      <td>0</td>\n",
       "      <td>-1719.934226</td>\n",
       "      <td>35</td>\n",
       "      <td>среднее</td>\n",
       "      <td>1</td>\n",
       "      <td>женат / замужем</td>\n",
       "      <td>0</td>\n",
       "      <td>F</td>\n",
       "      <td>сотрудник</td>\n",
       "      <td>0</td>\n",
       "      <td>289202.704229</td>\n",
       "      <td>недвижимость</td>\n",
       "    </tr>\n",
       "    <tr>\n",
       "      <th>17</th>\n",
       "      <td>0</td>\n",
       "      <td>-2369.999720</td>\n",
       "      <td>33</td>\n",
       "      <td>высшее</td>\n",
       "      <td>0</td>\n",
       "      <td>гражданский брак</td>\n",
       "      <td>1</td>\n",
       "      <td>M</td>\n",
       "      <td>сотрудник</td>\n",
       "      <td>0</td>\n",
       "      <td>90410.586745</td>\n",
       "      <td>строительство недвижимости</td>\n",
       "    </tr>\n",
       "    <tr>\n",
       "      <th>18</th>\n",
       "      <td>0</td>\n",
       "      <td>400281.136913</td>\n",
       "      <td>53</td>\n",
       "      <td>среднее</td>\n",
       "      <td>1</td>\n",
       "      <td>вдовец / вдова</td>\n",
       "      <td>2</td>\n",
       "      <td>F</td>\n",
       "      <td>пенсионер</td>\n",
       "      <td>0</td>\n",
       "      <td>56823.777243</td>\n",
       "      <td>на покупку подержанного автомобиля</td>\n",
       "    </tr>\n",
       "    <tr>\n",
       "      <th>19</th>\n",
       "      <td>0</td>\n",
       "      <td>-10038.818549</td>\n",
       "      <td>48</td>\n",
       "      <td>СРЕДНЕЕ</td>\n",
       "      <td>1</td>\n",
       "      <td>в разводе</td>\n",
       "      <td>3</td>\n",
       "      <td>F</td>\n",
       "      <td>сотрудник</td>\n",
       "      <td>0</td>\n",
       "      <td>242831.107982</td>\n",
       "      <td>на покупку своего автомобиля</td>\n",
       "    </tr>\n",
       "  </tbody>\n",
       "</table>\n",
       "</div>"
      ],
      "text/plain": [
       "    children  days_employed  dob_years            education  education_id  \\\n",
       "0          1   -8437.673028         42               высшее             0   \n",
       "1          1   -4024.803754         36              среднее             1   \n",
       "2          0   -5623.422610         33              Среднее             1   \n",
       "3          3   -4124.747207         32              среднее             1   \n",
       "4          0  340266.072047         53              среднее             1   \n",
       "5          0    -926.185831         27               высшее             0   \n",
       "6          0   -2879.202052         43               высшее             0   \n",
       "7          0    -152.779569         50              СРЕДНЕЕ             1   \n",
       "8          2   -6929.865299         35               ВЫСШЕЕ             0   \n",
       "9          0   -2188.756445         41              среднее             1   \n",
       "10         2   -4171.483647         36               высшее             0   \n",
       "11         0    -792.701887         40              среднее             1   \n",
       "12         0            NaN         65              среднее             1   \n",
       "13         0   -1846.641941         54  неоконченное высшее             2   \n",
       "14         0   -1844.956182         56               высшее             0   \n",
       "15         1    -972.364419         26              среднее             1   \n",
       "16         0   -1719.934226         35              среднее             1   \n",
       "17         0   -2369.999720         33               высшее             0   \n",
       "18         0  400281.136913         53              среднее             1   \n",
       "19         0  -10038.818549         48              СРЕДНЕЕ             1   \n",
       "\n",
       "       family_status  family_status_id gender income_type  debt  \\\n",
       "0    женат / замужем                 0      F   сотрудник     0   \n",
       "1    женат / замужем                 0      F   сотрудник     0   \n",
       "2    женат / замужем                 0      M   сотрудник     0   \n",
       "3    женат / замужем                 0      M   сотрудник     0   \n",
       "4   гражданский брак                 1      F   пенсионер     0   \n",
       "5   гражданский брак                 1      M   компаньон     0   \n",
       "6    женат / замужем                 0      F   компаньон     0   \n",
       "7    женат / замужем                 0      M   сотрудник     0   \n",
       "8   гражданский брак                 1      F   сотрудник     0   \n",
       "9    женат / замужем                 0      M   сотрудник     0   \n",
       "10   женат / замужем                 0      M   компаньон     0   \n",
       "11   женат / замужем                 0      F   сотрудник     0   \n",
       "12  гражданский брак                 1      M   пенсионер     0   \n",
       "13   женат / замужем                 0      F   сотрудник     0   \n",
       "14  гражданский брак                 1      F   компаньон     1   \n",
       "15   женат / замужем                 0      F   сотрудник     0   \n",
       "16   женат / замужем                 0      F   сотрудник     0   \n",
       "17  гражданский брак                 1      M   сотрудник     0   \n",
       "18    вдовец / вдова                 2      F   пенсионер     0   \n",
       "19         в разводе                 3      F   сотрудник     0   \n",
       "\n",
       "     total_income                                 purpose  \n",
       "0   253875.639453                           покупка жилья  \n",
       "1   112080.014102                 приобретение автомобиля  \n",
       "2   145885.952297                           покупка жилья  \n",
       "3   267628.550329              дополнительное образование  \n",
       "4   158616.077870                         сыграть свадьбу  \n",
       "5   255763.565419                           покупка жилья  \n",
       "6   240525.971920                       операции с жильем  \n",
       "7   135823.934197                             образование  \n",
       "8    95856.832424                   на проведение свадьбы  \n",
       "9   144425.938277                 покупка жилья для семьи  \n",
       "10  113943.491460                    покупка недвижимости  \n",
       "11   77069.234271       покупка коммерческой недвижимости  \n",
       "12            NaN                         сыграть свадьбу  \n",
       "13  130458.228857                 приобретение автомобиля  \n",
       "14  165127.911772              покупка жилой недвижимости  \n",
       "15  116820.904450  строительство собственной недвижимости  \n",
       "16  289202.704229                            недвижимость  \n",
       "17   90410.586745              строительство недвижимости  \n",
       "18   56823.777243      на покупку подержанного автомобиля  \n",
       "19  242831.107982            на покупку своего автомобиля  "
      ]
     },
     "execution_count": 3,
     "metadata": {},
     "output_type": "execute_result"
    }
   ],
   "source": [
    "data.head(20)"
   ]
  },
  {
   "cell_type": "markdown",
   "metadata": {
    "deletable": false,
    "editable": false,
    "id": "1c12e233"
   },
   "source": [
    "**Задание 3. Выведите основную информацию о датафрейме с помощью метода `info()`.**"
   ]
  },
  {
   "cell_type": "code",
   "execution_count": 4,
   "metadata": {
    "deletable": false,
    "id": "2b757bca",
    "outputId": "15376089-8dad-46c9-b520-c05248d43158"
   },
   "outputs": [
    {
     "name": "stdout",
     "output_type": "stream",
     "text": [
      "<class 'pandas.core.frame.DataFrame'>\n",
      "RangeIndex: 21525 entries, 0 to 21524\n",
      "Data columns (total 12 columns):\n",
      " #   Column            Non-Null Count  Dtype  \n",
      "---  ------            --------------  -----  \n",
      " 0   children          21525 non-null  int64  \n",
      " 1   days_employed     19351 non-null  float64\n",
      " 2   dob_years         21525 non-null  int64  \n",
      " 3   education         21525 non-null  object \n",
      " 4   education_id      21525 non-null  int64  \n",
      " 5   family_status     21525 non-null  object \n",
      " 6   family_status_id  21525 non-null  int64  \n",
      " 7   gender            21525 non-null  object \n",
      " 8   income_type       21525 non-null  object \n",
      " 9   debt              21525 non-null  int64  \n",
      " 10  total_income      19351 non-null  float64\n",
      " 11  purpose           21525 non-null  object \n",
      "dtypes: float64(2), int64(5), object(5)\n",
      "memory usage: 2.0+ MB\n"
     ]
    }
   ],
   "source": [
    "data.info()"
   ]
  },
  {
   "cell_type": "markdown",
   "metadata": {
    "deletable": false,
    "editable": false,
    "id": "333ec665"
   },
   "source": [
    "## Предобработка данных"
   ]
  },
  {
   "cell_type": "markdown",
   "metadata": {
    "deletable": false,
    "editable": false,
    "id": "02d92d53"
   },
   "source": [
    "### Удаление пропусков"
   ]
  },
  {
   "cell_type": "markdown",
   "metadata": {
    "deletable": false,
    "editable": false,
    "id": "cd84967c"
   },
   "source": [
    "**Задание 4. Выведите количество пропущенных значений для каждого столбца. Используйте комбинацию двух методов.**"
   ]
  },
  {
   "cell_type": "code",
   "execution_count": 5,
   "metadata": {
    "deletable": false,
    "id": "7f9b2309",
    "outputId": "81f4d817-781c-465c-ed15-91ce4446810d"
   },
   "outputs": [
    {
     "data": {
      "text/plain": [
       "children               0\n",
       "days_employed       2174\n",
       "dob_years              0\n",
       "education              0\n",
       "education_id           0\n",
       "family_status          0\n",
       "family_status_id       0\n",
       "gender                 0\n",
       "income_type            0\n",
       "debt                   0\n",
       "total_income        2174\n",
       "purpose                0\n",
       "dtype: int64"
      ]
     },
     "execution_count": 5,
     "metadata": {},
     "output_type": "execute_result"
    }
   ],
   "source": [
    "data.isna().sum()"
   ]
  },
  {
   "cell_type": "markdown",
   "metadata": {
    "deletable": false,
    "editable": false,
    "id": "db86e27b"
   },
   "source": [
    "**Задание 5. В двух столбцах есть пропущенные значения. Один из них — `days_employed`. Пропуски в этом столбце вы обработаете на следующем этапе. Другой столбец с пропущенными значениями — `total_income` — хранит данные о доходах. На сумму дохода сильнее всего влияет тип занятости, поэтому заполнить пропуски в этом столбце нужно медианным значением по каждому типу из столбца `income_type`. Например, у человека с типом занятости `сотрудник` пропуск в столбце `total_income` должен быть заполнен медианным доходом среди всех записей с тем же типом.**"
   ]
  },
  {
   "cell_type": "code",
   "execution_count": 6,
   "metadata": {
    "deletable": false,
    "id": "42006a93"
   },
   "outputs": [],
   "source": [
    "for t in data['income_type'].unique():\n",
    "    data.loc[(data['income_type'] == t) & (data['total_income'].isna()), 'total_income'] = \\\n",
    "    data.loc[(data['income_type'] == t), 'total_income'].median()"
   ]
  },
  {
   "cell_type": "markdown",
   "metadata": {
    "deletable": false,
    "editable": false,
    "id": "89da5ece"
   },
   "source": [
    "### Обработка аномальных значений"
   ]
  },
  {
   "cell_type": "markdown",
   "metadata": {
    "deletable": false,
    "editable": false,
    "id": "57964554"
   },
   "source": [
    "**Задание 6. В данных могут встречаться артефакты (аномалии) — значения, которые не отражают действительность и появились по какой-то ошибке. таким артефактом будет отрицательное количество дней трудового стажа в столбце `days_employed`. Для реальных данных это нормально. Обработайте значения в этом столбце: замените все отрицательные значения положительными с помощью метода `abs()`.**"
   ]
  },
  {
   "cell_type": "code",
   "execution_count": 7,
   "metadata": {
    "deletable": false,
    "id": "f6f055bf"
   },
   "outputs": [],
   "source": [
    "data['days_employed'] = data['days_employed'].abs()"
   ]
  },
  {
   "cell_type": "markdown",
   "metadata": {
    "deletable": false,
    "editable": false,
    "id": "6107dd2f"
   },
   "source": [
    "**Задание 7. Для каждого типа занятости выведите медианное значение трудового стажа `days_employed` в днях.**"
   ]
  },
  {
   "cell_type": "code",
   "execution_count": 8,
   "metadata": {
    "deletable": false,
    "id": "85a5faf6",
    "outputId": "801ef80e-522b-4668-f34e-565af7432bcf"
   },
   "outputs": [
    {
     "data": {
      "text/plain": [
       "income_type\n",
       "безработный        366413.652744\n",
       "в декрете            3296.759962\n",
       "госслужащий          2689.368353\n",
       "компаньон            1547.382223\n",
       "пенсионер          365213.306266\n",
       "предприниматель       520.848083\n",
       "сотрудник            1574.202821\n",
       "студент               578.751554\n",
       "Name: days_employed, dtype: float64"
      ]
     },
     "execution_count": 8,
     "metadata": {},
     "output_type": "execute_result"
    }
   ],
   "source": [
    "data.groupby('income_type')['days_employed'].agg('median')"
   ]
  },
  {
   "cell_type": "markdown",
   "metadata": {
    "deletable": false,
    "editable": false,
    "id": "38d1a030"
   },
   "source": [
    "У двух типов (безработные и пенсионеры) получатся аномально большие значения. Исправить такие значения сложно, поэтому оставьте их как есть. Тем более этот столбец не понадобится вам для исследования."
   ]
  },
  {
   "cell_type": "markdown",
   "metadata": {
    "deletable": false,
    "editable": false,
    "id": "d8a9f147"
   },
   "source": [
    "**Задание 8. Выведите перечень уникальных значений столбца `children`.**"
   ]
  },
  {
   "cell_type": "code",
   "execution_count": 9,
   "metadata": {
    "deletable": false,
    "id": "ef5056eb",
    "outputId": "6975b15c-7f95-4697-d16d-a0c79b657b03"
   },
   "outputs": [
    {
     "data": {
      "text/plain": [
       "array([ 1,  0,  3,  2, -1,  4, 20,  5])"
      ]
     },
     "execution_count": 9,
     "metadata": {},
     "output_type": "execute_result"
    }
   ],
   "source": [
    "data['children'].unique()"
   ]
  },
  {
   "cell_type": "markdown",
   "metadata": {
    "deletable": false,
    "editable": false,
    "id": "40b9ebf2"
   },
   "source": [
    "**Задание 9. В столбце `children` есть два аномальных значения. Удалите строки, в которых встречаются такие аномальные значения из датафрейма `data`.**"
   ]
  },
  {
   "cell_type": "code",
   "execution_count": 10,
   "metadata": {
    "deletable": false,
    "id": "3ff9801d"
   },
   "outputs": [],
   "source": [
    "data = data[(data['children'] != -1) & (data['children'] != 20)]"
   ]
  },
  {
   "cell_type": "markdown",
   "metadata": {
    "deletable": false,
    "editable": false,
    "id": "bbc4d0ce"
   },
   "source": [
    "**Задание 10. Ещё раз выведите перечень уникальных значений столбца `children`, чтобы убедиться, что артефакты удалены.**"
   ]
  },
  {
   "cell_type": "code",
   "execution_count": 11,
   "metadata": {
    "deletable": false,
    "id": "ad4fa8b7",
    "outputId": "b2097101-d49d-44d9-901b-32a65c9463d1"
   },
   "outputs": [
    {
     "data": {
      "text/plain": [
       "array([1, 0, 3, 2, 4, 5])"
      ]
     },
     "execution_count": 11,
     "metadata": {},
     "output_type": "execute_result"
    }
   ],
   "source": [
    "data['children'].unique()"
   ]
  },
  {
   "cell_type": "markdown",
   "metadata": {
    "deletable": false,
    "editable": false,
    "id": "75440b63"
   },
   "source": [
    "### Удаление пропусков (продолжение)"
   ]
  },
  {
   "cell_type": "markdown",
   "metadata": {
    "deletable": false,
    "editable": false,
    "id": "f4ea573f"
   },
   "source": [
    "**Задание 11. Заполните пропуски в столбце `days_employed` медианными значениями по каждого типа занятости `income_type`.**"
   ]
  },
  {
   "cell_type": "code",
   "execution_count": 12,
   "metadata": {
    "deletable": false,
    "id": "af6b1a7e"
   },
   "outputs": [],
   "source": [
    "for t in data['income_type'].unique():\n",
    "    data.loc[(data['income_type'] == t) & (data['days_employed'].isna()), 'days_employed'] = \\\n",
    "    data.loc[(data['income_type'] == t), 'days_employed'].median()"
   ]
  },
  {
   "cell_type": "markdown",
   "metadata": {
    "deletable": false,
    "editable": false,
    "id": "2753f40d"
   },
   "source": [
    "**Задание 12. Убедитесь, что все пропуски заполнены. Проверьте себя и ещё раз выведите количество пропущенных значений для каждого столбца с помощью двух методов.**"
   ]
  },
  {
   "cell_type": "code",
   "execution_count": 13,
   "metadata": {
    "deletable": false,
    "id": "55f78bc2",
    "outputId": "8da1e4e1-358e-4e87-98c9-f261bce0a7b2"
   },
   "outputs": [
    {
     "data": {
      "text/plain": [
       "children            0\n",
       "days_employed       0\n",
       "dob_years           0\n",
       "education           0\n",
       "education_id        0\n",
       "family_status       0\n",
       "family_status_id    0\n",
       "gender              0\n",
       "income_type         0\n",
       "debt                0\n",
       "total_income        0\n",
       "purpose             0\n",
       "dtype: int64"
      ]
     },
     "execution_count": 13,
     "metadata": {},
     "output_type": "execute_result"
    }
   ],
   "source": [
    "data.isna().sum()"
   ]
  },
  {
   "cell_type": "markdown",
   "metadata": {
    "deletable": false,
    "editable": false,
    "id": "ddc81e43"
   },
   "source": [
    "### Изменение типов данных"
   ]
  },
  {
   "cell_type": "markdown",
   "metadata": {
    "deletable": false,
    "editable": false,
    "id": "42d19d24"
   },
   "source": [
    "**Задание 13. Замените вещественный тип данных в столбце `total_income` на целочисленный с помощью метода `astype()`.**"
   ]
  },
  {
   "cell_type": "code",
   "execution_count": 14,
   "metadata": {
    "deletable": false,
    "id": "920b65ad"
   },
   "outputs": [],
   "source": [
    "data['total_income'] = data['total_income'].astype(int)"
   ]
  },
  {
   "cell_type": "markdown",
   "metadata": {
    "deletable": false,
    "editable": false,
    "id": "80c420ba"
   },
   "source": [
    "### Обработка дубликатов"
   ]
  },
  {
   "cell_type": "markdown",
   "metadata": {
    "deletable": false,
    "editable": false
   },
   "source": [
    "**Задание 14. Обработайте неявные дубликаты в столбце `education`. В этом столбце есть одни и те же значения, но записанные по-разному: с использованием заглавных и строчных букв. Приведите их к нижнему регистру. Проверьте остальные столбцы.**"
   ]
  },
  {
   "cell_type": "code",
   "execution_count": 15,
   "metadata": {
    "deletable": false
   },
   "outputs": [],
   "source": [
    "data['education'] = data['education'].str.lower()"
   ]
  },
  {
   "cell_type": "markdown",
   "metadata": {
    "deletable": false,
    "editable": false,
    "id": "dc587695"
   },
   "source": [
    "**Задание 15. Выведите на экран количество строк-дубликатов в данных. Если такие строки присутствуют, удалите их.**"
   ]
  },
  {
   "cell_type": "code",
   "execution_count": 16,
   "metadata": {
    "deletable": false,
    "id": "3ee445e4",
    "outputId": "9684deba-1934-42d1-99e1-cda61740f822"
   },
   "outputs": [
    {
     "data": {
      "text/plain": [
       "71"
      ]
     },
     "execution_count": 16,
     "metadata": {},
     "output_type": "execute_result"
    }
   ],
   "source": [
    "data.duplicated().sum()"
   ]
  },
  {
   "cell_type": "code",
   "execution_count": 17,
   "metadata": {
    "deletable": false,
    "id": "8575fe05"
   },
   "outputs": [],
   "source": [
    "data = data.drop_duplicates()"
   ]
  },
  {
   "cell_type": "markdown",
   "metadata": {
    "deletable": false,
    "editable": false,
    "id": "9904cf55"
   },
   "source": [
    "### Категоризация данных"
   ]
  },
  {
   "cell_type": "markdown",
   "metadata": {
    "deletable": false,
    "editable": false,
    "id": "72fcc8a2"
   },
   "source": [
    "**Задание 16. На основании диапазонов, указанных ниже, создайте в датафрейме `data` столбец `total_income_category` с категориями:**\n",
    "\n",
    "- 0–30000 — `'E'`;\n",
    "- 30001–50000 — `'D'`;\n",
    "- 50001–200000 — `'C'`;\n",
    "- 200001–1000000 — `'B'`;\n",
    "- 1000001 и выше — `'A'`.\n",
    "\n",
    "\n",
    "**Например, кредитополучателю с доходом 25000 нужно назначить категорию `'E'`, а клиенту, получающему 235000, — `'B'`. Используйте собственную функцию с именем `categorize_income()` и метод `apply()`.**"
   ]
  },
  {
   "cell_type": "code",
   "execution_count": 18,
   "metadata": {
    "deletable": false,
    "id": "e1771346"
   },
   "outputs": [],
   "source": [
    "def categorize_income(income):\n",
    "    try:\n",
    "        if 0 <= income <= 30000:\n",
    "            return 'E'\n",
    "        elif 30001 <= income <= 50000:\n",
    "            return 'D'\n",
    "        elif 50001 <= income <= 200000:\n",
    "            return 'C'\n",
    "        elif 200001 <= income <= 1000000:\n",
    "            return 'B'\n",
    "        elif income >= 1000001:\n",
    "            return 'A'\n",
    "    except:\n",
    "        pass"
   ]
  },
  {
   "cell_type": "code",
   "execution_count": 19,
   "metadata": {
    "deletable": false,
    "id": "d5f3586d"
   },
   "outputs": [],
   "source": [
    "data['total_income_category'] = data['total_income'].apply(categorize_income)"
   ]
  },
  {
   "cell_type": "markdown",
   "metadata": {
    "deletable": false,
    "editable": false,
    "id": "dde49b5c"
   },
   "source": [
    "**Задание 17. Выведите на экран перечень уникальных целей взятия кредита из столбца `purpose`.**"
   ]
  },
  {
   "cell_type": "code",
   "execution_count": 20,
   "metadata": {
    "deletable": false,
    "id": "f67ce9b3",
    "outputId": "673c12d9-7d7e-4ae0-9812-c622c89dd244"
   },
   "outputs": [
    {
     "data": {
      "text/plain": [
       "array(['покупка жилья', 'приобретение автомобиля',\n",
       "       'дополнительное образование', 'сыграть свадьбу',\n",
       "       'операции с жильем', 'образование', 'на проведение свадьбы',\n",
       "       'покупка жилья для семьи', 'покупка недвижимости',\n",
       "       'покупка коммерческой недвижимости', 'покупка жилой недвижимости',\n",
       "       'строительство собственной недвижимости', 'недвижимость',\n",
       "       'строительство недвижимости', 'на покупку подержанного автомобиля',\n",
       "       'на покупку своего автомобиля',\n",
       "       'операции с коммерческой недвижимостью',\n",
       "       'строительство жилой недвижимости', 'жилье',\n",
       "       'операции со своей недвижимостью', 'автомобили',\n",
       "       'заняться образованием', 'сделка с подержанным автомобилем',\n",
       "       'получение образования', 'автомобиль', 'свадьба',\n",
       "       'получение дополнительного образования', 'покупка своего жилья',\n",
       "       'операции с недвижимостью', 'получение высшего образования',\n",
       "       'свой автомобиль', 'сделка с автомобилем',\n",
       "       'профильное образование', 'высшее образование',\n",
       "       'покупка жилья для сдачи', 'на покупку автомобиля', 'ремонт жилью',\n",
       "       'заняться высшим образованием'], dtype=object)"
      ]
     },
     "execution_count": 20,
     "metadata": {},
     "output_type": "execute_result"
    }
   ],
   "source": [
    "data['purpose'].unique()"
   ]
  },
  {
   "cell_type": "markdown",
   "metadata": {
    "deletable": false,
    "editable": false,
    "id": "85d0aef0"
   },
   "source": [
    "**Задание 18. Создайте функцию, которая на основании данных из столбца `purpose` сформирует новый столбец `purpose_category`, в который войдут следующие категории:**\n",
    "\n",
    "- `'операции с автомобилем'`,\n",
    "- `'операции с недвижимостью'`,\n",
    "- `'проведение свадьбы'`,\n",
    "- `'получение образования'`.\n",
    "\n",
    "**Например, если в столбце `purpose` находится подстрока `'на покупку автомобиля'`, то в столбце `purpose_category` должна появиться строка `'операции с автомобилем'`.**\n",
    "\n",
    "**Используйте собственную функцию с именем `categorize_purpose()` и метод `apply()`. Изучите данные в столбце `purpose` и определите, какие подстроки помогут вам правильно определить категорию.**"
   ]
  },
  {
   "cell_type": "code",
   "execution_count": 21,
   "metadata": {
    "deletable": false,
    "id": "e149fab4"
   },
   "outputs": [],
   "source": [
    "def categorize_purpose(row):\n",
    "    try:\n",
    "        if 'автом' in row:\n",
    "            return 'операции с автомобилем'\n",
    "        elif 'жил' in row or 'недвиж' in row:\n",
    "            return 'операции с недвижимостью'\n",
    "        elif 'свад' in row:\n",
    "            return 'проведение свадьбы'\n",
    "        elif 'образов' in row:\n",
    "            return 'получение образования'\n",
    "    except:\n",
    "        return 'нет категории'"
   ]
  },
  {
   "cell_type": "code",
   "execution_count": 22,
   "metadata": {
    "deletable": false,
    "id": "bf36e69b"
   },
   "outputs": [],
   "source": [
    "data['purpose_category'] = data['purpose'].apply(categorize_purpose)"
   ]
  },
  {
   "cell_type": "markdown",
   "metadata": {
    "deletable": false,
    "editable": false,
    "id": "09b242bf"
   },
   "source": [
    "### Шаг 3. Исследуйте данные и ответьте на вопросы"
   ]
  },
  {
   "cell_type": "markdown",
   "metadata": {
    "deletable": false,
    "editable": false,
    "id": "c5d66278"
   },
   "source": [
    "#### 3.1 Есть ли зависимость между количеством детей и возвратом кредита в срок?"
   ]
  },
  {
   "cell_type": "code",
   "execution_count": 23,
   "metadata": {
    "deletable": false,
    "id": "2cacfc4a"
   },
   "outputs": [
    {
     "data": {
      "text/plain": [
       "children\n",
       "0    0.075438\n",
       "1    0.092346\n",
       "2    0.094542\n",
       "3    0.081818\n",
       "4    0.097561\n",
       "5    0.000000\n",
       "Name: debt, dtype: float64"
      ]
     },
     "execution_count": 23,
     "metadata": {},
     "output_type": "execute_result"
    }
   ],
   "source": [
    "data.groupby('children')['children'].agg('count')\n",
    "data.groupby('children')['debt'].agg('sum')\n",
    "data.groupby('children')['debt'].mean()# Ваш код будет здесь. Вы можете создавать новые ячейки."
   ]
  },
  {
   "cell_type": "markdown",
   "metadata": {},
   "source": [
    "Проверим каким количеством респондентов представлено в датафрейме различное количество детей (от 0 до 5)"
   ]
  },
  {
   "cell_type": "code",
   "execution_count": 24,
   "metadata": {},
   "outputs": [
    {
     "data": {
      "text/plain": [
       "children\n",
       "0    14091\n",
       "1     4808\n",
       "2     2052\n",
       "3      330\n",
       "4       41\n",
       "5        9\n",
       "Name: children, dtype: int64"
      ]
     },
     "execution_count": 24,
     "metadata": {},
     "output_type": "execute_result"
    }
   ],
   "source": [
    "data.groupby('children')['children'].agg('count')"
   ]
  },
  {
   "cell_type": "markdown",
   "metadata": {},
   "source": [
    "Бездетных (14091) почти в два раза больше, чем всех других вместе взятых (7240). Это означает, что по этим данным сложно сделать выводы о влиянии количества детей на возврат кредита в срок."
   ]
  },
  {
   "cell_type": "markdown",
   "metadata": {},
   "source": [
    "Проверим, как часто респонденты с разной категорией детности в среднем не возвращают кредит в срок"
   ]
  },
  {
   "cell_type": "code",
   "execution_count": 25,
   "metadata": {},
   "outputs": [
    {
     "data": {
      "text/plain": [
       "children\n",
       "0    0.075438\n",
       "1    0.092346\n",
       "2    0.094542\n",
       "3    0.081818\n",
       "4    0.097561\n",
       "5    0.000000\n",
       "Name: debt, dtype: float64"
      ]
     },
     "execution_count": 25,
     "metadata": {},
     "output_type": "execute_result"
    }
   ],
   "source": [
    "data.groupby('children')['debt'].mean()"
   ]
  },
  {
   "cell_type": "markdown",
   "metadata": {},
   "source": [
    "Линейной зависимости не наблюдается. Доля респондентов не вернувших кредит в срок с количеством детей от 0 до 2-х включительно - растет. Однако эта доля для респондентов с 3 детьми, меньше чем 1, 2-я и 4-я детьми. С 4-я детьми эта доля больше чем в прочих категориях, однако все из 5-и представленных в датафрейме респондентов с 5-ю детьми вернули кредит вовремя."
   ]
  },
  {
   "cell_type": "markdown",
   "metadata": {},
   "source": [
    "Укрупним категории детности, повысив тем самым количество респондентов которым они представлены. И снова проверим."
   ]
  },
  {
   "cell_type": "code",
   "execution_count": 26,
   "metadata": {},
   "outputs": [
    {
     "data": {
      "text/plain": [
       "children_category\n",
       "бездетные      0.075438\n",
       "многодетные    0.080000\n",
       "с детьми       0.092490\n",
       "Name: debt, dtype: float64"
      ]
     },
     "execution_count": 26,
     "metadata": {},
     "output_type": "execute_result"
    }
   ],
   "source": [
    "# функция перекатегоризации количества детей\n",
    "\n",
    "def categorize_children(children):\n",
    "    try:\n",
    "        if  children < 1:\n",
    "            return 'бездетные'\n",
    "        elif 1 <= children <= 3:\n",
    "            return 'с детьми'\n",
    "        elif children >= 4:\n",
    "            return 'многодетные'\n",
    "    except:\n",
    "        pass\n",
    "\n",
    "# добавление переменной с категориями детности в датасет\n",
    "\n",
    "data['children_category'] = data['children'].apply(categorize_children)\n",
    "\n",
    "# среднее количество респондентов не вернувших кредит в срок по категориям детности\n",
    "\n",
    "data.groupby('children_category')['debt'].mean()"
   ]
  },
  {
   "cell_type": "markdown",
   "metadata": {},
   "source": [
    "Линейной зависимости также не наблюдается. Доля респондентов с детьми не вернувших кредит в срок (0.092) больше чем и у бездетных (0.075), и у многодетных (более 3-х детей) респондентов (0.08).  "
   ]
  },
  {
   "cell_type": "code",
   "execution_count": 27,
   "metadata": {},
   "outputs": [
    {
     "data": {
      "text/plain": [
       "children_category2\n",
       "бездетные    0.075438\n",
       "с детьми     0.092403\n",
       "Name: debt, dtype: float64"
      ]
     },
     "execution_count": 27,
     "metadata": {},
     "output_type": "execute_result"
    }
   ],
   "source": [
    "# функция перекатегоризации-2 количества детей: бездетные vs с детьми\n",
    "\n",
    "def categorize_children2(children):\n",
    "    try:\n",
    "        if  children < 1:\n",
    "            return 'бездетные'\n",
    "        else:\n",
    "            return 'с детьми'\n",
    "        \n",
    "    except:\n",
    "        pass\n",
    "\n",
    "# добавление переменной с категориями-2 детности в датасет\n",
    "    \n",
    "data['children_category2'] = data['children'].apply(categorize_children2)\n",
    "\n",
    "# среднее количество респондентов не вернувших кредит в срок по категориям детности\n",
    "\n",
    "data.groupby('children_category2')['debt'].mean()"
   ]
  },
  {
   "cell_type": "markdown",
   "metadata": {},
   "source": [
    "Разделение всех респондентов на бездетных и с детьми показывает, что в среднем бездетные респонденты чаще возвращают кредиты в срок. Однако является ли различие средних статистически значимым, учитывая разную представленность респондентов с детьми (7240) и бездетных респондентов (14091) - не ясно. "
   ]
  },
  {
   "cell_type": "markdown",
   "metadata": {
    "deletable": false,
    "id": "3a6b99ec"
   },
   "source": [
    "**Вывод: линейной зависимости между количеством детей и возвратом кредита в срок не выявлено. В среднем бездетные респонденты несколько чаще возвращают кредиты в срок, чем респонденты с детьми. Статистическая значимость этого различия не проверена.** \n"
   ]
  },
  {
   "cell_type": "markdown",
   "metadata": {
    "deletable": false,
    "editable": false,
    "id": "97be82ca"
   },
   "source": [
    "#### 3.2 Есть ли зависимость между семейным положением и возвратом кредита в срок?"
   ]
  },
  {
   "cell_type": "code",
   "execution_count": 28,
   "metadata": {
    "deletable": false,
    "id": "dc3f7ee8"
   },
   "outputs": [
    {
     "name": "stdout",
     "output_type": "stream",
     "text": [
      "['женат / замужем' 'гражданский брак' 'вдовец / вдова' 'в разводе'\n",
      " 'Не женат / не замужем']\n"
     ]
    },
    {
     "data": {
      "text/plain": [
       "family_status\n",
       "Не женат / не замужем    0.097639\n",
       "в разводе                0.070648\n",
       "вдовец / вдова           0.066246\n",
       "гражданский брак         0.093130\n",
       "женат / замужем          0.075606\n",
       "Name: debt, dtype: float64"
      ]
     },
     "execution_count": 28,
     "metadata": {},
     "output_type": "execute_result"
    }
   ],
   "source": [
    "print(data['family_status'].unique()) # уникальные значения переменной 'family_status'\n",
    "\n",
    "data.groupby('family_status')['family_status'].agg('count') # каким количеством респондентов представлено каждое из семейных положений\n",
    "\n",
    "data.groupby('family_status')['debt'].mean() # Среднее по семейным положениям."
   ]
  },
  {
   "cell_type": "markdown",
   "metadata": {},
   "source": [
    "Семейное положение 'женат / замужем' (12261) представлено в датафрейме шире и превашает все другие категории вместевзятые(9070). Необходимо укрупнить категории семейного положения: \"в браке\" vs \"не в браке\". Не ясно к какой из этих категорий следует относить \"гражданский брак\". Следует проверить 3 варианта: к 1-й, ко 2-й, ни к какой."
   ]
  },
  {
   "cell_type": "code",
   "execution_count": 29,
   "metadata": {},
   "outputs": [
    {
     "data": {
      "text/plain": [
       "family1\n",
       "в браке       0.080024\n",
       "не в браке    0.085089\n",
       "Name: debt, dtype: float64"
      ]
     },
     "execution_count": 29,
     "metadata": {},
     "output_type": "execute_result"
    }
   ],
   "source": [
    "# функция перекатегоризации1: 'гражданский брак' = 'в браке'\n",
    "def categorize_family1(family_status):\n",
    "    try:\n",
    "        if 'Не женат' in family_status or 'в разводе' in family_status or 'вдовец' in family_status:\n",
    "            return 'не в браке'\n",
    "        else:\n",
    "            return 'в браке'\n",
    "    \n",
    "    except:\n",
    "        return 'нет категории'\n",
    "\n",
    "# применение функции\n",
    "data['family1'] = data['family_status'].apply(categorize_family1)\n",
    "\n",
    "data.groupby('family1')['debt'].mean() # средние"
   ]
  },
  {
   "cell_type": "code",
   "execution_count": 30,
   "metadata": {},
   "outputs": [
    {
     "data": {
      "text/plain": [
       "family1\n",
       "в браке       16395\n",
       "не в браке     4936\n",
       "Name: family1, dtype: int64"
      ]
     },
     "execution_count": 30,
     "metadata": {},
     "output_type": "execute_result"
    }
   ],
   "source": [
    "data.groupby('family1')['family1'].count() # сколько респондентов считаются состоящими и не состоящими в браке, если 'гражданский брак' = 'в браке'"
   ]
  },
  {
   "cell_type": "markdown",
   "metadata": {},
   "source": [
    "Если гражданский брак отождествлять с официальным, то в среднем респонденты состоящие в браке несколько чаще возвращают кредит в срок. Однако является ли различие средних статистически значимым, уситывая разную представленность респондентов состоящих (16395) и не состоящих в браке (4936) - не ясно.  "
   ]
  },
  {
   "cell_type": "code",
   "execution_count": 31,
   "metadata": {},
   "outputs": [
    {
     "data": {
      "text/plain": [
       "family2\n",
       "в браке       0.075606\n",
       "не в браке    0.088754\n",
       "Name: debt, dtype: float64"
      ]
     },
     "execution_count": 31,
     "metadata": {},
     "output_type": "execute_result"
    }
   ],
   "source": [
    "# функция перекатегоризации2: 'гражданский брак' = 'не в браке'\n",
    "def categorize_family2(family_status):\n",
    "    try:\n",
    "        if 'Не женат' in family_status or 'в разводе' in family_status or 'вдовец' in family_status or 'гражданский' in family_status:\n",
    "            return 'не в браке'\n",
    "        else:\n",
    "            return 'в браке'\n",
    "    \n",
    "    except:\n",
    "        return 'нет категории'\n",
    "\n",
    "# применение функции\n",
    "data['family2'] = data['family_status'].apply(categorize_family2)\n",
    "\n",
    "data.groupby('family2')['debt'].mean() # средние"
   ]
  },
  {
   "cell_type": "code",
   "execution_count": 32,
   "metadata": {},
   "outputs": [
    {
     "data": {
      "text/plain": [
       "family2\n",
       "в браке       12261\n",
       "не в браке     9070\n",
       "Name: family2, dtype: int64"
      ]
     },
     "execution_count": 32,
     "metadata": {},
     "output_type": "execute_result"
    }
   ],
   "source": [
    "data.groupby('family2')['family2'].count() # сколько респондентов считаются состоящими и не состоящими в браке, если 'гражданский брак' = 'не в браке'"
   ]
  },
  {
   "cell_type": "markdown",
   "metadata": {},
   "source": [
    "Если не отождествлять гражданский брак с официальным, то в среднем респонденты состоящие в браке чаще возвращают кредит в срок (в т.ч. чаще, чем в первом случае). Однако является ли различие средних статистически значимым, уситывая разную представленность респондентов состоящих (12261) и не состоящих в браке (9070) - не ясно. (В этом случае значимости больше, т.к. представленность различается гораздо меньше, чем в предыдущем). "
   ]
  },
  {
   "cell_type": "code",
   "execution_count": 33,
   "metadata": {},
   "outputs": [
    {
     "data": {
      "text/plain": [
       "family3\n",
       "в браке                0.075606\n",
       "в гражданском браке    0.093130\n",
       "не в браке             0.085089\n",
       "Name: debt, dtype: float64"
      ]
     },
     "execution_count": 33,
     "metadata": {},
     "output_type": "execute_result"
    }
   ],
   "source": [
    "# функция перекатегоризации3: 'гражданский брак' = 'гражданский брак'\n",
    "def categorize_family3(family_status):\n",
    "    try:\n",
    "        if 'Не женат' in family_status or 'в разводе' in family_status or 'вдовец' in family_status:\n",
    "            return 'не в браке'\n",
    "        elif 'граждан' in family_status:\n",
    "            return 'в гражданском браке'\n",
    "        else:\n",
    "            return 'в браке'\n",
    "    \n",
    "    except:\n",
    "        return 'нет категории'\n",
    "\n",
    "# применение функции\n",
    "data['family3'] = data['family_status'].apply(categorize_family3)\n",
    "\n",
    "data.groupby('family3')['debt'].mean() # средние"
   ]
  },
  {
   "cell_type": "markdown",
   "metadata": {},
   "source": [
    "Если выносить гражданский брак в отдельную категорию, то в среднем респонденты состоящие в браке чаще возвращают кредит в срок.  "
   ]
  },
  {
   "cell_type": "markdown",
   "metadata": {
    "deletable": false,
    "id": "1cef7837"
   },
   "source": [
    "**Вывод: в среднем респонденты состоящие в браке чаще возвращают кредит в срок, чем респонденты не состоящие в браке. Это различие более заметно, если не отождествлять гражданский брак с официальным. Статистическая значимость различия не проверена.** "
   ]
  },
  {
   "cell_type": "markdown",
   "metadata": {
    "deletable": false,
    "editable": false,
    "id": "1e8b2fca"
   },
   "source": [
    "#### 3.3 Есть ли зависимость между уровнем дохода и возвратом кредита в срок?"
   ]
  },
  {
   "cell_type": "code",
   "execution_count": 34,
   "metadata": {
    "deletable": false,
    "id": "cd7e3720"
   },
   "outputs": [
    {
     "data": {
      "text/plain": [
       "total_income_category\n",
       "A       25\n",
       "B     5014\n",
       "C    15921\n",
       "D      349\n",
       "E       22\n",
       "Name: total_income_category, dtype: int64"
      ]
     },
     "execution_count": 34,
     "metadata": {},
     "output_type": "execute_result"
    }
   ],
   "source": [
    "data.groupby('total_income_category')['total_income_category'].count() # представленность категорий дохода в датафрейме"
   ]
  },
  {
   "cell_type": "code",
   "execution_count": 35,
   "metadata": {},
   "outputs": [
    {
     "data": {
      "text/plain": [
       "total_income_category\n",
       "A    0.080000\n",
       "B    0.070602\n",
       "C    0.084982\n",
       "D    0.060172\n",
       "E    0.090909\n",
       "Name: debt, dtype: float64"
      ]
     },
     "execution_count": 35,
     "metadata": {},
     "output_type": "execute_result"
    }
   ],
   "source": [
    "data.groupby('total_income_category')['debt'].mean() # среднее по категориям дохода"
   ]
  },
  {
   "cell_type": "markdown",
   "metadata": {
    "deletable": false,
    "id": "e8593def"
   },
   "source": [
    "**Вывод: Линейной зависимости между уровнем дохода и возвратом кредита в срок не выявлено.** "
   ]
  },
  {
   "cell_type": "markdown",
   "metadata": {
    "deletable": false,
    "editable": false,
    "id": "99ecbd1f"
   },
   "source": [
    "#### 3.4 Как разные цели кредита влияют на его возврат в срок?"
   ]
  },
  {
   "cell_type": "code",
   "execution_count": 36,
   "metadata": {
    "deletable": false,
    "id": "2b687290",
    "scrolled": true
   },
   "outputs": [
    {
     "data": {
      "text/plain": [
       "purpose_category\n",
       "операции с автомобилем       4279\n",
       "операции с недвижимостью    10751\n",
       "получение образования        3988\n",
       "проведение свадьбы           2313\n",
       "Name: purpose_category, dtype: int64"
      ]
     },
     "execution_count": 36,
     "metadata": {},
     "output_type": "execute_result"
    }
   ],
   "source": [
    "data.groupby('purpose_category')['purpose_category'].count()# "
   ]
  },
  {
   "cell_type": "code",
   "execution_count": 37,
   "metadata": {},
   "outputs": [
    {
     "data": {
      "text/plain": [
       "purpose_category\n",
       "операции с автомобилем      0.093480\n",
       "операции с недвижимостью    0.072551\n",
       "получение образования       0.092528\n",
       "проведение свадьбы          0.079118\n",
       "Name: debt, dtype: float64"
      ]
     },
     "execution_count": 37,
     "metadata": {},
     "output_type": "execute_result"
    }
   ],
   "source": [
    "data.groupby('purpose_category')['debt'].mean()# средние по группм дохода"
   ]
  },
  {
   "cell_type": "markdown",
   "metadata": {
    "deletable": false,
    "id": "b4bb2ce6"
   },
   "source": [
    "**Вывод:в среднем кредиты на проведение свадьб и операции с недвижимостью чаще возвращают в срок, чем на операции с автомобилем и получение образование. Статистическая значимость различий средних не проверена.** "
   ]
  },
  {
   "cell_type": "code",
   "execution_count": 71,
   "metadata": {
    "scrolled": true
   },
   "outputs": [
    {
     "data": {
      "text/html": [
       "<div>\n",
       "<style scoped>\n",
       "    .dataframe tbody tr th:only-of-type {\n",
       "        vertical-align: middle;\n",
       "    }\n",
       "\n",
       "    .dataframe tbody tr th {\n",
       "        vertical-align: top;\n",
       "    }\n",
       "\n",
       "    .dataframe thead th {\n",
       "        text-align: right;\n",
       "    }\n",
       "</style>\n",
       "<table border=\"1\" class=\"dataframe\">\n",
       "  <thead>\n",
       "    <tr style=\"text-align: right;\">\n",
       "      <th>total_income_category</th>\n",
       "      <th>A</th>\n",
       "      <th>B</th>\n",
       "      <th>C</th>\n",
       "      <th>D</th>\n",
       "      <th>E</th>\n",
       "    </tr>\n",
       "    <tr>\n",
       "      <th>purpose_category</th>\n",
       "      <th></th>\n",
       "      <th></th>\n",
       "      <th></th>\n",
       "      <th></th>\n",
       "      <th></th>\n",
       "    </tr>\n",
       "  </thead>\n",
       "  <tbody>\n",
       "    <tr>\n",
       "      <th>операции с автомобилем</th>\n",
       "      <td>0.000000</td>\n",
       "      <td>0.083170</td>\n",
       "      <td>0.095882</td>\n",
       "      <td>0.138889</td>\n",
       "      <td>0.000000</td>\n",
       "    </tr>\n",
       "    <tr>\n",
       "      <th>операции с недвижимостью</th>\n",
       "      <td>0.058824</td>\n",
       "      <td>0.067240</td>\n",
       "      <td>0.074903</td>\n",
       "      <td>0.035714</td>\n",
       "      <td>0.181818</td>\n",
       "    </tr>\n",
       "    <tr>\n",
       "      <th>получение образования</th>\n",
       "      <td>0.250000</td>\n",
       "      <td>0.077528</td>\n",
       "      <td>0.098540</td>\n",
       "      <td>0.026667</td>\n",
       "      <td>0.000000</td>\n",
       "    </tr>\n",
       "    <tr>\n",
       "      <th>проведение свадьбы</th>\n",
       "      <td>0.000000</td>\n",
       "      <td>0.051471</td>\n",
       "      <td>0.087912</td>\n",
       "      <td>0.088235</td>\n",
       "      <td>0.000000</td>\n",
       "    </tr>\n",
       "  </tbody>\n",
       "</table>\n",
       "</div>"
      ],
      "text/plain": [
       "total_income_category            A         B         C         D         E\n",
       "purpose_category                                                          \n",
       "операции с автомобилем    0.000000  0.083170  0.095882  0.138889  0.000000\n",
       "операции с недвижимостью  0.058824  0.067240  0.074903  0.035714  0.181818\n",
       "получение образования     0.250000  0.077528  0.098540  0.026667  0.000000\n",
       "проведение свадьбы        0.000000  0.051471  0.087912  0.088235  0.000000"
      ]
     },
     "execution_count": 71,
     "metadata": {},
     "output_type": "execute_result"
    }
   ],
   "source": [
    "data_pivot = data.pivot_table(index=['purpose_category'], columns='total_income_category', values='debt', aggfunc='mean')\n",
    "data_pivot"
   ]
  },
  {
   "cell_type": "markdown",
   "metadata": {},
   "source": [
    "Построенная выше таблица сопряженности показывает, что респонденты с доходом более 1000000 (категория А) в среднем очень часто не возвращают в срок кредиты на получение образования, а респонденты с доходом менее 30000 (категория Е) в среднем очень часто не возвращают в срок кредиты на операции с недвижимостью (ни на что кроме этого такие респонденты кредитов не берут). Примечательно, что респонденты с наибольшими и наименьшими доходами (А и Е, соответственно) не берут кредитов на операции с автомобилями, а прочие категории респондентов (B,C,D) сравнительно часто не возвращают их в срок, причему чем ниже доходы, тем чаще: B (0.083), C(0.0959), D(0.139). Похожая, хотя и менее ярко выраженная тенденция с кредитами на проведение свадеб.  "
   ]
  },
  {
   "cell_type": "code",
   "execution_count": 72,
   "metadata": {},
   "outputs": [
    {
     "data": {
      "text/html": [
       "<div>\n",
       "<style scoped>\n",
       "    .dataframe tbody tr th:only-of-type {\n",
       "        vertical-align: middle;\n",
       "    }\n",
       "\n",
       "    .dataframe tbody tr th {\n",
       "        vertical-align: top;\n",
       "    }\n",
       "\n",
       "    .dataframe thead th {\n",
       "        text-align: right;\n",
       "    }\n",
       "</style>\n",
       "<table border=\"1\" class=\"dataframe\">\n",
       "  <thead>\n",
       "    <tr style=\"text-align: right;\">\n",
       "      <th>total_income_category</th>\n",
       "      <th>A</th>\n",
       "      <th>B</th>\n",
       "      <th>C</th>\n",
       "      <th>D</th>\n",
       "      <th>E</th>\n",
       "    </tr>\n",
       "    <tr>\n",
       "      <th>purpose_category</th>\n",
       "      <th></th>\n",
       "      <th></th>\n",
       "      <th></th>\n",
       "      <th></th>\n",
       "      <th></th>\n",
       "    </tr>\n",
       "  </thead>\n",
       "  <tbody>\n",
       "    <tr>\n",
       "      <th>операции с автомобилем</th>\n",
       "      <td>2</td>\n",
       "      <td>1022</td>\n",
       "      <td>3181</td>\n",
       "      <td>72</td>\n",
       "      <td>2</td>\n",
       "    </tr>\n",
       "    <tr>\n",
       "      <th>операции с недвижимостью</th>\n",
       "      <td>17</td>\n",
       "      <td>2558</td>\n",
       "      <td>7997</td>\n",
       "      <td>168</td>\n",
       "      <td>11</td>\n",
       "    </tr>\n",
       "    <tr>\n",
       "      <th>получение образования</th>\n",
       "      <td>4</td>\n",
       "      <td>890</td>\n",
       "      <td>3014</td>\n",
       "      <td>75</td>\n",
       "      <td>5</td>\n",
       "    </tr>\n",
       "    <tr>\n",
       "      <th>проведение свадьбы</th>\n",
       "      <td>2</td>\n",
       "      <td>544</td>\n",
       "      <td>1729</td>\n",
       "      <td>34</td>\n",
       "      <td>4</td>\n",
       "    </tr>\n",
       "  </tbody>\n",
       "</table>\n",
       "</div>"
      ],
      "text/plain": [
       "total_income_category      A     B     C    D   E\n",
       "purpose_category                                 \n",
       "операции с автомобилем     2  1022  3181   72   2\n",
       "операции с недвижимостью  17  2558  7997  168  11\n",
       "получение образования      4   890  3014   75   5\n",
       "проведение свадьбы         2   544  1729   34   4"
      ]
     },
     "execution_count": 72,
     "metadata": {},
     "output_type": "execute_result"
    }
   ],
   "source": [
    "data_pivot1 = data.pivot_table(index=['purpose_category'], columns='total_income_category', values='debt', aggfunc='count')\n",
    "data_pivot1"
   ]
  },
  {
   "cell_type": "markdown",
   "metadata": {},
   "source": [
    "Как показывает подсчет значений, которыми представлены данные о средних в таблице сопряженности выше, выводы едва ли статистически значимы."
   ]
  },
  {
   "cell_type": "markdown",
   "metadata": {},
   "source": [
    "Объединим все условия второй части Практикума 2 в одной таблице сопряженности:"
   ]
  },
  {
   "cell_type": "code",
   "execution_count": 42,
   "metadata": {
    "scrolled": false
   },
   "outputs": [
    {
     "name": "stdout",
     "output_type": "stream",
     "text": [
      "total_income_category            A                                      B  \\\n",
      "family2                    в браке          не в браке            в браке   \n",
      "children_category2       бездетные с детьми  бездетные с детьми бездетные   \n",
      "purpose_category                                                            \n",
      "операции с автомобилем         NaN      1.0        NaN      1.0     388.0   \n",
      "операции с недвижимостью       6.0      5.0        3.0      3.0     999.0   \n",
      "получение образования          1.0      1.0        1.0      1.0     362.0   \n",
      "проведение свадьбы             NaN      NaN        1.0      1.0       NaN   \n",
      "\n",
      "total_income_category                                         C           \\\n",
      "family2                           не в браке            в браке            \n",
      "children_category2       с детьми  бездетные с детьми бездетные с детьми   \n",
      "purpose_category                                                           \n",
      "операции с автомобилем      286.0      264.0     84.0    1231.0    760.0   \n",
      "операции с недвижимостью    681.0      648.0    230.0    3143.0   2007.0   \n",
      "получение образования       222.0      235.0     71.0    1182.0    749.0   \n",
      "проведение свадьбы            NaN      350.0    194.0       NaN      NaN   \n",
      "\n",
      "total_income_category                                D                      \\\n",
      "family2                  не в браке            в браке          не в браке   \n",
      "children_category2        бездетные с детьми бездетные с детьми  бездетные   \n",
      "purpose_category                                                             \n",
      "операции с автомобилем        915.0    275.0      30.0     19.0       17.0   \n",
      "операции с недвижимостью     2142.0    705.0      81.0     39.0       42.0   \n",
      "получение образования         807.0    276.0      34.0     20.0       16.0   \n",
      "проведение свадьбы           1153.0    576.0       NaN      NaN       23.0   \n",
      "\n",
      "total_income_category                     E                               \n",
      "family2                             в браке          не в браке           \n",
      "children_category2       с детьми бездетные с детьми  бездетные с детьми  \n",
      "purpose_category                                                          \n",
      "операции с автомобилем        6.0       NaN      2.0        NaN      NaN  \n",
      "операции с недвижимостью      6.0       8.0      1.0        2.0      NaN  \n",
      "получение образования         5.0       3.0      NaN        1.0      1.0  \n",
      "проведение свадьбы           11.0       NaN      NaN        3.0      1.0  \n"
     ]
    }
   ],
   "source": [
    "data_pivot2 = data.pivot_table(index=['purpose_category'], columns=['total_income_category','family2','children_category2',], values='debt', aggfunc='count')\n",
    "print(data_pivot2)"
   ]
  },
  {
   "cell_type": "markdown",
   "metadata": {},
   "source": [
    "В датасете больше всего информации о кредитах респондентов со средним доходом (от 50000 до 200000 - категория С) на недвижимость. Примечательно что респонденты с таким доходом без детей в браке или не в браке берут больше кредитов на недвижимость, чем респонденты с детьми в браке или не в браке на недвижимость (с детьми и в браке сопоставимы без детей и не в браке). Количество кредитов респондентов со средним доходов с детьми и в браке на автомобиль и образование сопоставимо с количеством кредитов на те же цели у респондентов той же категории доходов, но без детей и не в браке. (\"Некоторые женятся, а некоторые так\").\n",
    "\n",
    "Безусловно радует и повышает доверие к данным то, что никто из респондентов состоящих в браке не брал кредитов на проведение свадеб.  "
   ]
  },
  {
   "cell_type": "markdown",
   "metadata": {},
   "source": [
    "Посмотрим каким респондентам и на какие цели согласно данным не стоит давать кредиты, если необходимо, чтобы они вернули их в срок."
   ]
  },
  {
   "cell_type": "code",
   "execution_count": 43,
   "metadata": {
    "scrolled": true
   },
   "outputs": [
    {
     "name": "stdout",
     "output_type": "stream",
     "text": [
      "purpose_category                                     операции с автомобилем  \\\n",
      "total_income_category family2    children_category2                           \n",
      "A                     в браке    бездетные                              NaN   \n",
      "                                 с детьми                          0.000000   \n",
      "                      не в браке бездетные                              NaN   \n",
      "                                 с детьми                          0.000000   \n",
      "B                     в браке    бездетные                         0.077320   \n",
      "                                 с детьми                          0.087413   \n",
      "                      не в браке бездетные                         0.079545   \n",
      "                                 с детьми                          0.107143   \n",
      "C                     в браке    бездетные                         0.069862   \n",
      "                                 с детьми                          0.102632   \n",
      "                      не в браке бездетные                         0.110383   \n",
      "                                 с детьми                          0.145455   \n",
      "D                     в браке    бездетные                         0.100000   \n",
      "                                 с детьми                          0.210526   \n",
      "                      не в браке бездетные                         0.117647   \n",
      "                                 с детьми                          0.166667   \n",
      "E                     в браке    бездетные                              NaN   \n",
      "                                 с детьми                          0.000000   \n",
      "                      не в браке бездетные                              NaN   \n",
      "                                 с детьми                               NaN   \n",
      "\n",
      "purpose_category                                     операции с недвижимостью  \\\n",
      "total_income_category family2    children_category2                             \n",
      "A                     в браке    бездетные                           0.000000   \n",
      "                                 с детьми                            0.200000   \n",
      "                      не в браке бездетные                           0.000000   \n",
      "                                 с детьми                            0.000000   \n",
      "B                     в браке    бездетные                           0.062062   \n",
      "                                 с детьми                            0.066079   \n",
      "                      не в браке бездетные                           0.064815   \n",
      "                                 с детьми                            0.100000   \n",
      "C                     в браке    бездетные                           0.067451   \n",
      "                                 с детьми                            0.079721   \n",
      "                      не в браке бездетные                           0.071895   \n",
      "                                 с детьми                            0.103546   \n",
      "D                     в браке    бездетные                           0.037037   \n",
      "                                 с детьми                            0.025641   \n",
      "                      не в браке бездетные                           0.023810   \n",
      "                                 с детьми                            0.166667   \n",
      "E                     в браке    бездетные                           0.250000   \n",
      "                                 с детьми                            0.000000   \n",
      "                      не в браке бездетные                           0.000000   \n",
      "                                 с детьми                                 NaN   \n",
      "\n",
      "purpose_category                                     получение образования  \\\n",
      "total_income_category family2    children_category2                          \n",
      "A                     в браке    бездетные                        0.000000   \n",
      "                                 с детьми                         0.000000   \n",
      "                      не в браке бездетные                        1.000000   \n",
      "                                 с детьми                         0.000000   \n",
      "B                     в браке    бездетные                        0.055249   \n",
      "                                 с детьми                         0.085586   \n",
      "                      не в браке бездетные                        0.097872   \n",
      "                                 с детьми                         0.098592   \n",
      "C                     в браке    бездетные                        0.082064   \n",
      "                                 с детьми                         0.104139   \n",
      "                      не в браке бездетные                        0.106568   \n",
      "                                 с детьми                         0.130435   \n",
      "D                     в браке    бездетные                        0.029412   \n",
      "                                 с детьми                         0.000000   \n",
      "                      не в браке бездетные                        0.062500   \n",
      "                                 с детьми                         0.000000   \n",
      "E                     в браке    бездетные                        0.000000   \n",
      "                                 с детьми                              NaN   \n",
      "                      не в браке бездетные                        0.000000   \n",
      "                                 с детьми                         0.000000   \n",
      "\n",
      "purpose_category                                     проведение свадьбы  \n",
      "total_income_category family2    children_category2                      \n",
      "A                     в браке    бездетные                          NaN  \n",
      "                                 с детьми                           NaN  \n",
      "                      не в браке бездетные                     0.000000  \n",
      "                                 с детьми                      0.000000  \n",
      "B                     в браке    бездетные                          NaN  \n",
      "                                 с детьми                           NaN  \n",
      "                      не в браке бездетные                     0.062857  \n",
      "                                 с детьми                      0.030928  \n",
      "C                     в браке    бездетные                          NaN  \n",
      "                                 с детьми                           NaN  \n",
      "                      не в браке бездетные                     0.079792  \n",
      "                                 с детьми                      0.104167  \n",
      "D                     в браке    бездетные                          NaN  \n",
      "                                 с детьми                           NaN  \n",
      "                      не в браке бездетные                     0.043478  \n",
      "                                 с детьми                      0.181818  \n",
      "E                     в браке    бездетные                          NaN  \n",
      "                                 с детьми                           NaN  \n",
      "                      не в браке бездетные                     0.000000  \n",
      "                                 с детьми                      0.000000  \n"
     ]
    }
   ],
   "source": [
    "data_pivot3 = data.pivot_table(index=['total_income_category','family2','children_category2'], columns=['purpose_category'], values='debt', aggfunc='mean')\n",
    "print(data_pivot3)"
   ]
  },
  {
   "cell_type": "markdown",
   "metadata": {},
   "source": [
    "Вовремя кредит на операции с автомобилем в среднем чаще не вернут респонденты категории дохода D c с детьми, состоящие в браке или нет.\n",
    "Вовремя кредит на операции с недвижимостью в среднем чаще не вернут респонденты респонденты категории дохода E бездетные в браке, категории А с детьми и в браке, категории В с детьми и не в браке, категории В с детьми и не в браке.\n",
    "Вовремя кредит на образование в среднем чаще не вернут респонденты респонденты категории дохода А бездетные и не состоящие в браке (всего один респ. поэтому в 100% не вернут=)), категории дохода С с детьми и не в браке.\n",
    "Вовремя кредит на проведение свадьбы в среднем чаще не вернут респонденты категории дохода С и D с детьми и не в браке.\n"
   ]
  },
  {
   "cell_type": "code",
   "execution_count": 70,
   "metadata": {},
   "outputs": [
    {
     "data": {
      "text/plain": [
       "<AxesSubplot:xlabel='purpose_category', ylabel='total_income_category-family2-children_category2'>"
      ]
     },
     "execution_count": 70,
     "metadata": {},
     "output_type": "execute_result"
    },
    {
     "data": {
      "image/png": "[encoded data removed]",
      "text/plain": [
       "<Figure size 432x288 with 2 Axes>"
      ]
     },
     "metadata": {
      "needs_background": "light"
     },
     "output_type": "display_data"
    }
   ],
   "source": [
    "import seaborn as sns\n",
    "sns.heatmap(data_pivot3)"
   ]
  },
  {
   "cell_type": "markdown",
   "metadata": {
    "deletable": false,
    "editable": false,
    "id": "09c3ac4c"
   },
   "source": [
    "#### 3.5 Приведите возможные причины появления пропусков в исходных данных."
   ]
  },
  {
   "cell_type": "code",
   "execution_count": 37,
   "metadata": {
    "scrolled": true
   },
   "outputs": [
    {
     "data": {
      "text/plain": [
       "income_type\n",
       "безработный            2\n",
       "в декрете              1\n",
       "госслужащий         1451\n",
       "компаньон           5047\n",
       "пенсионер           3812\n",
       "предприниматель        2\n",
       "сотрудник          11015\n",
       "студент                1\n",
       "Name: income_type, dtype: int64"
      ]
     },
     "execution_count": 37,
     "metadata": {},
     "output_type": "execute_result"
    }
   ],
   "source": [
    "data.groupby('income_type')['income_type'].count() # сколькими респондентами в датафрейме представлены разные категории источников доходов"
   ]
  },
  {
   "cell_type": "markdown",
   "metadata": {
    "deletable": false,
    "id": "9da2ceda"
   },
   "source": [
    "*Пропуски есть в переменных/столбцах days_employed и total_income. Известно также, что датафрейме есть безработные (2), пенсионеры (3812), студент (1), в декрете (1). Возможно, они не указывали свой ежемесячные доход (в total_income 2174 пропущенных значения), считая, что у них нет трудовых доходов. Примечательно, что количество пропуском в days_employed и total_income - совпадают, возможно, те, кто не указывали общий трудовой стаж не указывали и total_income (например в строке 12).* \n",
    "\n",
    "*Респонденты участвующие в социологических опросах склонны скрвать свои доходы. Иногда для их определения используют косвенные шкалы эквивалентности: \"не хватает на еду и одежду\", \"хватает на еду и одежду, но не на покупку бытовой техники\", \"хватает на покупку бытовой техники, но не более крупные покупки\" и т.д. (A, B, C, C+, CC+).* \n",
    "Часть респондентов может не знать своего общего трудового стажа в днях (с точностью до дня), возможно примерный в годах. Это могут объясняться пропуски в days_employed. \n",
    "\n",
    "*Однако, судя по всему, источником данных датафрейма data являются не опросные данные, а данные, запрашиваетмы банками у ПФР и ФНС.* "
   ]
  },
  {
   "cell_type": "markdown",
   "metadata": {
    "deletable": false,
    "editable": false,
    "id": "7b0487d6"
   },
   "source": [
    "#### 3.6 Объясните, почему заполнить пропуски медианным значением — лучшее решение для количественных переменных."
   ]
  },
  {
   "cell_type": "markdown",
   "metadata": {
    "deletable": false,
    "id": "7ecf2b8e"
   },
   "source": [
    "*Для количественных переменных пропуски в данных лучше заполнять медианными значениями, чтобы исключить влияние отдельных выбросов - одиночных или малочисленных очень больших или очень малых значений по сравнению со средним.*\n",
    "\n",
    "*Например, в компании работают 10 сотрудников. Зарплата одного 1000000, а остальных 9 - по 20000. Средняя зарплата в фирме 118000, а медианная - 20000. Очевидно, что вторая метрика точнее отражает доход среднестатистического сотрудника компании. Соответственно, если в данных о компании у одного из сотрудников пропущены данные о доходе, замена их медианным, а не средним будет меньше искажать картину и меньше скажется на рассчитываемых далее статистиках.*"
   ]
  },
  {
   "cell_type": "markdown",
   "metadata": {
    "deletable": false,
    "editable": false,
    "id": "6db5255a"
   },
   "source": [
    "### Шаг 4: общий вывод."
   ]
  },
  {
   "cell_type": "markdown",
   "metadata": {
    "deletable": false,
    "id": "bad65432"
   },
   "source": [
    "**В среднем бездетные респонденты чаще возвращают кредиты в срок, чем респонденты с детьми. Линейной зависимости между количеством детей и возвратом кредита в срок не выявлено.**\n",
    "\n",
    "**В среднем респонденты состоящие в браке чаще возвращают кредиты в срок, чем респонденты не состоящие в браке. Это различие более заметно, если не отождествлять гражданский брак с официальным.**\n",
    "\n",
    "**Линейной зависимости между уровнем дохода и возвратом кредитов в срок не выявлено.**\n",
    "\n",
    "**В среднем кредиты на проведение свадьб и операции с недвижимостью чаще возвращают в срок, чем на операции с автомобилем и получение образование.**\n",
    "\n",
    "**Статистическая значимость различий всех из указанных выше средних не проверена.**\n",
    "\n"
   ]
  },
  {
   "cell_type": "markdown",
   "metadata": {},
   "source": [
    "<div class=\"alert alert-success\">\n",
    "<font size=\"5\"><b>Комментарий ревьюера</b></font>\n",
    "\n",
    "Успех: Выводы описаны грамотно. Приведены ответы на главные вопросы проекта. В выводах можно приводить полученные ранее значения. Также можно расписать все, что было сделано в ходе проведения работы. \n",
    "\n",
    "</div>"
   ]
  },
  {
   "cell_type": "markdown",
   "metadata": {},
   "source": [
    "<div class=\"alert alert-info\">\n",
    "<font size=\"5\"><b>Комментарий ревьюера</b></font>\n",
    "\n",
    "Ты проделал большую работу, молодец! Ты овладел важными на данном этапе обучения инструментами, а также довольно качественно их используешь. Критических замечаний немного. Мне важно убедиться в том, что метод сводных таблиц тобой освоен. Жду твою работу :)\n",
    "\n",
    "</div>"
   ]
  }
 ],
 "metadata": {
  "ExecuteTimeLog": [
   {
    "duration": 435,
    "start_time": "2022-10-11T20:15:18.707Z"
   },
   {
    "duration": 20,
    "start_time": "2022-10-11T20:15:19.144Z"
   },
   {
    "duration": 13,
    "start_time": "2022-10-11T20:15:19.166Z"
   },
   {
    "duration": 17,
    "start_time": "2022-10-11T20:15:19.181Z"
   },
   {
    "duration": 30,
    "start_time": "2022-10-11T20:15:19.200Z"
   },
   {
    "duration": 3,
    "start_time": "2022-10-11T20:15:19.231Z"
   },
   {
    "duration": 8,
    "start_time": "2022-10-11T20:15:19.236Z"
   },
   {
    "duration": 4,
    "start_time": "2022-10-11T20:15:19.246Z"
   },
   {
    "duration": 8,
    "start_time": "2022-10-11T20:15:19.251Z"
   },
   {
    "duration": 4,
    "start_time": "2022-10-11T20:15:19.260Z"
   },
   {
    "duration": 57,
    "start_time": "2022-10-11T20:15:19.265Z"
   },
   {
    "duration": 8,
    "start_time": "2022-10-11T20:15:19.324Z"
   },
   {
    "duration": 5,
    "start_time": "2022-10-11T20:15:19.334Z"
   },
   {
    "duration": 10,
    "start_time": "2022-10-11T20:15:19.341Z"
   },
   {
    "duration": 18,
    "start_time": "2022-10-11T20:15:19.353Z"
   },
   {
    "duration": 17,
    "start_time": "2022-10-11T20:15:19.395Z"
   },
   {
    "duration": 4,
    "start_time": "2022-10-11T20:15:19.413Z"
   },
   {
    "duration": 12,
    "start_time": "2022-10-11T20:15:19.418Z"
   },
   {
    "duration": 6,
    "start_time": "2022-10-11T20:15:19.432Z"
   },
   {
    "duration": 4,
    "start_time": "2022-10-11T20:15:19.439Z"
   },
   {
    "duration": 10,
    "start_time": "2022-10-11T20:15:19.445Z"
   },
   {
    "duration": 2,
    "start_time": "2022-10-11T20:15:19.457Z"
   },
   {
    "duration": 34,
    "start_time": "2022-10-11T20:15:19.461Z"
   },
   {
    "duration": 5,
    "start_time": "2022-10-11T20:15:19.497Z"
   },
   {
    "duration": 3,
    "start_time": "2022-10-11T20:15:19.504Z"
   },
   {
    "duration": 8,
    "start_time": "2022-10-11T20:17:05.773Z"
   },
   {
    "duration": 967,
    "start_time": "2022-10-11T20:35:44.215Z"
   },
   {
    "duration": 369,
    "start_time": "2022-10-11T20:37:16.727Z"
   },
   {
    "duration": 393,
    "start_time": "2022-10-11T20:38:33.258Z"
   },
   {
    "duration": 28,
    "start_time": "2022-10-12T17:18:23.568Z"
   },
   {
    "duration": 48,
    "start_time": "2022-10-12T17:18:23.598Z"
   },
   {
    "duration": 14,
    "start_time": "2022-10-12T17:18:25.154Z"
   },
   {
    "duration": 14,
    "start_time": "2022-10-12T17:18:25.620Z"
   },
   {
    "duration": 17,
    "start_time": "2022-10-12T17:18:29.989Z"
   },
   {
    "duration": 10,
    "start_time": "2022-10-12T17:18:34.258Z"
   },
   {
    "duration": 32,
    "start_time": "2022-10-12T17:18:40.709Z"
   },
   {
    "duration": 3,
    "start_time": "2022-10-12T17:18:46.493Z"
   },
   {
    "duration": 8,
    "start_time": "2022-10-12T17:18:51.480Z"
   },
   {
    "duration": 4,
    "start_time": "2022-10-12T17:18:54.943Z"
   },
   {
    "duration": 7,
    "start_time": "2022-10-12T17:19:03.042Z"
   },
   {
    "duration": 5,
    "start_time": "2022-10-12T17:19:06.941Z"
   },
   {
    "duration": 31,
    "start_time": "2022-10-12T17:19:10.952Z"
   },
   {
    "duration": 32,
    "start_time": "2022-10-12T17:19:31.910Z"
   },
   {
    "duration": 10,
    "start_time": "2022-10-12T17:19:34.440Z"
   },
   {
    "duration": 3,
    "start_time": "2022-10-12T17:19:38.089Z"
   },
   {
    "duration": 11,
    "start_time": "2022-10-12T17:19:42.409Z"
   },
   {
    "duration": 20,
    "start_time": "2022-10-12T17:19:45.529Z"
   },
   {
    "duration": 17,
    "start_time": "2022-10-12T17:19:47.731Z"
   },
   {
    "duration": 4,
    "start_time": "2022-10-12T17:19:52.017Z"
   },
   {
    "duration": 7,
    "start_time": "2022-10-12T17:20:08.562Z"
   },
   {
    "duration": 3,
    "start_time": "2022-10-12T17:20:14.397Z"
   },
   {
    "duration": 9,
    "start_time": "2022-10-12T17:20:17.723Z"
   },
   {
    "duration": 546,
    "start_time": "2022-10-13T06:11:06.888Z"
   },
   {
    "duration": 26,
    "start_time": "2022-10-13T06:11:08.304Z"
   },
   {
    "duration": 27,
    "start_time": "2022-10-13T06:11:08.333Z"
   },
   {
    "duration": 14,
    "start_time": "2022-10-13T06:11:08.362Z"
   },
   {
    "duration": 63,
    "start_time": "2022-10-13T06:11:08.378Z"
   },
   {
    "duration": 8,
    "start_time": "2022-10-13T06:11:08.443Z"
   },
   {
    "duration": 35,
    "start_time": "2022-10-13T06:11:08.453Z"
   },
   {
    "duration": 5,
    "start_time": "2022-10-13T06:11:08.491Z"
   },
   {
    "duration": 14,
    "start_time": "2022-10-13T06:11:08.498Z"
   },
   {
    "duration": 21,
    "start_time": "2022-10-13T06:11:08.514Z"
   },
   {
    "duration": 51,
    "start_time": "2022-10-13T06:11:08.537Z"
   },
   {
    "duration": 17,
    "start_time": "2022-10-13T06:11:08.592Z"
   },
   {
    "duration": 7,
    "start_time": "2022-10-13T06:11:08.611Z"
   },
   {
    "duration": 34,
    "start_time": "2022-10-13T06:11:08.620Z"
   },
   {
    "duration": 32,
    "start_time": "2022-10-13T06:11:08.658Z"
   },
   {
    "duration": 36,
    "start_time": "2022-10-13T06:11:08.692Z"
   },
   {
    "duration": 5,
    "start_time": "2022-10-13T06:11:08.731Z"
   },
   {
    "duration": 22,
    "start_time": "2022-10-13T06:11:08.755Z"
   },
   {
    "duration": 8,
    "start_time": "2022-10-13T06:11:08.780Z"
   },
   {
    "duration": 13,
    "start_time": "2022-10-13T06:11:08.790Z"
   },
   {
    "duration": 22,
    "start_time": "2022-10-13T06:11:08.805Z"
   },
   {
    "duration": 21,
    "start_time": "2022-10-13T06:11:08.829Z"
   },
   {
    "duration": 16,
    "start_time": "2022-10-13T06:12:08.458Z"
   },
   {
    "duration": 15,
    "start_time": "2022-10-13T06:13:43.646Z"
   },
   {
    "duration": 198,
    "start_time": "2022-10-13T06:22:25.302Z"
   },
   {
    "duration": 77,
    "start_time": "2022-10-13T06:22:33.949Z"
   },
   {
    "duration": 1365,
    "start_time": "2022-10-13T06:23:50.579Z"
   },
   {
    "duration": 21,
    "start_time": "2022-10-13T06:24:37.832Z"
   },
   {
    "duration": 10,
    "start_time": "2022-10-13T06:25:56.785Z"
   },
   {
    "duration": 9,
    "start_time": "2022-10-13T06:26:23.576Z"
   },
   {
    "duration": 10,
    "start_time": "2022-10-13T06:26:31.207Z"
   },
   {
    "duration": 10,
    "start_time": "2022-10-13T06:29:49.280Z"
   },
   {
    "duration": 7,
    "start_time": "2022-10-13T06:32:12.774Z"
   },
   {
    "duration": 77,
    "start_time": "2022-10-13T06:32:58.877Z"
   },
   {
    "duration": 12,
    "start_time": "2022-10-13T06:33:09.935Z"
   },
   {
    "duration": 264,
    "start_time": "2022-10-13T06:33:18.164Z"
   },
   {
    "duration": 25,
    "start_time": "2022-10-13T06:34:02.622Z"
   },
   {
    "duration": 8,
    "start_time": "2022-10-13T06:35:26.416Z"
   },
   {
    "duration": 15,
    "start_time": "2022-10-13T06:48:38.118Z"
   },
   {
    "duration": 8,
    "start_time": "2022-10-13T06:57:37.490Z"
   },
   {
    "duration": 0,
    "start_time": "2022-10-13T07:07:09.620Z"
   },
   {
    "duration": 10,
    "start_time": "2022-10-13T07:07:43.455Z"
   },
   {
    "duration": 135,
    "start_time": "2022-10-13T07:14:24.322Z"
   },
   {
    "duration": 15,
    "start_time": "2022-10-13T07:25:06.796Z"
   },
   {
    "duration": 31,
    "start_time": "2022-10-13T07:32:41.048Z"
   },
   {
    "duration": 7,
    "start_time": "2022-10-13T07:50:15.498Z"
   },
   {
    "duration": 14,
    "start_time": "2022-10-13T07:51:15.001Z"
   },
   {
    "duration": 12,
    "start_time": "2022-10-13T07:53:08.721Z"
   },
   {
    "duration": 17,
    "start_time": "2022-10-13T07:53:22.989Z"
   },
   {
    "duration": 22,
    "start_time": "2022-10-13T07:56:58.917Z"
   },
   {
    "duration": 11,
    "start_time": "2022-10-13T07:59:17.223Z"
   },
   {
    "duration": 23,
    "start_time": "2022-10-13T08:18:26.342Z"
   },
   {
    "duration": 26,
    "start_time": "2022-10-13T08:21:56.075Z"
   },
   {
    "duration": 11,
    "start_time": "2022-10-13T08:28:24.843Z"
   },
   {
    "duration": 8,
    "start_time": "2022-10-13T08:28:37.004Z"
   },
   {
    "duration": 11,
    "start_time": "2022-10-13T08:36:10.824Z"
   },
   {
    "duration": 17,
    "start_time": "2022-10-13T08:51:39.159Z"
   },
   {
    "duration": 16,
    "start_time": "2022-10-13T08:52:24.381Z"
   },
   {
    "duration": 6,
    "start_time": "2022-10-13T09:07:13.482Z"
   },
   {
    "duration": 9,
    "start_time": "2022-10-13T09:07:49.016Z"
   },
   {
    "duration": 9,
    "start_time": "2022-10-13T09:09:16.113Z"
   },
   {
    "duration": 11,
    "start_time": "2022-10-13T09:15:49.302Z"
   },
   {
    "duration": 91,
    "start_time": "2022-10-13T09:16:11.570Z"
   },
   {
    "duration": 23,
    "start_time": "2022-10-13T09:16:14.583Z"
   },
   {
    "duration": 26,
    "start_time": "2022-10-13T09:16:14.608Z"
   },
   {
    "duration": 14,
    "start_time": "2022-10-13T09:16:14.636Z"
   },
   {
    "duration": 45,
    "start_time": "2022-10-13T09:16:14.652Z"
   },
   {
    "duration": 4,
    "start_time": "2022-10-13T09:16:14.699Z"
   },
   {
    "duration": 12,
    "start_time": "2022-10-13T09:16:14.704Z"
   },
   {
    "duration": 5,
    "start_time": "2022-10-13T09:16:14.717Z"
   },
   {
    "duration": 9,
    "start_time": "2022-10-13T09:16:14.724Z"
   },
   {
    "duration": 19,
    "start_time": "2022-10-13T09:16:14.736Z"
   },
   {
    "duration": 47,
    "start_time": "2022-10-13T09:16:14.757Z"
   },
   {
    "duration": 10,
    "start_time": "2022-10-13T09:16:14.806Z"
   },
   {
    "duration": 5,
    "start_time": "2022-10-13T09:16:14.818Z"
   },
   {
    "duration": 44,
    "start_time": "2022-10-13T09:16:14.825Z"
   },
   {
    "duration": 24,
    "start_time": "2022-10-13T09:16:14.873Z"
   },
   {
    "duration": 18,
    "start_time": "2022-10-13T09:16:14.898Z"
   },
   {
    "duration": 4,
    "start_time": "2022-10-13T09:16:14.918Z"
   },
   {
    "duration": 31,
    "start_time": "2022-10-13T09:16:14.923Z"
   },
   {
    "duration": 6,
    "start_time": "2022-10-13T09:16:14.956Z"
   },
   {
    "duration": 8,
    "start_time": "2022-10-13T09:16:14.963Z"
   },
   {
    "duration": 13,
    "start_time": "2022-10-13T09:16:14.973Z"
   },
   {
    "duration": 13,
    "start_time": "2022-10-13T09:16:14.988Z"
   },
   {
    "duration": 6,
    "start_time": "2022-10-13T09:16:15.003Z"
   },
   {
    "duration": 82,
    "start_time": "2022-10-13T09:16:15.010Z"
   },
   {
    "duration": 0,
    "start_time": "2022-10-13T09:16:15.093Z"
   },
   {
    "duration": 0,
    "start_time": "2022-10-13T09:16:15.095Z"
   },
   {
    "duration": 0,
    "start_time": "2022-10-13T09:16:15.097Z"
   },
   {
    "duration": 0,
    "start_time": "2022-10-13T09:16:15.098Z"
   },
   {
    "duration": 0,
    "start_time": "2022-10-13T09:16:15.099Z"
   },
   {
    "duration": 0,
    "start_time": "2022-10-13T09:16:15.101Z"
   },
   {
    "duration": 0,
    "start_time": "2022-10-13T09:16:15.102Z"
   },
   {
    "duration": 0,
    "start_time": "2022-10-13T09:16:15.103Z"
   },
   {
    "duration": 0,
    "start_time": "2022-10-13T09:16:15.104Z"
   },
   {
    "duration": 0,
    "start_time": "2022-10-13T09:16:15.105Z"
   },
   {
    "duration": 0,
    "start_time": "2022-10-13T09:16:15.107Z"
   },
   {
    "duration": 10,
    "start_time": "2022-10-13T09:17:38.090Z"
   },
   {
    "duration": 9,
    "start_time": "2022-10-13T09:32:21.791Z"
   },
   {
    "duration": 14,
    "start_time": "2022-10-13T09:36:41.241Z"
   },
   {
    "duration": 16,
    "start_time": "2022-10-13T09:39:16.338Z"
   },
   {
    "duration": 8,
    "start_time": "2022-10-13T09:42:35.106Z"
   },
   {
    "duration": 8,
    "start_time": "2022-10-13T09:42:40.458Z"
   },
   {
    "duration": 48,
    "start_time": "2022-10-14T14:50:36.035Z"
   },
   {
    "duration": 763,
    "start_time": "2022-10-14T14:50:58.293Z"
   },
   {
    "duration": 23,
    "start_time": "2022-10-14T14:50:59.058Z"
   },
   {
    "duration": 17,
    "start_time": "2022-10-14T14:50:59.082Z"
   },
   {
    "duration": 9,
    "start_time": "2022-10-14T14:50:59.101Z"
   },
   {
    "duration": 35,
    "start_time": "2022-10-14T14:50:59.112Z"
   },
   {
    "duration": 3,
    "start_time": "2022-10-14T14:50:59.149Z"
   },
   {
    "duration": 13,
    "start_time": "2022-10-14T14:50:59.154Z"
   },
   {
    "duration": 4,
    "start_time": "2022-10-14T14:50:59.169Z"
   },
   {
    "duration": 8,
    "start_time": "2022-10-14T14:50:59.197Z"
   },
   {
    "duration": 5,
    "start_time": "2022-10-14T14:50:59.208Z"
   },
   {
    "duration": 38,
    "start_time": "2022-10-14T14:50:59.215Z"
   },
   {
    "duration": 10,
    "start_time": "2022-10-14T14:50:59.254Z"
   },
   {
    "duration": 4,
    "start_time": "2022-10-14T14:50:59.265Z"
   },
   {
    "duration": 11,
    "start_time": "2022-10-14T14:50:59.297Z"
   },
   {
    "duration": 21,
    "start_time": "2022-10-14T14:50:59.310Z"
   },
   {
    "duration": 17,
    "start_time": "2022-10-14T14:50:59.333Z"
   },
   {
    "duration": 3,
    "start_time": "2022-10-14T14:50:59.352Z"
   },
   {
    "duration": 12,
    "start_time": "2022-10-14T14:50:59.357Z"
   },
   {
    "duration": 30,
    "start_time": "2022-10-14T14:50:59.371Z"
   },
   {
    "duration": 4,
    "start_time": "2022-10-14T14:50:59.403Z"
   },
   {
    "duration": 16,
    "start_time": "2022-10-14T14:50:59.409Z"
   },
   {
    "duration": 15,
    "start_time": "2022-10-14T14:50:59.428Z"
   },
   {
    "duration": 6,
    "start_time": "2022-10-14T14:50:59.445Z"
   },
   {
    "duration": 77,
    "start_time": "2022-10-14T14:50:59.452Z"
   },
   {
    "duration": 0,
    "start_time": "2022-10-14T14:50:59.531Z"
   },
   {
    "duration": 0,
    "start_time": "2022-10-14T14:50:59.532Z"
   },
   {
    "duration": 0,
    "start_time": "2022-10-14T14:50:59.533Z"
   },
   {
    "duration": 0,
    "start_time": "2022-10-14T14:50:59.534Z"
   },
   {
    "duration": 0,
    "start_time": "2022-10-14T14:50:59.536Z"
   },
   {
    "duration": 0,
    "start_time": "2022-10-14T14:50:59.537Z"
   },
   {
    "duration": 0,
    "start_time": "2022-10-14T14:50:59.538Z"
   },
   {
    "duration": 0,
    "start_time": "2022-10-14T14:50:59.539Z"
   },
   {
    "duration": 0,
    "start_time": "2022-10-14T14:50:59.540Z"
   },
   {
    "duration": 0,
    "start_time": "2022-10-14T14:50:59.541Z"
   },
   {
    "duration": 0,
    "start_time": "2022-10-14T14:50:59.542Z"
   },
   {
    "duration": 0,
    "start_time": "2022-10-14T14:50:59.543Z"
   },
   {
    "duration": 0,
    "start_time": "2022-10-14T14:50:59.544Z"
   },
   {
    "duration": 74,
    "start_time": "2022-10-14T14:51:15.268Z"
   },
   {
    "duration": 15,
    "start_time": "2022-10-14T14:51:17.517Z"
   },
   {
    "duration": 16,
    "start_time": "2022-10-14T14:51:21.102Z"
   },
   {
    "duration": 12,
    "start_time": "2022-10-14T14:51:24.517Z"
   },
   {
    "duration": 35,
    "start_time": "2022-10-14T14:51:27.495Z"
   },
   {
    "duration": 3,
    "start_time": "2022-10-14T14:51:33.106Z"
   },
   {
    "duration": 8,
    "start_time": "2022-10-14T14:51:39.845Z"
   },
   {
    "duration": 4,
    "start_time": "2022-10-14T14:51:43.740Z"
   },
   {
    "duration": 6,
    "start_time": "2022-10-14T14:51:45.688Z"
   },
   {
    "duration": 5,
    "start_time": "2022-10-14T14:51:47.980Z"
   },
   {
    "duration": 34,
    "start_time": "2022-10-14T14:51:50.403Z"
   },
   {
    "duration": 16,
    "start_time": "2022-10-14T14:51:52.628Z"
   },
   {
    "duration": 5,
    "start_time": "2022-10-14T14:51:55.171Z"
   },
   {
    "duration": 11,
    "start_time": "2022-10-14T14:51:57.988Z"
   },
   {
    "duration": 21,
    "start_time": "2022-10-14T14:52:00.227Z"
   },
   {
    "duration": 19,
    "start_time": "2022-10-14T14:52:01.867Z"
   },
   {
    "duration": 3,
    "start_time": "2022-10-14T14:52:05.011Z"
   },
   {
    "duration": 11,
    "start_time": "2022-10-14T14:52:07.083Z"
   },
   {
    "duration": 8,
    "start_time": "2022-10-14T14:52:08.595Z"
   },
   {
    "duration": 5,
    "start_time": "2022-10-14T14:52:11.762Z"
   },
   {
    "duration": 9,
    "start_time": "2022-10-14T14:52:13.852Z"
   },
   {
    "duration": 11,
    "start_time": "2022-10-14T14:52:16.331Z"
   },
   {
    "duration": 6,
    "start_time": "2022-10-14T14:52:19.244Z"
   },
   {
    "duration": 7,
    "start_time": "2022-10-14T14:52:40.557Z"
   },
   {
    "duration": 14,
    "start_time": "2022-10-14T14:52:46.854Z"
   },
   {
    "duration": 14,
    "start_time": "2022-10-14T14:52:52.773Z"
   },
   {
    "duration": 14,
    "start_time": "2022-10-14T14:52:55.942Z"
   },
   {
    "duration": 15,
    "start_time": "2022-10-14T14:53:01.296Z"
   },
   {
    "duration": 8,
    "start_time": "2022-10-14T14:53:04.006Z"
   },
   {
    "duration": 17,
    "start_time": "2022-10-14T14:53:10.511Z"
   },
   {
    "duration": 8,
    "start_time": "2022-10-14T14:53:13.225Z"
   },
   {
    "duration": 15,
    "start_time": "2022-10-14T14:53:19.687Z"
   },
   {
    "duration": 8,
    "start_time": "2022-10-14T14:53:27.275Z"
   },
   {
    "duration": 8,
    "start_time": "2022-10-14T14:53:30.533Z"
   },
   {
    "duration": 9,
    "start_time": "2022-10-14T14:53:41.382Z"
   },
   {
    "duration": 9,
    "start_time": "2022-10-14T14:53:44.788Z"
   },
   {
    "duration": 8,
    "start_time": "2022-10-14T14:53:49.414Z"
   },
   {
    "duration": 693,
    "start_time": "2022-10-14T16:05:14.493Z"
   },
   {
    "duration": 21,
    "start_time": "2022-10-14T16:05:15.188Z"
   },
   {
    "duration": 13,
    "start_time": "2022-10-14T16:05:15.211Z"
   },
   {
    "duration": 10,
    "start_time": "2022-10-14T16:05:15.226Z"
   },
   {
    "duration": 37,
    "start_time": "2022-10-14T16:05:15.238Z"
   },
   {
    "duration": 6,
    "start_time": "2022-10-14T16:05:15.276Z"
   },
   {
    "duration": 18,
    "start_time": "2022-10-14T16:05:15.283Z"
   },
   {
    "duration": 6,
    "start_time": "2022-10-14T16:05:15.302Z"
   },
   {
    "duration": 23,
    "start_time": "2022-10-14T16:05:15.309Z"
   },
   {
    "duration": 5,
    "start_time": "2022-10-14T16:05:15.335Z"
   },
   {
    "duration": 36,
    "start_time": "2022-10-14T16:05:15.341Z"
   },
   {
    "duration": 11,
    "start_time": "2022-10-14T16:05:15.379Z"
   },
   {
    "duration": 19,
    "start_time": "2022-10-14T16:05:15.393Z"
   },
   {
    "duration": 11,
    "start_time": "2022-10-14T16:05:15.421Z"
   },
   {
    "duration": 32,
    "start_time": "2022-10-14T16:05:15.433Z"
   },
   {
    "duration": 16,
    "start_time": "2022-10-14T16:05:15.466Z"
   },
   {
    "duration": 4,
    "start_time": "2022-10-14T16:05:15.483Z"
   },
   {
    "duration": 18,
    "start_time": "2022-10-14T16:05:15.488Z"
   },
   {
    "duration": 16,
    "start_time": "2022-10-14T16:05:15.507Z"
   },
   {
    "duration": 5,
    "start_time": "2022-10-14T16:05:15.525Z"
   },
   {
    "duration": 14,
    "start_time": "2022-10-14T16:05:15.531Z"
   },
   {
    "duration": 14,
    "start_time": "2022-10-14T16:05:15.546Z"
   },
   {
    "duration": 4,
    "start_time": "2022-10-14T16:05:15.562Z"
   },
   {
    "duration": 7,
    "start_time": "2022-10-14T16:05:15.568Z"
   },
   {
    "duration": 12,
    "start_time": "2022-10-14T16:05:15.576Z"
   },
   {
    "duration": 44,
    "start_time": "2022-10-14T16:05:15.589Z"
   },
   {
    "duration": 15,
    "start_time": "2022-10-14T16:05:15.635Z"
   },
   {
    "duration": 19,
    "start_time": "2022-10-14T16:05:15.654Z"
   },
   {
    "duration": 9,
    "start_time": "2022-10-14T16:05:15.674Z"
   },
   {
    "duration": 43,
    "start_time": "2022-10-14T16:05:15.685Z"
   },
   {
    "duration": 14,
    "start_time": "2022-10-14T16:05:15.729Z"
   },
   {
    "duration": 29,
    "start_time": "2022-10-14T16:05:15.744Z"
   },
   {
    "duration": 9,
    "start_time": "2022-10-14T16:05:15.775Z"
   },
   {
    "duration": 16,
    "start_time": "2022-10-14T16:05:15.786Z"
   },
   {
    "duration": 22,
    "start_time": "2022-10-14T16:05:15.804Z"
   },
   {
    "duration": 11,
    "start_time": "2022-10-14T16:05:15.828Z"
   },
   {
    "duration": 15,
    "start_time": "2022-10-14T16:05:15.841Z"
   },
   {
    "duration": 46,
    "start_time": "2022-10-17T12:44:40.298Z"
   },
   {
    "duration": 442,
    "start_time": "2022-10-17T12:45:15.956Z"
   },
   {
    "duration": 19,
    "start_time": "2022-10-17T12:45:16.400Z"
   },
   {
    "duration": 12,
    "start_time": "2022-10-17T12:45:16.421Z"
   },
   {
    "duration": 7,
    "start_time": "2022-10-17T12:45:16.435Z"
   },
   {
    "duration": 30,
    "start_time": "2022-10-17T12:45:16.444Z"
   },
   {
    "duration": 3,
    "start_time": "2022-10-17T12:45:16.475Z"
   },
   {
    "duration": 7,
    "start_time": "2022-10-17T12:45:16.500Z"
   },
   {
    "duration": 3,
    "start_time": "2022-10-17T12:45:16.509Z"
   },
   {
    "duration": 9,
    "start_time": "2022-10-17T12:45:16.513Z"
   },
   {
    "duration": 4,
    "start_time": "2022-10-17T12:45:16.524Z"
   },
   {
    "duration": 36,
    "start_time": "2022-10-17T12:45:16.529Z"
   },
   {
    "duration": 8,
    "start_time": "2022-10-17T12:45:16.566Z"
   },
   {
    "duration": 24,
    "start_time": "2022-10-17T12:45:16.576Z"
   },
   {
    "duration": 10,
    "start_time": "2022-10-17T12:45:16.602Z"
   },
   {
    "duration": 36,
    "start_time": "2022-10-17T12:45:16.614Z"
   },
   {
    "duration": 19,
    "start_time": "2022-10-17T12:45:16.652Z"
   },
   {
    "duration": 5,
    "start_time": "2022-10-17T12:45:16.673Z"
   },
   {
    "duration": 21,
    "start_time": "2022-10-17T12:45:16.679Z"
   },
   {
    "duration": 9,
    "start_time": "2022-10-17T12:45:16.702Z"
   },
   {
    "duration": 3,
    "start_time": "2022-10-17T12:45:16.713Z"
   },
   {
    "duration": 15,
    "start_time": "2022-10-17T12:45:16.718Z"
   },
   {
    "duration": 11,
    "start_time": "2022-10-17T12:45:16.734Z"
   },
   {
    "duration": 11,
    "start_time": "2022-10-17T12:45:16.746Z"
   },
   {
    "duration": 9,
    "start_time": "2022-10-17T12:45:16.758Z"
   },
   {
    "duration": 12,
    "start_time": "2022-10-17T12:45:16.768Z"
   },
   {
    "duration": 25,
    "start_time": "2022-10-17T12:45:16.782Z"
   },
   {
    "duration": 14,
    "start_time": "2022-10-17T12:45:16.809Z"
   },
   {
    "duration": 12,
    "start_time": "2022-10-17T12:45:16.826Z"
   },
   {
    "duration": 12,
    "start_time": "2022-10-17T12:45:16.839Z"
   },
   {
    "duration": 16,
    "start_time": "2022-10-17T12:45:16.852Z"
   },
   {
    "duration": 14,
    "start_time": "2022-10-17T12:45:16.869Z"
   },
   {
    "duration": 12,
    "start_time": "2022-10-17T12:45:16.900Z"
   },
   {
    "duration": 6,
    "start_time": "2022-10-17T12:45:16.914Z"
   },
   {
    "duration": 8,
    "start_time": "2022-10-17T12:45:16.921Z"
   },
   {
    "duration": 7,
    "start_time": "2022-10-17T12:45:16.930Z"
   },
   {
    "duration": 14,
    "start_time": "2022-10-17T12:45:16.939Z"
   },
   {
    "duration": 23,
    "start_time": "2022-10-17T12:45:44.920Z"
   },
   {
    "duration": 14,
    "start_time": "2022-10-17T12:45:49.841Z"
   },
   {
    "duration": 20,
    "start_time": "2022-10-17T12:47:44.613Z"
   },
   {
    "duration": 29,
    "start_time": "2022-10-17T13:16:12.697Z"
   },
   {
    "duration": 33,
    "start_time": "2022-10-17T13:17:57.462Z"
   },
   {
    "duration": 22,
    "start_time": "2022-10-17T13:35:49.749Z"
   },
   {
    "duration": 32,
    "start_time": "2022-10-17T13:57:48.610Z"
   },
   {
    "duration": 15,
    "start_time": "2022-10-17T13:58:38.266Z"
   },
   {
    "duration": 12,
    "start_time": "2022-10-17T14:00:02.440Z"
   },
   {
    "duration": 16,
    "start_time": "2022-10-17T14:00:03.361Z"
   },
   {
    "duration": 16,
    "start_time": "2022-10-17T14:00:03.765Z"
   },
   {
    "duration": 15,
    "start_time": "2022-10-17T14:00:04.300Z"
   },
   {
    "duration": 14,
    "start_time": "2022-10-17T14:00:04.459Z"
   },
   {
    "duration": 13,
    "start_time": "2022-10-17T14:00:04.619Z"
   },
   {
    "duration": 13,
    "start_time": "2022-10-17T14:00:04.772Z"
   },
   {
    "duration": 14,
    "start_time": "2022-10-17T14:00:04.931Z"
   },
   {
    "duration": 12,
    "start_time": "2022-10-17T14:00:05.083Z"
   },
   {
    "duration": 17,
    "start_time": "2022-10-17T14:00:05.238Z"
   },
   {
    "duration": 17,
    "start_time": "2022-10-17T14:00:05.379Z"
   },
   {
    "duration": 15,
    "start_time": "2022-10-17T14:00:05.530Z"
   },
   {
    "duration": 14,
    "start_time": "2022-10-17T14:00:05.659Z"
   },
   {
    "duration": 13,
    "start_time": "2022-10-17T14:00:05.960Z"
   },
   {
    "duration": 13,
    "start_time": "2022-10-17T14:00:06.098Z"
   },
   {
    "duration": 13,
    "start_time": "2022-10-17T14:00:06.251Z"
   },
   {
    "duration": 12,
    "start_time": "2022-10-17T14:00:06.405Z"
   },
   {
    "duration": 13,
    "start_time": "2022-10-17T14:00:06.556Z"
   },
   {
    "duration": 13,
    "start_time": "2022-10-17T14:00:06.704Z"
   },
   {
    "duration": 14,
    "start_time": "2022-10-17T14:00:06.876Z"
   },
   {
    "duration": 14,
    "start_time": "2022-10-17T14:00:07.020Z"
   },
   {
    "duration": 13,
    "start_time": "2022-10-17T14:04:10.770Z"
   },
   {
    "duration": 13,
    "start_time": "2022-10-17T14:04:33.331Z"
   },
   {
    "duration": 1389,
    "start_time": "2022-10-17T14:14:41.403Z"
   },
   {
    "duration": 23,
    "start_time": "2022-10-17T14:24:38.580Z"
   },
   {
    "duration": 16,
    "start_time": "2022-10-17T14:25:05.408Z"
   }
  ],
  "colab": {
   "name": "dpp_template_part2.ipynb",
   "provenance": []
  },
  "kernelspec": {
   "display_name": "Python 3",
   "language": "python",
   "name": "python3"
  },
  "language_info": {
   "codemirror_mode": {
    "name": "ipython",
    "version": 3
   },
   "file_extension": ".py",
   "mimetype": "text/x-python",
   "name": "python",
   "nbconvert_exporter": "python",
   "pygments_lexer": "ipython3",
   "version": "3.8.5"
  },
  "toc": {
   "base_numbering": 1,
   "nav_menu": {},
   "number_sections": true,
   "sideBar": true,
   "skip_h1_title": true,
   "title_cell": "Table of Contents",
   "title_sidebar": "Contents",
   "toc_cell": false,
   "toc_position": {},
   "toc_section_display": true,
   "toc_window_display": false
  }
 },
 "nbformat": 4,
 "nbformat_minor": 5
}
