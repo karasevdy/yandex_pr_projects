{
 "cells": [
  {
   "cell_type": "markdown",
   "metadata": {
    "toc": true
   },
   "source": [
    "<h1>Содержание<span class=\"tocSkip\"></span></h1>\n",
    "<div class=\"toc\"><ul class=\"toc-item\"><li><ul class=\"toc-item\"><li><ul class=\"toc-item\"><li><span class=\"toc-item-num\">1&nbsp;&nbsp;</span>Подготовка</a></span></li><li><span><a href=\"#Анализ\" data-toc-modified-id=\"Анализ-2\"><span class=\"toc-item-num\">2&nbsp;&nbsp;</span>Анализ</a></span></li><li><span><a href=\"#Обучение\" data-toc-modified-id=\"Обучение-3\"><span class=\"toc-item-num\">3&nbsp;&nbsp;</span>Обучение</a></span><ul class=\"toc-item\"><li><span><a href=\"#LinearRegression\" data-toc-modified-id=\"LinearRegression-3.1\"><span class=\"toc-item-num\">3.1&nbsp;&nbsp;</span>LinearRegression</a></span></li><li><span><a href=\"#CatBoostRegressor\" data-toc-modified-id=\"CatBoostRegressor-3.2\"><span class=\"toc-item-num\">3.2&nbsp;&nbsp;</span>CatBoostRegressor</a></span></li><li><span><a href=\"#Prophet\" data-toc-modified-id=\"Prophet-3.3\"><span class=\"toc-item-num\">3.3&nbsp;&nbsp;</span>Prophet</a></span></li><li><span><a href=\"#Проверка-на-адекватность\" data-toc-modified-id=\"Проверка-на-адекватность-3.4\"><span class=\"toc-item-num\">3.4&nbsp;&nbsp;</span>Проверка на адекватность</a></span></li></ul></li><li><span><a href=\"#Тестирование\" data-toc-modified-id=\"Тестирование-4\"><span class=\"toc-item-num\">4&nbsp;&nbsp;</span>Тестирование</a></span></li><li><span><a href=\"#Чек-лист-проверки\" data-toc-modified-id=\"Чек-лист-проверки-5\"><span class=\"toc-item-num\">5&nbsp;&nbsp;</span>Чек-лист проверки</a></span></li></ul></div>"
   ]
  },
  {
   "cell_type": "markdown",
   "metadata": {},
   "source": [
    "#  Прогнозирование заказов такси"
   ]
  },
  {
   "cell_type": "markdown",
   "metadata": {},
   "source": [
    "Компания «Чётенькое такси» собрала исторические данные о заказах такси в аэропортах. Чтобы привлекать больше водителей в период пиковой нагрузки, нужно спрогнозировать количество заказов такси на следующий час. Постройте модель для такого предсказания.\n",
    "\n",
    "Значение метрики *RMSE* на тестовой выборке должно быть не больше 48.\n",
    "\n",
    "Вам нужно:\n",
    "\n",
    "1. Загрузить данные и выполнить их ресемплирование по одному часу.\n",
    "2. Проанализировать данные.\n",
    "3. Обучить разные модели с различными гиперпараметрами. Сделать тестовую выборку размером 10% от исходных данных.\n",
    "4. Проверить данные на тестовой выборке и сделать выводы.\n",
    "\n",
    "\n",
    "Данные лежат в файле `taxi.csv`. Количество заказов находится в столбце `num_orders` (от англ. *number of orders*, «число заказов»)."
   ]
  },
  {
   "cell_type": "markdown",
   "metadata": {},
   "source": [
    "## Подготовка"
   ]
  },
  {
   "cell_type": "code",
   "execution_count": 1,
   "metadata": {},
   "outputs": [],
   "source": [
    "# загрузка библиотек \n",
    "import pandas as pd\n",
    "import numpy as np\n",
    "import matplotlib.pyplot as plt\n",
    "import seaborn as sns\n",
    "\n",
    "from sklearn.model_selection import train_test_split # разбивка выборки на обучающую и валидационную\n",
    "from sklearn.metrics import mean_squared_error # MSE \n",
    "# rmse = mse**0.5 - корень из средней квадратичной ошибки\n",
    "from sklearn.model_selection import RandomizedSearchCV # оценка оптимальных параметров методом кроссвалидации\n",
    "from statsmodels.tsa.seasonal import seasonal_decompose # тренд сезонность\n",
    "from sklearn.model_selection import TimeSeriesSplit # правильные временные фолды\n",
    "from sklearn.linear_model import LinearRegression # линейная регрессия\n",
    "from sklearn.model_selection import cross_val_score #cv\n",
    "import warnings # убрать предупреждения\n",
    "warnings.filterwarnings('ignore')\n",
    "from catboost import CatBoostRegressor\n",
    "\n"
   ]
  },
  {
   "cell_type": "code",
   "execution_count": 2,
   "metadata": {
    "scrolled": true
   },
   "outputs": [
    {
     "name": "stdout",
     "output_type": "stream",
     "text": [
      "Requirement already satisfied: lightgbm in /opt/conda/lib/python3.9/site-packages (3.3.1)\n",
      "Requirement already satisfied: scikit-learn!=0.22.0 in /opt/conda/lib/python3.9/site-packages (from lightgbm) (0.24.1)\n",
      "Requirement already satisfied: scipy in /opt/conda/lib/python3.9/site-packages (from lightgbm) (1.9.1)\n",
      "Requirement already satisfied: numpy in /opt/conda/lib/python3.9/site-packages (from lightgbm) (1.21.1)\n",
      "Requirement already satisfied: wheel in /opt/conda/lib/python3.9/site-packages (from lightgbm) (0.36.2)\n",
      "Requirement already satisfied: threadpoolctl>=2.0.0 in /opt/conda/lib/python3.9/site-packages (from scikit-learn!=0.22.0->lightgbm) (3.1.0)\n",
      "Requirement already satisfied: joblib>=0.11 in /opt/conda/lib/python3.9/site-packages (from scikit-learn!=0.22.0->lightgbm) (1.1.0)\n"
     ]
    }
   ],
   "source": [
    "!pip install lightgbm"
   ]
  },
  {
   "cell_type": "code",
   "execution_count": 3,
   "metadata": {},
   "outputs": [],
   "source": [
    "# установили LGBMRegressor\n",
    "from lightgbm import LGBMRegressor"
   ]
  },
  {
   "cell_type": "code",
   "execution_count": 4,
   "metadata": {},
   "outputs": [
    {
     "name": "stdout",
     "output_type": "stream",
     "text": [
      "Collecting prophet\n",
      "  Downloading prophet-1.1.2-py3-none-manylinux_2_17_x86_64.manylinux2014_x86_64.whl (8.9 MB)\n",
      "\u001b[K     |████████████████████████████████| 8.9 MB 1.6 MB/s eta 0:00:01\n",
      "\u001b[?25hRequirement already satisfied: convertdate>=2.1.2 in /opt/conda/lib/python3.9/site-packages (from prophet) (2.4.0)\n",
      "Requirement already satisfied: tqdm>=4.36.1 in /opt/conda/lib/python3.9/site-packages (from prophet) (4.61.2)\n",
      "Requirement already satisfied: numpy>=1.15.4 in /opt/conda/lib/python3.9/site-packages (from prophet) (1.21.1)\n",
      "Requirement already satisfied: pandas>=1.0.4 in /opt/conda/lib/python3.9/site-packages (from prophet) (1.2.4)\n",
      "Collecting cmdstanpy>=1.0.4\n",
      "  Downloading cmdstanpy-1.1.0-py3-none-any.whl (83 kB)\n",
      "\u001b[K     |████████████████████████████████| 83 kB 1.2 MB/s  eta 0:00:01\n",
      "\u001b[?25hCollecting LunarCalendar>=0.0.9\n",
      "  Downloading LunarCalendar-0.0.9-py2.py3-none-any.whl (18 kB)\n",
      "Requirement already satisfied: python-dateutil>=2.8.0 in /opt/conda/lib/python3.9/site-packages (from prophet) (2.8.1)\n",
      "Collecting holidays>=0.14.2\n",
      "  Downloading holidays-0.20-py3-none-any.whl (226 kB)\n",
      "\u001b[K     |████████████████████████████████| 226 kB 70.8 MB/s eta 0:00:01\n",
      "\u001b[?25hRequirement already satisfied: matplotlib>=2.0.0 in /opt/conda/lib/python3.9/site-packages (from prophet) (3.3.4)\n",
      "Requirement already satisfied: pymeeus<=1,>=0.3.13 in /opt/conda/lib/python3.9/site-packages (from convertdate>=2.1.2->prophet) (0.5.11)\n",
      "Requirement already satisfied: hijri-converter in /opt/conda/lib/python3.9/site-packages (from holidays>=0.14.2->prophet) (2.2.4)\n",
      "Requirement already satisfied: korean-lunar-calendar in /opt/conda/lib/python3.9/site-packages (from holidays>=0.14.2->prophet) (0.2.1)\n",
      "Requirement already satisfied: pytz in /opt/conda/lib/python3.9/site-packages (from LunarCalendar>=0.0.9->prophet) (2021.1)\n",
      "Collecting ephem>=3.7.5.3\n",
      "  Downloading ephem-4.1.4-cp39-cp39-manylinux_2_17_x86_64.manylinux2014_x86_64.whl (1.8 MB)\n",
      "\u001b[K     |████████████████████████████████| 1.8 MB 57.5 MB/s eta 0:00:01\n",
      "\u001b[?25hRequirement already satisfied: cycler>=0.10 in /opt/conda/lib/python3.9/site-packages (from matplotlib>=2.0.0->prophet) (0.11.0)\n",
      "Requirement already satisfied: pillow>=6.2.0 in /opt/conda/lib/python3.9/site-packages (from matplotlib>=2.0.0->prophet) (8.4.0)\n",
      "Requirement already satisfied: pyparsing!=2.0.4,!=2.1.2,!=2.1.6,>=2.0.3 in /opt/conda/lib/python3.9/site-packages (from matplotlib>=2.0.0->prophet) (2.4.7)\n",
      "Requirement already satisfied: kiwisolver>=1.0.1 in /opt/conda/lib/python3.9/site-packages (from matplotlib>=2.0.0->prophet) (1.4.4)\n",
      "Requirement already satisfied: six>=1.5 in /opt/conda/lib/python3.9/site-packages (from python-dateutil>=2.8.0->prophet) (1.16.0)\n",
      "Installing collected packages: ephem, LunarCalendar, holidays, cmdstanpy, prophet\n",
      "  Attempting uninstall: holidays\n",
      "    Found existing installation: holidays 0.11.3.1\n",
      "    Uninstalling holidays-0.11.3.1:\n",
      "      Successfully uninstalled holidays-0.11.3.1\n",
      "Successfully installed LunarCalendar-0.0.9 cmdstanpy-1.1.0 ephem-4.1.4 holidays-0.20 prophet-1.1.2\n"
     ]
    }
   ],
   "source": [
    "# prophet \n",
    "!pip install prophet"
   ]
  },
  {
   "cell_type": "code",
   "execution_count": 5,
   "metadata": {},
   "outputs": [],
   "source": [
    "from prophet import Prophet"
   ]
  },
  {
   "cell_type": "code",
   "execution_count": 6,
   "metadata": {},
   "outputs": [],
   "source": [
    "# загрузка данных\n",
    "data = pd.read_csv('/datasets/taxi.csv')"
   ]
  },
  {
   "cell_type": "code",
   "execution_count": 8,
   "metadata": {
    "scrolled": true
   },
   "outputs": [
    {
     "data": {
      "text/html": [
       "<div>\n",
       "<style scoped>\n",
       "    .dataframe tbody tr th:only-of-type {\n",
       "        vertical-align: middle;\n",
       "    }\n",
       "\n",
       "    .dataframe tbody tr th {\n",
       "        vertical-align: top;\n",
       "    }\n",
       "\n",
       "    .dataframe thead th {\n",
       "        text-align: right;\n",
       "    }\n",
       "</style>\n",
       "<table border=\"1\" class=\"dataframe\">\n",
       "  <thead>\n",
       "    <tr style=\"text-align: right;\">\n",
       "      <th></th>\n",
       "      <th>datetime</th>\n",
       "      <th>num_orders</th>\n",
       "    </tr>\n",
       "  </thead>\n",
       "  <tbody>\n",
       "    <tr>\n",
       "      <th>0</th>\n",
       "      <td>2018-03-01 00:00:00</td>\n",
       "      <td>9</td>\n",
       "    </tr>\n",
       "    <tr>\n",
       "      <th>1</th>\n",
       "      <td>2018-03-01 00:10:00</td>\n",
       "      <td>14</td>\n",
       "    </tr>\n",
       "    <tr>\n",
       "      <th>2</th>\n",
       "      <td>2018-03-01 00:20:00</td>\n",
       "      <td>28</td>\n",
       "    </tr>\n",
       "    <tr>\n",
       "      <th>3</th>\n",
       "      <td>2018-03-01 00:30:00</td>\n",
       "      <td>20</td>\n",
       "    </tr>\n",
       "    <tr>\n",
       "      <th>4</th>\n",
       "      <td>2018-03-01 00:40:00</td>\n",
       "      <td>32</td>\n",
       "    </tr>\n",
       "    <tr>\n",
       "      <th>5</th>\n",
       "      <td>2018-03-01 00:50:00</td>\n",
       "      <td>21</td>\n",
       "    </tr>\n",
       "    <tr>\n",
       "      <th>6</th>\n",
       "      <td>2018-03-01 01:00:00</td>\n",
       "      <td>7</td>\n",
       "    </tr>\n",
       "    <tr>\n",
       "      <th>7</th>\n",
       "      <td>2018-03-01 01:10:00</td>\n",
       "      <td>5</td>\n",
       "    </tr>\n",
       "    <tr>\n",
       "      <th>8</th>\n",
       "      <td>2018-03-01 01:20:00</td>\n",
       "      <td>17</td>\n",
       "    </tr>\n",
       "    <tr>\n",
       "      <th>9</th>\n",
       "      <td>2018-03-01 01:30:00</td>\n",
       "      <td>12</td>\n",
       "    </tr>\n",
       "  </tbody>\n",
       "</table>\n",
       "</div>"
      ],
      "text/plain": [
       "              datetime  num_orders\n",
       "0  2018-03-01 00:00:00           9\n",
       "1  2018-03-01 00:10:00          14\n",
       "2  2018-03-01 00:20:00          28\n",
       "3  2018-03-01 00:30:00          20\n",
       "4  2018-03-01 00:40:00          32\n",
       "5  2018-03-01 00:50:00          21\n",
       "6  2018-03-01 01:00:00           7\n",
       "7  2018-03-01 01:10:00           5\n",
       "8  2018-03-01 01:20:00          17\n",
       "9  2018-03-01 01:30:00          12"
      ]
     },
     "metadata": {},
     "output_type": "display_data"
    }
   ],
   "source": [
    "# посмотрим\n",
    "display(data.head(10))"
   ]
  },
  {
   "cell_type": "markdown",
   "metadata": {},
   "source": [
    "Количество заказов за каждые 10 минут. Уже отсортированы.\n",
    "<br>\n",
    "Нужно ресемплировать по 1 часу + нужна сумма, т.к. предсказать надо общее кол-во заказов за час."
   ]
  },
  {
   "cell_type": "code",
   "execution_count": 9,
   "metadata": {
    "scrolled": true
   },
   "outputs": [
    {
     "data": {
      "text/plain": [
       "Text(0.5, 1.0, 'Суммарное количество заказов за 1 час с 2018-03-01')"
      ]
     },
     "execution_count": 9,
     "metadata": {},
     "output_type": "execute_result"
    },
    {
     "data": {
      "image/png": "[encoded data removed]",
      "text/plain": [
       "<Figure size 432x288 with 1 Axes>"
      ]
     },
     "metadata": {
      "needs_background": "light"
     },
     "output_type": "display_data"
    }
   ],
   "source": [
    "data = pd.read_csv('/datasets/taxi.csv', index_col=['datetime'], parse_dates=['datetime'])\n",
    "data.sort_index(inplace=True) # отсортировали\n",
    "data = data.resample('1H').sum() # реемплировали \n",
    "data.plot()\n",
    "plt.title(\"Суммарное количество заказов за 1 час с 2018-03-01\")"
   ]
  },
  {
   "cell_type": "markdown",
   "metadata": {},
   "source": [
    "На этом графике ничего не видно. Нужно изменить масштаб.\n",
    "<br>\n",
    "Нужно выявить тренд и сезонную компоненту.\n",
    "<br><br>\n",
    "Ощущение, что с Июня ростущий тренд. Значит временной ряд не стационарный, предсказать его будет сложно. (Если бы были данные за несколько лет, можно было бы понять, возможно в летние месяцы заказов всегда побольше)."
   ]
  },
  {
   "cell_type": "code",
   "execution_count": 48,
   "metadata": {
    "scrolled": true
   },
   "outputs": [
    {
     "name": "stdout",
     "output_type": "stream",
     "text": [
      "<class 'pandas.core.frame.DataFrame'>\n",
      "DatetimeIndex: 4416 entries, 2018-03-01 00:00:00 to 2018-08-31 23:00:00\n",
      "Freq: H\n",
      "Data columns (total 1 columns):\n",
      " #   Column      Non-Null Count  Dtype\n",
      "---  ------      --------------  -----\n",
      " 0   num_orders  4416 non-null   int64\n",
      "dtypes: int64(1)\n",
      "memory usage: 198.0 KB\n"
     ]
    }
   ],
   "source": [
    "data.info()"
   ]
  },
  {
   "cell_type": "code",
   "execution_count": 49,
   "metadata": {},
   "outputs": [
    {
     "name": "stdout",
     "output_type": "stream",
     "text": [
      "num_orders    0\n",
      "dtype: int64\n"
     ]
    }
   ],
   "source": [
    "# проверим есть ли пропуски\n",
    "print(data.isna().sum())"
   ]
  },
  {
   "cell_type": "code",
   "execution_count": 50,
   "metadata": {},
   "outputs": [],
   "source": [
    "# к целочисленному формату\n",
    "data['num_orders'] = data['num_orders'].astype('int')"
   ]
  },
  {
   "cell_type": "code",
   "execution_count": null,
   "metadata": {},
   "outputs": [],
   "source": []
  },
  {
   "cell_type": "markdown",
   "metadata": {},
   "source": [
    "## Анализ"
   ]
  },
  {
   "cell_type": "code",
   "execution_count": 16,
   "metadata": {},
   "outputs": [
    {
     "data": {
      "image/png": "[encoded data removed]",
      "text/plain": [
       "<Figure size 720x1080 with 3 Axes>"
      ]
     },
     "metadata": {
      "needs_background": "light"
     },
     "output_type": "display_data"
    }
   ],
   "source": [
    "decomposed = seasonal_decompose(data)\n",
    "plt.figure(figsize=(10, 15))\n",
    "\n",
    "plt.subplot(311)\n",
    "decomposed.trend['2018-05-01':'2018-07-30'].plot(ax=plt.gca())\n",
    "plt.title('Тренд с Мая по Июль')\n",
    "\n",
    "plt.subplot(312)\n",
    "decomposed.seasonal['2018-06-04':'2018-06-10'].plot(ax=plt.gca())\n",
    "plt.title('Сезонность за первую неделю Июня')\n",
    "\n",
    "\n",
    "plt.subplot(313)\n",
    "decomposed.resid['2018-06-04':'2018-06-10'].plot(ax=plt.gca())\n",
    "plt.title('Остатки за первую неделю Июня')\n",
    "plt.tight_layout()"
   ]
  },
  {
   "cell_type": "markdown",
   "metadata": {},
   "source": [
    "Ярко выражена сезонность по часам внутри. Утром суммарное количество заказов сильно растет (условно пассажиры едут на работу). Днем - корректируется. Вечером продолжается рост до максимум (условно пассажиры возвращаются с работы). После полуночи количество заказов снижается - люди спят.\n",
    "<br><br>\n",
    "Остатки в переделах 40 по модулю (MAE). В принципе соответствует RMSE 48 (по заданию).\n",
    "<br><br>\n",
    "Есть ли внутринедельная сезонность на количество заказов - наблюдается ли роста числа заказов такси в выходные?"
   ]
  },
  {
   "cell_type": "code",
   "execution_count": 22,
   "metadata": {},
   "outputs": [],
   "source": [
    "# ресемплировали\n",
    "data_1d = data.resample('1D').sum()\n",
    "# декомпозировали\n",
    "decomposed_1 = seasonal_decompose(data_1d)"
   ]
  },
  {
   "cell_type": "code",
   "execution_count": 24,
   "metadata": {},
   "outputs": [
    {
     "data": {
      "text/plain": [
       "Text(0.5, 1.0, 'Тренд с за вторую неделю Мая')"
      ]
     },
     "execution_count": 24,
     "metadata": {},
     "output_type": "execute_result"
    },
    {
     "data": {
      "image/png": "[encoded data removed]",
      "text/plain": [
       "<Figure size 720x1080 with 3 Axes>"
      ]
     },
     "metadata": {
      "needs_background": "light"
     },
     "output_type": "display_data"
    }
   ],
   "source": [
    "plt.figure(figsize=(10, 15))\n",
    "\n",
    "plt.subplot(311)\n",
    "decomposed_1.seasonal['2018-05-7':'2018-05-27'].plot(ax=plt.gca())\n",
    "plt.title('Сезонность за три недели Мая')\n",
    "\n",
    "\n",
    "plt.subplot(312)\n",
    "decomposed_1.trend['2018-05-7':'2018-05-27'].plot(ax=plt.gca())\n",
    "plt.title('Тренд с за три недели Мая')\n",
    "\n",
    "plt.subplot(313)\n",
    "decomposed_1.trend['2018-05-7':'2018-05-13'].plot(ax=plt.gca())\n",
    "plt.title('Тренд с за вторую неделю Мая')"
   ]
  },
  {
   "cell_type": "code",
   "execution_count": 31,
   "metadata": {},
   "outputs": [
    {
     "data": {
      "text/plain": [
       "Text(0.5, 1.0, 'Тренд за весь период')"
      ]
     },
     "execution_count": 31,
     "metadata": {},
     "output_type": "execute_result"
    },
    {
     "data": {
      "image/png": "[encoded data removed]",
      "text/plain": [
       "<Figure size 720x1080 with 3 Axes>"
      ]
     },
     "metadata": {
      "needs_background": "light"
     },
     "output_type": "display_data"
    }
   ],
   "source": [
    "plt.figure(figsize=(10, 15))\n",
    "\n",
    "plt.subplot(311)\n",
    "decomposed_1.seasonal['2018-05-01':'2018-06-10'].plot(ax=plt.gca())\n",
    "plt.title('Сезонность за 5 недель Мая по Июль')\n",
    "\n",
    "\n",
    "plt.subplot(312)\n",
    "decomposed_1.trend['2018-05-01':'2018-07-30'].plot(ax=plt.gca())\n",
    "plt.title('Тренд с Мая по Июль')\n",
    "\n",
    "plt.subplot(313)\n",
    "decomposed_1.trend.plot(ax=plt.gca())\n",
    "plt.title('Тренд за весь период')"
   ]
  },
  {
   "cell_type": "markdown",
   "metadata": {},
   "source": [
    "Недельная сезонность также есть:  <br>\n",
    "Вт, Ср, Чт, Пт - количество заказов в день растет<br>\n",
    "Сб, Вск - количество заказов снижается<br>\n",
    "Вск Пн - корректируется (со вторника по среду снова начинается рост) <br>\n",
    "<br>\n",
    "Но этот тренд виден на данных количествах заказов ресемплированных по дням. На часовых графиках эта сезонность не заметна.\n",
    "<br><br>\n",
    "При ресемплировании данных по дням (суммарное количество заказов в день), видно, что тренд все-таки растущий. Это будет как минимум усложнять предсказания по часам."
   ]
  },
  {
   "cell_type": "code",
   "execution_count": 44,
   "metadata": {},
   "outputs": [],
   "source": [
    "def plotMovingAverage(series, n):\n",
    "    \n",
    "    rolling_mean = series.rolling(window=n).mean().shift(1)\n",
    "    \n",
    "    rolling_std =  series.rolling(window=n).std().shift(1)\n",
    "    upper_bond = rolling_mean+1.96*rolling_std\n",
    "    lower_bond = rolling_mean-1.96*rolling_std\n",
    "    \n",
    "    \n",
    "    plt.figure(figsize=(15,5))\n",
    "    plt.title(\"Суммарное количество заказов за первую неделю Июня и скользящее среднее за\\n часов = {}\".format(n))\n",
    "    plt.plot(rolling_mean, \"g\", label=\"Скользящее среднее\")\n",
    "    \n",
    "    plt.plot(upper_bond, \"r--\", label=\"Верхняя граница / Нижняя граница\")\n",
    "    plt.plot(lower_bond, \"r--\")\n",
    "    plt.plot(series[n+1:], label=\"Суммарное количество заказов\")\n",
    "    plt.legend(loc=\"upper left\")\n",
    "    plt.grid(True)"
   ]
  },
  {
   "cell_type": "code",
   "execution_count": 45,
   "metadata": {
    "scrolled": true
   },
   "outputs": [
    {
     "data": {
      "image/png": "[encoded data removed]",
      "text/plain": [
       "<Figure size 1080x360 with 1 Axes>"
      ]
     },
     "metadata": {
      "needs_background": "light"
     },
     "output_type": "display_data"
    }
   ],
   "source": [
    "plotMovingAverage(data['2018-06-04':'2018-06-10'], 24)"
   ]
  },
  {
   "cell_type": "code",
   "execution_count": null,
   "metadata": {},
   "outputs": [],
   "source": []
  },
  {
   "cell_type": "markdown",
   "metadata": {},
   "source": [
    "## Обучение"
   ]
  },
  {
   "cell_type": "code",
   "execution_count": 51,
   "metadata": {},
   "outputs": [],
   "source": [
    "# разобьем на train, test до вычисления средних для генерации фичей, чтобы не было утечки \n",
    "\n",
    "train, test = train_test_split(data, shuffle=False, test_size=0.1)"
   ]
  },
  {
   "cell_type": "code",
   "execution_count": 52,
   "metadata": {},
   "outputs": [],
   "source": [
    "# функция, которая создаст переменные \n",
    "def make_features(data, max_lag, rolling_mean_size):\n",
    "    data['hour'] = data.index.hour\n",
    "    data['month'] = data.index.month\n",
    "    data['day'] = data.index.day\n",
    "    data['dayofweek'] = data.index.dayofweek\n",
    "    data['is_weekend'] = data.dayofweek.isin([5,6])*1\n",
    "    \n",
    "    for lag in range(1, max_lag + 1):\n",
    "        data['lag_{}'.format(lag)] = data['num_orders'].shift(lag)\n",
    "\n",
    "    data['rolling_mean'] = data['num_orders'].shift().rolling(rolling_mean_size).mean()"
   ]
  },
  {
   "cell_type": "code",
   "execution_count": 53,
   "metadata": {},
   "outputs": [],
   "source": [
    "# сделаем фичи для train\n",
    "# лаг - 12 часов (лучше было 24, но тогда теряем из-за содания пропусков данные в тестовой)\n",
    "# скользящая средня по окну в 24 часа\n",
    "make_features(train, 12, 24)"
   ]
  },
  {
   "cell_type": "code",
   "execution_count": 54,
   "metadata": {},
   "outputs": [
    {
     "data": {
      "text/html": [
       "<div>\n",
       "<style scoped>\n",
       "    .dataframe tbody tr th:only-of-type {\n",
       "        vertical-align: middle;\n",
       "    }\n",
       "\n",
       "    .dataframe tbody tr th {\n",
       "        vertical-align: top;\n",
       "    }\n",
       "\n",
       "    .dataframe thead th {\n",
       "        text-align: right;\n",
       "    }\n",
       "</style>\n",
       "<table border=\"1\" class=\"dataframe\">\n",
       "  <thead>\n",
       "    <tr style=\"text-align: right;\">\n",
       "      <th></th>\n",
       "      <th>num_orders</th>\n",
       "      <th>hour</th>\n",
       "      <th>month</th>\n",
       "      <th>day</th>\n",
       "      <th>dayofweek</th>\n",
       "      <th>is_weekend</th>\n",
       "      <th>lag_1</th>\n",
       "      <th>lag_2</th>\n",
       "      <th>lag_3</th>\n",
       "      <th>lag_4</th>\n",
       "      <th>lag_5</th>\n",
       "      <th>lag_6</th>\n",
       "      <th>lag_7</th>\n",
       "      <th>lag_8</th>\n",
       "      <th>lag_9</th>\n",
       "      <th>lag_10</th>\n",
       "      <th>lag_11</th>\n",
       "      <th>lag_12</th>\n",
       "      <th>rolling_mean</th>\n",
       "    </tr>\n",
       "    <tr>\n",
       "      <th>datetime</th>\n",
       "      <th></th>\n",
       "      <th></th>\n",
       "      <th></th>\n",
       "      <th></th>\n",
       "      <th></th>\n",
       "      <th></th>\n",
       "      <th></th>\n",
       "      <th></th>\n",
       "      <th></th>\n",
       "      <th></th>\n",
       "      <th></th>\n",
       "      <th></th>\n",
       "      <th></th>\n",
       "      <th></th>\n",
       "      <th></th>\n",
       "      <th></th>\n",
       "      <th></th>\n",
       "      <th></th>\n",
       "      <th></th>\n",
       "    </tr>\n",
       "  </thead>\n",
       "  <tbody>\n",
       "    <tr>\n",
       "      <th>2018-07-20 13:00:00</th>\n",
       "      <td>105</td>\n",
       "      <td>13</td>\n",
       "      <td>7</td>\n",
       "      <td>20</td>\n",
       "      <td>4</td>\n",
       "      <td>0</td>\n",
       "      <td>92.0</td>\n",
       "      <td>110.0</td>\n",
       "      <td>137.0</td>\n",
       "      <td>137.0</td>\n",
       "      <td>87.0</td>\n",
       "      <td>33.0</td>\n",
       "      <td>44.0</td>\n",
       "      <td>60.0</td>\n",
       "      <td>110.0</td>\n",
       "      <td>101.0</td>\n",
       "      <td>160.0</td>\n",
       "      <td>119.0</td>\n",
       "      <td>99.041667</td>\n",
       "    </tr>\n",
       "    <tr>\n",
       "      <th>2018-04-04 20:00:00</th>\n",
       "      <td>54</td>\n",
       "      <td>20</td>\n",
       "      <td>4</td>\n",
       "      <td>4</td>\n",
       "      <td>2</td>\n",
       "      <td>0</td>\n",
       "      <td>83.0</td>\n",
       "      <td>42.0</td>\n",
       "      <td>35.0</td>\n",
       "      <td>72.0</td>\n",
       "      <td>66.0</td>\n",
       "      <td>48.0</td>\n",
       "      <td>53.0</td>\n",
       "      <td>33.0</td>\n",
       "      <td>66.0</td>\n",
       "      <td>69.0</td>\n",
       "      <td>56.0</td>\n",
       "      <td>43.0</td>\n",
       "      <td>48.583333</td>\n",
       "    </tr>\n",
       "    <tr>\n",
       "      <th>2018-07-03 03:00:00</th>\n",
       "      <td>104</td>\n",
       "      <td>3</td>\n",
       "      <td>7</td>\n",
       "      <td>3</td>\n",
       "      <td>1</td>\n",
       "      <td>0</td>\n",
       "      <td>103.0</td>\n",
       "      <td>121.0</td>\n",
       "      <td>149.0</td>\n",
       "      <td>121.0</td>\n",
       "      <td>71.0</td>\n",
       "      <td>83.0</td>\n",
       "      <td>89.0</td>\n",
       "      <td>96.0</td>\n",
       "      <td>54.0</td>\n",
       "      <td>103.0</td>\n",
       "      <td>85.0</td>\n",
       "      <td>115.0</td>\n",
       "      <td>93.541667</td>\n",
       "    </tr>\n",
       "    <tr>\n",
       "      <th>2018-05-22 20:00:00</th>\n",
       "      <td>77</td>\n",
       "      <td>20</td>\n",
       "      <td>5</td>\n",
       "      <td>22</td>\n",
       "      <td>1</td>\n",
       "      <td>0</td>\n",
       "      <td>76.0</td>\n",
       "      <td>44.0</td>\n",
       "      <td>64.0</td>\n",
       "      <td>124.0</td>\n",
       "      <td>60.0</td>\n",
       "      <td>62.0</td>\n",
       "      <td>66.0</td>\n",
       "      <td>55.0</td>\n",
       "      <td>77.0</td>\n",
       "      <td>95.0</td>\n",
       "      <td>55.0</td>\n",
       "      <td>74.0</td>\n",
       "      <td>67.833333</td>\n",
       "    </tr>\n",
       "    <tr>\n",
       "      <th>2018-04-17 21:00:00</th>\n",
       "      <td>80</td>\n",
       "      <td>21</td>\n",
       "      <td>4</td>\n",
       "      <td>17</td>\n",
       "      <td>1</td>\n",
       "      <td>0</td>\n",
       "      <td>82.0</td>\n",
       "      <td>71.0</td>\n",
       "      <td>49.0</td>\n",
       "      <td>51.0</td>\n",
       "      <td>98.0</td>\n",
       "      <td>59.0</td>\n",
       "      <td>46.0</td>\n",
       "      <td>57.0</td>\n",
       "      <td>32.0</td>\n",
       "      <td>78.0</td>\n",
       "      <td>82.0</td>\n",
       "      <td>44.0</td>\n",
       "      <td>57.250000</td>\n",
       "    </tr>\n",
       "    <tr>\n",
       "      <th>2018-06-10 19:00:00</th>\n",
       "      <td>51</td>\n",
       "      <td>19</td>\n",
       "      <td>6</td>\n",
       "      <td>10</td>\n",
       "      <td>6</td>\n",
       "      <td>1</td>\n",
       "      <td>35.0</td>\n",
       "      <td>95.0</td>\n",
       "      <td>97.0</td>\n",
       "      <td>114.0</td>\n",
       "      <td>91.0</td>\n",
       "      <td>75.0</td>\n",
       "      <td>108.0</td>\n",
       "      <td>60.0</td>\n",
       "      <td>74.0</td>\n",
       "      <td>80.0</td>\n",
       "      <td>74.0</td>\n",
       "      <td>51.0</td>\n",
       "      <td>89.666667</td>\n",
       "    </tr>\n",
       "    <tr>\n",
       "      <th>2018-07-04 04:00:00</th>\n",
       "      <td>104</td>\n",
       "      <td>4</td>\n",
       "      <td>7</td>\n",
       "      <td>4</td>\n",
       "      <td>2</td>\n",
       "      <td>0</td>\n",
       "      <td>94.0</td>\n",
       "      <td>109.0</td>\n",
       "      <td>101.0</td>\n",
       "      <td>142.0</td>\n",
       "      <td>145.0</td>\n",
       "      <td>65.0</td>\n",
       "      <td>90.0</td>\n",
       "      <td>61.0</td>\n",
       "      <td>95.0</td>\n",
       "      <td>78.0</td>\n",
       "      <td>108.0</td>\n",
       "      <td>130.0</td>\n",
       "      <td>84.500000</td>\n",
       "    </tr>\n",
       "    <tr>\n",
       "      <th>2018-08-08 17:00:00</th>\n",
       "      <td>95</td>\n",
       "      <td>17</td>\n",
       "      <td>8</td>\n",
       "      <td>8</td>\n",
       "      <td>2</td>\n",
       "      <td>0</td>\n",
       "      <td>196.0</td>\n",
       "      <td>85.0</td>\n",
       "      <td>80.0</td>\n",
       "      <td>99.0</td>\n",
       "      <td>85.0</td>\n",
       "      <td>110.0</td>\n",
       "      <td>130.0</td>\n",
       "      <td>122.0</td>\n",
       "      <td>113.0</td>\n",
       "      <td>27.0</td>\n",
       "      <td>60.0</td>\n",
       "      <td>86.0</td>\n",
       "      <td>108.041667</td>\n",
       "    </tr>\n",
       "    <tr>\n",
       "      <th>2018-03-05 02:00:00</th>\n",
       "      <td>32</td>\n",
       "      <td>2</td>\n",
       "      <td>3</td>\n",
       "      <td>5</td>\n",
       "      <td>0</td>\n",
       "      <td>0</td>\n",
       "      <td>176.0</td>\n",
       "      <td>86.0</td>\n",
       "      <td>68.0</td>\n",
       "      <td>83.0</td>\n",
       "      <td>75.0</td>\n",
       "      <td>77.0</td>\n",
       "      <td>56.0</td>\n",
       "      <td>80.0</td>\n",
       "      <td>51.0</td>\n",
       "      <td>64.0</td>\n",
       "      <td>58.0</td>\n",
       "      <td>56.0</td>\n",
       "      <td>52.833333</td>\n",
       "    </tr>\n",
       "    <tr>\n",
       "      <th>2018-06-03 02:00:00</th>\n",
       "      <td>55</td>\n",
       "      <td>2</td>\n",
       "      <td>6</td>\n",
       "      <td>3</td>\n",
       "      <td>6</td>\n",
       "      <td>1</td>\n",
       "      <td>61.0</td>\n",
       "      <td>107.0</td>\n",
       "      <td>84.0</td>\n",
       "      <td>78.0</td>\n",
       "      <td>78.0</td>\n",
       "      <td>56.0</td>\n",
       "      <td>47.0</td>\n",
       "      <td>43.0</td>\n",
       "      <td>48.0</td>\n",
       "      <td>97.0</td>\n",
       "      <td>66.0</td>\n",
       "      <td>69.0</td>\n",
       "      <td>67.500000</td>\n",
       "    </tr>\n",
       "  </tbody>\n",
       "</table>\n",
       "</div>"
      ],
      "text/plain": [
       "                     num_orders  hour  month  day  dayofweek  is_weekend  \\\n",
       "datetime                                                                   \n",
       "2018-07-20 13:00:00         105    13      7   20          4           0   \n",
       "2018-04-04 20:00:00          54    20      4    4          2           0   \n",
       "2018-07-03 03:00:00         104     3      7    3          1           0   \n",
       "2018-05-22 20:00:00          77    20      5   22          1           0   \n",
       "2018-04-17 21:00:00          80    21      4   17          1           0   \n",
       "2018-06-10 19:00:00          51    19      6   10          6           1   \n",
       "2018-07-04 04:00:00         104     4      7    4          2           0   \n",
       "2018-08-08 17:00:00          95    17      8    8          2           0   \n",
       "2018-03-05 02:00:00          32     2      3    5          0           0   \n",
       "2018-06-03 02:00:00          55     2      6    3          6           1   \n",
       "\n",
       "                     lag_1  lag_2  lag_3  lag_4  lag_5  lag_6  lag_7  lag_8  \\\n",
       "datetime                                                                      \n",
       "2018-07-20 13:00:00   92.0  110.0  137.0  137.0   87.0   33.0   44.0   60.0   \n",
       "2018-04-04 20:00:00   83.0   42.0   35.0   72.0   66.0   48.0   53.0   33.0   \n",
       "2018-07-03 03:00:00  103.0  121.0  149.0  121.0   71.0   83.0   89.0   96.0   \n",
       "2018-05-22 20:00:00   76.0   44.0   64.0  124.0   60.0   62.0   66.0   55.0   \n",
       "2018-04-17 21:00:00   82.0   71.0   49.0   51.0   98.0   59.0   46.0   57.0   \n",
       "2018-06-10 19:00:00   35.0   95.0   97.0  114.0   91.0   75.0  108.0   60.0   \n",
       "2018-07-04 04:00:00   94.0  109.0  101.0  142.0  145.0   65.0   90.0   61.0   \n",
       "2018-08-08 17:00:00  196.0   85.0   80.0   99.0   85.0  110.0  130.0  122.0   \n",
       "2018-03-05 02:00:00  176.0   86.0   68.0   83.0   75.0   77.0   56.0   80.0   \n",
       "2018-06-03 02:00:00   61.0  107.0   84.0   78.0   78.0   56.0   47.0   43.0   \n",
       "\n",
       "                     lag_9  lag_10  lag_11  lag_12  rolling_mean  \n",
       "datetime                                                          \n",
       "2018-07-20 13:00:00  110.0   101.0   160.0   119.0     99.041667  \n",
       "2018-04-04 20:00:00   66.0    69.0    56.0    43.0     48.583333  \n",
       "2018-07-03 03:00:00   54.0   103.0    85.0   115.0     93.541667  \n",
       "2018-05-22 20:00:00   77.0    95.0    55.0    74.0     67.833333  \n",
       "2018-04-17 21:00:00   32.0    78.0    82.0    44.0     57.250000  \n",
       "2018-06-10 19:00:00   74.0    80.0    74.0    51.0     89.666667  \n",
       "2018-07-04 04:00:00   95.0    78.0   108.0   130.0     84.500000  \n",
       "2018-08-08 17:00:00  113.0    27.0    60.0    86.0    108.041667  \n",
       "2018-03-05 02:00:00   51.0    64.0    58.0    56.0     52.833333  \n",
       "2018-06-03 02:00:00   48.0    97.0    66.0    69.0     67.500000  "
      ]
     },
     "metadata": {},
     "output_type": "display_data"
    }
   ],
   "source": [
    "# посмотрим\n",
    "display(train.sample(10))"
   ]
  },
  {
   "cell_type": "code",
   "execution_count": 55,
   "metadata": {},
   "outputs": [],
   "source": [
    "# удалим пропуски созданные из-за лагов и скользящей средней\n",
    "train = train.dropna()"
   ]
  },
  {
   "cell_type": "code",
   "execution_count": 57,
   "metadata": {},
   "outputs": [],
   "source": [
    "# сделаем фичи для test\n",
    "make_features(test, 12, 24)\n",
    "# удалим пропуски созданные из-за лагов и скользящей средней\n",
    "test = test.dropna()"
   ]
  },
  {
   "cell_type": "code",
   "execution_count": 58,
   "metadata": {},
   "outputs": [
    {
     "data": {
      "text/html": [
       "<div>\n",
       "<style scoped>\n",
       "    .dataframe tbody tr th:only-of-type {\n",
       "        vertical-align: middle;\n",
       "    }\n",
       "\n",
       "    .dataframe tbody tr th {\n",
       "        vertical-align: top;\n",
       "    }\n",
       "\n",
       "    .dataframe thead th {\n",
       "        text-align: right;\n",
       "    }\n",
       "</style>\n",
       "<table border=\"1\" class=\"dataframe\">\n",
       "  <thead>\n",
       "    <tr style=\"text-align: right;\">\n",
       "      <th></th>\n",
       "      <th>num_orders</th>\n",
       "      <th>hour</th>\n",
       "      <th>month</th>\n",
       "      <th>day</th>\n",
       "      <th>dayofweek</th>\n",
       "      <th>is_weekend</th>\n",
       "      <th>lag_1</th>\n",
       "      <th>lag_2</th>\n",
       "      <th>lag_3</th>\n",
       "      <th>lag_4</th>\n",
       "      <th>lag_5</th>\n",
       "      <th>lag_6</th>\n",
       "      <th>lag_7</th>\n",
       "      <th>lag_8</th>\n",
       "      <th>lag_9</th>\n",
       "      <th>lag_10</th>\n",
       "      <th>lag_11</th>\n",
       "      <th>lag_12</th>\n",
       "      <th>rolling_mean</th>\n",
       "    </tr>\n",
       "    <tr>\n",
       "      <th>datetime</th>\n",
       "      <th></th>\n",
       "      <th></th>\n",
       "      <th></th>\n",
       "      <th></th>\n",
       "      <th></th>\n",
       "      <th></th>\n",
       "      <th></th>\n",
       "      <th></th>\n",
       "      <th></th>\n",
       "      <th></th>\n",
       "      <th></th>\n",
       "      <th></th>\n",
       "      <th></th>\n",
       "      <th></th>\n",
       "      <th></th>\n",
       "      <th></th>\n",
       "      <th></th>\n",
       "      <th></th>\n",
       "      <th></th>\n",
       "    </tr>\n",
       "  </thead>\n",
       "  <tbody>\n",
       "    <tr>\n",
       "      <th>2018-08-14 14:00:00</th>\n",
       "      <td>112</td>\n",
       "      <td>14</td>\n",
       "      <td>8</td>\n",
       "      <td>14</td>\n",
       "      <td>1</td>\n",
       "      <td>0</td>\n",
       "      <td>64.0</td>\n",
       "      <td>114.0</td>\n",
       "      <td>162.0</td>\n",
       "      <td>155.0</td>\n",
       "      <td>135.0</td>\n",
       "      <td>91.0</td>\n",
       "      <td>54.0</td>\n",
       "      <td>45.0</td>\n",
       "      <td>47.0</td>\n",
       "      <td>139.0</td>\n",
       "      <td>190.0</td>\n",
       "      <td>108.0</td>\n",
       "      <td>121.750000</td>\n",
       "    </tr>\n",
       "    <tr>\n",
       "      <th>2018-08-14 15:00:00</th>\n",
       "      <td>116</td>\n",
       "      <td>15</td>\n",
       "      <td>8</td>\n",
       "      <td>14</td>\n",
       "      <td>1</td>\n",
       "      <td>0</td>\n",
       "      <td>112.0</td>\n",
       "      <td>64.0</td>\n",
       "      <td>114.0</td>\n",
       "      <td>162.0</td>\n",
       "      <td>155.0</td>\n",
       "      <td>135.0</td>\n",
       "      <td>91.0</td>\n",
       "      <td>54.0</td>\n",
       "      <td>45.0</td>\n",
       "      <td>47.0</td>\n",
       "      <td>139.0</td>\n",
       "      <td>190.0</td>\n",
       "      <td>122.166667</td>\n",
       "    </tr>\n",
       "    <tr>\n",
       "      <th>2018-08-14 16:00:00</th>\n",
       "      <td>111</td>\n",
       "      <td>16</td>\n",
       "      <td>8</td>\n",
       "      <td>14</td>\n",
       "      <td>1</td>\n",
       "      <td>0</td>\n",
       "      <td>116.0</td>\n",
       "      <td>112.0</td>\n",
       "      <td>64.0</td>\n",
       "      <td>114.0</td>\n",
       "      <td>162.0</td>\n",
       "      <td>155.0</td>\n",
       "      <td>135.0</td>\n",
       "      <td>91.0</td>\n",
       "      <td>54.0</td>\n",
       "      <td>45.0</td>\n",
       "      <td>47.0</td>\n",
       "      <td>139.0</td>\n",
       "      <td>119.708333</td>\n",
       "    </tr>\n",
       "    <tr>\n",
       "      <th>2018-08-14 17:00:00</th>\n",
       "      <td>152</td>\n",
       "      <td>17</td>\n",
       "      <td>8</td>\n",
       "      <td>14</td>\n",
       "      <td>1</td>\n",
       "      <td>0</td>\n",
       "      <td>111.0</td>\n",
       "      <td>116.0</td>\n",
       "      <td>112.0</td>\n",
       "      <td>64.0</td>\n",
       "      <td>114.0</td>\n",
       "      <td>162.0</td>\n",
       "      <td>155.0</td>\n",
       "      <td>135.0</td>\n",
       "      <td>91.0</td>\n",
       "      <td>54.0</td>\n",
       "      <td>45.0</td>\n",
       "      <td>47.0</td>\n",
       "      <td>118.333333</td>\n",
       "    </tr>\n",
       "    <tr>\n",
       "      <th>2018-08-14 18:00:00</th>\n",
       "      <td>98</td>\n",
       "      <td>18</td>\n",
       "      <td>8</td>\n",
       "      <td>14</td>\n",
       "      <td>1</td>\n",
       "      <td>0</td>\n",
       "      <td>152.0</td>\n",
       "      <td>111.0</td>\n",
       "      <td>116.0</td>\n",
       "      <td>112.0</td>\n",
       "      <td>64.0</td>\n",
       "      <td>114.0</td>\n",
       "      <td>162.0</td>\n",
       "      <td>155.0</td>\n",
       "      <td>135.0</td>\n",
       "      <td>91.0</td>\n",
       "      <td>54.0</td>\n",
       "      <td>45.0</td>\n",
       "      <td>118.333333</td>\n",
       "    </tr>\n",
       "  </tbody>\n",
       "</table>\n",
       "</div>"
      ],
      "text/plain": [
       "                     num_orders  hour  month  day  dayofweek  is_weekend  \\\n",
       "datetime                                                                   \n",
       "2018-08-14 14:00:00         112    14      8   14          1           0   \n",
       "2018-08-14 15:00:00         116    15      8   14          1           0   \n",
       "2018-08-14 16:00:00         111    16      8   14          1           0   \n",
       "2018-08-14 17:00:00         152    17      8   14          1           0   \n",
       "2018-08-14 18:00:00          98    18      8   14          1           0   \n",
       "\n",
       "                     lag_1  lag_2  lag_3  lag_4  lag_5  lag_6  lag_7  lag_8  \\\n",
       "datetime                                                                      \n",
       "2018-08-14 14:00:00   64.0  114.0  162.0  155.0  135.0   91.0   54.0   45.0   \n",
       "2018-08-14 15:00:00  112.0   64.0  114.0  162.0  155.0  135.0   91.0   54.0   \n",
       "2018-08-14 16:00:00  116.0  112.0   64.0  114.0  162.0  155.0  135.0   91.0   \n",
       "2018-08-14 17:00:00  111.0  116.0  112.0   64.0  114.0  162.0  155.0  135.0   \n",
       "2018-08-14 18:00:00  152.0  111.0  116.0  112.0   64.0  114.0  162.0  155.0   \n",
       "\n",
       "                     lag_9  lag_10  lag_11  lag_12  rolling_mean  \n",
       "datetime                                                          \n",
       "2018-08-14 14:00:00   47.0   139.0   190.0   108.0    121.750000  \n",
       "2018-08-14 15:00:00   45.0    47.0   139.0   190.0    122.166667  \n",
       "2018-08-14 16:00:00   54.0    45.0    47.0   139.0    119.708333  \n",
       "2018-08-14 17:00:00   91.0    54.0    45.0    47.0    118.333333  \n",
       "2018-08-14 18:00:00  135.0    91.0    54.0    45.0    118.333333  "
      ]
     },
     "metadata": {},
     "output_type": "display_data"
    }
   ],
   "source": [
    "# посмотрим на результат\n",
    "display(test.head(5))"
   ]
  },
  {
   "cell_type": "code",
   "execution_count": 59,
   "metadata": {},
   "outputs": [],
   "source": [
    "# разделим на фичи и таргет\n",
    "\n",
    "features_train = train.drop(['num_orders'], axis=1) \n",
    "target_train = train['num_orders']\n",
    "\n",
    "features_test = test.drop(['num_orders'], axis=1)\n",
    "target_test = test['num_orders']"
   ]
  },
  {
   "cell_type": "code",
   "execution_count": 60,
   "metadata": {},
   "outputs": [
    {
     "name": "stdout",
     "output_type": "stream",
     "text": [
      "hour            0\n",
      "month           0\n",
      "day             0\n",
      "dayofweek       0\n",
      "is_weekend      0\n",
      "lag_1           0\n",
      "lag_2           0\n",
      "lag_3           0\n",
      "lag_4           0\n",
      "lag_5           0\n",
      "lag_6           0\n",
      "lag_7           0\n",
      "lag_8           0\n",
      "lag_9           0\n",
      "lag_10          0\n",
      "lag_11          0\n",
      "lag_12          0\n",
      "rolling_mean    0\n",
      "dtype: int64\n"
     ]
    }
   ],
   "source": [
    "print(features_train.isna().sum())"
   ]
  },
  {
   "cell_type": "code",
   "execution_count": 61,
   "metadata": {},
   "outputs": [
    {
     "name": "stdout",
     "output_type": "stream",
     "text": [
      "0\n"
     ]
    }
   ],
   "source": [
    "print(target_train.isna().sum())"
   ]
  },
  {
   "cell_type": "markdown",
   "metadata": {},
   "source": [
    "### LinearRegression"
   ]
  },
  {
   "cell_type": "code",
   "execution_count": 62,
   "metadata": {},
   "outputs": [],
   "source": [
    "model_1 = LinearRegression() "
   ]
  },
  {
   "cell_type": "code",
   "execution_count": 63,
   "metadata": {},
   "outputs": [
    {
     "data": {
      "text/plain": [
       "LinearRegression()"
      ]
     },
     "execution_count": 63,
     "metadata": {},
     "output_type": "execute_result"
    }
   ],
   "source": [
    "model_1.fit(features_train, target_train)"
   ]
  },
  {
   "cell_type": "code",
   "execution_count": 85,
   "metadata": {},
   "outputs": [
    {
     "name": "stdout",
     "output_type": "stream",
     "text": [
      "Средняя RMSE линейной регрессии: 32\n"
     ]
    }
   ],
   "source": [
    "# кроссвалидация\n",
    "scores = cross_val_score(model_1, \n",
    "                         features_train, \n",
    "                         target_train, \n",
    "                         cv=TimeSeriesSplit(n_splits=4), \n",
    "                         scoring='neg_root_mean_squared_error') \n",
    "\n",
    "final_score = sum(abs(scores))/len(scores) \n",
    "\n",
    "print('Средняя RMSE линейной регрессии:', round(final_score))"
   ]
  },
  {
   "cell_type": "markdown",
   "metadata": {},
   "source": [
    "### CatBoostRegressor"
   ]
  },
  {
   "cell_type": "code",
   "execution_count": 66,
   "metadata": {},
   "outputs": [],
   "source": [
    "model_2 = CatBoostRegressor(loss_function='RMSE')\n",
    "\n",
    "parameters_2 = { 'learning_rate': [0.01, 0.05, 0.1, 0.2, 0.3],\n",
    "                'depth': [2, 3, 4],\n",
    "                'n_estimators': range (10, 101, 10) \n",
    "               }"
   ]
  },
  {
   "cell_type": "code",
   "execution_count": 69,
   "metadata": {},
   "outputs": [],
   "source": [
    "r_search = RandomizedSearchCV(model_2,\n",
    "                             param_distributions=parameters_2,\n",
    "                             scoring='neg_root_mean_squared_error',\n",
    "                             n_jobs=-1,\n",
    "                             cv=TimeSeriesSplit(n_splits=4),\n",
    "                             n_iter=100)"
   ]
  },
  {
   "cell_type": "code",
   "execution_count": null,
   "metadata": {
    "scrolled": true
   },
   "outputs": [],
   "source": [
    "r_search.fit(features_train, target_train)"
   ]
  },
  {
   "cell_type": "code",
   "execution_count": 94,
   "metadata": {},
   "outputs": [
    {
     "name": "stdout",
     "output_type": "stream",
     "text": [
      "Средняя RMSE model_2 - CatBoostRegressor: 26\n"
     ]
    }
   ],
   "source": [
    "print(\"Средняя RMSE model_2 - CatBoostRegressor:\", round(abs(r_search.best_score_)))"
   ]
  },
  {
   "cell_type": "markdown",
   "metadata": {},
   "source": [
    "### Prophet"
   ]
  },
  {
   "cell_type": "code",
   "execution_count": 74,
   "metadata": {},
   "outputs": [
    {
     "data": {
      "text/html": [
       "<div>\n",
       "<style scoped>\n",
       "    .dataframe tbody tr th:only-of-type {\n",
       "        vertical-align: middle;\n",
       "    }\n",
       "\n",
       "    .dataframe tbody tr th {\n",
       "        vertical-align: top;\n",
       "    }\n",
       "\n",
       "    .dataframe thead th {\n",
       "        text-align: right;\n",
       "    }\n",
       "</style>\n",
       "<table border=\"1\" class=\"dataframe\">\n",
       "  <thead>\n",
       "    <tr style=\"text-align: right;\">\n",
       "      <th></th>\n",
       "      <th>num_orders</th>\n",
       "    </tr>\n",
       "    <tr>\n",
       "      <th>datetime</th>\n",
       "      <th></th>\n",
       "    </tr>\n",
       "  </thead>\n",
       "  <tbody>\n",
       "    <tr>\n",
       "      <th>2018-03-01 13:00:00</th>\n",
       "      <td>32</td>\n",
       "    </tr>\n",
       "    <tr>\n",
       "      <th>2018-03-25 16:00:00</th>\n",
       "      <td>90</td>\n",
       "    </tr>\n",
       "    <tr>\n",
       "      <th>2018-07-10 04:00:00</th>\n",
       "      <td>113</td>\n",
       "    </tr>\n",
       "    <tr>\n",
       "      <th>2018-08-28 04:00:00</th>\n",
       "      <td>106</td>\n",
       "    </tr>\n",
       "    <tr>\n",
       "      <th>2018-04-08 03:00:00</th>\n",
       "      <td>53</td>\n",
       "    </tr>\n",
       "    <tr>\n",
       "      <th>2018-06-11 12:00:00</th>\n",
       "      <td>60</td>\n",
       "    </tr>\n",
       "    <tr>\n",
       "      <th>2018-08-20 02:00:00</th>\n",
       "      <td>462</td>\n",
       "    </tr>\n",
       "    <tr>\n",
       "      <th>2018-08-07 10:00:00</th>\n",
       "      <td>99</td>\n",
       "    </tr>\n",
       "    <tr>\n",
       "      <th>2018-05-09 21:00:00</th>\n",
       "      <td>72</td>\n",
       "    </tr>\n",
       "    <tr>\n",
       "      <th>2018-05-31 03:00:00</th>\n",
       "      <td>92</td>\n",
       "    </tr>\n",
       "  </tbody>\n",
       "</table>\n",
       "</div>"
      ],
      "text/plain": [
       "                     num_orders\n",
       "datetime                       \n",
       "2018-03-01 13:00:00          32\n",
       "2018-03-25 16:00:00          90\n",
       "2018-07-10 04:00:00         113\n",
       "2018-08-28 04:00:00         106\n",
       "2018-04-08 03:00:00          53\n",
       "2018-06-11 12:00:00          60\n",
       "2018-08-20 02:00:00         462\n",
       "2018-08-07 10:00:00          99\n",
       "2018-05-09 21:00:00          72\n",
       "2018-05-31 03:00:00          92"
      ]
     },
     "metadata": {},
     "output_type": "display_data"
    }
   ],
   "source": [
    "display(data.sample(10))"
   ]
  },
  {
   "cell_type": "code",
   "execution_count": 75,
   "metadata": {},
   "outputs": [],
   "source": [
    "# приводим dataframe к нужному формату\n",
    "df = data.reset_index()[['datetime', 'num_orders']]\n",
    "df.columns = ['ds', 'y']\n",
    "\n",
    "# выделим train и test\n",
    "test_size = int(df.shape[0] * 0.1)\n",
    "train_df = df[:-test_size]\n",
    "train_size = int(train_df.shape[0])\n",
    "test_df = df[train_size:]"
   ]
  },
  {
   "cell_type": "code",
   "execution_count": 76,
   "metadata": {},
   "outputs": [
    {
     "data": {
      "text/html": [
       "<div>\n",
       "<style scoped>\n",
       "    .dataframe tbody tr th:only-of-type {\n",
       "        vertical-align: middle;\n",
       "    }\n",
       "\n",
       "    .dataframe tbody tr th {\n",
       "        vertical-align: top;\n",
       "    }\n",
       "\n",
       "    .dataframe thead th {\n",
       "        text-align: right;\n",
       "    }\n",
       "</style>\n",
       "<table border=\"1\" class=\"dataframe\">\n",
       "  <thead>\n",
       "    <tr style=\"text-align: right;\">\n",
       "      <th></th>\n",
       "      <th>ds</th>\n",
       "      <th>y</th>\n",
       "    </tr>\n",
       "  </thead>\n",
       "  <tbody>\n",
       "    <tr>\n",
       "      <th>3970</th>\n",
       "      <td>2018-08-13 10:00:00</td>\n",
       "      <td>156</td>\n",
       "    </tr>\n",
       "    <tr>\n",
       "      <th>3971</th>\n",
       "      <td>2018-08-13 11:00:00</td>\n",
       "      <td>144</td>\n",
       "    </tr>\n",
       "    <tr>\n",
       "      <th>3972</th>\n",
       "      <td>2018-08-13 12:00:00</td>\n",
       "      <td>92</td>\n",
       "    </tr>\n",
       "    <tr>\n",
       "      <th>3973</th>\n",
       "      <td>2018-08-13 13:00:00</td>\n",
       "      <td>119</td>\n",
       "    </tr>\n",
       "    <tr>\n",
       "      <th>3974</th>\n",
       "      <td>2018-08-13 14:00:00</td>\n",
       "      <td>102</td>\n",
       "    </tr>\n",
       "  </tbody>\n",
       "</table>\n",
       "</div>"
      ],
      "text/plain": [
       "                      ds    y\n",
       "3970 2018-08-13 10:00:00  156\n",
       "3971 2018-08-13 11:00:00  144\n",
       "3972 2018-08-13 12:00:00   92\n",
       "3973 2018-08-13 13:00:00  119\n",
       "3974 2018-08-13 14:00:00  102"
      ]
     },
     "metadata": {},
     "output_type": "display_data"
    }
   ],
   "source": [
    "display(train_df.tail())"
   ]
  },
  {
   "cell_type": "code",
   "execution_count": 77,
   "metadata": {},
   "outputs": [
    {
     "data": {
      "text/html": [
       "<div>\n",
       "<style scoped>\n",
       "    .dataframe tbody tr th:only-of-type {\n",
       "        vertical-align: middle;\n",
       "    }\n",
       "\n",
       "    .dataframe tbody tr th {\n",
       "        vertical-align: top;\n",
       "    }\n",
       "\n",
       "    .dataframe thead th {\n",
       "        text-align: right;\n",
       "    }\n",
       "</style>\n",
       "<table border=\"1\" class=\"dataframe\">\n",
       "  <thead>\n",
       "    <tr style=\"text-align: right;\">\n",
       "      <th></th>\n",
       "      <th>ds</th>\n",
       "      <th>y</th>\n",
       "    </tr>\n",
       "  </thead>\n",
       "  <tbody>\n",
       "    <tr>\n",
       "      <th>3975</th>\n",
       "      <td>2018-08-13 15:00:00</td>\n",
       "      <td>175</td>\n",
       "    </tr>\n",
       "    <tr>\n",
       "      <th>3976</th>\n",
       "      <td>2018-08-13 16:00:00</td>\n",
       "      <td>144</td>\n",
       "    </tr>\n",
       "    <tr>\n",
       "      <th>3977</th>\n",
       "      <td>2018-08-13 17:00:00</td>\n",
       "      <td>152</td>\n",
       "    </tr>\n",
       "    <tr>\n",
       "      <th>3978</th>\n",
       "      <td>2018-08-13 18:00:00</td>\n",
       "      <td>104</td>\n",
       "    </tr>\n",
       "    <tr>\n",
       "      <th>3979</th>\n",
       "      <td>2018-08-13 19:00:00</td>\n",
       "      <td>91</td>\n",
       "    </tr>\n",
       "  </tbody>\n",
       "</table>\n",
       "</div>"
      ],
      "text/plain": [
       "                      ds    y\n",
       "3975 2018-08-13 15:00:00  175\n",
       "3976 2018-08-13 16:00:00  144\n",
       "3977 2018-08-13 17:00:00  152\n",
       "3978 2018-08-13 18:00:00  104\n",
       "3979 2018-08-13 19:00:00   91"
      ]
     },
     "metadata": {},
     "output_type": "display_data"
    }
   ],
   "source": [
    "display(test_df.head())"
   ]
  },
  {
   "cell_type": "code",
   "execution_count": 78,
   "metadata": {},
   "outputs": [
    {
     "name": "stderr",
     "output_type": "stream",
     "text": [
      "13:57:28 - cmdstanpy - INFO - Chain [1] start processing\n",
      "13:57:29 - cmdstanpy - INFO - Chain [1] done processing\n"
     ]
    },
    {
     "data": {
      "text/plain": [
       "<prophet.forecaster.Prophet at 0x7f6ed5b35f70>"
      ]
     },
     "execution_count": 78,
     "metadata": {},
     "output_type": "execute_result"
    }
   ],
   "source": [
    "m = Prophet(daily_seasonality=True) # создали модель с дневной сезонностью\n",
    "m.add_country_holidays(country_name='RU') # добавили даты праздников РФ\n",
    "m.fit(train_df) # обучили"
   ]
  },
  {
   "cell_type": "code",
   "execution_count": 80,
   "metadata": {},
   "outputs": [],
   "source": [
    "predictions_prop = m.predict(train_df)"
   ]
  },
  {
   "cell_type": "code",
   "execution_count": 81,
   "metadata": {},
   "outputs": [
    {
     "data": {
      "text/html": [
       "<div>\n",
       "<style scoped>\n",
       "    .dataframe tbody tr th:only-of-type {\n",
       "        vertical-align: middle;\n",
       "    }\n",
       "\n",
       "    .dataframe tbody tr th {\n",
       "        vertical-align: top;\n",
       "    }\n",
       "\n",
       "    .dataframe thead th {\n",
       "        text-align: right;\n",
       "    }\n",
       "</style>\n",
       "<table border=\"1\" class=\"dataframe\">\n",
       "  <thead>\n",
       "    <tr style=\"text-align: right;\">\n",
       "      <th></th>\n",
       "      <th>ds</th>\n",
       "      <th>trend</th>\n",
       "      <th>yhat_lower</th>\n",
       "      <th>yhat_upper</th>\n",
       "      <th>trend_lower</th>\n",
       "      <th>trend_upper</th>\n",
       "      <th>Christmas Day</th>\n",
       "      <th>Christmas Day_lower</th>\n",
       "      <th>Christmas Day_upper</th>\n",
       "      <th>Defender of the Fatherland Day</th>\n",
       "      <th>...</th>\n",
       "      <th>holidays</th>\n",
       "      <th>holidays_lower</th>\n",
       "      <th>holidays_upper</th>\n",
       "      <th>weekly</th>\n",
       "      <th>weekly_lower</th>\n",
       "      <th>weekly_upper</th>\n",
       "      <th>multiplicative_terms</th>\n",
       "      <th>multiplicative_terms_lower</th>\n",
       "      <th>multiplicative_terms_upper</th>\n",
       "      <th>yhat</th>\n",
       "    </tr>\n",
       "  </thead>\n",
       "  <tbody>\n",
       "    <tr>\n",
       "      <th>0</th>\n",
       "      <td>2018-03-01 00:00:00</td>\n",
       "      <td>53.548232</td>\n",
       "      <td>56.725651</td>\n",
       "      <td>117.034598</td>\n",
       "      <td>53.548232</td>\n",
       "      <td>53.548232</td>\n",
       "      <td>0.0</td>\n",
       "      <td>0.0</td>\n",
       "      <td>0.0</td>\n",
       "      <td>0.0</td>\n",
       "      <td>...</td>\n",
       "      <td>0.0</td>\n",
       "      <td>0.0</td>\n",
       "      <td>0.0</td>\n",
       "      <td>1.996802</td>\n",
       "      <td>1.996802</td>\n",
       "      <td>1.996802</td>\n",
       "      <td>0.0</td>\n",
       "      <td>0.0</td>\n",
       "      <td>0.0</td>\n",
       "      <td>87.655750</td>\n",
       "    </tr>\n",
       "    <tr>\n",
       "      <th>1</th>\n",
       "      <td>2018-03-01 01:00:00</td>\n",
       "      <td>53.555541</td>\n",
       "      <td>56.763918</td>\n",
       "      <td>118.135352</td>\n",
       "      <td>53.555541</td>\n",
       "      <td>53.555541</td>\n",
       "      <td>0.0</td>\n",
       "      <td>0.0</td>\n",
       "      <td>0.0</td>\n",
       "      <td>0.0</td>\n",
       "      <td>...</td>\n",
       "      <td>0.0</td>\n",
       "      <td>0.0</td>\n",
       "      <td>0.0</td>\n",
       "      <td>1.447248</td>\n",
       "      <td>1.447248</td>\n",
       "      <td>1.447248</td>\n",
       "      <td>0.0</td>\n",
       "      <td>0.0</td>\n",
       "      <td>0.0</td>\n",
       "      <td>87.699337</td>\n",
       "    </tr>\n",
       "    <tr>\n",
       "      <th>2</th>\n",
       "      <td>2018-03-01 02:00:00</td>\n",
       "      <td>53.562850</td>\n",
       "      <td>53.287381</td>\n",
       "      <td>115.988030</td>\n",
       "      <td>53.562850</td>\n",
       "      <td>53.562850</td>\n",
       "      <td>0.0</td>\n",
       "      <td>0.0</td>\n",
       "      <td>0.0</td>\n",
       "      <td>0.0</td>\n",
       "      <td>...</td>\n",
       "      <td>0.0</td>\n",
       "      <td>0.0</td>\n",
       "      <td>0.0</td>\n",
       "      <td>0.872026</td>\n",
       "      <td>0.872026</td>\n",
       "      <td>0.872026</td>\n",
       "      <td>0.0</td>\n",
       "      <td>0.0</td>\n",
       "      <td>0.0</td>\n",
       "      <td>83.780927</td>\n",
       "    </tr>\n",
       "    <tr>\n",
       "      <th>3</th>\n",
       "      <td>2018-03-01 03:00:00</td>\n",
       "      <td>53.570158</td>\n",
       "      <td>39.032228</td>\n",
       "      <td>100.629403</td>\n",
       "      <td>53.570158</td>\n",
       "      <td>53.570158</td>\n",
       "      <td>0.0</td>\n",
       "      <td>0.0</td>\n",
       "      <td>0.0</td>\n",
       "      <td>0.0</td>\n",
       "      <td>...</td>\n",
       "      <td>0.0</td>\n",
       "      <td>0.0</td>\n",
       "      <td>0.0</td>\n",
       "      <td>0.281472</td>\n",
       "      <td>0.281472</td>\n",
       "      <td>0.281472</td>\n",
       "      <td>0.0</td>\n",
       "      <td>0.0</td>\n",
       "      <td>0.0</td>\n",
       "      <td>69.665777</td>\n",
       "    </tr>\n",
       "    <tr>\n",
       "      <th>4</th>\n",
       "      <td>2018-03-01 04:00:00</td>\n",
       "      <td>53.577467</td>\n",
       "      <td>11.450894</td>\n",
       "      <td>74.240124</td>\n",
       "      <td>53.577467</td>\n",
       "      <td>53.577467</td>\n",
       "      <td>0.0</td>\n",
       "      <td>0.0</td>\n",
       "      <td>0.0</td>\n",
       "      <td>0.0</td>\n",
       "      <td>...</td>\n",
       "      <td>0.0</td>\n",
       "      <td>0.0</td>\n",
       "      <td>0.0</td>\n",
       "      <td>-0.313880</td>\n",
       "      <td>-0.313880</td>\n",
       "      <td>-0.313880</td>\n",
       "      <td>0.0</td>\n",
       "      <td>0.0</td>\n",
       "      <td>0.0</td>\n",
       "      <td>43.784922</td>\n",
       "    </tr>\n",
       "    <tr>\n",
       "      <th>...</th>\n",
       "      <td>...</td>\n",
       "      <td>...</td>\n",
       "      <td>...</td>\n",
       "      <td>...</td>\n",
       "      <td>...</td>\n",
       "      <td>...</td>\n",
       "      <td>...</td>\n",
       "      <td>...</td>\n",
       "      <td>...</td>\n",
       "      <td>...</td>\n",
       "      <td>...</td>\n",
       "      <td>...</td>\n",
       "      <td>...</td>\n",
       "      <td>...</td>\n",
       "      <td>...</td>\n",
       "      <td>...</td>\n",
       "      <td>...</td>\n",
       "      <td>...</td>\n",
       "      <td>...</td>\n",
       "      <td>...</td>\n",
       "      <td>...</td>\n",
       "    </tr>\n",
       "    <tr>\n",
       "      <th>3970</th>\n",
       "      <td>2018-08-13 10:00:00</td>\n",
       "      <td>115.086686</td>\n",
       "      <td>103.098576</td>\n",
       "      <td>166.182522</td>\n",
       "      <td>115.086686</td>\n",
       "      <td>115.086686</td>\n",
       "      <td>0.0</td>\n",
       "      <td>0.0</td>\n",
       "      <td>0.0</td>\n",
       "      <td>0.0</td>\n",
       "      <td>...</td>\n",
       "      <td>0.0</td>\n",
       "      <td>0.0</td>\n",
       "      <td>0.0</td>\n",
       "      <td>8.143550</td>\n",
       "      <td>8.143550</td>\n",
       "      <td>8.143550</td>\n",
       "      <td>0.0</td>\n",
       "      <td>0.0</td>\n",
       "      <td>0.0</td>\n",
       "      <td>133.654988</td>\n",
       "    </tr>\n",
       "    <tr>\n",
       "      <th>3971</th>\n",
       "      <td>2018-08-13 11:00:00</td>\n",
       "      <td>115.110172</td>\n",
       "      <td>91.740775</td>\n",
       "      <td>154.899930</td>\n",
       "      <td>115.110172</td>\n",
       "      <td>115.110172</td>\n",
       "      <td>0.0</td>\n",
       "      <td>0.0</td>\n",
       "      <td>0.0</td>\n",
       "      <td>0.0</td>\n",
       "      <td>...</td>\n",
       "      <td>0.0</td>\n",
       "      <td>0.0</td>\n",
       "      <td>0.0</td>\n",
       "      <td>7.522273</td>\n",
       "      <td>7.522273</td>\n",
       "      <td>7.522273</td>\n",
       "      <td>0.0</td>\n",
       "      <td>0.0</td>\n",
       "      <td>0.0</td>\n",
       "      <td>122.263007</td>\n",
       "    </tr>\n",
       "    <tr>\n",
       "      <th>3972</th>\n",
       "      <td>2018-08-13 12:00:00</td>\n",
       "      <td>115.133657</td>\n",
       "      <td>75.920200</td>\n",
       "      <td>138.794265</td>\n",
       "      <td>115.133657</td>\n",
       "      <td>115.133657</td>\n",
       "      <td>0.0</td>\n",
       "      <td>0.0</td>\n",
       "      <td>0.0</td>\n",
       "      <td>0.0</td>\n",
       "      <td>...</td>\n",
       "      <td>0.0</td>\n",
       "      <td>0.0</td>\n",
       "      <td>0.0</td>\n",
       "      <td>6.801106</td>\n",
       "      <td>6.801106</td>\n",
       "      <td>6.801106</td>\n",
       "      <td>0.0</td>\n",
       "      <td>0.0</td>\n",
       "      <td>0.0</td>\n",
       "      <td>107.128285</td>\n",
       "    </tr>\n",
       "    <tr>\n",
       "      <th>3973</th>\n",
       "      <td>2018-08-13 13:00:00</td>\n",
       "      <td>115.157142</td>\n",
       "      <td>72.206683</td>\n",
       "      <td>137.035213</td>\n",
       "      <td>115.157142</td>\n",
       "      <td>115.157142</td>\n",
       "      <td>0.0</td>\n",
       "      <td>0.0</td>\n",
       "      <td>0.0</td>\n",
       "      <td>0.0</td>\n",
       "      <td>...</td>\n",
       "      <td>0.0</td>\n",
       "      <td>0.0</td>\n",
       "      <td>0.0</td>\n",
       "      <td>5.987902</td>\n",
       "      <td>5.987902</td>\n",
       "      <td>5.987902</td>\n",
       "      <td>0.0</td>\n",
       "      <td>0.0</td>\n",
       "      <td>0.0</td>\n",
       "      <td>103.615668</td>\n",
       "    </tr>\n",
       "    <tr>\n",
       "      <th>3974</th>\n",
       "      <td>2018-08-13 14:00:00</td>\n",
       "      <td>115.180627</td>\n",
       "      <td>83.624319</td>\n",
       "      <td>145.454503</td>\n",
       "      <td>115.180627</td>\n",
       "      <td>115.180627</td>\n",
       "      <td>0.0</td>\n",
       "      <td>0.0</td>\n",
       "      <td>0.0</td>\n",
       "      <td>0.0</td>\n",
       "      <td>...</td>\n",
       "      <td>0.0</td>\n",
       "      <td>0.0</td>\n",
       "      <td>0.0</td>\n",
       "      <td>5.091591</td>\n",
       "      <td>5.091591</td>\n",
       "      <td>5.091591</td>\n",
       "      <td>0.0</td>\n",
       "      <td>0.0</td>\n",
       "      <td>0.0</td>\n",
       "      <td>114.918390</td>\n",
       "    </tr>\n",
       "  </tbody>\n",
       "</table>\n",
       "<p>3975 rows × 52 columns</p>\n",
       "</div>"
      ],
      "text/plain": [
       "                      ds       trend  yhat_lower  yhat_upper  trend_lower  \\\n",
       "0    2018-03-01 00:00:00   53.548232   56.725651  117.034598    53.548232   \n",
       "1    2018-03-01 01:00:00   53.555541   56.763918  118.135352    53.555541   \n",
       "2    2018-03-01 02:00:00   53.562850   53.287381  115.988030    53.562850   \n",
       "3    2018-03-01 03:00:00   53.570158   39.032228  100.629403    53.570158   \n",
       "4    2018-03-01 04:00:00   53.577467   11.450894   74.240124    53.577467   \n",
       "...                  ...         ...         ...         ...          ...   \n",
       "3970 2018-08-13 10:00:00  115.086686  103.098576  166.182522   115.086686   \n",
       "3971 2018-08-13 11:00:00  115.110172   91.740775  154.899930   115.110172   \n",
       "3972 2018-08-13 12:00:00  115.133657   75.920200  138.794265   115.133657   \n",
       "3973 2018-08-13 13:00:00  115.157142   72.206683  137.035213   115.157142   \n",
       "3974 2018-08-13 14:00:00  115.180627   83.624319  145.454503   115.180627   \n",
       "\n",
       "      trend_upper  Christmas Day  Christmas Day_lower  Christmas Day_upper  \\\n",
       "0       53.548232            0.0                  0.0                  0.0   \n",
       "1       53.555541            0.0                  0.0                  0.0   \n",
       "2       53.562850            0.0                  0.0                  0.0   \n",
       "3       53.570158            0.0                  0.0                  0.0   \n",
       "4       53.577467            0.0                  0.0                  0.0   \n",
       "...           ...            ...                  ...                  ...   \n",
       "3970   115.086686            0.0                  0.0                  0.0   \n",
       "3971   115.110172            0.0                  0.0                  0.0   \n",
       "3972   115.133657            0.0                  0.0                  0.0   \n",
       "3973   115.157142            0.0                  0.0                  0.0   \n",
       "3974   115.180627            0.0                  0.0                  0.0   \n",
       "\n",
       "      Defender of the Fatherland Day  ...  holidays  holidays_lower  \\\n",
       "0                                0.0  ...       0.0             0.0   \n",
       "1                                0.0  ...       0.0             0.0   \n",
       "2                                0.0  ...       0.0             0.0   \n",
       "3                                0.0  ...       0.0             0.0   \n",
       "4                                0.0  ...       0.0             0.0   \n",
       "...                              ...  ...       ...             ...   \n",
       "3970                             0.0  ...       0.0             0.0   \n",
       "3971                             0.0  ...       0.0             0.0   \n",
       "3972                             0.0  ...       0.0             0.0   \n",
       "3973                             0.0  ...       0.0             0.0   \n",
       "3974                             0.0  ...       0.0             0.0   \n",
       "\n",
       "      holidays_upper    weekly  weekly_lower  weekly_upper  \\\n",
       "0                0.0  1.996802      1.996802      1.996802   \n",
       "1                0.0  1.447248      1.447248      1.447248   \n",
       "2                0.0  0.872026      0.872026      0.872026   \n",
       "3                0.0  0.281472      0.281472      0.281472   \n",
       "4                0.0 -0.313880     -0.313880     -0.313880   \n",
       "...              ...       ...           ...           ...   \n",
       "3970             0.0  8.143550      8.143550      8.143550   \n",
       "3971             0.0  7.522273      7.522273      7.522273   \n",
       "3972             0.0  6.801106      6.801106      6.801106   \n",
       "3973             0.0  5.987902      5.987902      5.987902   \n",
       "3974             0.0  5.091591      5.091591      5.091591   \n",
       "\n",
       "      multiplicative_terms  multiplicative_terms_lower  \\\n",
       "0                      0.0                         0.0   \n",
       "1                      0.0                         0.0   \n",
       "2                      0.0                         0.0   \n",
       "3                      0.0                         0.0   \n",
       "4                      0.0                         0.0   \n",
       "...                    ...                         ...   \n",
       "3970                   0.0                         0.0   \n",
       "3971                   0.0                         0.0   \n",
       "3972                   0.0                         0.0   \n",
       "3973                   0.0                         0.0   \n",
       "3974                   0.0                         0.0   \n",
       "\n",
       "      multiplicative_terms_upper        yhat  \n",
       "0                            0.0   87.655750  \n",
       "1                            0.0   87.699337  \n",
       "2                            0.0   83.780927  \n",
       "3                            0.0   69.665777  \n",
       "4                            0.0   43.784922  \n",
       "...                          ...         ...  \n",
       "3970                         0.0  133.654988  \n",
       "3971                         0.0  122.263007  \n",
       "3972                         0.0  107.128285  \n",
       "3973                         0.0  103.615668  \n",
       "3974                         0.0  114.918390  \n",
       "\n",
       "[3975 rows x 52 columns]"
      ]
     },
     "execution_count": 81,
     "metadata": {},
     "output_type": "execute_result"
    }
   ],
   "source": [
    "predictions_prop"
   ]
  },
  {
   "cell_type": "code",
   "execution_count": 82,
   "metadata": {},
   "outputs": [
    {
     "name": "stdout",
     "output_type": "stream",
     "text": [
      "RMSE model_3 - Prophet: 25\n"
     ]
    }
   ],
   "source": [
    "print(\"RMSE model_3 - Prophet:\", round(mean_squared_error(train_df['y'], predictions_prop['yhat'])**0.5))"
   ]
  },
  {
   "cell_type": "code",
   "execution_count": 84,
   "metadata": {},
   "outputs": [],
   "source": [
    "# кроссвалидация для Propet не работает\n",
    "# scores_prop = cross_val_score(m, train_df['ds'], train_df['y'], cv=10, scoring='neg_root_mean_squared_error') \n",
    "# final_score_prop = sum(abs(scores_prop))/len(scores_prop) \n",
    "\n",
    "# print('Средняя RMSE линейной регрессии:', round(final_score))"
   ]
  },
  {
   "cell_type": "markdown",
   "metadata": {},
   "source": [
    "Тут инструкция как<br>\n",
    "https://facebook.github.io/prophet/docs/diagnostics.html\n"
   ]
  },
  {
   "cell_type": "code",
   "execution_count": 88,
   "metadata": {},
   "outputs": [
    {
     "data": {
      "application/vnd.jupyter.widget-view+json": {
       "model_id": "db7a44fdf1ae467c97ce21dffccd9fc1",
       "version_major": 2,
       "version_minor": 0
      },
      "text/plain": [
       "  0%|          | 0/22 [00:00<?, ?it/s]"
      ]
     },
     "metadata": {},
     "output_type": "display_data"
    },
    {
     "name": "stderr",
     "output_type": "stream",
     "text": [
      "14:26:16 - cmdstanpy - INFO - Chain [1] start processing\n",
      "14:26:17 - cmdstanpy - INFO - Chain [1] done processing\n",
      "14:26:17 - cmdstanpy - INFO - Chain [1] start processing\n",
      "14:26:18 - cmdstanpy - INFO - Chain [1] done processing\n",
      "14:26:18 - cmdstanpy - INFO - Chain [1] start processing\n",
      "14:26:19 - cmdstanpy - INFO - Chain [1] done processing\n",
      "14:26:19 - cmdstanpy - INFO - Chain [1] start processing\n",
      "14:26:20 - cmdstanpy - INFO - Chain [1] done processing\n",
      "14:26:20 - cmdstanpy - INFO - Chain [1] start processing\n",
      "14:26:21 - cmdstanpy - INFO - Chain [1] done processing\n",
      "14:26:21 - cmdstanpy - INFO - Chain [1] start processing\n",
      "14:26:22 - cmdstanpy - INFO - Chain [1] done processing\n",
      "14:26:22 - cmdstanpy - INFO - Chain [1] start processing\n",
      "14:26:23 - cmdstanpy - INFO - Chain [1] done processing\n",
      "14:26:23 - cmdstanpy - INFO - Chain [1] start processing\n",
      "14:26:24 - cmdstanpy - INFO - Chain [1] done processing\n",
      "14:26:24 - cmdstanpy - INFO - Chain [1] start processing\n",
      "14:26:25 - cmdstanpy - INFO - Chain [1] done processing\n",
      "14:26:25 - cmdstanpy - INFO - Chain [1] start processing\n",
      "14:26:26 - cmdstanpy - INFO - Chain [1] done processing\n",
      "14:26:26 - cmdstanpy - INFO - Chain [1] start processing\n",
      "14:26:27 - cmdstanpy - INFO - Chain [1] done processing\n",
      "14:26:28 - cmdstanpy - INFO - Chain [1] start processing\n",
      "14:26:28 - cmdstanpy - INFO - Chain [1] done processing\n",
      "14:26:29 - cmdstanpy - INFO - Chain [1] start processing\n",
      "14:26:29 - cmdstanpy - INFO - Chain [1] done processing\n",
      "14:26:30 - cmdstanpy - INFO - Chain [1] start processing\n",
      "14:26:31 - cmdstanpy - INFO - Chain [1] done processing\n",
      "14:26:31 - cmdstanpy - INFO - Chain [1] start processing\n",
      "14:26:32 - cmdstanpy - INFO - Chain [1] done processing\n",
      "14:26:32 - cmdstanpy - INFO - Chain [1] start processing\n",
      "14:26:33 - cmdstanpy - INFO - Chain [1] done processing\n",
      "14:26:33 - cmdstanpy - INFO - Chain [1] start processing\n",
      "14:26:34 - cmdstanpy - INFO - Chain [1] done processing\n",
      "14:26:35 - cmdstanpy - INFO - Chain [1] start processing\n",
      "14:26:36 - cmdstanpy - INFO - Chain [1] done processing\n",
      "14:26:36 - cmdstanpy - INFO - Chain [1] start processing\n",
      "14:26:37 - cmdstanpy - INFO - Chain [1] done processing\n",
      "14:26:37 - cmdstanpy - INFO - Chain [1] start processing\n",
      "14:26:38 - cmdstanpy - INFO - Chain [1] done processing\n",
      "14:26:38 - cmdstanpy - INFO - Chain [1] start processing\n",
      "14:26:39 - cmdstanpy - INFO - Chain [1] done processing\n",
      "14:26:40 - cmdstanpy - INFO - Chain [1] start processing\n",
      "14:26:41 - cmdstanpy - INFO - Chain [1] done processing\n"
     ]
    }
   ],
   "source": [
    "from prophet.diagnostics import cross_validation\n",
    "df_cv = cross_validation(m, initial = '14 days', period = '7 days', horizon = '1 days')\n"
   ]
  },
  {
   "cell_type": "code",
   "execution_count": 89,
   "metadata": {
    "scrolled": true
   },
   "outputs": [
    {
     "data": {
      "text/html": [
       "<div>\n",
       "<style scoped>\n",
       "    .dataframe tbody tr th:only-of-type {\n",
       "        vertical-align: middle;\n",
       "    }\n",
       "\n",
       "    .dataframe tbody tr th {\n",
       "        vertical-align: top;\n",
       "    }\n",
       "\n",
       "    .dataframe thead th {\n",
       "        text-align: right;\n",
       "    }\n",
       "</style>\n",
       "<table border=\"1\" class=\"dataframe\">\n",
       "  <thead>\n",
       "    <tr style=\"text-align: right;\">\n",
       "      <th></th>\n",
       "      <th>ds</th>\n",
       "      <th>yhat</th>\n",
       "      <th>yhat_lower</th>\n",
       "      <th>yhat_upper</th>\n",
       "      <th>y</th>\n",
       "      <th>cutoff</th>\n",
       "    </tr>\n",
       "  </thead>\n",
       "  <tbody>\n",
       "    <tr>\n",
       "      <th>0</th>\n",
       "      <td>2018-03-18 15:00:00</td>\n",
       "      <td>66.623964</td>\n",
       "      <td>42.536152</td>\n",
       "      <td>91.445230</td>\n",
       "      <td>72</td>\n",
       "      <td>2018-03-18 14:00:00</td>\n",
       "    </tr>\n",
       "    <tr>\n",
       "      <th>1</th>\n",
       "      <td>2018-03-18 16:00:00</td>\n",
       "      <td>73.189093</td>\n",
       "      <td>49.095635</td>\n",
       "      <td>98.096911</td>\n",
       "      <td>52</td>\n",
       "      <td>2018-03-18 14:00:00</td>\n",
       "    </tr>\n",
       "    <tr>\n",
       "      <th>2</th>\n",
       "      <td>2018-03-18 17:00:00</td>\n",
       "      <td>75.026450</td>\n",
       "      <td>51.339980</td>\n",
       "      <td>97.952510</td>\n",
       "      <td>40</td>\n",
       "      <td>2018-03-18 14:00:00</td>\n",
       "    </tr>\n",
       "    <tr>\n",
       "      <th>3</th>\n",
       "      <td>2018-03-18 18:00:00</td>\n",
       "      <td>74.415525</td>\n",
       "      <td>49.952985</td>\n",
       "      <td>98.603832</td>\n",
       "      <td>75</td>\n",
       "      <td>2018-03-18 14:00:00</td>\n",
       "    </tr>\n",
       "    <tr>\n",
       "      <th>4</th>\n",
       "      <td>2018-03-18 19:00:00</td>\n",
       "      <td>75.584358</td>\n",
       "      <td>50.619092</td>\n",
       "      <td>98.533032</td>\n",
       "      <td>66</td>\n",
       "      <td>2018-03-18 14:00:00</td>\n",
       "    </tr>\n",
       "    <tr>\n",
       "      <th>...</th>\n",
       "      <td>...</td>\n",
       "      <td>...</td>\n",
       "      <td>...</td>\n",
       "      <td>...</td>\n",
       "      <td>...</td>\n",
       "      <td>...</td>\n",
       "    </tr>\n",
       "    <tr>\n",
       "      <th>523</th>\n",
       "      <td>2018-08-13 10:00:00</td>\n",
       "      <td>131.434486</td>\n",
       "      <td>101.386341</td>\n",
       "      <td>161.922102</td>\n",
       "      <td>156</td>\n",
       "      <td>2018-08-12 14:00:00</td>\n",
       "    </tr>\n",
       "    <tr>\n",
       "      <th>524</th>\n",
       "      <td>2018-08-13 11:00:00</td>\n",
       "      <td>120.161457</td>\n",
       "      <td>89.429397</td>\n",
       "      <td>151.361075</td>\n",
       "      <td>144</td>\n",
       "      <td>2018-08-12 14:00:00</td>\n",
       "    </tr>\n",
       "    <tr>\n",
       "      <th>525</th>\n",
       "      <td>2018-08-13 12:00:00</td>\n",
       "      <td>105.085868</td>\n",
       "      <td>74.876767</td>\n",
       "      <td>135.442188</td>\n",
       "      <td>92</td>\n",
       "      <td>2018-08-12 14:00:00</td>\n",
       "    </tr>\n",
       "    <tr>\n",
       "      <th>526</th>\n",
       "      <td>2018-08-13 13:00:00</td>\n",
       "      <td>101.546290</td>\n",
       "      <td>67.019330</td>\n",
       "      <td>132.697630</td>\n",
       "      <td>119</td>\n",
       "      <td>2018-08-12 14:00:00</td>\n",
       "    </tr>\n",
       "    <tr>\n",
       "      <th>527</th>\n",
       "      <td>2018-08-13 14:00:00</td>\n",
       "      <td>112.814618</td>\n",
       "      <td>82.710561</td>\n",
       "      <td>143.322231</td>\n",
       "      <td>102</td>\n",
       "      <td>2018-08-12 14:00:00</td>\n",
       "    </tr>\n",
       "  </tbody>\n",
       "</table>\n",
       "<p>528 rows × 6 columns</p>\n",
       "</div>"
      ],
      "text/plain": [
       "                     ds        yhat  yhat_lower  yhat_upper    y  \\\n",
       "0   2018-03-18 15:00:00   66.623964   42.536152   91.445230   72   \n",
       "1   2018-03-18 16:00:00   73.189093   49.095635   98.096911   52   \n",
       "2   2018-03-18 17:00:00   75.026450   51.339980   97.952510   40   \n",
       "3   2018-03-18 18:00:00   74.415525   49.952985   98.603832   75   \n",
       "4   2018-03-18 19:00:00   75.584358   50.619092   98.533032   66   \n",
       "..                  ...         ...         ...         ...  ...   \n",
       "523 2018-08-13 10:00:00  131.434486  101.386341  161.922102  156   \n",
       "524 2018-08-13 11:00:00  120.161457   89.429397  151.361075  144   \n",
       "525 2018-08-13 12:00:00  105.085868   74.876767  135.442188   92   \n",
       "526 2018-08-13 13:00:00  101.546290   67.019330  132.697630  119   \n",
       "527 2018-08-13 14:00:00  112.814618   82.710561  143.322231  102   \n",
       "\n",
       "                 cutoff  \n",
       "0   2018-03-18 14:00:00  \n",
       "1   2018-03-18 14:00:00  \n",
       "2   2018-03-18 14:00:00  \n",
       "3   2018-03-18 14:00:00  \n",
       "4   2018-03-18 14:00:00  \n",
       "..                  ...  \n",
       "523 2018-08-12 14:00:00  \n",
       "524 2018-08-12 14:00:00  \n",
       "525 2018-08-12 14:00:00  \n",
       "526 2018-08-12 14:00:00  \n",
       "527 2018-08-12 14:00:00  \n",
       "\n",
       "[528 rows x 6 columns]"
      ]
     },
     "execution_count": 89,
     "metadata": {},
     "output_type": "execute_result"
    }
   ],
   "source": [
    "df_cv"
   ]
  },
  {
   "cell_type": "code",
   "execution_count": 90,
   "metadata": {},
   "outputs": [],
   "source": [
    "# добавили столбец с рассчетом RMSE\n",
    "df_cv['RMSE'] = round(mean_squared_error(df_cv['y'], df_cv['yhat'])**0.5)"
   ]
  },
  {
   "cell_type": "code",
   "execution_count": 91,
   "metadata": {},
   "outputs": [],
   "source": [
    "final_score_prop = sum(df_cv['RMSE'])/len(df_cv['RMSE'])\n"
   ]
  },
  {
   "cell_type": "code",
   "execution_count": 93,
   "metadata": {},
   "outputs": [
    {
     "name": "stdout",
     "output_type": "stream",
     "text": [
      "средний RMSE по cv model_3 - Prophet: 30.0\n"
     ]
    }
   ],
   "source": [
    "print(\"средний RMSE по cv model_3 - Prophet:\", final_score_prop)"
   ]
  },
  {
   "cell_type": "markdown",
   "metadata": {},
   "source": [
    "Средний RMSE по cv model_1 LinearRegression: 32 <br>\n",
    "Средний RMSE по cv model_2 - CatBoostRegressor: 26 <br>\n",
    "Средний RMSE по cv model_3 - Prophet: 30.0"
   ]
  },
  {
   "cell_type": "markdown",
   "metadata": {},
   "source": [
    "**Лучшая модель - CatBoostRegressor**"
   ]
  },
  {
   "cell_type": "markdown",
   "metadata": {},
   "source": [
    "### Проверка на адекватность"
   ]
  },
  {
   "cell_type": "markdown",
   "metadata": {},
   "source": [
    "Сравним с RMSE dummy_model, которая предсказывает суммарное количество заказов в следующий час по значению предыдущего часа. "
   ]
  },
  {
   "cell_type": "code",
   "execution_count": 95,
   "metadata": {},
   "outputs": [],
   "source": [
    "pred_previous = target_train.shift(fill_value=target_train.iloc[-1])"
   ]
  },
  {
   "cell_type": "code",
   "execution_count": 96,
   "metadata": {},
   "outputs": [
    {
     "name": "stdout",
     "output_type": "stream",
     "text": [
      "RMSE dummy_model: 36\n"
     ]
    }
   ],
   "source": [
    "print(\"RMSE dummy_model:\", round(mean_squared_error(target_train, pred_previous)**0.5))"
   ]
  },
  {
   "cell_type": "markdown",
   "metadata": {},
   "source": [
    "Все модели адекватны."
   ]
  },
  {
   "cell_type": "markdown",
   "metadata": {},
   "source": [
    "## Тестирование"
   ]
  },
  {
   "cell_type": "code",
   "execution_count": 97,
   "metadata": {},
   "outputs": [
    {
     "data": {
      "text/plain": [
       "{'learning_rate': 0.3,\n",
       " 'depth': 3,\n",
       " 'loss_function': 'RMSE',\n",
       " 'n_estimators': 100}"
      ]
     },
     "execution_count": 97,
     "metadata": {},
     "output_type": "execute_result"
    }
   ],
   "source": [
    "r_search.best_estimator_.get_params()"
   ]
  },
  {
   "cell_type": "code",
   "execution_count": 113,
   "metadata": {},
   "outputs": [],
   "source": [
    "# передать лучшие параметры из CV можно прочитав словарь из них: **r_search.best_params_\n",
    "model_2 = CatBoostRegressor(loss_function='RMSE', \n",
    "                            **r_search.best_params_)"
   ]
  },
  {
   "cell_type": "code",
   "execution_count": 114,
   "metadata": {},
   "outputs": [
    {
     "name": "stdout",
     "output_type": "stream",
     "text": [
      "0:\tlearn: 35.2690408\ttotal: 1.52ms\tremaining: 150ms\n",
      "50:\tlearn: 21.4415756\ttotal: 59.1ms\tremaining: 56.8ms\n",
      "99:\tlearn: 19.5201726\ttotal: 132ms\tremaining: 0us\n"
     ]
    },
    {
     "data": {
      "text/plain": [
       "<catboost.core.CatBoostRegressor at 0x7f6edb5cf1f0>"
      ]
     },
     "execution_count": 114,
     "metadata": {},
     "output_type": "execute_result"
    }
   ],
   "source": [
    "model_2.fit(features_train, target_train, verbose=50)"
   ]
  },
  {
   "cell_type": "code",
   "execution_count": 115,
   "metadata": {},
   "outputs": [
    {
     "name": "stdout",
     "output_type": "stream",
     "text": [
      "RMSE лучшей модели на тестовой выборке 46\n"
     ]
    }
   ],
   "source": [
    "print('RMSE лучшей модели на тестовой выборке', \n",
    "      round(mean_squared_error(target_test, model_2.predict(features_test))**0.5))"
   ]
  },
  {
   "cell_type": "code",
   "execution_count": 116,
   "metadata": {},
   "outputs": [],
   "source": [
    "# преобразуем предсказания модели в DataFrame, чтобы назначить индексы target_test\n",
    "predictions_test = pd.DataFrame(model_2.predict(features_test))"
   ]
  },
  {
   "cell_type": "code",
   "execution_count": 117,
   "metadata": {},
   "outputs": [],
   "source": [
    "predictions_test = predictions_test.set_index(target_test.index)"
   ]
  },
  {
   "cell_type": "code",
   "execution_count": 118,
   "metadata": {},
   "outputs": [
    {
     "data": {
      "text/html": [
       "<div>\n",
       "<style scoped>\n",
       "    .dataframe tbody tr th:only-of-type {\n",
       "        vertical-align: middle;\n",
       "    }\n",
       "\n",
       "    .dataframe tbody tr th {\n",
       "        vertical-align: top;\n",
       "    }\n",
       "\n",
       "    .dataframe thead th {\n",
       "        text-align: right;\n",
       "    }\n",
       "</style>\n",
       "<table border=\"1\" class=\"dataframe\">\n",
       "  <thead>\n",
       "    <tr style=\"text-align: right;\">\n",
       "      <th></th>\n",
       "      <th>0</th>\n",
       "    </tr>\n",
       "    <tr>\n",
       "      <th>datetime</th>\n",
       "      <th></th>\n",
       "    </tr>\n",
       "  </thead>\n",
       "  <tbody>\n",
       "    <tr>\n",
       "      <th>2018-08-14 14:00:00</th>\n",
       "      <td>89.078453</td>\n",
       "    </tr>\n",
       "    <tr>\n",
       "      <th>2018-08-14 15:00:00</th>\n",
       "      <td>128.373312</td>\n",
       "    </tr>\n",
       "    <tr>\n",
       "      <th>2018-08-14 16:00:00</th>\n",
       "      <td>155.328109</td>\n",
       "    </tr>\n",
       "    <tr>\n",
       "      <th>2018-08-14 17:00:00</th>\n",
       "      <td>126.577167</td>\n",
       "    </tr>\n",
       "    <tr>\n",
       "      <th>2018-08-14 18:00:00</th>\n",
       "      <td>102.838157</td>\n",
       "    </tr>\n",
       "    <tr>\n",
       "      <th>...</th>\n",
       "      <td>...</td>\n",
       "    </tr>\n",
       "    <tr>\n",
       "      <th>2018-08-31 19:00:00</th>\n",
       "      <td>107.054937</td>\n",
       "    </tr>\n",
       "    <tr>\n",
       "      <th>2018-08-31 20:00:00</th>\n",
       "      <td>128.101636</td>\n",
       "    </tr>\n",
       "    <tr>\n",
       "      <th>2018-08-31 21:00:00</th>\n",
       "      <td>126.728075</td>\n",
       "    </tr>\n",
       "    <tr>\n",
       "      <th>2018-08-31 22:00:00</th>\n",
       "      <td>142.837992</td>\n",
       "    </tr>\n",
       "    <tr>\n",
       "      <th>2018-08-31 23:00:00</th>\n",
       "      <td>159.090170</td>\n",
       "    </tr>\n",
       "  </tbody>\n",
       "</table>\n",
       "<p>418 rows × 1 columns</p>\n",
       "</div>"
      ],
      "text/plain": [
       "                              0\n",
       "datetime                       \n",
       "2018-08-14 14:00:00   89.078453\n",
       "2018-08-14 15:00:00  128.373312\n",
       "2018-08-14 16:00:00  155.328109\n",
       "2018-08-14 17:00:00  126.577167\n",
       "2018-08-14 18:00:00  102.838157\n",
       "...                         ...\n",
       "2018-08-31 19:00:00  107.054937\n",
       "2018-08-31 20:00:00  128.101636\n",
       "2018-08-31 21:00:00  126.728075\n",
       "2018-08-31 22:00:00  142.837992\n",
       "2018-08-31 23:00:00  159.090170\n",
       "\n",
       "[418 rows x 1 columns]"
      ]
     },
     "execution_count": 118,
     "metadata": {},
     "output_type": "execute_result"
    }
   ],
   "source": [
    "predictions_test"
   ]
  },
  {
   "cell_type": "code",
   "execution_count": 120,
   "metadata": {},
   "outputs": [
    {
     "data": {
      "text/plain": [
       "<matplotlib.legend.Legend at 0x7f6edbfdda60>"
      ]
     },
     "execution_count": 120,
     "metadata": {},
     "output_type": "execute_result"
    },
    {
     "data": {
      "image/png": "[encoded data removed]",
      "text/plain": [
       "<Figure size 1080x360 with 1 Axes>"
      ]
     },
     "metadata": {
      "needs_background": "light"
     },
     "output_type": "display_data"
    }
   ],
   "source": [
    "plt.figure(figsize=(15, 5))\n",
    "plt.title(\"Реальные суммарные заказы в будущем и их предсказания лучшей моделью за неделю\")\n",
    "plt.plot(predictions_test['2018-08-14':'2018-08-21'], label = \"Predictions\")\n",
    "plt.plot(target_test['2018-08-14':'2018-08-21'], label = \"Actual\")\n",
    "plt.grid(True)\n",
    "plt.axis('tight')\n",
    "plt.legend(loc=\"best\", fontsize=13)"
   ]
  },
  {
   "cell_type": "markdown",
   "metadata": {},
   "source": [
    "## Чек-лист проверки"
   ]
  },
  {
   "cell_type": "markdown",
   "metadata": {},
   "source": [
    "- [x]  Jupyter Notebook открыт\n",
    "- [x]  Весь код выполняется без ошибок\n",
    "- [x]  Ячейки с кодом расположены в порядке исполнения\n",
    "- [x]  Данные загружены и подготовлены\n",
    "- [x]  Данные проанализированы\n",
    "- [x]  Модель обучена, гиперпараметры подобраны\n",
    "- [x]  Качество моделей проверено, выводы сделаны\n",
    "- [x]  Значение *RMSE* на тестовой выборке не больше 48"
   ]
  },
  {
   "cell_type": "code",
   "execution_count": null,
   "metadata": {},
   "outputs": [],
   "source": []
  }
 ],
 "metadata": {
  "ExecuteTimeLog": [
   {
    "duration": 1592,
    "start_time": "2023-03-05T07:59:31.942Z"
   },
   {
    "duration": 2268,
    "start_time": "2023-03-05T07:59:49.448Z"
   },
   {
    "duration": 26,
    "start_time": "2023-03-05T08:00:59.017Z"
   },
   {
    "duration": 4587,
    "start_time": "2023-03-05T08:01:48.035Z"
   },
   {
    "duration": 196,
    "start_time": "2023-03-05T08:02:55.113Z"
   },
   {
    "duration": 136,
    "start_time": "2023-03-05T08:04:30.111Z"
   },
   {
    "duration": 13,
    "start_time": "2023-03-05T08:05:26.960Z"
   },
   {
    "duration": 8,
    "start_time": "2023-03-05T08:05:51.405Z"
   },
   {
    "duration": 384,
    "start_time": "2023-03-05T08:13:09.294Z"
   },
   {
    "duration": 799,
    "start_time": "2023-03-05T08:20:51.168Z"
   },
   {
    "duration": 156,
    "start_time": "2023-03-05T08:21:13.867Z"
   },
   {
    "duration": 125,
    "start_time": "2023-03-05T08:21:56.708Z"
   },
   {
    "duration": 117,
    "start_time": "2023-03-05T08:22:26.570Z"
   },
   {
    "duration": 134,
    "start_time": "2023-03-05T08:24:49.105Z"
   },
   {
    "duration": 20,
    "start_time": "2023-03-05T08:25:12.757Z"
   },
   {
    "duration": 929,
    "start_time": "2023-03-05T08:25:33.076Z"
   },
   {
    "duration": 25,
    "start_time": "2023-03-05T08:26:05.244Z"
   },
   {
    "duration": 182,
    "start_time": "2023-03-05T08:26:08.924Z"
   },
   {
    "duration": 344,
    "start_time": "2023-03-05T08:34:19.770Z"
   },
   {
    "duration": 365,
    "start_time": "2023-03-05T08:34:40.908Z"
   },
   {
    "duration": 527,
    "start_time": "2023-03-05T08:37:06.580Z"
   },
   {
    "duration": 11,
    "start_time": "2023-03-05T08:39:27.462Z"
   },
   {
    "duration": 555,
    "start_time": "2023-03-05T08:39:34.124Z"
   },
   {
    "duration": 506,
    "start_time": "2023-03-05T08:41:35.441Z"
   },
   {
    "duration": 678,
    "start_time": "2023-03-05T08:42:50.736Z"
   },
   {
    "duration": 1055,
    "start_time": "2023-03-05T08:44:08.518Z"
   },
   {
    "duration": 961,
    "start_time": "2023-03-05T08:45:57.724Z"
   },
   {
    "duration": 1014,
    "start_time": "2023-03-05T08:47:44.671Z"
   },
   {
    "duration": 726,
    "start_time": "2023-03-05T08:54:04.968Z"
   },
   {
    "duration": 776,
    "start_time": "2023-03-05T08:55:54.104Z"
   },
   {
    "duration": 766,
    "start_time": "2023-03-05T08:56:06.783Z"
   },
   {
    "duration": 4,
    "start_time": "2023-03-05T09:17:03.600Z"
   },
   {
    "duration": 483,
    "start_time": "2023-03-05T09:17:37.125Z"
   },
   {
    "duration": 212,
    "start_time": "2023-03-05T09:19:31.976Z"
   },
   {
    "duration": 239,
    "start_time": "2023-03-05T09:20:46.482Z"
   },
   {
    "duration": 260,
    "start_time": "2023-03-05T09:21:37.533Z"
   },
   {
    "duration": 5,
    "start_time": "2023-03-05T09:22:50.397Z"
   },
   {
    "duration": 221,
    "start_time": "2023-03-05T09:22:58.472Z"
   },
   {
    "duration": 5,
    "start_time": "2023-03-05T09:23:39.696Z"
   },
   {
    "duration": 5,
    "start_time": "2023-03-05T09:24:29.801Z"
   },
   {
    "duration": 236,
    "start_time": "2023-03-05T09:24:32.818Z"
   },
   {
    "duration": 5,
    "start_time": "2023-03-05T09:27:09.438Z"
   },
   {
    "duration": 248,
    "start_time": "2023-03-05T09:27:11.864Z"
   },
   {
    "duration": 5,
    "start_time": "2023-03-05T09:27:56.722Z"
   },
   {
    "duration": 231,
    "start_time": "2023-03-05T09:27:59.468Z"
   },
   {
    "duration": 5,
    "start_time": "2023-03-05T09:33:40.526Z"
   },
   {
    "duration": 826,
    "start_time": "2023-03-05T09:35:28.667Z"
   },
   {
    "duration": 11,
    "start_time": "2023-03-05T09:37:26.183Z"
   },
   {
    "duration": 5,
    "start_time": "2023-03-05T09:37:49.088Z"
   },
   {
    "duration": 4,
    "start_time": "2023-03-05T09:38:20.199Z"
   },
   {
    "duration": 5,
    "start_time": "2023-03-05T09:39:55.971Z"
   },
   {
    "duration": 8,
    "start_time": "2023-03-05T09:40:22.358Z"
   },
   {
    "duration": 17,
    "start_time": "2023-03-05T09:40:32.908Z"
   },
   {
    "duration": 30,
    "start_time": "2023-03-05T09:40:52.692Z"
   },
   {
    "duration": 6,
    "start_time": "2023-03-05T09:41:47.481Z"
   },
   {
    "duration": 18,
    "start_time": "2023-03-05T09:41:57.903Z"
   },
   {
    "duration": 13,
    "start_time": "2023-03-05T09:42:17.610Z"
   },
   {
    "duration": 21,
    "start_time": "2023-03-05T09:42:39.169Z"
   },
   {
    "duration": 6,
    "start_time": "2023-03-05T09:43:16.447Z"
   },
   {
    "duration": 6,
    "start_time": "2023-03-05T09:43:58.092Z"
   },
   {
    "duration": 4,
    "start_time": "2023-03-05T09:44:11.517Z"
   },
   {
    "duration": 3,
    "start_time": "2023-03-05T09:46:10.298Z"
   },
   {
    "duration": 10,
    "start_time": "2023-03-05T09:46:12.160Z"
   },
   {
    "duration": 364,
    "start_time": "2023-03-05T09:46:15.392Z"
   },
   {
    "duration": 2,
    "start_time": "2023-03-05T09:47:09.320Z"
   },
   {
    "duration": 3,
    "start_time": "2023-03-05T09:50:18.108Z"
   },
   {
    "duration": 4,
    "start_time": "2023-03-05T09:52:16.926Z"
   },
   {
    "duration": 12,
    "start_time": "2023-03-05T09:52:42.224Z"
   },
   {
    "duration": 3,
    "start_time": "2023-03-05T09:52:51.374Z"
   },
   {
    "duration": 175903,
    "start_time": "2023-03-05T09:52:53.032Z"
   },
   {
    "duration": 4,
    "start_time": "2023-03-05T10:19:21.187Z"
   },
   {
    "duration": 4,
    "start_time": "2023-03-05T10:19:47.408Z"
   },
   {
    "duration": 4,
    "start_time": "2023-03-05T13:46:38.689Z"
   },
   {
    "duration": 8,
    "start_time": "2023-03-05T13:47:42.922Z"
   },
   {
    "duration": 7,
    "start_time": "2023-03-05T13:48:54.119Z"
   },
   {
    "duration": 8,
    "start_time": "2023-03-05T13:48:57.272Z"
   },
   {
    "duration": 8,
    "start_time": "2023-03-05T13:49:27.544Z"
   },
   {
    "duration": 1262,
    "start_time": "2023-03-05T13:57:28.503Z"
   },
   {
    "duration": 32,
    "start_time": "2023-03-05T14:00:10.450Z"
   },
   {
    "duration": 1334,
    "start_time": "2023-03-05T14:01:27.980Z"
   },
   {
    "duration": 35,
    "start_time": "2023-03-05T14:02:04.571Z"
   },
   {
    "duration": 6,
    "start_time": "2023-03-05T14:03:59.882Z"
   },
   {
    "duration": 24,
    "start_time": "2023-03-05T14:06:16.542Z"
   },
   {
    "duration": 3,
    "start_time": "2023-03-05T14:06:57.317Z"
   },
   {
    "duration": 608,
    "start_time": "2023-03-05T14:10:04.552Z"
   },
   {
    "duration": 11,
    "start_time": "2023-03-05T14:20:49.396Z"
   },
   {
    "duration": 11,
    "start_time": "2023-03-05T14:21:43.283Z"
   },
   {
    "duration": 24694,
    "start_time": "2023-03-05T14:26:16.750Z"
   },
   {
    "duration": 20,
    "start_time": "2023-03-05T14:27:11.708Z"
   },
   {
    "duration": 4,
    "start_time": "2023-03-05T14:30:02.762Z"
   },
   {
    "duration": 3,
    "start_time": "2023-03-05T14:31:21.388Z"
   },
   {
    "duration": 3,
    "start_time": "2023-03-05T14:32:38.412Z"
   },
   {
    "duration": 4,
    "start_time": "2023-03-05T14:35:17.254Z"
   },
   {
    "duration": 3,
    "start_time": "2023-03-05T14:38:37.012Z"
   },
   {
    "duration": 3,
    "start_time": "2023-03-05T14:54:51.693Z"
   },
   {
    "duration": 6,
    "start_time": "2023-03-05T14:57:40.296Z"
   },
   {
    "duration": 5,
    "start_time": "2023-03-05T15:00:21.381Z"
   },
   {
    "duration": 3,
    "start_time": "2023-03-05T15:03:34.379Z"
   },
   {
    "duration": 573,
    "start_time": "2023-03-05T15:03:35.831Z"
   },
   {
    "duration": 6,
    "start_time": "2023-03-05T15:05:35.508Z"
   },
   {
    "duration": 4,
    "start_time": "2023-03-05T15:08:04.996Z"
   },
   {
    "duration": 154,
    "start_time": "2023-03-05T15:08:40.365Z"
   },
   {
    "duration": 12,
    "start_time": "2023-03-05T15:10:04.775Z"
   },
   {
    "duration": 21,
    "start_time": "2023-03-05T15:10:41.414Z"
   },
   {
    "duration": 4,
    "start_time": "2023-03-05T15:11:13.133Z"
   },
   {
    "duration": 6,
    "start_time": "2023-03-05T15:11:21.610Z"
   },
   {
    "duration": 11,
    "start_time": "2023-03-05T15:17:31.443Z"
   },
   {
    "duration": 5,
    "start_time": "2023-03-05T15:18:00.255Z"
   },
   {
    "duration": 9,
    "start_time": "2023-03-05T15:18:03.503Z"
   },
   {
    "duration": 3,
    "start_time": "2023-03-05T15:18:11.809Z"
   },
   {
    "duration": 10,
    "start_time": "2023-03-05T15:18:16.681Z"
   },
   {
    "duration": 231,
    "start_time": "2023-03-05T15:18:25.349Z"
   },
   {
    "duration": 4,
    "start_time": "2023-03-05T15:26:34.287Z"
   },
   {
    "duration": 552,
    "start_time": "2023-03-05T15:26:49.065Z"
   },
   {
    "duration": 6,
    "start_time": "2023-03-05T15:26:57.317Z"
   },
   {
    "duration": 4,
    "start_time": "2023-03-05T15:26:59.626Z"
   },
   {
    "duration": 3,
    "start_time": "2023-03-05T15:27:00.315Z"
   },
   {
    "duration": 10,
    "start_time": "2023-03-05T15:27:01.341Z"
   },
   {
    "duration": 221,
    "start_time": "2023-03-05T15:27:03.585Z"
   },
   {
    "duration": 217,
    "start_time": "2023-03-05T15:28:08.649Z"
   },
   {
    "duration": 60,
    "start_time": "2023-03-06T07:57:50.190Z"
   },
   {
    "duration": 5,
    "start_time": "2023-03-06T07:58:31.722Z"
   },
   {
    "duration": 66,
    "start_time": "2023-03-06T07:59:44.353Z"
   }
  ],
  "kernelspec": {
   "display_name": "Python 3",
   "language": "python",
   "name": "python3"
  },
  "language_info": {
   "codemirror_mode": {
    "name": "ipython",
    "version": 3
   },
   "file_extension": ".py",
   "mimetype": "text/x-python",
   "name": "python",
   "nbconvert_exporter": "python",
   "pygments_lexer": "ipython3",
   "version": "3.8.5"
  },
  "toc": {
   "base_numbering": 1,
   "nav_menu": {},
   "number_sections": true,
   "sideBar": true,
   "skip_h1_title": true,
   "title_cell": "Содержание",
   "title_sidebar": "Contents",
   "toc_cell": true,
   "toc_position": {},
   "toc_section_display": true,
   "toc_window_display": false
  }
 },
 "nbformat": 4,
 "nbformat_minor": 2
}
