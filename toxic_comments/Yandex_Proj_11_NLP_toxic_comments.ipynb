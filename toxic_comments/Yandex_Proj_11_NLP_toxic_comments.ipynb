{
 "cells": [
  {
   "cell_type": "markdown",
   "metadata": {
    "toc": true
   },
   "source": [
    "<h1>Содержание<span class=\"tocSkip\"></span></h1>\n",
    "<div class=\"toc\"><ul class=\"toc-item\"><li><span><a href=\"#Подготовка\" data-toc-modified-id=\"Подготовка-1\"><span class=\"toc-item-num\">1&nbsp;&nbsp;</span>Подготовка</a></span><ul class=\"toc-item\"><li><span><a href=\"#Лемматизация-и-очистка-текста\" data-toc-modified-id=\"Лемматизация-и-очистка-текста-1.1\"><span class=\"toc-item-num\">1.1&nbsp;&nbsp;</span>Лемматизация и очистка текста</a></span></li><li><span><a href=\"#Эмбеддинги от Bert\"><span class=\"toc-item-num\">1.2&nbsp;&nbsp;</span>Эмбеддинги от Bert</a></span></li></ul></li><li><span><a href=\"#Обучение\" data-toc-modified-id=\"Обучение-2\"><span class=\"toc-item-num\">2&nbsp;&nbsp;</span>Обучение</a></span><ul class=\"toc-item\"><li><span><a href=\"#LogisticRegression\" data-toc-modified-id=\"LogisticRegression-2.1\"><span class=\"toc-item-num\">2.1&nbsp;&nbsp;</span>LogisticRegression</a></span></li><li><span><a href=\"#RandomForestClassifier\" data-toc-modified-id=\"RandomForestClassifier-2.2\"><span class=\"toc-item-num\">2.2&nbsp;&nbsp;</span>RandomForestClassifier</a></span></li><li><span><a href=\"#CatBoostClassifier\" data-toc-modified-id=\"CatBoostClassifier-2.3\"><span class=\"toc-item-num\">2.3&nbsp;&nbsp;</span>CatBoostClassifier</a></span></li><li><span><a href=\"#Тестирование лучшей модели\" data-toc-modified-id=\"Тестирование лучшей модели\"><span class=\"toc-item-num\">2.4&nbsp;&nbsp;</span>Тестирование лучшей модели</a></span></li></ul></li><li><span><a href=\"#Выводы\" data-toc-modified-id=\"Выводы-3\"><span class=\"toc-item-num\">3&nbsp;&nbsp;</span>Выводы</a></span></li><li><span></span></li></ul></div>"
   ]
  },
  {
   "cell_type": "markdown",
   "metadata": {},
   "source": [
    "# Проект для «Викишоп»"
   ]
  },
  {
   "cell_type": "markdown",
   "metadata": {},
   "source": [
    "Интернет-магазин «Викишоп» запускает новый сервис. Теперь пользователи могут редактировать и дополнять описания товаров, как в вики-сообществах. То есть клиенты предлагают свои правки и комментируют изменения других. Магазину нужен инструмент, который будет искать токсичные комментарии и отправлять их на модерацию. \n",
    "\n",
    "Обучите модель классифицировать комментарии на позитивные и негативные. В вашем распоряжении набор данных с разметкой о токсичности правок.\n",
    "\n",
    "Постройте модель со значением метрики качества *F1* не меньше 0.75. \n",
    "\n",
    "**Инструкция по выполнению проекта**\n",
    "\n",
    "1. Загрузите и подготовьте данные.\n",
    "2. Обучите разные модели. \n",
    "3. Сделайте выводы.\n",
    "\n",
    "Для выполнения проекта применять *BERT* необязательно, но вы можете попробовать.\n",
    "\n",
    "**Описание данных**\n",
    "\n",
    "Данные находятся в файле `toxic_comments.csv`. Столбец *text* в нём содержит текст комментария, а *toxic* — целевой признак."
   ]
  },
  {
   "cell_type": "markdown",
   "metadata": {},
   "source": [
    "## Подготовка"
   ]
  },
  {
   "cell_type": "code",
   "execution_count": 1,
   "metadata": {
    "scrolled": false
   },
   "outputs": [
    {
     "name": "stdout",
     "output_type": "stream",
     "text": [
      "Requirement already satisfied: transformers in /opt/conda/lib/python3.9/site-packages (4.12.5)\n",
      "Requirement already satisfied: filelock in /opt/conda/lib/python3.9/site-packages (from transformers) (3.8.0)\n",
      "Requirement already satisfied: packaging>=20.0 in /opt/conda/lib/python3.9/site-packages (from transformers) (21.3)\n",
      "Requirement already satisfied: huggingface-hub<1.0,>=0.1.0 in /opt/conda/lib/python3.9/site-packages (from transformers) (0.9.1)\n",
      "Requirement already satisfied: regex!=2019.12.17 in /opt/conda/lib/python3.9/site-packages (from transformers) (2022.8.17)\n",
      "Requirement already satisfied: tokenizers<0.11,>=0.10.1 in /opt/conda/lib/python3.9/site-packages (from transformers) (0.10.3)\n",
      "Requirement already satisfied: tqdm>=4.27 in /opt/conda/lib/python3.9/site-packages (from transformers) (4.61.2)\n",
      "Requirement already satisfied: pyyaml>=5.1 in /opt/conda/lib/python3.9/site-packages (from transformers) (6.0)\n",
      "Requirement already satisfied: sacremoses in /opt/conda/lib/python3.9/site-packages (from transformers) (0.0.53)\n",
      "Requirement already satisfied: numpy>=1.17 in /opt/conda/lib/python3.9/site-packages (from transformers) (1.21.1)\n",
      "Requirement already satisfied: requests in /opt/conda/lib/python3.9/site-packages (from transformers) (2.25.1)\n",
      "Requirement already satisfied: typing-extensions>=3.7.4.3 in /opt/conda/lib/python3.9/site-packages (from huggingface-hub<1.0,>=0.1.0->transformers) (4.3.0)\n",
      "Requirement already satisfied: pyparsing!=3.0.5,>=2.0.2 in /opt/conda/lib/python3.9/site-packages (from packaging>=20.0->transformers) (2.4.7)\n",
      "Requirement already satisfied: urllib3<1.27,>=1.21.1 in /opt/conda/lib/python3.9/site-packages (from requests->transformers) (1.26.6)\n",
      "Requirement already satisfied: chardet<5,>=3.0.2 in /opt/conda/lib/python3.9/site-packages (from requests->transformers) (4.0.0)\n",
      "Requirement already satisfied: certifi>=2017.4.17 in /opt/conda/lib/python3.9/site-packages (from requests->transformers) (2022.6.15)\n",
      "Requirement already satisfied: idna<3,>=2.5 in /opt/conda/lib/python3.9/site-packages (from requests->transformers) (2.10)\n",
      "Requirement already satisfied: click in /opt/conda/lib/python3.9/site-packages (from sacremoses->transformers) (8.1.3)\n",
      "Requirement already satisfied: six in /opt/conda/lib/python3.9/site-packages (from sacremoses->transformers) (1.16.0)\n",
      "Requirement already satisfied: joblib in /opt/conda/lib/python3.9/site-packages (from sacremoses->transformers) (1.1.0)\n",
      "Requirement already satisfied: torch in /opt/conda/lib/python3.9/site-packages (1.10.0)\n",
      "Requirement already satisfied: typing-extensions in /opt/conda/lib/python3.9/site-packages (from torch) (4.3.0)\n",
      "Requirement already satisfied: catboost in /opt/conda/lib/python3.9/site-packages (1.0.3)\n",
      "Requirement already satisfied: scipy in /opt/conda/lib/python3.9/site-packages (from catboost) (1.9.1)\n",
      "Requirement already satisfied: graphviz in /opt/conda/lib/python3.9/site-packages (from catboost) (0.20.1)\n",
      "Requirement already satisfied: numpy>=1.16.0 in /opt/conda/lib/python3.9/site-packages (from catboost) (1.21.1)\n",
      "Requirement already satisfied: plotly in /opt/conda/lib/python3.9/site-packages (from catboost) (5.4.0)\n",
      "Requirement already satisfied: pandas>=0.24.0 in /opt/conda/lib/python3.9/site-packages (from catboost) (1.2.4)\n",
      "Requirement already satisfied: six in /opt/conda/lib/python3.9/site-packages (from catboost) (1.16.0)\n",
      "Requirement already satisfied: matplotlib in /opt/conda/lib/python3.9/site-packages (from catboost) (3.3.4)\n",
      "Requirement already satisfied: python-dateutil>=2.7.3 in /opt/conda/lib/python3.9/site-packages (from pandas>=0.24.0->catboost) (2.8.1)\n",
      "Requirement already satisfied: pytz>=2017.3 in /opt/conda/lib/python3.9/site-packages (from pandas>=0.24.0->catboost) (2021.1)\n",
      "Requirement already satisfied: kiwisolver>=1.0.1 in /opt/conda/lib/python3.9/site-packages (from matplotlib->catboost) (1.4.4)\n",
      "Requirement already satisfied: cycler>=0.10 in /opt/conda/lib/python3.9/site-packages (from matplotlib->catboost) (0.11.0)\n",
      "Requirement already satisfied: pillow>=6.2.0 in /opt/conda/lib/python3.9/site-packages (from matplotlib->catboost) (8.4.0)\n",
      "Requirement already satisfied: pyparsing!=2.0.4,!=2.1.2,!=2.1.6,>=2.0.3 in /opt/conda/lib/python3.9/site-packages (from matplotlib->catboost) (2.4.7)\n",
      "Requirement already satisfied: tenacity>=6.2.0 in /opt/conda/lib/python3.9/site-packages (from plotly->catboost) (8.0.1)\n"
     ]
    },
    {
     "name": "stderr",
     "output_type": "stream",
     "text": [
      "[nltk_data] Downloading package stopwords to /home/jovyan/nltk_data...\n",
      "[nltk_data]   Package stopwords is already up-to-date!\n",
      "[nltk_data] Downloading package wordnet to /home/jovyan/nltk_data...\n",
      "[nltk_data]   Package wordnet is already up-to-date!\n",
      "[nltk_data] Downloading package punkt to /home/jovyan/nltk_data...\n",
      "[nltk_data]   Package punkt is already up-to-date!\n",
      "[nltk_data] Downloading package averaged_perceptron_tagger to\n",
      "[nltk_data]     /home/jovyan/nltk_data...\n",
      "[nltk_data]   Package averaged_perceptron_tagger is already up-to-\n",
      "[nltk_data]       date!\n"
     ]
    },
    {
     "name": "stdout",
     "output_type": "stream",
     "text": [
      "Requirement already satisfied: wordcloud in /opt/conda/lib/python3.9/site-packages (1.8.2.2)\r\n",
      "Requirement already satisfied: matplotlib in /opt/conda/lib/python3.9/site-packages (from wordcloud) (3.3.4)\r\n",
      "Requirement already satisfied: pillow in /opt/conda/lib/python3.9/site-packages (from wordcloud) (8.4.0)\r\n",
      "Requirement already satisfied: numpy>=1.6.1 in /opt/conda/lib/python3.9/site-packages (from wordcloud) (1.21.1)\r\n",
      "Requirement already satisfied: python-dateutil>=2.1 in /opt/conda/lib/python3.9/site-packages (from matplotlib->wordcloud) (2.8.1)\r\n",
      "Requirement already satisfied: cycler>=0.10 in /opt/conda/lib/python3.9/site-packages (from matplotlib->wordcloud) (0.11.0)\r\n",
      "Requirement already satisfied: pyparsing!=2.0.4,!=2.1.2,!=2.1.6,>=2.0.3 in /opt/conda/lib/python3.9/site-packages (from matplotlib->wordcloud) (2.4.7)\r\n",
      "Requirement already satisfied: kiwisolver>=1.0.1 in /opt/conda/lib/python3.9/site-packages (from matplotlib->wordcloud) (1.4.4)\r\n",
      "Requirement already satisfied: six>=1.5 in /opt/conda/lib/python3.9/site-packages (from python-dateutil>=2.1->matplotlib->wordcloud) (1.16.0)\r\n"
     ]
    }
   ],
   "source": [
    "# импорт библиотек\n",
    "\n",
    "import numpy as np\n",
    "import pandas as pd\n",
    "import matplotlib.pyplot as plt\n",
    "import seaborn as sns\n",
    "\n",
    "!pip3 install transformers\n",
    "!pip3 install torch\n",
    "!pip install catboost\n",
    "\n",
    "import re # Регулярные выражения\n",
    "import torch # PyTorch\n",
    "import transformers # для инициализации токенизатора, объект класса BertTokenizer() и прочие\n",
    "from tqdm import notebook # индикатор прогресса\n",
    "from sklearn.linear_model import LogisticRegression # логистическая регрессия\n",
    "from sklearn.tree import DecisionTreeClassifier # дерево-классификатор\n",
    "from sklearn.model_selection import cross_val_score # cv\n",
    "from sklearn.model_selection import train_test_split # разбика выборок\n",
    "from sklearn.model_selection import RandomizedSearchCV # подбор гиперпараметров и cv\n",
    "from sklearn.metrics import f1_score # F1\n",
    "\n",
    "import nltk # NLP инструменты\n",
    "from nltk.corpus import stopwords # списки стоп-слов\n",
    "nltk.download('stopwords') # загрузили списко стоп-слов\n",
    "from sklearn.feature_extraction.text import TfidfVectorizer # импорт TF-IDF\n",
    "from sklearn.feature_extraction.text import CountVectorizer # импорт bow\n",
    "\n",
    "from transformers import AutoTokenizer, AutoModelForMaskedLM # ваниант вместо Bert\n",
    "\n",
    "\n",
    "from catboost import CatBoostClassifier # классификатор\n",
    "from sklearn.utils.class_weight import compute_class_weight # чтобы посчитать балланс классов для Catbo\n",
    "\n",
    "nltk.download('wordnet')\n",
    "from nltk.corpus import wordnet\n",
    "from nltk.stem import WordNetLemmatizer # лемматайзер\n",
    "from transformers import BertTokenizer, BertModel # импорт BertTokenizer и model\n",
    "\n",
    "from nltk import word_tokenize # токенайзер\n",
    "nltk.download('punkt') # пунктуация для токенайзер \n",
    "nltk.download('averaged_perceptron_tagger') # POSS tagg из коробки\n",
    "\n",
    "!pip install wordcloud # библиотека для облака тегов\n",
    "from wordcloud import WordCloud # библиотека для облака тегов"
   ]
  },
  {
   "cell_type": "code",
   "execution_count": 2,
   "metadata": {},
   "outputs": [],
   "source": [
    "stop_words = set(stopwords.words('english')) # пометили, что на английском стоп-слова\n",
    "count_tf_idf = TfidfVectorizer(stop_words=list(stop_words)) # счетчик TF-IDF \n",
    "count_vect = CountVectorizer(stop_words=list(stop_words)) # счетчик bow"
   ]
  },
  {
   "cell_type": "code",
   "execution_count": null,
   "metadata": {},
   "outputs": [],
   "source": [
    "# список паттернов маскировки ругательных слов на анг\n",
    "\n",
    "RE_PATTERNS = {' american ': ['amerikan'], ' adolf ': ['adolf'], ' hitler ': ['hitler', 'shitler'],\n",
    "                       ' fuck': ['(f)(u|[^a-z0-9 ])(c|[^a-z0-9 ])(k|[^a-z0-9 ])([^ ])*',\n",
    "                                 '(f)([^a-z]*)(u)([^a-z]*)(c)([^a-z]*)(k)', ' f[!@#\\$%\\^\\&\\*]*u[!@#\\$%\\^&\\*]*k',\n",
    "                                 'f u u c', '(f)(c|[^a-z ])(u|[^a-z ])(k)', r'f\\*', 'feck ', ' fux ', 'f\\*\\*', 'f\\-ing',\n",
    "                                 'f\\.u\\.', 'f###', ' fu ', 'f@ck', 'f u c k', 'f uck', 'f ck', 'wtf'],\n",
    "                       ' ass ': ['[^a-z]ass ', '[^a-z]azz ', 'arrse', ' arse ', '@\\$\\$', '[^a-z]anus', ' a\\*s\\*s',\n",
    "                                 '[^a-z]ass[^a-z ]', 'a[@#\\$%\\^&\\*][@#\\$%\\^&\\*]', '[^a-z]anal ', 'a s s'],\n",
    "                       ' ass hole ': [' a[s|z]*wipe', 'a[s|z]*[w]*h[o|0]+[l]*e', '@\\$\\$hole'],\n",
    "                       ' bitch ': ['b[w]*i[t]*ch', 'b!tch', 'bi\\+ch', 'b!\\+ch',\n",
    "                                   '(b)([^a-z]*)(i)([^a-z]*)(t)([^a-z]*)(c)([^a-z]*)(h)', 'biatch', 'bi\\*\\*h', 'bytch',\n",
    "                                   'b i t c h'], ' bastard ': ['ba[s|z]+t[e|a]+rd'], ' trans gender': ['transgender'],\n",
    "                       ' gay ': ['gay'],\n",
    "                       ' cock ': ['[^a-z]cock', 'c0ck', '[^a-z]cok ', 'c0k', '[^a-z]cok[^aeiou]', ' cawk',\n",
    "                                  '(c)([^a-z ])(o)([^a-z ]*)(c)([^a-z ]*)(k)', 'c o c k'],\n",
    "                       ' dick ': [' dick[^aeiou]', 'deek', 'd i c k', 'dihck'],\n",
    "                       ' suck ': ['sucker', '(s)([^a-z ]*)(u)([^a-z ]*)(c)([^a-z ]*)(k)', 'sucks', '5uck', 's u c k'],\n",
    "                       ' cunt ': ['cunt', 'c u n t'], ' bull shit ': ['bullsh\\*t', 'bull\\$hit'],\n",
    "                       ' homo sex ual': ['homosexual'], ' jerk ': ['jerk'],\n",
    "                       ' idiot ': ['i[d]+io[t]+', '(i)([^a-z ]*)(d)([^a-z ]*)(i)([^a-z ]*)(o)([^a-z ]*)(t)', 'idiots',\n",
    "                                   'i d i o t'], ' dumb ': ['(d)([^a-z ]*)(u)([^a-z ]*)(m)([^a-z ]*)(b)'],\n",
    "                       ' shit ': ['shitty', '(s)([^a-z ]*)(h)([^a-z ]*)(i)([^a-z ]*)(t)', 'shite', '\\$hit', 's h i t', \n",
    "                                  'bull shit', 'shit bull'],\n",
    "                       ' shit hole ': ['shythole'], ' retard ': ['returd', 'retad', 'retard', 'wiktard', 'wikitud'],\n",
    "                       ' rape ': [' raped'], ' dumb ass': ['dumbass', 'dubass'], ' ass head': ['butthead'],\n",
    "                       ' sex ': ['sexy', 's3x', 'sexuality'],\n",
    "                       ' nigger ': ['nigger', 'ni[g]+a', ' nigr ', 'negrito', 'niguh', 'n3gr', 'n i g g e r', 'nihgga'],\n",
    "                       ' shut the fuck up': ['stfu'], ' pussy ': ['pussy[^c]', 'pusy', 'pussi[^l]', 'pusses'],\n",
    "                       ' faggot ': ['faggot', ' fa[g]+[s]*[^a-z ]', 'fagot', 'f a g g o t', 'faggit',\n",
    "                                    '(f)([^a-z ]*)(a)([^a-z ]*)([g]+)([^a-z ]*)(o)([^a-z ]*)(t)', 'fau[g]+ot',\n",
    "                                    'fae[g]+ot', ],\n",
    "                       ' mother fucker': [' motha ', ' motha f', ' mother f', 'motherucker', ],\n",
    "                       ' whore ': ['wh\\*\\*\\*', 'w h o r e', 'hoe'] }"
   ]
  },
  {
   "cell_type": "code",
   "execution_count": 3,
   "metadata": {
    "scrolled": true
   },
   "outputs": [],
   "source": [
    "# импорт данных\n",
    "\n",
    "try:\n",
    "    df = pd.read_csv(r\"C:\\Users\\plotn\\My_python_stuff\\toxic_comments.csv\")\n",
    "except:\n",
    "    df = pd.read_csv(r\"/datasets/toxic_comments.csv\")"
   ]
  },
  {
   "cell_type": "code",
   "execution_count": 4,
   "metadata": {
    "scrolled": true
   },
   "outputs": [
    {
     "name": "stdout",
     "output_type": "stream",
     "text": [
      "<class 'pandas.core.frame.DataFrame'>\n",
      "RangeIndex: 159292 entries, 0 to 159291\n",
      "Data columns (total 3 columns):\n",
      " #   Column      Non-Null Count   Dtype \n",
      "---  ------      --------------   ----- \n",
      " 0   Unnamed: 0  159292 non-null  int64 \n",
      " 1   text        159292 non-null  object\n",
      " 2   toxic       159292 non-null  int64 \n",
      "dtypes: int64(2), object(1)\n",
      "memory usage: 3.6+ MB\n"
     ]
    }
   ],
   "source": [
    "df.info()"
   ]
  },
  {
   "cell_type": "code",
   "execution_count": 5,
   "metadata": {
    "scrolled": true
   },
   "outputs": [
    {
     "data": {
      "text/html": [
       "<div>\n",
       "<style scoped>\n",
       "    .dataframe tbody tr th:only-of-type {\n",
       "        vertical-align: middle;\n",
       "    }\n",
       "\n",
       "    .dataframe tbody tr th {\n",
       "        vertical-align: top;\n",
       "    }\n",
       "\n",
       "    .dataframe thead th {\n",
       "        text-align: right;\n",
       "    }\n",
       "</style>\n",
       "<table border=\"1\" class=\"dataframe\">\n",
       "  <thead>\n",
       "    <tr style=\"text-align: right;\">\n",
       "      <th></th>\n",
       "      <th>Unnamed: 0</th>\n",
       "      <th>text</th>\n",
       "      <th>toxic</th>\n",
       "    </tr>\n",
       "  </thead>\n",
       "  <tbody>\n",
       "    <tr>\n",
       "      <th>113734</th>\n",
       "      <td>113832</td>\n",
       "      <td>I tried using YukataNinja's wording, but it di...</td>\n",
       "      <td>0</td>\n",
       "    </tr>\n",
       "    <tr>\n",
       "      <th>72426</th>\n",
       "      <td>72497</td>\n",
       "      <td>The project is being repeatedly vandalised and...</td>\n",
       "      <td>0</td>\n",
       "    </tr>\n",
       "    <tr>\n",
       "      <th>42126</th>\n",
       "      <td>42176</td>\n",
       "      <td>Bravo on all your criticisms about this film. ...</td>\n",
       "      <td>0</td>\n",
       "    </tr>\n",
       "    <tr>\n",
       "      <th>22172</th>\n",
       "      <td>22192</td>\n",
       "      <td>You LOVE Anime!? There are some ANIMES out the...</td>\n",
       "      <td>1</td>\n",
       "    </tr>\n",
       "    <tr>\n",
       "      <th>97680</th>\n",
       "      <td>97774</td>\n",
       "      <td>\"\\nA tag has been placed on Le Khanh Giang, re...</td>\n",
       "      <td>0</td>\n",
       "    </tr>\n",
       "    <tr>\n",
       "      <th>11102</th>\n",
       "      <td>11115</td>\n",
       "      <td>I really can't see the point of opening an RFC...</td>\n",
       "      <td>0</td>\n",
       "    </tr>\n",
       "    <tr>\n",
       "      <th>31297</th>\n",
       "      <td>31337</td>\n",
       "      <td>IS A FASCIST BULLY CONSTANTLY ATTEMPTING TO FO...</td>\n",
       "      <td>1</td>\n",
       "    </tr>\n",
       "    <tr>\n",
       "      <th>147968</th>\n",
       "      <td>148124</td>\n",
       "      <td>I basically want someone of brown appearance f...</td>\n",
       "      <td>0</td>\n",
       "    </tr>\n",
       "    <tr>\n",
       "      <th>14751</th>\n",
       "      <td>14767</td>\n",
       "      <td>DreamGuy\\nI've already promised Ed that I will...</td>\n",
       "      <td>1</td>\n",
       "    </tr>\n",
       "    <tr>\n",
       "      <th>79827</th>\n",
       "      <td>79903</td>\n",
       "      <td>\"\\n\\nI will think about what you said.  I remo...</td>\n",
       "      <td>0</td>\n",
       "    </tr>\n",
       "  </tbody>\n",
       "</table>\n",
       "</div>"
      ],
      "text/plain": [
       "        Unnamed: 0                                               text  toxic\n",
       "113734      113832  I tried using YukataNinja's wording, but it di...      0\n",
       "72426        72497  The project is being repeatedly vandalised and...      0\n",
       "42126        42176  Bravo on all your criticisms about this film. ...      0\n",
       "22172        22192  You LOVE Anime!? There are some ANIMES out the...      1\n",
       "97680        97774  \"\\nA tag has been placed on Le Khanh Giang, re...      0\n",
       "11102        11115  I really can't see the point of opening an RFC...      0\n",
       "31297        31337  IS A FASCIST BULLY CONSTANTLY ATTEMPTING TO FO...      1\n",
       "147968      148124  I basically want someone of brown appearance f...      0\n",
       "14751        14767  DreamGuy\\nI've already promised Ed that I will...      1\n",
       "79827        79903  \"\\n\\nI will think about what you said.  I remo...      0"
      ]
     },
     "metadata": {},
     "output_type": "display_data"
    }
   ],
   "source": [
    "# посмотрим\n",
    "display(df.sample(10))"
   ]
  },
  {
   "cell_type": "code",
   "execution_count": 6,
   "metadata": {},
   "outputs": [],
   "source": [
    "# удалим ненужный столбец\n",
    "df = df.drop(['Unnamed: 0'],axis=1)"
   ]
  },
  {
   "cell_type": "code",
   "execution_count": 7,
   "metadata": {},
   "outputs": [
    {
     "name": "stdout",
     "output_type": "stream",
     "text": [
      "10.0 % доля токсичных комментариев в датафрейме\n",
      "90.0 % доля обычных комментариев в датафрейме\n"
     ]
    }
   ],
   "source": [
    "print(round((df[df['toxic'] == 1]['text'].shape[0]/df.shape[0]),2)*100, '% доля токсичных комментариев в датафрейме')\n",
    "print(round((df[df['toxic'] == 0]['text'].shape[0]/df.shape[0]),2)*100, '% доля обычных комментариев в датафрейме')"
   ]
  },
  {
   "cell_type": "markdown",
   "metadata": {},
   "source": [
    "Токсичных комментариев почти в 10 раз меньше, потребуется балансировка классов."
   ]
  },
  {
   "cell_type": "markdown",
   "metadata": {},
   "source": [
    "### Лемматизация и очистка текста"
   ]
  },
  {
   "cell_type": "code",
   "execution_count": 8,
   "metadata": {},
   "outputs": [],
   "source": [
    "# создадим лемматизиатор объект класса WordNetLemmatizer object\n",
    "wnl = WordNetLemmatizer()"
   ]
  },
  {
   "cell_type": "code",
   "execution_count": 10,
   "metadata": {},
   "outputs": [],
   "source": [
    "# функция для очистки\n",
    "\n",
    "def clear_text(text):\n",
    "    text = text.lower()\n",
    "    text = re.sub(r\"won\\'t\", \"will not\", text)\n",
    "    text = re.sub(r\"can\\'t\", \"can not\", text)\n",
    "    text = re.sub(r\"n\\'t\", \" not\", text)\n",
    "    text = re.sub(r\"\\'re\", \" are\", text)\n",
    "    text = re.sub(r\"\\'s\", \" is\", text)\n",
    "    text = re.sub(r\"\\'d\", \" would\", text)\n",
    "    text = re.sub(r\"\\'ll\", \" will\", text)\n",
    "    text = re.sub(r\"\\'t\", \" not\", text)\n",
    "    text = re.sub(r\"\\'ve\", \" have\", text)\n",
    "    text = re.sub(r\"\\'m\", \" am\", text)\n",
    "    \n",
    "    for target, patterns in RE_PATTERNS.items():\n",
    "        for pat in patterns:\n",
    "            text = re.sub(pat, target, text)\n",
    "    \n",
    "    cl_text = re.sub(r'[^a-zA-Z]', ' ', text).split()\n",
    "    cl_text = \" \".join(cl_text)\n",
    "    \n",
    "    return cl_text"
   ]
  },
  {
   "cell_type": "code",
   "execution_count": 11,
   "metadata": {},
   "outputs": [],
   "source": [
    "# функция для Poss используется ниже\n",
    "\n",
    "def pos_tagger(nltk_tag):\n",
    "    if nltk_tag.startswith('J'):\n",
    "        return wordnet.ADJ\n",
    "    elif nltk_tag.startswith('V'):\n",
    "        return wordnet.VERB\n",
    "    elif nltk_tag.startswith('N'):\n",
    "        return wordnet.NOUN\n",
    "    elif nltk_tag.startswith('R'):\n",
    "        return wordnet.ADV\n",
    "    else:\n",
    "        return None\n",
    "\n",
    "# функция для лемматизации (wnl.lemmatize())\n",
    "    \n",
    "def lemmatize(text):\n",
    "    pos_tagged = nltk.pos_tag(nltk.word_tokenize(text))\n",
    "    \n",
    "    wordnet_tagged = list(map(lambda x: (x[0], pos_tagger(x[1])), pos_tagged))\n",
    "    \n",
    "    lemmatized_sentence = []\n",
    "    for word, tag in wordnet_tagged:\n",
    "        if tag is None:\n",
    "            # if there is no available tag, append the token as is\n",
    "            lemmatized_sentence.append(word)\n",
    "        else:\t\n",
    "            # else use the tag to lemmatize the token\n",
    "            lemmatized_sentence.append(wnl.lemmatize(word, tag))\n",
    "    lemmatized_sentence = \" \".join(lemmatized_sentence)\n",
    "    \n",
    "    return lemmatized_sentence"
   ]
  },
  {
   "cell_type": "markdown",
   "metadata": {},
   "source": [
    "### Эмбеддинги от Bert"
   ]
  },
  {
   "cell_type": "code",
   "execution_count": 12,
   "metadata": {},
   "outputs": [],
   "source": [
    "# выделим df c 1600 записями с теми же долями токсичных и не-токсичных комментариев, что в общейм df \n",
    "\n",
    "df_2, df_1600 = train_test_split(df, test_size=0.011, random_state=12345, stratify=df['toxic'])"
   ]
  },
  {
   "cell_type": "code",
   "execution_count": 13,
   "metadata": {},
   "outputs": [],
   "source": [
    "del df_2"
   ]
  },
  {
   "cell_type": "code",
   "execution_count": 14,
   "metadata": {},
   "outputs": [
    {
     "name": "stdout",
     "output_type": "stream",
     "text": [
      "<class 'pandas.core.frame.DataFrame'>\n",
      "Int64Index: 1753 entries, 158851 to 44009\n",
      "Data columns (total 2 columns):\n",
      " #   Column  Non-Null Count  Dtype \n",
      "---  ------  --------------  ----- \n",
      " 0   text    1753 non-null   object\n",
      " 1   toxic   1753 non-null   int64 \n",
      "dtypes: int64(1), object(1)\n",
      "memory usage: 41.1+ KB\n"
     ]
    }
   ],
   "source": [
    "df_1600.info()"
   ]
  },
  {
   "cell_type": "code",
   "execution_count": 15,
   "metadata": {},
   "outputs": [
    {
     "name": "stdout",
     "output_type": "stream",
     "text": [
      "178 токсичных комментариев в датафрейме c 1600 записями\n",
      "1575 обычных комментариев в датафрейме c 1600 записями\n"
     ]
    }
   ],
   "source": [
    "print(df_1600[df_1600['toxic'] == 1]['text'].shape[0], 'токсичных комментариев в датафрейме c 1600 записями')\n",
    "print(df_1600[df_1600['toxic'] == 0]['text'].shape[0], 'обычных комментариев в датафрейме c 1600 записями')"
   ]
  },
  {
   "cell_type": "code",
   "execution_count": 16,
   "metadata": {},
   "outputs": [
    {
     "data": {
      "application/vnd.jupyter.widget-view+json": {
       "model_id": "7de80ee0a1b2494da51006f7e3f2d97b",
       "version_major": 2,
       "version_minor": 0
      },
      "text/plain": [
       "  0%|          | 0/1753 [00:00<?, ?it/s]"
      ]
     },
     "metadata": {},
     "output_type": "display_data"
    },
    {
     "name": "stderr",
     "output_type": "stream",
     "text": [
      "/tmp/ipykernel_293/2384991077.py:2: SettingWithCopyWarning: \n",
      "A value is trying to be set on a copy of a slice from a DataFrame.\n",
      "Try using .loc[row_indexer,col_indexer] = value instead\n",
      "\n",
      "See the caveats in the documentation: https://pandas.pydata.org/pandas-docs/stable/user_guide/indexing.html#returning-a-view-versus-a-copy\n",
      "  df_1600['cln_text'] = notebook.tqdm(df_1600['text'].apply(clear_text))\n"
     ]
    }
   ],
   "source": [
    "# почистим текст\n",
    "df_1600['cln_text'] = notebook.tqdm(df_1600['text'].apply(clear_text))"
   ]
  },
  {
   "cell_type": "code",
   "execution_count": 17,
   "metadata": {},
   "outputs": [
    {
     "name": "stderr",
     "output_type": "stream",
     "text": [
      "[nltk_data] Downloading package omw-1.4 to /home/jovyan/nltk_data...\n",
      "[nltk_data]   Package omw-1.4 is already up-to-date!\n"
     ]
    },
    {
     "data": {
      "text/plain": [
       "True"
      ]
     },
     "execution_count": 17,
     "metadata": {},
     "output_type": "execute_result"
    }
   ],
   "source": [
    "nltk.download('omw-1.4')"
   ]
  },
  {
   "cell_type": "code",
   "execution_count": 18,
   "metadata": {},
   "outputs": [
    {
     "data": {
      "application/vnd.jupyter.widget-view+json": {
       "model_id": "71f2f841a2d24029805cbf67151f5663",
       "version_major": 2,
       "version_minor": 0
      },
      "text/plain": [
       "  0%|          | 0/1753 [00:00<?, ?it/s]"
      ]
     },
     "metadata": {},
     "output_type": "display_data"
    },
    {
     "name": "stderr",
     "output_type": "stream",
     "text": [
      "/tmp/ipykernel_293/2617897528.py:4: SettingWithCopyWarning: \n",
      "A value is trying to be set on a copy of a slice from a DataFrame.\n",
      "Try using .loc[row_indexer,col_indexer] = value instead\n",
      "\n",
      "See the caveats in the documentation: https://pandas.pydata.org/pandas-docs/stable/user_guide/indexing.html#returning-a-view-versus-a-copy\n",
      "  df_1600['lemm_text'] = df_1600['cln_text'].progress_apply(lemmatize)\n"
     ]
    }
   ],
   "source": [
    "# лемматизируем\n",
    "notebook.tqdm.pandas()\n",
    "\n",
    "df_1600['lemm_text'] = df_1600['cln_text'].progress_apply(lemmatize)"
   ]
  },
  {
   "cell_type": "code",
   "execution_count": 19,
   "metadata": {
    "scrolled": false
   },
   "outputs": [
    {
     "data": {
      "text/html": [
       "<div>\n",
       "<style scoped>\n",
       "    .dataframe tbody tr th:only-of-type {\n",
       "        vertical-align: middle;\n",
       "    }\n",
       "\n",
       "    .dataframe tbody tr th {\n",
       "        vertical-align: top;\n",
       "    }\n",
       "\n",
       "    .dataframe thead th {\n",
       "        text-align: right;\n",
       "    }\n",
       "</style>\n",
       "<table border=\"1\" class=\"dataframe\">\n",
       "  <thead>\n",
       "    <tr style=\"text-align: right;\">\n",
       "      <th></th>\n",
       "      <th>text</th>\n",
       "      <th>toxic</th>\n",
       "      <th>cln_text</th>\n",
       "      <th>lemm_text</th>\n",
       "    </tr>\n",
       "  </thead>\n",
       "  <tbody>\n",
       "    <tr>\n",
       "      <th>75139</th>\n",
       "      <td>\"\\n\\n D€ATH TO NORWEGIANS AND ALL ANTI-SEℳITES...</td>\n",
       "      <td>1</td>\n",
       "      <td>d ath to norwegians and all anti se ites who s...</td>\n",
       "      <td>d ath to norwegian and all anti se ites who si...</td>\n",
       "    </tr>\n",
       "    <tr>\n",
       "      <th>51539</th>\n",
       "      <td>Hm, your edit deleted the explanation of where...</td>\n",
       "      <td>1</td>\n",
       "      <td>hm your edit deleted the explanation of where ...</td>\n",
       "      <td>hm your edit delete the explanation of where i...</td>\n",
       "    </tr>\n",
       "    <tr>\n",
       "      <th>35751</th>\n",
       "      <td>...and I don't take non-footnoted and bullshit...</td>\n",
       "      <td>1</td>\n",
       "      <td>and i do not take non footnoted and shit entri...</td>\n",
       "      <td>and i do not take non footnote and shit entry ...</td>\n",
       "    </tr>\n",
       "    <tr>\n",
       "      <th>117263</th>\n",
       "      <td>Hi \\n\\nyou're my little b1tsch</td>\n",
       "      <td>1</td>\n",
       "      <td>hi you are my little b tsch</td>\n",
       "      <td>hi you be my little b tsch</td>\n",
       "    </tr>\n",
       "    <tr>\n",
       "      <th>134297</th>\n",
       "      <td>U SUCK COCK U IDIOTS!!!!!!!!!!!!!!!!</td>\n",
       "      <td>1</td>\n",
       "      <td>u suck cock u idiot s</td>\n",
       "      <td>u suck cock u idiot s</td>\n",
       "    </tr>\n",
       "    <tr>\n",
       "      <th>92420</th>\n",
       "      <td>\" \\n\\nFirst off, I really don't think that's n...</td>\n",
       "      <td>1</td>\n",
       "      <td>first off i really do not think that is needed...</td>\n",
       "      <td>first off i really do not think that be need o...</td>\n",
       "    </tr>\n",
       "    <tr>\n",
       "      <th>24516</th>\n",
       "      <td>YOU'RE A SAD ARSEHOLE. GET A LIFE.</td>\n",
       "      <td>1</td>\n",
       "      <td>you are a sad arsehole get a life</td>\n",
       "      <td>you be a sad arsehole get a life</td>\n",
       "    </tr>\n",
       "    <tr>\n",
       "      <th>48719</th>\n",
       "      <td>Hey! \\n\\nWhy the fuck did you have your talk p...</td>\n",
       "      <td>1</td>\n",
       "      <td>hey why the fuck did you have your talk page s...</td>\n",
       "      <td>hey why the fuck do you have your talk page se...</td>\n",
       "    </tr>\n",
       "    <tr>\n",
       "      <th>60691</th>\n",
       "      <td>You and Jack greenmaven are MotherFuckers</td>\n",
       "      <td>1</td>\n",
       "      <td>you and jack greenmaven are mother fuck</td>\n",
       "      <td>you and jack greenmaven be mother fuck</td>\n",
       "    </tr>\n",
       "    <tr>\n",
       "      <th>63252</th>\n",
       "      <td>bilcat mom is a dumpster slutt</td>\n",
       "      <td>1</td>\n",
       "      <td>bilcat mom is a dumpster slutt</td>\n",
       "      <td>bilcat mom be a dumpster slutt</td>\n",
       "    </tr>\n",
       "  </tbody>\n",
       "</table>\n",
       "</div>"
      ],
      "text/plain": [
       "                                                     text  toxic  \\\n",
       "75139   \"\\n\\n D€ATH TO NORWEGIANS AND ALL ANTI-SEℳITES...      1   \n",
       "51539   Hm, your edit deleted the explanation of where...      1   \n",
       "35751   ...and I don't take non-footnoted and bullshit...      1   \n",
       "117263                     Hi \\n\\nyou're my little b1tsch      1   \n",
       "134297               U SUCK COCK U IDIOTS!!!!!!!!!!!!!!!!      1   \n",
       "92420   \" \\n\\nFirst off, I really don't think that's n...      1   \n",
       "24516                  YOU'RE A SAD ARSEHOLE. GET A LIFE.      1   \n",
       "48719   Hey! \\n\\nWhy the fuck did you have your talk p...      1   \n",
       "60691           You and Jack greenmaven are MotherFuckers      1   \n",
       "63252                      bilcat mom is a dumpster slutt      1   \n",
       "\n",
       "                                                 cln_text  \\\n",
       "75139   d ath to norwegians and all anti se ites who s...   \n",
       "51539   hm your edit deleted the explanation of where ...   \n",
       "35751   and i do not take non footnoted and shit entri...   \n",
       "117263                        hi you are my little b tsch   \n",
       "134297                              u suck cock u idiot s   \n",
       "92420   first off i really do not think that is needed...   \n",
       "24516                   you are a sad arsehole get a life   \n",
       "48719   hey why the fuck did you have your talk page s...   \n",
       "60691             you and jack greenmaven are mother fuck   \n",
       "63252                      bilcat mom is a dumpster slutt   \n",
       "\n",
       "                                                lemm_text  \n",
       "75139   d ath to norwegian and all anti se ites who si...  \n",
       "51539   hm your edit delete the explanation of where i...  \n",
       "35751   and i do not take non footnote and shit entry ...  \n",
       "117263                         hi you be my little b tsch  \n",
       "134297                              u suck cock u idiot s  \n",
       "92420   first off i really do not think that be need o...  \n",
       "24516                    you be a sad arsehole get a life  \n",
       "48719   hey why the fuck do you have your talk page se...  \n",
       "60691              you and jack greenmaven be mother fuck  \n",
       "63252                      bilcat mom be a dumpster slutt  "
      ]
     },
     "metadata": {},
     "output_type": "display_data"
    }
   ],
   "source": [
    "# посмотрим на токсичные комментарии\n",
    "\n",
    "display(df_1600[df_1600['toxic'] == 1].sample(10))"
   ]
  },
  {
   "cell_type": "code",
   "execution_count": 102,
   "metadata": {},
   "outputs": [],
   "source": [
    "toxic_text = ' '.join(df_1600[df_1600['toxic'] == 1]['lemm_text'])"
   ]
  },
  {
   "cell_type": "code",
   "execution_count": 104,
   "metadata": {},
   "outputs": [],
   "source": [
    "non_toxic_text = ' '.join(df_1600[df_1600['toxic'] == 0]['lemm_text'])"
   ]
  },
  {
   "cell_type": "code",
   "execution_count": 103,
   "metadata": {},
   "outputs": [
    {
     "data": {
      "text/plain": [
       "(-0.5, 399.5, 199.5, -0.5)"
      ]
     },
     "execution_count": 103,
     "metadata": {},
     "output_type": "execute_result"
    },
    {
     "data": {
      "image/png": "[encoded data removed]",
      "text/plain": [
       "<Figure size 640x480 with 1 Axes>"
      ]
     },
     "metadata": {},
     "output_type": "display_data"
    }
   ],
   "source": [
    "cloud = WordCloud(stopwords=stop_words).generate(toxic_text)\n",
    "plt.imshow(cloud)\n",
    "plt.axis('off')"
   ]
  },
  {
   "cell_type": "code",
   "execution_count": 105,
   "metadata": {},
   "outputs": [
    {
     "data": {
      "text/plain": [
       "(-0.5, 399.5, 199.5, -0.5)"
      ]
     },
     "execution_count": 105,
     "metadata": {},
     "output_type": "execute_result"
    },
    {
     "data": {
      "image/png": "[encoded data removed]",
      "text/plain": [
       "<Figure size 640x480 with 1 Axes>"
      ]
     },
     "metadata": {},
     "output_type": "display_data"
    }
   ],
   "source": [
    "cloud = WordCloud(stopwords=stop_words).generate(non_toxic_text)\n",
    "plt.imshow(cloud)\n",
    "plt.axis('off')"
   ]
  },
  {
   "cell_type": "code",
   "execution_count": null,
   "metadata": {},
   "outputs": [],
   "source": []
  },
  {
   "cell_type": "code",
   "execution_count": 53,
   "metadata": {},
   "outputs": [],
   "source": [
    "# удалим лишние столбцы\n",
    "df_1600 = df_1600.drop(['text', 'cln_text'],axis=1)"
   ]
  },
  {
   "cell_type": "code",
   "execution_count": 51,
   "metadata": {},
   "outputs": [],
   "source": [
    "# удалим исходный df, чтобы он не занимал оперативную память\n",
    "del df"
   ]
  },
  {
   "cell_type": "code",
   "execution_count": 54,
   "metadata": {
    "scrolled": false
   },
   "outputs": [
    {
     "data": {
      "text/html": [
       "<div>\n",
       "<style scoped>\n",
       "    .dataframe tbody tr th:only-of-type {\n",
       "        vertical-align: middle;\n",
       "    }\n",
       "\n",
       "    .dataframe tbody tr th {\n",
       "        vertical-align: top;\n",
       "    }\n",
       "\n",
       "    .dataframe thead th {\n",
       "        text-align: right;\n",
       "    }\n",
       "</style>\n",
       "<table border=\"1\" class=\"dataframe\">\n",
       "  <thead>\n",
       "    <tr style=\"text-align: right;\">\n",
       "      <th></th>\n",
       "      <th>toxic</th>\n",
       "      <th>lemm_text</th>\n",
       "    </tr>\n",
       "  </thead>\n",
       "  <tbody>\n",
       "    <tr>\n",
       "      <th>158851</th>\n",
       "      <td>0</td>\n",
       "      <td>i will edit and add something to this too in a...</td>\n",
       "    </tr>\n",
       "    <tr>\n",
       "      <th>89161</th>\n",
       "      <td>0</td>\n",
       "      <td>eat to live vs live to eat be definetely an un...</td>\n",
       "    </tr>\n",
       "    <tr>\n",
       "      <th>53501</th>\n",
       "      <td>0</td>\n",
       "      <td>break stuff do you really break thing when you...</td>\n",
       "    </tr>\n",
       "    <tr>\n",
       "      <th>137172</th>\n",
       "      <td>0</td>\n",
       "      <td>i will be discuss use of the internet with all...</td>\n",
       "    </tr>\n",
       "    <tr>\n",
       "      <th>66948</th>\n",
       "      <td>0</td>\n",
       "      <td>merge proposal i have add a merge proposal on ...</td>\n",
       "    </tr>\n",
       "    <tr>\n",
       "      <th>...</th>\n",
       "      <td>...</td>\n",
       "      <td>...</td>\n",
       "    </tr>\n",
       "    <tr>\n",
       "      <th>117812</th>\n",
       "      <td>0</td>\n",
       "      <td>i revert both of you because both of you have ...</td>\n",
       "    </tr>\n",
       "    <tr>\n",
       "      <th>82537</th>\n",
       "      <td>1</td>\n",
       "      <td>but the real question be why be that noteworth...</td>\n",
       "    </tr>\n",
       "    <tr>\n",
       "      <th>104973</th>\n",
       "      <td>0</td>\n",
       "      <td>no i be commit no copyright violation as not o...</td>\n",
       "    </tr>\n",
       "    <tr>\n",
       "      <th>133349</th>\n",
       "      <td>0</td>\n",
       "      <td>unfortunately i disagree with you here when yo...</td>\n",
       "    </tr>\n",
       "    <tr>\n",
       "      <th>44009</th>\n",
       "      <td>0</td>\n",
       "      <td>your revision to faerie be aire and death walt...</td>\n",
       "    </tr>\n",
       "  </tbody>\n",
       "</table>\n",
       "<p>1753 rows × 2 columns</p>\n",
       "</div>"
      ],
      "text/plain": [
       "        toxic                                          lemm_text\n",
       "158851      0  i will edit and add something to this too in a...\n",
       "89161       0  eat to live vs live to eat be definetely an un...\n",
       "53501       0  break stuff do you really break thing when you...\n",
       "137172      0  i will be discuss use of the internet with all...\n",
       "66948       0  merge proposal i have add a merge proposal on ...\n",
       "...       ...                                                ...\n",
       "117812      0  i revert both of you because both of you have ...\n",
       "82537       1  but the real question be why be that noteworth...\n",
       "104973      0  no i be commit no copyright violation as not o...\n",
       "133349      0  unfortunately i disagree with you here when yo...\n",
       "44009       0  your revision to faerie be aire and death walt...\n",
       "\n",
       "[1753 rows x 2 columns]"
      ]
     },
     "execution_count": 54,
     "metadata": {},
     "output_type": "execute_result"
    }
   ],
   "source": [
    "df_1600"
   ]
  },
  {
   "cell_type": "code",
   "execution_count": 56,
   "metadata": {},
   "outputs": [
    {
     "data": {
      "application/vnd.jupyter.widget-view+json": {
       "model_id": "4a2cb2ccd3404e578ff9ccd261b6f2cb",
       "version_major": 2,
       "version_minor": 0
      },
      "text/plain": [
       "Downloading (…)solve/main/vocab.txt:   0%|          | 0.00/232k [00:00<?, ?B/s]"
      ]
     },
     "metadata": {},
     "output_type": "display_data"
    },
    {
     "name": "stderr",
     "output_type": "stream",
     "text": [
      "C:\\Users\\plotn\\anaconda3\\lib\\site-packages\\huggingface_hub\\file_download.py:133: UserWarning: `huggingface_hub` cache-system uses symlinks by default to efficiently store duplicated files but your machine does not support them in C:\\Users\\plotn\\.cache\\huggingface\\hub. Caching files will still work but in a degraded version that might require more space on your disk. This warning can be disabled by setting the `HF_HUB_DISABLE_SYMLINKS_WARNING` environment variable. For more details, see https://huggingface.co/docs/huggingface_hub/how-to-cache#limitations.\n",
      "To support symlinks on Windows, you either need to activate Developer Mode or to run Python as an administrator. In order to see activate developer mode, see this article: https://docs.microsoft.com/en-us/windows/apps/get-started/enable-your-device-for-development\n",
      "  warnings.warn(message)\n"
     ]
    },
    {
     "data": {
      "application/vnd.jupyter.widget-view+json": {
       "model_id": "f6ab177f91d648ef9d8c6b34cd1f2511",
       "version_major": 2,
       "version_minor": 0
      },
      "text/plain": [
       "Downloading (…)cial_tokens_map.json:   0%|          | 0.00/112 [00:00<?, ?B/s]"
      ]
     },
     "metadata": {},
     "output_type": "display_data"
    },
    {
     "data": {
      "application/vnd.jupyter.widget-view+json": {
       "model_id": "67237af11420493187853340c938b638",
       "version_major": 2,
       "version_minor": 0
      },
      "text/plain": [
       "Downloading (…)okenizer_config.json:   0%|          | 0.00/174 [00:00<?, ?B/s]"
      ]
     },
     "metadata": {},
     "output_type": "display_data"
    },
    {
     "data": {
      "application/vnd.jupyter.widget-view+json": {
       "model_id": "eb0922cbb2e04438aea9ca68e360670d",
       "version_major": 2,
       "version_minor": 0
      },
      "text/plain": [
       "Downloading (…)lve/main/config.json:   0%|          | 0.00/811 [00:00<?, ?B/s]"
      ]
     },
     "metadata": {},
     "output_type": "display_data"
    }
   ],
   "source": [
    "# инициализировали токенайзер BertTokenizer() со словарем токенов (vocab.txt) \n",
    "tokenizer = BertTokenizer.from_pretrained(\"unitary/toxic-bert\")"
   ]
  },
  {
   "cell_type": "code",
   "execution_count": 57,
   "metadata": {},
   "outputs": [
    {
     "data": {
      "application/vnd.jupyter.widget-view+json": {
       "model_id": "7534e59148fa4f54abc42dcb10ee6def",
       "version_major": 2,
       "version_minor": 0
      },
      "text/plain": [
       "Downloading pytorch_model.bin:   0%|          | 0.00/438M [00:00<?, ?B/s]"
      ]
     },
     "metadata": {},
     "output_type": "display_data"
    },
    {
     "name": "stderr",
     "output_type": "stream",
     "text": [
      "Some weights of the model checkpoint at unitary/toxic-bert were not used when initializing BertModel: ['classifier.weight', 'classifier.bias']\n",
      "- This IS expected if you are initializing BertModel from the checkpoint of a model trained on another task or with another architecture (e.g. initializing a BertForSequenceClassification model from a BertForPreTraining model).\n",
      "- This IS NOT expected if you are initializing BertModel from the checkpoint of a model that you expect to be exactly identical (initializing a BertForSequenceClassification model from a BertForSequenceClassification model).\n"
     ]
    }
   ],
   "source": [
    "# создали предобученную модель Берта, обученную на токсичных комментариях \n",
    "model = BertModel.from_pretrained(\"unitary/toxic-bert\")"
   ]
  },
  {
   "cell_type": "code",
   "execution_count": 60,
   "metadata": {},
   "outputs": [],
   "source": [
    "# токенизируем по образцу из теории бадчами\n",
    "\n",
    "tokenized = df_1600['lemm_text'].apply(\n",
    "    lambda x: tokenizer.encode(x, max_length=512, truncation=True, add_special_tokens=True))"
   ]
  },
  {
   "cell_type": "code",
   "execution_count": 61,
   "metadata": {},
   "outputs": [
    {
     "data": {
      "text/plain": [
       "158851    [101, 1045, 2097, 10086, 1998, 5587, 2242, 200...\n",
       "89161     [101, 4521, 2000, 2444, 5443, 2444, 2000, 4521...\n",
       "53501     [101, 3338, 4933, 2079, 2017, 2428, 3338, 2518...\n",
       "137172    [101, 1045, 2097, 2022, 6848, 2224, 1997, 1996...\n",
       "66948     [101, 13590, 6378, 1045, 2031, 5587, 1037, 135...\n",
       "Name: lemm_text, dtype: object"
      ]
     },
     "metadata": {},
     "output_type": "display_data"
    },
    {
     "name": "stdout",
     "output_type": "stream",
     "text": [
      "(1753,)\n"
     ]
    }
   ],
   "source": [
    "display(tokenized.head())\n",
    "print(tokenized.shape)"
   ]
  },
  {
   "cell_type": "code",
   "execution_count": 62,
   "metadata": {},
   "outputs": [],
   "source": [
    "# максимальная длинна для дистилята Берта\n",
    "max_len = 512\n",
    "\n",
    "# пээдинг (отступ с 0), чтобы длинна всех твитов была равна длинне максимального \n",
    "padded = np.array([i + [0]*(max_len - len(i)) for i in tokenized.values])"
   ]
  },
  {
   "cell_type": "code",
   "execution_count": 63,
   "metadata": {},
   "outputs": [],
   "source": [
    "# маска внимания только для тех значений векторов, которые не 0\n",
    "attention_mask = np.where(padded != 0, 1, 0)"
   ]
  },
  {
   "cell_type": "code",
   "execution_count": 64,
   "metadata": {},
   "outputs": [
    {
     "data": {
      "application/vnd.jupyter.widget-view+json": {
       "model_id": "8818819d52554e5ba72e98f699759e25",
       "version_major": 2,
       "version_minor": 0
      },
      "text/plain": [
       "  0%|          | 0/18 [00:00<?, ?it/s]"
      ]
     },
     "metadata": {},
     "output_type": "display_data"
    }
   ],
   "source": [
    "# бадчами взяли эмбеддинги из предобученной модели с тензорами\n",
    "# batch_size+1 - чтобы последняя не целая часть бадча тоже пошла \n",
    "\n",
    "\n",
    "batch_size = 100\n",
    "embeddings = []\n",
    "for i in notebook.tqdm(range(padded.shape[0] // batch_size+1)):\n",
    "        batch = torch.LongTensor(padded[batch_size*i:batch_size*(i+1)]) \n",
    "        attention_mask_batch = torch.LongTensor(attention_mask[batch_size*i:batch_size*(i+1)])\n",
    "        \n",
    "        with torch.no_grad():\n",
    "            batch_embeddings = model(batch, attention_mask=attention_mask_batch)\n",
    "        \n",
    "        embeddings.append(batch_embeddings[0][:,0,:].numpy())"
   ]
  },
  {
   "cell_type": "code",
   "execution_count": 65,
   "metadata": {},
   "outputs": [],
   "source": [
    "features = np.concatenate(embeddings)\n"
   ]
  },
  {
   "cell_type": "code",
   "execution_count": 69,
   "metadata": {
    "scrolled": true
   },
   "outputs": [
    {
     "data": {
      "text/plain": [
       "array([[-0.43496376, -0.78333014,  0.8378801 , ..., -0.9760757 ,\n",
       "         0.86210483,  0.4281185 ],\n",
       "       [-0.46306038, -0.92187315,  0.20899445, ..., -0.64136356,\n",
       "         0.77140385,  0.34157267],\n",
       "       [-0.3383191 , -0.724756  ,  0.8462917 , ..., -0.81338745,\n",
       "         0.7425335 ,  0.33906326],\n",
       "       ...,\n",
       "       [-0.38755152, -0.57941693,  0.7639511 , ..., -1.0343515 ,\n",
       "         0.6879391 ,  0.4108202 ],\n",
       "       [-0.60019577, -0.75662446,  0.49076343, ..., -0.8846253 ,\n",
       "         0.5846179 ,  0.18085144],\n",
       "       [-0.46617576, -0.96910393,  0.6245164 , ..., -0.71848863,\n",
       "         0.7882419 ,  0.31430247]], dtype=float32)"
      ]
     },
     "metadata": {},
     "output_type": "display_data"
    },
    {
     "name": "stdout",
     "output_type": "stream",
     "text": [
      "(1753, 768)\n"
     ]
    }
   ],
   "source": [
    "display(features)\n",
    "print(features.shape)"
   ]
  },
  {
   "cell_type": "code",
   "execution_count": 76,
   "metadata": {},
   "outputs": [],
   "source": [
    "# разбили на обучающую и тестовую\n",
    "features_train, features_test, target_train, target_test = train_test_split(features, \n",
    "                                                                            df_1600['toxic'], \n",
    "                                                                            test_size=0.25, \n",
    "                                                                            random_state=12345, \n",
    "                                                                            stratify= df_1600['toxic'])"
   ]
  },
  {
   "cell_type": "markdown",
   "metadata": {},
   "source": [
    "## Обучение моделей"
   ]
  },
  {
   "cell_type": "markdown",
   "metadata": {},
   "source": [
    "### LogisticRegression"
   ]
  },
  {
   "cell_type": "code",
   "execution_count": 77,
   "metadata": {},
   "outputs": [],
   "source": [
    "model_1 = LogisticRegression(random_state=12345, solver='liblinear', class_weight='balanced')"
   ]
  },
  {
   "cell_type": "code",
   "execution_count": 78,
   "metadata": {},
   "outputs": [
    {
     "name": "stdout",
     "output_type": "stream",
     "text": [
      "Средняя f1 линейной регрессии c баллансом классов: 0.86\n"
     ]
    }
   ],
   "source": [
    "scores = cross_val_score(model_1, features_train, target_train, cv=10, scoring='f1') \n",
    "final_score = sum(scores)/len(scores) \n",
    "\n",
    "print('Средняя f1 линейной регрессии c баллансом классов:', round((final_score),2))"
   ]
  },
  {
   "cell_type": "code",
   "execution_count": 79,
   "metadata": {},
   "outputs": [
    {
     "name": "stdout",
     "output_type": "stream",
     "text": [
      "0.8799999999999999\n",
      "0.8750000000000001\n",
      "0.8387096774193549\n",
      "0.962962962962963\n",
      "0.7741935483870968\n",
      "0.7692307692307693\n",
      "0.896551724137931\n",
      "0.8799999999999999\n",
      "0.7586206896551724\n",
      "0.9285714285714286\n"
     ]
    }
   ],
   "source": [
    "for i in scores:\n",
    "    print(i)\n"
   ]
  },
  {
   "cell_type": "markdown",
   "metadata": {},
   "source": [
    "### RandomForestClassifier"
   ]
  },
  {
   "cell_type": "code",
   "execution_count": 81,
   "metadata": {},
   "outputs": [],
   "source": [
    "from sklearn.ensemble import RandomForestClassifier"
   ]
  },
  {
   "cell_type": "code",
   "execution_count": 82,
   "metadata": {},
   "outputs": [],
   "source": [
    "model_2 =  RandomForestClassifier(class_weight='balanced')\n",
    "\n",
    "parameters_2 = { 'n_estimators': range (10, 101, 10),\n",
    "               'max_depth': range (1,11, 1) }"
   ]
  },
  {
   "cell_type": "code",
   "execution_count": 83,
   "metadata": {},
   "outputs": [],
   "source": [
    "r_search = RandomizedSearchCV(model_2,\n",
    "                             param_distributions=parameters_2,\n",
    "                             scoring='f1',\n",
    "                             n_jobs=-1,\n",
    "                             cv=3,\n",
    "                             n_iter=100,\n",
    "                             random_state=12345)"
   ]
  },
  {
   "cell_type": "code",
   "execution_count": 84,
   "metadata": {},
   "outputs": [
    {
     "data": {
      "text/plain": [
       "RandomizedSearchCV(cv=3,\n",
       "                   estimator=RandomForestClassifier(class_weight='balanced'),\n",
       "                   n_iter=100, n_jobs=-1,\n",
       "                   param_distributions={'max_depth': range(1, 11),\n",
       "                                        'n_estimators': range(10, 101, 10)},\n",
       "                   random_state=12345, scoring='f1')"
      ]
     },
     "execution_count": 84,
     "metadata": {},
     "output_type": "execute_result"
    }
   ],
   "source": [
    "r_search.fit(features_train, target_train)"
   ]
  },
  {
   "cell_type": "code",
   "execution_count": 86,
   "metadata": {},
   "outputs": [
    {
     "name": "stdout",
     "output_type": "stream",
     "text": [
      "средняя f1 леса c баллансом классов на трейне 0.91\n"
     ]
    }
   ],
   "source": [
    "print('средняя f1 леса c баллансом классов на трейне', round((r_search.best_score_),2))"
   ]
  },
  {
   "cell_type": "markdown",
   "metadata": {},
   "source": [
    "### CatBoostClassifier"
   ]
  },
  {
   "cell_type": "code",
   "execution_count": 88,
   "metadata": {},
   "outputs": [],
   "source": [
    "# балланс классов для catboost \n",
    "\n",
    "classes = np.unique(target_train)\n",
    "weights = compute_class_weight(class_weight='balanced', classes=classes, y=target_train)\n",
    "class_weights = dict(zip(classes, weights))\n",
    "\n",
    "model_3 = CatBoostClassifier(loss_function=\"Logloss\", class_weights=class_weights, verbose=100)\n"
   ]
  },
  {
   "cell_type": "code",
   "execution_count": 89,
   "metadata": {},
   "outputs": [],
   "source": [
    "parameters_3 = { 'learning_rate': [0.01, 0.05, 0.1, 0.2, 0.3],\n",
    "                'depth': [2, 3],\n",
    "                'n_estimators': [10, 50, 100, 500, 1000] \n",
    "               }"
   ]
  },
  {
   "cell_type": "code",
   "execution_count": 90,
   "metadata": {},
   "outputs": [],
   "source": [
    "r_search_3 = RandomizedSearchCV(model_3,\n",
    "                             param_distributions=parameters_3,\n",
    "                             scoring='f1',\n",
    "                             n_jobs=-1,\n",
    "                             cv=3,\n",
    "                             n_iter=100,\n",
    "                             random_state=12345)"
   ]
  },
  {
   "cell_type": "code",
   "execution_count": 91,
   "metadata": {},
   "outputs": [
    {
     "name": "stderr",
     "output_type": "stream",
     "text": [
      "C:\\Users\\plotn\\anaconda3\\lib\\site-packages\\sklearn\\model_selection\\_search.py:292: UserWarning: The total space of parameters 50 is smaller than n_iter=100. Running 50 iterations. For exhaustive searches, use GridSearchCV.\n",
      "  warnings.warn(\n",
      "C:\\Users\\plotn\\anaconda3\\lib\\site-packages\\sklearn\\model_selection\\_validation.py:372: FitFailedWarning: \n",
      "3 fits failed out of a total of 150.\n",
      "The score on these train-test partitions for these parameters will be set to nan.\n",
      "If these failures are not expected, you can try to debug them by setting error_score='raise'.\n",
      "\n",
      "Below are more details about the failures:\n",
      "--------------------------------------------------------------------------------\n",
      "3 fits failed with the following error:\n",
      "Traceback (most recent call last):\n",
      "  File \"C:\\Users\\plotn\\anaconda3\\lib\\site-packages\\sklearn\\model_selection\\_validation.py\", line 680, in _fit_and_score\n",
      "    estimator.fit(X_train, y_train, **fit_params)\n",
      "  File \"C:\\Users\\plotn\\anaconda3\\lib\\site-packages\\catboost\\core.py\", line 5128, in fit\n",
      "    self._fit(X, y, cat_features, text_features, embedding_features, None, sample_weight, None, None, None, None, baseline, use_best_model,\n",
      "  File \"C:\\Users\\plotn\\anaconda3\\lib\\site-packages\\catboost\\core.py\", line 2355, in _fit\n",
      "    self._train(\n",
      "  File \"C:\\Users\\plotn\\anaconda3\\lib\\site-packages\\catboost\\core.py\", line 1759, in _train\n",
      "    self._object._train(train_pool, test_pool, params, allow_clear_pool, init_model._object if init_model else None)\n",
      "  File \"_catboost.pyx\", line 4623, in _catboost._CatBoost._train\n",
      "  File \"_catboost.pyx\", line 4672, in _catboost._CatBoost._train\n",
      "_catboost.CatBoostError: C:/Program Files (x86)/Go Agent/pipelines/BuildMaster/catboost.git/catboost/libs/train_lib/dir_helper.cpp:20: Can't create train working dir: catboost_info\n",
      "\n",
      "  warnings.warn(some_fits_failed_message, FitFailedWarning)\n",
      "C:\\Users\\plotn\\anaconda3\\lib\\site-packages\\sklearn\\model_selection\\_search.py:969: UserWarning: One or more of the test scores are non-finite: [       nan        nan 0.82580053 0.85416789 0.86168543 0.79672485\n",
      " 0.81613511 0.84018935 0.85746257 0.84906967 0.81855851 0.8479136\n",
      " 0.85992828 0.85870805 0.85870805 0.81820802 0.84745116 0.86508519\n",
      " 0.85880247 0.86821186 0.79877203 0.85688406 0.85877967 0.85877967\n",
      " 0.85877967 0.7991869  0.83126749 0.83612267 0.8519155  0.86901143\n",
      " 0.80888822 0.85232323 0.86787162 0.8496062  0.8496062  0.81831655\n",
      " 0.84911275 0.84997776 0.84268039 0.84268039 0.82244615 0.83760411\n",
      " 0.84896188 0.84778992 0.85115126 0.82105306 0.85673109 0.86941642\n",
      " 0.86556842 0.86851392]\n",
      "  warnings.warn(\n"
     ]
    },
    {
     "name": "stdout",
     "output_type": "stream",
     "text": [
      "0:\tlearn: 0.2859498\ttotal: 192ms\tremaining: 19s\n",
      "99:\tlearn: 0.0032589\ttotal: 1.53s\tremaining: 0us\n"
     ]
    },
    {
     "data": {
      "text/plain": [
       "RandomizedSearchCV(cv=3,\n",
       "                   estimator=<catboost.core.CatBoostClassifier object at 0x0000020F212E4D30>,\n",
       "                   n_iter=100, n_jobs=-1,\n",
       "                   param_distributions={'depth': [2, 3],\n",
       "                                        'learning_rate': [0.01, 0.05, 0.1, 0.2,\n",
       "                                                          0.3],\n",
       "                                        'n_estimators': [10, 50, 100, 500,\n",
       "                                                         1000]},\n",
       "                   random_state=12345, scoring='f1')"
      ]
     },
     "execution_count": 91,
     "metadata": {},
     "output_type": "execute_result"
    }
   ],
   "source": [
    "r_search_3.fit(features_train, target_train)"
   ]
  },
  {
   "cell_type": "code",
   "execution_count": 92,
   "metadata": {},
   "outputs": [
    {
     "name": "stdout",
     "output_type": "stream",
     "text": [
      "средняя f1 CatBoostClassifier c баллансом классов на трейне 0.87\n"
     ]
    }
   ],
   "source": [
    "print('средняя f1 CatBoostClassifier c баллансом классов на трейне', round((r_search_3.best_score_),2))"
   ]
  },
  {
   "cell_type": "markdown",
   "metadata": {},
   "source": [
    "**Лучшая модель - RandomForestClassifier с баллансом классов со средним f1 на обучающей выборке 0.91.**"
   ]
  },
  {
   "cell_type": "markdown",
   "metadata": {},
   "source": [
    "### Тестирование лучшей модели"
   ]
  },
  {
   "cell_type": "code",
   "execution_count": 95,
   "metadata": {},
   "outputs": [
    {
     "name": "stdout",
     "output_type": "stream",
     "text": [
      "f1 лучшей модели на тестовой выборке 0.84\n"
     ]
    }
   ],
   "source": [
    "model_2 =  RandomForestClassifier(class_weight='balanced', **r_search.best_params_)\n",
    "model_2.fit(features_train, target_train)\n",
    "print(\"f1 лучшей модели на тестовой выборке\", round((f1_score(target_test, model_2.predict(features_test))),2))"
   ]
  },
  {
   "cell_type": "markdown",
   "metadata": {},
   "source": [
    "## Выводы"
   ]
  },
  {
   "cell_type": "markdown",
   "metadata": {},
   "source": [
    "Модель классифицирующая комментарии на позитивные и негативные и отрицательные обучена. f1 модели на тестовой выборке 0.84.\n",
    "<br><br>\n",
    "Много оперативной памяти требуется, чтобы использовать предобученную модель Bert. Качество итоговой модели сильно зависит от того, на каком датасете обучена модель, из которой берутся эмбеддинги. Результат Bert обученного на токсичных и не-токсичных комментариях выше, чем у дистиллята Bert.    "
   ]
  }
 ],
 "metadata": {
  "ExecuteTimeLog": [
   {
    "duration": 1632,
    "start_time": "2023-03-14T08:19:15.668Z"
   },
   {
    "duration": 21594,
    "start_time": "2023-03-15T17:19:22.258Z"
   },
   {
    "duration": 7,
    "start_time": "2023-03-15T17:19:43.855Z"
   },
   {
    "duration": 1272,
    "start_time": "2023-03-15T17:19:43.864Z"
   },
   {
    "duration": 42,
    "start_time": "2023-03-15T17:19:45.138Z"
   },
   {
    "duration": 20,
    "start_time": "2023-03-15T17:19:45.183Z"
   },
   {
    "duration": 18,
    "start_time": "2023-03-15T17:19:45.205Z"
   },
   {
    "duration": 31,
    "start_time": "2023-03-15T17:19:45.225Z"
   },
   {
    "duration": 23,
    "start_time": "2023-03-15T17:19:45.258Z"
   },
   {
    "duration": 9,
    "start_time": "2023-03-15T17:19:45.284Z"
   },
   {
    "duration": 23,
    "start_time": "2023-03-15T17:19:45.295Z"
   },
   {
    "duration": 13,
    "start_time": "2023-03-15T17:19:45.320Z"
   },
   {
    "duration": 101,
    "start_time": "2023-03-15T17:19:45.335Z"
   },
   {
    "duration": 6,
    "start_time": "2023-03-15T17:19:59.706Z"
   },
   {
    "duration": 15,
    "start_time": "2023-03-15T17:20:12.779Z"
   },
   {
    "duration": 20,
    "start_time": "2023-03-15T17:20:18.740Z"
   },
   {
    "duration": 16,
    "start_time": "2023-03-15T17:20:26.186Z"
   },
   {
    "duration": 6,
    "start_time": "2023-03-15T17:20:31.378Z"
   },
   {
    "duration": 9,
    "start_time": "2023-03-15T17:20:54.646Z"
   },
   {
    "duration": 6,
    "start_time": "2023-03-15T17:20:59.356Z"
   },
   {
    "duration": 13,
    "start_time": "2023-03-15T17:21:12.792Z"
   },
   {
    "duration": 5,
    "start_time": "2023-03-15T17:21:47.282Z"
   },
   {
    "duration": 17,
    "start_time": "2023-03-15T17:21:55.223Z"
   },
   {
    "duration": 636,
    "start_time": "2023-03-15T17:23:10.772Z"
   },
   {
    "duration": 7,
    "start_time": "2023-03-15T17:23:13.065Z"
   },
   {
    "duration": 605,
    "start_time": "2023-03-15T17:23:24.532Z"
   },
   {
    "duration": 8,
    "start_time": "2023-03-15T17:23:26.252Z"
   },
   {
    "duration": 671,
    "start_time": "2023-03-15T17:23:35.855Z"
   },
   {
    "duration": 6,
    "start_time": "2023-03-15T17:23:50.279Z"
   },
   {
    "duration": 7,
    "start_time": "2023-03-15T17:23:53.168Z"
   },
   {
    "duration": 662,
    "start_time": "2023-03-15T17:24:03.634Z"
   },
   {
    "duration": 9,
    "start_time": "2023-03-15T17:24:05.586Z"
   },
   {
    "duration": 587,
    "start_time": "2023-03-15T17:24:12.786Z"
   },
   {
    "duration": 6,
    "start_time": "2023-03-15T17:24:13.969Z"
   },
   {
    "duration": 552,
    "start_time": "2023-03-15T17:24:46.356Z"
   },
   {
    "duration": 6,
    "start_time": "2023-03-15T17:24:47.795Z"
   },
   {
    "duration": 578,
    "start_time": "2023-03-15T17:24:50.855Z"
   },
   {
    "duration": 6,
    "start_time": "2023-03-15T17:24:52.407Z"
   },
   {
    "duration": 6,
    "start_time": "2023-03-15T17:24:53.475Z"
   },
   {
    "duration": 7,
    "start_time": "2023-03-15T17:24:53.939Z"
   },
   {
    "duration": 630,
    "start_time": "2023-03-15T17:24:55.118Z"
   },
   {
    "duration": 7,
    "start_time": "2023-03-15T17:24:56.534Z"
   },
   {
    "duration": 587,
    "start_time": "2023-03-15T17:24:57.967Z"
   },
   {
    "duration": 9,
    "start_time": "2023-03-15T17:25:00.040Z"
   },
   {
    "duration": 561,
    "start_time": "2023-03-15T17:25:17.768Z"
   },
   {
    "duration": 6,
    "start_time": "2023-03-15T17:25:19.644Z"
   },
   {
    "duration": 575,
    "start_time": "2023-03-15T17:37:24.620Z"
   },
   {
    "duration": 6,
    "start_time": "2023-03-15T17:37:26.975Z"
   },
   {
    "duration": 11,
    "start_time": "2023-03-15T17:38:57.972Z"
   },
   {
    "duration": 7,
    "start_time": "2023-03-15T17:38:59.081Z"
   },
   {
    "duration": 13,
    "start_time": "2023-03-15T17:39:14.860Z"
   },
   {
    "duration": 17445,
    "start_time": "2023-03-15T17:39:30.081Z"
   },
   {
    "duration": 6,
    "start_time": "2023-03-15T17:39:47.531Z"
   },
   {
    "duration": 930,
    "start_time": "2023-03-15T17:39:47.539Z"
   },
   {
    "duration": 41,
    "start_time": "2023-03-15T17:39:48.472Z"
   },
   {
    "duration": 47,
    "start_time": "2023-03-15T17:39:48.515Z"
   },
   {
    "duration": 65,
    "start_time": "2023-03-15T17:39:48.564Z"
   },
   {
    "duration": 52,
    "start_time": "2023-03-15T17:39:48.631Z"
   },
   {
    "duration": 18,
    "start_time": "2023-03-15T17:39:48.685Z"
   },
   {
    "duration": 36,
    "start_time": "2023-03-15T17:39:48.705Z"
   },
   {
    "duration": 45,
    "start_time": "2023-03-15T17:39:48.742Z"
   },
   {
    "duration": 31,
    "start_time": "2023-03-15T17:39:48.789Z"
   },
   {
    "duration": 119,
    "start_time": "2023-03-15T17:39:48.822Z"
   },
   {
    "duration": 7,
    "start_time": "2023-03-15T17:39:48.944Z"
   },
   {
    "duration": 394,
    "start_time": "2023-03-15T17:39:48.953Z"
   },
   {
    "duration": 14,
    "start_time": "2023-03-15T17:47:55.568Z"
   },
   {
    "duration": 7,
    "start_time": "2023-03-15T17:47:58.314Z"
   },
   {
    "duration": 11,
    "start_time": "2023-03-15T17:48:00.026Z"
   },
   {
    "duration": 12,
    "start_time": "2023-03-15T17:48:11.182Z"
   },
   {
    "duration": 10,
    "start_time": "2023-03-15T17:48:12.382Z"
   },
   {
    "duration": 6,
    "start_time": "2023-03-15T17:48:13.980Z"
   },
   {
    "duration": 76,
    "start_time": "2023-03-15T18:24:09.563Z"
   },
   {
    "duration": 600,
    "start_time": "2023-03-15T18:24:14.134Z"
   },
   {
    "duration": 8,
    "start_time": "2023-03-15T18:24:17.621Z"
   },
   {
    "duration": 16796,
    "start_time": "2023-03-15T18:40:34.321Z"
   },
   {
    "duration": 6,
    "start_time": "2023-03-15T18:40:51.120Z"
   },
   {
    "duration": 841,
    "start_time": "2023-03-15T18:40:51.127Z"
   },
   {
    "duration": 39,
    "start_time": "2023-03-15T18:40:51.970Z"
   },
   {
    "duration": 23,
    "start_time": "2023-03-15T18:40:52.013Z"
   },
   {
    "duration": 17,
    "start_time": "2023-03-15T18:40:52.038Z"
   },
   {
    "duration": 49,
    "start_time": "2023-03-15T18:40:52.057Z"
   },
   {
    "duration": 2,
    "start_time": "2023-03-15T18:40:52.108Z"
   },
   {
    "duration": 13,
    "start_time": "2023-03-15T18:40:52.112Z"
   },
   {
    "duration": 40,
    "start_time": "2023-03-15T18:40:52.126Z"
   },
   {
    "duration": 40,
    "start_time": "2023-03-15T18:40:52.168Z"
   },
   {
    "duration": 90,
    "start_time": "2023-03-15T18:40:52.210Z"
   },
   {
    "duration": 9,
    "start_time": "2023-03-15T18:40:52.302Z"
   },
   {
    "duration": 30,
    "start_time": "2023-03-15T18:40:52.313Z"
   },
   {
    "duration": 24,
    "start_time": "2023-03-15T18:40:52.344Z"
   },
   {
    "duration": 427,
    "start_time": "2023-03-15T18:40:52.370Z"
   },
   {
    "duration": 701,
    "start_time": "2023-03-15T18:40:52.799Z"
   },
   {
    "duration": 8116,
    "start_time": "2023-03-15T18:40:53.502Z"
   },
   {
    "duration": 11,
    "start_time": "2023-03-15T18:41:01.621Z"
   },
   {
    "duration": 370,
    "start_time": "2023-03-15T18:58:04.122Z"
   },
   {
    "duration": 21,
    "start_time": "2023-03-15T18:58:10.110Z"
   },
   {
    "duration": 15,
    "start_time": "2023-03-15T18:59:04.171Z"
   },
   {
    "duration": 6,
    "start_time": "2023-03-15T18:59:12.008Z"
   },
   {
    "duration": 96,
    "start_time": "2023-03-15T19:01:11.763Z"
   },
   {
    "duration": 8,
    "start_time": "2023-03-15T19:01:36.088Z"
   },
   {
    "duration": 5,
    "start_time": "2023-03-15T19:01:44.868Z"
   },
   {
    "duration": 5,
    "start_time": "2023-03-15T19:04:10.124Z"
   },
   {
    "duration": 14,
    "start_time": "2023-03-15T19:04:23.660Z"
   },
   {
    "duration": 5,
    "start_time": "2023-03-15T19:04:30.410Z"
   },
   {
    "duration": 16662,
    "start_time": "2023-03-15T19:04:42.106Z"
   },
   {
    "duration": 5,
    "start_time": "2023-03-15T19:04:58.770Z"
   },
   {
    "duration": 831,
    "start_time": "2023-03-15T19:04:58.777Z"
   },
   {
    "duration": 38,
    "start_time": "2023-03-15T19:04:59.610Z"
   },
   {
    "duration": 36,
    "start_time": "2023-03-15T19:04:59.649Z"
   },
   {
    "duration": 22,
    "start_time": "2023-03-15T19:04:59.688Z"
   },
   {
    "duration": 28,
    "start_time": "2023-03-15T19:04:59.712Z"
   },
   {
    "duration": 3,
    "start_time": "2023-03-15T19:04:59.742Z"
   },
   {
    "duration": 36,
    "start_time": "2023-03-15T19:04:59.747Z"
   },
   {
    "duration": 7,
    "start_time": "2023-03-15T19:04:59.786Z"
   },
   {
    "duration": 7,
    "start_time": "2023-03-15T19:04:59.795Z"
   },
   {
    "duration": 80,
    "start_time": "2023-03-15T19:04:59.804Z"
   },
   {
    "duration": 10,
    "start_time": "2023-03-15T19:04:59.887Z"
   },
   {
    "duration": 16,
    "start_time": "2023-03-15T19:04:59.899Z"
   },
   {
    "duration": 14,
    "start_time": "2023-03-15T19:04:59.917Z"
   },
   {
    "duration": 459,
    "start_time": "2023-03-15T19:04:59.933Z"
   },
   {
    "duration": 59,
    "start_time": "2023-03-15T19:05:00.394Z"
   },
   {
    "duration": 7789,
    "start_time": "2023-03-15T19:05:00.455Z"
   },
   {
    "duration": 12,
    "start_time": "2023-03-15T19:05:08.246Z"
   },
   {
    "duration": 4,
    "start_time": "2023-03-15T19:06:50.629Z"
   },
   {
    "duration": 4,
    "start_time": "2023-03-15T19:08:36.997Z"
   },
   {
    "duration": 45,
    "start_time": "2023-03-15T19:08:53.435Z"
   },
   {
    "duration": 15,
    "start_time": "2023-03-15T19:08:57.687Z"
   },
   {
    "duration": 926,
    "start_time": "2023-03-15T19:09:25.854Z"
   },
   {
    "duration": 6,
    "start_time": "2023-03-15T19:11:15.547Z"
   },
   {
    "duration": 5,
    "start_time": "2023-03-15T19:11:19.703Z"
   },
   {
    "duration": 458,
    "start_time": "2023-03-15T19:11:39.066Z"
   }
  ],
  "kernelspec": {
   "display_name": "Python 3",
   "language": "python",
   "name": "python3"
  },
  "language_info": {
   "codemirror_mode": {
    "name": "ipython",
    "version": 3
   },
   "file_extension": ".py",
   "mimetype": "text/x-python",
   "name": "python",
   "nbconvert_exporter": "python",
   "pygments_lexer": "ipython3",
   "version": "3.8.5"
  },
  "toc": {
   "base_numbering": 1,
   "nav_menu": {},
   "number_sections": true,
   "sideBar": true,
   "skip_h1_title": true,
   "title_cell": "Содержание",
   "title_sidebar": "Contents",
   "toc_cell": true,
   "toc_position": {
    "height": "calc(100% - 180px)",
    "left": "10px",
    "top": "150px",
    "width": "302.391px"
   },
   "toc_section_display": true,
   "toc_window_display": false
  }
 },
 "nbformat": 4,
 "nbformat_minor": 2
}
