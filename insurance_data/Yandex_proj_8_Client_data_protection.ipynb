{
 "cells": [
  {
   "cell_type": "markdown",
   "metadata": {
    "toc": true
   },
   "source": [
    "<h1>Содержание<span class=\"tocSkip\"></span></h1>\n",
    "<div class=\"toc\"><ul class=\"toc-item\"><li><span><a href=\"#Загрузка-данных\" data-toc-modified-id=\"Загрузка-данных-1\"><span class=\"toc-item-num\">1&nbsp;&nbsp;</span>Загрузка данных</a></span></li><li><span><a href=\"#Умножение-матриц\" data-toc-modified-id=\"Умножение-матриц-2\"><span class=\"toc-item-num\">2&nbsp;&nbsp;</span>Умножение матриц</a></span></li><li><span><a href=\"#Алгоритм-преобразования\" data-toc-modified-id=\"Алгоритм-преобразования-3\"><span class=\"toc-item-num\">3&nbsp;&nbsp;</span>Алгоритм преобразования</a></span></li><li><span><a href=\"#Проверка-алгоритма\" data-toc-modified-id=\"Проверка-алгоритма-4\"><span class=\"toc-item-num\">4&nbsp;&nbsp;</span>Проверка алгоритма</a></span></li><li><span><a href=\"#Чек-лист-проверки\" data-toc-modified-id=\"Чек-лист-проверки-5\"><span class=\"toc-item-num\">5&nbsp;&nbsp;</span>Чек-лист проверки</a></span></li></ul></div>"
   ]
  },
  {
   "cell_type": "markdown",
   "metadata": {},
   "source": [
    "# Защита персональных данных клиентов"
   ]
  },
  {
   "cell_type": "markdown",
   "metadata": {},
   "source": [
    "Вам нужно защитить данные клиентов страховой компании «Хоть потоп». Разработайте такой метод преобразования данных, чтобы по ним было сложно восстановить персональную информацию. Обоснуйте корректность его работы.\n",
    "\n",
    "Нужно защитить данные, чтобы при преобразовании качество моделей машинного обучения не ухудшилось. Подбирать наилучшую модель не требуется."
   ]
  },
  {
   "cell_type": "markdown",
   "metadata": {},
   "source": [
    "## Загрузка данных"
   ]
  },
  {
   "cell_type": "code",
   "execution_count": 1,
   "metadata": {},
   "outputs": [],
   "source": [
    "# загрузка библиотек\n",
    "\n",
    "import pandas as pd\n",
    "import numpy as np\n",
    "import matplotlib.pyplot as plt\n",
    "import seaborn as sns\n",
    "\n",
    "from sklearn.linear_model import LinearRegression # линейная регрессия \n",
    "from sklearn.metrics import r2_score # R2 \n",
    "\n",
    "# для phik-коэффициента корреляции\n",
    "import phik\n",
    "from phik.report import plot_correlation_matrix\n",
    "from phik import report\n",
    "\n",
    "# для VIF\n",
    "from patsy import dmatrices\n",
    "from statsmodels.stats.outliers_influence import variance_inflation_factor\n",
    "\n",
    "# МНК отчет\n",
    "import statsmodels.api as sm\n",
    "from scipy import stats"
   ]
  },
  {
   "cell_type": "code",
   "execution_count": 2,
   "metadata": {},
   "outputs": [],
   "source": [
    "# загрузка данных\n",
    "\n",
    "df = pd.read_csv('/datasets/insurance.csv')"
   ]
  },
  {
   "cell_type": "code",
   "execution_count": 3,
   "metadata": {
    "scrolled": true
   },
   "outputs": [
    {
     "data": {
      "text/html": [
       "<div>\n",
       "<style scoped>\n",
       "    .dataframe tbody tr th:only-of-type {\n",
       "        vertical-align: middle;\n",
       "    }\n",
       "\n",
       "    .dataframe tbody tr th {\n",
       "        vertical-align: top;\n",
       "    }\n",
       "\n",
       "    .dataframe thead th {\n",
       "        text-align: right;\n",
       "    }\n",
       "</style>\n",
       "<table border=\"1\" class=\"dataframe\">\n",
       "  <thead>\n",
       "    <tr style=\"text-align: right;\">\n",
       "      <th></th>\n",
       "      <th>Пол</th>\n",
       "      <th>Возраст</th>\n",
       "      <th>Зарплата</th>\n",
       "      <th>Члены семьи</th>\n",
       "      <th>Страховые выплаты</th>\n",
       "    </tr>\n",
       "  </thead>\n",
       "  <tbody>\n",
       "    <tr>\n",
       "      <th>3843</th>\n",
       "      <td>1</td>\n",
       "      <td>46.0</td>\n",
       "      <td>48000.0</td>\n",
       "      <td>0</td>\n",
       "      <td>1</td>\n",
       "    </tr>\n",
       "    <tr>\n",
       "      <th>4669</th>\n",
       "      <td>0</td>\n",
       "      <td>46.0</td>\n",
       "      <td>26900.0</td>\n",
       "      <td>1</td>\n",
       "      <td>1</td>\n",
       "    </tr>\n",
       "    <tr>\n",
       "      <th>4692</th>\n",
       "      <td>1</td>\n",
       "      <td>28.0</td>\n",
       "      <td>38400.0</td>\n",
       "      <td>3</td>\n",
       "      <td>0</td>\n",
       "    </tr>\n",
       "    <tr>\n",
       "      <th>4141</th>\n",
       "      <td>0</td>\n",
       "      <td>28.0</td>\n",
       "      <td>40300.0</td>\n",
       "      <td>0</td>\n",
       "      <td>0</td>\n",
       "    </tr>\n",
       "    <tr>\n",
       "      <th>2303</th>\n",
       "      <td>0</td>\n",
       "      <td>28.0</td>\n",
       "      <td>43000.0</td>\n",
       "      <td>0</td>\n",
       "      <td>0</td>\n",
       "    </tr>\n",
       "    <tr>\n",
       "      <th>1335</th>\n",
       "      <td>1</td>\n",
       "      <td>23.0</td>\n",
       "      <td>47200.0</td>\n",
       "      <td>0</td>\n",
       "      <td>0</td>\n",
       "    </tr>\n",
       "    <tr>\n",
       "      <th>2394</th>\n",
       "      <td>1</td>\n",
       "      <td>26.0</td>\n",
       "      <td>51900.0</td>\n",
       "      <td>0</td>\n",
       "      <td>0</td>\n",
       "    </tr>\n",
       "    <tr>\n",
       "      <th>3113</th>\n",
       "      <td>1</td>\n",
       "      <td>39.0</td>\n",
       "      <td>47100.0</td>\n",
       "      <td>1</td>\n",
       "      <td>0</td>\n",
       "    </tr>\n",
       "    <tr>\n",
       "      <th>2156</th>\n",
       "      <td>1</td>\n",
       "      <td>23.0</td>\n",
       "      <td>43500.0</td>\n",
       "      <td>1</td>\n",
       "      <td>0</td>\n",
       "    </tr>\n",
       "    <tr>\n",
       "      <th>1101</th>\n",
       "      <td>1</td>\n",
       "      <td>24.0</td>\n",
       "      <td>29600.0</td>\n",
       "      <td>0</td>\n",
       "      <td>0</td>\n",
       "    </tr>\n",
       "  </tbody>\n",
       "</table>\n",
       "</div>"
      ],
      "text/plain": [
       "      Пол  Возраст  Зарплата  Члены семьи  Страховые выплаты\n",
       "3843    1     46.0   48000.0            0                  1\n",
       "4669    0     46.0   26900.0            1                  1\n",
       "4692    1     28.0   38400.0            3                  0\n",
       "4141    0     28.0   40300.0            0                  0\n",
       "2303    0     28.0   43000.0            0                  0\n",
       "1335    1     23.0   47200.0            0                  0\n",
       "2394    1     26.0   51900.0            0                  0\n",
       "3113    1     39.0   47100.0            1                  0\n",
       "2156    1     23.0   43500.0            1                  0\n",
       "1101    1     24.0   29600.0            0                  0"
      ]
     },
     "metadata": {},
     "output_type": "display_data"
    }
   ],
   "source": [
    "# посмотрим\n",
    "display(df.sample(10))"
   ]
  },
  {
   "cell_type": "code",
   "execution_count": 4,
   "metadata": {},
   "outputs": [
    {
     "name": "stdout",
     "output_type": "stream",
     "text": [
      "<class 'pandas.core.frame.DataFrame'>\n",
      "RangeIndex: 5000 entries, 0 to 4999\n",
      "Data columns (total 5 columns):\n",
      " #   Column             Non-Null Count  Dtype  \n",
      "---  ------             --------------  -----  \n",
      " 0   Пол                5000 non-null   int64  \n",
      " 1   Возраст            5000 non-null   float64\n",
      " 2   Зарплата           5000 non-null   float64\n",
      " 3   Члены семьи        5000 non-null   int64  \n",
      " 4   Страховые выплаты  5000 non-null   int64  \n",
      "dtypes: float64(2), int64(3)\n",
      "memory usage: 195.4 KB\n"
     ]
    }
   ],
   "source": [
    "# есть ли пропуски?\n",
    "df.info()"
   ]
  },
  {
   "cell_type": "code",
   "execution_count": 5,
   "metadata": {},
   "outputs": [],
   "source": [
    "# возраст и зарплата это целые числа\n",
    "\n",
    "df['Возраст'] = df['Возраст'].astype('int')\n",
    "df['Зарплата'] = df['Зарплата'].astype('int')"
   ]
  },
  {
   "cell_type": "code",
   "execution_count": 6,
   "metadata": {},
   "outputs": [
    {
     "data": {
      "text/html": [
       "<div>\n",
       "<style scoped>\n",
       "    .dataframe tbody tr th:only-of-type {\n",
       "        vertical-align: middle;\n",
       "    }\n",
       "\n",
       "    .dataframe tbody tr th {\n",
       "        vertical-align: top;\n",
       "    }\n",
       "\n",
       "    .dataframe thead th {\n",
       "        text-align: right;\n",
       "    }\n",
       "</style>\n",
       "<table border=\"1\" class=\"dataframe\">\n",
       "  <thead>\n",
       "    <tr style=\"text-align: right;\">\n",
       "      <th></th>\n",
       "      <th>Пол</th>\n",
       "      <th>Возраст</th>\n",
       "      <th>Зарплата</th>\n",
       "      <th>Члены семьи</th>\n",
       "      <th>Страховые выплаты</th>\n",
       "    </tr>\n",
       "  </thead>\n",
       "  <tbody>\n",
       "    <tr>\n",
       "      <th>count</th>\n",
       "      <td>5000.000000</td>\n",
       "      <td>5000.000000</td>\n",
       "      <td>5000.000000</td>\n",
       "      <td>5000.000000</td>\n",
       "      <td>5000.000000</td>\n",
       "    </tr>\n",
       "    <tr>\n",
       "      <th>mean</th>\n",
       "      <td>0.499000</td>\n",
       "      <td>30.952800</td>\n",
       "      <td>39916.359400</td>\n",
       "      <td>1.194200</td>\n",
       "      <td>0.148000</td>\n",
       "    </tr>\n",
       "    <tr>\n",
       "      <th>std</th>\n",
       "      <td>0.500049</td>\n",
       "      <td>8.440807</td>\n",
       "      <td>9900.082063</td>\n",
       "      <td>1.091387</td>\n",
       "      <td>0.463183</td>\n",
       "    </tr>\n",
       "    <tr>\n",
       "      <th>min</th>\n",
       "      <td>0.000000</td>\n",
       "      <td>18.000000</td>\n",
       "      <td>5300.000000</td>\n",
       "      <td>0.000000</td>\n",
       "      <td>0.000000</td>\n",
       "    </tr>\n",
       "    <tr>\n",
       "      <th>25%</th>\n",
       "      <td>0.000000</td>\n",
       "      <td>24.000000</td>\n",
       "      <td>33300.000000</td>\n",
       "      <td>0.000000</td>\n",
       "      <td>0.000000</td>\n",
       "    </tr>\n",
       "    <tr>\n",
       "      <th>50%</th>\n",
       "      <td>0.000000</td>\n",
       "      <td>30.000000</td>\n",
       "      <td>40200.000000</td>\n",
       "      <td>1.000000</td>\n",
       "      <td>0.000000</td>\n",
       "    </tr>\n",
       "    <tr>\n",
       "      <th>75%</th>\n",
       "      <td>1.000000</td>\n",
       "      <td>37.000000</td>\n",
       "      <td>46600.000000</td>\n",
       "      <td>2.000000</td>\n",
       "      <td>0.000000</td>\n",
       "    </tr>\n",
       "    <tr>\n",
       "      <th>max</th>\n",
       "      <td>1.000000</td>\n",
       "      <td>65.000000</td>\n",
       "      <td>79000.000000</td>\n",
       "      <td>6.000000</td>\n",
       "      <td>5.000000</td>\n",
       "    </tr>\n",
       "  </tbody>\n",
       "</table>\n",
       "</div>"
      ],
      "text/plain": [
       "               Пол      Возраст      Зарплата  Члены семьи  Страховые выплаты\n",
       "count  5000.000000  5000.000000   5000.000000  5000.000000        5000.000000\n",
       "mean      0.499000    30.952800  39916.359400     1.194200           0.148000\n",
       "std       0.500049     8.440807   9900.082063     1.091387           0.463183\n",
       "min       0.000000    18.000000   5300.000000     0.000000           0.000000\n",
       "25%       0.000000    24.000000  33300.000000     0.000000           0.000000\n",
       "50%       0.000000    30.000000  40200.000000     1.000000           0.000000\n",
       "75%       1.000000    37.000000  46600.000000     2.000000           0.000000\n",
       "max       1.000000    65.000000  79000.000000     6.000000           5.000000"
      ]
     },
     "execution_count": 6,
     "metadata": {},
     "output_type": "execute_result"
    }
   ],
   "source": [
    "# нет ли отрицательных значений\n",
    "\n",
    "df.describe()"
   ]
  },
  {
   "cell_type": "code",
   "execution_count": 7,
   "metadata": {},
   "outputs": [],
   "source": [
    "# разделим на фичи и таргет\n",
    "features = df.drop('Страховые выплаты', axis=1)\n",
    "target = df['Страховые выплаты']"
   ]
  },
  {
   "cell_type": "code",
   "execution_count": 8,
   "metadata": {
    "scrolled": false
   },
   "outputs": [
    {
     "data": {
      "text/plain": [
       "<AxesSubplot:>"
      ]
     },
     "execution_count": 8,
     "metadata": {},
     "output_type": "execute_result"
    },
    {
     "data": {
      "image/png": "[encoded data removed]",
      "text/plain": [
       "<Figure size 720x360 with 2 Axes>"
      ]
     },
     "metadata": {},
     "output_type": "display_data"
    }
   ],
   "source": [
    "# проверим нет ли корреляций между параметрами\n",
    "sns.set(font_scale=1.15)\n",
    "plt.figure(figsize=(10,5))\n",
    "sns.heatmap(\n",
    "    features.corr(),        \n",
    "    cmap='RdBu', \n",
    "    annot=True, \n",
    "    vmin=-1, vmax=1)"
   ]
  },
  {
   "cell_type": "markdown",
   "metadata": {},
   "source": [
    "Если смотреть на коэффициент корреляции Пирсона, корреляции м-ду возрастом и зарплатой как будто бы нет, хотя здравый смысл подсказывает обратное. Что-то из них распределено не нормально."
   ]
  },
  {
   "cell_type": "code",
   "execution_count": 15,
   "metadata": {},
   "outputs": [
    {
     "name": "stdout",
     "output_type": "stream",
     "text": [
      "Collecting phik\n",
      "  Downloading phik-0.12.3-cp39-cp39-manylinux_2_17_x86_64.manylinux2014_x86_64.whl (679 kB)\n",
      "\u001b[K     |████████████████████████████████| 679 kB 13 kB/s eta 0:00:01\n",
      "\u001b[?25hRequirement already satisfied: matplotlib>=2.2.3 in /opt/conda/lib/python3.9/site-packages (from phik) (3.3.4)\n",
      "Requirement already satisfied: numpy>=1.18.0 in /opt/conda/lib/python3.9/site-packages (from phik) (1.21.1)\n",
      "Requirement already satisfied: joblib>=0.14.1 in /opt/conda/lib/python3.9/site-packages (from phik) (1.1.0)\n",
      "Requirement already satisfied: scipy>=1.5.2 in /opt/conda/lib/python3.9/site-packages (from phik) (1.9.1)\n",
      "Requirement already satisfied: pandas>=0.25.1 in /opt/conda/lib/python3.9/site-packages (from phik) (1.2.4)\n",
      "Requirement already satisfied: cycler>=0.10 in /opt/conda/lib/python3.9/site-packages (from matplotlib>=2.2.3->phik) (0.11.0)\n",
      "Requirement already satisfied: python-dateutil>=2.1 in /opt/conda/lib/python3.9/site-packages (from matplotlib>=2.2.3->phik) (2.8.1)\n",
      "Requirement already satisfied: pyparsing!=2.0.4,!=2.1.2,!=2.1.6,>=2.0.3 in /opt/conda/lib/python3.9/site-packages (from matplotlib>=2.2.3->phik) (2.4.7)\n",
      "Requirement already satisfied: kiwisolver>=1.0.1 in /opt/conda/lib/python3.9/site-packages (from matplotlib>=2.2.3->phik) (1.4.4)\n",
      "Requirement already satisfied: pillow>=6.2.0 in /opt/conda/lib/python3.9/site-packages (from matplotlib>=2.2.3->phik) (8.4.0)\n",
      "Requirement already satisfied: pytz>=2017.3 in /opt/conda/lib/python3.9/site-packages (from pandas>=0.25.1->phik) (2021.1)\n",
      "Requirement already satisfied: six>=1.5 in /opt/conda/lib/python3.9/site-packages (from python-dateutil>=2.1->matplotlib>=2.2.3->phik) (1.16.0)\n",
      "Installing collected packages: phik\n",
      "Successfully installed phik-0.12.3\n",
      "Note: you may need to restart the kernel to use updated packages.\n"
     ]
    }
   ],
   "source": [
    "# установим\n",
    "pip install phik"
   ]
  },
  {
   "cell_type": "code",
   "execution_count": 16,
   "metadata": {},
   "outputs": [],
   "source": []
  },
  {
   "cell_type": "code",
   "execution_count": 17,
   "metadata": {},
   "outputs": [
    {
     "name": "stdout",
     "output_type": "stream",
     "text": [
      "interval columns not set, guessing: ['Пол', 'Возраст', 'Зарплата', 'Члены семьи']\n"
     ]
    },
    {
     "data": {
      "text/html": [
       "<div>\n",
       "<style scoped>\n",
       "    .dataframe tbody tr th:only-of-type {\n",
       "        vertical-align: middle;\n",
       "    }\n",
       "\n",
       "    .dataframe tbody tr th {\n",
       "        vertical-align: top;\n",
       "    }\n",
       "\n",
       "    .dataframe thead th {\n",
       "        text-align: right;\n",
       "    }\n",
       "</style>\n",
       "<table border=\"1\" class=\"dataframe\">\n",
       "  <thead>\n",
       "    <tr style=\"text-align: right;\">\n",
       "      <th></th>\n",
       "      <th>Пол</th>\n",
       "      <th>Возраст</th>\n",
       "      <th>Зарплата</th>\n",
       "      <th>Члены семьи</th>\n",
       "    </tr>\n",
       "  </thead>\n",
       "  <tbody>\n",
       "    <tr>\n",
       "      <th>Пол</th>\n",
       "      <td>1.0</td>\n",
       "      <td>0.00</td>\n",
       "      <td>0.00</td>\n",
       "      <td>0.0</td>\n",
       "    </tr>\n",
       "    <tr>\n",
       "      <th>Возраст</th>\n",
       "      <td>0.0</td>\n",
       "      <td>1.00</td>\n",
       "      <td>0.07</td>\n",
       "      <td>0.0</td>\n",
       "    </tr>\n",
       "    <tr>\n",
       "      <th>Зарплата</th>\n",
       "      <td>0.0</td>\n",
       "      <td>0.07</td>\n",
       "      <td>1.00</td>\n",
       "      <td>0.0</td>\n",
       "    </tr>\n",
       "    <tr>\n",
       "      <th>Члены семьи</th>\n",
       "      <td>0.0</td>\n",
       "      <td>0.00</td>\n",
       "      <td>0.00</td>\n",
       "      <td>1.0</td>\n",
       "    </tr>\n",
       "  </tbody>\n",
       "</table>\n",
       "</div>"
      ],
      "text/plain": [
       "             Пол  Возраст  Зарплата  Члены семьи\n",
       "Пол          1.0     0.00      0.00          0.0\n",
       "Возраст      0.0     1.00      0.07          0.0\n",
       "Зарплата     0.0     0.07      1.00          0.0\n",
       "Члены семьи  0.0     0.00      0.00          1.0"
      ]
     },
     "execution_count": 17,
     "metadata": {},
     "output_type": "execute_result"
    }
   ],
   "source": [
    "# фик-корреляция\n",
    "phik_overview = features.phik_matrix()\n",
    "phik_overview.round(2)"
   ]
  },
  {
   "cell_type": "code",
   "execution_count": 20,
   "metadata": {
    "scrolled": true
   },
   "outputs": [
    {
     "data": {
      "image/png": "[encoded data removed]",
      "text/plain": [
       "<Figure size 720x360 with 2 Axes>"
      ]
     },
     "metadata": {},
     "output_type": "display_data"
    }
   ],
   "source": [
    "plot_correlation_matrix(phik_overview.values, \n",
    "                        x_labels=phik_overview.columns, \n",
    "                        y_labels=phik_overview.index, \n",
    "                        vmin=-1, vmax=1, color_map=\"RdBu\", \n",
    "                        title=r\"correlation $\\phi_K$\", \n",
    "                        fontsize_factor=1.15, \n",
    "                        figsize=(10, 5))\n",
    "plt.tight_layout()"
   ]
  },
  {
   "cell_type": "markdown",
   "metadata": {},
   "source": [
    "C phik коэффициентом уже видно, что слабая положительная связь м-ду возрастом и зарплатой есть."
   ]
  },
  {
   "cell_type": "code",
   "execution_count": 26,
   "metadata": {},
   "outputs": [
    {
     "data": {
      "text/html": [
       "<div>\n",
       "<style scoped>\n",
       "    .dataframe tbody tr th:only-of-type {\n",
       "        vertical-align: middle;\n",
       "    }\n",
       "\n",
       "    .dataframe tbody tr th {\n",
       "        vertical-align: top;\n",
       "    }\n",
       "\n",
       "    .dataframe thead th {\n",
       "        text-align: right;\n",
       "    }\n",
       "</style>\n",
       "<table border=\"1\" class=\"dataframe\">\n",
       "  <thead>\n",
       "    <tr style=\"text-align: right;\">\n",
       "      <th></th>\n",
       "      <th>Пол</th>\n",
       "      <th>Возраст</th>\n",
       "      <th>Зарплата</th>\n",
       "      <th>Члены семьи</th>\n",
       "      <th>Страховые выплаты</th>\n",
       "    </tr>\n",
       "  </thead>\n",
       "  <tbody>\n",
       "    <tr>\n",
       "      <th>0</th>\n",
       "      <td>1</td>\n",
       "      <td>41</td>\n",
       "      <td>49600</td>\n",
       "      <td>1</td>\n",
       "      <td>0</td>\n",
       "    </tr>\n",
       "    <tr>\n",
       "      <th>1</th>\n",
       "      <td>0</td>\n",
       "      <td>46</td>\n",
       "      <td>38000</td>\n",
       "      <td>1</td>\n",
       "      <td>1</td>\n",
       "    </tr>\n",
       "    <tr>\n",
       "      <th>2</th>\n",
       "      <td>0</td>\n",
       "      <td>29</td>\n",
       "      <td>21000</td>\n",
       "      <td>0</td>\n",
       "      <td>0</td>\n",
       "    </tr>\n",
       "    <tr>\n",
       "      <th>3</th>\n",
       "      <td>0</td>\n",
       "      <td>21</td>\n",
       "      <td>41700</td>\n",
       "      <td>2</td>\n",
       "      <td>0</td>\n",
       "    </tr>\n",
       "    <tr>\n",
       "      <th>4</th>\n",
       "      <td>1</td>\n",
       "      <td>28</td>\n",
       "      <td>26100</td>\n",
       "      <td>0</td>\n",
       "      <td>0</td>\n",
       "    </tr>\n",
       "  </tbody>\n",
       "</table>\n",
       "</div>"
      ],
      "text/plain": [
       "   Пол  Возраст  Зарплата  Члены семьи  Страховые выплаты\n",
       "0    1       41     49600            1                  0\n",
       "1    0       46     38000            1                  1\n",
       "2    0       29     21000            0                  0\n",
       "3    0       21     41700            2                  0\n",
       "4    1       28     26100            0                  0"
      ]
     },
     "metadata": {},
     "output_type": "display_data"
    }
   ],
   "source": [
    "display(df.head(5))"
   ]
  },
  {
   "cell_type": "code",
   "execution_count": 27,
   "metadata": {},
   "outputs": [],
   "source": [
    "# переименуем столбцы, чтобы сработал код ниже\n",
    "df.columns = ['sex', 'age', 'wage', 'family', 'insurance']"
   ]
  },
  {
   "cell_type": "code",
   "execution_count": 28,
   "metadata": {},
   "outputs": [
    {
     "data": {
      "text/html": [
       "<div>\n",
       "<style scoped>\n",
       "    .dataframe tbody tr th:only-of-type {\n",
       "        vertical-align: middle;\n",
       "    }\n",
       "\n",
       "    .dataframe tbody tr th {\n",
       "        vertical-align: top;\n",
       "    }\n",
       "\n",
       "    .dataframe thead th {\n",
       "        text-align: right;\n",
       "    }\n",
       "</style>\n",
       "<table border=\"1\" class=\"dataframe\">\n",
       "  <thead>\n",
       "    <tr style=\"text-align: right;\">\n",
       "      <th></th>\n",
       "      <th>sex</th>\n",
       "      <th>age</th>\n",
       "      <th>wage</th>\n",
       "      <th>family</th>\n",
       "      <th>insurance</th>\n",
       "    </tr>\n",
       "  </thead>\n",
       "  <tbody>\n",
       "    <tr>\n",
       "      <th>0</th>\n",
       "      <td>1</td>\n",
       "      <td>41</td>\n",
       "      <td>49600</td>\n",
       "      <td>1</td>\n",
       "      <td>0</td>\n",
       "    </tr>\n",
       "    <tr>\n",
       "      <th>1</th>\n",
       "      <td>0</td>\n",
       "      <td>46</td>\n",
       "      <td>38000</td>\n",
       "      <td>1</td>\n",
       "      <td>1</td>\n",
       "    </tr>\n",
       "    <tr>\n",
       "      <th>2</th>\n",
       "      <td>0</td>\n",
       "      <td>29</td>\n",
       "      <td>21000</td>\n",
       "      <td>0</td>\n",
       "      <td>0</td>\n",
       "    </tr>\n",
       "    <tr>\n",
       "      <th>3</th>\n",
       "      <td>0</td>\n",
       "      <td>21</td>\n",
       "      <td>41700</td>\n",
       "      <td>2</td>\n",
       "      <td>0</td>\n",
       "    </tr>\n",
       "    <tr>\n",
       "      <th>4</th>\n",
       "      <td>1</td>\n",
       "      <td>28</td>\n",
       "      <td>26100</td>\n",
       "      <td>0</td>\n",
       "      <td>0</td>\n",
       "    </tr>\n",
       "  </tbody>\n",
       "</table>\n",
       "</div>"
      ],
      "text/plain": [
       "   sex  age   wage  family  insurance\n",
       "0    1   41  49600       1          0\n",
       "1    0   46  38000       1          1\n",
       "2    0   29  21000       0          0\n",
       "3    0   21  41700       2          0\n",
       "4    1   28  26100       0          0"
      ]
     },
     "metadata": {},
     "output_type": "display_data"
    }
   ],
   "source": [
    "display(df.head(5))"
   ]
  },
  {
   "cell_type": "code",
   "execution_count": 29,
   "metadata": {},
   "outputs": [
    {
     "name": "stdout",
     "output_type": "stream",
     "text": [
      "         VIF   variable\n",
      "0  33.716802  Intercept\n",
      "1   1.000301        sex\n",
      "2   1.000423        age\n",
      "3   1.001508       wage\n",
      "4   1.001044     family\n"
     ]
    }
   ],
   "source": [
    "# еще можно мультиколинеарность через VIF (коэффициент вздутия дисперсии) смотреть\n",
    "\n",
    "y, X = dmatrices('insurance ~ sex+age+wage+family', data=df, return_type='dataframe')\n",
    "\n",
    "vif = pd.DataFrame()\n",
    "vif['VIF'] = [variance_inflation_factor(X.values, i) for i in range(X.shape[1])]\n",
    "vif['variable'] = X.columns\n",
    "print(vif)"
   ]
  },
  {
   "cell_type": "markdown",
   "metadata": {},
   "source": [
    "Низкие значения VIF говорят в пользу того, что мультиколлинеарности нет."
   ]
  },
  {
   "cell_type": "code",
   "execution_count": 40,
   "metadata": {},
   "outputs": [
    {
     "data": {
      "image/png": "[encoded data removed]",
      "text/plain": [
       "<Figure size 1152x1080 with 5 Axes>"
      ]
     },
     "metadata": {},
     "output_type": "display_data"
    }
   ],
   "source": [
    "# цикл для проверки данных на выбросы из статьи: \n",
    "# построит для всех признаков формата int и float ящики с усами:\n",
    "\n",
    "i = 1\n",
    "plt.figure(figsize=(16,15))\n",
    "for col_name in list(df.columns):\n",
    "    if((df[col_name].dtypes=='int64' or df[col_name].dtypes=='float64') and col_name != 'charges'):\n",
    "        plt.subplot(3,3, i)\n",
    "        plt.boxplot(df[col_name])\n",
    "        plt.xlabel(col_name)\n",
    "        plt.ylabel('count')\n",
    "        plt.title(f\"Box plot for {col_name}\")\n",
    "        i += 1\n",
    "plt.show()"
   ]
  },
  {
   "cell_type": "markdown",
   "metadata": {},
   "source": [
    "## Умножение матриц"
   ]
  },
  {
   "cell_type": "markdown",
   "metadata": {},
   "source": [
    "В этом задании вы можете записывать формулы в *Jupyter Notebook.*\n",
    "\n",
    "Чтобы записать формулу внутри текста, окружите её символами доллара \\\\$; если снаружи —  двойными символами \\\\$\\\\$. Эти формулы записываются на языке вёрстки *LaTeX.* \n",
    "\n",
    "Для примера мы записали формулы линейной регрессии. Можете их скопировать и отредактировать, чтобы решить задачу.\n",
    "\n",
    "Работать в *LaTeX* необязательно."
   ]
  },
  {
   "cell_type": "markdown",
   "metadata": {},
   "source": [
    "Обозначения:\n",
    "\n",
    "- $X$ — матрица признаков (нулевой столбец состоит из единиц)\n",
    "\n",
    "- $y$ — вектор целевого признака\n",
    "\n",
    "- $P$ — матрица, на которую умножаются признаки\n",
    "\n",
    "- $w$ — вектор весов линейной регрессии (нулевой элемент равен сдвигу)"
   ]
  },
  {
   "cell_type": "markdown",
   "metadata": {},
   "source": [
    "Предсказания:\n",
    "\n",
    "$$\n",
    "a = Xw\n",
    "$$\n",
    "\n",
    "Задача обучения:\n",
    "\n",
    "$$\n",
    "w = \\arg\\min_w MSE(Xw, y)\n",
    "$$\n",
    "\n",
    "Формула обучения:\n",
    "\n",
    "$$\n",
    "w = (X^T X)^{-1} X^T y\n",
    "$$"
   ]
  },
  {
   "cell_type": "markdown",
   "metadata": {},
   "source": [
    "**Ответ:** Если признаки умножаются на обратимую матрицу, результаты предсказания линейной регрессии не меняются.\n",
    "\n",
    "**Обоснование:**\n",
    "\n",
    "Для модели на преобразованных признаках (признаки умноженные на обратимую квадратную матрицу,размер которой равен размеру признаков). Предсказания:\n",
    "\n",
    "$$\n",
    "a' = X'w = (XP)w'\n",
    "$$\n",
    "Где $P$ - обратимая квадратная матрица. <br>\n",
    "Нужно доказать, что $a = a'$ \n",
    "<br><br>\n",
    "Запишем формулу для $w'$\n",
    "\n",
    "$$\n",
    "w' = ((XP)^T (XP)) ^{-1} (XP)^T y\n",
    "$$\n",
    "\n",
    "Раскроем скобки используя свойства операций над матрицами (определение обратной матрицы $A*A^{-1} = E$, а также свойство единичной матрицы $A*E = A$). Поскольку матрица признаков $X$ в общем (и данном) случае прямоугольная, для неё не существует обратной матрицы. Значит не стоит раскрывать скобки так, чтобы возникала операция поиска ($X^{-1}$). \n",
    "\n",
    "$$\n",
    "w' = ((XP)^T (XP)) ^{-1} (XP)^T y\n",
    "$$\n",
    "<br><br>\n",
    "$$\n",
    "w' = (P^T*X^T*X*P) ^{-1} *P^T* X^T* y\n",
    "$$\n",
    "<br><br>\n",
    "Обратим часть множителей из скобок обращения, чтобы в скобках осталось $(X^T X)^{-1}$ :\n",
    "<br><br>\n",
    "$$\n",
    "w' = (P^T)^{-1} * (X^T*X)^{-1} *P^{-1} *P^T* X^T* y\n",
    "$$\n",
    "<br><br>\n",
    "По определению обратной матрицы $(P^T)^{-1}*P^T = E$, т.е. единичная матрица, умножение на которую ничего не меняет, соответственно ее можно исключить из уравнения. Остаенется:\n",
    "<br><br>\n",
    "$$\n",
    "w' = (X^T*X)^{-1}* X^T* y * P^{-1}\n",
    "$$\n",
    "<br><br>\n",
    "Поскольку $w = (X^T X)^{-1} * X^T * y$, уравнение выше можно переписать так:\n",
    "<br><br>\n",
    "$$\n",
    "w' = P^{-1}*w\n",
    "$$\n",
    "<br><br>\n",
    "Подставляем новое уравнение для $w'$ в формулу для $a' = (XP)w'$, получаем:\n",
    "<br><br>\n",
    "$$\n",
    "a' = (XP)* P^{-1}*w\n",
    "$$\n",
    "<br><br>\n",
    "Раскрываем скобки: $P*P^{-1} = E$ по определению обратной матрицы, остается:\n",
    "<br><br>\n",
    "$$\n",
    "a' = X*w = a\n",
    "$$\n",
    "<br><br>\n",
    "Предсказания линейной регрессии на признаках до умножения на обратимую квадратную матрицу размер которой равен количеству признаков и после не будут отличаться. Значит и R2 будет тот же.  "
   ]
  },
  {
   "cell_type": "markdown",
   "metadata": {},
   "source": [
    "## Алгоритм преобразования"
   ]
  },
  {
   "cell_type": "markdown",
   "metadata": {},
   "source": [
    "**Алгоритм**<br><br>\n",
    "Данные клиентов преобразуются в прямоугольную матрицу и умножаются на обратимую квадратную матрицу, размер которой равен количеству признаков клиентов.<br><br>\n",
    "Чтобы генерируемая матрица наверняка была обратимой ее необходимо сгенерировать случайно, указав в качестве аргументов размера матрицы - ширину матрицы с клиентскими данными (т.е. количество признаков в ней).<br><br>\n",
    "В алгоритм также необходимо добавить проверку на обратимость генерируемой матрицы (хоть это и крайне маловероятно). Его можно выполнить через определение обратимой матрицы $A*A^{-1} = E$ : произведение даст единичную квадратную матрицу с теми же размерами, что у сгенерированной обратичной. \n",
    "<br><br>\n",
    "Если случайно сгенерированная квадратная матрица оказалась необратимой, необходимо повторить генерирование и проверку до тех пор, пока сгенерированная матрица не окажется обратимой. \n",
    "<br><br>\n",
    "Алгоритм преобразования можно записать в виде функции ниже:"
   ]
  },
  {
   "cell_type": "code",
   "execution_count": 9,
   "metadata": {},
   "outputs": [],
   "source": [
    "# алгоритм преобразования фичей\n",
    "def cripto(features):\n",
    "    features = features.values\n",
    "    m = np.random.random((features.shape[1], features.shape[1]))\n",
    "    m_inv = np.linalg.inv(m)\n",
    "    if np.allclose(np.dot(m, m_inv), np.eye(m.shape[0])) == True: # если произведение обратной матрицы на саму \n",
    "        return features @ m\n",
    "    else: \n",
    "        return 'сгенерированная случайная квадратная матрица оказалась необратимой' "
   ]
  },
  {
   "cell_type": "code",
   "execution_count": 10,
   "metadata": {},
   "outputs": [],
   "source": [
    "# через while должно быть как-то так:\n",
    "\n",
    "def cripto_2(features):\n",
    "    features = features.values\n",
    "    m = np.random.random((features.shape[1], features.shape[1]))\n",
    "    while np.allclose(np.dot(m, np.linalg.inv(m)), np.eye(m.shape[0])) == False: # если не обратимая \n",
    "        m = np.random.random((features.shape[1], features.shape[1])) # генерируй снова\n",
    "    else: \n",
    "        return features @ m\n"
   ]
  },
  {
   "cell_type": "markdown",
   "metadata": {},
   "source": [
    "**Обоснование**\n",
    "<br><br>\n",
    "Из формул и обоснования выше следует, что, если признаки умножаются на обратимую матрицу, результаты предсказания линейной регрессии не меняются. Меняются только данные клиентов. Это и делаем. "
   ]
  },
  {
   "cell_type": "markdown",
   "metadata": {},
   "source": [
    "## Проверка алгоритма"
   ]
  },
  {
   "cell_type": "code",
   "execution_count": 23,
   "metadata": {},
   "outputs": [
    {
     "name": "stdout",
     "output_type": "stream",
     "text": [
      "R2 линейной регрессии до изменения признаков 0.42494550308169177\n"
     ]
    }
   ],
   "source": [
    "# посчитаем R2 линейной регрессии до преобразования фичей\n",
    "model1 = LinearRegression()\n",
    "model1.fit(features, target)\n",
    "predictions = model1.predict(features)\n",
    "\n",
    "print('R2 линейной регрессии до изменения признаков', r2_score(target, predictions))"
   ]
  },
  {
   "cell_type": "code",
   "execution_count": 31,
   "metadata": {
    "scrolled": true
   },
   "outputs": [
    {
     "name": "stdout",
     "output_type": "stream",
     "text": [
      "коэффициенты при переменных в модели до изменения признаков [ 7.92580563e-03  3.57083050e-02 -1.70081903e-07 -1.35676627e-02]\n"
     ]
    }
   ],
   "source": [
    "print('коэффициенты при переменных в модели до изменения признаков', model1.coef_)"
   ]
  },
  {
   "cell_type": "code",
   "execution_count": 37,
   "metadata": {},
   "outputs": [
    {
     "name": "stdout",
     "output_type": "stream",
     "text": [
      "   sex  age   wage  family  insurance\n",
      "0    1   41  49600       1          0\n",
      "1    0   46  38000       1          1\n",
      "2    0   29  21000       0          0\n",
      "3    0   21  41700       2          0\n",
      "4    1   28  26100       0          0\n"
     ]
    }
   ],
   "source": [
    "# вспомним новые названия признаков\n",
    "print(df.head())"
   ]
  },
  {
   "cell_type": "code",
   "execution_count": 38,
   "metadata": {},
   "outputs": [
    {
     "name": "stdout",
     "output_type": "stream",
     "text": [
      "                            OLS Regression Results                            \n",
      "==============================================================================\n",
      "Dep. Variable:              insurance   R-squared:                       0.425\n",
      "Model:                            OLS   Adj. R-squared:                  0.424\n",
      "Method:                 Least Squares   F-statistic:                     922.8\n",
      "Date:                Mon, 06 Feb 2023   Prob (F-statistic):               0.00\n",
      "Time:                        08:40:29   Log-Likelihood:                -1862.8\n",
      "No. Observations:                5000   AIC:                             3736.\n",
      "Df Residuals:                    4995   BIC:                             3768.\n",
      "Df Model:                           4                                         \n",
      "Covariance Type:            nonrobust                                         \n",
      "==============================================================================\n",
      "                 coef    std err          t      P>|t|      [0.025      0.975]\n",
      "------------------------------------------------------------------------------\n",
      "const         -0.9382      0.029    -32.516      0.000      -0.995      -0.882\n",
      "sex            0.0079      0.010      0.797      0.425      -0.012       0.027\n",
      "age            0.0357      0.001     60.635      0.000       0.035       0.037\n",
      "wage       -1.701e-07   5.02e-07     -0.339      0.735   -1.15e-06    8.15e-07\n",
      "family        -0.0136      0.005     -2.978      0.003      -0.022      -0.005\n",
      "==============================================================================\n",
      "Omnibus:                     2559.675   Durbin-Watson:                   1.963\n",
      "Prob(Omnibus):                  0.000   Jarque-Bera (JB):            32226.307\n",
      "Skew:                           2.146   Prob(JB):                         0.00\n",
      "Kurtosis:                      14.673   Cond. No.                     2.39e+05\n",
      "==============================================================================\n",
      "\n",
      "Notes:\n",
      "[1] Standard Errors assume that the covariance matrix of the errors is correctly specified.\n",
      "[2] The condition number is large, 2.39e+05. This might indicate that there are\n",
      "strong multicollinearity or other numerical problems.\n"
     ]
    }
   ],
   "source": [
    "import statsmodels.api as sm\n",
    "from scipy import stats\n",
    "\n",
    "X = df.drop('insurance', axis=1)\n",
    "y = df['insurance']\n",
    "\n",
    "X2 = sm.add_constant(X) \n",
    "est = sm.OLS(y, X2)\n",
    "est2 = est.fit()\n",
    "print(est2.summary())"
   ]
  },
  {
   "cell_type": "code",
   "execution_count": 32,
   "metadata": {},
   "outputs": [],
   "source": [
    "# получили новые фичи зашифрованные в виде матрицы c помощью функции \n",
    "new_features = cripto(features)"
   ]
  },
  {
   "cell_type": "code",
   "execution_count": 33,
   "metadata": {},
   "outputs": [],
   "source": [
    "new_features = cripto_2(features)"
   ]
  },
  {
   "cell_type": "code",
   "execution_count": 34,
   "metadata": {},
   "outputs": [
    {
     "name": "stdout",
     "output_type": "stream",
     "text": [
      "R2 линейной регрессии после изменения признаков 0.42494550308169565\n"
     ]
    }
   ],
   "source": [
    "# посчитаем R2 линейной регрессии после преобразования фичей\n",
    "model2 = LinearRegression()\n",
    "model2.fit(new_features, target)\n",
    "predictions = model2.predict(new_features)\n",
    "\n",
    "print('R2 линейной регрессии после изменения признаков', r2_score(target, predictions))"
   ]
  },
  {
   "cell_type": "code",
   "execution_count": 35,
   "metadata": {},
   "outputs": [
    {
     "name": "stdout",
     "output_type": "stream",
     "text": [
      "коэффициенты при переменных в модели до изменения признаков [-0.13710392 -0.08814385  0.09447209  0.04751688]\n"
     ]
    }
   ],
   "source": [
    "print('коэффициенты при переменных в модели до изменения признаков', model2.coef_)"
   ]
  },
  {
   "cell_type": "markdown",
   "metadata": {},
   "source": [
    "**Вывод:** \n",
    "<br><br>\n",
    "Получили данные клиентов страховой компании в форме датафрейма.\n",
    "<br><br>\n",
    "Разработали метод преобразования данных, чтобы по ним было сложно восстановить персональную информацию.\n",
    "<br><br>\n",
    "**Алгоритм преобразования**<br><br>\n",
    "Данные клиентов преобразуются в прямоугольную матрицу.  Полученная матрица умножается на генерируемую обратимую квадратную матрицу, размер которой равен количеству признаков клиентов.<br><br>\n",
    "Чтобы генерируемая матрица наверняка была обратимой ее необходимо сгенерировать случайно, указав в качестве аргументов размера матрицы - ширину матрицы с клиентскими данными (т.е. количество признаков в ней).<br><br>\n",
    "В алгоритм добавлена проверка на обратимость генерируемой матрицы. Если случайно сгенерированная квадратная матрица оказалась необратимой, необходимо повторить генерирование и проверка на обратимость происходят до тех пор, пока сгенерированная матрица не окажется обратимой.<br><br>\n",
    "Применимость такого алгоритма обоснована теоретически и эмпирически.<br><br>\n",
    "R2 линейной регрессии предсказывающей размер страховых выплат до преобразования признаков и поле преобразования - один и тот же 0.424.<br><br>\n",
    "Однако коэффициенты в уравнении линейной регресси при признаках после их изменения становятся не интерпретируемыми (отличаются от тех, которые были до изменения признаков).\n",
    "<br><br>"
   ]
  }
 ],
 "metadata": {
  "ExecuteTimeLog": [
   {
    "duration": 45,
    "start_time": "2023-02-02T11:39:50.205Z"
   },
   {
    "duration": 1413,
    "start_time": "2023-02-02T11:39:57.883Z"
   },
   {
    "duration": 103,
    "start_time": "2023-02-02T11:40:01.721Z"
   },
   {
    "duration": 89,
    "start_time": "2023-02-02T11:40:42.941Z"
   },
   {
    "duration": 15,
    "start_time": "2023-02-02T11:41:17.513Z"
   },
   {
    "duration": 12,
    "start_time": "2023-02-02T11:42:37.158Z"
   },
   {
    "duration": 5,
    "start_time": "2023-02-02T11:46:49.724Z"
   },
   {
    "duration": 10,
    "start_time": "2023-02-02T11:47:26.943Z"
   },
   {
    "duration": 20,
    "start_time": "2023-02-02T11:47:35.933Z"
   },
   {
    "duration": 1719,
    "start_time": "2023-02-03T08:58:39.011Z"
   },
   {
    "duration": 91,
    "start_time": "2023-02-03T08:58:40.732Z"
   },
   {
    "duration": 15,
    "start_time": "2023-02-03T08:58:40.826Z"
   },
   {
    "duration": 12,
    "start_time": "2023-02-03T08:58:40.844Z"
   },
   {
    "duration": 6,
    "start_time": "2023-02-03T08:58:40.858Z"
   },
   {
    "duration": 41,
    "start_time": "2023-02-03T08:58:40.865Z"
   },
   {
    "duration": 5,
    "start_time": "2023-02-03T08:58:40.928Z"
   },
   {
    "duration": 28,
    "start_time": "2023-02-03T09:04:01.611Z"
   },
   {
    "duration": 3,
    "start_time": "2023-02-03T09:04:49.775Z"
   },
   {
    "duration": 170,
    "start_time": "2023-02-03T09:05:32.310Z"
   },
   {
    "duration": 4,
    "start_time": "2023-02-03T09:05:57.497Z"
   },
   {
    "duration": 19,
    "start_time": "2023-02-03T09:07:11.256Z"
   },
   {
    "duration": 10,
    "start_time": "2023-02-03T09:08:49.593Z"
   },
   {
    "duration": 3,
    "start_time": "2023-02-03T09:20:28.910Z"
   },
   {
    "duration": 1385,
    "start_time": "2023-02-03T09:33:04.226Z"
   },
   {
    "duration": 29,
    "start_time": "2023-02-03T09:33:05.613Z"
   },
   {
    "duration": 16,
    "start_time": "2023-02-03T09:33:05.644Z"
   },
   {
    "duration": 11,
    "start_time": "2023-02-03T09:33:05.662Z"
   },
   {
    "duration": 5,
    "start_time": "2023-02-03T09:33:05.675Z"
   },
   {
    "duration": 30,
    "start_time": "2023-02-03T09:33:05.681Z"
   },
   {
    "duration": 14,
    "start_time": "2023-02-03T09:33:05.713Z"
   },
   {
    "duration": 21,
    "start_time": "2023-02-03T09:33:05.728Z"
   },
   {
    "duration": 18,
    "start_time": "2023-02-03T09:33:05.751Z"
   },
   {
    "duration": 160,
    "start_time": "2023-02-03T09:33:05.772Z"
   },
   {
    "duration": 282,
    "start_time": "2023-02-03T09:33:05.934Z"
   },
   {
    "duration": 14,
    "start_time": "2023-02-03T09:33:49.118Z"
   },
   {
    "duration": 6,
    "start_time": "2023-02-03T09:34:12.658Z"
   },
   {
    "duration": 2475,
    "start_time": "2023-02-03T09:58:28.345Z"
   },
   {
    "duration": 87,
    "start_time": "2023-02-03T09:58:30.822Z"
   },
   {
    "duration": 15,
    "start_time": "2023-02-03T09:58:30.911Z"
   },
   {
    "duration": 25,
    "start_time": "2023-02-03T09:58:30.928Z"
   },
   {
    "duration": 4,
    "start_time": "2023-02-03T09:58:30.955Z"
   },
   {
    "duration": 31,
    "start_time": "2023-02-03T09:58:30.961Z"
   },
   {
    "duration": 3,
    "start_time": "2023-02-03T09:58:30.994Z"
   },
   {
    "duration": 12,
    "start_time": "2023-02-03T09:58:30.999Z"
   },
   {
    "duration": 35,
    "start_time": "2023-02-03T09:58:31.013Z"
   },
   {
    "duration": 110,
    "start_time": "2023-02-03T09:58:31.126Z"
   },
   {
    "duration": 24,
    "start_time": "2023-02-03T09:58:31.238Z"
   },
   {
    "duration": 97,
    "start_time": "2023-02-03T14:39:42.944Z"
   },
   {
    "duration": 9,
    "start_time": "2023-02-04T14:35:39.086Z"
   },
   {
    "duration": 1375,
    "start_time": "2023-02-04T14:35:56.173Z"
   },
   {
    "duration": 126,
    "start_time": "2023-02-04T14:35:57.550Z"
   },
   {
    "duration": 16,
    "start_time": "2023-02-04T14:35:57.677Z"
   },
   {
    "duration": 11,
    "start_time": "2023-02-04T14:35:57.694Z"
   },
   {
    "duration": 7,
    "start_time": "2023-02-04T14:35:57.707Z"
   },
   {
    "duration": 28,
    "start_time": "2023-02-04T14:35:57.716Z"
   },
   {
    "duration": 4,
    "start_time": "2023-02-04T14:35:57.746Z"
   },
   {
    "duration": 4,
    "start_time": "2023-02-04T14:36:14.265Z"
   },
   {
    "duration": 10,
    "start_time": "2023-02-04T14:43:53.873Z"
   },
   {
    "duration": 4,
    "start_time": "2023-02-04T14:44:54.097Z"
   },
   {
    "duration": 15,
    "start_time": "2023-02-04T14:44:59.786Z"
   },
   {
    "duration": 1521,
    "start_time": "2023-02-06T07:02:50.629Z"
   },
   {
    "duration": 89,
    "start_time": "2023-02-06T07:02:52.152Z"
   },
   {
    "duration": 14,
    "start_time": "2023-02-06T07:02:52.243Z"
   },
   {
    "duration": 24,
    "start_time": "2023-02-06T07:02:52.259Z"
   },
   {
    "duration": 6,
    "start_time": "2023-02-06T07:02:52.285Z"
   },
   {
    "duration": 32,
    "start_time": "2023-02-06T07:02:52.292Z"
   },
   {
    "duration": 4,
    "start_time": "2023-02-06T07:02:52.326Z"
   },
   {
    "duration": 463,
    "start_time": "2023-02-06T07:02:52.331Z"
   },
   {
    "duration": 3,
    "start_time": "2023-02-06T07:02:52.796Z"
   },
   {
    "duration": 10,
    "start_time": "2023-02-06T07:02:52.802Z"
   },
   {
    "duration": 18,
    "start_time": "2023-02-06T07:02:52.814Z"
   },
   {
    "duration": 150,
    "start_time": "2023-02-06T07:02:52.834Z"
   },
   {
    "duration": 14,
    "start_time": "2023-02-06T07:02:52.986Z"
   },
   {
    "duration": 101,
    "start_time": "2023-02-06T07:02:53.002Z"
   },
   {
    "duration": 33858,
    "start_time": "2023-02-06T07:27:32.481Z"
   },
   {
    "duration": 19,
    "start_time": "2023-02-06T07:31:04.232Z"
   },
   {
    "duration": 85,
    "start_time": "2023-02-06T07:31:44.083Z"
   },
   {
    "duration": 606,
    "start_time": "2023-02-06T07:34:01.866Z"
   },
   {
    "duration": 471,
    "start_time": "2023-02-06T07:34:36.368Z"
   },
   {
    "duration": 400,
    "start_time": "2023-02-06T07:41:26.323Z"
   },
   {
    "duration": 150,
    "start_time": "2023-02-06T07:48:08.518Z"
   },
   {
    "duration": 38,
    "start_time": "2023-02-06T08:00:59.811Z"
   },
   {
    "duration": 127,
    "start_time": "2023-02-06T08:12:55.461Z"
   },
   {
    "duration": 9,
    "start_time": "2023-02-06T08:13:14.818Z"
   },
   {
    "duration": 7,
    "start_time": "2023-02-06T08:18:17.088Z"
   },
   {
    "duration": 8,
    "start_time": "2023-02-06T08:18:26.480Z"
   },
   {
    "duration": 3,
    "start_time": "2023-02-06T08:20:06.514Z"
   },
   {
    "duration": 8,
    "start_time": "2023-02-06T08:20:33.522Z"
   },
   {
    "duration": 107,
    "start_time": "2023-02-06T08:21:17.883Z"
   },
   {
    "duration": 4,
    "start_time": "2023-02-06T08:27:29.572Z"
   },
   {
    "duration": 3,
    "start_time": "2023-02-06T08:29:07.161Z"
   },
   {
    "duration": 4,
    "start_time": "2023-02-06T08:29:49.854Z"
   },
   {
    "duration": 4,
    "start_time": "2023-02-06T08:29:50.189Z"
   },
   {
    "duration": 15,
    "start_time": "2023-02-06T08:29:54.451Z"
   },
   {
    "duration": 4,
    "start_time": "2023-02-06T08:29:57.347Z"
   },
   {
    "duration": 6,
    "start_time": "2023-02-06T08:39:35.478Z"
   },
   {
    "duration": 5,
    "start_time": "2023-02-06T08:39:40.170Z"
   },
   {
    "duration": 453,
    "start_time": "2023-02-06T08:40:29.033Z"
   },
   {
    "duration": 33,
    "start_time": "2023-02-06T09:05:00.359Z"
   },
   {
    "duration": 590,
    "start_time": "2023-02-06T09:33:21.186Z"
   },
   {
    "duration": 46,
    "start_time": "2023-02-06T10:07:13.055Z"
   }
  ],
  "kernelspec": {
   "display_name": "Python 3",
   "language": "python",
   "name": "python3"
  },
  "language_info": {
   "codemirror_mode": {
    "name": "ipython",
    "version": 3
   },
   "file_extension": ".py",
   "mimetype": "text/x-python",
   "name": "python",
   "nbconvert_exporter": "python",
   "pygments_lexer": "ipython3",
   "version": "3.8.5"
  },
  "toc": {
   "base_numbering": 1,
   "nav_menu": {},
   "number_sections": true,
   "sideBar": true,
   "skip_h1_title": true,
   "title_cell": "Содержание",
   "title_sidebar": "Contents",
   "toc_cell": true,
   "toc_position": {},
   "toc_section_display": true,
   "toc_window_display": false
  }
 },
 "nbformat": 4,
 "nbformat_minor": 2
}
